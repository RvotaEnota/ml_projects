{
 "cells": [
  {
   "cell_type": "markdown",
   "id": "efeee0a5-5b76-4e4e-905e-eae0cc117672",
   "metadata": {},
   "source": [
    "# Проект: Статистический анализ данных\r\n",
    "\r\n",
    "Представлены данные с сервиса аренды самокатов GoFast, в виде 3 датафреймов: данные пользователя, информация о поездках и виды подписок. \r\n",
    "План: \r\n",
    "- Изучить данные с сервиса аренды самокатов GoFast\r\n",
    "- Выполнить предобработку данных, привести данные в оптимальные форматы, проверить пропуски и дубликаты\r\n",
    "- Провести исследовательский анализ\r\n",
    "- Добавить необходимые столбцы для проверки гипотез\r\n",
    "\r\n",
    "Основная цель проекта - проверить гипотезы, которые могут помочь бизнесу вырасти, а именно:\r\n",
    "- Как распределено время поездок пользователей, уделяют ли пользователи с подпиской больше времени пользованию самокатом.\r\n",
    "- Верно ли утверждение, что среднее расстояние, которое проезжают пользователи с подпиской за одну поездку не превышает 3130 метров.\r\n",
    "- Будет ли помесячная выручка от пользователей с подпиской по месяцам выше, чем выручка от пользователей без подписки.\r\n",
    "\r\n",
    "Сервис предполагает 2 вида пользования - по подписке и без нее: \r\n",
    "1. без подписки:\r\n",
    "- абонентская плата отсутствует;\r\n",
    "- стоимость одной минуты поездки — 8 рублей;\r\n",
    "- стоимость старта (начала поездки) — 50 рублей;\r\n",
    "2. с подпиской Ultra:\r\n",
    "- абонентская плата — 199 рублей в месяц;\r\n",
    "- стоимость одной минуты поездки — 6 рублей;\r\n",
    "- стоимость старта — бесплатно."
   ]
  },
  {
   "cell_type": "markdown",
   "id": "8c3f2a0c-fbf9-4cb7-b889-4ba57d00031b",
   "metadata": {},
   "source": [
    "## Шаг. Загрузка данных"
   ]
  },
  {
   "cell_type": "code",
   "execution_count": 5,
   "id": "da51bf9d-2e6a-4851-ad21-d8eee804acea",
   "metadata": {},
   "outputs": [],
   "source": [
    "import pandas as pd\n",
    "import matplotlib.pyplot as plt\n",
    "import numpy as np\n",
    "from scipy import stats as st\n",
    "from math import factorial\n",
    "from scipy.stats import binom"
   ]
  },
  {
   "cell_type": "code",
   "execution_count": 6,
   "id": "6d2bf777-d0f1-48bc-a266-8d5aa5159551",
   "metadata": {},
   "outputs": [],
   "source": [
    "#Читаем датасеты\n",
    "users = pd.read_csv('/datasets/users_go.csv')\n",
    "rides = pd.read_csv('/datasets/rides_go.csv')\n",
    "subscription = pd.read_csv('/datasets/subscriptions_go.csv')"
   ]
  },
  {
   "cell_type": "code",
   "execution_count": 7,
   "id": "649fca5d-6afb-43e6-a487-2e6963629948",
   "metadata": {},
   "outputs": [
    {
     "data": {
      "text/html": [
       "<div>\n",
       "<style scoped>\n",
       "    .dataframe tbody tr th:only-of-type {\n",
       "        vertical-align: middle;\n",
       "    }\n",
       "\n",
       "    .dataframe tbody tr th {\n",
       "        vertical-align: top;\n",
       "    }\n",
       "\n",
       "    .dataframe thead th {\n",
       "        text-align: right;\n",
       "    }\n",
       "</style>\n",
       "<table border=\"1\" class=\"dataframe\">\n",
       "  <thead>\n",
       "    <tr style=\"text-align: right;\">\n",
       "      <th></th>\n",
       "      <th>user_id</th>\n",
       "      <th>name</th>\n",
       "      <th>age</th>\n",
       "      <th>city</th>\n",
       "      <th>subscription_type</th>\n",
       "    </tr>\n",
       "  </thead>\n",
       "  <tbody>\n",
       "    <tr>\n",
       "      <th>0</th>\n",
       "      <td>1</td>\n",
       "      <td>Кира</td>\n",
       "      <td>22</td>\n",
       "      <td>Тюмень</td>\n",
       "      <td>ultra</td>\n",
       "    </tr>\n",
       "    <tr>\n",
       "      <th>1</th>\n",
       "      <td>2</td>\n",
       "      <td>Станислав</td>\n",
       "      <td>31</td>\n",
       "      <td>Омск</td>\n",
       "      <td>ultra</td>\n",
       "    </tr>\n",
       "    <tr>\n",
       "      <th>2</th>\n",
       "      <td>3</td>\n",
       "      <td>Алексей</td>\n",
       "      <td>20</td>\n",
       "      <td>Москва</td>\n",
       "      <td>ultra</td>\n",
       "    </tr>\n",
       "  </tbody>\n",
       "</table>\n",
       "</div>"
      ],
      "text/plain": [
       "   user_id       name  age    city subscription_type\n",
       "0        1       Кира   22  Тюмень             ultra\n",
       "1        2  Станислав   31    Омск             ultra\n",
       "2        3    Алексей   20  Москва             ultra"
      ]
     },
     "execution_count": 7,
     "metadata": {},
     "output_type": "execute_result"
    }
   ],
   "source": [
    "users.head(3)"
   ]
  },
  {
   "cell_type": "code",
   "execution_count": 8,
   "id": "5e1c8f9d-b650-43ff-9d48-767eb642f248",
   "metadata": {},
   "outputs": [
    {
     "name": "stdout",
     "output_type": "stream",
     "text": [
      "<class 'pandas.core.frame.DataFrame'>\n",
      "RangeIndex: 1565 entries, 0 to 1564\n",
      "Data columns (total 5 columns):\n",
      " #   Column             Non-Null Count  Dtype \n",
      "---  ------             --------------  ----- \n",
      " 0   user_id            1565 non-null   int64 \n",
      " 1   name               1565 non-null   object\n",
      " 2   age                1565 non-null   int64 \n",
      " 3   city               1565 non-null   object\n",
      " 4   subscription_type  1565 non-null   object\n",
      "dtypes: int64(2), object(3)\n",
      "memory usage: 61.3+ KB\n"
     ]
    }
   ],
   "source": [
    "users.info()"
   ]
  },
  {
   "cell_type": "code",
   "execution_count": 9,
   "id": "3b783216-90cf-4cb6-a890-b3103a3afbb4",
   "metadata": {},
   "outputs": [
    {
     "data": {
      "text/html": [
       "<div>\n",
       "<style scoped>\n",
       "    .dataframe tbody tr th:only-of-type {\n",
       "        vertical-align: middle;\n",
       "    }\n",
       "\n",
       "    .dataframe tbody tr th {\n",
       "        vertical-align: top;\n",
       "    }\n",
       "\n",
       "    .dataframe thead th {\n",
       "        text-align: right;\n",
       "    }\n",
       "</style>\n",
       "<table border=\"1\" class=\"dataframe\">\n",
       "  <thead>\n",
       "    <tr style=\"text-align: right;\">\n",
       "      <th></th>\n",
       "      <th>user_id</th>\n",
       "      <th>distance</th>\n",
       "      <th>duration</th>\n",
       "      <th>date</th>\n",
       "    </tr>\n",
       "  </thead>\n",
       "  <tbody>\n",
       "    <tr>\n",
       "      <th>0</th>\n",
       "      <td>1</td>\n",
       "      <td>4409.919140</td>\n",
       "      <td>25.599769</td>\n",
       "      <td>2021-01-01</td>\n",
       "    </tr>\n",
       "    <tr>\n",
       "      <th>1</th>\n",
       "      <td>1</td>\n",
       "      <td>2617.592153</td>\n",
       "      <td>15.816871</td>\n",
       "      <td>2021-01-18</td>\n",
       "    </tr>\n",
       "    <tr>\n",
       "      <th>2</th>\n",
       "      <td>1</td>\n",
       "      <td>754.159807</td>\n",
       "      <td>6.232113</td>\n",
       "      <td>2021-04-20</td>\n",
       "    </tr>\n",
       "  </tbody>\n",
       "</table>\n",
       "</div>"
      ],
      "text/plain": [
       "   user_id     distance   duration        date\n",
       "0        1  4409.919140  25.599769  2021-01-01\n",
       "1        1  2617.592153  15.816871  2021-01-18\n",
       "2        1   754.159807   6.232113  2021-04-20"
      ]
     },
     "execution_count": 9,
     "metadata": {},
     "output_type": "execute_result"
    }
   ],
   "source": [
    "rides.head(3)"
   ]
  },
  {
   "cell_type": "code",
   "execution_count": 13,
   "id": "1409c66a-9c35-4448-8c19-35e25487f8a8",
   "metadata": {},
   "outputs": [
    {
     "name": "stdout",
     "output_type": "stream",
     "text": [
      "<class 'pandas.core.frame.DataFrame'>\n",
      "RangeIndex: 18068 entries, 0 to 18067\n",
      "Data columns (total 4 columns):\n",
      " #   Column    Non-Null Count  Dtype  \n",
      "---  ------    --------------  -----  \n",
      " 0   user_id   18068 non-null  int64  \n",
      " 1   distance  18068 non-null  float64\n",
      " 2   duration  18068 non-null  float64\n",
      " 3   date      18068 non-null  object \n",
      "dtypes: float64(2), int64(1), object(1)\n",
      "memory usage: 564.8+ KB\n"
     ]
    }
   ],
   "source": [
    "rides.info()"
   ]
  },
  {
   "cell_type": "code",
   "execution_count": 11,
   "id": "46faf223-54fd-4fd9-8b8e-c92675f29a6b",
   "metadata": {},
   "outputs": [
    {
     "data": {
      "text/html": [
       "<div>\n",
       "<style scoped>\n",
       "    .dataframe tbody tr th:only-of-type {\n",
       "        vertical-align: middle;\n",
       "    }\n",
       "\n",
       "    .dataframe tbody tr th {\n",
       "        vertical-align: top;\n",
       "    }\n",
       "\n",
       "    .dataframe thead th {\n",
       "        text-align: right;\n",
       "    }\n",
       "</style>\n",
       "<table border=\"1\" class=\"dataframe\">\n",
       "  <thead>\n",
       "    <tr style=\"text-align: right;\">\n",
       "      <th></th>\n",
       "      <th>subscription_type</th>\n",
       "      <th>minute_price</th>\n",
       "      <th>start_ride_price</th>\n",
       "      <th>subscription_fee</th>\n",
       "    </tr>\n",
       "  </thead>\n",
       "  <tbody>\n",
       "    <tr>\n",
       "      <th>0</th>\n",
       "      <td>free</td>\n",
       "      <td>8</td>\n",
       "      <td>50</td>\n",
       "      <td>0</td>\n",
       "    </tr>\n",
       "    <tr>\n",
       "      <th>1</th>\n",
       "      <td>ultra</td>\n",
       "      <td>6</td>\n",
       "      <td>0</td>\n",
       "      <td>199</td>\n",
       "    </tr>\n",
       "  </tbody>\n",
       "</table>\n",
       "</div>"
      ],
      "text/plain": [
       "  subscription_type  minute_price  start_ride_price  subscription_fee\n",
       "0              free             8                50                 0\n",
       "1             ultra             6                 0               199"
      ]
     },
     "execution_count": 11,
     "metadata": {},
     "output_type": "execute_result"
    }
   ],
   "source": [
    "subscription.head(3)"
   ]
  },
  {
   "cell_type": "code",
   "execution_count": 12,
   "id": "aecf1d97-52dc-4e70-a487-ef91e07b1400",
   "metadata": {},
   "outputs": [
    {
     "name": "stdout",
     "output_type": "stream",
     "text": [
      "<class 'pandas.core.frame.DataFrame'>\n",
      "RangeIndex: 2 entries, 0 to 1\n",
      "Data columns (total 4 columns):\n",
      " #   Column             Non-Null Count  Dtype \n",
      "---  ------             --------------  ----- \n",
      " 0   subscription_type  2 non-null      object\n",
      " 1   minute_price       2 non-null      int64 \n",
      " 2   start_ride_price   2 non-null      int64 \n",
      " 3   subscription_fee   2 non-null      int64 \n",
      "dtypes: int64(3), object(1)\n",
      "memory usage: 196.0+ bytes\n"
     ]
    }
   ],
   "source": [
    "subscription.info()"
   ]
  },
  {
   "cell_type": "markdown",
   "id": "078f3917-ac3d-496a-9a4e-134db8f48531",
   "metadata": {},
   "source": [
    "Вывод разведовательного анализа: \n",
    "- В датафреймах отсутствуют пропуски. \n",
    "- Данные имеют оптимальные форматы, кроме ```date``` в датафрейме ```rides```.\n",
    "\n",
    "\n",
    "\n",
    "1. В ```users``` представлена информация о пользователях:\n",
    "\n",
    "```user_id``` -\tуникальный идентификатор пользователя;\n",
    "```name``` -\tимя пользователя;\n",
    "```age``` - возраст;\n",
    "```city``` - город;\n",
    "```subscription_type``` -\tтип подписки (free, ultra).\n",
    "\n",
    "\n",
    "2. В ```rides``` представлена информация о поездках:\n",
    "\n",
    "```user_id``` -\tуникальный идентификатор пользователя;\n",
    "```distance``` -\tрасстояние, которое пользователь проехал в текущей сессии (в метрах);\n",
    "```duration``` -\tпродолжительность сессии (в минутах) — время с того момента, как пользователь нажал кнопку «Начать поездку» до момента, как он нажал кнопку «Завершить поездку»;\n",
    "```date``` -\tдата совершения поездки.\n",
    "\n",
    "3. В ```subscription``` информация о типах подписок:\n",
    "\n",
    "```subscription_type``` -\tтип подписки;\n",
    "```minute_price``` -\tстоимость одной минуты поездки по данной подписке;\n",
    "```start_ride_price``` -\tстоимость начала поездки;\n",
    "```subscription_fee``` -\tстоимость ежемесячного платежа."
   ]
  },
  {
   "cell_type": "markdown",
   "id": "8ed6e7c3-f7ca-4938-b188-6cf12eed033e",
   "metadata": {},
   "source": [
    "## Шаг. Предобработка данных"
   ]
  },
  {
   "cell_type": "code",
   "execution_count": 14,
   "id": "620bedcd-48e9-4741-b667-27ddb9fc86ec",
   "metadata": {},
   "outputs": [],
   "source": [
    "#Переведем графу date в формат даты\n",
    "rides['date'] = pd.to_datetime(rides['date'])"
   ]
  },
  {
   "cell_type": "code",
   "execution_count": 15,
   "id": "941f126c-1d8a-4866-8508-7a62828bfe2e",
   "metadata": {},
   "outputs": [
    {
     "name": "stdout",
     "output_type": "stream",
     "text": [
      "Минимальная дата: 2021-01-01 00:00:00\n",
      "Максимальная дата: 2021-12-30 00:00:00\n"
     ]
    }
   ],
   "source": [
    "#Добавляем столбец с номером месяца, в котором совершена поездка\n",
    "rides['month'] = rides['date'].dt.month\n",
    "\n",
    "print(f\"Минимальная дата: {rides['date'].min()}\")\n",
    "print(f\"Максимальная дата: {rides['date'].max()}\")"
   ]
  },
  {
   "cell_type": "markdown",
   "id": "3e9d108f-d3e5-4487-ad3e-8bb75b14a527",
   "metadata": {},
   "source": [
    "Вывод: данные представлены за 1 календарный год"
   ]
  },
  {
   "cell_type": "code",
   "execution_count": 16,
   "id": "fdc2ba5f-8442-452a-96a1-3afb48db975f",
   "metadata": {},
   "outputs": [
    {
     "name": "stdout",
     "output_type": "stream",
     "text": [
      "user_id              0\n",
      "name                 0\n",
      "age                  0\n",
      "city                 0\n",
      "subscription_type    0\n",
      "dtype: int64\n",
      "Количество дубликатов = 31\n"
     ]
    }
   ],
   "source": [
    "#Проверяем на наличие пропусков и дубликатов графах\n",
    "print(users.isna().sum())\n",
    "print(f\"Количество дубликатов = {users.duplicated().sum()}\")"
   ]
  },
  {
   "cell_type": "code",
   "execution_count": 17,
   "id": "d02e7813-1e68-4dd5-8a23-481f9f1a3049",
   "metadata": {},
   "outputs": [],
   "source": [
    "#Удаляем дубликаты\n",
    "users = users.drop_duplicates().reset_index()"
   ]
  },
  {
   "cell_type": "code",
   "execution_count": 18,
   "id": "c3b33dff-ee63-47db-b610-30274c845d50",
   "metadata": {},
   "outputs": [
    {
     "name": "stdout",
     "output_type": "stream",
     "text": [
      "user_id     0\n",
      "distance    0\n",
      "duration    0\n",
      "date        0\n",
      "month       0\n",
      "dtype: int64\n",
      "Количество дубликатов = 0\n"
     ]
    }
   ],
   "source": [
    "#Проверяем на наличие пропусков и дубликатов графах\n",
    "print(rides.isna().sum())\n",
    "print(f\"Количество дубликатов = {rides.duplicated().sum()}\")"
   ]
  },
  {
   "cell_type": "markdown",
   "id": "22bd2fa1-7b56-4751-8a65-91b16fa6046f",
   "metadata": {},
   "source": [
    "В датафрейме subscription только 2 строчки, при первичном ознакомлении не найдены ни дубликаты, ни пропуски.\n",
    "\n",
    "Вывод по результатам предобработки - данные изначально в хорошем состоянии.\n",
    "\n",
    "Во время предобработки изменили на корректный формат даты столбец date в датафрейме rides. Добавлен столбец с номером месяца, в котором совершена поездка. Удалены 'очевидные' дубликаты в датафрейме users (31 строка)."
   ]
  },
  {
   "cell_type": "markdown",
   "id": "d87ff311-45ae-442b-9f50-b34e933a7884",
   "metadata": {},
   "source": [
    "## Шаг. Исследовательский анализ данных"
   ]
  },
  {
   "cell_type": "markdown",
   "id": "ed467b90-5a4e-4791-98c4-30c3a3515b8a",
   "metadata": {},
   "source": [
    "Описание и визуализация общей информации о пользователях и поездках."
   ]
  },
  {
   "cell_type": "markdown",
   "id": "6de91ea3-28d3-4612-a938-78925c9312db",
   "metadata": {},
   "source": [
    "### 3.1  Частота встречаемости городов¶"
   ]
  },
  {
   "cell_type": "code",
   "execution_count": 19,
   "id": "93aaf269-723a-434c-9b58-78248a77b760",
   "metadata": {},
   "outputs": [
    {
     "data": {
      "image/png": "[encoded data removed]",
      "text/plain": [
       "<Figure size 1200x500 with 1 Axes>"
      ]
     },
     "metadata": {},
     "output_type": "display_data"
    }
   ],
   "source": [
    "#Создаем сводную таблицу по городам и количеству пользователей, строим график\n",
    "users_cities = users.pivot_table(index = 'city', values = 'user_id', aggfunc ='count').sort_values(by='user_id').reset_index()\n",
    "users_cities.plot(kind='barh', x='city', figsize = (12,5))\n",
    "plt.title('Уникальные города')\n",
    "plt.xlabel('Город')\n",
    "plt.ylabel('Частота')\n",
    "plt.legend().remove()\n",
    "plt.show()"
   ]
  },
  {
   "cell_type": "code",
   "execution_count": 20,
   "id": "f057dbfa-9715-4c35-8662-00ad5f9b2846",
   "metadata": {},
   "outputs": [
    {
     "data": {
      "text/html": [
       "<div>\n",
       "<style scoped>\n",
       "    .dataframe tbody tr th:only-of-type {\n",
       "        vertical-align: middle;\n",
       "    }\n",
       "\n",
       "    .dataframe tbody tr th {\n",
       "        vertical-align: top;\n",
       "    }\n",
       "\n",
       "    .dataframe thead th {\n",
       "        text-align: right;\n",
       "    }\n",
       "</style>\n",
       "<table border=\"1\" class=\"dataframe\">\n",
       "  <thead>\n",
       "    <tr style=\"text-align: right;\">\n",
       "      <th></th>\n",
       "      <th>city</th>\n",
       "      <th>user_id</th>\n",
       "    </tr>\n",
       "  </thead>\n",
       "  <tbody>\n",
       "    <tr>\n",
       "      <th>0</th>\n",
       "      <td>Москва</td>\n",
       "      <td>168</td>\n",
       "    </tr>\n",
       "    <tr>\n",
       "      <th>1</th>\n",
       "      <td>Тюмень</td>\n",
       "      <td>180</td>\n",
       "    </tr>\n",
       "    <tr>\n",
       "      <th>2</th>\n",
       "      <td>Омск</td>\n",
       "      <td>183</td>\n",
       "    </tr>\n",
       "    <tr>\n",
       "      <th>3</th>\n",
       "      <td>Сочи</td>\n",
       "      <td>189</td>\n",
       "    </tr>\n",
       "    <tr>\n",
       "      <th>4</th>\n",
       "      <td>Краснодар</td>\n",
       "      <td>193</td>\n",
       "    </tr>\n",
       "    <tr>\n",
       "      <th>5</th>\n",
       "      <td>Ростов-на-Дону</td>\n",
       "      <td>198</td>\n",
       "    </tr>\n",
       "    <tr>\n",
       "      <th>6</th>\n",
       "      <td>Екатеринбург</td>\n",
       "      <td>204</td>\n",
       "    </tr>\n",
       "    <tr>\n",
       "      <th>7</th>\n",
       "      <td>Пятигорск</td>\n",
       "      <td>219</td>\n",
       "    </tr>\n",
       "  </tbody>\n",
       "</table>\n",
       "</div>"
      ],
      "text/plain": [
       "             city  user_id\n",
       "0          Москва      168\n",
       "1          Тюмень      180\n",
       "2            Омск      183\n",
       "3            Сочи      189\n",
       "4       Краснодар      193\n",
       "5  Ростов-на-Дону      198\n",
       "6    Екатеринбург      204\n",
       "7       Пятигорск      219"
      ]
     },
     "execution_count": 20,
     "metadata": {},
     "output_type": "execute_result"
    }
   ],
   "source": [
    "users_cities"
   ]
  },
  {
   "cell_type": "markdown",
   "id": "d21dd19e-7c2e-4302-b690-dfd74d2bef0a",
   "metadata": {},
   "source": [
    "Данные представлены по 8 городам, где больше всего пользователей в Пятигорске (219), а меньше всего в Москве (168)."
   ]
  },
  {
   "cell_type": "markdown",
   "id": "f3cfb3ae-a38b-43d1-80b0-e62a153a93b5",
   "metadata": {},
   "source": [
    "### 3.2  Соотношение пользователей с подпиской(ultra) и без подписки(free)"
   ]
  },
  {
   "cell_type": "code",
   "execution_count": 21,
   "id": "c7207567-10e2-4224-9a82-4d92957fe922",
   "metadata": {},
   "outputs": [
    {
     "data": {
      "image/png": "[encoded data removed]",
      "text/plain": [
       "<Figure size 1200x500 with 1 Axes>"
      ]
     },
     "metadata": {},
     "output_type": "display_data"
    }
   ],
   "source": [
    "#Создаем сводную таблицу по типам подписки и количеству пользователей, строим график\n",
    "users_subscription = users.pivot_table(index='subscription_type', values='user_id', aggfunc='count').sort_values(by='user_id')#.reset_index()\n",
    "users_subscription.plot(kind='pie', y='user_id', autopct='%1.1f%%', figsize = (12,5))\n",
    "plt.title('Соотношение пользователей с подпиской и без')\n",
    "plt.ylabel('')\n",
    "#plt.legend(labels = users_subscription['subscription_type'])\n",
    "plt.show()"
   ]
  },
  {
   "cell_type": "code",
   "execution_count": 22,
   "id": "5e9f0c18-6bc2-451a-9823-63c598c54070",
   "metadata": {},
   "outputs": [
    {
     "data": {
      "text/html": [
       "<div>\n",
       "<style scoped>\n",
       "    .dataframe tbody tr th:only-of-type {\n",
       "        vertical-align: middle;\n",
       "    }\n",
       "\n",
       "    .dataframe tbody tr th {\n",
       "        vertical-align: top;\n",
       "    }\n",
       "\n",
       "    .dataframe thead th {\n",
       "        text-align: right;\n",
       "    }\n",
       "</style>\n",
       "<table border=\"1\" class=\"dataframe\">\n",
       "  <thead>\n",
       "    <tr style=\"text-align: right;\">\n",
       "      <th></th>\n",
       "      <th>user_id</th>\n",
       "    </tr>\n",
       "    <tr>\n",
       "      <th>subscription_type</th>\n",
       "      <th></th>\n",
       "    </tr>\n",
       "  </thead>\n",
       "  <tbody>\n",
       "    <tr>\n",
       "      <th>ultra</th>\n",
       "      <td>699</td>\n",
       "    </tr>\n",
       "    <tr>\n",
       "      <th>free</th>\n",
       "      <td>835</td>\n",
       "    </tr>\n",
       "  </tbody>\n",
       "</table>\n",
       "</div>"
      ],
      "text/plain": [
       "                   user_id\n",
       "subscription_type         \n",
       "ultra                  699\n",
       "free                   835"
      ]
     },
     "execution_count": 22,
     "metadata": {},
     "output_type": "execute_result"
    }
   ],
   "source": [
    "users_subscription"
   ]
  },
  {
   "cell_type": "markdown",
   "id": "82ca1a5e-95cc-4df2-9833-98f939edbe20",
   "metadata": {},
   "source": [
    "Количество пользователей с подпиской 'ultra' (699) меньше, чем бользователей без подписки (835)."
   ]
  },
  {
   "cell_type": "markdown",
   "id": "94f9a9de-c1e7-456f-aade-9d7a1fc3ac6c",
   "metadata": {},
   "source": [
    "### 3.3  Возраст пользователей"
   ]
  },
  {
   "cell_type": "code",
   "execution_count": 23,
   "id": "ff0fc798-5b46-46bd-b57c-cfa8da97cccf",
   "metadata": {},
   "outputs": [
    {
     "data": {
      "image/png": "[encoded data removed]",
      "text/plain": [
       "<Figure size 1200x500 with 1 Axes>"
      ]
     },
     "metadata": {},
     "output_type": "display_data"
    }
   ],
   "source": [
    "#Строим гистограмму на основе графы возраста\n",
    "users['age'].plot(kind='hist', bins = 30, figsize = (12,5))\n",
    "plt.title('Возраст пользователей')\n",
    "plt.xlabel('Возраст')\n",
    "plt.ylabel('Частота')\n",
    "plt.show()"
   ]
  },
  {
   "cell_type": "code",
   "execution_count": 24,
   "id": "70811f3f-ea79-4df7-8473-4087970adac7",
   "metadata": {},
   "outputs": [
    {
     "data": {
      "text/plain": [
       "count    1534.000000\n",
       "mean       24.903520\n",
       "std         4.572367\n",
       "min        12.000000\n",
       "25%        22.000000\n",
       "50%        25.000000\n",
       "75%        28.000000\n",
       "max        43.000000\n",
       "Name: age, dtype: float64"
      ]
     },
     "execution_count": 24,
     "metadata": {},
     "output_type": "execute_result"
    }
   ],
   "source": [
    "users['age'].describe()"
   ]
  },
  {
   "cell_type": "markdown",
   "id": "8aafd97e-1c45-4996-8083-feb1f8e7f906",
   "metadata": {},
   "source": [
    "Возраст пользователей представлен в промежутке от 12 до 43 лет, средний возраст - 24,9 года."
   ]
  },
  {
   "cell_type": "markdown",
   "id": "8e82a405-a4b1-4039-bf31-5a314ab23859",
   "metadata": {},
   "source": [
    "### 3.4  Расстояние, которое пользователь преодолел за одну поездку."
   ]
  },
  {
   "cell_type": "code",
   "execution_count": 25,
   "id": "9d0616a1-b968-474a-bad4-41fdc7474749",
   "metadata": {},
   "outputs": [
    {
     "data": {
      "image/png": "[encoded data removed]",
      "text/plain": [
       "<Figure size 1200x500 with 1 Axes>"
      ]
     },
     "metadata": {},
     "output_type": "display_data"
    }
   ],
   "source": [
    "#Строим гистограмму на основе графы дистанции\n",
    "rides['distance'].plot(kind='hist', bins = 50, figsize = (12,5))\n",
    "plt.title('Расстояние за поездку')\n",
    "plt.xlabel('Дистанция')\n",
    "plt.ylabel('Частота')\n",
    "plt.show()"
   ]
  },
  {
   "cell_type": "code",
   "execution_count": 27,
   "id": "8cd11a81-034e-4744-a9b6-c40661018e91",
   "metadata": {},
   "outputs": [
    {
     "data": {
      "text/plain": [
       "count    18068.000000\n",
       "mean      3070.659976\n",
       "std       1116.831209\n",
       "min          0.855683\n",
       "25%       2543.226360\n",
       "50%       3133.609994\n",
       "75%       3776.222735\n",
       "max       7211.007745\n",
       "Name: distance, dtype: float64"
      ]
     },
     "execution_count": 27,
     "metadata": {},
     "output_type": "execute_result"
    }
   ],
   "source": [
    "rides['distance'].describe()"
   ]
  },
  {
   "cell_type": "markdown",
   "id": "9c6f44c2-2fc0-48de-9016-30ae4fcfeacb",
   "metadata": {},
   "source": [
    "Расстояние за поездку представлены в промежутке от ~1 метра до 7,2 километров, средняя дистанция на одну поезду ~3 километра. Наблюдается 2 пиковых распределения. Первый небольшой пик можно объяснить тем, что пользователи берут самокат для коротких поездок до ближайшего общественного траспорта и расстояния в маленьких городах будут соответственно короче. Второй пик показывает номрально распределение всех поездок, такие пользователи предпочитают использовать самокат как основой вид транспорта, без пересадок."
   ]
  },
  {
   "cell_type": "markdown",
   "id": "b3b4e5b3-37cc-4b8d-9805-99f34bad7193",
   "metadata": {},
   "source": [
    "### 3.5  Продолжительность поездок"
   ]
  },
  {
   "cell_type": "code",
   "execution_count": 28,
   "id": "aa9a3270-6298-4cee-9780-06d22cb957cd",
   "metadata": {},
   "outputs": [
    {
     "data": {
      "image/png": "[encoded data removed]",
      "text/plain": [
       "<Figure size 1200x500 with 1 Axes>"
      ]
     },
     "metadata": {},
     "output_type": "display_data"
    }
   ],
   "source": [
    "#Строим гистограмму по графе времени\n",
    "rides['duration'].plot(kind='hist', bins = 50, figsize = (12,5))\n",
    "plt.title('Продолжительность поездок')\n",
    "plt.xlabel('Время')\n",
    "plt.ylabel('Частота')\n",
    "plt.show()"
   ]
  },
  {
   "cell_type": "code",
   "execution_count": 29,
   "id": "56e6e57f-0c77-4cff-a84e-0d37ee265801",
   "metadata": {},
   "outputs": [
    {
     "data": {
      "text/plain": [
       "count    18068.000000\n",
       "mean        17.805011\n",
       "std          6.091051\n",
       "min          0.500000\n",
       "25%         13.597563\n",
       "50%         17.678395\n",
       "75%         21.724800\n",
       "max         40.823963\n",
       "Name: duration, dtype: float64"
      ]
     },
     "execution_count": 29,
     "metadata": {},
     "output_type": "execute_result"
    }
   ],
   "source": [
    "rides['duration'].describe()"
   ]
  },
  {
   "cell_type": "markdown",
   "id": "18d166d9-98dd-4c17-97b2-49c0c0e62d76",
   "metadata": {},
   "source": [
    "Продолжительность поездок находятся в промежутке от 0,5 минуты до ~41 минут, средняя поездка занимается 17,8 минут. Присутсвует всплеск значений в 0,5 минут, можно предположить, что пользователи в среднем за это время неисправность, а счетчик уже запущен, либо у сервиса есть минимум времени, который можно проехать. Лучше уточнить у сервиса как конкретно у них работает запуск поездки, тогда можно сделать более однозначные выводы."
   ]
  },
  {
   "cell_type": "markdown",
   "id": "61ee0368-aca9-4cab-bcae-142fdb1144a0",
   "metadata": {},
   "source": [
    "Выводы из исследовательского анализа:\n",
    "\n",
    "Данные охватывают 8 городов России: Москва, Тюмень, Омск, Сочи, Краснодар, Ростов-на-Дону, Екатеринбург, Пятигорск. Лидером по количеству пользователей выступает Пятигорск (219)\n",
    "Пользователей, которые используют сервис без подписки больше, чем пользователей с ней, 835 и 699 соответственно\n",
    "Сервисом пользуются люди из разных возрастных категорий - от 12 до 43 лет. Максимальное количество пользователей в возрасте 25 лет\n",
    "За поездку пользователи проезжают расстояние от 1 до 7200 метров, средняя дистанция поездки 3070 метров\n",
    "Наиболее распространенное время поездки около 18 минут, когда поездка может длится как и полминуты, так и 40 минут."
   ]
  },
  {
   "cell_type": "markdown",
   "id": "5a525c14-0337-4f75-95d2-6bacd87d3162",
   "metadata": {},
   "source": [
    "## Шаг. Объединение данных"
   ]
  },
  {
   "cell_type": "code",
   "execution_count": 30,
   "id": "5a64f266-1cca-4af6-b99b-3a788af647fa",
   "metadata": {},
   "outputs": [
    {
     "data": {
      "text/html": [
       "<div>\n",
       "<style scoped>\n",
       "    .dataframe tbody tr th:only-of-type {\n",
       "        vertical-align: middle;\n",
       "    }\n",
       "\n",
       "    .dataframe tbody tr th {\n",
       "        vertical-align: top;\n",
       "    }\n",
       "\n",
       "    .dataframe thead th {\n",
       "        text-align: right;\n",
       "    }\n",
       "</style>\n",
       "<table border=\"1\" class=\"dataframe\">\n",
       "  <thead>\n",
       "    <tr style=\"text-align: right;\">\n",
       "      <th></th>\n",
       "      <th>index</th>\n",
       "      <th>user_id</th>\n",
       "      <th>name</th>\n",
       "      <th>age</th>\n",
       "      <th>city</th>\n",
       "      <th>subscription_type</th>\n",
       "      <th>distance</th>\n",
       "      <th>duration</th>\n",
       "      <th>date</th>\n",
       "      <th>month</th>\n",
       "      <th>minute_price</th>\n",
       "      <th>start_ride_price</th>\n",
       "      <th>subscription_fee</th>\n",
       "    </tr>\n",
       "  </thead>\n",
       "  <tbody>\n",
       "    <tr>\n",
       "      <th>4091</th>\n",
       "      <td>439</td>\n",
       "      <td>440</td>\n",
       "      <td>Амалия</td>\n",
       "      <td>20</td>\n",
       "      <td>Тюмень</td>\n",
       "      <td>ultra</td>\n",
       "      <td>3495.198903</td>\n",
       "      <td>27.064721</td>\n",
       "      <td>2021-10-28</td>\n",
       "      <td>10</td>\n",
       "      <td>6</td>\n",
       "      <td>0</td>\n",
       "      <td>199</td>\n",
       "    </tr>\n",
       "    <tr>\n",
       "      <th>2008</th>\n",
       "      <td>216</td>\n",
       "      <td>217</td>\n",
       "      <td>Снежана</td>\n",
       "      <td>18</td>\n",
       "      <td>Пятигорск</td>\n",
       "      <td>ultra</td>\n",
       "      <td>2844.041898</td>\n",
       "      <td>12.419240</td>\n",
       "      <td>2021-12-03</td>\n",
       "      <td>12</td>\n",
       "      <td>6</td>\n",
       "      <td>0</td>\n",
       "      <td>199</td>\n",
       "    </tr>\n",
       "    <tr>\n",
       "      <th>8642</th>\n",
       "      <td>859</td>\n",
       "      <td>860</td>\n",
       "      <td>Ольга</td>\n",
       "      <td>22</td>\n",
       "      <td>Краснодар</td>\n",
       "      <td>free</td>\n",
       "      <td>2172.695382</td>\n",
       "      <td>17.345391</td>\n",
       "      <td>2021-02-15</td>\n",
       "      <td>2</td>\n",
       "      <td>8</td>\n",
       "      <td>50</td>\n",
       "      <td>0</td>\n",
       "    </tr>\n",
       "  </tbody>\n",
       "</table>\n",
       "</div>"
      ],
      "text/plain": [
       "      index  user_id     name  age       city subscription_type     distance  \\\n",
       "4091    439      440   Амалия   20     Тюмень             ultra  3495.198903   \n",
       "2008    216      217  Снежана   18  Пятигорск             ultra  2844.041898   \n",
       "8642    859      860    Ольга   22  Краснодар              free  2172.695382   \n",
       "\n",
       "       duration       date  month  minute_price  start_ride_price  \\\n",
       "4091  27.064721 2021-10-28     10             6                 0   \n",
       "2008  12.419240 2021-12-03     12             6                 0   \n",
       "8642  17.345391 2021-02-15      2             8                50   \n",
       "\n",
       "      subscription_fee  \n",
       "4091               199  \n",
       "2008               199  \n",
       "8642                 0  "
      ]
     },
     "execution_count": 30,
     "metadata": {},
     "output_type": "execute_result"
    }
   ],
   "source": [
    "#Объединим датафреймы с юзерами и поездками по совпадающему столбцу\n",
    "df_users_rides = users.merge(rides, on='user_id')\n",
    "df_users_rides = df_users_rides.merge(subscription, on='subscription_type')\n",
    "df_users_rides.sample(3)"
   ]
  },
  {
   "cell_type": "code",
   "execution_count": 31,
   "id": "42441368-3a8e-4652-bce4-e15012330f92",
   "metadata": {},
   "outputs": [
    {
     "name": "stdout",
     "output_type": "stream",
     "text": [
      "Количество строк после объединения совпадает\n"
     ]
    }
   ],
   "source": [
    "#Проверяем совпадает ли количество строк после объединения\n",
    "if len(df_users_rides) == len(rides):\n",
    "    print('Количество строк после объединения совпадает')\n",
    "else:\n",
    "    print('Перепроверить')"
   ]
  },
  {
   "cell_type": "code",
   "execution_count": 32,
   "id": "b916ad52-3ef6-42ac-be5c-7ae395a4f391",
   "metadata": {},
   "outputs": [
    {
     "data": {
      "text/plain": [
       "index                0\n",
       "user_id              0\n",
       "name                 0\n",
       "age                  0\n",
       "city                 0\n",
       "subscription_type    0\n",
       "distance             0\n",
       "duration             0\n",
       "date                 0\n",
       "month                0\n",
       "minute_price         0\n",
       "start_ride_price     0\n",
       "subscription_fee     0\n",
       "dtype: int64"
      ]
     },
     "execution_count": 32,
     "metadata": {},
     "output_type": "execute_result"
    }
   ],
   "source": [
    "#Проверяем, появились ли пропуски\n",
    "df_users_rides.isnull().sum()"
   ]
  },
  {
   "cell_type": "code",
   "execution_count": 33,
   "id": "eb7c44ff-42b0-4687-937e-752602a15b46",
   "metadata": {},
   "outputs": [
    {
     "data": {
      "text/html": [
       "<div>\n",
       "<style scoped>\n",
       "    .dataframe tbody tr th:only-of-type {\n",
       "        vertical-align: middle;\n",
       "    }\n",
       "\n",
       "    .dataframe tbody tr th {\n",
       "        vertical-align: top;\n",
       "    }\n",
       "\n",
       "    .dataframe thead th {\n",
       "        text-align: right;\n",
       "    }\n",
       "</style>\n",
       "<table border=\"1\" class=\"dataframe\">\n",
       "  <thead>\n",
       "    <tr style=\"text-align: right;\">\n",
       "      <th></th>\n",
       "      <th>index</th>\n",
       "      <th>user_id</th>\n",
       "      <th>name</th>\n",
       "      <th>age</th>\n",
       "      <th>city</th>\n",
       "      <th>subscription_type</th>\n",
       "      <th>distance</th>\n",
       "      <th>duration</th>\n",
       "      <th>date</th>\n",
       "      <th>month</th>\n",
       "      <th>minute_price</th>\n",
       "      <th>start_ride_price</th>\n",
       "      <th>subscription_fee</th>\n",
       "    </tr>\n",
       "  </thead>\n",
       "  <tbody>\n",
       "    <tr>\n",
       "      <th>9805</th>\n",
       "      <td>944</td>\n",
       "      <td>945</td>\n",
       "      <td>Александра</td>\n",
       "      <td>31</td>\n",
       "      <td>Сочи</td>\n",
       "      <td>free</td>\n",
       "      <td>2815.863381</td>\n",
       "      <td>16.559488</td>\n",
       "      <td>2021-01-30</td>\n",
       "      <td>1</td>\n",
       "      <td>8</td>\n",
       "      <td>50</td>\n",
       "      <td>0</td>\n",
       "    </tr>\n",
       "    <tr>\n",
       "      <th>7612</th>\n",
       "      <td>779</td>\n",
       "      <td>780</td>\n",
       "      <td>Семен</td>\n",
       "      <td>13</td>\n",
       "      <td>Тюмень</td>\n",
       "      <td>free</td>\n",
       "      <td>6112.644835</td>\n",
       "      <td>0.500000</td>\n",
       "      <td>2021-11-23</td>\n",
       "      <td>11</td>\n",
       "      <td>8</td>\n",
       "      <td>50</td>\n",
       "      <td>0</td>\n",
       "    </tr>\n",
       "    <tr>\n",
       "      <th>16487</th>\n",
       "      <td>1421</td>\n",
       "      <td>1422</td>\n",
       "      <td>Светлана</td>\n",
       "      <td>33</td>\n",
       "      <td>Тюмень</td>\n",
       "      <td>free</td>\n",
       "      <td>3926.426264</td>\n",
       "      <td>11.423423</td>\n",
       "      <td>2021-02-18</td>\n",
       "      <td>2</td>\n",
       "      <td>8</td>\n",
       "      <td>50</td>\n",
       "      <td>0</td>\n",
       "    </tr>\n",
       "  </tbody>\n",
       "</table>\n",
       "</div>"
      ],
      "text/plain": [
       "       index  user_id        name  age    city subscription_type     distance  \\\n",
       "9805     944      945  Александра   31    Сочи              free  2815.863381   \n",
       "7612     779      780       Семен   13  Тюмень              free  6112.644835   \n",
       "16487   1421     1422    Светлана   33  Тюмень              free  3926.426264   \n",
       "\n",
       "        duration       date  month  minute_price  start_ride_price  \\\n",
       "9805   16.559488 2021-01-30      1             8                50   \n",
       "7612    0.500000 2021-11-23     11             8                50   \n",
       "16487  11.423423 2021-02-18      2             8                50   \n",
       "\n",
       "       subscription_fee  \n",
       "9805                  0  \n",
       "7612                  0  \n",
       "16487                 0  "
      ]
     },
     "execution_count": 33,
     "metadata": {},
     "output_type": "execute_result"
    }
   ],
   "source": [
    "#Сортируем датафрейм по пользователем без подписки\n",
    "df_users_rides_free = df_users_rides[df_users_rides['subscription_type'] == 'free']\n",
    "df_users_rides_free.sample(3)"
   ]
  },
  {
   "cell_type": "code",
   "execution_count": 34,
   "id": "87eb40a4-6722-4db8-996b-009bb162f5a7",
   "metadata": {},
   "outputs": [
    {
     "data": {
      "text/html": [
       "<div>\n",
       "<style scoped>\n",
       "    .dataframe tbody tr th:only-of-type {\n",
       "        vertical-align: middle;\n",
       "    }\n",
       "\n",
       "    .dataframe tbody tr th {\n",
       "        vertical-align: top;\n",
       "    }\n",
       "\n",
       "    .dataframe thead th {\n",
       "        text-align: right;\n",
       "    }\n",
       "</style>\n",
       "<table border=\"1\" class=\"dataframe\">\n",
       "  <thead>\n",
       "    <tr style=\"text-align: right;\">\n",
       "      <th></th>\n",
       "      <th>index</th>\n",
       "      <th>user_id</th>\n",
       "      <th>name</th>\n",
       "      <th>age</th>\n",
       "      <th>city</th>\n",
       "      <th>subscription_type</th>\n",
       "      <th>distance</th>\n",
       "      <th>duration</th>\n",
       "      <th>date</th>\n",
       "      <th>month</th>\n",
       "      <th>minute_price</th>\n",
       "      <th>start_ride_price</th>\n",
       "      <th>subscription_fee</th>\n",
       "    </tr>\n",
       "  </thead>\n",
       "  <tbody>\n",
       "    <tr>\n",
       "      <th>3208</th>\n",
       "      <td>346</td>\n",
       "      <td>347</td>\n",
       "      <td>Злата</td>\n",
       "      <td>24</td>\n",
       "      <td>Москва</td>\n",
       "      <td>ultra</td>\n",
       "      <td>3674.548566</td>\n",
       "      <td>13.186371</td>\n",
       "      <td>2021-12-20</td>\n",
       "      <td>12</td>\n",
       "      <td>6</td>\n",
       "      <td>0</td>\n",
       "      <td>199</td>\n",
       "    </tr>\n",
       "    <tr>\n",
       "      <th>4216</th>\n",
       "      <td>454</td>\n",
       "      <td>455</td>\n",
       "      <td>Виталина</td>\n",
       "      <td>15</td>\n",
       "      <td>Ростов-на-Дону</td>\n",
       "      <td>ultra</td>\n",
       "      <td>3147.472807</td>\n",
       "      <td>26.737364</td>\n",
       "      <td>2021-01-09</td>\n",
       "      <td>1</td>\n",
       "      <td>6</td>\n",
       "      <td>0</td>\n",
       "      <td>199</td>\n",
       "    </tr>\n",
       "    <tr>\n",
       "      <th>3740</th>\n",
       "      <td>401</td>\n",
       "      <td>402</td>\n",
       "      <td>Эльмира</td>\n",
       "      <td>21</td>\n",
       "      <td>Екатеринбург</td>\n",
       "      <td>ultra</td>\n",
       "      <td>3179.678115</td>\n",
       "      <td>14.671849</td>\n",
       "      <td>2021-10-28</td>\n",
       "      <td>10</td>\n",
       "      <td>6</td>\n",
       "      <td>0</td>\n",
       "      <td>199</td>\n",
       "    </tr>\n",
       "  </tbody>\n",
       "</table>\n",
       "</div>"
      ],
      "text/plain": [
       "      index  user_id      name  age            city subscription_type  \\\n",
       "3208    346      347     Злата   24          Москва             ultra   \n",
       "4216    454      455  Виталина   15  Ростов-на-Дону             ultra   \n",
       "3740    401      402   Эльмира   21    Екатеринбург             ultra   \n",
       "\n",
       "         distance   duration       date  month  minute_price  \\\n",
       "3208  3674.548566  13.186371 2021-12-20     12             6   \n",
       "4216  3147.472807  26.737364 2021-01-09      1             6   \n",
       "3740  3179.678115  14.671849 2021-10-28     10             6   \n",
       "\n",
       "      start_ride_price  subscription_fee  \n",
       "3208                 0               199  \n",
       "4216                 0               199  \n",
       "3740                 0               199  "
      ]
     },
     "execution_count": 34,
     "metadata": {},
     "output_type": "execute_result"
    }
   ],
   "source": [
    "#Сортируем датафрейм по пользователем с подпиской \n",
    "df_users_rides_ultra = df_users_rides[df_users_rides['subscription_type'] == 'ultra']\n",
    "df_users_rides_ultra.sample(3)"
   ]
  },
  {
   "cell_type": "markdown",
   "id": "e838c560-0339-4d85-be20-20df4f99bf43",
   "metadata": {},
   "source": [
    "### 4.1  Сравнение расстояний для пользователей с подпиский и без"
   ]
  },
  {
   "cell_type": "code",
   "execution_count": 35,
   "id": "36969d7f-2cbb-4322-a463-9f43a756aedc",
   "metadata": {},
   "outputs": [
    {
     "data": {
      "image/png": "[encoded data removed]",
      "text/plain": [
       "<Figure size 1200x500 with 1 Axes>"
      ]
     },
     "metadata": {},
     "output_type": "display_data"
    }
   ],
   "source": [
    "#Строим 2 гистограммы, сроавниваем расстояние и время для пользователей с подпиской и без\n",
    "df_users_rides_free['distance'].plot(kind='hist', bins = 40, figsize = (12,5), label='Без подписки')\n",
    "df_users_rides_ultra['distance'].plot(kind='hist', bins = 40, figsize = (12,5), label='С подпиской')\n",
    "plt.title('Расстояние поездки для пользователей без подписки')\n",
    "plt.xlabel('Расстояние')\n",
    "plt.ylabel('Частота')\n",
    "plt.legend()\n",
    "plt.show()"
   ]
  },
  {
   "cell_type": "code",
   "execution_count": 36,
   "id": "368f883c-8453-4b3c-8792-f1c12ed868dd",
   "metadata": {},
   "outputs": [
    {
     "data": {
      "text/plain": [
       "count    11568.000000\n",
       "mean      3045.495282\n",
       "std       1246.173806\n",
       "min          0.855683\n",
       "25%       2366.562689\n",
       "50%       3114.648465\n",
       "75%       3905.697894\n",
       "max       7211.007745\n",
       "Name: distance, dtype: float64"
      ]
     },
     "execution_count": 36,
     "metadata": {},
     "output_type": "execute_result"
    }
   ],
   "source": [
    "df_users_rides_free['distance'].describe()"
   ]
  },
  {
   "cell_type": "code",
   "execution_count": 37,
   "id": "1058c3fd-b511-4a67-b2a0-dad4b856304b",
   "metadata": {},
   "outputs": [
    {
     "data": {
      "text/plain": [
       "count    6500.000000\n",
       "mean     3115.445388\n",
       "std       836.895330\n",
       "min       244.210438\n",
       "25%      2785.444017\n",
       "50%      3148.637229\n",
       "75%      3560.574425\n",
       "max      5699.769662\n",
       "Name: distance, dtype: float64"
      ]
     },
     "execution_count": 37,
     "metadata": {},
     "output_type": "execute_result"
    }
   ],
   "source": [
    "df_users_rides_ultra['distance'].describe()"
   ]
  },
  {
   "cell_type": "markdown",
   "id": "e60d7964-4232-4ce2-8a7e-10fedab09895",
   "metadata": {},
   "source": [
    "Вывод: расстояние поездок с подпиской и без имеют нормальное распределение, примечательно, что присутствуют похожий пик, который приходятся на начало поездки и являются относительными короткими. Предположительно такие пользователи используют самокат для коротких поездок до следующей пересадки на более масшатбный транспорт. В среднем пользователи с подпиской проезжают больше расстояние, чем пользователи без нее."
   ]
  },
  {
   "cell_type": "markdown",
   "id": "fbbc4f67-5864-4bca-adcb-2d5e9cefdfb5",
   "metadata": {},
   "source": [
    "### Сравнение времени поездки для пользователей с подпиский и без"
   ]
  },
  {
   "cell_type": "code",
   "execution_count": 38,
   "id": "ea39203e-0c18-4d8e-b685-0fdaef0739ab",
   "metadata": {},
   "outputs": [
    {
     "data": {
      "image/png": "[encoded data removed]",
      "text/plain": [
       "<Figure size 1200x500 with 1 Axes>"
      ]
     },
     "metadata": {},
     "output_type": "display_data"
    }
   ],
   "source": [
    "df_users_rides_free['duration'].plot(kind='hist', bins = 40, figsize = (12,5), label='Без подписки')\n",
    "df_users_rides_ultra['duration'].plot(kind='hist', bins = 40, figsize = (12,5), label='С подпиской')\n",
    "plt.title('Время поездки для пользователей без подписки')\n",
    "plt.xlabel('Длительность')\n",
    "plt.ylabel('Частота')\n",
    "plt.legend()\n",
    "plt.show()"
   ]
  },
  {
   "cell_type": "code",
   "execution_count": 39,
   "id": "49389b0d-15e9-4579-b882-703e4afd1e0d",
   "metadata": {},
   "outputs": [
    {
     "data": {
      "text/plain": [
       "count    11568.000000\n",
       "mean        17.390909\n",
       "std          6.326803\n",
       "min          0.500000\n",
       "25%         12.958437\n",
       "50%         17.326890\n",
       "75%         21.594071\n",
       "max         34.948498\n",
       "Name: duration, dtype: float64"
      ]
     },
     "execution_count": 39,
     "metadata": {},
     "output_type": "execute_result"
    }
   ],
   "source": [
    "df_users_rides_free['duration'].describe()"
   ]
  },
  {
   "cell_type": "code",
   "execution_count": 40,
   "id": "f30a29fd-8cd8-46bd-8c06-34bd1ccf20da",
   "metadata": {},
   "outputs": [
    {
     "data": {
      "text/plain": [
       "count    6500.000000\n",
       "mean       18.541985\n",
       "std         5.572048\n",
       "min         3.760353\n",
       "25%        14.524654\n",
       "50%        18.178153\n",
       "75%        21.884129\n",
       "max        40.823963\n",
       "Name: duration, dtype: float64"
      ]
     },
     "execution_count": 40,
     "metadata": {},
     "output_type": "execute_result"
    }
   ],
   "source": [
    "df_users_rides_ultra['duration'].describe()"
   ]
  },
  {
   "cell_type": "markdown",
   "id": "d8e5c780-4ab9-4fea-9465-65bf8dfcb00a",
   "metadata": {},
   "source": [
    "Вывод: время поездок для пользователей с подпиской и без нее имеют нормальное распределение. Время поездки пользователей без подписки в среднем меньше, чем у пользователей с ней."
   ]
  },
  {
   "cell_type": "markdown",
   "id": "2bfd41da-16e6-408d-af19-61c90faf04f4",
   "metadata": {},
   "source": [
    "## Шаг. Подсчёт выручки"
   ]
  },
  {
   "cell_type": "code",
   "execution_count": 41,
   "id": "0a634ee4-2a3d-4e37-82ef-eee85504d4d6",
   "metadata": {},
   "outputs": [
    {
     "data": {
      "text/html": [
       "<div>\n",
       "<style scoped>\n",
       "    .dataframe tbody tr th:only-of-type {\n",
       "        vertical-align: middle;\n",
       "    }\n",
       "\n",
       "    .dataframe tbody tr th {\n",
       "        vertical-align: top;\n",
       "    }\n",
       "\n",
       "    .dataframe thead tr th {\n",
       "        text-align: left;\n",
       "    }\n",
       "</style>\n",
       "<table border=\"1\" class=\"dataframe\">\n",
       "  <thead>\n",
       "    <tr>\n",
       "      <th></th>\n",
       "      <th>user_id</th>\n",
       "      <th>month</th>\n",
       "      <th>distance</th>\n",
       "      <th colspan=\"2\" halign=\"left\">duration</th>\n",
       "    </tr>\n",
       "    <tr>\n",
       "      <th></th>\n",
       "      <th></th>\n",
       "      <th></th>\n",
       "      <th>sum</th>\n",
       "      <th>count</th>\n",
       "      <th>sum</th>\n",
       "    </tr>\n",
       "  </thead>\n",
       "  <tbody>\n",
       "    <tr>\n",
       "      <th>6965</th>\n",
       "      <td>1003</td>\n",
       "      <td>1</td>\n",
       "      <td>2538.601466</td>\n",
       "      <td>1</td>\n",
       "      <td>17.0</td>\n",
       "    </tr>\n",
       "    <tr>\n",
       "      <th>8453</th>\n",
       "      <td>1186</td>\n",
       "      <td>5</td>\n",
       "      <td>12053.496501</td>\n",
       "      <td>3</td>\n",
       "      <td>73.0</td>\n",
       "    </tr>\n",
       "    <tr>\n",
       "      <th>2247</th>\n",
       "      <td>346</td>\n",
       "      <td>6</td>\n",
       "      <td>2676.418333</td>\n",
       "      <td>1</td>\n",
       "      <td>16.0</td>\n",
       "    </tr>\n",
       "  </tbody>\n",
       "</table>\n",
       "</div>"
      ],
      "text/plain": [
       "     user_id month      distance duration      \n",
       "                             sum    count   sum\n",
       "6965    1003     1   2538.601466        1  17.0\n",
       "8453    1186     5  12053.496501        3  73.0\n",
       "2247     346     6   2676.418333        1  16.0"
      ]
     },
     "execution_count": 41,
     "metadata": {},
     "output_type": "execute_result"
    }
   ],
   "source": [
    "#Округляем продолжительность поездки в большую стророну\n",
    "df_users_rides['duration'] = np.ceil(df_users_rides['duration'])\n",
    "#Создаем датафрейм, в котором найдем суммарное расстояние, количество поездок, и суммарное время для пользователя по месяцам\n",
    "df_cnt_sum = df_users_rides.pivot_table(index= ['user_id', 'month'], values = ['distance','duration'],\n",
    "    aggfunc = {'distance': 'sum', 'duration': ['count', 'sum']}).reset_index()\n",
    "df_cnt_sum.sample(3)"
   ]
  },
  {
   "cell_type": "code",
   "execution_count": 42,
   "id": "ef2474ee-4a9a-49e4-b20f-048cf8f8f8e4",
   "metadata": {},
   "outputs": [
    {
     "data": {
      "text/html": [
       "<div>\n",
       "<style scoped>\n",
       "    .dataframe tbody tr th:only-of-type {\n",
       "        vertical-align: middle;\n",
       "    }\n",
       "\n",
       "    .dataframe tbody tr th {\n",
       "        vertical-align: top;\n",
       "    }\n",
       "\n",
       "    .dataframe thead th {\n",
       "        text-align: right;\n",
       "    }\n",
       "</style>\n",
       "<table border=\"1\" class=\"dataframe\">\n",
       "  <thead>\n",
       "    <tr style=\"text-align: right;\">\n",
       "      <th></th>\n",
       "      <th>user_id</th>\n",
       "      <th>month</th>\n",
       "      <th>total_distance</th>\n",
       "      <th>trips_count</th>\n",
       "      <th>duration_sum</th>\n",
       "    </tr>\n",
       "  </thead>\n",
       "  <tbody>\n",
       "    <tr>\n",
       "      <th>11091</th>\n",
       "      <td>1507</td>\n",
       "      <td>9</td>\n",
       "      <td>7267.013332</td>\n",
       "      <td>2</td>\n",
       "      <td>36.0</td>\n",
       "    </tr>\n",
       "    <tr>\n",
       "      <th>9688</th>\n",
       "      <td>1333</td>\n",
       "      <td>12</td>\n",
       "      <td>3170.642226</td>\n",
       "      <td>1</td>\n",
       "      <td>13.0</td>\n",
       "    </tr>\n",
       "    <tr>\n",
       "      <th>11293</th>\n",
       "      <td>1530</td>\n",
       "      <td>6</td>\n",
       "      <td>2587.068383</td>\n",
       "      <td>1</td>\n",
       "      <td>17.0</td>\n",
       "    </tr>\n",
       "  </tbody>\n",
       "</table>\n",
       "</div>"
      ],
      "text/plain": [
       "       user_id  month  total_distance  trips_count  duration_sum\n",
       "11091     1507      9     7267.013332            2          36.0\n",
       "9688      1333     12     3170.642226            1          13.0\n",
       "11293     1530      6     2587.068383            1          17.0"
      ]
     },
     "execution_count": 42,
     "metadata": {},
     "output_type": "execute_result"
    }
   ],
   "source": [
    "#Переименуем столбцы, чтобы избавиться от 2этажных названий\n",
    "df_cnt_sum.columns = ['user_id', 'month', 'total_distance', 'trips_count', 'duration_sum']\n",
    "df_cnt_sum.sample(3)"
   ]
  },
  {
   "cell_type": "code",
   "execution_count": 43,
   "id": "e27868bf-530d-4c36-a3b3-22c4364c249e",
   "metadata": {},
   "outputs": [
    {
     "data": {
      "text/html": [
       "<div>\n",
       "<style scoped>\n",
       "    .dataframe tbody tr th:only-of-type {\n",
       "        vertical-align: middle;\n",
       "    }\n",
       "\n",
       "    .dataframe tbody tr th {\n",
       "        vertical-align: top;\n",
       "    }\n",
       "\n",
       "    .dataframe thead th {\n",
       "        text-align: right;\n",
       "    }\n",
       "</style>\n",
       "<table border=\"1\" class=\"dataframe\">\n",
       "  <thead>\n",
       "    <tr style=\"text-align: right;\">\n",
       "      <th></th>\n",
       "      <th>user_id</th>\n",
       "      <th>month</th>\n",
       "      <th>total_distance</th>\n",
       "      <th>trips_count</th>\n",
       "      <th>duration_sum</th>\n",
       "      <th>index</th>\n",
       "      <th>name</th>\n",
       "      <th>age</th>\n",
       "      <th>city</th>\n",
       "      <th>subscription_type</th>\n",
       "    </tr>\n",
       "  </thead>\n",
       "  <tbody>\n",
       "    <tr>\n",
       "      <th>1053</th>\n",
       "      <td>162</td>\n",
       "      <td>12</td>\n",
       "      <td>2680.434182</td>\n",
       "      <td>1</td>\n",
       "      <td>17.0</td>\n",
       "      <td>161</td>\n",
       "      <td>Тамара</td>\n",
       "      <td>24</td>\n",
       "      <td>Москва</td>\n",
       "      <td>ultra</td>\n",
       "    </tr>\n",
       "    <tr>\n",
       "      <th>1794</th>\n",
       "      <td>273</td>\n",
       "      <td>9</td>\n",
       "      <td>6353.184054</td>\n",
       "      <td>2</td>\n",
       "      <td>42.0</td>\n",
       "      <td>272</td>\n",
       "      <td>Виолетта</td>\n",
       "      <td>30</td>\n",
       "      <td>Омск</td>\n",
       "      <td>ultra</td>\n",
       "    </tr>\n",
       "    <tr>\n",
       "      <th>6751</th>\n",
       "      <td>977</td>\n",
       "      <td>5</td>\n",
       "      <td>4577.165423</td>\n",
       "      <td>2</td>\n",
       "      <td>22.0</td>\n",
       "      <td>976</td>\n",
       "      <td>Амалия</td>\n",
       "      <td>22</td>\n",
       "      <td>Москва</td>\n",
       "      <td>free</td>\n",
       "    </tr>\n",
       "  </tbody>\n",
       "</table>\n",
       "</div>"
      ],
      "text/plain": [
       "      user_id  month  total_distance  trips_count  duration_sum  index  \\\n",
       "1053      162     12     2680.434182            1          17.0    161   \n",
       "1794      273      9     6353.184054            2          42.0    272   \n",
       "6751      977      5     4577.165423            2          22.0    976   \n",
       "\n",
       "          name  age    city subscription_type  \n",
       "1053    Тамара   24  Москва             ultra  \n",
       "1794  Виолетта   30    Омск             ultra  \n",
       "6751    Амалия   22  Москва              free  "
      ]
     },
     "execution_count": 43,
     "metadata": {},
     "output_type": "execute_result"
    }
   ],
   "source": [
    "#Объединим датафреймы по номеру юзера\n",
    "df_cnt_sum = df_cnt_sum.merge(users, how='left', on='user_id')\n",
    "df_cnt_sum.sample(3)"
   ]
  },
  {
   "cell_type": "code",
   "execution_count": 44,
   "id": "f32308af-c524-462b-aef1-2d1eaa523174",
   "metadata": {},
   "outputs": [
    {
     "data": {
      "text/html": [
       "<div>\n",
       "<style scoped>\n",
       "    .dataframe tbody tr th:only-of-type {\n",
       "        vertical-align: middle;\n",
       "    }\n",
       "\n",
       "    .dataframe tbody tr th {\n",
       "        vertical-align: top;\n",
       "    }\n",
       "\n",
       "    .dataframe thead th {\n",
       "        text-align: right;\n",
       "    }\n",
       "</style>\n",
       "<table border=\"1\" class=\"dataframe\">\n",
       "  <thead>\n",
       "    <tr style=\"text-align: right;\">\n",
       "      <th></th>\n",
       "      <th>user_id</th>\n",
       "      <th>month</th>\n",
       "      <th>total_distance</th>\n",
       "      <th>trips_count</th>\n",
       "      <th>duration_sum</th>\n",
       "      <th>index</th>\n",
       "      <th>name</th>\n",
       "      <th>age</th>\n",
       "      <th>city</th>\n",
       "      <th>subscription_type</th>\n",
       "      <th>minute_price</th>\n",
       "      <th>start_ride_price</th>\n",
       "      <th>subscription_fee</th>\n",
       "    </tr>\n",
       "  </thead>\n",
       "  <tbody>\n",
       "    <tr>\n",
       "      <th>604</th>\n",
       "      <td>93</td>\n",
       "      <td>4</td>\n",
       "      <td>7250.702439</td>\n",
       "      <td>2</td>\n",
       "      <td>33.0</td>\n",
       "      <td>92</td>\n",
       "      <td>Вадим</td>\n",
       "      <td>25</td>\n",
       "      <td>Пятигорск</td>\n",
       "      <td>ultra</td>\n",
       "      <td>6</td>\n",
       "      <td>0</td>\n",
       "      <td>199</td>\n",
       "    </tr>\n",
       "    <tr>\n",
       "      <th>362</th>\n",
       "      <td>58</td>\n",
       "      <td>6</td>\n",
       "      <td>3136.925683</td>\n",
       "      <td>1</td>\n",
       "      <td>18.0</td>\n",
       "      <td>57</td>\n",
       "      <td>Ян</td>\n",
       "      <td>22</td>\n",
       "      <td>Пятигорск</td>\n",
       "      <td>ultra</td>\n",
       "      <td>6</td>\n",
       "      <td>0</td>\n",
       "      <td>199</td>\n",
       "    </tr>\n",
       "    <tr>\n",
       "      <th>4156</th>\n",
       "      <td>635</td>\n",
       "      <td>12</td>\n",
       "      <td>266.123499</td>\n",
       "      <td>1</td>\n",
       "      <td>4.0</td>\n",
       "      <td>634</td>\n",
       "      <td>Герман</td>\n",
       "      <td>21</td>\n",
       "      <td>Москва</td>\n",
       "      <td>ultra</td>\n",
       "      <td>6</td>\n",
       "      <td>0</td>\n",
       "      <td>199</td>\n",
       "    </tr>\n",
       "  </tbody>\n",
       "</table>\n",
       "</div>"
      ],
      "text/plain": [
       "      user_id  month  total_distance  trips_count  duration_sum  index  \\\n",
       "604        93      4     7250.702439            2          33.0     92   \n",
       "362        58      6     3136.925683            1          18.0     57   \n",
       "4156      635     12      266.123499            1           4.0    634   \n",
       "\n",
       "        name  age       city subscription_type  minute_price  \\\n",
       "604    Вадим   25  Пятигорск             ultra             6   \n",
       "362       Ян   22  Пятигорск             ultra             6   \n",
       "4156  Герман   21     Москва             ultra             6   \n",
       "\n",
       "      start_ride_price  subscription_fee  \n",
       "604                  0               199  \n",
       "362                  0               199  \n",
       "4156                 0               199  "
      ]
     },
     "execution_count": 44,
     "metadata": {},
     "output_type": "execute_result"
    }
   ],
   "source": [
    "#Объединим датафреймы по типу подписки\n",
    "df_cnt_sum = df_cnt_sum.merge(subscription, how='left', on='subscription_type')\n",
    "df_cnt_sum.sample(3)"
   ]
  },
  {
   "cell_type": "code",
   "execution_count": 45,
   "id": "e16dc341-d396-46be-96be-6494e6228907",
   "metadata": {},
   "outputs": [
    {
     "data": {
      "text/html": [
       "<div>\n",
       "<style scoped>\n",
       "    .dataframe tbody tr th:only-of-type {\n",
       "        vertical-align: middle;\n",
       "    }\n",
       "\n",
       "    .dataframe tbody tr th {\n",
       "        vertical-align: top;\n",
       "    }\n",
       "\n",
       "    .dataframe thead th {\n",
       "        text-align: right;\n",
       "    }\n",
       "</style>\n",
       "<table border=\"1\" class=\"dataframe\">\n",
       "  <thead>\n",
       "    <tr style=\"text-align: right;\">\n",
       "      <th></th>\n",
       "      <th>user_id</th>\n",
       "      <th>month</th>\n",
       "      <th>total_distance</th>\n",
       "      <th>trips_count</th>\n",
       "      <th>duration_sum</th>\n",
       "      <th>index</th>\n",
       "      <th>name</th>\n",
       "      <th>age</th>\n",
       "      <th>city</th>\n",
       "      <th>subscription_type</th>\n",
       "      <th>minute_price</th>\n",
       "      <th>start_ride_price</th>\n",
       "      <th>subscription_fee</th>\n",
       "      <th>value</th>\n",
       "    </tr>\n",
       "  </thead>\n",
       "  <tbody>\n",
       "    <tr>\n",
       "      <th>5282</th>\n",
       "      <td>794</td>\n",
       "      <td>3</td>\n",
       "      <td>3185.489935</td>\n",
       "      <td>2</td>\n",
       "      <td>35.0</td>\n",
       "      <td>793</td>\n",
       "      <td>Андрей</td>\n",
       "      <td>29</td>\n",
       "      <td>Москва</td>\n",
       "      <td>free</td>\n",
       "      <td>8</td>\n",
       "      <td>50</td>\n",
       "      <td>0</td>\n",
       "      <td>380.0</td>\n",
       "    </tr>\n",
       "    <tr>\n",
       "      <th>1800</th>\n",
       "      <td>274</td>\n",
       "      <td>10</td>\n",
       "      <td>4352.267631</td>\n",
       "      <td>1</td>\n",
       "      <td>29.0</td>\n",
       "      <td>273</td>\n",
       "      <td>Гордей</td>\n",
       "      <td>29</td>\n",
       "      <td>Омск</td>\n",
       "      <td>ultra</td>\n",
       "      <td>6</td>\n",
       "      <td>0</td>\n",
       "      <td>199</td>\n",
       "      <td>373.0</td>\n",
       "    </tr>\n",
       "    <tr>\n",
       "      <th>7528</th>\n",
       "      <td>1070</td>\n",
       "      <td>12</td>\n",
       "      <td>4686.567123</td>\n",
       "      <td>1</td>\n",
       "      <td>28.0</td>\n",
       "      <td>1069</td>\n",
       "      <td>Яна</td>\n",
       "      <td>30</td>\n",
       "      <td>Екатеринбург</td>\n",
       "      <td>free</td>\n",
       "      <td>8</td>\n",
       "      <td>50</td>\n",
       "      <td>0</td>\n",
       "      <td>274.0</td>\n",
       "    </tr>\n",
       "  </tbody>\n",
       "</table>\n",
       "</div>"
      ],
      "text/plain": [
       "      user_id  month  total_distance  trips_count  duration_sum  index  \\\n",
       "5282      794      3     3185.489935            2          35.0    793   \n",
       "1800      274     10     4352.267631            1          29.0    273   \n",
       "7528     1070     12     4686.567123            1          28.0   1069   \n",
       "\n",
       "        name  age          city subscription_type  minute_price  \\\n",
       "5282  Андрей   29        Москва              free             8   \n",
       "1800  Гордей   29          Омск             ultra             6   \n",
       "7528     Яна   30  Екатеринбург              free             8   \n",
       "\n",
       "      start_ride_price  subscription_fee  value  \n",
       "5282                50                 0  380.0  \n",
       "1800                 0               199  373.0  \n",
       "7528                50                 0  274.0  "
      ]
     },
     "execution_count": 45,
     "metadata": {},
     "output_type": "execute_result"
    }
   ],
   "source": [
    "#Добавляем столбец с помесячной выручкой\n",
    "df_cnt_sum['value'] = (df_cnt_sum['start_ride_price'] * df_cnt_sum['trips_count'] + df_cnt_sum['minute_price'] \n",
    "                       * df_cnt_sum['duration_sum'] + df_cnt_sum['subscription_fee'])\n",
    "df_cnt_sum.sample(3)"
   ]
  },
  {
   "cell_type": "code",
   "execution_count": 46,
   "id": "fffc76a3-5c53-4f32-b1d9-fd56b78ed02b",
   "metadata": {},
   "outputs": [
    {
     "name": "stdout",
     "output_type": "stream",
     "text": [
      "<class 'pandas.core.frame.DataFrame'>\n",
      "RangeIndex: 11331 entries, 0 to 11330\n",
      "Data columns (total 14 columns):\n",
      " #   Column             Non-Null Count  Dtype  \n",
      "---  ------             --------------  -----  \n",
      " 0   user_id            11331 non-null  int64  \n",
      " 1   month              11331 non-null  int32  \n",
      " 2   total_distance     11331 non-null  float64\n",
      " 3   trips_count        11331 non-null  int64  \n",
      " 4   duration_sum       11331 non-null  float64\n",
      " 5   index              11331 non-null  int64  \n",
      " 6   name               11331 non-null  object \n",
      " 7   age                11331 non-null  int64  \n",
      " 8   city               11331 non-null  object \n",
      " 9   subscription_type  11331 non-null  object \n",
      " 10  minute_price       11331 non-null  int64  \n",
      " 11  start_ride_price   11331 non-null  int64  \n",
      " 12  subscription_fee   11331 non-null  int64  \n",
      " 13  value              11331 non-null  float64\n",
      "dtypes: float64(3), int32(1), int64(7), object(3)\n",
      "memory usage: 1.2+ MB\n"
     ]
    }
   ],
   "source": [
    "df_cnt_sum.info()"
   ]
  },
  {
   "cell_type": "markdown",
   "id": "21623b13-d877-4432-8484-4a8c61aaf31c",
   "metadata": {},
   "source": [
    "Вывод: на данном шаге получили новый датафрейм, в котором появились новые столбцы:\n",
    "1. ```total_distance``` - пройденное за месяц расстояние\n",
    "2. ```trips_count``` - количество поездок за месяц\n",
    "3. ```duration_sum``` - продолжительность поездки за месяц\n",
    "4. ```value``` - выручка по пользователю за месяц."
   ]
  },
  {
   "cell_type": "markdown",
   "id": "7f498009-e5b1-42b6-be4e-de87c0d9a609",
   "metadata": {},
   "source": [
    "## Шаг. Проверка гипотез"
   ]
  },
  {
   "cell_type": "markdown",
   "id": "b577c826-8a5e-4b6d-9a7f-fc7f4dfe5553",
   "metadata": {},
   "source": [
    "###  Пользователи с подпиской тратят больше времени на пользование сервисом"
   ]
  },
  {
   "cell_type": "markdown",
   "id": "57fc69c1-3ae4-4d8c-b894-0fcc1240f906",
   "metadata": {},
   "source": [
    "Нулевая гипотеза - время поездок пользователей с подпиской и пользователей без подписки равны \r\n",
    "\r\n",
    "Альтернативная гипотеза - пользователи с подпиской тратят больше времени на поездку"
   ]
  },
  {
   "cell_type": "code",
   "execution_count": 47,
   "id": "f6d70439-14d2-43d6-95d6-44be40e27bd7",
   "metadata": {},
   "outputs": [
    {
     "name": "stdout",
     "output_type": "stream",
     "text": [
      "p-value: 1.2804098316645618e-34\n",
      "Отвергаем нулевую гипотезу\n"
     ]
    }
   ],
   "source": [
    "#Задаем уровень значимости\n",
    "alpha = .05\n",
    "#Используем метод для 2х независимых выборок для правосторонней гипотезы\n",
    "results = st.ttest_ind(df_users_rides_ultra['duration'], df_users_rides_free['duration'], alternative='greater')\n",
    "\n",
    "print(f'p-value: {results.pvalue}')\n",
    "\n",
    "if (results.pvalue < alpha):\n",
    "    print('Отвергаем нулевую гипотезу')\n",
    "else:\n",
    "    print('Не получилось отвергнуть нулевую гипотезу')"
   ]
  },
  {
   "cell_type": "code",
   "execution_count": 48,
   "id": "02ca56ec-370c-4fc9-b9ab-503532ddbb0a",
   "metadata": {},
   "outputs": [
    {
     "name": "stdout",
     "output_type": "stream",
     "text": [
      "Среднее время юзеров c подпиской = 18.54198516280583\n",
      "Среднее время юзеров без подписки = 17.39090929866399\n"
     ]
    }
   ],
   "source": [
    "#Перепроверим результаты\n",
    "print(f\"Среднее время юзеров c подпиской = {df_users_rides_ultra['duration'].mean()}\")\n",
    "print(f\"Среднее время юзеров без подписки = {df_users_rides_free['duration'].mean()}\")"
   ]
  },
  {
   "cell_type": "markdown",
   "id": "953ce107-1912-4a37-96c1-1e0076e34355",
   "metadata": {},
   "source": [
    "Вывод: пользователи с подпиской в среднем тратят на поездку больше времени."
   ]
  },
  {
   "cell_type": "markdown",
   "id": "86ae63c5-b56d-48ef-ac3f-27868389fa0a",
   "metadata": {},
   "source": [
    "### Расстояние, которое проезжают пользователи с подпиской за поездку не превышает 3130 метров"
   ]
  },
  {
   "cell_type": "markdown",
   "id": "422221e1-6172-448b-be7b-d69bf7e88533",
   "metadata": {},
   "source": [
    "Нулевая гипотеза - расстояние поездки пользователи с подпиской равна 3130 метрам\r\n",
    "\r\n",
    "Альтернативная гипотеза - расстояние поездки пользователи с подпиской больше 3130 метров"
   ]
  },
  {
   "cell_type": "code",
   "execution_count": 49,
   "id": "4fb2bb75-a9ae-45d1-ad05-66b96045cd80",
   "metadata": {},
   "outputs": [
    {
     "name": "stdout",
     "output_type": "stream",
     "text": [
      "p-значение: 0.9195368847849785\n",
      "Не получилось отвергнуть нулевую гипотезу\n"
     ]
    }
   ],
   "source": [
    "#Задаем показатель расстояния\n",
    "interested_value = 3130\n",
    "#Задаем уровень значимости\n",
    "alpha = .05\n",
    "#Используем метод для оценки равенства числу из нулевой гипотезы\n",
    "results = st.ttest_1samp(df_users_rides_ultra['distance'], interested_value, alternative='greater')\n",
    "\n",
    "print('p-значение:', results.pvalue)\n",
    "\n",
    "if (results.pvalue < alpha):\n",
    "    print('Отвергаем нулевую гипотезу')\n",
    "else:\n",
    "    print('Не получилось отвергнуть нулевую гипотезу')"
   ]
  },
  {
   "cell_type": "markdown",
   "id": "e76e21bf-42f4-4a58-8cae-b4d4d7d3df0d",
   "metadata": {},
   "source": [
    "Вывод: расстояние, которое преодолевают пользователи с подпиской меньше или равно 3130 метрам."
   ]
  },
  {
   "cell_type": "markdown",
   "id": "f85df2a7-b8c1-4aa1-988a-5838ed918d80",
   "metadata": {},
   "source": [
    "### Помесячная выручка от пользователей с подпиской больше, чем без нее"
   ]
  },
  {
   "cell_type": "markdown",
   "id": "99128e63-cb9a-4cba-bf97-ed51fbee7ecc",
   "metadata": {},
   "source": [
    "Нулевая гипотеза - выручка от пользователей с подпиской равна выручке без подписки\n",
    "\n",
    "Альтернативная гипотеза - выручка от пользователей с подпиской выше, чем выручка от пользователей без подписки"
   ]
  },
  {
   "cell_type": "code",
   "execution_count": 53,
   "id": "68bc231a-ea38-4c30-914c-06023141ce90",
   "metadata": {},
   "outputs": [
    {
     "name": "stdout",
     "output_type": "stream",
     "text": [
      "p-значение: 1.8850394384715216e-31\n",
      "Отвергаем нулевую гипотезу\n"
     ]
    }
   ],
   "source": [
    "#Задаем уровень значимости\n",
    "alpha = .05\n",
    "#Используем метод для 2х независимых выборок для правосторонней гипотезы\n",
    "results = st.ttest_ind(df_cnt_sum[df_cnt_sum['subscription_type'] == 'ultra']['value'],\n",
    "                       df_cnt_sum[df_cnt_sum['subscription_type'] == 'free']['value'], alternative='greater')\n",
    "\n",
    "print('p-значение:', results.pvalue)\n",
    "\n",
    "if results.pvalue < alpha:\n",
    "    print('Отвергаем нулевую гипотезу')\n",
    "else:\n",
    "    print('Не получилось отвергнуть нулевую гипотезу')"
   ]
  },
  {
   "cell_type": "code",
   "execution_count": 54,
   "id": "949ae2b6-dcb4-4253-98d8-df5353649a38",
   "metadata": {},
   "outputs": [
    {
     "name": "stdout",
     "output_type": "stream",
     "text": [
      "Средняя помесячная выручка юзеров c подпиской = 362.7921906022502\n",
      "Средняя помесячная выручка юзеров без подписки = 328.6413651073845\n"
     ]
    }
   ],
   "source": [
    "#Перепроверим результаты\n",
    "print(f\"Средняя помесячная выручка юзеров c подпиской = {df_cnt_sum[df_cnt_sum['subscription_type'] == 'ultra']['value'].mean()}\")\n",
    "print(f\"Средняя помесячная выручка юзеров без подписки = {df_cnt_sum[df_cnt_sum['subscription_type'] == 'free']['value'].mean()}\")"
   ]
  },
  {
   "cell_type": "markdown",
   "id": "3f5e9f13-2fd1-4a3a-bb31-c0a2328fd262",
   "metadata": {},
   "source": [
    "Вывод: помесячная выручка от пользователей с подпиской больше, чем без нее"
   ]
  },
  {
   "cell_type": "markdown",
   "id": "ff941bb5-dce7-40f2-827b-a6ac86ccfb14",
   "metadata": {},
   "source": [
    "### Количество обращений в техсап снизится после обновления"
   ]
  },
  {
   "cell_type": "markdown",
   "id": "d3014826-264f-460a-9a42-d44cc085b63f",
   "metadata": {},
   "source": [
    "Дана ситуация: Техническая команда сервиса обновила сервера, с которыми взаимодействует мобильное приложение. Она надеется, что из-за этого количество обращений в техподдержку значимо снизилось. Некоторый файл содержит для каждого пользователя данные о количестве обращений до обновления и после него. Какой тест вам понадобился бы для проверки этой гипотезы?\n",
    "\n",
    "Решение: Чтобы проверить гипотезу необзодимо применить метод сравнения 2 совокупностей для зависимых выборок до и после изменения - **st.ttest_rel()**."
   ]
  },
  {
   "cell_type": "markdown",
   "id": "7d5c4e12-9733-4b76-b2d2-5eb0dcfbed90",
   "metadata": {},
   "source": [
    "## Шаг.  Распределения"
   ]
  },
  {
   "cell_type": "markdown",
   "id": "b2ff04ae-62f8-42df-a9c7-254b087753e9",
   "metadata": {},
   "source": [
    "### Акция с промокодами"
   ]
  },
  {
   "cell_type": "markdown",
   "id": "42b3c6f3-733b-4418-bc99-e7a74f8003db",
   "metadata": {},
   "source": [
    "Дана ситуация: необходимо выполнить план по продлениям подписок 100 клиентами путем рассылки промокодов. Есть информация, что вероятность продления 10%. План должен выполнится с вероятностью неудачи не более 5%. Оценить, сколько нужно минимум разослать промокодов."
   ]
  },
  {
   "cell_type": "code",
   "execution_count": 55,
   "id": "1a315c8a-6f9a-46b0-904c-0060fd1c4612",
   "metadata": {},
   "outputs": [
    {
     "data": {
      "image/png": "[encoded data removed]",
      "text/plain": [
       "<Figure size 640x480 with 1 Axes>"
      ]
     },
     "metadata": {},
     "output_type": "display_data"
    }
   ],
   "source": [
    "#Задаем количество попыток\n",
    "n = 100\n",
    "#Задаем вероятность успеха\n",
    "p = .1\n",
    "\n",
    "distr = []\n",
    "\n",
    "for k in range(0, n + 1):\n",
    "    choose = factorial(n) / (factorial(k) * factorial(n - k))\n",
    "    prob = choose * p**k * (1 - p)**(n - k) \n",
    "    distr.append(prob)\n",
    "    \n",
    "plt.bar(range(0, n + 1), distr)\n",
    "plt.xlabel('Количество попыток')\n",
    "plt.ylabel('Вероятность')\n",
    "plt.title('Вероятность распределения')\n",
    "plt.show()"
   ]
  },
  {
   "cell_type": "code",
   "execution_count": 56,
   "id": "0011e028-c3fc-40cd-b5cf-04064199621b",
   "metadata": {},
   "outputs": [
    {
     "data": {
      "text/plain": [
       "1161"
      ]
     },
     "execution_count": 56,
     "metadata": {},
     "output_type": "execute_result"
    }
   ],
   "source": [
    "#Подбираем значение в цикле\n",
    "for n in range(1000, 3000):\n",
    "    if binom.cdf(99, n, 0.1) <= 0.05:\n",
    "        n_number = n\n",
    "        break\n",
    "n_number"
   ]
  },
  {
   "cell_type": "markdown",
   "id": "28c8a11b-73e6-445b-b41c-29c9505fe223",
   "metadata": {},
   "source": [
    "Вывод: необходимо разослать не менее 1161 промокодов для выполнения плана на 95% и выше."
   ]
  },
  {
   "cell_type": "markdown",
   "id": "5729501d-f07c-4221-81ea-74d8b1b3163a",
   "metadata": {},
   "source": [
    "### Рассылка уведомлений"
   ]
  },
  {
   "cell_type": "markdown",
   "id": "63771c0c-7d19-473d-9749-ec49b79f411d",
   "metadata": {},
   "source": [
    "Дана ситуация: отдел маркетинга рассылает клиентам push-уведомления в мобильном приложении. Клиенты могут открыть его или не открывать. Известно, что уведомления открывают около 40 % получивших клиентов. Отдел планирует разослать 1 млн уведомлений. Оценить вероятность того, что уведомление откроют не более 399,5 тыс. пользователей."
   ]
  },
  {
   "cell_type": "code",
   "execution_count": 57,
   "id": "d3dc4674-0e22-4ec7-9c0a-90670c96965e",
   "metadata": {},
   "outputs": [
    {
     "data": {
      "text/plain": [
       "0.15371708296369768"
      ]
     },
     "execution_count": 57,
     "metadata": {},
     "output_type": "execute_result"
    }
   ],
   "source": [
    "# задаём параметры биномиального распределения\n",
    "n = 1000000\n",
    "p = .4\n",
    "# зададим мат.ожидание и ст.отклонение нормального распределения\n",
    "mu = n * p\n",
    "sigma = (n * p * (1 - p))**.5\n",
    "# задаём нормальное распределение\n",
    "distr = st.norm(mu, sigma)\n",
    "\n",
    "# считаем вероятность получить значение, равное или меньше \n",
    "result = distr.cdf(399500)\n",
    "result"
   ]
  },
  {
   "cell_type": "markdown",
   "id": "9680cca6-221d-4192-a38e-27df412fb47f",
   "metadata": {},
   "source": [
    "Вывод: с вероятностью ~15% уведомления откроют не более 399500 пользователей, согласно акции с рассылкой 1кк уведомлений"
   ]
  },
  {
   "cell_type": "markdown",
   "id": "ac30bf42-b553-42f3-b201-0c025065b888",
   "metadata": {},
   "source": [
    "## Общий вывод"
   ]
  },
  {
   "cell_type": "markdown",
   "id": "3bfd22a1-f36f-47ce-9f7e-5b486a327102",
   "metadata": {},
   "source": [
    "Проведена работа с целью анализа данных сервиса аренды самокатов. Была проведена предобработка данных и приведение к оптимальным типам данных, были уделены дублирующиеся значения. Сами данные были предоставлены в качественном виде с отсутствием пропусков.\n",
    "\n",
    "Исследовательский анализа показал:\n",
    "- Предоставлены данные для 8 городов, больше всего пользователей из Пятигорска\n",
    "- Пользователей, которые используют сервис без подписки больше, примерно на 19,6%\n",
    "- Сервисом пользуются люди в возрасте от 12 до 43 лет. Больше всего представлены пользователи в возрасте 25 лет\n",
    "- Среднее расстояние за поездку составляет 3,07 километра \n",
    "- Наиболее распространенное время поездки около 18 минут.\n",
    "\n",
    "Был создан новый датафрейм в котором добавились столбцы: номер месяца, пройденное пользователем расстояние за месяц, количество поездок для пользователя за месяц, продолжительность поездки за месяц и выручка.\n",
    "\n",
    "Решены поставленные задачи:\n",
    "- Пользователи, имеющие подписку тратят на поездку больше времени, чем пользователи без нее\n",
    "- Можно утверждать, что пользователи, имеющие подписку проезжают в среднем менее 3130 метров\n",
    "- Больше выручки приносят пользователи, имеющие подписку на сервис\n",
    "- Для выполнения плана по продлению подписок необходимо разослать не менее 1161 промокодов\n",
    "- В акции с рассылкой 1кк уведомлений около 15% вероятность, что их откроют не более 399500 пользователей.\n",
    "\n",
    "Сервису можно порекомендовать сконцентрировать больше внимание на пользователях с подпиской, так как они дольше пользуются самокатами и приносят больше дохода. Можно назвать хорошей практикой введение платных подписок, стоит подумать о добавлении бОльших вариаций, чтобы привлечь и внимание пользователей, которые сейчас подписку не используют, а их большинство. Стоит увеличить износостойкость самокатов, так как 3 километра - это низкий показатель для больших городов, что и показывает низкую популярность в Москве, по отношению к более скромным по размерам городам."
   ]
  }
 ],
 "metadata": {
  "kernelspec": {
   "display_name": "Python 3 (ipykernel)",
   "language": "python",
   "name": "python3"
  },
  "language_info": {
   "codemirror_mode": {
    "name": "ipython",
    "version": 3
   },
   "file_extension": ".py",
   "mimetype": "text/x-python",
   "name": "python",
   "nbconvert_exporter": "python",
   "pygments_lexer": "ipython3",
   "version": "3.11.7"
  }
 },
 "nbformat": 4,
 "nbformat_minor": 5
}
