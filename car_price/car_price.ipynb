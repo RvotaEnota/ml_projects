{
 "cells": [
  {
   "cell_type": "markdown",
   "metadata": {},
   "source": [
    "# Определение стоимости автомобилей"
   ]
  },
  {
   "cell_type": "markdown",
   "metadata": {},
   "source": [
    "Сервис по продаже автомобилей с пробегом «Не бит, не крашен» разрабатывает приложение для привлечения новых клиентов. В нём можно быстро узнать рыночную стоимость своего автомобиля. В вашем распоряжении исторические данные: технические характеристики, комплектации и цены автомобилей. Вам нужно построить модель для определения стоимости. \n",
    "\n",
    "Заказчику важны:\n",
    "\n",
    "- **качество предсказания;**\n",
    "- **скорость предсказания;**\n",
    "- **время обучения.**\n",
    "\n",
    "___\n",
    "В датасете представлены колонки:\n",
    "\n",
    "- DateCrawled — дата скачивания анкеты из базы\n",
    "- VehicleType — тип автомобильного кузова\n",
    "- RegistrationYear — год регистрации автомобиля\n",
    "- Gearbox — тип коробки передач\n",
    "- Power — мощность (л. с.)\n",
    "- Model — модель автомобиля\n",
    "- Kilometer — пробег (км)\n",
    "- RegistrationMonth — месяц регистрации автомобиля\n",
    "- FuelType — тип топлива\n",
    "- Brand — марка автомобиля\n",
    "- Repaired — была машина в ремонте или нет\n",
    "- DateCreated — дата создания анкеты\n",
    "- NumberOfPictures — количество фотографий автомобиля\n",
    "- PostalCode — почтовый индекс владельца анкеты (пользователя)\n",
    "- LastSeen — дата последней активности пользователя\n",
    "- Price (Целевой признак) — цена (евро)\n",
    "\n",
    "___\n",
    "Задачи и цели:\n",
    "\n",
    "- Загрузить библиотеки и данные\n",
    "- Провести предобработку\n",
    "- Проанализировать целевой признак и числовые данные на аномалии\n",
    "- Построить матрицу корреляции и проверить признаки на мультиколлинеарность\n",
    "- Построить и проанализировать модели\n",
    "- Сделать выводы и дать рекомендации закасчику, согласно его требованиям"
   ]
  },
  {
   "cell_type": "markdown",
   "metadata": {},
   "source": [
    "## Загрузка и Подготовка данных"
   ]
  },
  {
   "cell_type": "code",
   "execution_count": 1,
   "metadata": {},
   "outputs": [
    {
     "name": "stdout",
     "output_type": "stream",
     "text": [
      "Collecting phik\n",
      "  Downloading phik-0.12.4-cp39-cp39-manylinux_2_17_x86_64.manylinux2014_x86_64.whl (686 kB)\n",
      "\u001b[K     |████████████████████████████████| 686 kB 2.5 MB/s eta 0:00:01\n",
      "\u001b[?25hRequirement already satisfied: joblib>=0.14.1 in /opt/conda/lib/python3.9/site-packages (from phik) (1.1.0)\n",
      "Requirement already satisfied: scipy>=1.5.2 in /opt/conda/lib/python3.9/site-packages (from phik) (1.9.1)\n",
      "Requirement already satisfied: matplotlib>=2.2.3 in /opt/conda/lib/python3.9/site-packages (from phik) (3.3.4)\n",
      "Requirement already satisfied: pandas>=0.25.1 in /opt/conda/lib/python3.9/site-packages (from phik) (1.2.4)\n",
      "Requirement already satisfied: numpy>=1.18.0 in /opt/conda/lib/python3.9/site-packages (from phik) (1.21.1)\n",
      "Requirement already satisfied: cycler>=0.10 in /opt/conda/lib/python3.9/site-packages (from matplotlib>=2.2.3->phik) (0.11.0)\n",
      "Requirement already satisfied: pyparsing!=2.0.4,!=2.1.2,!=2.1.6,>=2.0.3 in /opt/conda/lib/python3.9/site-packages (from matplotlib>=2.2.3->phik) (2.4.7)\n",
      "Requirement already satisfied: kiwisolver>=1.0.1 in /opt/conda/lib/python3.9/site-packages (from matplotlib>=2.2.3->phik) (1.4.4)\n",
      "Requirement already satisfied: python-dateutil>=2.1 in /opt/conda/lib/python3.9/site-packages (from matplotlib>=2.2.3->phik) (2.8.1)\n",
      "Requirement already satisfied: pillow>=6.2.0 in /opt/conda/lib/python3.9/site-packages (from matplotlib>=2.2.3->phik) (8.4.0)\n",
      "Requirement already satisfied: pytz>=2017.3 in /opt/conda/lib/python3.9/site-packages (from pandas>=0.25.1->phik) (2021.1)\n",
      "Requirement already satisfied: six>=1.5 in /opt/conda/lib/python3.9/site-packages (from python-dateutil>=2.1->matplotlib>=2.2.3->phik) (1.16.0)\n",
      "Installing collected packages: phik\n",
      "Successfully installed phik-0.12.4\n"
     ]
    },
    {
     "data": {
      "text/html": [
       "<style>.container { width:90% !important; }</style>"
      ],
      "text/plain": [
       "<IPython.core.display.HTML object>"
      ]
     },
     "metadata": {},
     "output_type": "display_data"
    }
   ],
   "source": [
    "!pip install phik\n",
    "\n",
    "import time\n",
    "import pandas as pd\n",
    "import numpy as np\n",
    "import matplotlib.pyplot as plt\n",
    "import seaborn as sns\n",
    "from sklearn.preprocessing import OrdinalEncoder\n",
    "from sklearn.model_selection import train_test_split, RandomizedSearchCV\n",
    "from sklearn.metrics import mean_squared_error\n",
    "from sklearn.tree import DecisionTreeRegressor\n",
    "from sklearn.ensemble import RandomForestRegressor\n",
    "import lightgbm as lgb\n",
    "from lightgbm import LGBMRegressor\n",
    "\n",
    "from phik import phik_matrix\n",
    "from phik.report import plot_correlation_matrix\n",
    "\n",
    "pd.set_option('display.float_format', '{:.2f}'.format)\n",
    "\n",
    "from IPython.core.display import display, HTML\n",
    "display(HTML(\"<style>.container { width:90% !important; }</style>\"))"
   ]
  },
  {
   "cell_type": "code",
   "execution_count": 2,
   "metadata": {},
   "outputs": [],
   "source": [
    "df = pd.read_csv(\"/datasets/autos.csv\")"
   ]
  },
  {
   "cell_type": "code",
   "execution_count": 3,
   "metadata": {},
   "outputs": [
    {
     "data": {
      "text/html": [
       "<div>\n",
       "<style scoped>\n",
       "    .dataframe tbody tr th:only-of-type {\n",
       "        vertical-align: middle;\n",
       "    }\n",
       "\n",
       "    .dataframe tbody tr th {\n",
       "        vertical-align: top;\n",
       "    }\n",
       "\n",
       "    .dataframe thead th {\n",
       "        text-align: right;\n",
       "    }\n",
       "</style>\n",
       "<table border=\"1\" class=\"dataframe\">\n",
       "  <thead>\n",
       "    <tr style=\"text-align: right;\">\n",
       "      <th></th>\n",
       "      <th>DateCrawled</th>\n",
       "      <th>Price</th>\n",
       "      <th>VehicleType</th>\n",
       "      <th>RegistrationYear</th>\n",
       "      <th>Gearbox</th>\n",
       "      <th>Power</th>\n",
       "      <th>Model</th>\n",
       "      <th>Kilometer</th>\n",
       "      <th>RegistrationMonth</th>\n",
       "      <th>FuelType</th>\n",
       "      <th>Brand</th>\n",
       "      <th>Repaired</th>\n",
       "      <th>DateCreated</th>\n",
       "      <th>NumberOfPictures</th>\n",
       "      <th>PostalCode</th>\n",
       "      <th>LastSeen</th>\n",
       "    </tr>\n",
       "  </thead>\n",
       "  <tbody>\n",
       "    <tr>\n",
       "      <th>0</th>\n",
       "      <td>2016-03-24 11:52:17</td>\n",
       "      <td>480</td>\n",
       "      <td>NaN</td>\n",
       "      <td>1993</td>\n",
       "      <td>manual</td>\n",
       "      <td>0</td>\n",
       "      <td>golf</td>\n",
       "      <td>150000</td>\n",
       "      <td>0</td>\n",
       "      <td>petrol</td>\n",
       "      <td>volkswagen</td>\n",
       "      <td>NaN</td>\n",
       "      <td>2016-03-24 00:00:00</td>\n",
       "      <td>0</td>\n",
       "      <td>70435</td>\n",
       "      <td>2016-04-07 03:16:57</td>\n",
       "    </tr>\n",
       "    <tr>\n",
       "      <th>1</th>\n",
       "      <td>2016-03-24 10:58:45</td>\n",
       "      <td>18300</td>\n",
       "      <td>coupe</td>\n",
       "      <td>2011</td>\n",
       "      <td>manual</td>\n",
       "      <td>190</td>\n",
       "      <td>NaN</td>\n",
       "      <td>125000</td>\n",
       "      <td>5</td>\n",
       "      <td>gasoline</td>\n",
       "      <td>audi</td>\n",
       "      <td>yes</td>\n",
       "      <td>2016-03-24 00:00:00</td>\n",
       "      <td>0</td>\n",
       "      <td>66954</td>\n",
       "      <td>2016-04-07 01:46:50</td>\n",
       "    </tr>\n",
       "    <tr>\n",
       "      <th>2</th>\n",
       "      <td>2016-03-14 12:52:21</td>\n",
       "      <td>9800</td>\n",
       "      <td>suv</td>\n",
       "      <td>2004</td>\n",
       "      <td>auto</td>\n",
       "      <td>163</td>\n",
       "      <td>grand</td>\n",
       "      <td>125000</td>\n",
       "      <td>8</td>\n",
       "      <td>gasoline</td>\n",
       "      <td>jeep</td>\n",
       "      <td>NaN</td>\n",
       "      <td>2016-03-14 00:00:00</td>\n",
       "      <td>0</td>\n",
       "      <td>90480</td>\n",
       "      <td>2016-04-05 12:47:46</td>\n",
       "    </tr>\n",
       "    <tr>\n",
       "      <th>3</th>\n",
       "      <td>2016-03-17 16:54:04</td>\n",
       "      <td>1500</td>\n",
       "      <td>small</td>\n",
       "      <td>2001</td>\n",
       "      <td>manual</td>\n",
       "      <td>75</td>\n",
       "      <td>golf</td>\n",
       "      <td>150000</td>\n",
       "      <td>6</td>\n",
       "      <td>petrol</td>\n",
       "      <td>volkswagen</td>\n",
       "      <td>no</td>\n",
       "      <td>2016-03-17 00:00:00</td>\n",
       "      <td>0</td>\n",
       "      <td>91074</td>\n",
       "      <td>2016-03-17 17:40:17</td>\n",
       "    </tr>\n",
       "    <tr>\n",
       "      <th>4</th>\n",
       "      <td>2016-03-31 17:25:20</td>\n",
       "      <td>3600</td>\n",
       "      <td>small</td>\n",
       "      <td>2008</td>\n",
       "      <td>manual</td>\n",
       "      <td>69</td>\n",
       "      <td>fabia</td>\n",
       "      <td>90000</td>\n",
       "      <td>7</td>\n",
       "      <td>gasoline</td>\n",
       "      <td>skoda</td>\n",
       "      <td>no</td>\n",
       "      <td>2016-03-31 00:00:00</td>\n",
       "      <td>0</td>\n",
       "      <td>60437</td>\n",
       "      <td>2016-04-06 10:17:21</td>\n",
       "    </tr>\n",
       "  </tbody>\n",
       "</table>\n",
       "</div>"
      ],
      "text/plain": [
       "           DateCrawled  Price VehicleType  RegistrationYear Gearbox  Power  \\\n",
       "0  2016-03-24 11:52:17    480         NaN              1993  manual      0   \n",
       "1  2016-03-24 10:58:45  18300       coupe              2011  manual    190   \n",
       "2  2016-03-14 12:52:21   9800         suv              2004    auto    163   \n",
       "3  2016-03-17 16:54:04   1500       small              2001  manual     75   \n",
       "4  2016-03-31 17:25:20   3600       small              2008  manual     69   \n",
       "\n",
       "   Model  Kilometer  RegistrationMonth  FuelType       Brand Repaired  \\\n",
       "0   golf     150000                  0    petrol  volkswagen      NaN   \n",
       "1    NaN     125000                  5  gasoline        audi      yes   \n",
       "2  grand     125000                  8  gasoline        jeep      NaN   \n",
       "3   golf     150000                  6    petrol  volkswagen       no   \n",
       "4  fabia      90000                  7  gasoline       skoda       no   \n",
       "\n",
       "           DateCreated  NumberOfPictures  PostalCode             LastSeen  \n",
       "0  2016-03-24 00:00:00                 0       70435  2016-04-07 03:16:57  \n",
       "1  2016-03-24 00:00:00                 0       66954  2016-04-07 01:46:50  \n",
       "2  2016-03-14 00:00:00                 0       90480  2016-04-05 12:47:46  \n",
       "3  2016-03-17 00:00:00                 0       91074  2016-03-17 17:40:17  \n",
       "4  2016-03-31 00:00:00                 0       60437  2016-04-06 10:17:21  "
      ]
     },
     "execution_count": 3,
     "metadata": {},
     "output_type": "execute_result"
    }
   ],
   "source": [
    "df.head()"
   ]
  },
  {
   "cell_type": "code",
   "execution_count": 4,
   "metadata": {},
   "outputs": [
    {
     "name": "stdout",
     "output_type": "stream",
     "text": [
      "<class 'pandas.core.frame.DataFrame'>\n",
      "RangeIndex: 354369 entries, 0 to 354368\n",
      "Data columns (total 16 columns):\n",
      " #   Column             Non-Null Count   Dtype \n",
      "---  ------             --------------   ----- \n",
      " 0   DateCrawled        354369 non-null  object\n",
      " 1   Price              354369 non-null  int64 \n",
      " 2   VehicleType        316879 non-null  object\n",
      " 3   RegistrationYear   354369 non-null  int64 \n",
      " 4   Gearbox            334536 non-null  object\n",
      " 5   Power              354369 non-null  int64 \n",
      " 6   Model              334664 non-null  object\n",
      " 7   Kilometer          354369 non-null  int64 \n",
      " 8   RegistrationMonth  354369 non-null  int64 \n",
      " 9   FuelType           321474 non-null  object\n",
      " 10  Brand              354369 non-null  object\n",
      " 11  Repaired           283215 non-null  object\n",
      " 12  DateCreated        354369 non-null  object\n",
      " 13  NumberOfPictures   354369 non-null  int64 \n",
      " 14  PostalCode         354369 non-null  int64 \n",
      " 15  LastSeen           354369 non-null  object\n",
      "dtypes: int64(7), object(9)\n",
      "memory usage: 43.3+ MB\n"
     ]
    }
   ],
   "source": [
    "df.info()"
   ]
  },
  {
   "cell_type": "markdown",
   "metadata": {},
   "source": [
    "### Предобработка"
   ]
  },
  {
   "cell_type": "code",
   "execution_count": 5,
   "metadata": {},
   "outputs": [],
   "source": [
    "#Приведем к змеиному регистру, составим словарь\n",
    "columns_corrected = {\n",
    "    'DateCrawled': 'date_crawled',\n",
    "    'Price': 'price',\n",
    "    'VehicleType': 'vehicle_type',\n",
    "    'RegistrationYear': 'registration_year',\n",
    "    'Gearbox': 'gearbox',\n",
    "    'Power': 'power',\n",
    "    'Model': 'model',\n",
    "    'Kilometer': 'kilometer',\n",
    "    'RegistrationMonth': 'registration_month',\n",
    "    'FuelType': 'fuel_type',\n",
    "    'Brand': 'brand',\n",
    "    'Repaired': 'repaired',\n",
    "    'DateCreated': 'date_created',\n",
    "    'NumberOfPictures': 'number_of_pictures',\n",
    "    'PostalCode': 'postal_code',\n",
    "    'LastSeen': 'last_seen'}\n",
    "\n",
    "df.rename(columns=columns_corrected, inplace=True)"
   ]
  },
  {
   "cell_type": "code",
   "execution_count": 6,
   "metadata": {},
   "outputs": [
    {
     "data": {
      "text/plain": [
       "{'vehicle_type': array([nan, 'coupe', 'suv', 'small', 'sedan', 'convertible', 'bus',\n",
       "        'wagon', 'other'], dtype=object),\n",
       " 'gearbox': array(['manual', 'auto', nan], dtype=object),\n",
       " 'fuel_type': array(['petrol', 'gasoline', nan, 'lpg', 'other', 'hybrid', 'cng',\n",
       "        'electric'], dtype=object),\n",
       " 'repaired': array([nan, 'yes', 'no'], dtype=object),\n",
       " 'model': array(['golf', nan, 'grand', 'fabia', '3er', '2_reihe', 'other', 'c_max',\n",
       "        '3_reihe', 'passat', 'navara', 'ka', 'polo', 'twingo', 'a_klasse',\n",
       "        'scirocco', '5er', 'meriva', 'arosa', 'c4', 'civic', 'transporter',\n",
       "        'punto', 'e_klasse', 'clio', 'kadett', 'kangoo', 'corsa', 'one',\n",
       "        'fortwo', '1er', 'b_klasse', 'signum', 'astra', 'a8', 'jetta',\n",
       "        'fiesta', 'c_klasse', 'micra', 'vito', 'sprinter', '156', 'escort',\n",
       "        'forester', 'xc_reihe', 'scenic', 'a4', 'a1', 'insignia', 'combo',\n",
       "        'focus', 'tt', 'a6', 'jazz', 'omega', 'slk', '7er', '80', '147',\n",
       "        '100', 'z_reihe', 'sportage', 'sorento', 'v40', 'ibiza', 'mustang',\n",
       "        'eos', 'touran', 'getz', 'a3', 'almera', 'megane', 'lupo', 'r19',\n",
       "        'zafira', 'caddy', 'mondeo', 'cordoba', 'colt', 'impreza',\n",
       "        'vectra', 'berlingo', 'tiguan', 'i_reihe', 'espace', 'sharan',\n",
       "        '6_reihe', 'panda', 'up', 'seicento', 'ceed', '5_reihe', 'yeti',\n",
       "        'octavia', 'mii', 'rx_reihe', '6er', 'modus', 'fox', 'matiz',\n",
       "        'beetle', 'c1', 'rio', 'touareg', 'logan', 'spider', 'cuore',\n",
       "        's_max', 'a2', 'galaxy', 'c3', 'viano', 's_klasse', '1_reihe',\n",
       "        'avensis', 'roomster', 'sl', 'kaefer', 'santa', 'cooper', 'leon',\n",
       "        '4_reihe', 'a5', '500', 'laguna', 'ptcruiser', 'clk', 'primera',\n",
       "        'x_reihe', 'exeo', '159', 'transit', 'juke', 'qashqai', 'carisma',\n",
       "        'accord', 'corolla', 'lanos', 'phaeton', 'verso', 'swift', 'rav',\n",
       "        'picanto', 'boxster', 'kalos', 'superb', 'stilo', 'alhambra',\n",
       "        'mx_reihe', 'roadster', 'ypsilon', 'cayenne', 'galant', 'justy',\n",
       "        '90', 'sirion', 'crossfire', 'agila', 'duster', 'cr_reihe', 'v50',\n",
       "        'c_reihe', 'v_klasse', 'm_klasse', 'yaris', 'c5', 'aygo', 'cc',\n",
       "        'carnival', 'fusion', '911', 'bora', 'forfour', 'm_reihe', 'cl',\n",
       "        'tigra', '300c', 'spark', 'v70', 'kuga', 'x_type', 'ducato',\n",
       "        's_type', 'x_trail', 'toledo', 'altea', 'voyager', 'calibra',\n",
       "        'bravo', 'antara', 'tucson', 'citigo', 'jimny', 'wrangler',\n",
       "        'lybra', 'q7', 'lancer', 'captiva', 'c2', 'discovery',\n",
       "        'freelander', 'sandero', 'note', '900', 'cherokee', 'clubman',\n",
       "        'samara', 'defender', '601', 'cx_reihe', 'legacy', 'pajero',\n",
       "        'auris', 'niva', 's60', 'nubira', 'vivaro', 'g_klasse', 'lodgy',\n",
       "        '850', 'range_rover', 'q3', 'serie_2', 'glk', 'charade', 'croma',\n",
       "        'outlander', 'doblo', 'musa', 'move', '9000', 'v60', '145', 'aveo',\n",
       "        '200', 'b_max', 'range_rover_sport', 'terios', 'rangerover', 'q5',\n",
       "        'range_rover_evoque', 'materia', 'delta', 'gl', 'kalina', 'amarok',\n",
       "        'elefantino', 'i3', 'kappa', 'serie_3', 'serie_1'], dtype=object)}"
      ]
     },
     "execution_count": 6,
     "metadata": {},
     "output_type": "execute_result"
    }
   ],
   "source": [
    "#Посмотрим на уникальные дубликаты в колонках с пропусками\n",
    "columns_with_na = ['vehicle_type', 'gearbox', 'fuel_type', 'repaired', 'model']\n",
    "\n",
    "unique_values = {column: df[column].unique() for column in columns_with_na}\n",
    "unique_values"
   ]
  },
  {
   "cell_type": "code",
   "execution_count": 7,
   "metadata": {},
   "outputs": [
    {
     "data": {
      "text/html": [
       "<div>\n",
       "<style scoped>\n",
       "    .dataframe tbody tr th:only-of-type {\n",
       "        vertical-align: middle;\n",
       "    }\n",
       "\n",
       "    .dataframe tbody tr th {\n",
       "        vertical-align: top;\n",
       "    }\n",
       "\n",
       "    .dataframe thead th {\n",
       "        text-align: right;\n",
       "    }\n",
       "</style>\n",
       "<table border=\"1\" class=\"dataframe\">\n",
       "  <thead>\n",
       "    <tr style=\"text-align: right;\">\n",
       "      <th></th>\n",
       "      <th>Column</th>\n",
       "      <th>Missing Percentage</th>\n",
       "    </tr>\n",
       "  </thead>\n",
       "  <tbody>\n",
       "    <tr>\n",
       "      <th>11</th>\n",
       "      <td>repaired</td>\n",
       "      <td>20.08</td>\n",
       "    </tr>\n",
       "    <tr>\n",
       "      <th>2</th>\n",
       "      <td>vehicle_type</td>\n",
       "      <td>10.58</td>\n",
       "    </tr>\n",
       "    <tr>\n",
       "      <th>9</th>\n",
       "      <td>fuel_type</td>\n",
       "      <td>9.28</td>\n",
       "    </tr>\n",
       "    <tr>\n",
       "      <th>4</th>\n",
       "      <td>gearbox</td>\n",
       "      <td>5.60</td>\n",
       "    </tr>\n",
       "    <tr>\n",
       "      <th>6</th>\n",
       "      <td>model</td>\n",
       "      <td>5.56</td>\n",
       "    </tr>\n",
       "    <tr>\n",
       "      <th>0</th>\n",
       "      <td>date_crawled</td>\n",
       "      <td>0.00</td>\n",
       "    </tr>\n",
       "    <tr>\n",
       "      <th>1</th>\n",
       "      <td>price</td>\n",
       "      <td>0.00</td>\n",
       "    </tr>\n",
       "    <tr>\n",
       "      <th>3</th>\n",
       "      <td>registration_year</td>\n",
       "      <td>0.00</td>\n",
       "    </tr>\n",
       "    <tr>\n",
       "      <th>5</th>\n",
       "      <td>power</td>\n",
       "      <td>0.00</td>\n",
       "    </tr>\n",
       "    <tr>\n",
       "      <th>7</th>\n",
       "      <td>kilometer</td>\n",
       "      <td>0.00</td>\n",
       "    </tr>\n",
       "    <tr>\n",
       "      <th>8</th>\n",
       "      <td>registration_month</td>\n",
       "      <td>0.00</td>\n",
       "    </tr>\n",
       "    <tr>\n",
       "      <th>10</th>\n",
       "      <td>brand</td>\n",
       "      <td>0.00</td>\n",
       "    </tr>\n",
       "    <tr>\n",
       "      <th>12</th>\n",
       "      <td>date_created</td>\n",
       "      <td>0.00</td>\n",
       "    </tr>\n",
       "    <tr>\n",
       "      <th>13</th>\n",
       "      <td>number_of_pictures</td>\n",
       "      <td>0.00</td>\n",
       "    </tr>\n",
       "    <tr>\n",
       "      <th>14</th>\n",
       "      <td>postal_code</td>\n",
       "      <td>0.00</td>\n",
       "    </tr>\n",
       "    <tr>\n",
       "      <th>15</th>\n",
       "      <td>last_seen</td>\n",
       "      <td>0.00</td>\n",
       "    </tr>\n",
       "  </tbody>\n",
       "</table>\n",
       "</div>"
      ],
      "text/plain": [
       "                Column  Missing Percentage\n",
       "11            repaired               20.08\n",
       "2         vehicle_type               10.58\n",
       "9            fuel_type                9.28\n",
       "4              gearbox                5.60\n",
       "6                model                5.56\n",
       "0         date_crawled                0.00\n",
       "1                price                0.00\n",
       "3    registration_year                0.00\n",
       "5                power                0.00\n",
       "7            kilometer                0.00\n",
       "8   registration_month                0.00\n",
       "10               brand                0.00\n",
       "12        date_created                0.00\n",
       "13  number_of_pictures                0.00\n",
       "14         postal_code                0.00\n",
       "15           last_seen                0.00"
      ]
     },
     "execution_count": 7,
     "metadata": {},
     "output_type": "execute_result"
    }
   ],
   "source": [
    "#Проверим процентное соотношение пропусков\n",
    "missing_percentage = df.isnull().mean() * 100\n",
    "missing_summary = pd.DataFrame({\n",
    "    'Column': missing_percentage.index,\n",
    "    'Missing Percentage': missing_percentage.values\n",
    "}).sort_values(by='Missing Percentage', ascending=False)\n",
    "\n",
    "missing_summary"
   ]
  },
  {
   "cell_type": "markdown",
   "metadata": {},
   "source": [
    "Большой процент пропусков в каждой графе, удаление будет плохой идеей, т.к. это может сильно повлиять на модель. Заполним пропуски в столбце с ремонтом на нет, а в остальных поставим заглушку **unknown**"
   ]
  },
  {
   "cell_type": "code",
   "execution_count": 8,
   "metadata": {},
   "outputs": [],
   "source": [
    "df['repaired'].fillna('no', inplace=True)\n",
    "\n",
    "for column in ['vehicle_type', 'gearbox', 'fuel_type', 'model']:\n",
    "    df[column].fillna('unknown', inplace=True)"
   ]
  },
  {
   "cell_type": "code",
   "execution_count": 9,
   "metadata": {},
   "outputs": [
    {
     "data": {
      "text/plain": [
       "5"
      ]
     },
     "execution_count": 9,
     "metadata": {},
     "output_type": "execute_result"
    }
   ],
   "source": [
    "df.duplicated().sum()"
   ]
  },
  {
   "cell_type": "markdown",
   "metadata": {},
   "source": [
    "Всего 5 дубликатов в датафрейме - удаяем "
   ]
  },
  {
   "cell_type": "code",
   "execution_count": 10,
   "metadata": {},
   "outputs": [],
   "source": [
    "df.drop_duplicates(inplace=True)"
   ]
  },
  {
   "cell_type": "markdown",
   "metadata": {},
   "source": [
    "Удалим столбцы, которые не информативны для предсказания стоимости:\n",
    "\n",
    "- date_crawled и last_seen - Нет взаимосвязи со стоимостью автомобиля, просто активность пользователей\n",
    "\n",
    "- number_of_pictures - Тоже показатель, который не несест ифнормации по стоимости\n",
    "\n",
    "- postal_code - Теоритически почтовый индекс может быть связан с регионом, но не думаю, что он влият на ценник\n",
    "\n",
    "- date_created -  Это дата создания объявления, точно нет ничего критичного.\n",
    "\n",
    "- registration_month - Конкретно месяц регистрации очень навряд ли влияет на ценник, в отличии от года"
   ]
  },
  {
   "cell_type": "code",
   "execution_count": 11,
   "metadata": {},
   "outputs": [],
   "source": [
    "#удаление неинформативных столбцов\n",
    "columns_to_drop = [\n",
    "    'date_crawled',\n",
    "    'last_seen',\n",
    "    'number_of_pictures',\n",
    "    'postal_code',\n",
    "    'date_created',\n",
    "    'registration_month']\n",
    "\n",
    "df.drop(columns=columns_to_drop, inplace=True)"
   ]
  },
  {
   "cell_type": "code",
   "execution_count": 12,
   "metadata": {},
   "outputs": [
    {
     "name": "stdout",
     "output_type": "stream",
     "text": [
      "<class 'pandas.core.frame.DataFrame'>\n",
      "Int64Index: 354364 entries, 0 to 354368\n",
      "Data columns (total 10 columns):\n",
      " #   Column             Non-Null Count   Dtype \n",
      "---  ------             --------------   ----- \n",
      " 0   price              354364 non-null  int64 \n",
      " 1   vehicle_type       354364 non-null  object\n",
      " 2   registration_year  354364 non-null  int64 \n",
      " 3   gearbox            354364 non-null  object\n",
      " 4   power              354364 non-null  int64 \n",
      " 5   model              354364 non-null  object\n",
      " 6   kilometer          354364 non-null  int64 \n",
      " 7   fuel_type          354364 non-null  object\n",
      " 8   brand              354364 non-null  object\n",
      " 9   repaired           354364 non-null  object\n",
      "dtypes: int64(4), object(6)\n",
      "memory usage: 29.7+ MB\n"
     ]
    }
   ],
   "source": [
    "df.info()"
   ]
  },
  {
   "cell_type": "markdown",
   "metadata": {},
   "source": [
    "### Анализ распределений"
   ]
  },
  {
   "cell_type": "code",
   "execution_count": 13,
   "metadata": {},
   "outputs": [
    {
     "data": {
      "text/html": [
       "<div>\n",
       "<style scoped>\n",
       "    .dataframe tbody tr th:only-of-type {\n",
       "        vertical-align: middle;\n",
       "    }\n",
       "\n",
       "    .dataframe tbody tr th {\n",
       "        vertical-align: top;\n",
       "    }\n",
       "\n",
       "    .dataframe thead th {\n",
       "        text-align: right;\n",
       "    }\n",
       "</style>\n",
       "<table border=\"1\" class=\"dataframe\">\n",
       "  <thead>\n",
       "    <tr style=\"text-align: right;\">\n",
       "      <th></th>\n",
       "      <th>price</th>\n",
       "      <th>registration_year</th>\n",
       "      <th>power</th>\n",
       "      <th>kilometer</th>\n",
       "    </tr>\n",
       "  </thead>\n",
       "  <tbody>\n",
       "    <tr>\n",
       "      <th>count</th>\n",
       "      <td>354364.00</td>\n",
       "      <td>354364.00</td>\n",
       "      <td>354364.00</td>\n",
       "      <td>354364.00</td>\n",
       "    </tr>\n",
       "    <tr>\n",
       "      <th>mean</th>\n",
       "      <td>4416.66</td>\n",
       "      <td>2004.23</td>\n",
       "      <td>110.09</td>\n",
       "      <td>128211.37</td>\n",
       "    </tr>\n",
       "    <tr>\n",
       "      <th>std</th>\n",
       "      <td>4514.16</td>\n",
       "      <td>90.23</td>\n",
       "      <td>189.85</td>\n",
       "      <td>37905.14</td>\n",
       "    </tr>\n",
       "    <tr>\n",
       "      <th>min</th>\n",
       "      <td>0.00</td>\n",
       "      <td>1000.00</td>\n",
       "      <td>0.00</td>\n",
       "      <td>5000.00</td>\n",
       "    </tr>\n",
       "    <tr>\n",
       "      <th>25%</th>\n",
       "      <td>1050.00</td>\n",
       "      <td>1999.00</td>\n",
       "      <td>69.00</td>\n",
       "      <td>125000.00</td>\n",
       "    </tr>\n",
       "    <tr>\n",
       "      <th>50%</th>\n",
       "      <td>2700.00</td>\n",
       "      <td>2003.00</td>\n",
       "      <td>105.00</td>\n",
       "      <td>150000.00</td>\n",
       "    </tr>\n",
       "    <tr>\n",
       "      <th>75%</th>\n",
       "      <td>6400.00</td>\n",
       "      <td>2008.00</td>\n",
       "      <td>143.00</td>\n",
       "      <td>150000.00</td>\n",
       "    </tr>\n",
       "    <tr>\n",
       "      <th>max</th>\n",
       "      <td>20000.00</td>\n",
       "      <td>9999.00</td>\n",
       "      <td>20000.00</td>\n",
       "      <td>150000.00</td>\n",
       "    </tr>\n",
       "  </tbody>\n",
       "</table>\n",
       "</div>"
      ],
      "text/plain": [
       "          price  registration_year     power  kilometer\n",
       "count 354364.00          354364.00 354364.00  354364.00\n",
       "mean    4416.66            2004.23    110.09  128211.37\n",
       "std     4514.16              90.23    189.85   37905.14\n",
       "min        0.00            1000.00      0.00    5000.00\n",
       "25%     1050.00            1999.00     69.00  125000.00\n",
       "50%     2700.00            2003.00    105.00  150000.00\n",
       "75%     6400.00            2008.00    143.00  150000.00\n",
       "max    20000.00            9999.00  20000.00  150000.00"
      ]
     },
     "execution_count": 13,
     "metadata": {},
     "output_type": "execute_result"
    }
   ],
   "source": [
    "df.describe()"
   ]
  },
  {
   "cell_type": "markdown",
   "metadata": {},
   "source": [
    "Сразу бросаются в глаза аномалии: максимальный год и мощность. Визуализируем и выставим границы "
   ]
  },
  {
   "cell_type": "code",
   "execution_count": 14,
   "metadata": {},
   "outputs": [
    {
     "data": {
      "image/png": "[encoded data removed]",
      "text/plain": [
       "<Figure size 720x432 with 1 Axes>"
      ]
     },
     "metadata": {
      "needs_background": "light"
     },
     "output_type": "display_data"
    },
    {
     "data": {
      "image/png": "[encoded data removed]",
      "text/plain": [
       "<Figure size 720x432 with 1 Axes>"
      ]
     },
     "metadata": {
      "needs_background": "light"
     },
     "output_type": "display_data"
    },
    {
     "data": {
      "image/png": "[encoded data removed]",
      "text/plain": [
       "<Figure size 720x432 with 1 Axes>"
      ]
     },
     "metadata": {
      "needs_background": "light"
     },
     "output_type": "display_data"
    },
    {
     "data": {
      "image/png": "[encoded data removed]",
      "text/plain": [
       "<Figure size 720x432 with 1 Axes>"
      ]
     },
     "metadata": {
      "needs_background": "light"
     },
     "output_type": "display_data"
    }
   ],
   "source": [
    "#Проверяем числовые столбцы\n",
    "numeric_columns = ['price', 'registration_year', 'power', 'kilometer']\n",
    "\n",
    "for column in numeric_columns:\n",
    "    plt.figure(figsize=(10, 6))\n",
    "    sns.boxplot(x=df[column], palette=\"Spectral\")\n",
    "    plt.title(f'Boxplot для {column}', fontsize=16)\n",
    "    plt.xlabel(column, fontsize=12)\n",
    "    plt.tight_layout()\n",
    "    plt.show()"
   ]
  },
  {
   "cell_type": "markdown",
   "metadata": {},
   "source": [
    "Цена и пробег выглядят приемлемо, не будем трогать.\n",
    "\n",
    "- Год регистрации автомобиля не может быть Меньше, чем 1900, предположим, что очень старый автомобиль, но и больше текущего года). Сделаем сортировку в рамках **1900 - 2016** гг.\n",
    "\n",
    "- Мощность, попробуем выставить оптимистично-реалистичные рамки: мнимум: 30 (может стародревний раритет), а максимум 600 (вероятно спортивный автомобиль). Определим рамки **30 - 600**"
   ]
  },
  {
   "cell_type": "code",
   "execution_count": 15,
   "metadata": {},
   "outputs": [],
   "source": [
    "df = df[(df['registration_year'] >= 1900) & (df['registration_year'] <= 2016)]\n",
    "df = df[(df['power'] >= 30) & (df['power'] <= 600)]\n",
    "df = df[(df['price'] != 0)]"
   ]
  },
  {
   "cell_type": "code",
   "execution_count": 16,
   "metadata": {},
   "outputs": [
    {
     "data": {
      "image/png": "[encoded data removed]",
      "text/plain": [
       "<Figure size 720x432 with 1 Axes>"
      ]
     },
     "metadata": {
      "needs_background": "light"
     },
     "output_type": "display_data"
    },
    {
     "data": {
      "image/png": "[encoded data removed]",
      "text/plain": [
       "<Figure size 720x432 with 1 Axes>"
      ]
     },
     "metadata": {
      "needs_background": "light"
     },
     "output_type": "display_data"
    },
    {
     "data": {
      "image/png": "[encoded data removed]",
      "text/plain": [
       "<Figure size 720x432 with 1 Axes>"
      ]
     },
     "metadata": {
      "needs_background": "light"
     },
     "output_type": "display_data"
    }
   ],
   "source": [
    "#Еще раз посмотрим \n",
    "numeric_columns = ['registration_year', 'power', 'price']\n",
    "\n",
    "for column in numeric_columns:\n",
    "    plt.figure(figsize=(10, 6))\n",
    "    sns.boxplot(x=df[column], palette=\"Spectral\")\n",
    "    plt.title(f'Boxplot для {column}', fontsize=16)\n",
    "    plt.xlabel(column, fontsize=12)\n",
    "    plt.tight_layout()\n",
    "    plt.show()"
   ]
  },
  {
   "cell_type": "markdown",
   "metadata": {},
   "source": [
    "Есть выбросы, но от откровенных аномалий избавились, оставим раритетный автомобиль в нашем парке. Далее посмотрим как коррелируют наши показатели"
   ]
  },
  {
   "cell_type": "markdown",
   "metadata": {},
   "source": [
    "### Проверка Корреляции"
   ]
  },
  {
   "cell_type": "code",
   "execution_count": 17,
   "metadata": {},
   "outputs": [
    {
     "data": {
      "image/png": "[encoded data removed]",
      "text/plain": [
       "<Figure size 720x576 with 2 Axes>"
      ]
     },
     "metadata": {
      "needs_background": "light"
     },
     "output_type": "display_data"
    }
   ],
   "source": [
    "correlation_matrix = df.phik_matrix(interval_cols=['price', 'registration_year', 'power', 'kilometer'])\n",
    "\n",
    "plot_correlation_matrix(\n",
    "    correlation_matrix.values,\n",
    "    x_labels=correlation_matrix.columns,\n",
    "    y_labels=correlation_matrix.index,\n",
    "    vmin=-1,\n",
    "    vmax=1,\n",
    "    figsize=(10, 8))"
   ]
  },
  {
   "cell_type": "markdown",
   "metadata": {},
   "source": [
    "Видим силью связь модели и бренда, что логично, у вольксвагена явно будет голф и прочие вариации. Раз особо смысловой нагрузки не несет, избавимся от бренда, чтобы модель обучалась быстрее(важно для заказчика) и эффективнее(важно для нас)"
   ]
  },
  {
   "cell_type": "code",
   "execution_count": 18,
   "metadata": {},
   "outputs": [
    {
     "data": {
      "text/html": [
       "<div>\n",
       "<style scoped>\n",
       "    .dataframe tbody tr th:only-of-type {\n",
       "        vertical-align: middle;\n",
       "    }\n",
       "\n",
       "    .dataframe tbody tr th {\n",
       "        vertical-align: top;\n",
       "    }\n",
       "\n",
       "    .dataframe thead th {\n",
       "        text-align: right;\n",
       "    }\n",
       "</style>\n",
       "<table border=\"1\" class=\"dataframe\">\n",
       "  <thead>\n",
       "    <tr style=\"text-align: right;\">\n",
       "      <th></th>\n",
       "      <th>price</th>\n",
       "      <th>vehicle_type</th>\n",
       "      <th>registration_year</th>\n",
       "      <th>gearbox</th>\n",
       "      <th>power</th>\n",
       "      <th>model</th>\n",
       "      <th>kilometer</th>\n",
       "      <th>fuel_type</th>\n",
       "      <th>repaired</th>\n",
       "    </tr>\n",
       "  </thead>\n",
       "  <tbody>\n",
       "    <tr>\n",
       "      <th>1</th>\n",
       "      <td>18300</td>\n",
       "      <td>coupe</td>\n",
       "      <td>2011</td>\n",
       "      <td>manual</td>\n",
       "      <td>190</td>\n",
       "      <td>unknown</td>\n",
       "      <td>125000</td>\n",
       "      <td>gasoline</td>\n",
       "      <td>yes</td>\n",
       "    </tr>\n",
       "    <tr>\n",
       "      <th>2</th>\n",
       "      <td>9800</td>\n",
       "      <td>suv</td>\n",
       "      <td>2004</td>\n",
       "      <td>auto</td>\n",
       "      <td>163</td>\n",
       "      <td>grand</td>\n",
       "      <td>125000</td>\n",
       "      <td>gasoline</td>\n",
       "      <td>no</td>\n",
       "    </tr>\n",
       "    <tr>\n",
       "      <th>3</th>\n",
       "      <td>1500</td>\n",
       "      <td>small</td>\n",
       "      <td>2001</td>\n",
       "      <td>manual</td>\n",
       "      <td>75</td>\n",
       "      <td>golf</td>\n",
       "      <td>150000</td>\n",
       "      <td>petrol</td>\n",
       "      <td>no</td>\n",
       "    </tr>\n",
       "    <tr>\n",
       "      <th>4</th>\n",
       "      <td>3600</td>\n",
       "      <td>small</td>\n",
       "      <td>2008</td>\n",
       "      <td>manual</td>\n",
       "      <td>69</td>\n",
       "      <td>fabia</td>\n",
       "      <td>90000</td>\n",
       "      <td>gasoline</td>\n",
       "      <td>no</td>\n",
       "    </tr>\n",
       "    <tr>\n",
       "      <th>5</th>\n",
       "      <td>650</td>\n",
       "      <td>sedan</td>\n",
       "      <td>1995</td>\n",
       "      <td>manual</td>\n",
       "      <td>102</td>\n",
       "      <td>3er</td>\n",
       "      <td>150000</td>\n",
       "      <td>petrol</td>\n",
       "      <td>yes</td>\n",
       "    </tr>\n",
       "  </tbody>\n",
       "</table>\n",
       "</div>"
      ],
      "text/plain": [
       "   price vehicle_type  registration_year gearbox  power    model  kilometer  \\\n",
       "1  18300        coupe               2011  manual    190  unknown     125000   \n",
       "2   9800          suv               2004    auto    163    grand     125000   \n",
       "3   1500        small               2001  manual     75     golf     150000   \n",
       "4   3600        small               2008  manual     69    fabia      90000   \n",
       "5    650        sedan               1995  manual    102      3er     150000   \n",
       "\n",
       "  fuel_type repaired  \n",
       "1  gasoline      yes  \n",
       "2  gasoline       no  \n",
       "3    petrol       no  \n",
       "4  gasoline       no  \n",
       "5    petrol      yes  "
      ]
     },
     "execution_count": 18,
     "metadata": {},
     "output_type": "execute_result"
    }
   ],
   "source": [
    "df.drop(columns=['brand'], inplace=True)\n",
    "\n",
    "df.head()"
   ]
  },
  {
   "cell_type": "markdown",
   "metadata": {},
   "source": [
    "Выводы по этапу обработки:\n",
    "\n",
    "- Загружены необходимые библиотеки и датасет\n",
    "\n",
    "\n",
    "- Названия колонок приведены к змеиному регистру\n",
    "\n",
    "\n",
    "- Пустые значения найдены и 5 колонках и заполнены:\n",
    " - **repaired** - заменены значения на no\n",
    " - **vehicle_type, gearbox, fuel_type, model** - заполнено заглушками **unknown**\n",
    " \n",
    " \n",
    "- Найдено и удалено **5** дублирующихся строчек\n",
    "\n",
    "\n",
    "- Для выполнения задачи были удалены столбцы, которые не несут влияние на прогнозирование цены: **date_crawled, last_seen, number_of_pictures, postal_code, date_created, registration_month**\n",
    "\n",
    "\n",
    "- Проанализировано распределение, 2 колонки имели аномалии, в следствии чего были скорректированы:\n",
    " - **registration_year** - урезаны рамки до 1900 - 2024 гг.\n",
    " - **power** - 30 - 600 л.с.\n",
    " - удалены значения **price** равные 0\n",
    " \n",
    " \n",
    "- Построена матрица корелляции, которая показала сильную взаимосвязь бренда и модели, для улучшения наших предсказаний удалили колонке **brand**"
   ]
  },
  {
   "cell_type": "markdown",
   "metadata": {},
   "source": [
    "## Обучение моделей"
   ]
  },
  {
   "cell_type": "code",
   "execution_count": 19,
   "metadata": {},
   "outputs": [],
   "source": [
    "X = df.drop(columns=['price'])\n",
    "y = df['price']\n",
    "\n",
    "X_train, X_test, y_train, y_test = train_test_split(\n",
    "    X, y, test_size=0.25, random_state=42)\n",
    "\n",
    "#Сделаем копии, чтобы не было ошибок\n",
    "X_train = X_train.copy()\n",
    "X_test = X_test.copy()\n",
    "\n",
    "#Определим категории\n",
    "categorical_columns = ['vehicle_type', 'gearbox', 'model', 'fuel_type', 'repaired']\n",
    "\n",
    "#Кодируем \n",
    "encoder = OrdinalEncoder()\n",
    "X_train.loc[:, categorical_columns] = encoder.fit_transform(X_train[categorical_columns])\n",
    "X_test.loc[:, categorical_columns] = encoder.transform(X_test[categorical_columns])"
   ]
  },
  {
   "cell_type": "code",
   "execution_count": 20,
   "metadata": {},
   "outputs": [
    {
     "name": "stdout",
     "output_type": "stream",
     "text": [
      "Fitting 3 folds for each of 4 candidates, totalling 12 fits\n",
      "[CV 1/3] END max_depth=5, max_features=sqrt, min_samples_leaf=1, n_estimators=50; total time=   1.7s\n",
      "[CV 2/3] END max_depth=5, max_features=sqrt, min_samples_leaf=1, n_estimators=50; total time=   1.7s\n",
      "[CV 3/3] END max_depth=5, max_features=sqrt, min_samples_leaf=1, n_estimators=50; total time=   1.7s\n",
      "[CV 1/3] END max_depth=5, max_features=sqrt, min_samples_leaf=1, n_estimators=100; total time=   3.4s\n",
      "[CV 2/3] END max_depth=5, max_features=sqrt, min_samples_leaf=1, n_estimators=100; total time=   3.4s\n",
      "[CV 3/3] END max_depth=5, max_features=sqrt, min_samples_leaf=1, n_estimators=100; total time=   3.4s\n",
      "[CV 1/3] END max_depth=10, max_features=sqrt, min_samples_leaf=1, n_estimators=50; total time=   3.0s\n",
      "[CV 2/3] END max_depth=10, max_features=sqrt, min_samples_leaf=1, n_estimators=50; total time=   3.1s\n",
      "[CV 3/3] END max_depth=10, max_features=sqrt, min_samples_leaf=1, n_estimators=50; total time=   3.0s\n",
      "[CV 1/3] END max_depth=10, max_features=sqrt, min_samples_leaf=1, n_estimators=100; total time=   5.9s\n",
      "[CV 2/3] END max_depth=10, max_features=sqrt, min_samples_leaf=1, n_estimators=100; total time=   5.9s\n",
      "[CV 3/3] END max_depth=10, max_features=sqrt, min_samples_leaf=1, n_estimators=100; total time=   5.8s\n",
      "\n",
      "Random Forest - Время подбора параметров: 50.37 сек\n",
      "Random Forest - Время обучения: 7.96 сек\n",
      "Random Forest - Время предсказания на обучающей выборке: 1.81 сек\n",
      "Random Forest - RMSE на кросс-валидации: 1945.72\n"
     ]
    }
   ],
   "source": [
    "#Параметры\n",
    "param_distributions_rf = {\n",
    "    'n_estimators': [50, 100],  # Оставить только два варианта\n",
    "    'max_depth': [5, 10],\n",
    "    'min_samples_leaf': [1],\n",
    "    'max_features': ['sqrt']}\n",
    "\n",
    "rf_model = RandomForestRegressor(random_state=42, n_jobs=-1)\n",
    "\n",
    "#Поиск параметров\n",
    "rf_random_search = RandomizedSearchCV(\n",
    "    estimator=rf_model,\n",
    "    param_distributions=param_distributions_rf,\n",
    "    scoring='neg_mean_squared_error',\n",
    "    n_iter=4,\n",
    "    cv=3,\n",
    "    random_state=42,\n",
    "    n_jobs=-1,\n",
    "    verbose=3)\n",
    "\n",
    "#Время параметров\n",
    "start_time = time.time()\n",
    "rf_random_search.fit(X_train, y_train)\n",
    "search_time_rf = time.time() - start_time\n",
    "\n",
    "#Лучшая модель\n",
    "best_rf_model = rf_random_search.best_estimator_\n",
    "cv_rmse_rf = np.sqrt(-rf_random_search.best_score_)\n",
    "\n",
    "#Время обучения\n",
    "start_time = time.time()\n",
    "best_rf_model.fit(X_train, y_train)\n",
    "training_time_rf = time.time() - start_time\n",
    "\n",
    "#Время предсказания на обучающей выборке\n",
    "start_time = time.time()\n",
    "y_pred_train_rf = rf_random_search.best_estimator_.predict(X_train)\n",
    "prediction_time_train_rf = time.time() - start_time\n",
    "\n",
    "print()\n",
    "print(f\"Random Forest - Время подбора параметров: {search_time_rf:.2f} сек\")\n",
    "print(f\"Random Forest - Время обучения: {training_time_rf:.2f} сек\")\n",
    "print(f\"Random Forest - Время предсказания на обучающей выборке: {prediction_time_train_rf:.2f} сек\")\n",
    "print(f\"Random Forest - RMSE на кросс-валидации: {cv_rmse_rf:.2f}\")\n"
   ]
  },
  {
   "cell_type": "code",
   "execution_count": 21,
   "metadata": {},
   "outputs": [
    {
     "name": "stdout",
     "output_type": "stream",
     "text": [
      "Fitting 3 folds for each of 10 candidates, totalling 30 fits\n",
      "[CV 1/3] END max_depth=5, min_samples_leaf=5, min_samples_split=10; total time=   0.2s\n",
      "[CV 2/3] END max_depth=5, min_samples_leaf=5, min_samples_split=10; total time=   0.1s\n",
      "[CV 3/3] END max_depth=5, min_samples_leaf=5, min_samples_split=10; total time=   0.1s\n",
      "[CV 1/3] END max_depth=10, min_samples_leaf=3, min_samples_split=5; total time=   0.3s\n",
      "[CV 2/3] END max_depth=10, min_samples_leaf=3, min_samples_split=5; total time=   0.2s\n",
      "[CV 3/3] END max_depth=10, min_samples_leaf=3, min_samples_split=5; total time=   0.3s\n",
      "[CV 1/3] END max_depth=10, min_samples_leaf=1, min_samples_split=2; total time=   0.3s\n",
      "[CV 2/3] END max_depth=10, min_samples_leaf=1, min_samples_split=2; total time=   0.2s\n",
      "[CV 3/3] END max_depth=10, min_samples_leaf=1, min_samples_split=2; total time=   0.3s\n",
      "[CV 1/3] END max_depth=None, min_samples_leaf=3, min_samples_split=2; total time=   0.4s\n",
      "[CV 2/3] END max_depth=None, min_samples_leaf=3, min_samples_split=2; total time=   0.4s\n",
      "[CV 3/3] END max_depth=None, min_samples_leaf=3, min_samples_split=2; total time=   0.4s\n",
      "[CV 1/3] END max_depth=5, min_samples_leaf=1, min_samples_split=2; total time=   0.1s\n",
      "[CV 2/3] END max_depth=5, min_samples_leaf=1, min_samples_split=2; total time=   0.1s\n",
      "[CV 3/3] END max_depth=5, min_samples_leaf=1, min_samples_split=2; total time=   0.1s\n",
      "[CV 1/3] END max_depth=10, min_samples_leaf=1, min_samples_split=10; total time=   0.2s\n",
      "[CV 2/3] END max_depth=10, min_samples_leaf=1, min_samples_split=10; total time=   0.2s\n",
      "[CV 3/3] END max_depth=10, min_samples_leaf=1, min_samples_split=10; total time=   0.2s\n",
      "[CV 1/3] END max_depth=10, min_samples_leaf=5, min_samples_split=5; total time=   0.3s\n",
      "[CV 2/3] END max_depth=10, min_samples_leaf=5, min_samples_split=5; total time=   0.3s\n",
      "[CV 3/3] END max_depth=10, min_samples_leaf=5, min_samples_split=5; total time=   0.3s\n",
      "[CV 1/3] END max_depth=10, min_samples_leaf=5, min_samples_split=10; total time=   0.2s\n",
      "[CV 2/3] END max_depth=10, min_samples_leaf=5, min_samples_split=10; total time=   0.2s\n",
      "[CV 3/3] END max_depth=10, min_samples_leaf=5, min_samples_split=10; total time=   0.2s\n",
      "[CV 1/3] END max_depth=10, min_samples_leaf=3, min_samples_split=2; total time=   0.3s\n",
      "[CV 2/3] END max_depth=10, min_samples_leaf=3, min_samples_split=2; total time=   0.3s\n",
      "[CV 3/3] END max_depth=10, min_samples_leaf=3, min_samples_split=2; total time=   0.3s\n",
      "[CV 1/3] END max_depth=None, min_samples_leaf=5, min_samples_split=2; total time=   0.4s\n",
      "[CV 2/3] END max_depth=None, min_samples_leaf=5, min_samples_split=2; total time=   0.4s\n",
      "[CV 3/3] END max_depth=None, min_samples_leaf=5, min_samples_split=2; total time=   0.4s\n",
      "\n",
      "Decision Tree - Время подбора параметров: 8.43 сек\n",
      "Decision Tree - Время обучения: 0.55 сек\n",
      "Decision Tree - Время предсказания на обучающей выборке: 0.06 сек\n",
      "Decision Tree - RMSE на кросс-валидации: 1844.92\n"
     ]
    }
   ],
   "source": [
    "#Параметры\n",
    "param_distributions_dt = {\n",
    "    'max_depth': [5, 10, None],\n",
    "    'min_samples_split': [2, 5, 10],\n",
    "    'min_samples_leaf': [1, 3, 5]}\n",
    "\n",
    "dt_model = DecisionTreeRegressor(random_state=42)\n",
    "\n",
    "#Поиск лучших параметров\n",
    "dt_random_search = RandomizedSearchCV(\n",
    "    estimator=dt_model,\n",
    "    param_distributions=param_distributions_dt,\n",
    "    scoring='neg_mean_squared_error',\n",
    "    n_iter=10,\n",
    "    cv=3,\n",
    "    random_state=42,\n",
    "    verbose=3)\n",
    "\n",
    "#Время параметров\n",
    "start_time = time.time()\n",
    "dt_random_search.fit(X_train, y_train)\n",
    "search_time_dt = time.time() - start_time\n",
    "\n",
    "#Модель\n",
    "best_dt_model = dt_random_search.best_estimator_\n",
    "cv_rmse_dt = np.sqrt(-dt_random_search.best_score_)\n",
    "\n",
    "#Время обучения\n",
    "start_time = time.time()\n",
    "best_dt_model.fit(X_train, y_train)\n",
    "training_time_dt = time.time() - start_time\n",
    "\n",
    "#Время предсказания на обучающей выборке\n",
    "start_time = time.time()\n",
    "y_pred_train_dt = dt_random_search.best_estimator_.predict(X_train)\n",
    "prediction_time_train_dt = time.time() - start_time\n",
    "\n",
    "print()\n",
    "print(f\"Decision Tree - Время подбора параметров: {search_time_dt:.2f} сек\")\n",
    "print(f\"Decision Tree - Время обучения: {training_time_dt:.2f} сек\")\n",
    "print(f\"Decision Tree - Время предсказания на обучающей выборке: {prediction_time_train_dt:.2f} сек\")\n",
    "print(f\"Decision Tree - RMSE на кросс-валидации: {cv_rmse_dt:.2f}\")\n"
   ]
  },
  {
   "cell_type": "code",
   "execution_count": 22,
   "metadata": {
    "scrolled": true
   },
   "outputs": [
    {
     "name": "stdout",
     "output_type": "stream",
     "text": [
      "Fitting 2 folds for each of 2 candidates, totalling 4 fits\n",
      "[CV] END learning_rate=0.01, n_estimators=200, num_leaves=50; total time=  15.3s\n",
      "[CV] END learning_rate=0.01, n_estimators=200, num_leaves=50; total time=  15.4s\n",
      "[CV] END .learning_rate=0.1, n_estimators=100, num_leaves=31; total time=   5.5s\n",
      "[CV] END .learning_rate=0.1, n_estimators=100, num_leaves=31; total time=   5.5s\n",
      "\n",
      "LightGBM - Время подбора параметров: 48.61 сек\n",
      "LightGBM - Время обучения: 5.70 сек\n",
      "LightGBM - Время предсказания на обучающей выборке: 1.83 сек\n",
      "LightGBM - RMSE на кросс-валидации: 1751.86\n"
     ]
    }
   ],
   "source": [
    "#Параметры\n",
    "param_distributions_lgb = {\n",
    "    'num_leaves': [15, 31, 50],\n",
    "    'learning_rate': [0.01, 0.1, 0.2],\n",
    "    'n_estimators': [50, 100, 200]}\n",
    "\n",
    "lgb_model = LGBMRegressor(objective='regression', random_state=42)\n",
    "\n",
    "#Поиск лучших параметров\n",
    "lgb_random_search = RandomizedSearchCV(\n",
    "    estimator=lgb_model,\n",
    "    param_distributions=param_distributions_lgb,\n",
    "    scoring='neg_mean_squared_error',\n",
    "    n_iter=2,\n",
    "    cv=2,\n",
    "    random_state=42,\n",
    "    verbose=2,\n",
    "    n_jobs=-1)\n",
    "\n",
    "#Время подбора параметров\n",
    "start_time = time.time()\n",
    "lgb_random_search.fit(X_train, y_train)\n",
    "search_time_lgb = time.time() - start_time\n",
    "\n",
    "#Лучшая модель\n",
    "best_lgb_model = lgb_random_search.best_estimator_\n",
    "cv_rmse_lgb = np.sqrt(-lgb_random_search.best_score_)\n",
    "\n",
    "#Время обучения\n",
    "start_time = time.time()\n",
    "best_lgb_model.fit(X_train, y_train)\n",
    "training_time_lgb = time.time() - start_time\n",
    "\n",
    "#Время предсказания на обучающей выборке\n",
    "start_time = time.time()\n",
    "y_pred_train_lgb = lgb_random_search.best_estimator_.predict(X_train)\n",
    "prediction_time_train_lgb = time.time() - start_time\n",
    "\n",
    "print()\n",
    "print(f\"LightGBM - Время подбора параметров: {search_time_lgb:.2f} сек\")\n",
    "print(f\"LightGBM - Время обучения: {training_time_lgb:.2f} сек\")\n",
    "print(f\"LightGBM - Время предсказания на обучающей выборке: {prediction_time_train_lgb:.2f} сек\")\n",
    "print(f\"LightGBM - RMSE на кросс-валидации: {cv_rmse_lgb:.2f}\")\n"
   ]
  },
  {
   "cell_type": "markdown",
   "metadata": {},
   "source": [
    "Выводы по этапу обучения модели:\n",
    "\n",
    "- Выбраны 3 разные модели для предсказания цены:\n",
    " - Модель с деревьями решений - **Decision Tree** \n",
    " - Ансамблевая модель - **Random Forest**\n",
    " - Модель градиентного бустинга - **LightGBM**\n",
    " \n",
    "\n",
    "- По необходимой метрике лучшая модель - **LightGBM**, с показателем **RMSE: 1751.86**"
   ]
  },
  {
   "cell_type": "markdown",
   "metadata": {},
   "source": [
    "## Анализ моделей и выводы"
   ]
  },
  {
   "cell_type": "code",
   "execution_count": 25,
   "metadata": {},
   "outputs": [
    {
     "data": {
      "text/html": [
       "<div>\n",
       "<style scoped>\n",
       "    .dataframe tbody tr th:only-of-type {\n",
       "        vertical-align: middle;\n",
       "    }\n",
       "\n",
       "    .dataframe tbody tr th {\n",
       "        vertical-align: top;\n",
       "    }\n",
       "\n",
       "    .dataframe thead th {\n",
       "        text-align: right;\n",
       "    }\n",
       "</style>\n",
       "<table border=\"1\" class=\"dataframe\">\n",
       "  <thead>\n",
       "    <tr style=\"text-align: right;\">\n",
       "      <th></th>\n",
       "      <th>Модель</th>\n",
       "      <th>Время обучения (сек)</th>\n",
       "      <th>Время предсказания (сек)</th>\n",
       "      <th>RMSE на кросс-валидации</th>\n",
       "    </tr>\n",
       "  </thead>\n",
       "  <tbody>\n",
       "    <tr>\n",
       "      <th>0</th>\n",
       "      <td>Random Forest</td>\n",
       "      <td>7.96</td>\n",
       "      <td>1.81</td>\n",
       "      <td>1945.72</td>\n",
       "    </tr>\n",
       "    <tr>\n",
       "      <th>1</th>\n",
       "      <td>Decision Tree</td>\n",
       "      <td>0.55</td>\n",
       "      <td>0.06</td>\n",
       "      <td>1844.92</td>\n",
       "    </tr>\n",
       "    <tr>\n",
       "      <th>2</th>\n",
       "      <td>LightGBM</td>\n",
       "      <td>5.70</td>\n",
       "      <td>1.83</td>\n",
       "      <td>1751.86</td>\n",
       "    </tr>\n",
       "  </tbody>\n",
       "</table>\n",
       "</div>"
      ],
      "text/plain": [
       "          Модель  Время обучения (сек)  Время предсказания (сек)  \\\n",
       "0  Random Forest                  7.96                      1.81   \n",
       "1  Decision Tree                  0.55                      0.06   \n",
       "2       LightGBM                  5.70                      1.83   \n",
       "\n",
       "   RMSE на кросс-валидации  \n",
       "0                  1945.72  \n",
       "1                  1844.92  \n",
       "2                  1751.86  "
      ]
     },
     "execution_count": 25,
     "metadata": {},
     "output_type": "execute_result"
    }
   ],
   "source": [
    "#Засунем все в табличку\n",
    "results_summary_simple = pd.DataFrame({\n",
    "    'Модель': ['Random Forest', 'Decision Tree', 'LightGBM'],\n",
    "    'Время обучения (сек)': [training_time_rf, training_time_dt, training_time_lgb],\n",
    "    'Время предсказания (сек)': [prediction_time_train_rf, prediction_time_train_dt, prediction_time_train_lgb],\n",
    "    'RMSE на кросс-валидации': [cv_rmse_rf, cv_rmse_dt, cv_rmse_lgb]})\n",
    "\n",
    "results_summary_simple"
   ]
  },
  {
   "cell_type": "markdown",
   "metadata": {},
   "source": [
    "Лучшую метрику показывает **LightGBM**, берем ее для окончательной рекомендации"
   ]
  },
  {
   "cell_type": "code",
   "execution_count": 24,
   "metadata": {},
   "outputs": [
    {
     "name": "stdout",
     "output_type": "stream",
     "text": [
      "LightGBM - Время предсказания на тестовой выборке: 0.61 сек\n",
      "LightGBM - RMSE на тестовой выборке: 1744.19\n"
     ]
    }
   ],
   "source": [
    "#Посмотрим показатель на лучшей модели \n",
    "start_time = time.time()\n",
    "y_pred_test = best_lgb_model.predict(X_test)\n",
    "test_prediction_time = time.time() - start_time\n",
    "\n",
    "rmse_test = np.sqrt(mean_squared_error(y_test, y_pred_test))\n",
    "\n",
    "print(f\"LightGBM - Время предсказания на тестовой выборке: {test_prediction_time:.2f} сек\")\n",
    "print(f\"LightGBM - RMSE на тестовой выборке: {rmse_test:.2f}\")"
   ]
  },
  {
   "cell_type": "markdown",
   "metadata": {},
   "source": [
    "На основе полученных результатов можно сделать следующие выводы:\n",
    "\n",
    "- RandomForest\n",
    "\n",
    " - Время обучения: 7.96 сек\n",
    " - RMSE: 1945.72\n",
    " - Время предсказания на тренировочной выборке 1.81 сек\n",
    "\n",
    "- DecisionTree\n",
    " - **Время обучения: 0.55 сек**\n",
    " - RMSE: 1844.92\n",
    " - **Время предсказания на тренировочной выборке 0.06 сек**\n",
    "    \n",
    "- LightGBM\n",
    " - Время обучения: 5.70\t\tсек\n",
    " - **RMSE: 1751.86**\n",
    " - Время предсказания на тренировочной выборке **1.83 сек**    \n",
    " \n",
    " \n",
    "В процессе моделирования важно оценивать:\n",
    "\n",
    " - Качество предсказаний (RMSE)\n",
    " - Время обучения модели\n",
    " - Время предсказания модели\n",
    "\n",
    "Сравнение моделей\n",
    "\n",
    "- RandomForest. Показывает быстрое временя обучения **7.96 сек**, но при этом RMSE самое высокое из всех моделей - **1945.72**, скорость предсказания - **1.81 сек**\n",
    "\n",
    "- LightGBM. Показатель RMSE у этой модели самый низкий среди всех **1751.86**, что делает её приоритетной. Скорость обучения - **0.55**, хороший показатель, как и скорость выдачи предсказания - **1.83 сек**\n",
    "\n",
    "- DecisionTree. Время обучения у модели и предсказания наименьшее из всех моделей - **0.6 сек** и **0.06 сек**, но RMSE выше, чем у градиентного бустинга \n",
    "\n",
    "Рекомендации. На основе указанных критериев можно порекомендовать следующие варианты:\n",
    "\n",
    "**LightGBM** — наилучшая модель с точки зрения качества предсказаний. Показывает довольно быстрое врмея обучения и предсказания не трениовочной выборке, но при это все в пределах нормы, рекомендуем модель градиентного бустинга. Время предсказаний на тестовой выборке **0.61 сек**, RMSE на тестовой выборке **1744.19**"
   ]
  }
 ],
 "metadata": {
  "ExecuteTimeLog": [
   {
    "duration": 1606,
    "start_time": "2024-11-15T16:07:57.790Z"
   },
   {
    "duration": 1222,
    "start_time": "2024-11-15T16:08:00.888Z"
   },
   {
    "duration": 16,
    "start_time": "2024-11-15T16:08:48.095Z"
   },
   {
    "duration": 171,
    "start_time": "2024-11-15T16:08:48.492Z"
   },
   {
    "duration": 1213,
    "start_time": "2024-11-15T16:10:24.746Z"
   },
   {
    "duration": 24,
    "start_time": "2024-11-15T16:10:58.906Z"
   },
   {
    "duration": 168,
    "start_time": "2024-11-15T16:11:36.587Z"
   },
   {
    "duration": 912,
    "start_time": "2024-11-15T16:11:40.917Z"
   },
   {
    "duration": 147,
    "start_time": "2024-11-15T16:11:46.783Z"
   },
   {
    "duration": 439,
    "start_time": "2024-11-15T16:12:00.344Z"
   },
   {
    "duration": 896,
    "start_time": "2024-11-15T16:12:04.948Z"
   },
   {
    "duration": 95,
    "start_time": "2024-11-15T16:12:11.475Z"
   },
   {
    "duration": 90,
    "start_time": "2024-11-15T16:12:22.361Z"
   },
   {
    "duration": 4,
    "start_time": "2024-11-15T16:18:27.139Z"
   },
   {
    "duration": 4,
    "start_time": "2024-11-15T16:19:01.868Z"
   },
   {
    "duration": 896,
    "start_time": "2024-11-15T16:19:01.977Z"
   },
   {
    "duration": 3345,
    "start_time": "2024-11-15T16:19:28.658Z"
   },
   {
    "duration": 17,
    "start_time": "2024-11-15T16:24:02.124Z"
   },
   {
    "duration": 831,
    "start_time": "2024-11-15T16:24:13.659Z"
   },
   {
    "duration": 44,
    "start_time": "2024-11-15T16:24:14.492Z"
   },
   {
    "duration": 10,
    "start_time": "2024-11-15T16:24:19.350Z"
   },
   {
    "duration": 143,
    "start_time": "2024-11-15T16:24:25.547Z"
   },
   {
    "duration": 12,
    "start_time": "2024-11-15T16:24:36.750Z"
   },
   {
    "duration": 138,
    "start_time": "2024-11-15T16:24:36.867Z"
   },
   {
    "duration": 139,
    "start_time": "2024-11-15T16:24:45.570Z"
   },
   {
    "duration": 145,
    "start_time": "2024-11-15T16:25:27.006Z"
   },
   {
    "duration": 55,
    "start_time": "2024-11-15T16:25:43.137Z"
   },
   {
    "duration": 133,
    "start_time": "2024-11-15T16:25:50.792Z"
   },
   {
    "duration": 137,
    "start_time": "2024-11-15T16:26:33.529Z"
   },
   {
    "duration": 13,
    "start_time": "2024-11-15T16:27:23.499Z"
   },
   {
    "duration": 106,
    "start_time": "2024-11-15T16:30:40.268Z"
   },
   {
    "duration": 13,
    "start_time": "2024-11-15T16:32:27.772Z"
   },
   {
    "duration": 13,
    "start_time": "2024-11-15T16:33:27.062Z"
   },
   {
    "duration": 3684,
    "start_time": "2024-11-15T16:33:49.367Z"
   },
   {
    "duration": 854,
    "start_time": "2024-11-15T16:33:53.053Z"
   },
   {
    "duration": 19,
    "start_time": "2024-11-15T16:33:53.909Z"
   },
   {
    "duration": 144,
    "start_time": "2024-11-15T16:33:53.930Z"
   },
   {
    "duration": 13,
    "start_time": "2024-11-15T16:33:54.076Z"
   },
   {
    "duration": 154,
    "start_time": "2024-11-15T16:33:54.090Z"
   },
   {
    "duration": 1237,
    "start_time": "2024-11-15T16:33:54.246Z"
   },
   {
    "duration": 0,
    "start_time": "2024-11-15T16:33:55.484Z"
   },
   {
    "duration": 0,
    "start_time": "2024-11-15T16:33:55.485Z"
   },
   {
    "duration": 1,
    "start_time": "2024-11-15T16:33:55.486Z"
   },
   {
    "duration": 0,
    "start_time": "2024-11-15T16:33:55.487Z"
   },
   {
    "duration": 0,
    "start_time": "2024-11-15T16:33:55.488Z"
   },
   {
    "duration": 0,
    "start_time": "2024-11-15T16:33:55.489Z"
   },
   {
    "duration": 0,
    "start_time": "2024-11-15T16:33:55.491Z"
   },
   {
    "duration": 6,
    "start_time": "2024-11-15T16:34:11.180Z"
   },
   {
    "duration": 4,
    "start_time": "2024-11-15T16:34:44.413Z"
   },
   {
    "duration": 6,
    "start_time": "2024-11-15T16:35:17.095Z"
   },
   {
    "duration": 3883,
    "start_time": "2024-11-15T16:35:29.087Z"
   },
   {
    "duration": 809,
    "start_time": "2024-11-15T16:35:32.972Z"
   },
   {
    "duration": 18,
    "start_time": "2024-11-15T16:35:33.782Z"
   },
   {
    "duration": 180,
    "start_time": "2024-11-15T16:35:33.802Z"
   },
   {
    "duration": 6,
    "start_time": "2024-11-15T16:35:33.985Z"
   },
   {
    "duration": 149,
    "start_time": "2024-11-15T16:35:33.993Z"
   },
   {
    "duration": 935,
    "start_time": "2024-11-15T16:35:34.144Z"
   },
   {
    "duration": 0,
    "start_time": "2024-11-15T16:35:35.080Z"
   },
   {
    "duration": 0,
    "start_time": "2024-11-15T16:35:35.082Z"
   },
   {
    "duration": 0,
    "start_time": "2024-11-15T16:35:35.083Z"
   },
   {
    "duration": 0,
    "start_time": "2024-11-15T16:35:35.083Z"
   },
   {
    "duration": 0,
    "start_time": "2024-11-15T16:35:35.085Z"
   },
   {
    "duration": 0,
    "start_time": "2024-11-15T16:35:35.085Z"
   },
   {
    "duration": 0,
    "start_time": "2024-11-15T16:35:35.086Z"
   },
   {
    "duration": 6,
    "start_time": "2024-11-15T16:37:00.478Z"
   },
   {
    "duration": 138,
    "start_time": "2024-11-15T16:37:05.512Z"
   },
   {
    "duration": 3862,
    "start_time": "2024-11-15T16:37:09.518Z"
   },
   {
    "duration": 825,
    "start_time": "2024-11-15T16:37:13.382Z"
   },
   {
    "duration": 21,
    "start_time": "2024-11-15T16:37:14.208Z"
   },
   {
    "duration": 154,
    "start_time": "2024-11-15T16:37:14.230Z"
   },
   {
    "duration": 6,
    "start_time": "2024-11-15T16:37:14.386Z"
   },
   {
    "duration": 157,
    "start_time": "2024-11-15T16:37:14.393Z"
   },
   {
    "duration": 915,
    "start_time": "2024-11-15T16:37:14.551Z"
   },
   {
    "duration": 0,
    "start_time": "2024-11-15T16:37:15.468Z"
   },
   {
    "duration": 0,
    "start_time": "2024-11-15T16:37:15.469Z"
   },
   {
    "duration": 0,
    "start_time": "2024-11-15T16:37:15.469Z"
   },
   {
    "duration": 0,
    "start_time": "2024-11-15T16:37:15.470Z"
   },
   {
    "duration": 0,
    "start_time": "2024-11-15T16:37:15.471Z"
   },
   {
    "duration": 0,
    "start_time": "2024-11-15T16:37:15.472Z"
   },
   {
    "duration": 0,
    "start_time": "2024-11-15T16:37:15.473Z"
   },
   {
    "duration": 93,
    "start_time": "2024-11-15T16:37:39.466Z"
   },
   {
    "duration": 20,
    "start_time": "2024-11-15T16:41:21.300Z"
   },
   {
    "duration": 119,
    "start_time": "2024-11-15T16:41:30.131Z"
   },
   {
    "duration": 59,
    "start_time": "2024-11-15T16:41:45.561Z"
   },
   {
    "duration": 433,
    "start_time": "2024-11-15T16:42:21.298Z"
   },
   {
    "duration": 423,
    "start_time": "2024-11-15T16:42:33.576Z"
   },
   {
    "duration": 11,
    "start_time": "2024-11-15T16:43:48.531Z"
   },
   {
    "duration": 146,
    "start_time": "2024-11-15T16:43:52.046Z"
   },
   {
    "duration": 77,
    "start_time": "2024-11-15T16:44:03.874Z"
   },
   {
    "duration": 410,
    "start_time": "2024-11-15T16:44:04.907Z"
   },
   {
    "duration": 473,
    "start_time": "2024-11-15T16:44:05.321Z"
   },
   {
    "duration": 140,
    "start_time": "2024-11-15T16:44:05.941Z"
   },
   {
    "duration": 140,
    "start_time": "2024-11-15T16:44:15.226Z"
   },
   {
    "duration": 39,
    "start_time": "2024-11-15T16:46:45.159Z"
   },
   {
    "duration": 19,
    "start_time": "2024-11-15T16:48:48.596Z"
   },
   {
    "duration": 2303,
    "start_time": "2024-11-15T16:48:55.645Z"
   },
   {
    "duration": 12659,
    "start_time": "2024-11-15T16:49:01.678Z"
   },
   {
    "duration": 51,
    "start_time": "2024-11-15T16:51:05.383Z"
   },
   {
    "duration": 3755,
    "start_time": "2024-11-15T16:53:45.611Z"
   },
   {
    "duration": 835,
    "start_time": "2024-11-15T16:53:49.368Z"
   },
   {
    "duration": 25,
    "start_time": "2024-11-15T16:53:50.204Z"
   },
   {
    "duration": 158,
    "start_time": "2024-11-15T16:53:50.231Z"
   },
   {
    "duration": 6,
    "start_time": "2024-11-15T16:53:50.391Z"
   },
   {
    "duration": 158,
    "start_time": "2024-11-15T16:53:50.399Z"
   },
   {
    "duration": 101,
    "start_time": "2024-11-15T16:53:50.559Z"
   },
   {
    "duration": 92,
    "start_time": "2024-11-15T16:53:50.662Z"
   },
   {
    "duration": 433,
    "start_time": "2024-11-15T16:53:50.755Z"
   },
   {
    "duration": 468,
    "start_time": "2024-11-15T16:53:51.191Z"
   },
   {
    "duration": 144,
    "start_time": "2024-11-15T16:53:51.661Z"
   },
   {
    "duration": 45,
    "start_time": "2024-11-15T16:53:51.807Z"
   },
   {
    "duration": 68,
    "start_time": "2024-11-15T16:53:51.854Z"
   },
   {
    "duration": 12607,
    "start_time": "2024-11-15T16:53:51.923Z"
   },
   {
    "duration": 399,
    "start_time": "2024-11-15T16:54:04.531Z"
   },
   {
    "duration": 8020,
    "start_time": "2024-11-15T16:54:35.146Z"
   },
   {
    "duration": 6737,
    "start_time": "2024-11-15T16:58:22.043Z"
   },
   {
    "duration": 1105,
    "start_time": "2024-11-15T17:01:00.260Z"
   },
   {
    "duration": 1158,
    "start_time": "2024-11-15T17:03:12.706Z"
   },
   {
    "duration": 54,
    "start_time": "2024-11-15T17:05:37.950Z"
   },
   {
    "duration": 33,
    "start_time": "2024-11-15T17:06:08.514Z"
   },
   {
    "duration": 43,
    "start_time": "2024-11-15T17:07:03.166Z"
   },
   {
    "duration": 3756,
    "start_time": "2024-11-15T17:07:08.372Z"
   },
   {
    "duration": 847,
    "start_time": "2024-11-15T17:07:12.130Z"
   },
   {
    "duration": 15,
    "start_time": "2024-11-15T17:07:12.978Z"
   },
   {
    "duration": 160,
    "start_time": "2024-11-15T17:07:12.995Z"
   },
   {
    "duration": 5,
    "start_time": "2024-11-15T17:07:13.157Z"
   },
   {
    "duration": 151,
    "start_time": "2024-11-15T17:07:13.164Z"
   },
   {
    "duration": 100,
    "start_time": "2024-11-15T17:07:13.321Z"
   },
   {
    "duration": 86,
    "start_time": "2024-11-15T17:07:13.423Z"
   },
   {
    "duration": 421,
    "start_time": "2024-11-15T17:07:13.510Z"
   },
   {
    "duration": 443,
    "start_time": "2024-11-15T17:07:13.933Z"
   },
   {
    "duration": 148,
    "start_time": "2024-11-15T17:07:14.378Z"
   },
   {
    "duration": 34,
    "start_time": "2024-11-15T17:07:14.527Z"
   },
   {
    "duration": 68,
    "start_time": "2024-11-15T17:07:14.562Z"
   },
   {
    "duration": 1180,
    "start_time": "2024-11-15T17:07:14.631Z"
   },
   {
    "duration": 65,
    "start_time": "2024-11-15T17:07:15.812Z"
   },
   {
    "duration": 44,
    "start_time": "2024-11-15T17:09:34.051Z"
   },
   {
    "duration": 39,
    "start_time": "2024-11-15T17:10:10.676Z"
   },
   {
    "duration": 418,
    "start_time": "2024-11-15T17:10:56.148Z"
   },
   {
    "duration": 5413,
    "start_time": "2024-11-15T17:12:28.635Z"
   },
   {
    "duration": 5418,
    "start_time": "2024-11-15T17:13:42.478Z"
   },
   {
    "duration": 14,
    "start_time": "2024-11-15T17:15:39.860Z"
   },
   {
    "duration": 10,
    "start_time": "2024-11-15T17:17:29.731Z"
   },
   {
    "duration": 117,
    "start_time": "2024-11-15T17:33:23.313Z"
   },
   {
    "duration": 505,
    "start_time": "2024-11-15T17:38:19.149Z"
   },
   {
    "duration": 3713,
    "start_time": "2024-11-15T17:42:56.841Z"
   },
   {
    "duration": 836,
    "start_time": "2024-11-15T17:43:00.556Z"
   },
   {
    "duration": 15,
    "start_time": "2024-11-15T17:43:01.393Z"
   },
   {
    "duration": 146,
    "start_time": "2024-11-15T17:43:01.410Z"
   },
   {
    "duration": 4,
    "start_time": "2024-11-15T17:43:01.557Z"
   },
   {
    "duration": 104,
    "start_time": "2024-11-15T17:43:01.562Z"
   },
   {
    "duration": 153,
    "start_time": "2024-11-15T17:43:01.667Z"
   },
   {
    "duration": 80,
    "start_time": "2024-11-15T17:43:01.822Z"
   },
   {
    "duration": 484,
    "start_time": "2024-11-15T17:43:01.903Z"
   },
   {
    "duration": 485,
    "start_time": "2024-11-15T17:43:02.389Z"
   },
   {
    "duration": 34,
    "start_time": "2024-11-15T17:43:02.876Z"
   },
   {
    "duration": 58,
    "start_time": "2024-11-15T17:43:02.925Z"
   },
   {
    "duration": 1169,
    "start_time": "2024-11-15T17:43:02.985Z"
   },
   {
    "duration": 65,
    "start_time": "2024-11-15T17:43:04.156Z"
   },
   {
    "duration": 432,
    "start_time": "2024-11-15T17:43:04.222Z"
   },
   {
    "duration": 5418,
    "start_time": "2024-11-15T17:43:04.655Z"
   },
   {
    "duration": 24,
    "start_time": "2024-11-15T17:43:10.075Z"
   },
   {
    "duration": 3608,
    "start_time": "2024-11-15T17:52:22.529Z"
   },
   {
    "duration": 819,
    "start_time": "2024-11-15T17:52:26.138Z"
   },
   {
    "duration": 15,
    "start_time": "2024-11-15T17:52:26.959Z"
   },
   {
    "duration": 160,
    "start_time": "2024-11-15T17:52:26.976Z"
   },
   {
    "duration": 4,
    "start_time": "2024-11-15T17:52:27.137Z"
   },
   {
    "duration": 99,
    "start_time": "2024-11-15T17:52:27.143Z"
   },
   {
    "duration": 179,
    "start_time": "2024-11-15T17:52:27.243Z"
   },
   {
    "duration": 100,
    "start_time": "2024-11-15T17:52:27.423Z"
   },
   {
    "duration": 427,
    "start_time": "2024-11-15T17:52:27.525Z"
   },
   {
    "duration": 479,
    "start_time": "2024-11-15T17:52:27.955Z"
   },
   {
    "duration": 35,
    "start_time": "2024-11-15T17:52:28.435Z"
   },
   {
    "duration": 104,
    "start_time": "2024-11-15T17:52:28.471Z"
   },
   {
    "duration": 1177,
    "start_time": "2024-11-15T17:52:28.576Z"
   },
   {
    "duration": 68,
    "start_time": "2024-11-15T17:52:29.754Z"
   },
   {
    "duration": 438,
    "start_time": "2024-11-15T17:52:29.823Z"
   },
   {
    "duration": 5499,
    "start_time": "2024-11-15T17:52:30.262Z"
   },
   {
    "duration": 26,
    "start_time": "2024-11-15T17:52:35.763Z"
   },
   {
    "duration": 3604,
    "start_time": "2024-11-15T18:07:22.515Z"
   },
   {
    "duration": 803,
    "start_time": "2024-11-15T18:07:26.121Z"
   },
   {
    "duration": 14,
    "start_time": "2024-11-15T18:07:26.926Z"
   },
   {
    "duration": 141,
    "start_time": "2024-11-15T18:07:26.942Z"
   },
   {
    "duration": 3,
    "start_time": "2024-11-15T18:07:27.085Z"
   },
   {
    "duration": 96,
    "start_time": "2024-11-15T18:07:27.090Z"
   },
   {
    "duration": 165,
    "start_time": "2024-11-15T18:07:27.187Z"
   },
   {
    "duration": 89,
    "start_time": "2024-11-15T18:07:27.353Z"
   },
   {
    "duration": 419,
    "start_time": "2024-11-15T18:07:27.444Z"
   },
   {
    "duration": 434,
    "start_time": "2024-11-15T18:07:27.865Z"
   },
   {
    "duration": 35,
    "start_time": "2024-11-15T18:07:28.301Z"
   },
   {
    "duration": 51,
    "start_time": "2024-11-15T18:07:28.338Z"
   },
   {
    "duration": 1167,
    "start_time": "2024-11-15T18:07:28.391Z"
   },
   {
    "duration": 64,
    "start_time": "2024-11-15T18:07:29.559Z"
   },
   {
    "duration": 432,
    "start_time": "2024-11-15T18:07:29.625Z"
   },
   {
    "duration": 5398,
    "start_time": "2024-11-15T18:07:30.059Z"
   },
   {
    "duration": 28,
    "start_time": "2024-11-15T18:07:35.459Z"
   },
   {
    "duration": 78,
    "start_time": "2024-11-15T18:13:41.001Z"
   },
   {
    "duration": 2341,
    "start_time": "2024-11-15T18:15:00.368Z"
   },
   {
    "duration": 164,
    "start_time": "2024-11-15T18:17:02.323Z"
   },
   {
    "duration": 81,
    "start_time": "2024-11-15T18:20:24.319Z"
   },
   {
    "duration": 3733,
    "start_time": "2024-11-15T18:29:48.581Z"
   },
   {
    "duration": 873,
    "start_time": "2024-11-15T18:29:52.316Z"
   },
   {
    "duration": 16,
    "start_time": "2024-11-15T18:29:53.190Z"
   },
   {
    "duration": 161,
    "start_time": "2024-11-15T18:29:53.208Z"
   },
   {
    "duration": 4,
    "start_time": "2024-11-15T18:29:53.370Z"
   },
   {
    "duration": 118,
    "start_time": "2024-11-15T18:29:53.376Z"
   },
   {
    "duration": 142,
    "start_time": "2024-11-15T18:29:53.495Z"
   },
   {
    "duration": 92,
    "start_time": "2024-11-15T18:29:53.638Z"
   },
   {
    "duration": 421,
    "start_time": "2024-11-15T18:29:53.731Z"
   },
   {
    "duration": 488,
    "start_time": "2024-11-15T18:29:54.155Z"
   },
   {
    "duration": 35,
    "start_time": "2024-11-15T18:29:54.644Z"
   },
   {
    "duration": 68,
    "start_time": "2024-11-15T18:29:54.681Z"
   },
   {
    "duration": 1170,
    "start_time": "2024-11-15T18:29:54.751Z"
   },
   {
    "duration": 55,
    "start_time": "2024-11-15T18:29:55.922Z"
   },
   {
    "duration": 474,
    "start_time": "2024-11-15T18:29:55.979Z"
   },
   {
    "duration": 5406,
    "start_time": "2024-11-15T18:29:56.455Z"
   },
   {
    "duration": 20,
    "start_time": "2024-11-15T18:30:01.863Z"
   },
   {
    "duration": 70,
    "start_time": "2024-11-15T18:30:01.885Z"
   },
   {
    "duration": 112,
    "start_time": "2024-11-15T18:30:01.957Z"
   },
   {
    "duration": 79,
    "start_time": "2024-11-15T18:30:56.532Z"
   },
   {
    "duration": 875,
    "start_time": "2024-11-15T18:32:53.446Z"
   },
   {
    "duration": 385,
    "start_time": "2024-11-15T18:34:01.046Z"
   },
   {
    "duration": 6167,
    "start_time": "2024-11-15T18:35:25.269Z"
   },
   {
    "duration": 55,
    "start_time": "2024-11-15T18:36:28.199Z"
   },
   {
    "duration": 4,
    "start_time": "2024-11-15T18:38:39.496Z"
   },
   {
    "duration": 2732,
    "start_time": "2024-11-15T18:38:44.726Z"
   },
   {
    "duration": 2823,
    "start_time": "2024-11-15T18:39:47.150Z"
   },
   {
    "duration": 2813,
    "start_time": "2024-11-15T18:40:21.043Z"
   },
   {
    "duration": 5045,
    "start_time": "2024-11-15T18:41:50.685Z"
   },
   {
    "duration": 44522,
    "start_time": "2024-11-15T18:43:32.802Z"
   },
   {
    "duration": 3568,
    "start_time": "2024-11-15T18:45:02.995Z"
   },
   {
    "duration": 873,
    "start_time": "2024-11-15T18:45:06.565Z"
   },
   {
    "duration": 14,
    "start_time": "2024-11-15T18:45:07.440Z"
   },
   {
    "duration": 157,
    "start_time": "2024-11-15T18:45:07.455Z"
   },
   {
    "duration": 6,
    "start_time": "2024-11-15T18:45:07.615Z"
   },
   {
    "duration": 108,
    "start_time": "2024-11-15T18:45:07.623Z"
   },
   {
    "duration": 155,
    "start_time": "2024-11-15T18:45:07.733Z"
   },
   {
    "duration": 99,
    "start_time": "2024-11-15T18:45:07.890Z"
   },
   {
    "duration": 431,
    "start_time": "2024-11-15T18:45:07.991Z"
   },
   {
    "duration": 459,
    "start_time": "2024-11-15T18:45:08.423Z"
   },
   {
    "duration": 43,
    "start_time": "2024-11-15T18:45:08.884Z"
   },
   {
    "duration": 56,
    "start_time": "2024-11-15T18:45:08.929Z"
   },
   {
    "duration": 1147,
    "start_time": "2024-11-15T18:45:08.987Z"
   },
   {
    "duration": 57,
    "start_time": "2024-11-15T18:45:10.136Z"
   },
   {
    "duration": 469,
    "start_time": "2024-11-15T18:45:10.195Z"
   },
   {
    "duration": 5360,
    "start_time": "2024-11-15T18:45:10.665Z"
   },
   {
    "duration": 23,
    "start_time": "2024-11-15T18:45:16.027Z"
   },
   {
    "duration": 893,
    "start_time": "2024-11-15T18:45:16.052Z"
   },
   {
    "duration": 6178,
    "start_time": "2024-11-15T18:45:16.946Z"
   },
   {
    "duration": 2802,
    "start_time": "2024-11-15T18:45:23.126Z"
   },
   {
    "duration": 4794,
    "start_time": "2024-11-15T18:45:25.929Z"
   },
   {
    "duration": 4804,
    "start_time": "2024-11-15T18:47:07.822Z"
   },
   {
    "duration": 4652,
    "start_time": "2024-11-15T18:50:39.774Z"
   },
   {
    "duration": 6043,
    "start_time": "2024-11-15T18:50:55.595Z"
   },
   {
    "duration": 2776,
    "start_time": "2024-11-15T18:51:04.455Z"
   },
   {
    "duration": 3650,
    "start_time": "2024-11-15T18:56:05.568Z"
   },
   {
    "duration": 844,
    "start_time": "2024-11-15T18:56:09.219Z"
   },
   {
    "duration": 16,
    "start_time": "2024-11-15T18:56:10.065Z"
   },
   {
    "duration": 155,
    "start_time": "2024-11-15T18:56:10.083Z"
   },
   {
    "duration": 4,
    "start_time": "2024-11-15T18:56:10.240Z"
   },
   {
    "duration": 98,
    "start_time": "2024-11-15T18:56:10.245Z"
   },
   {
    "duration": 148,
    "start_time": "2024-11-15T18:56:10.345Z"
   },
   {
    "duration": 100,
    "start_time": "2024-11-15T18:56:10.495Z"
   },
   {
    "duration": 475,
    "start_time": "2024-11-15T18:56:10.597Z"
   },
   {
    "duration": 488,
    "start_time": "2024-11-15T18:56:11.075Z"
   },
   {
    "duration": 35,
    "start_time": "2024-11-15T18:56:11.564Z"
   },
   {
    "duration": 82,
    "start_time": "2024-11-15T18:56:11.601Z"
   },
   {
    "duration": 1081,
    "start_time": "2024-11-15T18:56:11.685Z"
   },
   {
    "duration": 67,
    "start_time": "2024-11-15T18:56:12.767Z"
   },
   {
    "duration": 516,
    "start_time": "2024-11-15T18:56:12.836Z"
   },
   {
    "duration": 5335,
    "start_time": "2024-11-15T18:56:13.354Z"
   },
   {
    "duration": 23,
    "start_time": "2024-11-15T18:56:18.691Z"
   },
   {
    "duration": 811,
    "start_time": "2024-11-15T18:56:18.716Z"
   },
   {
    "duration": 2792,
    "start_time": "2024-11-15T18:56:19.529Z"
   },
   {
    "duration": 2805,
    "start_time": "2024-11-15T18:56:22.323Z"
   },
   {
    "duration": 5097,
    "start_time": "2024-11-15T18:56:25.130Z"
   },
   {
    "duration": 111,
    "start_time": "2024-11-15T18:56:53.629Z"
   },
   {
    "duration": 4387,
    "start_time": "2024-11-15T18:57:10.580Z"
   },
   {
    "duration": 854,
    "start_time": "2024-11-15T18:57:14.969Z"
   },
   {
    "duration": 16,
    "start_time": "2024-11-15T18:57:15.824Z"
   },
   {
    "duration": 162,
    "start_time": "2024-11-15T18:57:15.842Z"
   },
   {
    "duration": 5,
    "start_time": "2024-11-15T18:57:16.005Z"
   },
   {
    "duration": 122,
    "start_time": "2024-11-15T18:57:16.011Z"
   },
   {
    "duration": 141,
    "start_time": "2024-11-15T18:57:16.135Z"
   },
   {
    "duration": 90,
    "start_time": "2024-11-15T18:57:16.277Z"
   },
   {
    "duration": 425,
    "start_time": "2024-11-15T18:57:16.368Z"
   },
   {
    "duration": 474,
    "start_time": "2024-11-15T18:57:16.795Z"
   },
   {
    "duration": 38,
    "start_time": "2024-11-15T18:57:17.270Z"
   },
   {
    "duration": 69,
    "start_time": "2024-11-15T18:57:17.321Z"
   },
   {
    "duration": 1220,
    "start_time": "2024-11-15T18:57:17.391Z"
   },
   {
    "duration": 58,
    "start_time": "2024-11-15T18:57:18.620Z"
   },
   {
    "duration": 488,
    "start_time": "2024-11-15T18:57:18.679Z"
   },
   {
    "duration": 5444,
    "start_time": "2024-11-15T18:57:19.169Z"
   },
   {
    "duration": 21,
    "start_time": "2024-11-15T18:57:24.615Z"
   },
   {
    "duration": 851,
    "start_time": "2024-11-15T18:57:24.637Z"
   },
   {
    "duration": 6113,
    "start_time": "2024-11-15T18:57:25.489Z"
   },
   {
    "duration": 2817,
    "start_time": "2024-11-15T18:57:31.604Z"
   },
   {
    "duration": 11805,
    "start_time": "2024-11-15T18:57:34.423Z"
   },
   {
    "duration": 3637,
    "start_time": "2024-11-15T19:11:05.797Z"
   },
   {
    "duration": 854,
    "start_time": "2024-11-15T19:11:09.436Z"
   },
   {
    "duration": 15,
    "start_time": "2024-11-15T19:11:10.292Z"
   },
   {
    "duration": 179,
    "start_time": "2024-11-15T19:11:10.309Z"
   },
   {
    "duration": 4,
    "start_time": "2024-11-15T19:11:10.489Z"
   },
   {
    "duration": 101,
    "start_time": "2024-11-15T19:11:10.495Z"
   },
   {
    "duration": 162,
    "start_time": "2024-11-15T19:11:10.598Z"
   },
   {
    "duration": 91,
    "start_time": "2024-11-15T19:11:10.762Z"
   },
   {
    "duration": 446,
    "start_time": "2024-11-15T19:11:10.854Z"
   },
   {
    "duration": 483,
    "start_time": "2024-11-15T19:11:11.302Z"
   },
   {
    "duration": 43,
    "start_time": "2024-11-15T19:11:11.786Z"
   },
   {
    "duration": 84,
    "start_time": "2024-11-15T19:11:11.831Z"
   },
   {
    "duration": 1185,
    "start_time": "2024-11-15T19:11:11.916Z"
   },
   {
    "duration": 60,
    "start_time": "2024-11-15T19:11:13.103Z"
   },
   {
    "duration": 500,
    "start_time": "2024-11-15T19:11:13.165Z"
   },
   {
    "duration": 5719,
    "start_time": "2024-11-15T19:11:13.666Z"
   },
   {
    "duration": 22,
    "start_time": "2024-11-15T19:11:19.387Z"
   },
   {
    "duration": 816,
    "start_time": "2024-11-15T19:11:19.410Z"
   },
   {
    "duration": 6055,
    "start_time": "2024-11-15T19:11:20.228Z"
   },
   {
    "duration": 2795,
    "start_time": "2024-11-15T19:11:26.285Z"
   },
   {
    "duration": 14343,
    "start_time": "2024-11-15T19:11:29.082Z"
   },
   {
    "duration": 3820,
    "start_time": "2024-11-15T20:08:51.074Z"
   },
   {
    "duration": 906,
    "start_time": "2024-11-15T20:08:54.896Z"
   },
   {
    "duration": 15,
    "start_time": "2024-11-15T20:08:55.803Z"
   },
   {
    "duration": 166,
    "start_time": "2024-11-15T20:08:55.820Z"
   },
   {
    "duration": 4,
    "start_time": "2024-11-15T20:08:55.988Z"
   },
   {
    "duration": 116,
    "start_time": "2024-11-15T20:08:55.993Z"
   },
   {
    "duration": 152,
    "start_time": "2024-11-15T20:08:56.110Z"
   },
   {
    "duration": 101,
    "start_time": "2024-11-15T20:08:56.263Z"
   },
   {
    "duration": 456,
    "start_time": "2024-11-15T20:08:56.366Z"
   },
   {
    "duration": 489,
    "start_time": "2024-11-15T20:08:56.824Z"
   },
   {
    "duration": 48,
    "start_time": "2024-11-15T20:08:57.315Z"
   },
   {
    "duration": 75,
    "start_time": "2024-11-15T20:08:57.365Z"
   },
   {
    "duration": 1202,
    "start_time": "2024-11-15T20:08:57.441Z"
   },
   {
    "duration": 56,
    "start_time": "2024-11-15T20:08:58.645Z"
   },
   {
    "duration": 467,
    "start_time": "2024-11-15T20:08:58.703Z"
   },
   {
    "duration": 6002,
    "start_time": "2024-11-15T20:08:59.171Z"
   },
   {
    "duration": 26,
    "start_time": "2024-11-15T20:09:05.176Z"
   },
   {
    "duration": 908,
    "start_time": "2024-11-15T20:09:05.204Z"
   },
   {
    "duration": 6648,
    "start_time": "2024-11-15T20:09:06.114Z"
   },
   {
    "duration": 3072,
    "start_time": "2024-11-15T20:09:12.763Z"
   },
   {
    "duration": 3846,
    "start_time": "2024-11-15T20:10:37.335Z"
   },
   {
    "duration": 906,
    "start_time": "2024-11-15T20:10:41.184Z"
   },
   {
    "duration": 17,
    "start_time": "2024-11-15T20:10:42.092Z"
   },
   {
    "duration": 205,
    "start_time": "2024-11-15T20:10:42.110Z"
   },
   {
    "duration": 23,
    "start_time": "2024-11-15T20:10:42.317Z"
   },
   {
    "duration": 102,
    "start_time": "2024-11-15T20:10:42.342Z"
   },
   {
    "duration": 167,
    "start_time": "2024-11-15T20:10:42.445Z"
   },
   {
    "duration": 99,
    "start_time": "2024-11-15T20:10:42.614Z"
   },
   {
    "duration": 493,
    "start_time": "2024-11-15T20:10:42.715Z"
   },
   {
    "duration": 535,
    "start_time": "2024-11-15T20:10:43.209Z"
   },
   {
    "duration": 36,
    "start_time": "2024-11-15T20:10:43.746Z"
   },
   {
    "duration": 70,
    "start_time": "2024-11-15T20:10:43.784Z"
   },
   {
    "duration": 1242,
    "start_time": "2024-11-15T20:10:43.856Z"
   },
   {
    "duration": 141,
    "start_time": "2024-11-15T20:10:45.101Z"
   },
   {
    "duration": 0,
    "start_time": "2024-11-15T20:10:45.243Z"
   },
   {
    "duration": 0,
    "start_time": "2024-11-15T20:10:45.245Z"
   },
   {
    "duration": 0,
    "start_time": "2024-11-15T20:10:45.246Z"
   },
   {
    "duration": 0,
    "start_time": "2024-11-15T20:10:45.247Z"
   },
   {
    "duration": 0,
    "start_time": "2024-11-15T20:10:45.248Z"
   },
   {
    "duration": 0,
    "start_time": "2024-11-15T20:10:45.249Z"
   },
   {
    "duration": 0,
    "start_time": "2024-11-15T20:10:45.250Z"
   },
   {
    "duration": 3939,
    "start_time": "2024-11-15T20:11:02.036Z"
   },
   {
    "duration": 912,
    "start_time": "2024-11-15T20:11:05.977Z"
   },
   {
    "duration": 20,
    "start_time": "2024-11-15T20:11:06.890Z"
   },
   {
    "duration": 240,
    "start_time": "2024-11-15T20:11:06.921Z"
   },
   {
    "duration": 5,
    "start_time": "2024-11-15T20:11:07.163Z"
   },
   {
    "duration": 125,
    "start_time": "2024-11-15T20:11:07.169Z"
   },
   {
    "duration": 199,
    "start_time": "2024-11-15T20:11:07.296Z"
   },
   {
    "duration": 156,
    "start_time": "2024-11-15T20:11:07.497Z"
   },
   {
    "duration": 473,
    "start_time": "2024-11-15T20:11:07.654Z"
   },
   {
    "duration": 479,
    "start_time": "2024-11-15T20:11:08.129Z"
   },
   {
    "duration": 36,
    "start_time": "2024-11-15T20:11:08.609Z"
   },
   {
    "duration": 62,
    "start_time": "2024-11-15T20:11:08.647Z"
   },
   {
    "duration": 1611,
    "start_time": "2024-11-15T20:11:08.710Z"
   },
   {
    "duration": 124,
    "start_time": "2024-11-15T20:11:10.324Z"
   },
   {
    "duration": 902,
    "start_time": "2024-11-15T20:11:10.450Z"
   },
   {
    "duration": 6460,
    "start_time": "2024-11-15T20:11:11.353Z"
   },
   {
    "duration": 30,
    "start_time": "2024-11-15T20:11:17.815Z"
   },
   {
    "duration": 858,
    "start_time": "2024-11-15T20:11:17.846Z"
   },
   {
    "duration": 6533,
    "start_time": "2024-11-15T20:11:18.706Z"
   },
   {
    "duration": 2959,
    "start_time": "2024-11-15T20:11:25.240Z"
   },
   {
    "duration": 3938,
    "start_time": "2024-11-15T20:12:36.274Z"
   },
   {
    "duration": 960,
    "start_time": "2024-11-15T20:12:40.214Z"
   },
   {
    "duration": 17,
    "start_time": "2024-11-15T20:12:41.176Z"
   },
   {
    "duration": 194,
    "start_time": "2024-11-15T20:12:41.194Z"
   },
   {
    "duration": 4,
    "start_time": "2024-11-15T20:12:41.391Z"
   },
   {
    "duration": 122,
    "start_time": "2024-11-15T20:12:41.396Z"
   },
   {
    "duration": 171,
    "start_time": "2024-11-15T20:12:41.519Z"
   },
   {
    "duration": 101,
    "start_time": "2024-11-15T20:12:41.692Z"
   },
   {
    "duration": 484,
    "start_time": "2024-11-15T20:12:41.795Z"
   },
   {
    "duration": 508,
    "start_time": "2024-11-15T20:12:42.280Z"
   },
   {
    "duration": 49,
    "start_time": "2024-11-15T20:12:42.790Z"
   },
   {
    "duration": 100,
    "start_time": "2024-11-15T20:12:42.841Z"
   },
   {
    "duration": 1225,
    "start_time": "2024-11-15T20:12:42.943Z"
   },
   {
    "duration": 74,
    "start_time": "2024-11-15T20:12:44.170Z"
   },
   {
    "duration": 509,
    "start_time": "2024-11-15T20:12:44.245Z"
   },
   {
    "duration": 6114,
    "start_time": "2024-11-15T20:12:44.755Z"
   },
   {
    "duration": 24,
    "start_time": "2024-11-15T20:12:50.870Z"
   },
   {
    "duration": 876,
    "start_time": "2024-11-15T20:12:50.895Z"
   },
   {
    "duration": 6736,
    "start_time": "2024-11-15T20:12:51.772Z"
   },
   {
    "duration": 3107,
    "start_time": "2024-11-15T20:12:58.510Z"
   },
   {
    "duration": 88409,
    "start_time": "2024-11-15T20:13:01.618Z"
   },
   {
    "duration": 3656,
    "start_time": "2024-11-15T20:16:24.820Z"
   },
   {
    "duration": 817,
    "start_time": "2024-11-15T20:16:28.478Z"
   },
   {
    "duration": 30,
    "start_time": "2024-11-15T20:16:29.297Z"
   },
   {
    "duration": 178,
    "start_time": "2024-11-15T20:16:29.329Z"
   },
   {
    "duration": 3,
    "start_time": "2024-11-15T20:16:29.510Z"
   },
   {
    "duration": 95,
    "start_time": "2024-11-15T20:16:29.515Z"
   },
   {
    "duration": 151,
    "start_time": "2024-11-15T20:16:29.620Z"
   },
   {
    "duration": 148,
    "start_time": "2024-11-15T20:16:29.773Z"
   },
   {
    "duration": 423,
    "start_time": "2024-11-15T20:16:29.922Z"
   },
   {
    "duration": 456,
    "start_time": "2024-11-15T20:16:30.346Z"
   },
   {
    "duration": 38,
    "start_time": "2024-11-15T20:16:30.804Z"
   },
   {
    "duration": 111,
    "start_time": "2024-11-15T20:16:30.843Z"
   },
   {
    "duration": 1169,
    "start_time": "2024-11-15T20:16:30.956Z"
   },
   {
    "duration": 57,
    "start_time": "2024-11-15T20:16:32.127Z"
   },
   {
    "duration": 496,
    "start_time": "2024-11-15T20:16:32.186Z"
   },
   {
    "duration": 5433,
    "start_time": "2024-11-15T20:16:32.684Z"
   },
   {
    "duration": 21,
    "start_time": "2024-11-15T20:16:38.119Z"
   },
   {
    "duration": 859,
    "start_time": "2024-11-15T20:16:38.142Z"
   },
   {
    "duration": 5961,
    "start_time": "2024-11-15T20:16:39.003Z"
   },
   {
    "duration": 2829,
    "start_time": "2024-11-15T20:16:44.966Z"
   },
   {
    "duration": 83635,
    "start_time": "2024-11-15T20:16:47.798Z"
   },
   {
    "duration": 3757,
    "start_time": "2024-11-15T20:23:16.794Z"
   },
   {
    "duration": 843,
    "start_time": "2024-11-15T20:23:20.553Z"
   },
   {
    "duration": 23,
    "start_time": "2024-11-15T20:23:21.398Z"
   },
   {
    "duration": 151,
    "start_time": "2024-11-15T20:23:21.423Z"
   },
   {
    "duration": 5,
    "start_time": "2024-11-15T20:23:21.576Z"
   },
   {
    "duration": 113,
    "start_time": "2024-11-15T20:23:21.582Z"
   },
   {
    "duration": 141,
    "start_time": "2024-11-15T20:23:21.696Z"
   },
   {
    "duration": 92,
    "start_time": "2024-11-15T20:23:21.839Z"
   },
   {
    "duration": 433,
    "start_time": "2024-11-15T20:23:21.935Z"
   },
   {
    "duration": 471,
    "start_time": "2024-11-15T20:23:22.370Z"
   },
   {
    "duration": 38,
    "start_time": "2024-11-15T20:23:22.843Z"
   },
   {
    "duration": 90,
    "start_time": "2024-11-15T20:23:22.883Z"
   },
   {
    "duration": 1250,
    "start_time": "2024-11-15T20:23:22.974Z"
   },
   {
    "duration": 55,
    "start_time": "2024-11-15T20:23:24.225Z"
   },
   {
    "duration": 473,
    "start_time": "2024-11-15T20:23:24.281Z"
   },
   {
    "duration": 5642,
    "start_time": "2024-11-15T20:23:24.756Z"
   },
   {
    "duration": 35,
    "start_time": "2024-11-15T20:23:30.399Z"
   },
   {
    "duration": 825,
    "start_time": "2024-11-15T20:23:30.435Z"
   },
   {
    "duration": 6129,
    "start_time": "2024-11-15T20:23:31.261Z"
   },
   {
    "duration": 2889,
    "start_time": "2024-11-15T20:23:37.391Z"
   },
   {
    "duration": 125861,
    "start_time": "2024-11-15T20:23:40.282Z"
   },
   {
    "duration": 3841,
    "start_time": "2024-11-15T20:26:22.965Z"
   },
   {
    "duration": 949,
    "start_time": "2024-11-15T20:26:26.808Z"
   },
   {
    "duration": 16,
    "start_time": "2024-11-15T20:26:27.759Z"
   },
   {
    "duration": 190,
    "start_time": "2024-11-15T20:26:27.777Z"
   },
   {
    "duration": 4,
    "start_time": "2024-11-15T20:26:27.969Z"
   },
   {
    "duration": 117,
    "start_time": "2024-11-15T20:26:27.974Z"
   },
   {
    "duration": 170,
    "start_time": "2024-11-15T20:26:28.093Z"
   },
   {
    "duration": 109,
    "start_time": "2024-11-15T20:26:28.264Z"
   },
   {
    "duration": 448,
    "start_time": "2024-11-15T20:26:28.375Z"
   },
   {
    "duration": 500,
    "start_time": "2024-11-15T20:26:28.826Z"
   },
   {
    "duration": 38,
    "start_time": "2024-11-15T20:26:29.328Z"
   },
   {
    "duration": 73,
    "start_time": "2024-11-15T20:26:29.367Z"
   },
   {
    "duration": 1156,
    "start_time": "2024-11-15T20:26:29.442Z"
   },
   {
    "duration": 69,
    "start_time": "2024-11-15T20:26:30.600Z"
   },
   {
    "duration": 494,
    "start_time": "2024-11-15T20:26:30.670Z"
   },
   {
    "duration": 5915,
    "start_time": "2024-11-15T20:26:31.165Z"
   },
   {
    "duration": 23,
    "start_time": "2024-11-15T20:26:37.082Z"
   },
   {
    "duration": 909,
    "start_time": "2024-11-15T20:26:37.106Z"
   },
   {
    "duration": 6502,
    "start_time": "2024-11-15T20:26:38.020Z"
   },
   {
    "duration": 3033,
    "start_time": "2024-11-15T20:26:44.524Z"
   },
   {
    "duration": 93962,
    "start_time": "2024-11-15T20:26:47.559Z"
   },
   {
    "duration": 3795,
    "start_time": "2024-11-15T20:30:41.394Z"
   },
   {
    "duration": 857,
    "start_time": "2024-11-15T20:30:45.191Z"
   },
   {
    "duration": 14,
    "start_time": "2024-11-15T20:30:46.053Z"
   },
   {
    "duration": 142,
    "start_time": "2024-11-15T20:30:46.069Z"
   },
   {
    "duration": 14,
    "start_time": "2024-11-15T20:30:46.220Z"
   },
   {
    "duration": 99,
    "start_time": "2024-11-15T20:30:46.236Z"
   },
   {
    "duration": 150,
    "start_time": "2024-11-15T20:30:46.336Z"
   },
   {
    "duration": 90,
    "start_time": "2024-11-15T20:30:46.487Z"
   },
   {
    "duration": 417,
    "start_time": "2024-11-15T20:30:46.578Z"
   },
   {
    "duration": 503,
    "start_time": "2024-11-15T20:30:46.998Z"
   },
   {
    "duration": 39,
    "start_time": "2024-11-15T20:30:47.502Z"
   },
   {
    "duration": 56,
    "start_time": "2024-11-15T20:30:47.542Z"
   },
   {
    "duration": 1170,
    "start_time": "2024-11-15T20:30:47.599Z"
   },
   {
    "duration": 67,
    "start_time": "2024-11-15T20:30:48.771Z"
   },
   {
    "duration": 520,
    "start_time": "2024-11-15T20:30:48.840Z"
   },
   {
    "duration": 5723,
    "start_time": "2024-11-15T20:30:49.361Z"
   },
   {
    "duration": 39,
    "start_time": "2024-11-15T20:30:55.086Z"
   },
   {
    "duration": 866,
    "start_time": "2024-11-15T20:30:55.127Z"
   },
   {
    "duration": 6528,
    "start_time": "2024-11-15T20:30:55.994Z"
   },
   {
    "duration": 2868,
    "start_time": "2024-11-15T20:31:02.524Z"
   },
   {
    "duration": 3801,
    "start_time": "2024-11-15T20:31:20.485Z"
   },
   {
    "duration": 852,
    "start_time": "2024-11-15T20:31:24.288Z"
   },
   {
    "duration": 14,
    "start_time": "2024-11-15T20:31:25.141Z"
   },
   {
    "duration": 164,
    "start_time": "2024-11-15T20:31:25.157Z"
   },
   {
    "duration": 6,
    "start_time": "2024-11-15T20:31:25.324Z"
   },
   {
    "duration": 110,
    "start_time": "2024-11-15T20:31:25.332Z"
   },
   {
    "duration": 148,
    "start_time": "2024-11-15T20:31:25.443Z"
   },
   {
    "duration": 94,
    "start_time": "2024-11-15T20:31:25.592Z"
   },
   {
    "duration": 472,
    "start_time": "2024-11-15T20:31:25.687Z"
   },
   {
    "duration": 449,
    "start_time": "2024-11-15T20:31:26.161Z"
   },
   {
    "duration": 38,
    "start_time": "2024-11-15T20:31:26.611Z"
   },
   {
    "duration": 115,
    "start_time": "2024-11-15T20:31:26.650Z"
   },
   {
    "duration": 0,
    "start_time": "2024-11-15T20:31:26.766Z"
   },
   {
    "duration": 0,
    "start_time": "2024-11-15T20:31:26.768Z"
   },
   {
    "duration": 0,
    "start_time": "2024-11-15T20:31:26.769Z"
   },
   {
    "duration": 0,
    "start_time": "2024-11-15T20:31:26.770Z"
   },
   {
    "duration": 0,
    "start_time": "2024-11-15T20:31:26.771Z"
   },
   {
    "duration": 0,
    "start_time": "2024-11-15T20:31:26.772Z"
   },
   {
    "duration": 0,
    "start_time": "2024-11-15T20:31:26.772Z"
   },
   {
    "duration": 0,
    "start_time": "2024-11-15T20:31:26.773Z"
   },
   {
    "duration": 0,
    "start_time": "2024-11-15T20:31:26.775Z"
   },
   {
    "duration": 0,
    "start_time": "2024-11-15T20:31:26.776Z"
   },
   {
    "duration": 3777,
    "start_time": "2024-11-15T20:31:36.990Z"
   },
   {
    "duration": 841,
    "start_time": "2024-11-15T20:31:40.769Z"
   },
   {
    "duration": 23,
    "start_time": "2024-11-15T20:31:41.612Z"
   },
   {
    "duration": 148,
    "start_time": "2024-11-15T20:31:41.637Z"
   },
   {
    "duration": 3,
    "start_time": "2024-11-15T20:31:41.787Z"
   },
   {
    "duration": 105,
    "start_time": "2024-11-15T20:31:41.792Z"
   },
   {
    "duration": 157,
    "start_time": "2024-11-15T20:31:41.899Z"
   },
   {
    "duration": 101,
    "start_time": "2024-11-15T20:31:42.058Z"
   },
   {
    "duration": 422,
    "start_time": "2024-11-15T20:31:42.161Z"
   },
   {
    "duration": 492,
    "start_time": "2024-11-15T20:31:42.585Z"
   },
   {
    "duration": 43,
    "start_time": "2024-11-15T20:31:43.079Z"
   },
   {
    "duration": 111,
    "start_time": "2024-11-15T20:31:43.124Z"
   },
   {
    "duration": 51,
    "start_time": "2024-11-15T20:31:43.237Z"
   },
   {
    "duration": 1190,
    "start_time": "2024-11-15T20:31:43.290Z"
   },
   {
    "duration": 69,
    "start_time": "2024-11-15T20:31:44.481Z"
   },
   {
    "duration": 418,
    "start_time": "2024-11-15T20:31:44.552Z"
   },
   {
    "duration": 5705,
    "start_time": "2024-11-15T20:31:44.972Z"
   },
   {
    "duration": 21,
    "start_time": "2024-11-15T20:31:50.678Z"
   },
   {
    "duration": 848,
    "start_time": "2024-11-15T20:31:50.701Z"
   },
   {
    "duration": 6292,
    "start_time": "2024-11-15T20:31:51.550Z"
   },
   {
    "duration": 2892,
    "start_time": "2024-11-15T20:31:57.844Z"
   },
   {
    "duration": 15897,
    "start_time": "2024-11-15T20:32:00.738Z"
   },
   {
    "duration": 32300,
    "start_time": "2024-11-15T20:32:32.329Z"
   },
   {
    "duration": 46,
    "start_time": "2024-11-16T10:33:26.491Z"
   },
   {
    "duration": 5317,
    "start_time": "2024-11-16T10:33:31.262Z"
   },
   {
    "duration": 2843,
    "start_time": "2024-11-16T10:33:36.581Z"
   },
   {
    "duration": 14,
    "start_time": "2024-11-16T10:33:39.425Z"
   },
   {
    "duration": 142,
    "start_time": "2024-11-16T10:33:39.441Z"
   },
   {
    "duration": 5,
    "start_time": "2024-11-16T10:33:39.584Z"
   },
   {
    "duration": 92,
    "start_time": "2024-11-16T10:33:39.590Z"
   },
   {
    "duration": 120,
    "start_time": "2024-11-16T10:33:39.683Z"
   },
   {
    "duration": 68,
    "start_time": "2024-11-16T10:33:39.811Z"
   },
   {
    "duration": 424,
    "start_time": "2024-11-16T10:33:39.881Z"
   },
   {
    "duration": 416,
    "start_time": "2024-11-16T10:33:40.307Z"
   },
   {
    "duration": 33,
    "start_time": "2024-11-16T10:33:40.725Z"
   },
   {
    "duration": 95,
    "start_time": "2024-11-16T10:33:40.760Z"
   },
   {
    "duration": 62,
    "start_time": "2024-11-16T10:33:40.856Z"
   },
   {
    "duration": 1193,
    "start_time": "2024-11-16T10:33:40.920Z"
   },
   {
    "duration": 58,
    "start_time": "2024-11-16T10:33:42.114Z"
   },
   {
    "duration": 472,
    "start_time": "2024-11-16T10:33:42.174Z"
   },
   {
    "duration": 4975,
    "start_time": "2024-11-16T10:33:42.647Z"
   },
   {
    "duration": 24,
    "start_time": "2024-11-16T10:33:47.623Z"
   },
   {
    "duration": 22,
    "start_time": "2024-11-16T10:33:47.649Z"
   },
   {
    "duration": 627,
    "start_time": "2024-11-16T10:33:47.672Z"
   },
   {
    "duration": 4994,
    "start_time": "2024-11-16T10:33:48.300Z"
   },
   {
    "duration": 2241,
    "start_time": "2024-11-16T10:33:53.295Z"
   },
   {
    "duration": 6775,
    "start_time": "2024-11-16T10:33:55.538Z"
   },
   {
    "duration": 15,
    "start_time": "2024-11-16T10:35:14.522Z"
   },
   {
    "duration": 20,
    "start_time": "2024-11-16T10:35:41.477Z"
   },
   {
    "duration": 36,
    "start_time": "2024-11-16T10:36:14.806Z"
   },
   {
    "duration": 7,
    "start_time": "2024-11-16T10:37:01.032Z"
   },
   {
    "duration": 41,
    "start_time": "2024-11-16T10:37:35.691Z"
   },
   {
    "duration": 48,
    "start_time": "2024-11-16T10:38:19.218Z"
   },
   {
    "duration": 1072,
    "start_time": "2024-11-16T10:38:23.363Z"
   },
   {
    "duration": 53,
    "start_time": "2024-11-16T10:38:53.090Z"
   },
   {
    "duration": 1540,
    "start_time": "2024-11-16T10:39:22.986Z"
   },
   {
    "duration": 720,
    "start_time": "2024-11-16T10:39:29.748Z"
   },
   {
    "duration": 5,
    "start_time": "2024-11-16T10:39:46.394Z"
   },
   {
    "duration": 4037,
    "start_time": "2024-11-16T10:39:52.261Z"
   },
   {
    "duration": 759,
    "start_time": "2024-11-16T10:39:56.300Z"
   },
   {
    "duration": 15,
    "start_time": "2024-11-16T10:39:57.061Z"
   },
   {
    "duration": 138,
    "start_time": "2024-11-16T10:39:57.078Z"
   },
   {
    "duration": 4,
    "start_time": "2024-11-16T10:39:57.218Z"
   },
   {
    "duration": 89,
    "start_time": "2024-11-16T10:39:57.223Z"
   },
   {
    "duration": 156,
    "start_time": "2024-11-16T10:39:57.314Z"
   },
   {
    "duration": 71,
    "start_time": "2024-11-16T10:39:57.471Z"
   },
   {
    "duration": 372,
    "start_time": "2024-11-16T10:39:57.543Z"
   },
   {
    "duration": 436,
    "start_time": "2024-11-16T10:39:57.918Z"
   },
   {
    "duration": 35,
    "start_time": "2024-11-16T10:39:58.356Z"
   },
   {
    "duration": 102,
    "start_time": "2024-11-16T10:39:58.393Z"
   },
   {
    "duration": 62,
    "start_time": "2024-11-16T10:39:58.497Z"
   },
   {
    "duration": 1166,
    "start_time": "2024-11-16T10:39:58.560Z"
   },
   {
    "duration": 84,
    "start_time": "2024-11-16T10:39:59.728Z"
   },
   {
    "duration": 735,
    "start_time": "2024-11-16T10:39:59.814Z"
   },
   {
    "duration": 4968,
    "start_time": "2024-11-16T10:40:00.550Z"
   },
   {
    "duration": 31,
    "start_time": "2024-11-16T10:40:05.519Z"
   },
   {
    "duration": 57,
    "start_time": "2024-11-16T10:40:05.551Z"
   },
   {
    "duration": 663,
    "start_time": "2024-11-16T10:40:05.609Z"
   },
   {
    "duration": 5024,
    "start_time": "2024-11-16T10:40:06.273Z"
   },
   {
    "duration": 2244,
    "start_time": "2024-11-16T10:40:11.298Z"
   },
   {
    "duration": 8376,
    "start_time": "2024-11-16T10:40:13.544Z"
   },
   {
    "duration": 5,
    "start_time": "2024-11-16T10:40:25.764Z"
   },
   {
    "duration": 14,
    "start_time": "2024-11-16T10:41:01.639Z"
   },
   {
    "duration": 9,
    "start_time": "2024-11-16T10:41:05.814Z"
   },
   {
    "duration": 10,
    "start_time": "2024-11-16T10:41:11.070Z"
   },
   {
    "duration": 5,
    "start_time": "2024-11-16T10:41:13.596Z"
   },
   {
    "duration": 9,
    "start_time": "2024-11-16T10:41:16.053Z"
   },
   {
    "duration": 82,
    "start_time": "2024-11-16T10:42:33.502Z"
   },
   {
    "duration": 2678,
    "start_time": "2024-11-16T10:51:28.813Z"
   },
   {
    "duration": 4059,
    "start_time": "2024-11-16T10:55:54.950Z"
   },
   {
    "duration": 790,
    "start_time": "2024-11-16T10:55:59.011Z"
   },
   {
    "duration": 16,
    "start_time": "2024-11-16T10:55:59.805Z"
   },
   {
    "duration": 144,
    "start_time": "2024-11-16T10:55:59.823Z"
   },
   {
    "duration": 4,
    "start_time": "2024-11-16T10:55:59.969Z"
   },
   {
    "duration": 81,
    "start_time": "2024-11-16T10:55:59.974Z"
   },
   {
    "duration": 111,
    "start_time": "2024-11-16T10:56:00.056Z"
   },
   {
    "duration": 73,
    "start_time": "2024-11-16T10:56:00.169Z"
   },
   {
    "duration": 390,
    "start_time": "2024-11-16T10:56:00.245Z"
   },
   {
    "duration": 426,
    "start_time": "2024-11-16T10:56:00.636Z"
   },
   {
    "duration": 32,
    "start_time": "2024-11-16T10:56:01.063Z"
   },
   {
    "duration": 108,
    "start_time": "2024-11-16T10:56:01.097Z"
   },
   {
    "duration": 53,
    "start_time": "2024-11-16T10:56:01.206Z"
   },
   {
    "duration": 1225,
    "start_time": "2024-11-16T10:56:01.260Z"
   },
   {
    "duration": 85,
    "start_time": "2024-11-16T10:56:02.486Z"
   },
   {
    "duration": 784,
    "start_time": "2024-11-16T10:56:02.573Z"
   },
   {
    "duration": 4963,
    "start_time": "2024-11-16T10:56:03.359Z"
   },
   {
    "duration": 26,
    "start_time": "2024-11-16T10:56:08.324Z"
   },
   {
    "duration": 1243,
    "start_time": "2024-11-16T10:56:08.351Z"
   },
   {
    "duration": 0,
    "start_time": "2024-11-16T10:56:09.596Z"
   },
   {
    "duration": 0,
    "start_time": "2024-11-16T10:56:09.597Z"
   },
   {
    "duration": 0,
    "start_time": "2024-11-16T10:56:09.598Z"
   },
   {
    "duration": 6429,
    "start_time": "2024-11-16T10:56:49.995Z"
   },
   {
    "duration": 1217,
    "start_time": "2024-11-16T10:57:10.476Z"
   },
   {
    "duration": 1877,
    "start_time": "2024-11-16T10:59:09.354Z"
   },
   {
    "duration": 60,
    "start_time": "2024-11-16T10:59:56.259Z"
   },
   {
    "duration": 10,
    "start_time": "2024-11-16T11:01:50.644Z"
   },
   {
    "duration": 2777,
    "start_time": "2024-11-16T11:02:12.222Z"
   },
   {
    "duration": 3815,
    "start_time": "2024-11-16T11:17:47.059Z"
   },
   {
    "duration": 746,
    "start_time": "2024-11-16T11:17:50.876Z"
   },
   {
    "duration": 14,
    "start_time": "2024-11-16T11:17:51.623Z"
   },
   {
    "duration": 113,
    "start_time": "2024-11-16T11:17:51.639Z"
   },
   {
    "duration": 4,
    "start_time": "2024-11-16T11:17:51.754Z"
   },
   {
    "duration": 90,
    "start_time": "2024-11-16T11:17:51.760Z"
   },
   {
    "duration": 109,
    "start_time": "2024-11-16T11:17:51.851Z"
   },
   {
    "duration": 71,
    "start_time": "2024-11-16T11:17:51.962Z"
   },
   {
    "duration": 398,
    "start_time": "2024-11-16T11:17:52.034Z"
   },
   {
    "duration": 406,
    "start_time": "2024-11-16T11:17:52.434Z"
   },
   {
    "duration": 32,
    "start_time": "2024-11-16T11:17:52.842Z"
   },
   {
    "duration": 80,
    "start_time": "2024-11-16T11:17:52.876Z"
   },
   {
    "duration": 62,
    "start_time": "2024-11-16T11:17:52.958Z"
   },
   {
    "duration": 1109,
    "start_time": "2024-11-16T11:17:53.022Z"
   },
   {
    "duration": 79,
    "start_time": "2024-11-16T11:17:54.133Z"
   },
   {
    "duration": 756,
    "start_time": "2024-11-16T11:17:54.213Z"
   },
   {
    "duration": 4916,
    "start_time": "2024-11-16T11:17:54.970Z"
   },
   {
    "duration": 27,
    "start_time": "2024-11-16T11:17:59.887Z"
   },
   {
    "duration": 607,
    "start_time": "2024-11-16T11:17:59.916Z"
   },
   {
    "duration": 120,
    "start_time": "2024-11-16T11:18:00.525Z"
   },
   {
    "duration": 0,
    "start_time": "2024-11-16T11:18:00.647Z"
   },
   {
    "duration": 0,
    "start_time": "2024-11-16T11:18:00.648Z"
   },
   {
    "duration": 4965,
    "start_time": "2024-11-16T11:21:59.245Z"
   },
   {
    "duration": 3900,
    "start_time": "2024-11-16T11:22:20.826Z"
   },
   {
    "duration": 722,
    "start_time": "2024-11-16T11:22:24.728Z"
   },
   {
    "duration": 13,
    "start_time": "2024-11-16T11:22:25.451Z"
   },
   {
    "duration": 109,
    "start_time": "2024-11-16T11:22:25.466Z"
   },
   {
    "duration": 11,
    "start_time": "2024-11-16T11:22:25.576Z"
   },
   {
    "duration": 84,
    "start_time": "2024-11-16T11:22:25.588Z"
   },
   {
    "duration": 120,
    "start_time": "2024-11-16T11:22:25.674Z"
   },
   {
    "duration": 74,
    "start_time": "2024-11-16T11:22:25.796Z"
   },
   {
    "duration": 399,
    "start_time": "2024-11-16T11:22:25.872Z"
   },
   {
    "duration": 392,
    "start_time": "2024-11-16T11:22:26.272Z"
   },
   {
    "duration": 32,
    "start_time": "2024-11-16T11:22:26.666Z"
   },
   {
    "duration": 76,
    "start_time": "2024-11-16T11:22:26.700Z"
   },
   {
    "duration": 63,
    "start_time": "2024-11-16T11:22:26.778Z"
   },
   {
    "duration": 1131,
    "start_time": "2024-11-16T11:22:26.843Z"
   },
   {
    "duration": 77,
    "start_time": "2024-11-16T11:22:27.976Z"
   },
   {
    "duration": 784,
    "start_time": "2024-11-16T11:22:28.055Z"
   },
   {
    "duration": 4850,
    "start_time": "2024-11-16T11:22:28.840Z"
   },
   {
    "duration": 26,
    "start_time": "2024-11-16T11:22:33.692Z"
   },
   {
    "duration": 598,
    "start_time": "2024-11-16T11:22:33.720Z"
   },
   {
    "duration": 4919,
    "start_time": "2024-11-16T11:22:34.319Z"
   },
   {
    "duration": 122,
    "start_time": "2024-11-16T11:22:39.239Z"
   },
   {
    "duration": 0,
    "start_time": "2024-11-16T11:22:39.363Z"
   },
   {
    "duration": 2240,
    "start_time": "2024-11-16T11:22:59.425Z"
   },
   {
    "duration": 8577,
    "start_time": "2024-11-16T11:23:03.744Z"
   },
   {
    "duration": 276,
    "start_time": "2024-11-16T16:51:05.509Z"
   },
   {
    "duration": 46,
    "start_time": "2024-11-16T16:51:12.134Z"
   },
   {
    "duration": 5514,
    "start_time": "2024-11-16T16:53:50.133Z"
   },
   {
    "duration": 2981,
    "start_time": "2024-11-16T16:53:55.648Z"
   },
   {
    "duration": 16,
    "start_time": "2024-11-16T16:53:58.631Z"
   },
   {
    "duration": 200,
    "start_time": "2024-11-16T16:53:58.649Z"
   },
   {
    "duration": 4,
    "start_time": "2024-11-16T16:53:58.851Z"
   },
   {
    "duration": 127,
    "start_time": "2024-11-16T16:53:58.856Z"
   },
   {
    "duration": 196,
    "start_time": "2024-11-16T16:53:58.985Z"
   },
   {
    "duration": 105,
    "start_time": "2024-11-16T16:53:59.183Z"
   },
   {
    "duration": 497,
    "start_time": "2024-11-16T16:53:59.291Z"
   },
   {
    "duration": 512,
    "start_time": "2024-11-16T16:53:59.790Z"
   },
   {
    "duration": 38,
    "start_time": "2024-11-16T16:54:00.304Z"
   },
   {
    "duration": 147,
    "start_time": "2024-11-16T16:54:00.344Z"
   },
   {
    "duration": 72,
    "start_time": "2024-11-16T16:54:00.493Z"
   },
   {
    "duration": 1294,
    "start_time": "2024-11-16T16:54:00.567Z"
   },
   {
    "duration": 89,
    "start_time": "2024-11-16T16:54:01.862Z"
   },
   {
    "duration": 812,
    "start_time": "2024-11-16T16:54:01.953Z"
   },
   {
    "duration": 5985,
    "start_time": "2024-11-16T16:54:02.767Z"
   },
   {
    "duration": 32,
    "start_time": "2024-11-16T16:54:08.754Z"
   },
   {
    "duration": 70,
    "start_time": "2024-11-16T16:54:08.787Z"
   },
   {
    "duration": 0,
    "start_time": "2024-11-16T16:54:08.859Z"
   },
   {
    "duration": 0,
    "start_time": "2024-11-16T16:54:08.860Z"
   },
   {
    "duration": 0,
    "start_time": "2024-11-16T16:54:08.861Z"
   },
   {
    "duration": 0,
    "start_time": "2024-11-16T16:54:08.862Z"
   },
   {
    "duration": 0,
    "start_time": "2024-11-16T16:54:08.863Z"
   },
   {
    "duration": 838,
    "start_time": "2024-11-16T16:55:22.168Z"
   },
   {
    "duration": 819,
    "start_time": "2024-11-16T16:56:02.003Z"
   },
   {
    "duration": 804,
    "start_time": "2024-11-16T16:56:38.358Z"
   },
   {
    "duration": 830,
    "start_time": "2024-11-16T16:56:51.698Z"
   },
   {
    "duration": 62767,
    "start_time": "2024-11-16T16:56:57.981Z"
   },
   {
    "duration": 61168,
    "start_time": "2024-11-16T16:58:26.841Z"
   },
   {
    "duration": 9353,
    "start_time": "2024-11-16T16:59:28.012Z"
   },
   {
    "duration": 298655,
    "start_time": "2024-11-16T16:59:37.366Z"
   },
   {
    "duration": 10,
    "start_time": "2024-11-16T17:04:36.023Z"
   },
   {
    "duration": 1187,
    "start_time": "2024-11-16T17:04:36.034Z"
   },
   {
    "duration": 0,
    "start_time": "2024-11-16T17:10:17.264Z"
   },
   {
    "duration": 805,
    "start_time": "2024-11-16T17:10:50.226Z"
   },
   {
    "duration": 62421,
    "start_time": "2024-11-16T17:12:28.315Z"
   },
   {
    "duration": 4266,
    "start_time": "2024-11-16T17:15:29.396Z"
   },
   {
    "duration": 1001,
    "start_time": "2024-11-16T17:15:33.664Z"
   },
   {
    "duration": 16,
    "start_time": "2024-11-16T17:15:34.666Z"
   },
   {
    "duration": 179,
    "start_time": "2024-11-16T17:15:34.684Z"
   },
   {
    "duration": 5,
    "start_time": "2024-11-16T17:15:34.864Z"
   },
   {
    "duration": 136,
    "start_time": "2024-11-16T17:15:34.871Z"
   },
   {
    "duration": 256,
    "start_time": "2024-11-16T17:15:35.008Z"
   },
   {
    "duration": 103,
    "start_time": "2024-11-16T17:15:35.266Z"
   },
   {
    "duration": 537,
    "start_time": "2024-11-16T17:15:35.371Z"
   },
   {
    "duration": 574,
    "start_time": "2024-11-16T17:15:35.910Z"
   },
   {
    "duration": 40,
    "start_time": "2024-11-16T17:15:36.486Z"
   },
   {
    "duration": 129,
    "start_time": "2024-11-16T17:15:36.527Z"
   },
   {
    "duration": 65,
    "start_time": "2024-11-16T17:15:36.658Z"
   },
   {
    "duration": 1261,
    "start_time": "2024-11-16T17:15:36.725Z"
   },
   {
    "duration": 83,
    "start_time": "2024-11-16T17:15:37.987Z"
   },
   {
    "duration": 805,
    "start_time": "2024-11-16T17:15:38.072Z"
   },
   {
    "duration": 5865,
    "start_time": "2024-11-16T17:15:38.879Z"
   },
   {
    "duration": 31,
    "start_time": "2024-11-16T17:15:44.746Z"
   },
   {
    "duration": 883,
    "start_time": "2024-11-16T17:15:44.779Z"
   },
   {
    "duration": 62853,
    "start_time": "2024-11-16T17:15:45.664Z"
   },
   {
    "duration": 9629,
    "start_time": "2024-11-16T17:16:48.519Z"
   },
   {
    "duration": 272277,
    "start_time": "2024-11-16T17:16:58.150Z"
   },
   {
    "duration": 8,
    "start_time": "2024-11-16T17:21:30.429Z"
   },
   {
    "duration": 1200,
    "start_time": "2024-11-16T17:21:30.439Z"
   },
   {
    "duration": 4152,
    "start_time": "2024-11-16T17:32:37.862Z"
   },
   {
    "duration": 962,
    "start_time": "2024-11-16T17:32:42.016Z"
   },
   {
    "duration": 16,
    "start_time": "2024-11-16T17:32:42.980Z"
   },
   {
    "duration": 176,
    "start_time": "2024-11-16T17:32:42.998Z"
   },
   {
    "duration": 5,
    "start_time": "2024-11-16T17:32:43.175Z"
   },
   {
    "duration": 115,
    "start_time": "2024-11-16T17:32:43.182Z"
   },
   {
    "duration": 160,
    "start_time": "2024-11-16T17:32:43.299Z"
   },
   {
    "duration": 104,
    "start_time": "2024-11-16T17:32:43.461Z"
   },
   {
    "duration": 520,
    "start_time": "2024-11-16T17:32:43.567Z"
   },
   {
    "duration": 558,
    "start_time": "2024-11-16T17:32:44.091Z"
   },
   {
    "duration": 37,
    "start_time": "2024-11-16T17:32:44.651Z"
   },
   {
    "duration": 114,
    "start_time": "2024-11-16T17:32:44.690Z"
   },
   {
    "duration": 67,
    "start_time": "2024-11-16T17:32:44.806Z"
   },
   {
    "duration": 1370,
    "start_time": "2024-11-16T17:32:44.874Z"
   },
   {
    "duration": 93,
    "start_time": "2024-11-16T17:32:46.246Z"
   },
   {
    "duration": 799,
    "start_time": "2024-11-16T17:32:46.341Z"
   },
   {
    "duration": 5999,
    "start_time": "2024-11-16T17:32:47.142Z"
   },
   {
    "duration": 35,
    "start_time": "2024-11-16T17:32:53.143Z"
   },
   {
    "duration": 921,
    "start_time": "2024-11-16T17:32:53.180Z"
   },
   {
    "duration": 62784,
    "start_time": "2024-11-16T17:32:54.103Z"
   },
   {
    "duration": 9491,
    "start_time": "2024-11-16T17:33:56.888Z"
   },
   {
    "duration": 4361,
    "start_time": "2024-11-16T17:47:44.014Z"
   },
   {
    "duration": 941,
    "start_time": "2024-11-16T17:47:48.377Z"
   },
   {
    "duration": 16,
    "start_time": "2024-11-16T17:47:49.320Z"
   },
   {
    "duration": 162,
    "start_time": "2024-11-16T17:47:49.339Z"
   },
   {
    "duration": 19,
    "start_time": "2024-11-16T17:47:49.504Z"
   },
   {
    "duration": 110,
    "start_time": "2024-11-16T17:47:49.525Z"
   },
   {
    "duration": 214,
    "start_time": "2024-11-16T17:47:49.636Z"
   },
   {
    "duration": 106,
    "start_time": "2024-11-16T17:47:49.853Z"
   },
   {
    "duration": 531,
    "start_time": "2024-11-16T17:47:49.960Z"
   },
   {
    "duration": 578,
    "start_time": "2024-11-16T17:47:50.493Z"
   },
   {
    "duration": 39,
    "start_time": "2024-11-16T17:47:51.073Z"
   },
   {
    "duration": 108,
    "start_time": "2024-11-16T17:47:51.121Z"
   },
   {
    "duration": 60,
    "start_time": "2024-11-16T17:47:51.231Z"
   },
   {
    "duration": 1351,
    "start_time": "2024-11-16T17:47:51.293Z"
   },
   {
    "duration": 89,
    "start_time": "2024-11-16T17:47:52.647Z"
   },
   {
    "duration": 880,
    "start_time": "2024-11-16T17:47:52.738Z"
   },
   {
    "duration": 6134,
    "start_time": "2024-11-16T17:47:53.621Z"
   },
   {
    "duration": 36,
    "start_time": "2024-11-16T17:47:59.757Z"
   },
   {
    "duration": 877,
    "start_time": "2024-11-16T17:47:59.796Z"
   },
   {
    "duration": 63628,
    "start_time": "2024-11-16T17:48:00.675Z"
   },
   {
    "duration": 9735,
    "start_time": "2024-11-16T17:49:04.305Z"
   },
   {
    "duration": 993058,
    "start_time": "2024-11-16T17:49:14.041Z"
   },
   {
    "duration": 0,
    "start_time": "2024-11-16T18:05:47.101Z"
   },
   {
    "duration": 0,
    "start_time": "2024-11-16T18:05:47.102Z"
   },
   {
    "duration": 4312,
    "start_time": "2024-11-16T18:06:44.763Z"
   },
   {
    "duration": 985,
    "start_time": "2024-11-16T18:06:49.078Z"
   },
   {
    "duration": 17,
    "start_time": "2024-11-16T18:06:50.065Z"
   },
   {
    "duration": 196,
    "start_time": "2024-11-16T18:06:50.084Z"
   },
   {
    "duration": 4,
    "start_time": "2024-11-16T18:06:50.283Z"
   },
   {
    "duration": 145,
    "start_time": "2024-11-16T18:06:50.290Z"
   },
   {
    "duration": 183,
    "start_time": "2024-11-16T18:06:50.437Z"
   },
   {
    "duration": 102,
    "start_time": "2024-11-16T18:06:50.622Z"
   },
   {
    "duration": 504,
    "start_time": "2024-11-16T18:06:50.725Z"
   },
   {
    "duration": 558,
    "start_time": "2024-11-16T18:06:51.231Z"
   },
   {
    "duration": 51,
    "start_time": "2024-11-16T18:06:51.791Z"
   },
   {
    "duration": 185,
    "start_time": "2024-11-16T18:06:51.844Z"
   },
   {
    "duration": 81,
    "start_time": "2024-11-16T18:06:52.031Z"
   },
   {
    "duration": 1330,
    "start_time": "2024-11-16T18:06:52.123Z"
   },
   {
    "duration": 95,
    "start_time": "2024-11-16T18:06:53.455Z"
   },
   {
    "duration": 903,
    "start_time": "2024-11-16T18:06:53.552Z"
   },
   {
    "duration": 6254,
    "start_time": "2024-11-16T18:06:54.457Z"
   },
   {
    "duration": 35,
    "start_time": "2024-11-16T18:07:00.713Z"
   },
   {
    "duration": 878,
    "start_time": "2024-11-16T18:07:00.750Z"
   },
   {
    "duration": 62743,
    "start_time": "2024-11-16T18:07:01.630Z"
   },
   {
    "duration": 9701,
    "start_time": "2024-11-16T18:08:04.374Z"
   },
   {
    "duration": 4310,
    "start_time": "2024-11-16T18:35:48.523Z"
   },
   {
    "duration": 1032,
    "start_time": "2024-11-16T18:35:52.836Z"
   },
   {
    "duration": 16,
    "start_time": "2024-11-16T18:35:53.869Z"
   },
   {
    "duration": 224,
    "start_time": "2024-11-16T18:35:53.887Z"
   },
   {
    "duration": 8,
    "start_time": "2024-11-16T18:35:54.113Z"
   },
   {
    "duration": 114,
    "start_time": "2024-11-16T18:35:54.123Z"
   },
   {
    "duration": 158,
    "start_time": "2024-11-16T18:35:54.238Z"
   },
   {
    "duration": 103,
    "start_time": "2024-11-16T18:35:54.397Z"
   },
   {
    "duration": 550,
    "start_time": "2024-11-16T18:35:54.502Z"
   },
   {
    "duration": 532,
    "start_time": "2024-11-16T18:35:55.054Z"
   },
   {
    "duration": 42,
    "start_time": "2024-11-16T18:35:55.588Z"
   },
   {
    "duration": 107,
    "start_time": "2024-11-16T18:35:55.632Z"
   },
   {
    "duration": 63,
    "start_time": "2024-11-16T18:35:55.740Z"
   },
   {
    "duration": 1425,
    "start_time": "2024-11-16T18:35:55.824Z"
   },
   {
    "duration": 87,
    "start_time": "2024-11-16T18:35:57.250Z"
   },
   {
    "duration": 832,
    "start_time": "2024-11-16T18:35:57.339Z"
   },
   {
    "duration": 6125,
    "start_time": "2024-11-16T18:35:58.173Z"
   },
   {
    "duration": 47,
    "start_time": "2024-11-16T18:36:04.299Z"
   },
   {
    "duration": 869,
    "start_time": "2024-11-16T18:36:04.348Z"
   },
   {
    "duration": 62741,
    "start_time": "2024-11-16T18:36:05.218Z"
   },
   {
    "duration": 9418,
    "start_time": "2024-11-16T18:37:07.961Z"
   },
   {
    "duration": 243747,
    "start_time": "2024-11-16T18:37:17.380Z"
   },
   {
    "duration": 9,
    "start_time": "2024-11-16T18:41:21.129Z"
   },
   {
    "duration": 389,
    "start_time": "2024-11-16T18:41:21.139Z"
   },
   {
    "duration": 77290,
    "start_time": "2024-11-16T18:43:17.238Z"
   },
   {
    "duration": 68415,
    "start_time": "2024-11-16T18:45:00.209Z"
   },
   {
    "duration": 9,
    "start_time": "2024-11-16T18:46:08.627Z"
   },
   {
    "duration": 607,
    "start_time": "2024-11-16T18:46:08.638Z"
   },
   {
    "duration": 6,
    "start_time": "2024-11-16T19:04:37.943Z"
   },
   {
    "duration": 901,
    "start_time": "2024-11-16T19:04:49.489Z"
   },
   {
    "duration": 160,
    "start_time": "2024-11-16T19:04:51.636Z"
   },
   {
    "duration": 1083,
    "start_time": "2024-11-16T19:04:56.279Z"
   },
   {
    "duration": 1388,
    "start_time": "2024-11-16T19:05:42.208Z"
   },
   {
    "duration": 2713,
    "start_time": "2024-11-16T19:06:02.362Z"
   },
   {
    "duration": 922,
    "start_time": "2024-11-16T19:06:09.842Z"
   },
   {
    "duration": 16,
    "start_time": "2024-11-16T19:06:10.767Z"
   },
   {
    "duration": 176,
    "start_time": "2024-11-16T19:06:11.616Z"
   },
   {
    "duration": 6,
    "start_time": "2024-11-16T19:06:13.949Z"
   },
   {
    "duration": 121,
    "start_time": "2024-11-16T19:06:15.852Z"
   },
   {
    "duration": 153,
    "start_time": "2024-11-16T19:06:17.732Z"
   },
   {
    "duration": 125,
    "start_time": "2024-11-16T19:06:19.500Z"
   },
   {
    "duration": 390,
    "start_time": "2024-11-16T19:06:20.685Z"
   },
   {
    "duration": 443,
    "start_time": "2024-11-16T19:06:22.223Z"
   },
   {
    "duration": 32,
    "start_time": "2024-11-16T19:06:27.662Z"
   },
   {
    "duration": 4,
    "start_time": "2024-11-16T19:06:31.241Z"
   },
   {
    "duration": 7,
    "start_time": "2024-11-16T19:07:37.902Z"
   },
   {
    "duration": 4338,
    "start_time": "2024-11-16T19:10:33.380Z"
   },
   {
    "duration": 1019,
    "start_time": "2024-11-16T19:10:37.720Z"
   },
   {
    "duration": 16,
    "start_time": "2024-11-16T19:10:38.741Z"
   },
   {
    "duration": 189,
    "start_time": "2024-11-16T19:10:38.759Z"
   },
   {
    "duration": 5,
    "start_time": "2024-11-16T19:10:38.949Z"
   },
   {
    "duration": 117,
    "start_time": "2024-11-16T19:10:38.956Z"
   },
   {
    "duration": 190,
    "start_time": "2024-11-16T19:10:39.075Z"
   },
   {
    "duration": 104,
    "start_time": "2024-11-16T19:10:39.266Z"
   },
   {
    "duration": 514,
    "start_time": "2024-11-16T19:10:39.372Z"
   },
   {
    "duration": 555,
    "start_time": "2024-11-16T19:10:39.889Z"
   },
   {
    "duration": 38,
    "start_time": "2024-11-16T19:10:40.445Z"
   },
   {
    "duration": 112,
    "start_time": "2024-11-16T19:10:40.485Z"
   },
   {
    "duration": 69,
    "start_time": "2024-11-16T19:10:40.599Z"
   },
   {
    "duration": 6,
    "start_time": "2024-11-16T19:10:40.670Z"
   },
   {
    "duration": 4,
    "start_time": "2024-11-16T19:10:40.677Z"
   },
   {
    "duration": 1461,
    "start_time": "2024-11-16T19:10:40.684Z"
   },
   {
    "duration": 90,
    "start_time": "2024-11-16T19:10:42.147Z"
   },
   {
    "duration": 804,
    "start_time": "2024-11-16T19:10:42.238Z"
   },
   {
    "duration": 6344,
    "start_time": "2024-11-16T19:10:43.044Z"
   },
   {
    "duration": 40,
    "start_time": "2024-11-16T19:10:49.389Z"
   },
   {
    "duration": 843,
    "start_time": "2024-11-16T19:10:49.431Z"
   },
   {
    "duration": 66473,
    "start_time": "2024-11-16T19:10:50.275Z"
   },
   {
    "duration": 9999,
    "start_time": "2024-11-16T19:11:56.750Z"
   },
   {
    "duration": 4292,
    "start_time": "2024-11-16T19:22:01.553Z"
   },
   {
    "duration": 999,
    "start_time": "2024-11-16T19:22:05.848Z"
   },
   {
    "duration": 21,
    "start_time": "2024-11-16T19:22:06.849Z"
   },
   {
    "duration": 233,
    "start_time": "2024-11-16T19:22:06.873Z"
   },
   {
    "duration": 5,
    "start_time": "2024-11-16T19:22:07.108Z"
   },
   {
    "duration": 164,
    "start_time": "2024-11-16T19:22:07.115Z"
   },
   {
    "duration": 212,
    "start_time": "2024-11-16T19:22:07.281Z"
   },
   {
    "duration": 111,
    "start_time": "2024-11-16T19:22:07.495Z"
   },
   {
    "duration": 536,
    "start_time": "2024-11-16T19:22:07.607Z"
   },
   {
    "duration": 588,
    "start_time": "2024-11-16T19:22:08.147Z"
   },
   {
    "duration": 38,
    "start_time": "2024-11-16T19:22:08.737Z"
   },
   {
    "duration": 173,
    "start_time": "2024-11-16T19:22:08.777Z"
   },
   {
    "duration": 79,
    "start_time": "2024-11-16T19:22:08.952Z"
   },
   {
    "duration": 7,
    "start_time": "2024-11-16T19:22:09.032Z"
   },
   {
    "duration": 8,
    "start_time": "2024-11-16T19:22:09.041Z"
   },
   {
    "duration": 1324,
    "start_time": "2024-11-16T19:22:09.051Z"
   },
   {
    "duration": 98,
    "start_time": "2024-11-16T19:22:10.378Z"
   },
   {
    "duration": 798,
    "start_time": "2024-11-16T19:22:10.478Z"
   },
   {
    "duration": 6110,
    "start_time": "2024-11-16T19:22:11.278Z"
   },
   {
    "duration": 38,
    "start_time": "2024-11-16T19:22:17.390Z"
   },
   {
    "duration": 972,
    "start_time": "2024-11-16T19:22:17.430Z"
   },
   {
    "duration": 63883,
    "start_time": "2024-11-16T19:22:18.404Z"
   },
   {
    "duration": 9936,
    "start_time": "2024-11-16T19:23:22.289Z"
   },
   {
    "duration": 4341,
    "start_time": "2024-11-16T19:26:54.673Z"
   },
   {
    "duration": 1021,
    "start_time": "2024-11-16T19:26:59.016Z"
   },
   {
    "duration": 18,
    "start_time": "2024-11-16T19:27:00.039Z"
   },
   {
    "duration": 240,
    "start_time": "2024-11-16T19:27:00.059Z"
   },
   {
    "duration": 7,
    "start_time": "2024-11-16T19:27:00.301Z"
   },
   {
    "duration": 156,
    "start_time": "2024-11-16T19:27:00.320Z"
   },
   {
    "duration": 183,
    "start_time": "2024-11-16T19:27:00.479Z"
   },
   {
    "duration": 102,
    "start_time": "2024-11-16T19:27:00.663Z"
   },
   {
    "duration": 504,
    "start_time": "2024-11-16T19:27:00.767Z"
   },
   {
    "duration": 577,
    "start_time": "2024-11-16T19:27:01.274Z"
   },
   {
    "duration": 40,
    "start_time": "2024-11-16T19:27:01.852Z"
   },
   {
    "duration": 142,
    "start_time": "2024-11-16T19:27:01.894Z"
   },
   {
    "duration": 254,
    "start_time": "2024-11-16T19:27:02.038Z"
   },
   {
    "duration": 6,
    "start_time": "2024-11-16T19:27:02.293Z"
   },
   {
    "duration": 71,
    "start_time": "2024-11-16T19:27:02.300Z"
   },
   {
    "duration": 1363,
    "start_time": "2024-11-16T19:27:02.373Z"
   },
   {
    "duration": 94,
    "start_time": "2024-11-16T19:27:03.738Z"
   },
   {
    "duration": 800,
    "start_time": "2024-11-16T19:27:03.834Z"
   },
   {
    "duration": 6129,
    "start_time": "2024-11-16T19:27:04.636Z"
   },
   {
    "duration": 42,
    "start_time": "2024-11-16T19:27:10.767Z"
   },
   {
    "duration": 883,
    "start_time": "2024-11-16T19:27:10.822Z"
   },
   {
    "duration": 63763,
    "start_time": "2024-11-16T19:27:11.707Z"
   },
   {
    "duration": 9682,
    "start_time": "2024-11-16T19:28:15.472Z"
   },
   {
    "duration": 4271,
    "start_time": "2024-11-16T19:33:06.851Z"
   },
   {
    "duration": 1047,
    "start_time": "2024-11-16T19:33:11.124Z"
   },
   {
    "duration": 16,
    "start_time": "2024-11-16T19:33:12.173Z"
   },
   {
    "duration": 197,
    "start_time": "2024-11-16T19:33:12.192Z"
   },
   {
    "duration": 6,
    "start_time": "2024-11-16T19:33:12.391Z"
   },
   {
    "duration": 114,
    "start_time": "2024-11-16T19:33:12.399Z"
   },
   {
    "duration": 165,
    "start_time": "2024-11-16T19:33:12.520Z"
   },
   {
    "duration": 101,
    "start_time": "2024-11-16T19:33:12.687Z"
   },
   {
    "duration": 515,
    "start_time": "2024-11-16T19:33:12.790Z"
   },
   {
    "duration": 621,
    "start_time": "2024-11-16T19:33:13.308Z"
   },
   {
    "duration": 38,
    "start_time": "2024-11-16T19:33:13.931Z"
   },
   {
    "duration": 119,
    "start_time": "2024-11-16T19:33:13.971Z"
   },
   {
    "duration": 130,
    "start_time": "2024-11-16T19:33:14.092Z"
   },
   {
    "duration": 6,
    "start_time": "2024-11-16T19:33:14.224Z"
   },
   {
    "duration": 6,
    "start_time": "2024-11-16T19:33:14.232Z"
   },
   {
    "duration": 1416,
    "start_time": "2024-11-16T19:33:14.240Z"
   },
   {
    "duration": 89,
    "start_time": "2024-11-16T19:33:15.657Z"
   },
   {
    "duration": 955,
    "start_time": "2024-11-16T19:33:15.749Z"
   },
   {
    "duration": 6244,
    "start_time": "2024-11-16T19:33:16.706Z"
   },
   {
    "duration": 41,
    "start_time": "2024-11-16T19:33:22.952Z"
   },
   {
    "duration": 884,
    "start_time": "2024-11-16T19:33:22.995Z"
   },
   {
    "duration": 64722,
    "start_time": "2024-11-16T19:33:23.881Z"
   },
   {
    "duration": 10317,
    "start_time": "2024-11-16T19:34:28.604Z"
   },
   {
    "duration": 149,
    "start_time": "2024-11-16T19:34:38.923Z"
   },
   {
    "duration": 0,
    "start_time": "2024-11-16T19:34:39.074Z"
   },
   {
    "duration": 0,
    "start_time": "2024-11-16T19:34:39.076Z"
   },
   {
    "duration": 4221,
    "start_time": "2024-11-16T19:41:53.302Z"
   },
   {
    "duration": 1049,
    "start_time": "2024-11-16T19:41:57.526Z"
   },
   {
    "duration": 23,
    "start_time": "2024-11-16T19:41:58.577Z"
   },
   {
    "duration": 236,
    "start_time": "2024-11-16T19:41:58.603Z"
   },
   {
    "duration": 4,
    "start_time": "2024-11-16T19:41:58.841Z"
   },
   {
    "duration": 131,
    "start_time": "2024-11-16T19:41:58.846Z"
   },
   {
    "duration": 167,
    "start_time": "2024-11-16T19:41:58.978Z"
   },
   {
    "duration": 108,
    "start_time": "2024-11-16T19:41:59.147Z"
   },
   {
    "duration": 575,
    "start_time": "2024-11-16T19:41:59.257Z"
   },
   {
    "duration": 596,
    "start_time": "2024-11-16T19:41:59.836Z"
   },
   {
    "duration": 38,
    "start_time": "2024-11-16T19:42:00.434Z"
   },
   {
    "duration": 159,
    "start_time": "2024-11-16T19:42:00.474Z"
   },
   {
    "duration": 91,
    "start_time": "2024-11-16T19:42:00.636Z"
   },
   {
    "duration": 8,
    "start_time": "2024-11-16T19:42:00.729Z"
   },
   {
    "duration": 15,
    "start_time": "2024-11-16T19:42:00.739Z"
   },
   {
    "duration": 1413,
    "start_time": "2024-11-16T19:42:00.756Z"
   },
   {
    "duration": 90,
    "start_time": "2024-11-16T19:42:02.172Z"
   },
   {
    "duration": 924,
    "start_time": "2024-11-16T19:42:02.264Z"
   },
   {
    "duration": 6113,
    "start_time": "2024-11-16T19:42:03.190Z"
   },
   {
    "duration": 37,
    "start_time": "2024-11-16T19:42:09.305Z"
   },
   {
    "duration": 860,
    "start_time": "2024-11-16T19:42:09.344Z"
   },
   {
    "duration": 63999,
    "start_time": "2024-11-16T19:42:10.206Z"
   },
   {
    "duration": 9598,
    "start_time": "2024-11-16T19:43:14.207Z"
   },
   {
    "duration": 4308,
    "start_time": "2024-11-16T19:47:58.530Z"
   },
   {
    "duration": 978,
    "start_time": "2024-11-16T19:48:02.841Z"
   },
   {
    "duration": 27,
    "start_time": "2024-11-16T19:48:03.821Z"
   },
   {
    "duration": 223,
    "start_time": "2024-11-16T19:48:03.851Z"
   },
   {
    "duration": 6,
    "start_time": "2024-11-16T19:48:04.076Z"
   },
   {
    "duration": 139,
    "start_time": "2024-11-16T19:48:04.084Z"
   },
   {
    "duration": 176,
    "start_time": "2024-11-16T19:48:04.225Z"
   },
   {
    "duration": 91,
    "start_time": "2024-11-16T19:48:04.402Z"
   },
   {
    "duration": 498,
    "start_time": "2024-11-16T19:48:04.495Z"
   },
   {
    "duration": 579,
    "start_time": "2024-11-16T19:48:04.997Z"
   },
   {
    "duration": 51,
    "start_time": "2024-11-16T19:48:05.578Z"
   },
   {
    "duration": 120,
    "start_time": "2024-11-16T19:48:05.631Z"
   },
   {
    "duration": 119,
    "start_time": "2024-11-16T19:48:05.754Z"
   },
   {
    "duration": 7,
    "start_time": "2024-11-16T19:48:05.875Z"
   },
   {
    "duration": 37,
    "start_time": "2024-11-16T19:48:05.883Z"
   },
   {
    "duration": 1328,
    "start_time": "2024-11-16T19:48:05.922Z"
   },
   {
    "duration": 91,
    "start_time": "2024-11-16T19:48:07.252Z"
   },
   {
    "duration": 819,
    "start_time": "2024-11-16T19:48:07.345Z"
   },
   {
    "duration": 5983,
    "start_time": "2024-11-16T19:48:08.166Z"
   },
   {
    "duration": 42,
    "start_time": "2024-11-16T19:48:14.151Z"
   },
   {
    "duration": 902,
    "start_time": "2024-11-16T19:48:14.195Z"
   },
   {
    "duration": 62982,
    "start_time": "2024-11-16T19:48:15.100Z"
   },
   {
    "duration": 9564,
    "start_time": "2024-11-16T19:49:18.084Z"
   },
   {
    "duration": 4330,
    "start_time": "2024-11-16T19:54:28.960Z"
   },
   {
    "duration": 1012,
    "start_time": "2024-11-16T19:54:33.292Z"
   },
   {
    "duration": 23,
    "start_time": "2024-11-16T19:54:34.306Z"
   },
   {
    "duration": 175,
    "start_time": "2024-11-16T19:54:34.331Z"
   },
   {
    "duration": 4,
    "start_time": "2024-11-16T19:54:34.508Z"
   },
   {
    "duration": 116,
    "start_time": "2024-11-16T19:54:34.521Z"
   },
   {
    "duration": 176,
    "start_time": "2024-11-16T19:54:34.639Z"
   },
   {
    "duration": 105,
    "start_time": "2024-11-16T19:54:34.820Z"
   },
   {
    "duration": 557,
    "start_time": "2024-11-16T19:54:34.927Z"
   },
   {
    "duration": 601,
    "start_time": "2024-11-16T19:54:35.488Z"
   },
   {
    "duration": 40,
    "start_time": "2024-11-16T19:54:36.091Z"
   },
   {
    "duration": 114,
    "start_time": "2024-11-16T19:54:36.133Z"
   },
   {
    "duration": 147,
    "start_time": "2024-11-16T19:54:36.249Z"
   },
   {
    "duration": 6,
    "start_time": "2024-11-16T19:54:36.398Z"
   },
   {
    "duration": 28,
    "start_time": "2024-11-16T19:54:36.406Z"
   },
   {
    "duration": 4995,
    "start_time": "2024-11-16T19:54:50.297Z"
   },
   {
    "duration": 982,
    "start_time": "2024-11-16T19:54:55.294Z"
   },
   {
    "duration": 17,
    "start_time": "2024-11-16T19:54:56.278Z"
   },
   {
    "duration": 242,
    "start_time": "2024-11-16T19:54:56.299Z"
   },
   {
    "duration": 5,
    "start_time": "2024-11-16T19:54:56.543Z"
   },
   {
    "duration": 114,
    "start_time": "2024-11-16T19:54:56.549Z"
   },
   {
    "duration": 165,
    "start_time": "2024-11-16T19:54:56.665Z"
   },
   {
    "duration": 103,
    "start_time": "2024-11-16T19:54:56.832Z"
   },
   {
    "duration": 510,
    "start_time": "2024-11-16T19:54:56.937Z"
   },
   {
    "duration": 582,
    "start_time": "2024-11-16T19:54:57.450Z"
   },
   {
    "duration": 34,
    "start_time": "2024-11-16T19:54:58.034Z"
   },
   {
    "duration": 111,
    "start_time": "2024-11-16T19:54:58.069Z"
   },
   {
    "duration": 95,
    "start_time": "2024-11-16T19:54:58.182Z"
   },
   {
    "duration": 35,
    "start_time": "2024-11-16T19:54:58.279Z"
   },
   {
    "duration": 14,
    "start_time": "2024-11-16T19:54:58.316Z"
   },
   {
    "duration": 1321,
    "start_time": "2024-11-16T19:54:58.332Z"
   },
   {
    "duration": 82,
    "start_time": "2024-11-16T19:54:59.655Z"
   },
   {
    "duration": 827,
    "start_time": "2024-11-16T19:54:59.738Z"
   },
   {
    "duration": 6193,
    "start_time": "2024-11-16T19:55:00.567Z"
   },
   {
    "duration": 34,
    "start_time": "2024-11-16T19:55:06.762Z"
   },
   {
    "duration": 877,
    "start_time": "2024-11-16T19:55:06.798Z"
   },
   {
    "duration": 64517,
    "start_time": "2024-11-16T19:55:07.677Z"
   },
   {
    "duration": 9562,
    "start_time": "2024-11-16T19:56:12.195Z"
   },
   {
    "duration": 1195462,
    "start_time": "2024-11-16T19:56:21.759Z"
   },
   {
    "duration": 9,
    "start_time": "2024-11-16T20:16:17.223Z"
   },
   {
    "duration": 388,
    "start_time": "2024-11-16T20:16:17.234Z"
   },
   {
    "duration": 51178,
    "start_time": "2024-11-16T20:56:34.251Z"
   },
   {
    "duration": 10,
    "start_time": "2024-11-16T21:13:02.797Z"
   },
   {
    "duration": 5482,
    "start_time": "2024-11-17T13:52:32.828Z"
   },
   {
    "duration": 3157,
    "start_time": "2024-11-17T13:52:38.312Z"
   },
   {
    "duration": 14,
    "start_time": "2024-11-17T13:52:41.471Z"
   },
   {
    "duration": 205,
    "start_time": "2024-11-17T13:52:41.487Z"
   },
   {
    "duration": 4,
    "start_time": "2024-11-17T13:52:41.694Z"
   },
   {
    "duration": 153,
    "start_time": "2024-11-17T13:52:41.700Z"
   },
   {
    "duration": 204,
    "start_time": "2024-11-17T13:52:41.857Z"
   },
   {
    "duration": 96,
    "start_time": "2024-11-17T13:52:42.063Z"
   },
   {
    "duration": 492,
    "start_time": "2024-11-17T13:52:42.161Z"
   },
   {
    "duration": 507,
    "start_time": "2024-11-17T13:52:42.659Z"
   },
   {
    "duration": 36,
    "start_time": "2024-11-17T13:52:43.168Z"
   },
   {
    "duration": 116,
    "start_time": "2024-11-17T13:52:43.206Z"
   },
   {
    "duration": 83,
    "start_time": "2024-11-17T13:52:43.324Z"
   },
   {
    "duration": 1270,
    "start_time": "2024-11-17T13:52:43.410Z"
   },
   {
    "duration": 101,
    "start_time": "2024-11-17T13:52:44.683Z"
   },
   {
    "duration": 841,
    "start_time": "2024-11-17T13:52:44.786Z"
   },
   {
    "duration": 6390,
    "start_time": "2024-11-17T13:52:45.629Z"
   },
   {
    "duration": 42,
    "start_time": "2024-11-17T13:52:52.021Z"
   },
   {
    "duration": 926,
    "start_time": "2024-11-17T13:52:52.064Z"
   },
   {
    "duration": 66067,
    "start_time": "2024-11-17T13:52:52.991Z"
   },
   {
    "duration": 9496,
    "start_time": "2024-11-17T13:53:59.061Z"
   },
   {
    "duration": 4031,
    "start_time": "2024-11-17T14:32:56.555Z"
   },
   {
    "duration": 988,
    "start_time": "2024-11-17T14:33:00.588Z"
   },
   {
    "duration": 16,
    "start_time": "2024-11-17T14:33:01.578Z"
   },
   {
    "duration": 213,
    "start_time": "2024-11-17T14:33:01.596Z"
   },
   {
    "duration": 4,
    "start_time": "2024-11-17T14:33:01.811Z"
   },
   {
    "duration": 131,
    "start_time": "2024-11-17T14:33:01.817Z"
   },
   {
    "duration": 158,
    "start_time": "2024-11-17T14:33:01.949Z"
   },
   {
    "duration": 108,
    "start_time": "2024-11-17T14:33:02.109Z"
   },
   {
    "duration": 483,
    "start_time": "2024-11-17T14:33:02.219Z"
   },
   {
    "duration": 597,
    "start_time": "2024-11-17T14:33:02.705Z"
   },
   {
    "duration": 43,
    "start_time": "2024-11-17T14:33:03.304Z"
   },
   {
    "duration": 112,
    "start_time": "2024-11-17T14:33:03.349Z"
   },
   {
    "duration": 108,
    "start_time": "2024-11-17T14:33:03.463Z"
   },
   {
    "duration": 1374,
    "start_time": "2024-11-17T14:33:03.572Z"
   },
   {
    "duration": 86,
    "start_time": "2024-11-17T14:33:04.948Z"
   },
   {
    "duration": 777,
    "start_time": "2024-11-17T14:33:05.042Z"
   },
   {
    "duration": 5954,
    "start_time": "2024-11-17T14:33:05.821Z"
   },
   {
    "duration": 29,
    "start_time": "2024-11-17T14:33:11.777Z"
   },
   {
    "duration": 766,
    "start_time": "2024-11-17T14:33:11.808Z"
   },
   {
    "duration": 59833,
    "start_time": "2024-11-17T14:33:12.575Z"
   },
   {
    "duration": 9275,
    "start_time": "2024-11-17T14:34:12.409Z"
   },
   {
    "duration": 4156,
    "start_time": "2024-11-17T14:55:45.590Z"
   },
   {
    "duration": 992,
    "start_time": "2024-11-17T14:55:49.749Z"
   },
   {
    "duration": 16,
    "start_time": "2024-11-17T14:55:50.743Z"
   },
   {
    "duration": 167,
    "start_time": "2024-11-17T14:55:50.761Z"
   },
   {
    "duration": 13,
    "start_time": "2024-11-17T14:55:50.930Z"
   },
   {
    "duration": 171,
    "start_time": "2024-11-17T14:55:50.944Z"
   },
   {
    "duration": 149,
    "start_time": "2024-11-17T14:55:51.116Z"
   },
   {
    "duration": 98,
    "start_time": "2024-11-17T14:55:51.266Z"
   },
   {
    "duration": 497,
    "start_time": "2024-11-17T14:55:51.366Z"
   },
   {
    "duration": 525,
    "start_time": "2024-11-17T14:55:51.865Z"
   },
   {
    "duration": 38,
    "start_time": "2024-11-17T14:55:52.392Z"
   },
   {
    "duration": 111,
    "start_time": "2024-11-17T14:55:52.432Z"
   },
   {
    "duration": 57,
    "start_time": "2024-11-17T14:55:52.545Z"
   },
   {
    "duration": 1248,
    "start_time": "2024-11-17T14:55:52.605Z"
   },
   {
    "duration": 76,
    "start_time": "2024-11-17T14:55:53.855Z"
   },
   {
    "duration": 743,
    "start_time": "2024-11-17T14:55:53.933Z"
   },
   {
    "duration": 5765,
    "start_time": "2024-11-17T14:55:54.678Z"
   },
   {
    "duration": 31,
    "start_time": "2024-11-17T14:56:00.445Z"
   },
   {
    "duration": 839,
    "start_time": "2024-11-17T14:56:00.478Z"
   },
   {
    "duration": 60848,
    "start_time": "2024-11-17T14:56:01.319Z"
   },
   {
    "duration": 9137,
    "start_time": "2024-11-17T14:57:02.169Z"
   },
   {
    "duration": 5174,
    "start_time": "2024-11-17T17:20:24.027Z"
   },
   {
    "duration": 2975,
    "start_time": "2024-11-17T17:20:29.204Z"
   },
   {
    "duration": 15,
    "start_time": "2024-11-17T17:20:32.181Z"
   },
   {
    "duration": 186,
    "start_time": "2024-11-17T17:20:32.198Z"
   },
   {
    "duration": 5,
    "start_time": "2024-11-17T17:20:32.386Z"
   },
   {
    "duration": 120,
    "start_time": "2024-11-17T17:20:32.392Z"
   },
   {
    "duration": 163,
    "start_time": "2024-11-17T17:20:32.517Z"
   },
   {
    "duration": 105,
    "start_time": "2024-11-17T17:20:32.681Z"
   },
   {
    "duration": 493,
    "start_time": "2024-11-17T17:20:32.787Z"
   },
   {
    "duration": 544,
    "start_time": "2024-11-17T17:20:33.281Z"
   },
   {
    "duration": 38,
    "start_time": "2024-11-17T17:20:33.826Z"
   },
   {
    "duration": 144,
    "start_time": "2024-11-17T17:20:33.865Z"
   },
   {
    "duration": 88,
    "start_time": "2024-11-17T17:20:34.011Z"
   },
   {
    "duration": 1241,
    "start_time": "2024-11-17T17:20:34.102Z"
   },
   {
    "duration": 88,
    "start_time": "2024-11-17T17:20:35.345Z"
   },
   {
    "duration": 746,
    "start_time": "2024-11-17T17:20:35.435Z"
   },
   {
    "duration": 5864,
    "start_time": "2024-11-17T17:20:36.183Z"
   },
   {
    "duration": 30,
    "start_time": "2024-11-17T17:20:42.049Z"
   },
   {
    "duration": 818,
    "start_time": "2024-11-17T17:20:42.081Z"
   },
   {
    "duration": 60150,
    "start_time": "2024-11-17T17:20:42.901Z"
   },
   {
    "duration": 9050,
    "start_time": "2024-11-17T17:21:43.053Z"
   },
   {
    "duration": 56146,
    "start_time": "2024-11-17T17:21:52.104Z"
   },
   {
    "duration": 73,
    "start_time": "2024-11-17T17:22:48.252Z"
   },
   {
    "duration": 614,
    "start_time": "2024-11-17T17:22:48.327Z"
   },
   {
    "duration": 9,
    "start_time": "2024-11-17T17:23:50.415Z"
   }
  ],
  "kernelspec": {
   "display_name": "Python 3 (ipykernel)",
   "language": "python",
   "name": "python3"
  },
  "language_info": {
   "codemirror_mode": {
    "name": "ipython",
    "version": 3
   },
   "file_extension": ".py",
   "mimetype": "text/x-python",
   "name": "python",
   "nbconvert_exporter": "python",
   "pygments_lexer": "ipython3",
   "version": "3.11.7"
  },
  "toc": {
   "base_numbering": 1,
   "nav_menu": {},
   "number_sections": true,
   "sideBar": true,
   "skip_h1_title": true,
   "title_cell": "Table of Contents",
   "title_sidebar": "Contents",
   "toc_cell": false,
   "toc_position": {
    "height": "calc(100% - 180px)",
    "left": "10px",
    "top": "150px",
    "width": "165px"
   },
   "toc_section_display": true,
   "toc_window_display": false
  }
 },
 "nbformat": 4,
 "nbformat_minor": 4
}
