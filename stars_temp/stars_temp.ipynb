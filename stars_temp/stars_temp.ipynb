{
 "cells": [
  {
   "cell_type": "markdown",
   "id": "21c5de3b",
   "metadata": {},
   "source": [
    "# Проект: Прогнозирование температуры звезд\n",
    "\n",
    "\n",
    "**Цель проекта:**\n",
    "Обсерватория «Небо на ладони» поставила задачу разработать нейронную сеть для прогнозирования температуры на поверхности звезд.\n",
    "\n",
    "___\n",
    "\n",
    "**Описание данных:**\n",
    "\n",
    "Колонки:\n",
    "\n",
    "- ``Temperature (K)`` — температура на поверхности звезды в Кельвинах (целевой признак)\n",
    "- ``Luminosity(L/Lo)`` — светимость звезды относительно Солнца\n",
    "- ``Radius(R/Ro)`` — радиус звезды относительно радиуса Солнца\n",
    "- ``Absolute magnitude(Mv)`` — физическая величина, характеризующая блеск звезды\n",
    "- ``Star type`` — тип звезды:\n",
    "  - 0 — Коричневый карлик\n",
    "  - 1 — Красный карлик\n",
    "  - 2 — Белый карлик\n",
    "  - 3 — Звезды главной последовательности\n",
    "  - 4 — Сверхгигант\n",
    "  - 5 — Гипергигант\n",
    "``Star color`` — цвет звезды.\n",
    "\n",
    "___\n",
    "\n",
    "**Алгоритм решения задачи:**\n",
    "\n",
    "- Загрузка данных\n",
    "- Исследовательский анализ данных.\n",
    "- Анализ количественных признаков.\n",
    "- Анализ категориальных признаков.\n",
    "- Подготовка данных.\n",
    "- Разделение на обучающую и тестовую выборки.\n",
    "- Построение базовой модели.\n",
    "- Анализ показатель базовой модели на основе графика и значений MRSE\n",
    "- Улучшение модели путем перебора и добавления новых параметров\n",
    "- Довести показатели MRSE до отметки **4500 и меньше**\n",
    "- Сделать выводы"
   ]
  },
  {
   "cell_type": "markdown",
   "id": "corresponding-armstrong",
   "metadata": {
    "ExecuteTime": {
     "end_time": "2022-05-05T04:58:05.692448Z",
     "start_time": "2022-05-05T04:58:05.688565Z"
    }
   },
   "source": [
    "## Загрузка данных"
   ]
  },
  {
   "cell_type": "code",
   "execution_count": 1,
   "id": "spectacular-folder",
   "metadata": {},
   "outputs": [
    {
     "name": "stdout",
     "output_type": "stream",
     "text": [
      "Requirement already satisfied: scikit-learn==1.1.3 in /opt/conda/lib/python3.9/site-packages (1.1.3)\n",
      "Requirement already satisfied: joblib>=1.0.0 in /opt/conda/lib/python3.9/site-packages (from scikit-learn==1.1.3) (1.4.2)\n",
      "Requirement already satisfied: numpy>=1.17.3 in /opt/conda/lib/python3.9/site-packages (from scikit-learn==1.1.3) (1.21.1)\n",
      "Requirement already satisfied: scipy>=1.3.2 in /opt/conda/lib/python3.9/site-packages (from scikit-learn==1.1.3) (1.9.1)\n",
      "Requirement already satisfied: threadpoolctl>=2.0.0 in /opt/conda/lib/python3.9/site-packages (from scikit-learn==1.1.3) (3.1.0)\n",
      "Requirement already satisfied: phik in /opt/conda/lib/python3.9/site-packages (0.12.4)\n",
      "Requirement already satisfied: matplotlib>=2.2.3 in /opt/conda/lib/python3.9/site-packages (from phik) (3.3.4)\n",
      "Requirement already satisfied: pandas>=0.25.1 in /opt/conda/lib/python3.9/site-packages (from phik) (1.2.4)\n",
      "Requirement already satisfied: scipy>=1.5.2 in /opt/conda/lib/python3.9/site-packages (from phik) (1.9.1)\n",
      "Requirement already satisfied: numpy>=1.18.0 in /opt/conda/lib/python3.9/site-packages (from phik) (1.21.1)\n",
      "Requirement already satisfied: joblib>=0.14.1 in /opt/conda/lib/python3.9/site-packages (from phik) (1.4.2)\n",
      "Requirement already satisfied: pyparsing!=2.0.4,!=2.1.2,!=2.1.6,>=2.0.3 in /opt/conda/lib/python3.9/site-packages (from matplotlib>=2.2.3->phik) (2.4.7)\n",
      "Requirement already satisfied: python-dateutil>=2.1 in /opt/conda/lib/python3.9/site-packages (from matplotlib>=2.2.3->phik) (2.8.1)\n",
      "Requirement already satisfied: kiwisolver>=1.0.1 in /opt/conda/lib/python3.9/site-packages (from matplotlib>=2.2.3->phik) (1.4.4)\n",
      "Requirement already satisfied: cycler>=0.10 in /opt/conda/lib/python3.9/site-packages (from matplotlib>=2.2.3->phik) (0.11.0)\n",
      "Requirement already satisfied: pillow>=6.2.0 in /opt/conda/lib/python3.9/site-packages (from matplotlib>=2.2.3->phik) (8.4.0)\n",
      "Requirement already satisfied: pytz>=2017.3 in /opt/conda/lib/python3.9/site-packages (from pandas>=0.25.1->phik) (2021.1)\n",
      "Requirement already satisfied: six>=1.5 in /opt/conda/lib/python3.9/site-packages (from python-dateutil>=2.1->matplotlib>=2.2.3->phik) (1.16.0)\n"
     ]
    }
   ],
   "source": [
    "!pip install scikit-learn==1.1.3\n",
    "!pip install phik\n",
    "import pandas as pd\n",
    "import matplotlib.pyplot as plt\n",
    "import seaborn as sns\n",
    "import numpy as np\n",
    "\n",
    "from phik import phik_matrix\n",
    "from phik.report import plot_correlation_matrix\n",
    "from sklearn.metrics import mean_squared_error\n",
    "from sklearn.compose import ColumnTransformer\n",
    "from sklearn.pipeline import Pipeline\n",
    "from sklearn.preprocessing import StandardScaler, OneHotEncoder\n",
    "from sklearn.model_selection import train_test_split\n",
    "\n",
    "import torch\n",
    "import torch.nn as nn\n",
    "import torch.optim as optim\n",
    "\n",
    "SEED = 42 \n",
    "torch.manual_seed(SEED)\n",
    "torch.cuda.manual_seed(SEED)\n",
    "np.random.seed(SEED)"
   ]
  },
  {
   "cell_type": "code",
   "execution_count": 2,
   "id": "bfe7966e",
   "metadata": {},
   "outputs": [
    {
     "data": {
      "text/html": [
       "<div>\n",
       "<style scoped>\n",
       "    .dataframe tbody tr th:only-of-type {\n",
       "        vertical-align: middle;\n",
       "    }\n",
       "\n",
       "    .dataframe tbody tr th {\n",
       "        vertical-align: top;\n",
       "    }\n",
       "\n",
       "    .dataframe thead th {\n",
       "        text-align: right;\n",
       "    }\n",
       "</style>\n",
       "<table border=\"1\" class=\"dataframe\">\n",
       "  <thead>\n",
       "    <tr style=\"text-align: right;\">\n",
       "      <th></th>\n",
       "      <th>Unnamed: 0</th>\n",
       "      <th>Temperature (K)</th>\n",
       "      <th>Luminosity(L/Lo)</th>\n",
       "      <th>Radius(R/Ro)</th>\n",
       "      <th>Absolute magnitude(Mv)</th>\n",
       "      <th>Star type</th>\n",
       "      <th>Star color</th>\n",
       "    </tr>\n",
       "  </thead>\n",
       "  <tbody>\n",
       "    <tr>\n",
       "      <th>0</th>\n",
       "      <td>0</td>\n",
       "      <td>3068</td>\n",
       "      <td>0.002400</td>\n",
       "      <td>0.1700</td>\n",
       "      <td>16.12</td>\n",
       "      <td>0</td>\n",
       "      <td>Red</td>\n",
       "    </tr>\n",
       "    <tr>\n",
       "      <th>1</th>\n",
       "      <td>1</td>\n",
       "      <td>3042</td>\n",
       "      <td>0.000500</td>\n",
       "      <td>0.1542</td>\n",
       "      <td>16.60</td>\n",
       "      <td>0</td>\n",
       "      <td>Red</td>\n",
       "    </tr>\n",
       "    <tr>\n",
       "      <th>2</th>\n",
       "      <td>2</td>\n",
       "      <td>2600</td>\n",
       "      <td>0.000300</td>\n",
       "      <td>0.1020</td>\n",
       "      <td>18.70</td>\n",
       "      <td>0</td>\n",
       "      <td>Red</td>\n",
       "    </tr>\n",
       "    <tr>\n",
       "      <th>3</th>\n",
       "      <td>3</td>\n",
       "      <td>2800</td>\n",
       "      <td>0.000200</td>\n",
       "      <td>0.1600</td>\n",
       "      <td>16.65</td>\n",
       "      <td>0</td>\n",
       "      <td>Red</td>\n",
       "    </tr>\n",
       "    <tr>\n",
       "      <th>4</th>\n",
       "      <td>4</td>\n",
       "      <td>1939</td>\n",
       "      <td>0.000138</td>\n",
       "      <td>0.1030</td>\n",
       "      <td>20.06</td>\n",
       "      <td>0</td>\n",
       "      <td>Red</td>\n",
       "    </tr>\n",
       "    <tr>\n",
       "      <th>...</th>\n",
       "      <td>...</td>\n",
       "      <td>...</td>\n",
       "      <td>...</td>\n",
       "      <td>...</td>\n",
       "      <td>...</td>\n",
       "      <td>...</td>\n",
       "      <td>...</td>\n",
       "    </tr>\n",
       "    <tr>\n",
       "      <th>235</th>\n",
       "      <td>235</td>\n",
       "      <td>38940</td>\n",
       "      <td>374830.000000</td>\n",
       "      <td>1356.0000</td>\n",
       "      <td>-9.93</td>\n",
       "      <td>5</td>\n",
       "      <td>Blue</td>\n",
       "    </tr>\n",
       "    <tr>\n",
       "      <th>236</th>\n",
       "      <td>236</td>\n",
       "      <td>30839</td>\n",
       "      <td>834042.000000</td>\n",
       "      <td>1194.0000</td>\n",
       "      <td>-10.63</td>\n",
       "      <td>5</td>\n",
       "      <td>Blue</td>\n",
       "    </tr>\n",
       "    <tr>\n",
       "      <th>237</th>\n",
       "      <td>237</td>\n",
       "      <td>8829</td>\n",
       "      <td>537493.000000</td>\n",
       "      <td>1423.0000</td>\n",
       "      <td>-10.73</td>\n",
       "      <td>5</td>\n",
       "      <td>White</td>\n",
       "    </tr>\n",
       "    <tr>\n",
       "      <th>238</th>\n",
       "      <td>238</td>\n",
       "      <td>9235</td>\n",
       "      <td>404940.000000</td>\n",
       "      <td>1112.0000</td>\n",
       "      <td>-11.23</td>\n",
       "      <td>5</td>\n",
       "      <td>White</td>\n",
       "    </tr>\n",
       "    <tr>\n",
       "      <th>239</th>\n",
       "      <td>239</td>\n",
       "      <td>37882</td>\n",
       "      <td>294903.000000</td>\n",
       "      <td>1783.0000</td>\n",
       "      <td>-7.80</td>\n",
       "      <td>5</td>\n",
       "      <td>Blue</td>\n",
       "    </tr>\n",
       "  </tbody>\n",
       "</table>\n",
       "<p>240 rows × 7 columns</p>\n",
       "</div>"
      ],
      "text/plain": [
       "     Unnamed: 0  Temperature (K)  Luminosity(L/Lo)  Radius(R/Ro)  \\\n",
       "0             0             3068          0.002400        0.1700   \n",
       "1             1             3042          0.000500        0.1542   \n",
       "2             2             2600          0.000300        0.1020   \n",
       "3             3             2800          0.000200        0.1600   \n",
       "4             4             1939          0.000138        0.1030   \n",
       "..          ...              ...               ...           ...   \n",
       "235         235            38940     374830.000000     1356.0000   \n",
       "236         236            30839     834042.000000     1194.0000   \n",
       "237         237             8829     537493.000000     1423.0000   \n",
       "238         238             9235     404940.000000     1112.0000   \n",
       "239         239            37882     294903.000000     1783.0000   \n",
       "\n",
       "     Absolute magnitude(Mv)  Star type Star color  \n",
       "0                     16.12          0        Red  \n",
       "1                     16.60          0        Red  \n",
       "2                     18.70          0        Red  \n",
       "3                     16.65          0        Red  \n",
       "4                     20.06          0        Red  \n",
       "..                      ...        ...        ...  \n",
       "235                   -9.93          5       Blue  \n",
       "236                  -10.63          5       Blue  \n",
       "237                  -10.73          5      White  \n",
       "238                  -11.23          5      White  \n",
       "239                   -7.80          5       Blue  \n",
       "\n",
       "[240 rows x 7 columns]"
      ]
     },
     "execution_count": 2,
     "metadata": {},
     "output_type": "execute_result"
    }
   ],
   "source": [
    "df = pd.read_csv('/datasets/6_class.csv')\n",
    "df"
   ]
  },
  {
   "cell_type": "code",
   "execution_count": 3,
   "id": "0970ee48",
   "metadata": {},
   "outputs": [
    {
     "name": "stdout",
     "output_type": "stream",
     "text": [
      "Размеры: 240 строк и 7 столбцов\n",
      "\n",
      "Типы данных:\n",
      "Unnamed: 0                  int64\n",
      "Temperature (K)             int64\n",
      "Luminosity(L/Lo)          float64\n",
      "Radius(R/Ro)              float64\n",
      "Absolute magnitude(Mv)    float64\n",
      "Star type                   int64\n",
      "Star color                 object\n",
      "dtype: object\n",
      "\n",
      "Количество дубликатов: 0\n",
      "\n",
      "Пропуски:\n",
      "Unnamed: 0                0\n",
      "Temperature (K)           0\n",
      "Luminosity(L/Lo)          0\n",
      "Radius(R/Ro)              0\n",
      "Absolute magnitude(Mv)    0\n",
      "Star type                 0\n",
      "Star color                0\n",
      "dtype: int64\n",
      "\n",
      "Статистики количественных показателей:\n"
     ]
    },
    {
     "data": {
      "text/html": [
       "<div>\n",
       "<style scoped>\n",
       "    .dataframe tbody tr th:only-of-type {\n",
       "        vertical-align: middle;\n",
       "    }\n",
       "\n",
       "    .dataframe tbody tr th {\n",
       "        vertical-align: top;\n",
       "    }\n",
       "\n",
       "    .dataframe thead th {\n",
       "        text-align: right;\n",
       "    }\n",
       "</style>\n",
       "<table border=\"1\" class=\"dataframe\">\n",
       "  <thead>\n",
       "    <tr style=\"text-align: right;\">\n",
       "      <th></th>\n",
       "      <th>Unnamed: 0</th>\n",
       "      <th>Temperature (K)</th>\n",
       "      <th>Luminosity(L/Lo)</th>\n",
       "      <th>Radius(R/Ro)</th>\n",
       "      <th>Absolute magnitude(Mv)</th>\n",
       "      <th>Star type</th>\n",
       "    </tr>\n",
       "  </thead>\n",
       "  <tbody>\n",
       "    <tr>\n",
       "      <th>count</th>\n",
       "      <td>240.00000</td>\n",
       "      <td>240.000000</td>\n",
       "      <td>240.000000</td>\n",
       "      <td>240.000000</td>\n",
       "      <td>240.000000</td>\n",
       "      <td>240.000000</td>\n",
       "    </tr>\n",
       "    <tr>\n",
       "      <th>mean</th>\n",
       "      <td>119.50000</td>\n",
       "      <td>10497.462500</td>\n",
       "      <td>107188.361635</td>\n",
       "      <td>237.157781</td>\n",
       "      <td>4.382396</td>\n",
       "      <td>2.500000</td>\n",
       "    </tr>\n",
       "    <tr>\n",
       "      <th>std</th>\n",
       "      <td>69.42622</td>\n",
       "      <td>9552.425037</td>\n",
       "      <td>179432.244940</td>\n",
       "      <td>517.155763</td>\n",
       "      <td>10.532512</td>\n",
       "      <td>1.711394</td>\n",
       "    </tr>\n",
       "    <tr>\n",
       "      <th>min</th>\n",
       "      <td>0.00000</td>\n",
       "      <td>1939.000000</td>\n",
       "      <td>0.000080</td>\n",
       "      <td>0.008400</td>\n",
       "      <td>-11.920000</td>\n",
       "      <td>0.000000</td>\n",
       "    </tr>\n",
       "    <tr>\n",
       "      <th>25%</th>\n",
       "      <td>59.75000</td>\n",
       "      <td>3344.250000</td>\n",
       "      <td>0.000865</td>\n",
       "      <td>0.102750</td>\n",
       "      <td>-6.232500</td>\n",
       "      <td>1.000000</td>\n",
       "    </tr>\n",
       "    <tr>\n",
       "      <th>50%</th>\n",
       "      <td>119.50000</td>\n",
       "      <td>5776.000000</td>\n",
       "      <td>0.070500</td>\n",
       "      <td>0.762500</td>\n",
       "      <td>8.313000</td>\n",
       "      <td>2.500000</td>\n",
       "    </tr>\n",
       "    <tr>\n",
       "      <th>75%</th>\n",
       "      <td>179.25000</td>\n",
       "      <td>15055.500000</td>\n",
       "      <td>198050.000000</td>\n",
       "      <td>42.750000</td>\n",
       "      <td>13.697500</td>\n",
       "      <td>4.000000</td>\n",
       "    </tr>\n",
       "    <tr>\n",
       "      <th>max</th>\n",
       "      <td>239.00000</td>\n",
       "      <td>40000.000000</td>\n",
       "      <td>849420.000000</td>\n",
       "      <td>1948.500000</td>\n",
       "      <td>20.060000</td>\n",
       "      <td>5.000000</td>\n",
       "    </tr>\n",
       "  </tbody>\n",
       "</table>\n",
       "</div>"
      ],
      "text/plain": [
       "       Unnamed: 0  Temperature (K)  Luminosity(L/Lo)  Radius(R/Ro)  \\\n",
       "count   240.00000       240.000000        240.000000    240.000000   \n",
       "mean    119.50000     10497.462500     107188.361635    237.157781   \n",
       "std      69.42622      9552.425037     179432.244940    517.155763   \n",
       "min       0.00000      1939.000000          0.000080      0.008400   \n",
       "25%      59.75000      3344.250000          0.000865      0.102750   \n",
       "50%     119.50000      5776.000000          0.070500      0.762500   \n",
       "75%     179.25000     15055.500000     198050.000000     42.750000   \n",
       "max     239.00000     40000.000000     849420.000000   1948.500000   \n",
       "\n",
       "       Absolute magnitude(Mv)   Star type  \n",
       "count              240.000000  240.000000  \n",
       "mean                 4.382396    2.500000  \n",
       "std                 10.532512    1.711394  \n",
       "min                -11.920000    0.000000  \n",
       "25%                 -6.232500    1.000000  \n",
       "50%                  8.313000    2.500000  \n",
       "75%                 13.697500    4.000000  \n",
       "max                 20.060000    5.000000  "
      ]
     },
     "metadata": {},
     "output_type": "display_data"
    }
   ],
   "source": [
    "def explore_df(df):\n",
    "    print(f\"Размеры: {df.shape[0]} строк и {df.shape[1]} столбцов\")\n",
    "    print()\n",
    "    print(\"Типы данных:\")\n",
    "    print(df.dtypes)\n",
    "    print()\n",
    "    print(f\"Количество дубликатов: {df.duplicated().sum()}\")\n",
    "    print()\n",
    "    print(\"Пропуски:\")\n",
    "    print(df.isna().sum())\n",
    "    print()\n",
    "    print(\"Статистики количественных показателей:\")\n",
    "    display(df.describe())\n",
    "\n",
    "explore_df(df)"
   ]
  },
  {
   "cell_type": "markdown",
   "id": "93c4bf48",
   "metadata": {},
   "source": [
    "Выводы:\n",
    "\n",
    "- В датасете 240 строк и 7 столбцов.\n",
    "- Типы данных корректные\n",
    "- Пропуски и дубликаты в данных отсутствуют.\n",
    "- Названия колонок содержат пробелы и специальные символы.\n",
    "- Значения в столбце Luminosity(L/Lo) имеют сильный разброс\n",
    "- В столбце Radius(R/Ro) также значительный разброс\n",
    "- Столбец Temperature (K) варьируется от 1939 до 40000 - целевой признак, надо смотреть на графике\n",
    "\n",
    "Следующие шаги:\n",
    "\n",
    "- Привести названия столбцов к формату snake_case для улучшения читаемости.\n",
    "- Удаление ``Unnamed: 0`` - столбец не несет смысловой нагрузки, является индексом\n",
    "- Построить графики распределения количественных признаков"
   ]
  },
  {
   "cell_type": "markdown",
   "id": "1f049f34",
   "metadata": {},
   "source": [
    "## Предобработка и анализ данных"
   ]
  },
  {
   "cell_type": "code",
   "execution_count": 4,
   "id": "2f445881",
   "metadata": {},
   "outputs": [],
   "source": [
    "df.drop(columns=['Unnamed: 0'], inplace=True)"
   ]
  },
  {
   "cell_type": "code",
   "execution_count": 5,
   "id": "be79e727",
   "metadata": {},
   "outputs": [
    {
     "name": "stdout",
     "output_type": "stream",
     "text": [
      "Index(['temperature_k', 'luminosity_lo', 'radius_ro', 'absolute_magnitude_mv',\n",
      "       'star_type', 'star_color'],\n",
      "      dtype='object')\n"
     ]
    }
   ],
   "source": [
    "df.rename(columns={\n",
    "    'Temperature (K)': 'temperature_k',\n",
    "    'Luminosity(L/Lo)': 'luminosity_lo',\n",
    "    'Radius(R/Ro)': 'radius_ro',\n",
    "    'Absolute magnitude(Mv)': 'absolute_magnitude_mv',\n",
    "    'Star type': 'star_type',\n",
    "    'Star color': 'star_color'\n",
    "}, inplace=True)\n",
    "\n",
    "print(df.columns)"
   ]
  },
  {
   "cell_type": "code",
   "execution_count": 6,
   "id": "20eda83e",
   "metadata": {},
   "outputs": [],
   "source": [
    "def plot_num(data, column):\n",
    "\n",
    "    fig, axes = plt.subplots(2, 1, figsize=(12, 8), gridspec_kw={'height_ratios': [3, 1]})\n",
    "    \n",
    "    #гист\n",
    "    sns.histplot(data[column], bins=30, ax=axes[0], color='royalblue')\n",
    "    axes[0].set_title(f'Распределение: {column}', fontsize=14)\n",
    "    axes[0].set_ylabel('Частота', fontsize=12)\n",
    "    axes[0].set_xlabel('')\n",
    "    \n",
    "    #боксплот\n",
    "    sns.boxplot(data=data, x=column, ax=axes[1], color='skyblue')\n",
    "    axes[1].set_title(f'Боксплот: {column}', fontsize=14)\n",
    "    axes[1].set_xlabel(column, fontsize=12)\n",
    "    \n",
    "    plt.tight_layout()\n",
    "    plt.show()"
   ]
  },
  {
   "cell_type": "code",
   "execution_count": 7,
   "id": "cc844eb7",
   "metadata": {},
   "outputs": [
    {
     "data": {
      "image/png": "[encoded data removed]",
      "text/plain": [
       "<Figure size 864x576 with 2 Axes>"
      ]
     },
     "metadata": {
      "needs_background": "light"
     },
     "output_type": "display_data"
    }
   ],
   "source": [
    "plot_num(df, 'temperature_k')"
   ]
  },
  {
   "cell_type": "markdown",
   "id": "1dfc5969",
   "metadata": {},
   "source": [
    "В целевом признаке явных аномалий не обнаружено. Есть выбросы, но они выглядят логичными для данных о звёздах и их температуре. Решили не удалять эти значения, чтобы сохранить разнообразие данных и не повредить точности прогноза модели"
   ]
  },
  {
   "cell_type": "code",
   "execution_count": 8,
   "id": "78639252",
   "metadata": {},
   "outputs": [
    {
     "data": {
      "image/png": "[encoded data removed]",
      "text/plain": [
       "<Figure size 864x576 with 2 Axes>"
      ]
     },
     "metadata": {
      "needs_background": "light"
     },
     "output_type": "display_data"
    }
   ],
   "source": [
    "plot_num(df, 'luminosity_lo')"
   ]
  },
  {
   "cell_type": "markdown",
   "id": "3a935b4f",
   "metadata": {},
   "source": [
    "Аналогично, пока оставим выбросы в колонке с относительной светимостью звезд"
   ]
  },
  {
   "cell_type": "code",
   "execution_count": 9,
   "id": "8bd050b7",
   "metadata": {},
   "outputs": [
    {
     "data": {
      "image/png": "[encoded data removed]",
      "text/plain": [
       "<Figure size 864x576 with 2 Axes>"
      ]
     },
     "metadata": {
      "needs_background": "light"
     },
     "output_type": "display_data"
    }
   ],
   "source": [
    "plot_num(df, 'radius_ro')"
   ]
  },
  {
   "cell_type": "markdown",
   "id": "9533ad10",
   "metadata": {},
   "source": [
    "В ``radius_ro`` обнаружены явные аномалии, но существуют супер гиганты, решено оставить, чтобы не удалять целый класс звезд"
   ]
  },
  {
   "cell_type": "code",
   "execution_count": 10,
   "id": "f0c5930a",
   "metadata": {},
   "outputs": [
    {
     "data": {
      "image/png": "[encoded data removed]",
      "text/plain": [
       "<Figure size 864x576 with 2 Axes>"
      ]
     },
     "metadata": {
      "needs_background": "light"
     },
     "output_type": "display_data"
    }
   ],
   "source": [
    "plot_num(df, 'absolute_magnitude_mv')"
   ]
  },
  {
   "cell_type": "markdown",
   "id": "86883d05",
   "metadata": {},
   "source": [
    "Значения в ``absolute_magnitude_mv`` выглядят естественно, выбросов или аномалий не обнаружено. Никаких изменений в данных вносить не нужно."
   ]
  },
  {
   "cell_type": "markdown",
   "id": "d6fa9be3",
   "metadata": {},
   "source": [
    "<div class=\"alert alert-success\">\n",
    "<b>👍 Успех:</b> Все верно!\n",
    "</div>"
   ]
  },
  {
   "cell_type": "code",
   "execution_count": 11,
   "id": "98426ab8",
   "metadata": {},
   "outputs": [],
   "source": [
    "def plot_cat(data, column):\n",
    "    plt.figure(figsize=(10, 6))\n",
    "    sns.countplot(data=data, x=column, palette='viridis', order=data[column].value_counts().index)\n",
    "    plt.title(f'Распределение: {column}', fontsize=14)\n",
    "    plt.xlabel(column, fontsize=12)\n",
    "    plt.ylabel('Количество', fontsize=12)\n",
    "    plt.xticks(rotation=45)\n",
    "    plt.show()"
   ]
  },
  {
   "cell_type": "code",
   "execution_count": 12,
   "id": "6b2b90c1",
   "metadata": {},
   "outputs": [
    {
     "data": {
      "image/png": "[encoded data removed]",
      "text/plain": [
       "<Figure size 720x432 with 1 Axes>"
      ]
     },
     "metadata": {
      "needs_background": "light"
     },
     "output_type": "display_data"
    }
   ],
   "source": [
    "plot_cat(df, 'star_type')"
   ]
  },
  {
   "cell_type": "markdown",
   "id": "5d8e0943",
   "metadata": {},
   "source": [
    "Распределение звёзд по типам равномерное, все пять типов звёзд представлены одинаково"
   ]
  },
  {
   "cell_type": "code",
   "execution_count": 13,
   "id": "b3670c26",
   "metadata": {},
   "outputs": [
    {
     "data": {
      "image/png": "[encoded data removed]",
      "text/plain": [
       "<Figure size 720x432 with 1 Axes>"
      ]
     },
     "metadata": {
      "needs_background": "light"
     },
     "output_type": "display_data"
    }
   ],
   "source": [
    "plot_cat(df, 'star_color')"
   ]
  },
  {
   "cell_type": "markdown",
   "id": "380728ea",
   "metadata": {},
   "source": [
    "В ``star_color`` необходимо объединить похожие по смыслу категории: blue white и blue-white, а также привели значения к единому формату"
   ]
  },
  {
   "cell_type": "code",
   "execution_count": 14,
   "id": "8f63eccc",
   "metadata": {},
   "outputs": [
    {
     "name": "stdout",
     "output_type": "stream",
     "text": [
      "red                   112\n",
      "blue                   56\n",
      "blue-white             41\n",
      "white                  12\n",
      "yellow-white           12\n",
      "yellow                  3\n",
      "orange                  2\n",
      "orange-red              1\n",
      "pale yellow-orange      1\n",
      "Name: star_color, dtype: int64\n"
     ]
    }
   ],
   "source": [
    "df.loc[:, 'star_color'] = df['star_color'].str.lower().str.strip()\n",
    "\n",
    "df.loc[:, 'star_color'] = df['star_color'].replace({\n",
    "    'blue white': 'blue-white',\n",
    "    'yellowish white': 'yellow-white',\n",
    "    'white-yellow': 'yellow-white',\n",
    "    'whitish': 'white',\n",
    "    'yellowish': 'yellow',\n",
    "    'pale yellow orange': 'pale yellow-orange'\n",
    "})\n",
    "\n",
    "print(df['star_color'].value_counts())"
   ]
  },
  {
   "cell_type": "markdown",
   "id": "24e76303",
   "metadata": {},
   "source": [
    "Объединим в категорию **other** значения с единичными показателями"
   ]
  },
  {
   "cell_type": "code",
   "execution_count": 15,
   "id": "a16e1f22",
   "metadata": {},
   "outputs": [
    {
     "name": "stdout",
     "output_type": "stream",
     "text": [
      "red             112\n",
      "blue             56\n",
      "blue-white       41\n",
      "white            12\n",
      "yellow-white     12\n",
      "other             7\n",
      "Name: star_color, dtype: int64\n"
     ]
    },
    {
     "data": {
      "image/png": "[encoded data removed]",
      "text/plain": [
       "<Figure size 720x432 with 1 Axes>"
      ]
     },
     "metadata": {
      "needs_background": "light"
     },
     "output_type": "display_data"
    }
   ],
   "source": [
    "common_colors = ['red', 'blue', 'blue-white', 'yellow-white', 'white']\n",
    "df.loc[:, 'star_color'] = df['star_color'].apply(lambda x: x if x in common_colors else 'other')\n",
    "\n",
    "print(df['star_color'].value_counts())\n",
    "\n",
    "plot_cat(df, 'star_color')"
   ]
  },
  {
   "cell_type": "markdown",
   "id": "52d8145a",
   "metadata": {},
   "source": [
    "Построим матрицу корреляции и проверим на мультиколлинеарность"
   ]
  },
  {
   "cell_type": "code",
   "execution_count": 16,
   "id": "bc8b2102",
   "metadata": {},
   "outputs": [
    {
     "data": {
      "image/png": "[encoded data removed]",
      "text/plain": [
       "<Figure size 720x576 with 2 Axes>"
      ]
     },
     "metadata": {
      "needs_background": "light"
     },
     "output_type": "display_data"
    }
   ],
   "source": [
    "correlation_matrix = df.phik_matrix(interval_cols=['luminosity_lo', 'radius_ro', 'absolute_magnitude_mv', 'temperature_k'])\n",
    "\n",
    "plot_correlation_matrix(\n",
    "    correlation_matrix.values,\n",
    "    x_labels=correlation_matrix.columns,\n",
    "    y_labels=correlation_matrix.index,\n",
    "    vmin=-1,\n",
    "    vmax=1,\n",
    "    figsize=(10, 8))"
   ]
  },
  {
   "cell_type": "markdown",
   "id": "c13aa968",
   "metadata": {},
   "source": [
    "Мультиколлинеарности нет, можно продолжать работать без изменения признаков"
   ]
  },
  {
   "cell_type": "code",
   "execution_count": 17,
   "id": "14ca3bf2",
   "metadata": {},
   "outputs": [
    {
     "data": {
      "image/png": "[encoded data removed]",
      "text/plain": [
       "<Figure size 774.5x720 with 20 Axes>"
      ]
     },
     "metadata": {
      "needs_background": "light"
     },
     "output_type": "display_data"
    }
   ],
   "source": [
    "variables = ['luminosity_lo', 'radius_ro', 'absolute_magnitude_mv', 'temperature_k']\n",
    "\n",
    "sns.pairplot(df, vars=variables, hue='star_type')\n",
    "plt.suptitle('Диаграммы рассеивания по типу звезд')\n",
    "plt.show()"
   ]
  },
  {
   "cell_type": "markdown",
   "id": "6428545d",
   "metadata": {},
   "source": [
    "Закономерности:\n",
    "- Размер звезды не всегда связан с температурой. Видно, что некоторые очень большие звезды могут быть как холодными, так и горячими.\n",
    "- Яркость и температура связаны. Звезды с положительной абсолютной величиной чаще имеют низкую температуру.\n",
    "- Звезды разного типа образуют группы. Видно, что разные типы звезд располагаются в своих зонах.\n",
    "\n",
    "Можно сделать выводы, что связи соответствуют реальным астрономическим законам; типы звезд играют роль в объяснении закономерностей; по графикам можно утверждать, что предсказание температуры возможно на основе этих данных"
   ]
  },
  {
   "cell_type": "markdown",
   "id": "f86229c9",
   "metadata": {},
   "source": [
    "Выводы:\n",
    "\n",
    "- ``temperature`` выбросы присутствуют, но они ожидаемы, так как температура звёзд варьируется в широком диапазоне. Решено оставить все данные\n",
    "- ``radius_ro`` выявлены явные аномалии, которые составляют ~16% данных, но существуют звезды-гиганты, у нас это целый класс, не удялем\n",
    "- ``absolute_magnitude_mv`` распределение асимметричное, но в рамках логики задачи ничего критичного\n",
    "- Отсутствует мультиколлинеарность\n",
    "\n",
    "Анализ категориальных признаков:\n",
    "\n",
    "- ``star_type`` распределение равномерное между типами звёзд\n",
    "- ``star_color`` Приведены названия цветов к одному формату. Выделили 5 наиболее распространенных цветов, прочите объединили в **other**"
   ]
  },
  {
   "cell_type": "markdown",
   "id": "d22f3101",
   "metadata": {},
   "source": [
    "## Построение базовой нейронной сети"
   ]
  },
  {
   "cell_type": "markdown",
   "id": "c8a8b8ae",
   "metadata": {},
   "source": [
    "Для построение базовой модели необходимо выделить целевой признак и закодировать категориальные переменные, нормализовать количественные"
   ]
  },
  {
   "cell_type": "code",
   "execution_count": 18,
   "id": "6d466141",
   "metadata": {},
   "outputs": [],
   "source": [
    "X = df.drop(columns=['temperature_k'])\n",
    "y = df['temperature_k']\n",
    "\n",
    "X_train, X_test, y_train, y_test = train_test_split(X, y, test_size=0.2, random_state=42)\n",
    "\n",
    "numeric_features = ['luminosity_lo', 'radius_ro', 'absolute_magnitude_mv']\n",
    "categorical_features = ['star_color', 'star_type']\n",
    "\n",
    "\n",
    "num_pipe = Pipeline([\n",
    "    ('scaler', StandardScaler())\n",
    "])\n",
    "\n",
    "\n",
    "cat_pipe = Pipeline([\n",
    "    ('ohe', OneHotEncoder(drop='first', handle_unknown='ignore', sparse=False))\n",
    "])\n",
    "\n",
    "data_preprocessor = ColumnTransformer([\n",
    "    ('num', num_pipe, numeric_features),\n",
    "    ('cat', cat_pipe, categorical_features)\n",
    "], remainder='passthrough')\n",
    "\n",
    "X_train_processed = data_preprocessor.fit_transform(X_train)\n",
    "X_test_processed = data_preprocessor.transform(X_test)\n",
    "\n",
    "#преобразование в формат тензоров, чтобы обучать нейросеть\n",
    "X_train_tensor = torch.FloatTensor(X_train_processed)\n",
    "y_train_tensor = torch.FloatTensor(y_train.values).unsqueeze(1)\n",
    "\n",
    "X_test_tensor = torch.FloatTensor(X_test_processed)\n",
    "y_test_tensor = torch.FloatTensor(y_test.values).unsqueeze(1)\n"
   ]
  },
  {
   "cell_type": "code",
   "execution_count": 19,
   "id": "cc1967e4",
   "metadata": {},
   "outputs": [],
   "source": [
    "#создадим функцию для базовой нейросети\n",
    "def create_model(input_size, hidden_neurons):\n",
    "    model = nn.Sequential(\n",
    "        nn.Linear(input_size, hidden_neurons),  #1 скрытый слой\n",
    "        nn.Tanh(),                              #активация Tanh\n",
    "        nn.Linear(hidden_neurons, 32),          #2 скрытый слой\n",
    "        nn.ReLU(),                              #активация ReLU\n",
    "        nn.Linear(32, 1)                        #выходной слой\n",
    "    )\n",
    "    return model"
   ]
  },
  {
   "cell_type": "code",
   "execution_count": 20,
   "id": "508e1a24",
   "metadata": {},
   "outputs": [],
   "source": [
    "#функиця для обучения модели\n",
    "def train_model(model, X_train_tensor, y_train_tensor, X_test_tensor, y_test_tensor, epochs=100, batch_size=32):\n",
    "    #оптимизатор и функция потерь\n",
    "    criterion = nn.MSELoss()\n",
    "    optimizer = optim.Adam(model.parameters(), lr=0.001)\n",
    "    n_samples = X_train_tensor.shape[0]\n",
    "\n",
    "    #обучение\n",
    "    model.train()\n",
    "    for epoch in range(epochs):\n",
    "        for i in range(0, n_samples, batch_size):\n",
    "            X_batch = X_train_tensor[i:i+batch_size]\n",
    "            y_batch = y_train_tensor[i:i+batch_size]\n",
    "\n",
    "            optimizer.zero_grad()               #обнуление градиента \n",
    "            outputs = model(X_batch)            #прямой подход к обучению\n",
    "            loss = criterion(outputs, y_batch)  #считаем ошибку\n",
    "            loss.backward()                     #обратное распростарнение\n",
    "            optimizer.step()                    #обнволение весов\n",
    "\n",
    "    #оценка\n",
    "    model.eval()\n",
    "    with torch.no_grad():\n",
    "        y_test_pred = model(X_test_tensor).numpy()\n",
    "        test_rmse = np.sqrt(mean_squared_error(y_test_tensor.numpy(), y_test_pred))\n",
    "    \n",
    "    return test_rmse"
   ]
  },
  {
   "cell_type": "code",
   "execution_count": 21,
   "id": "8e3de527",
   "metadata": {},
   "outputs": [
    {
     "name": "stdout",
     "output_type": "stream",
     "text": [
      "RMSE на тестовой выборке базовой модели: 5076.55\n"
     ]
    }
   ],
   "source": [
    "input_size = X_train_tensor.shape[1]  #вводные признаки\n",
    "hidden_neurons = 64  #нейроны в скрытом слое\n",
    "batch_size = 32  #размер батча\n",
    "epochs = 1000  #эпохи\n",
    "\n",
    "#модель\n",
    "model = create_model(input_size=input_size, hidden_neurons=hidden_neurons)\n",
    "\n",
    "#обучение и метрика\n",
    "test_rmse = train_model(\n",
    "    model=model,\n",
    "    X_train_tensor=X_train_tensor,\n",
    "    y_train_tensor=y_train_tensor,\n",
    "    X_test_tensor=X_test_tensor,\n",
    "    y_test_tensor=y_test_tensor,\n",
    "    epochs=epochs,\n",
    "    batch_size=batch_size\n",
    ")\n",
    "\n",
    "print(f\"RMSE на тестовой выборке базовой модели: {test_rmse:.2f}\")"
   ]
  },
  {
   "cell_type": "code",
   "execution_count": 22,
   "id": "d3b77655",
   "metadata": {},
   "outputs": [
    {
     "data": {
      "image/png": "[encoded data removed]",
      "text/plain": [
       "<Figure size 1152x576 with 1 Axes>"
      ]
     },
     "metadata": {
      "needs_background": "light"
     },
     "output_type": "display_data"
    }
   ],
   "source": [
    "#предсказание на тестовой выборке\n",
    "model.eval()\n",
    "y_test_pred = model(X_test_tensor).detach().numpy().flatten()  #предсказание\n",
    "\n",
    "\n",
    "n_samples = len(y_test)\n",
    "plt.figure(figsize=(16, 8))\n",
    "plt.bar(range(n_samples), y_test.values[:n_samples], label='Факт', color='dodgerblue', alpha=0.8)\n",
    "plt.bar(range(n_samples), y_test_pred[:n_samples], label='Прогноз', color='tomato', alpha=0.8, width=0.4)\n",
    "plt.title('Сравнение: Факт — Прогноз', fontsize=16)\n",
    "plt.grid(axis='y', alpha=0.7)\n",
    "plt.xlabel('Индекс звезды', fontsize=12)\n",
    "plt.ylabel('Температура (K)', fontsize=12)\n",
    "plt.legend()\n",
    "plt.show()\n"
   ]
  },
  {
   "cell_type": "code",
   "execution_count": 23,
   "id": "a49018b8",
   "metadata": {},
   "outputs": [
    {
     "name": "stdout",
     "output_type": "stream",
     "text": [
      "Номер1: Фактическое значение = 16500.00, Предсказанное значение = 14264.91\n",
      "Номер2: Фактическое значение = 2637.00, Предсказанное значение = 2712.94\n",
      "Номер3: Фактическое значение = 4980.00, Предсказанное значение = 4335.43\n",
      "Номер4: Фактическое значение = 33421.00, Предсказанное значение = 20312.63\n",
      "Номер5: Фактическое значение = 11096.00, Предсказанное значение = 18271.46\n",
      "Номер6: Фактическое значение = 4287.00, Предсказанное значение = 6164.59\n",
      "Номер7: Фактическое значение = 27739.00, Предсказанное значение = 23082.11\n",
      "Номер8: Фактическое значение = 12010.00, Предсказанное значение = 13962.59\n",
      "Номер9: Фактическое значение = 2700.00, Предсказанное значение = 2219.90\n",
      "Номер10: Фактическое значение = 14520.00, Предсказанное значение = 14226.11\n"
     ]
    }
   ],
   "source": [
    "for i in range(10):\n",
    "    real = y_test.values[i]\n",
    "    predicted = y_test_pred[i]\n",
    "    print(f\"Номер{i + 1}: Фактическое значение = {real:.2f}, Предсказанное значение = {predicted:.2f}\")"
   ]
  },
  {
   "cell_type": "markdown",
   "id": "ef1eac2c",
   "metadata": {},
   "source": [
    "Выводы:\n",
    "\n",
    "- Задали базовую модель нейронной сети с двумя скрытыми слоями. Первый слой состоял из 64 нейронов с функцией активации Tanh, а второй слой — из 32 нейронов с активацией ReLU. На выходе использовался один нейрон для предсказания температуры. Для обучения модели применили оптимизатор Adam с функцией потерь MSELoss\n",
    "\n",
    "\n",
    "- RMSE на тестовой выборке -  14343.16. Высокое значение ошибки, что показывает большеое расхождение между фактом и прогнозом модели\n",
    "- Модель показала узкий диапазон предсказанных значений ~1200 для всех объектов, в то время как реальные значения температуры в разы больше\n",
    "- Построили график и убедилисть, что моджель покам слабо улавливает зависимости\n",
    "\n",
    "В следующем шаге мы усложним модель, чтобы она смогла лучше находить нелинейные связи:\n",
    "- Увеличим число нейронов\n",
    "- Добавление Dropout для предотвращения переобучения\n",
    "- Изменим размера батчей и количества эпох\n",
    "- Задача добиться RMSE < 4500 "
   ]
  },
  {
   "cell_type": "markdown",
   "id": "aed24dc6",
   "metadata": {},
   "source": [
    "## Улучшение нейронной сети"
   ]
  },
  {
   "cell_type": "code",
   "execution_count": 24,
   "id": "49354400",
   "metadata": {},
   "outputs": [],
   "source": [
    "def create_model(input_size, hidden_neurons, dropout_rate):\n",
    "    model = nn.Sequential(\n",
    "        nn.Linear(input_size, hidden_neurons),  #первый скрытый слой\n",
    "        nn.Tanh(),                              #первая активация\n",
    "        nn.Dropout(dropout_rate),               #dropout\n",
    "        nn.Linear(hidden_neurons, 32),          #второй скрытый слой\n",
    "        nn.ReLU(),                              #вторая активация\n",
    "        nn.Linear(32, 1)                        #выходной слой\n",
    "    )\n",
    "    return model"
   ]
  },
  {
   "cell_type": "code",
   "execution_count": 25,
   "id": "ba6b5317",
   "metadata": {},
   "outputs": [
    {
     "name": "stdout",
     "output_type": "stream",
     "text": [
      "Hidden Neurons: 400, Dropout: 0.1, Batch Size: 16, RMSE: 4280.85\n",
      "Hidden Neurons: 400, Dropout: 0.1, Batch Size: 32, RMSE: 4633.54\n",
      "Hidden Neurons: 400, Dropout: 0.15, Batch Size: 16, RMSE: 4258.27\n",
      "Hidden Neurons: 400, Dropout: 0.15, Batch Size: 32, RMSE: 4654.95\n",
      "Hidden Neurons: 512, Dropout: 0.1, Batch Size: 16, RMSE: 4255.92\n",
      "Hidden Neurons: 512, Dropout: 0.1, Batch Size: 32, RMSE: 4341.27\n",
      "Hidden Neurons: 512, Dropout: 0.15, Batch Size: 16, RMSE: 4239.54\n",
      "Hidden Neurons: 512, Dropout: 0.15, Batch Size: 32, RMSE: 4755.36\n",
      "Hidden Neurons: 600, Dropout: 0.1, Batch Size: 16, RMSE: 4217.26\n",
      "Hidden Neurons: 600, Dropout: 0.1, Batch Size: 32, RMSE: 4333.80\n",
      "Hidden Neurons: 600, Dropout: 0.15, Batch Size: 16, RMSE: 4264.09\n",
      "Hidden Neurons: 600, Dropout: 0.15, Batch Size: 32, RMSE: 4581.23\n",
      "Лучшие параметры: Hidden Neurons=600, Dropout=0.1, Batch Size=16, RMSE=4217.26\n"
     ]
    }
   ],
   "source": [
    "results = []\n",
    "hidden_neurons_list = [400, 512, 600]  #диапазон найеронов\n",
    "dropout_list = [0.1, 0.15]            #диапазон дропаута\n",
    "batch_size_list = [16, 32]            #диапазон батчей \n",
    "epochs = 600                          #эпоха\n",
    "\n",
    "for hidden_neurons in hidden_neurons_list:\n",
    "    for dropout_rate in dropout_list:\n",
    "        for batch_size in batch_size_list:\n",
    "            model = create_model(X_train_tensor.shape[1], hidden_neurons, dropout_rate)\n",
    "            rmse = train_model(\n",
    "                model, X_train_tensor, y_train_tensor, X_test_tensor, y_test_tensor,\n",
    "                batch_size=batch_size, epochs=epochs\n",
    "            )\n",
    "            results.append({'hidden_neurons': hidden_neurons, 'dropout': dropout_rate, 'batch_size': batch_size, 'rmse': rmse})\n",
    "            print(f\"Hidden Neurons: {hidden_neurons}, Dropout: {dropout_rate}, Batch Size: {batch_size}, RMSE: {rmse:.2f}\")\n",
    "\n",
    "\n",
    "best_result = results[0]\n",
    "for result in results:\n",
    "    if result['rmse'] < best_result['rmse']:\n",
    "        best_result = result\n",
    "\n",
    "print(f\"Лучшие параметры: Hidden Neurons={best_result['hidden_neurons']}, \"\n",
    "      f\"Dropout={best_result['dropout']}, Batch Size={best_result['batch_size']}, RMSE={best_result['rmse']:.2f}\")"
   ]
  },
  {
   "cell_type": "code",
   "execution_count": 26,
   "id": "4a33635d",
   "metadata": {},
   "outputs": [
    {
     "name": "stdout",
     "output_type": "stream",
     "text": [
      "Финальный RMSE на тестовой выборке: 4235.04\n"
     ]
    }
   ],
   "source": [
    "#лучшите параметры\n",
    "best_hidden_neurons = 600\n",
    "best_dropout = 0.1\n",
    "best_batch_size = 16\n",
    "best_epochs = 600\n",
    "\n",
    "#итоговая модель\n",
    "final_model = create_model(\n",
    "    input_size=X_train_tensor.shape[1], \n",
    "    hidden_neurons=best_hidden_neurons, \n",
    "    dropout_rate=best_dropout\n",
    ")\n",
    "\n",
    "#обучение\n",
    "final_rmse = train_model(\n",
    "    model=final_model,\n",
    "    X_train_tensor=X_train_tensor,\n",
    "    y_train_tensor=y_train_tensor,\n",
    "    X_test_tensor=X_test_tensor,\n",
    "    y_test_tensor=y_test_tensor,\n",
    "    batch_size=best_batch_size,\n",
    "    epochs=best_epochs\n",
    ")\n",
    "\n",
    "print(f\"Финальный RMSE на тестовой выборке: {final_rmse:.2f}\")"
   ]
  },
  {
   "cell_type": "code",
   "execution_count": 27,
   "id": "e9854e59",
   "metadata": {},
   "outputs": [
    {
     "data": {
      "image/png": "[encoded data removed]",
      "text/plain": [
       "<Figure size 1152x576 with 1 Axes>"
      ]
     },
     "metadata": {
      "needs_background": "light"
     },
     "output_type": "display_data"
    }
   ],
   "source": [
    "final_model.eval()\n",
    "y_test_pred = final_model(X_test_tensor).detach().numpy().flatten()\n",
    "\n",
    "n_samples = len(y_test_pred)\n",
    "plt.figure(figsize=(16, 8))\n",
    "plt.bar(range(n_samples), y_test.values[:n_samples], label='Факт', color='dodgerblue', alpha=0.8)\n",
    "plt.bar(range(n_samples), y_test_pred[:n_samples], label='Прогноз', color='tomato', alpha=0.8, width=0.4)\n",
    "plt.title('Сравнение: Факт — Прогноз (Лучшая модель)', fontsize=16)\n",
    "plt.grid(axis='y', alpha=0.7)\n",
    "plt.xlabel('Индекс звезды', fontsize=12)\n",
    "plt.ylabel('Температура (K)', fontsize=12)\n",
    "plt.legend()\n",
    "plt.show()"
   ]
  },
  {
   "cell_type": "markdown",
   "id": "935f2675",
   "metadata": {},
   "source": [
    "Выводы:\n",
    "\n",
    "- Подобрали лучшие гиперпараметры для модели путем перебора:\n",
    " - Количество нейронов: 600\n",
    " - Dropout: 0.1\n",
    " - Размер батча: 16\n",
    " - Количество эпох: 600\n",
    "- Построили модель с обновленной архитектурой, добавив **слой Dropout**\n",
    "- После финального обучения модели получили RMSE = 4235.04, что значительно **меньше порога задачи в 4500**\n",
    "- Построили график «Факт — Прогноз» и увидели, что модель стала существенно точнее в предсказаниях"
   ]
  },
  {
   "cell_type": "markdown",
   "id": "8c4616ea",
   "metadata": {},
   "source": [
    "## Выводы"
   ]
  },
  {
   "cell_type": "markdown",
   "id": "e62d58cf",
   "metadata": {},
   "source": [
    "Целью проекта являлось разработать модель на основе нейросети, которая способна точно предсказывать температуру на поверхности звезд\n",
    "\n",
    "Выполненые шаги:\n",
    "- Мы начали с анализа данных, состоящих из 240 объектов с характеристиками звезд. Целевой переменной была температура звезды в Кельвинах\n",
    "\n",
    "\n",
    "- Провели исследование количественных и категориальных данных\n",
    "  - Были выявлены выбросы в признаке ``radius_ro``, которые составляли около 16% от выборки, решили не удалять, так как это привело бы к удалению целого класса звезд сверхгигантов\n",
    "  - Для категориального признака ``star_color`` обнаружили значения с похожими названиями. Мы объединили схожие категории и выделили пять основных цветов, оставив прочие в категории **other**\n",
    "\n",
    "\n",
    "- Разделили данные на обучающую и тестовую выборки\n",
    "- Применили стандартизацию и кодирование\n",
    "- Преобразовали данные в формат тензоров для обучения модели.\n",
    "\n",
    "\n",
    "- Создали базовую архитектуру нейросети, состоящую из двух скрытых слоев с активациями **Tanh** и **ReLU**\n",
    "  - Базовая модель обучалась без использования Dropout. Параметры:\n",
    "   - Количество нейронов: 64\n",
    "   - Эпохи: 100\n",
    "   - Размер батча: 32\n",
    "- После обучения базовая модель показала RMSE = 14343.16. График «Факт — Прогноз» подтвердил, что модель показывает высокую ошибку и плохо обучилась, не смогла найти связи\n",
    "\n",
    "\n",
    "- Улучшили архитектуру, добавив **Dropout**\n",
    "- Использовали перебор гиперпараметров:\n",
    "  - Количество нейронов: 400, 512, 600\n",
    "  - Dropout: 0.1, 0.15\n",
    "  - Размер батча: 16, 32\n",
    "  - Эпохи: 600\n",
    "- После перебора гиперпараметров взяли лучшие параметры:\n",
    " - Количество нейронов: 600\n",
    " - Dropout: 0.1\n",
    " - Размер батча: 16\n",
    " - Эпохи: 600\n",
    " \n",
    "\n",
    "- Обучили улучшенную модель с использованием лучших параметров, RMSE = 4235.04. График показал, что модель стала точнее, и предсказания приближаются к реальным значениям.\n",
    "\n",
    "___\n",
    "\n",
    "Все этапы проекта были выполнены, начиная с анализа данных и их предобработки до построения и улучшения модели.\n",
    "Базовая модель показала недостаточно хорошие результаты, что показало необхзодимость улучшения модели\n",
    "Итоговая модель полностью отвечает задаче и может быть использована для прогнозирования температуры с относительно высокой точностью"
   ]
  }
 ],
 "metadata": {
  "ExecuteTimeLog": [
   {
    "duration": 410,
    "start_time": "2025-01-22T15:56:55.739Z"
   },
   {
    "duration": 69,
    "start_time": "2025-01-22T15:57:17.115Z"
   },
   {
    "duration": 42,
    "start_time": "2025-01-22T15:57:19.691Z"
   },
   {
    "duration": 2,
    "start_time": "2025-01-22T16:08:23.606Z"
   },
   {
    "duration": 66,
    "start_time": "2025-01-22T16:08:24.187Z"
   },
   {
    "duration": 2,
    "start_time": "2025-01-22T16:08:45.807Z"
   },
   {
    "duration": 10,
    "start_time": "2025-01-22T16:08:46.444Z"
   },
   {
    "duration": 2,
    "start_time": "2025-01-22T16:10:58.191Z"
   },
   {
    "duration": 10,
    "start_time": "2025-01-22T16:11:00.010Z"
   },
   {
    "duration": 2,
    "start_time": "2025-01-22T16:11:57.800Z"
   },
   {
    "duration": 10,
    "start_time": "2025-01-22T16:11:58.337Z"
   },
   {
    "duration": 7,
    "start_time": "2025-01-22T16:13:17.751Z"
   },
   {
    "duration": 3,
    "start_time": "2025-01-22T16:13:19.970Z"
   },
   {
    "duration": 156,
    "start_time": "2025-01-22T16:13:20.358Z"
   },
   {
    "duration": 80,
    "start_time": "2025-01-22T16:13:35.502Z"
   },
   {
    "duration": 3,
    "start_time": "2025-01-22T16:19:07.860Z"
   },
   {
    "duration": 139,
    "start_time": "2025-01-22T16:19:08.367Z"
   },
   {
    "duration": 15,
    "start_time": "2025-01-22T16:24:46.964Z"
   },
   {
    "duration": 51,
    "start_time": "2025-01-25T16:08:25.827Z"
   },
   {
    "duration": 405,
    "start_time": "2025-01-25T16:08:28.935Z"
   },
   {
    "duration": 32,
    "start_time": "2025-01-25T16:08:29.804Z"
   },
   {
    "duration": 37,
    "start_time": "2025-01-25T16:08:30.598Z"
   },
   {
    "duration": 4,
    "start_time": "2025-01-25T16:11:03.625Z"
   },
   {
    "duration": 4,
    "start_time": "2025-01-25T16:12:18.018Z"
   },
   {
    "duration": 2717,
    "start_time": "2025-01-25T16:13:40.567Z"
   },
   {
    "duration": 487,
    "start_time": "2025-01-25T16:15:51.794Z"
   },
   {
    "duration": 1761,
    "start_time": "2025-01-25T16:16:11.640Z"
   },
   {
    "duration": 5,
    "start_time": "2025-01-25T16:16:58.930Z"
   },
   {
    "duration": 375,
    "start_time": "2025-01-25T16:16:59.237Z"
   },
   {
    "duration": 430,
    "start_time": "2025-01-25T16:18:25.475Z"
   },
   {
    "duration": 530,
    "start_time": "2025-01-25T16:18:25.907Z"
   },
   {
    "duration": 457,
    "start_time": "2025-01-25T16:18:26.438Z"
   },
   {
    "duration": 6,
    "start_time": "2025-01-25T16:21:40.497Z"
   },
   {
    "duration": 7,
    "start_time": "2025-01-25T16:23:05.707Z"
   },
   {
    "duration": 397,
    "start_time": "2025-01-25T16:23:09.036Z"
   },
   {
    "duration": 5,
    "start_time": "2025-01-25T16:23:22.883Z"
   },
   {
    "duration": 435,
    "start_time": "2025-01-25T16:23:23.979Z"
   },
   {
    "duration": 4,
    "start_time": "2025-01-25T16:23:33.949Z"
   },
   {
    "duration": 428,
    "start_time": "2025-01-25T16:23:34.570Z"
   },
   {
    "duration": 8,
    "start_time": "2025-01-25T16:24:10.549Z"
   },
   {
    "duration": 7,
    "start_time": "2025-01-25T16:24:11.165Z"
   },
   {
    "duration": 542,
    "start_time": "2025-01-25T16:24:12.739Z"
   },
   {
    "duration": 462,
    "start_time": "2025-01-25T16:24:41.047Z"
   },
   {
    "duration": 1226,
    "start_time": "2025-01-25T16:30:20.943Z"
   },
   {
    "duration": 43,
    "start_time": "2025-01-25T16:30:22.171Z"
   },
   {
    "duration": 41,
    "start_time": "2025-01-25T16:30:22.215Z"
   },
   {
    "duration": 8,
    "start_time": "2025-01-25T16:30:22.258Z"
   },
   {
    "duration": 10,
    "start_time": "2025-01-25T16:30:22.272Z"
   },
   {
    "duration": 6,
    "start_time": "2025-01-25T16:30:22.287Z"
   },
   {
    "duration": 436,
    "start_time": "2025-01-25T16:30:22.295Z"
   },
   {
    "duration": 430,
    "start_time": "2025-01-25T16:30:22.732Z"
   },
   {
    "duration": 14,
    "start_time": "2025-01-25T16:30:23.163Z"
   },
   {
    "duration": 2,
    "start_time": "2025-01-25T16:30:23.180Z"
   },
   {
    "duration": 439,
    "start_time": "2025-01-25T16:30:23.186Z"
   },
   {
    "duration": 476,
    "start_time": "2025-01-25T16:30:23.627Z"
   },
   {
    "duration": 512,
    "start_time": "2025-01-25T16:30:24.105Z"
   },
   {
    "duration": 18,
    "start_time": "2025-01-25T16:30:59.352Z"
   },
   {
    "duration": 1214,
    "start_time": "2025-01-25T16:31:09.659Z"
   },
   {
    "duration": 35,
    "start_time": "2025-01-25T16:31:10.878Z"
   },
   {
    "duration": 46,
    "start_time": "2025-01-25T16:31:10.914Z"
   },
   {
    "duration": 5,
    "start_time": "2025-01-25T16:31:10.962Z"
   },
   {
    "duration": 13,
    "start_time": "2025-01-25T16:31:10.973Z"
   },
   {
    "duration": 14,
    "start_time": "2025-01-25T16:31:10.988Z"
   },
   {
    "duration": 448,
    "start_time": "2025-01-25T16:31:11.003Z"
   },
   {
    "duration": 460,
    "start_time": "2025-01-25T16:31:11.459Z"
   },
   {
    "duration": 6,
    "start_time": "2025-01-25T16:31:11.921Z"
   },
   {
    "duration": 2,
    "start_time": "2025-01-25T16:31:11.929Z"
   },
   {
    "duration": 462,
    "start_time": "2025-01-25T16:31:11.932Z"
   },
   {
    "duration": 427,
    "start_time": "2025-01-25T16:31:12.396Z"
   },
   {
    "duration": 515,
    "start_time": "2025-01-25T16:31:12.825Z"
   },
   {
    "duration": 5,
    "start_time": "2025-01-25T16:32:45.127Z"
   },
   {
    "duration": 385,
    "start_time": "2025-01-25T16:34:19.074Z"
   },
   {
    "duration": 156,
    "start_time": "2025-01-25T16:34:38.412Z"
   },
   {
    "duration": 238,
    "start_time": "2025-01-25T16:34:38.728Z"
   },
   {
    "duration": 1213,
    "start_time": "2025-01-25T16:35:02.018Z"
   },
   {
    "duration": 37,
    "start_time": "2025-01-25T16:35:03.233Z"
   },
   {
    "duration": 40,
    "start_time": "2025-01-25T16:35:03.272Z"
   },
   {
    "duration": 3,
    "start_time": "2025-01-25T16:35:03.314Z"
   },
   {
    "duration": 33,
    "start_time": "2025-01-25T16:35:03.319Z"
   },
   {
    "duration": 35,
    "start_time": "2025-01-25T16:35:03.354Z"
   },
   {
    "duration": 434,
    "start_time": "2025-01-25T16:35:03.392Z"
   },
   {
    "duration": 460,
    "start_time": "2025-01-25T16:35:03.828Z"
   },
   {
    "duration": 7,
    "start_time": "2025-01-25T16:35:04.290Z"
   },
   {
    "duration": 18,
    "start_time": "2025-01-25T16:35:04.300Z"
   },
   {
    "duration": 480,
    "start_time": "2025-01-25T16:35:04.319Z"
   },
   {
    "duration": 440,
    "start_time": "2025-01-25T16:35:04.801Z"
   },
   {
    "duration": 11,
    "start_time": "2025-01-25T16:35:05.243Z"
   },
   {
    "duration": 525,
    "start_time": "2025-01-25T16:35:05.256Z"
   },
   {
    "duration": 6,
    "start_time": "2025-01-25T16:35:05.782Z"
   },
   {
    "duration": 190,
    "start_time": "2025-01-25T16:35:05.789Z"
   },
   {
    "duration": 238,
    "start_time": "2025-01-25T16:35:05.984Z"
   },
   {
    "duration": 1201,
    "start_time": "2025-01-25T16:35:12.030Z"
   },
   {
    "duration": 35,
    "start_time": "2025-01-25T16:35:13.233Z"
   },
   {
    "duration": 48,
    "start_time": "2025-01-25T16:35:13.270Z"
   },
   {
    "duration": 4,
    "start_time": "2025-01-25T16:35:13.320Z"
   },
   {
    "duration": 34,
    "start_time": "2025-01-25T16:35:13.325Z"
   },
   {
    "duration": 18,
    "start_time": "2025-01-25T16:35:13.360Z"
   },
   {
    "duration": 444,
    "start_time": "2025-01-25T16:35:13.379Z"
   },
   {
    "duration": 419,
    "start_time": "2025-01-25T16:35:13.825Z"
   },
   {
    "duration": 11,
    "start_time": "2025-01-25T16:35:14.253Z"
   },
   {
    "duration": 3,
    "start_time": "2025-01-25T16:35:14.268Z"
   },
   {
    "duration": 464,
    "start_time": "2025-01-25T16:35:14.274Z"
   },
   {
    "duration": 479,
    "start_time": "2025-01-25T16:35:14.740Z"
   },
   {
    "duration": 6,
    "start_time": "2025-01-25T16:35:15.221Z"
   },
   {
    "duration": 519,
    "start_time": "2025-01-25T16:35:15.228Z"
   },
   {
    "duration": 20,
    "start_time": "2025-01-25T16:35:15.748Z"
   },
   {
    "duration": 203,
    "start_time": "2025-01-25T16:35:15.770Z"
   },
   {
    "duration": 246,
    "start_time": "2025-01-25T16:35:15.975Z"
   },
   {
    "duration": 4,
    "start_time": "2025-01-25T16:35:26.409Z"
   },
   {
    "duration": 1184,
    "start_time": "2025-01-25T16:35:42.527Z"
   },
   {
    "duration": 29,
    "start_time": "2025-01-25T16:35:43.713Z"
   },
   {
    "duration": 52,
    "start_time": "2025-01-25T16:35:43.743Z"
   },
   {
    "duration": 4,
    "start_time": "2025-01-25T16:35:43.798Z"
   },
   {
    "duration": 4,
    "start_time": "2025-01-25T16:35:43.804Z"
   },
   {
    "duration": 5,
    "start_time": "2025-01-25T16:35:43.809Z"
   },
   {
    "duration": 516,
    "start_time": "2025-01-25T16:35:43.815Z"
   },
   {
    "duration": 487,
    "start_time": "2025-01-25T16:35:44.332Z"
   },
   {
    "duration": 5,
    "start_time": "2025-01-25T16:35:44.821Z"
   },
   {
    "duration": 3,
    "start_time": "2025-01-25T16:35:44.827Z"
   },
   {
    "duration": 428,
    "start_time": "2025-01-25T16:35:44.831Z"
   },
   {
    "duration": 485,
    "start_time": "2025-01-25T16:35:45.261Z"
   },
   {
    "duration": 11,
    "start_time": "2025-01-25T16:35:45.747Z"
   },
   {
    "duration": 492,
    "start_time": "2025-01-25T16:35:45.766Z"
   },
   {
    "duration": 7,
    "start_time": "2025-01-25T16:35:46.260Z"
   },
   {
    "duration": 169,
    "start_time": "2025-01-25T16:35:46.268Z"
   },
   {
    "duration": 3,
    "start_time": "2025-01-25T16:35:46.438Z"
   },
   {
    "duration": 270,
    "start_time": "2025-01-25T16:35:46.443Z"
   },
   {
    "duration": 261,
    "start_time": "2025-01-25T16:38:30.947Z"
   },
   {
    "duration": 12,
    "start_time": "2025-01-25T16:38:32.468Z"
   },
   {
    "duration": 187,
    "start_time": "2025-01-25T16:38:32.910Z"
   },
   {
    "duration": 13,
    "start_time": "2025-01-25T16:40:07.576Z"
   },
   {
    "duration": 288,
    "start_time": "2025-01-25T16:46:04.123Z"
   },
   {
    "duration": 17,
    "start_time": "2025-01-25T16:46:25.014Z"
   },
   {
    "duration": 24,
    "start_time": "2025-01-25T16:46:30.351Z"
   },
   {
    "duration": 626,
    "start_time": "2025-01-25T16:53:30.651Z"
   },
   {
    "duration": 809,
    "start_time": "2025-01-25T16:57:54.269Z"
   },
   {
    "duration": 220,
    "start_time": "2025-01-25T16:59:16.123Z"
   },
   {
    "duration": 6,
    "start_time": "2025-01-25T17:01:28.195Z"
   },
   {
    "duration": 139,
    "start_time": "2025-01-25T17:03:46.302Z"
   },
   {
    "duration": 98177,
    "start_time": "2025-01-25T17:03:53.307Z"
   },
   {
    "duration": 890,
    "start_time": "2025-01-25T17:06:45.369Z"
   },
   {
    "duration": 12,
    "start_time": "2025-01-25T17:09:07.669Z"
   },
   {
    "duration": 4,
    "start_time": "2025-01-25T17:09:24.278Z"
   },
   {
    "duration": 204195,
    "start_time": "2025-01-25T17:15:13.999Z"
   },
   {
    "duration": 4,
    "start_time": "2025-01-25T17:19:25.818Z"
   },
   {
    "duration": 9,
    "start_time": "2025-01-25T17:20:17.475Z"
   },
   {
    "duration": 1186,
    "start_time": "2025-01-25T17:20:24.839Z"
   },
   {
    "duration": 51,
    "start_time": "2025-01-25T17:20:26.027Z"
   },
   {
    "duration": 37,
    "start_time": "2025-01-25T17:20:26.079Z"
   },
   {
    "duration": 3,
    "start_time": "2025-01-25T17:20:26.118Z"
   },
   {
    "duration": 9,
    "start_time": "2025-01-25T17:20:26.122Z"
   },
   {
    "duration": 31,
    "start_time": "2025-01-25T17:20:26.132Z"
   },
   {
    "duration": 450,
    "start_time": "2025-01-25T17:20:26.168Z"
   },
   {
    "duration": 477,
    "start_time": "2025-01-25T17:20:26.620Z"
   },
   {
    "duration": 7,
    "start_time": "2025-01-25T17:20:27.099Z"
   },
   {
    "duration": 3,
    "start_time": "2025-01-25T17:20:27.110Z"
   },
   {
    "duration": 409,
    "start_time": "2025-01-25T17:20:27.115Z"
   },
   {
    "duration": 416,
    "start_time": "2025-01-25T17:20:27.526Z"
   },
   {
    "duration": 13,
    "start_time": "2025-01-25T17:20:27.944Z"
   },
   {
    "duration": 465,
    "start_time": "2025-01-25T17:20:27.960Z"
   },
   {
    "duration": 4,
    "start_time": "2025-01-25T17:20:28.427Z"
   },
   {
    "duration": 162,
    "start_time": "2025-01-25T17:20:28.433Z"
   },
   {
    "duration": 244,
    "start_time": "2025-01-25T17:20:28.596Z"
   },
   {
    "duration": 7,
    "start_time": "2025-01-25T17:20:28.842Z"
   },
   {
    "duration": 174,
    "start_time": "2025-01-25T17:20:28.857Z"
   },
   {
    "duration": 8,
    "start_time": "2025-01-25T17:20:29.032Z"
   },
   {
    "duration": 387,
    "start_time": "2025-01-25T17:20:29.058Z"
   },
   {
    "duration": 0,
    "start_time": "2025-01-25T17:20:29.447Z"
   },
   {
    "duration": 0,
    "start_time": "2025-01-25T17:20:29.458Z"
   },
   {
    "duration": 0,
    "start_time": "2025-01-25T17:20:29.459Z"
   },
   {
    "duration": 0,
    "start_time": "2025-01-25T17:20:29.460Z"
   },
   {
    "duration": 0,
    "start_time": "2025-01-25T17:20:29.462Z"
   },
   {
    "duration": 0,
    "start_time": "2025-01-25T17:20:29.463Z"
   },
   {
    "duration": 20,
    "start_time": "2025-01-25T17:21:23.787Z"
   },
   {
    "duration": 528,
    "start_time": "2025-01-25T17:21:25.918Z"
   },
   {
    "duration": 6,
    "start_time": "2025-01-25T17:21:27.595Z"
   },
   {
    "duration": 42,
    "start_time": "2025-01-25T17:22:07.718Z"
   },
   {
    "duration": 37,
    "start_time": "2025-01-25T17:23:14.363Z"
   },
   {
    "duration": 11,
    "start_time": "2025-01-25T17:23:20.174Z"
   },
   {
    "duration": 5,
    "start_time": "2025-01-25T17:23:20.625Z"
   },
   {
    "duration": 609,
    "start_time": "2025-01-25T17:23:21.079Z"
   },
   {
    "duration": 345,
    "start_time": "2025-01-25T17:26:03.686Z"
   },
   {
    "duration": 250,
    "start_time": "2025-01-25T17:27:19.063Z"
   },
   {
    "duration": 362,
    "start_time": "2025-01-25T17:28:17.596Z"
   },
   {
    "duration": 331,
    "start_time": "2025-01-25T17:29:10.391Z"
   },
   {
    "duration": 443,
    "start_time": "2025-01-25T17:29:16.543Z"
   },
   {
    "duration": 28,
    "start_time": "2025-01-25T17:33:13.847Z"
   },
   {
    "duration": 5,
    "start_time": "2025-01-25T17:34:22.977Z"
   },
   {
    "duration": 5,
    "start_time": "2025-01-25T17:34:27.492Z"
   },
   {
    "duration": 91273,
    "start_time": "2025-01-25T17:34:29.203Z"
   },
   {
    "duration": 1203,
    "start_time": "2025-01-25T17:51:58.585Z"
   },
   {
    "duration": 30,
    "start_time": "2025-01-25T17:51:59.790Z"
   },
   {
    "duration": 55,
    "start_time": "2025-01-25T17:51:59.821Z"
   },
   {
    "duration": 7,
    "start_time": "2025-01-25T17:51:59.879Z"
   },
   {
    "duration": 10,
    "start_time": "2025-01-25T17:51:59.888Z"
   },
   {
    "duration": 21,
    "start_time": "2025-01-25T17:51:59.899Z"
   },
   {
    "duration": 464,
    "start_time": "2025-01-25T17:51:59.922Z"
   },
   {
    "duration": 422,
    "start_time": "2025-01-25T17:52:00.389Z"
   },
   {
    "duration": 5,
    "start_time": "2025-01-25T17:52:00.813Z"
   },
   {
    "duration": 16,
    "start_time": "2025-01-25T17:52:00.819Z"
   },
   {
    "duration": 463,
    "start_time": "2025-01-25T17:52:00.836Z"
   },
   {
    "duration": 417,
    "start_time": "2025-01-25T17:52:01.300Z"
   },
   {
    "duration": 5,
    "start_time": "2025-01-25T17:52:01.720Z"
   },
   {
    "duration": 587,
    "start_time": "2025-01-25T17:52:01.729Z"
   },
   {
    "duration": 5,
    "start_time": "2025-01-25T17:52:02.318Z"
   },
   {
    "duration": 177,
    "start_time": "2025-01-25T17:52:02.324Z"
   },
   {
    "duration": 272,
    "start_time": "2025-01-25T17:52:02.503Z"
   },
   {
    "duration": 10,
    "start_time": "2025-01-25T17:52:02.780Z"
   },
   {
    "duration": 186,
    "start_time": "2025-01-25T17:52:02.791Z"
   },
   {
    "duration": 8,
    "start_time": "2025-01-25T17:52:02.979Z"
   },
   {
    "duration": 492,
    "start_time": "2025-01-25T17:52:02.990Z"
   },
   {
    "duration": 0,
    "start_time": "2025-01-25T17:52:03.486Z"
   },
   {
    "duration": 0,
    "start_time": "2025-01-25T17:52:03.488Z"
   },
   {
    "duration": 0,
    "start_time": "2025-01-25T17:52:03.490Z"
   },
   {
    "duration": 0,
    "start_time": "2025-01-25T17:52:03.491Z"
   },
   {
    "duration": 0,
    "start_time": "2025-01-25T17:52:03.493Z"
   },
   {
    "duration": 0,
    "start_time": "2025-01-25T17:52:03.494Z"
   },
   {
    "duration": 1202,
    "start_time": "2025-01-25T17:52:17.748Z"
   },
   {
    "duration": 42,
    "start_time": "2025-01-25T17:52:18.956Z"
   },
   {
    "duration": 42,
    "start_time": "2025-01-25T17:52:19.001Z"
   },
   {
    "duration": 8,
    "start_time": "2025-01-25T17:52:19.055Z"
   },
   {
    "duration": 12,
    "start_time": "2025-01-25T17:52:19.067Z"
   },
   {
    "duration": 8,
    "start_time": "2025-01-25T17:52:19.080Z"
   },
   {
    "duration": 443,
    "start_time": "2025-01-25T17:52:19.090Z"
   },
   {
    "duration": 452,
    "start_time": "2025-01-25T17:52:19.535Z"
   },
   {
    "duration": 6,
    "start_time": "2025-01-25T17:52:19.989Z"
   },
   {
    "duration": 12,
    "start_time": "2025-01-25T17:52:19.999Z"
   },
   {
    "duration": 426,
    "start_time": "2025-01-25T17:52:20.013Z"
   },
   {
    "duration": 479,
    "start_time": "2025-01-25T17:52:20.441Z"
   },
   {
    "duration": 5,
    "start_time": "2025-01-25T17:52:20.922Z"
   },
   {
    "duration": 506,
    "start_time": "2025-01-25T17:52:20.928Z"
   },
   {
    "duration": 5,
    "start_time": "2025-01-25T17:52:21.435Z"
   },
   {
    "duration": 179,
    "start_time": "2025-01-25T17:52:21.441Z"
   },
   {
    "duration": 268,
    "start_time": "2025-01-25T17:52:21.621Z"
   },
   {
    "duration": 8,
    "start_time": "2025-01-25T17:52:21.892Z"
   },
   {
    "duration": 205,
    "start_time": "2025-01-25T17:52:21.902Z"
   },
   {
    "duration": 7,
    "start_time": "2025-01-25T17:52:22.109Z"
   },
   {
    "duration": 875,
    "start_time": "2025-01-25T17:52:22.118Z"
   },
   {
    "duration": 4,
    "start_time": "2025-01-25T17:52:22.995Z"
   },
   {
    "duration": 8,
    "start_time": "2025-01-25T17:52:23.001Z"
   },
   {
    "duration": 619,
    "start_time": "2025-01-25T17:52:23.011Z"
   },
   {
    "duration": 161,
    "start_time": "2025-01-25T17:52:23.632Z"
   },
   {
    "duration": 0,
    "start_time": "2025-01-25T17:52:23.795Z"
   },
   {
    "duration": 0,
    "start_time": "2025-01-25T17:52:23.796Z"
   },
   {
    "duration": 1187,
    "start_time": "2025-01-25T17:52:43.612Z"
   },
   {
    "duration": 30,
    "start_time": "2025-01-25T17:52:44.801Z"
   },
   {
    "duration": 46,
    "start_time": "2025-01-25T17:52:44.832Z"
   },
   {
    "duration": 4,
    "start_time": "2025-01-25T17:52:44.881Z"
   },
   {
    "duration": 8,
    "start_time": "2025-01-25T17:52:44.889Z"
   },
   {
    "duration": 6,
    "start_time": "2025-01-25T17:52:44.899Z"
   },
   {
    "duration": 468,
    "start_time": "2025-01-25T17:52:44.907Z"
   },
   {
    "duration": 428,
    "start_time": "2025-01-25T17:52:45.380Z"
   },
   {
    "duration": 5,
    "start_time": "2025-01-25T17:52:45.809Z"
   },
   {
    "duration": 36,
    "start_time": "2025-01-25T17:52:45.816Z"
   },
   {
    "duration": 456,
    "start_time": "2025-01-25T17:52:45.853Z"
   },
   {
    "duration": 430,
    "start_time": "2025-01-25T17:52:46.310Z"
   },
   {
    "duration": 4,
    "start_time": "2025-01-25T17:52:46.742Z"
   },
   {
    "duration": 560,
    "start_time": "2025-01-25T17:52:46.756Z"
   },
   {
    "duration": 4,
    "start_time": "2025-01-25T17:52:47.318Z"
   },
   {
    "duration": 199,
    "start_time": "2025-01-25T17:52:47.323Z"
   },
   {
    "duration": 257,
    "start_time": "2025-01-25T17:52:47.524Z"
   },
   {
    "duration": 9,
    "start_time": "2025-01-25T17:52:47.785Z"
   },
   {
    "duration": 198,
    "start_time": "2025-01-25T17:52:47.796Z"
   },
   {
    "duration": 5,
    "start_time": "2025-01-25T17:52:47.996Z"
   },
   {
    "duration": 887,
    "start_time": "2025-01-25T17:52:48.003Z"
   },
   {
    "duration": 3,
    "start_time": "2025-01-25T17:52:48.892Z"
   },
   {
    "duration": 28,
    "start_time": "2025-01-25T17:52:48.897Z"
   },
   {
    "duration": 627,
    "start_time": "2025-01-25T17:52:48.927Z"
   },
   {
    "duration": 9,
    "start_time": "2025-01-25T17:52:49.557Z"
   },
   {
    "duration": 159,
    "start_time": "2025-01-25T17:52:49.568Z"
   },
   {
    "duration": 1157,
    "start_time": "2025-01-25T17:55:24.517Z"
   },
   {
    "duration": 32,
    "start_time": "2025-01-25T17:55:25.680Z"
   },
   {
    "duration": 55,
    "start_time": "2025-01-25T17:55:25.714Z"
   },
   {
    "duration": 7,
    "start_time": "2025-01-25T17:55:25.772Z"
   },
   {
    "duration": 15,
    "start_time": "2025-01-25T17:55:25.781Z"
   },
   {
    "duration": 6,
    "start_time": "2025-01-25T17:55:25.798Z"
   },
   {
    "duration": 430,
    "start_time": "2025-01-25T17:55:25.805Z"
   },
   {
    "duration": 407,
    "start_time": "2025-01-25T17:55:26.236Z"
   },
   {
    "duration": 13,
    "start_time": "2025-01-25T17:55:26.644Z"
   },
   {
    "duration": 12,
    "start_time": "2025-01-25T17:55:26.660Z"
   },
   {
    "duration": 422,
    "start_time": "2025-01-25T17:55:26.678Z"
   },
   {
    "duration": 471,
    "start_time": "2025-01-25T17:55:27.102Z"
   },
   {
    "duration": 7,
    "start_time": "2025-01-25T17:55:27.575Z"
   },
   {
    "duration": 528,
    "start_time": "2025-01-25T17:55:27.584Z"
   },
   {
    "duration": 4,
    "start_time": "2025-01-25T17:55:28.114Z"
   },
   {
    "duration": 168,
    "start_time": "2025-01-25T17:55:28.119Z"
   },
   {
    "duration": 236,
    "start_time": "2025-01-25T17:55:28.289Z"
   },
   {
    "duration": 8,
    "start_time": "2025-01-25T17:55:28.527Z"
   },
   {
    "duration": 188,
    "start_time": "2025-01-25T17:55:28.537Z"
   },
   {
    "duration": 6,
    "start_time": "2025-01-25T17:55:28.727Z"
   },
   {
    "duration": 789,
    "start_time": "2025-01-25T17:55:28.735Z"
   },
   {
    "duration": 3,
    "start_time": "2025-01-25T17:55:29.526Z"
   },
   {
    "duration": 9,
    "start_time": "2025-01-25T17:55:29.531Z"
   },
   {
    "duration": 639,
    "start_time": "2025-01-25T17:55:29.541Z"
   },
   {
    "duration": 6,
    "start_time": "2025-01-25T17:55:30.184Z"
   },
   {
    "duration": 197,
    "start_time": "2025-01-25T17:55:30.192Z"
   },
   {
    "duration": 5,
    "start_time": "2025-01-25T17:56:09.296Z"
   },
   {
    "duration": 8,
    "start_time": "2025-01-25T17:56:17.935Z"
   },
   {
    "duration": 1193,
    "start_time": "2025-01-25T17:57:52.594Z"
   },
   {
    "duration": 31,
    "start_time": "2025-01-25T17:57:53.789Z"
   },
   {
    "duration": 65,
    "start_time": "2025-01-25T17:57:53.822Z"
   },
   {
    "duration": 4,
    "start_time": "2025-01-25T17:57:53.889Z"
   },
   {
    "duration": 7,
    "start_time": "2025-01-25T17:57:53.894Z"
   },
   {
    "duration": 22,
    "start_time": "2025-01-25T17:57:53.902Z"
   },
   {
    "duration": 511,
    "start_time": "2025-01-25T17:57:53.926Z"
   },
   {
    "duration": 468,
    "start_time": "2025-01-25T17:57:54.439Z"
   },
   {
    "duration": 7,
    "start_time": "2025-01-25T17:57:54.910Z"
   },
   {
    "duration": 65,
    "start_time": "2025-01-25T17:57:54.921Z"
   },
   {
    "duration": 430,
    "start_time": "2025-01-25T17:57:54.988Z"
   },
   {
    "duration": 501,
    "start_time": "2025-01-25T17:57:55.419Z"
   },
   {
    "duration": 4,
    "start_time": "2025-01-25T17:57:55.922Z"
   },
   {
    "duration": 509,
    "start_time": "2025-01-25T17:57:55.928Z"
   },
   {
    "duration": 4,
    "start_time": "2025-01-25T17:57:56.439Z"
   },
   {
    "duration": 165,
    "start_time": "2025-01-25T17:57:56.444Z"
   },
   {
    "duration": 265,
    "start_time": "2025-01-25T17:57:56.610Z"
   },
   {
    "duration": 12,
    "start_time": "2025-01-25T17:57:56.876Z"
   },
   {
    "duration": 211,
    "start_time": "2025-01-25T17:57:56.890Z"
   },
   {
    "duration": 6,
    "start_time": "2025-01-25T17:57:57.103Z"
   },
   {
    "duration": 883,
    "start_time": "2025-01-25T17:57:57.111Z"
   },
   {
    "duration": 4,
    "start_time": "2025-01-25T17:57:57.996Z"
   },
   {
    "duration": 9,
    "start_time": "2025-01-25T17:57:58.001Z"
   },
   {
    "duration": 622,
    "start_time": "2025-01-25T17:57:58.011Z"
   },
   {
    "duration": 4,
    "start_time": "2025-01-25T17:57:58.634Z"
   },
   {
    "duration": 23,
    "start_time": "2025-01-25T17:57:58.639Z"
   },
   {
    "duration": 475210,
    "start_time": "2025-01-25T17:57:58.664Z"
   },
   {
    "duration": 149,
    "start_time": "2025-01-25T18:05:53.880Z"
   },
   {
    "duration": 0,
    "start_time": "2025-01-25T18:05:54.031Z"
   },
   {
    "duration": 0,
    "start_time": "2025-01-25T18:05:54.032Z"
   },
   {
    "duration": 1223,
    "start_time": "2025-01-25T18:07:08.183Z"
   },
   {
    "duration": 42,
    "start_time": "2025-01-25T18:07:09.408Z"
   },
   {
    "duration": 46,
    "start_time": "2025-01-25T18:07:09.452Z"
   },
   {
    "duration": 4,
    "start_time": "2025-01-25T18:07:09.499Z"
   },
   {
    "duration": 5,
    "start_time": "2025-01-25T18:07:09.505Z"
   },
   {
    "duration": 5,
    "start_time": "2025-01-25T18:07:09.511Z"
   },
   {
    "duration": 520,
    "start_time": "2025-01-25T18:07:09.518Z"
   },
   {
    "duration": 471,
    "start_time": "2025-01-25T18:07:10.040Z"
   },
   {
    "duration": 6,
    "start_time": "2025-01-25T18:07:10.513Z"
   },
   {
    "duration": 4,
    "start_time": "2025-01-25T18:07:10.520Z"
   },
   {
    "duration": 490,
    "start_time": "2025-01-25T18:07:10.525Z"
   },
   {
    "duration": 419,
    "start_time": "2025-01-25T18:07:11.017Z"
   },
   {
    "duration": 5,
    "start_time": "2025-01-25T18:07:11.438Z"
   },
   {
    "duration": 500,
    "start_time": "2025-01-25T18:07:11.463Z"
   },
   {
    "duration": 6,
    "start_time": "2025-01-25T18:07:11.969Z"
   },
   {
    "duration": 165,
    "start_time": "2025-01-25T18:07:11.976Z"
   },
   {
    "duration": 251,
    "start_time": "2025-01-25T18:07:12.143Z"
   },
   {
    "duration": 9,
    "start_time": "2025-01-25T18:07:12.396Z"
   },
   {
    "duration": 194,
    "start_time": "2025-01-25T18:07:12.407Z"
   },
   {
    "duration": 6,
    "start_time": "2025-01-25T18:07:12.602Z"
   },
   {
    "duration": 835,
    "start_time": "2025-01-25T18:07:12.610Z"
   },
   {
    "duration": 9,
    "start_time": "2025-01-25T18:07:13.447Z"
   },
   {
    "duration": 28,
    "start_time": "2025-01-25T18:07:13.458Z"
   },
   {
    "duration": 629,
    "start_time": "2025-01-25T18:07:13.488Z"
   },
   {
    "duration": 3,
    "start_time": "2025-01-25T18:07:14.119Z"
   },
   {
    "duration": 35,
    "start_time": "2025-01-25T18:07:14.124Z"
   },
   {
    "duration": 13539,
    "start_time": "2025-01-25T18:07:14.161Z"
   },
   {
    "duration": 0,
    "start_time": "2025-01-25T18:07:27.701Z"
   },
   {
    "duration": 0,
    "start_time": "2025-01-25T18:07:27.703Z"
   },
   {
    "duration": 0,
    "start_time": "2025-01-25T18:07:27.704Z"
   },
   {
    "duration": 0,
    "start_time": "2025-01-25T18:07:27.705Z"
   },
   {
    "duration": 0,
    "start_time": "2025-01-25T18:07:27.706Z"
   },
   {
    "duration": 0,
    "start_time": "2025-01-25T18:07:27.708Z"
   },
   {
    "duration": 1287,
    "start_time": "2025-01-25T18:08:02.184Z"
   },
   {
    "duration": 55,
    "start_time": "2025-01-25T18:08:03.473Z"
   },
   {
    "duration": 54,
    "start_time": "2025-01-25T18:08:03.531Z"
   },
   {
    "duration": 3,
    "start_time": "2025-01-25T18:08:03.590Z"
   },
   {
    "duration": 18,
    "start_time": "2025-01-25T18:08:03.595Z"
   },
   {
    "duration": 19,
    "start_time": "2025-01-25T18:08:03.615Z"
   },
   {
    "duration": 466,
    "start_time": "2025-01-25T18:08:03.636Z"
   },
   {
    "duration": 441,
    "start_time": "2025-01-25T18:08:04.104Z"
   },
   {
    "duration": 21,
    "start_time": "2025-01-25T18:08:04.547Z"
   },
   {
    "duration": 11,
    "start_time": "2025-01-25T18:08:04.576Z"
   },
   {
    "duration": 414,
    "start_time": "2025-01-25T18:08:04.589Z"
   },
   {
    "duration": 436,
    "start_time": "2025-01-25T18:08:05.007Z"
   },
   {
    "duration": 22,
    "start_time": "2025-01-25T18:08:05.444Z"
   },
   {
    "duration": 551,
    "start_time": "2025-01-25T18:08:05.471Z"
   },
   {
    "duration": 5,
    "start_time": "2025-01-25T18:08:06.024Z"
   },
   {
    "duration": 179,
    "start_time": "2025-01-25T18:08:06.031Z"
   },
   {
    "duration": 265,
    "start_time": "2025-01-25T18:08:06.212Z"
   },
   {
    "duration": 10,
    "start_time": "2025-01-25T18:08:06.478Z"
   },
   {
    "duration": 178,
    "start_time": "2025-01-25T18:08:06.490Z"
   },
   {
    "duration": 8,
    "start_time": "2025-01-25T18:08:06.675Z"
   },
   {
    "duration": 852,
    "start_time": "2025-01-25T18:08:06.685Z"
   },
   {
    "duration": 4,
    "start_time": "2025-01-25T18:08:07.539Z"
   },
   {
    "duration": 26,
    "start_time": "2025-01-25T18:08:07.545Z"
   },
   {
    "duration": 646,
    "start_time": "2025-01-25T18:08:07.573Z"
   },
   {
    "duration": 4,
    "start_time": "2025-01-25T18:08:08.221Z"
   },
   {
    "duration": 5,
    "start_time": "2025-01-25T18:08:08.226Z"
   },
   {
    "duration": 400,
    "start_time": "2025-01-25T18:08:08.233Z"
   },
   {
    "duration": 0,
    "start_time": "2025-01-25T18:08:08.634Z"
   },
   {
    "duration": 0,
    "start_time": "2025-01-25T18:08:08.636Z"
   },
   {
    "duration": 0,
    "start_time": "2025-01-25T18:08:08.637Z"
   },
   {
    "duration": 0,
    "start_time": "2025-01-25T18:08:08.638Z"
   },
   {
    "duration": 0,
    "start_time": "2025-01-25T18:08:08.639Z"
   },
   {
    "duration": 1193,
    "start_time": "2025-01-25T18:08:25.082Z"
   },
   {
    "duration": 29,
    "start_time": "2025-01-25T18:08:26.281Z"
   },
   {
    "duration": 38,
    "start_time": "2025-01-25T18:08:26.314Z"
   },
   {
    "duration": 13,
    "start_time": "2025-01-25T18:08:26.359Z"
   },
   {
    "duration": 10,
    "start_time": "2025-01-25T18:08:26.377Z"
   },
   {
    "duration": 6,
    "start_time": "2025-01-25T18:08:26.389Z"
   },
   {
    "duration": 450,
    "start_time": "2025-01-25T18:08:26.397Z"
   },
   {
    "duration": 452,
    "start_time": "2025-01-25T18:08:26.848Z"
   },
   {
    "duration": 6,
    "start_time": "2025-01-25T18:08:27.302Z"
   },
   {
    "duration": 5,
    "start_time": "2025-01-25T18:08:27.309Z"
   },
   {
    "duration": 420,
    "start_time": "2025-01-25T18:08:27.315Z"
   },
   {
    "duration": 456,
    "start_time": "2025-01-25T18:08:27.737Z"
   },
   {
    "duration": 6,
    "start_time": "2025-01-25T18:08:28.196Z"
   },
   {
    "duration": 520,
    "start_time": "2025-01-25T18:08:28.204Z"
   },
   {
    "duration": 4,
    "start_time": "2025-01-25T18:08:28.726Z"
   },
   {
    "duration": 172,
    "start_time": "2025-01-25T18:08:28.732Z"
   },
   {
    "duration": 274,
    "start_time": "2025-01-25T18:08:28.906Z"
   },
   {
    "duration": 14,
    "start_time": "2025-01-25T18:08:29.182Z"
   },
   {
    "duration": 199,
    "start_time": "2025-01-25T18:08:29.198Z"
   },
   {
    "duration": 6,
    "start_time": "2025-01-25T18:08:29.399Z"
   },
   {
    "duration": 833,
    "start_time": "2025-01-25T18:08:29.407Z"
   },
   {
    "duration": 19,
    "start_time": "2025-01-25T18:08:30.242Z"
   },
   {
    "duration": 17,
    "start_time": "2025-01-25T18:08:30.262Z"
   },
   {
    "duration": 649,
    "start_time": "2025-01-25T18:08:30.280Z"
   },
   {
    "duration": 4,
    "start_time": "2025-01-25T18:08:30.930Z"
   },
   {
    "duration": 24,
    "start_time": "2025-01-25T18:08:30.935Z"
   },
   {
    "duration": 648402,
    "start_time": "2025-01-25T18:08:30.961Z"
   },
   {
    "duration": 1189501,
    "start_time": "2025-01-25T18:19:19.365Z"
   },
   {
    "duration": 1182,
    "start_time": "2025-01-25T18:48:55.692Z"
   },
   {
    "duration": 44,
    "start_time": "2025-01-25T18:48:56.876Z"
   },
   {
    "duration": 65,
    "start_time": "2025-01-25T18:48:56.922Z"
   },
   {
    "duration": 4,
    "start_time": "2025-01-25T18:48:56.993Z"
   },
   {
    "duration": 9,
    "start_time": "2025-01-25T18:48:56.999Z"
   },
   {
    "duration": 5,
    "start_time": "2025-01-25T18:48:57.009Z"
   },
   {
    "duration": 425,
    "start_time": "2025-01-25T18:48:57.015Z"
   },
   {
    "duration": 450,
    "start_time": "2025-01-25T18:48:57.442Z"
   },
   {
    "duration": 6,
    "start_time": "2025-01-25T18:48:57.895Z"
   },
   {
    "duration": 6,
    "start_time": "2025-01-25T18:48:57.902Z"
   },
   {
    "duration": 411,
    "start_time": "2025-01-25T18:48:57.909Z"
   },
   {
    "duration": 417,
    "start_time": "2025-01-25T18:48:58.322Z"
   },
   {
    "duration": 4,
    "start_time": "2025-01-25T18:48:58.741Z"
   },
   {
    "duration": 473,
    "start_time": "2025-01-25T18:48:58.755Z"
   },
   {
    "duration": 4,
    "start_time": "2025-01-25T18:48:59.230Z"
   },
   {
    "duration": 176,
    "start_time": "2025-01-25T18:48:59.235Z"
   },
   {
    "duration": 263,
    "start_time": "2025-01-25T18:48:59.413Z"
   },
   {
    "duration": 16,
    "start_time": "2025-01-25T18:48:59.677Z"
   },
   {
    "duration": 188,
    "start_time": "2025-01-25T18:48:59.695Z"
   },
   {
    "duration": 8,
    "start_time": "2025-01-25T18:48:59.887Z"
   },
   {
    "duration": 819,
    "start_time": "2025-01-25T18:48:59.897Z"
   },
   {
    "duration": 3,
    "start_time": "2025-01-25T18:49:00.718Z"
   },
   {
    "duration": 5,
    "start_time": "2025-01-25T18:49:00.722Z"
   },
   {
    "duration": 655,
    "start_time": "2025-01-25T18:49:00.729Z"
   },
   {
    "duration": 5,
    "start_time": "2025-01-25T18:49:01.390Z"
   },
   {
    "duration": 23,
    "start_time": "2025-01-25T18:49:01.397Z"
   },
   {
    "duration": 70385,
    "start_time": "2025-01-25T18:49:01.421Z"
   },
   {
    "duration": 360,
    "start_time": "2025-01-25T18:50:11.873Z"
   },
   {
    "duration": 176,
    "start_time": "2025-01-25T18:50:12.235Z"
   },
   {
    "duration": 542562,
    "start_time": "2025-01-25T18:55:00.432Z"
   },
   {
    "duration": 39511,
    "start_time": "2025-01-25T19:06:13.950Z"
   },
   {
    "duration": 362,
    "start_time": "2025-01-25T19:06:53.462Z"
   },
   {
    "duration": 4,
    "start_time": "2025-01-25T19:10:08.783Z"
   },
   {
    "duration": 3,
    "start_time": "2025-01-25T19:10:36.300Z"
   },
   {
    "duration": 403,
    "start_time": "2025-01-25T19:10:36.970Z"
   },
   {
    "duration": 481,
    "start_time": "2025-01-25T19:10:40.034Z"
   },
   {
    "duration": 1102,
    "start_time": "2025-01-25T19:11:03.053Z"
   },
   {
    "duration": 31,
    "start_time": "2025-01-25T19:11:04.157Z"
   },
   {
    "duration": 36,
    "start_time": "2025-01-25T19:11:04.189Z"
   },
   {
    "duration": 3,
    "start_time": "2025-01-25T19:11:04.227Z"
   },
   {
    "duration": 23,
    "start_time": "2025-01-25T19:11:04.232Z"
   },
   {
    "duration": 12,
    "start_time": "2025-01-25T19:11:04.257Z"
   },
   {
    "duration": 440,
    "start_time": "2025-01-25T19:11:04.271Z"
   },
   {
    "duration": 381,
    "start_time": "2025-01-25T19:11:04.712Z"
   },
   {
    "duration": 5,
    "start_time": "2025-01-25T19:11:05.095Z"
   },
   {
    "duration": 17,
    "start_time": "2025-01-25T19:11:05.102Z"
   },
   {
    "duration": 389,
    "start_time": "2025-01-25T19:11:05.120Z"
   },
   {
    "duration": 408,
    "start_time": "2025-01-25T19:11:05.511Z"
   },
   {
    "duration": 6,
    "start_time": "2025-01-25T19:11:05.921Z"
   },
   {
    "duration": 37,
    "start_time": "2025-01-25T19:11:05.929Z"
   },
   {
    "duration": 482,
    "start_time": "2025-01-25T19:11:05.967Z"
   },
   {
    "duration": 11,
    "start_time": "2025-01-25T19:11:06.450Z"
   },
   {
    "duration": 135,
    "start_time": "2025-01-25T19:11:06.468Z"
   },
   {
    "duration": 213,
    "start_time": "2025-01-25T19:11:06.605Z"
   },
   {
    "duration": 13,
    "start_time": "2025-01-25T19:11:06.819Z"
   },
   {
    "duration": 175,
    "start_time": "2025-01-25T19:11:06.834Z"
   },
   {
    "duration": 8,
    "start_time": "2025-01-25T19:11:07.011Z"
   },
   {
    "duration": 797,
    "start_time": "2025-01-25T19:11:07.021Z"
   },
   {
    "duration": 4,
    "start_time": "2025-01-25T19:11:07.819Z"
   },
   {
    "duration": 21,
    "start_time": "2025-01-25T19:11:07.824Z"
   },
   {
    "duration": 480,
    "start_time": "2025-01-25T19:11:07.847Z"
   },
   {
    "duration": 142,
    "start_time": "2025-01-25T19:11:08.328Z"
   },
   {
    "duration": 0,
    "start_time": "2025-01-25T19:11:08.474Z"
   },
   {
    "duration": 0,
    "start_time": "2025-01-25T19:11:08.475Z"
   },
   {
    "duration": 0,
    "start_time": "2025-01-25T19:11:08.476Z"
   },
   {
    "duration": 0,
    "start_time": "2025-01-25T19:11:08.478Z"
   },
   {
    "duration": 0,
    "start_time": "2025-01-25T19:11:08.478Z"
   },
   {
    "duration": 511,
    "start_time": "2025-01-25T19:12:59.674Z"
   },
   {
    "duration": 223,
    "start_time": "2025-01-25T19:13:01.418Z"
   },
   {
    "duration": 501,
    "start_time": "2025-01-25T19:13:16.966Z"
   },
   {
    "duration": 225,
    "start_time": "2025-01-25T19:13:17.508Z"
   },
   {
    "duration": 299,
    "start_time": "2025-01-25T19:14:10.334Z"
   },
   {
    "duration": 5,
    "start_time": "2025-01-25T19:15:35.927Z"
   },
   {
    "duration": 1112,
    "start_time": "2025-01-25T19:17:16.993Z"
   },
   {
    "duration": 29,
    "start_time": "2025-01-25T19:17:18.107Z"
   },
   {
    "duration": 41,
    "start_time": "2025-01-25T19:17:18.137Z"
   },
   {
    "duration": 3,
    "start_time": "2025-01-25T19:17:18.180Z"
   },
   {
    "duration": 5,
    "start_time": "2025-01-25T19:17:18.184Z"
   },
   {
    "duration": 5,
    "start_time": "2025-01-25T19:17:18.190Z"
   },
   {
    "duration": 464,
    "start_time": "2025-01-25T19:17:18.197Z"
   },
   {
    "duration": 437,
    "start_time": "2025-01-25T19:17:18.662Z"
   },
   {
    "duration": 6,
    "start_time": "2025-01-25T19:17:19.101Z"
   },
   {
    "duration": 3,
    "start_time": "2025-01-25T19:17:19.110Z"
   },
   {
    "duration": 431,
    "start_time": "2025-01-25T19:17:19.115Z"
   },
   {
    "duration": 443,
    "start_time": "2025-01-25T19:17:19.547Z"
   },
   {
    "duration": 4,
    "start_time": "2025-01-25T19:17:19.992Z"
   },
   {
    "duration": 4,
    "start_time": "2025-01-25T19:17:19.998Z"
   },
   {
    "duration": 491,
    "start_time": "2025-01-25T19:17:20.003Z"
   },
   {
    "duration": 4,
    "start_time": "2025-01-25T19:17:20.495Z"
   },
   {
    "duration": 143,
    "start_time": "2025-01-25T19:17:20.501Z"
   },
   {
    "duration": 212,
    "start_time": "2025-01-25T19:17:20.653Z"
   },
   {
    "duration": 8,
    "start_time": "2025-01-25T19:17:20.868Z"
   },
   {
    "duration": 168,
    "start_time": "2025-01-25T19:17:20.877Z"
   },
   {
    "duration": 18,
    "start_time": "2025-01-25T19:17:21.047Z"
   },
   {
    "duration": 732,
    "start_time": "2025-01-25T19:17:21.067Z"
   },
   {
    "duration": 3,
    "start_time": "2025-01-25T19:17:21.801Z"
   },
   {
    "duration": 9,
    "start_time": "2025-01-25T19:17:21.805Z"
   },
   {
    "duration": 493,
    "start_time": "2025-01-25T19:17:21.815Z"
   },
   {
    "duration": 315,
    "start_time": "2025-01-25T19:17:22.310Z"
   },
   {
    "duration": 6,
    "start_time": "2025-01-25T19:17:22.627Z"
   },
   {
    "duration": 18,
    "start_time": "2025-01-25T19:17:22.637Z"
   },
   {
    "duration": 9,
    "start_time": "2025-01-25T19:17:22.661Z"
   },
   {
    "duration": 105535,
    "start_time": "2025-01-25T19:17:22.672Z"
   },
   {
    "duration": 0,
    "start_time": "2025-01-25T19:19:08.208Z"
   },
   {
    "duration": 0,
    "start_time": "2025-01-25T19:19:08.210Z"
   },
   {
    "duration": 14,
    "start_time": "2025-01-25T19:19:54.562Z"
   },
   {
    "duration": 5,
    "start_time": "2025-01-25T19:20:02.966Z"
   },
   {
    "duration": 5,
    "start_time": "2025-01-25T19:20:08.305Z"
   },
   {
    "duration": 1780,
    "start_time": "2025-01-25T19:20:51.003Z"
   },
   {
    "duration": 30,
    "start_time": "2025-01-25T19:20:52.784Z"
   },
   {
    "duration": 51,
    "start_time": "2025-01-25T19:20:52.816Z"
   },
   {
    "duration": 4,
    "start_time": "2025-01-25T19:20:52.869Z"
   },
   {
    "duration": 7,
    "start_time": "2025-01-25T19:20:52.874Z"
   },
   {
    "duration": 5,
    "start_time": "2025-01-25T19:20:52.882Z"
   },
   {
    "duration": 426,
    "start_time": "2025-01-25T19:20:52.888Z"
   },
   {
    "duration": 391,
    "start_time": "2025-01-25T19:20:53.316Z"
   },
   {
    "duration": 12,
    "start_time": "2025-01-25T19:20:53.709Z"
   },
   {
    "duration": 5,
    "start_time": "2025-01-25T19:20:53.723Z"
   },
   {
    "duration": 399,
    "start_time": "2025-01-25T19:20:53.729Z"
   },
   {
    "duration": 412,
    "start_time": "2025-01-25T19:20:54.129Z"
   },
   {
    "duration": 5,
    "start_time": "2025-01-25T19:20:54.542Z"
   },
   {
    "duration": 9,
    "start_time": "2025-01-25T19:20:54.556Z"
   },
   {
    "duration": 404,
    "start_time": "2025-01-25T19:20:54.569Z"
   },
   {
    "duration": 4,
    "start_time": "2025-01-25T19:20:54.975Z"
   },
   {
    "duration": 229,
    "start_time": "2025-01-25T19:20:54.980Z"
   },
   {
    "duration": 223,
    "start_time": "2025-01-25T19:20:55.210Z"
   },
   {
    "duration": 30,
    "start_time": "2025-01-25T19:20:55.435Z"
   },
   {
    "duration": 158,
    "start_time": "2025-01-25T19:20:55.467Z"
   },
   {
    "duration": 7,
    "start_time": "2025-01-25T19:20:55.627Z"
   },
   {
    "duration": 43,
    "start_time": "2025-01-25T19:20:55.636Z"
   },
   {
    "duration": 4,
    "start_time": "2025-01-25T19:20:55.680Z"
   },
   {
    "duration": 11,
    "start_time": "2025-01-25T19:20:55.686Z"
   },
   {
    "duration": 492,
    "start_time": "2025-01-25T19:20:55.698Z"
   },
   {
    "duration": 323,
    "start_time": "2025-01-25T19:20:56.192Z"
   },
   {
    "duration": 5,
    "start_time": "2025-01-25T19:20:56.516Z"
   },
   {
    "duration": 9,
    "start_time": "2025-01-25T19:20:56.524Z"
   },
   {
    "duration": 24,
    "start_time": "2025-01-25T19:20:56.534Z"
   },
   {
    "duration": 290204,
    "start_time": "2025-01-25T19:20:56.559Z"
   },
   {
    "duration": 33203,
    "start_time": "2025-01-25T19:25:46.768Z"
   },
   {
    "duration": 362,
    "start_time": "2025-01-25T19:26:19.974Z"
   },
   {
    "duration": 33838,
    "start_time": "2025-01-25T19:26:45.842Z"
   },
   {
    "duration": 306,
    "start_time": "2025-01-25T19:27:34.498Z"
   },
   {
    "duration": 339,
    "start_time": "2025-01-25T19:28:39.357Z"
   },
   {
    "duration": 399,
    "start_time": "2025-01-25T19:29:58.374Z"
   },
   {
    "duration": 306,
    "start_time": "2025-01-25T19:32:03.700Z"
   },
   {
    "duration": 311,
    "start_time": "2025-01-25T19:32:20.773Z"
   },
   {
    "duration": 305,
    "start_time": "2025-01-25T19:33:56.981Z"
   },
   {
    "duration": 327,
    "start_time": "2025-01-25T19:34:04.402Z"
   },
   {
    "duration": 423,
    "start_time": "2025-01-25T19:34:15.681Z"
   },
   {
    "duration": 335,
    "start_time": "2025-01-25T19:34:25.249Z"
   },
   {
    "duration": 319,
    "start_time": "2025-01-25T19:34:36.021Z"
   },
   {
    "duration": 305,
    "start_time": "2025-01-25T19:34:53.585Z"
   },
   {
    "duration": 309,
    "start_time": "2025-01-25T19:35:48.566Z"
   },
   {
    "duration": 300,
    "start_time": "2025-01-25T19:35:56.194Z"
   },
   {
    "duration": 447,
    "start_time": "2025-01-25T19:36:04.284Z"
   },
   {
    "duration": 677,
    "start_time": "2025-01-25T19:37:13.078Z"
   },
   {
    "duration": 692,
    "start_time": "2025-01-25T19:38:17.417Z"
   },
   {
    "duration": 624,
    "start_time": "2025-01-25T19:38:43.998Z"
   },
   {
    "duration": 1825,
    "start_time": "2025-01-25T19:42:05.740Z"
   },
   {
    "duration": 42,
    "start_time": "2025-01-25T19:42:07.567Z"
   },
   {
    "duration": 34,
    "start_time": "2025-01-25T19:42:07.611Z"
   },
   {
    "duration": 4,
    "start_time": "2025-01-25T19:42:07.646Z"
   },
   {
    "duration": 14,
    "start_time": "2025-01-25T19:42:07.652Z"
   },
   {
    "duration": 7,
    "start_time": "2025-01-25T19:42:07.667Z"
   },
   {
    "duration": 433,
    "start_time": "2025-01-25T19:42:07.676Z"
   },
   {
    "duration": 380,
    "start_time": "2025-01-25T19:42:08.111Z"
   },
   {
    "duration": 5,
    "start_time": "2025-01-25T19:42:08.493Z"
   },
   {
    "duration": 49,
    "start_time": "2025-01-25T19:42:08.499Z"
   },
   {
    "duration": 445,
    "start_time": "2025-01-25T19:42:08.550Z"
   },
   {
    "duration": 418,
    "start_time": "2025-01-25T19:42:08.997Z"
   },
   {
    "duration": 5,
    "start_time": "2025-01-25T19:42:09.416Z"
   },
   {
    "duration": 3,
    "start_time": "2025-01-25T19:42:09.424Z"
   },
   {
    "duration": 440,
    "start_time": "2025-01-25T19:42:09.429Z"
   },
   {
    "duration": 4,
    "start_time": "2025-01-25T19:42:09.871Z"
   },
   {
    "duration": 264,
    "start_time": "2025-01-25T19:42:09.876Z"
   },
   {
    "duration": 227,
    "start_time": "2025-01-25T19:42:10.142Z"
   },
   {
    "duration": 7,
    "start_time": "2025-01-25T19:42:10.371Z"
   },
   {
    "duration": 156,
    "start_time": "2025-01-25T19:42:10.380Z"
   },
   {
    "duration": 19,
    "start_time": "2025-01-25T19:42:10.538Z"
   },
   {
    "duration": 23,
    "start_time": "2025-01-25T19:42:10.561Z"
   },
   {
    "duration": 3,
    "start_time": "2025-01-25T19:42:10.586Z"
   },
   {
    "duration": 13,
    "start_time": "2025-01-25T19:42:10.590Z"
   },
   {
    "duration": 509,
    "start_time": "2025-01-25T19:42:10.605Z"
   },
   {
    "duration": 324,
    "start_time": "2025-01-25T19:42:11.116Z"
   },
   {
    "duration": 4,
    "start_time": "2025-01-25T19:42:11.442Z"
   },
   {
    "duration": 4,
    "start_time": "2025-01-25T19:42:11.466Z"
   },
   {
    "duration": 6,
    "start_time": "2025-01-25T19:42:11.471Z"
   },
   {
    "duration": 1805,
    "start_time": "2025-01-25T19:43:12.708Z"
   },
   {
    "duration": 31,
    "start_time": "2025-01-25T19:43:14.515Z"
   },
   {
    "duration": 40,
    "start_time": "2025-01-25T19:43:14.548Z"
   },
   {
    "duration": 4,
    "start_time": "2025-01-25T19:43:14.589Z"
   },
   {
    "duration": 4,
    "start_time": "2025-01-25T19:43:14.595Z"
   },
   {
    "duration": 9,
    "start_time": "2025-01-25T19:43:14.601Z"
   },
   {
    "duration": 472,
    "start_time": "2025-01-25T19:43:14.611Z"
   },
   {
    "duration": 407,
    "start_time": "2025-01-25T19:43:15.085Z"
   },
   {
    "duration": 6,
    "start_time": "2025-01-25T19:43:15.493Z"
   },
   {
    "duration": 2,
    "start_time": "2025-01-25T19:43:15.505Z"
   },
   {
    "duration": 402,
    "start_time": "2025-01-25T19:43:15.510Z"
   },
   {
    "duration": 421,
    "start_time": "2025-01-25T19:43:15.913Z"
   },
   {
    "duration": 5,
    "start_time": "2025-01-25T19:43:16.335Z"
   },
   {
    "duration": 11,
    "start_time": "2025-01-25T19:43:16.355Z"
   },
   {
    "duration": 436,
    "start_time": "2025-01-25T19:43:16.368Z"
   },
   {
    "duration": 3,
    "start_time": "2025-01-25T19:43:16.806Z"
   },
   {
    "duration": 272,
    "start_time": "2025-01-25T19:43:16.811Z"
   },
   {
    "duration": 232,
    "start_time": "2025-01-25T19:43:17.085Z"
   },
   {
    "duration": 9,
    "start_time": "2025-01-25T19:43:17.318Z"
   },
   {
    "duration": 170,
    "start_time": "2025-01-25T19:43:17.328Z"
   },
   {
    "duration": 6,
    "start_time": "2025-01-25T19:43:17.500Z"
   },
   {
    "duration": 20,
    "start_time": "2025-01-25T19:43:17.507Z"
   },
   {
    "duration": 30,
    "start_time": "2025-01-25T19:43:17.529Z"
   },
   {
    "duration": 9,
    "start_time": "2025-01-25T19:43:17.561Z"
   },
   {
    "duration": 507,
    "start_time": "2025-01-25T19:43:17.571Z"
   },
   {
    "duration": 322,
    "start_time": "2025-01-25T19:43:18.079Z"
   },
   {
    "duration": 5,
    "start_time": "2025-01-25T19:43:18.403Z"
   },
   {
    "duration": 13,
    "start_time": "2025-01-25T19:43:18.409Z"
   },
   {
    "duration": 9,
    "start_time": "2025-01-25T19:43:18.423Z"
   },
   {
    "duration": 1854,
    "start_time": "2025-01-25T19:45:09.290Z"
   },
   {
    "duration": 38,
    "start_time": "2025-01-25T19:45:11.146Z"
   },
   {
    "duration": 38,
    "start_time": "2025-01-25T19:45:11.185Z"
   },
   {
    "duration": 4,
    "start_time": "2025-01-25T19:45:11.225Z"
   },
   {
    "duration": 34,
    "start_time": "2025-01-25T19:45:11.231Z"
   },
   {
    "duration": 6,
    "start_time": "2025-01-25T19:45:11.266Z"
   },
   {
    "duration": 432,
    "start_time": "2025-01-25T19:45:11.273Z"
   },
   {
    "duration": 380,
    "start_time": "2025-01-25T19:45:11.706Z"
   },
   {
    "duration": 5,
    "start_time": "2025-01-25T19:45:12.087Z"
   },
   {
    "duration": 3,
    "start_time": "2025-01-25T19:45:12.096Z"
   },
   {
    "duration": 390,
    "start_time": "2025-01-25T19:45:12.101Z"
   },
   {
    "duration": 398,
    "start_time": "2025-01-25T19:45:12.492Z"
   },
   {
    "duration": 6,
    "start_time": "2025-01-25T19:45:12.891Z"
   },
   {
    "duration": 19,
    "start_time": "2025-01-25T19:45:12.898Z"
   },
   {
    "duration": 370,
    "start_time": "2025-01-25T19:45:12.919Z"
   },
   {
    "duration": 3,
    "start_time": "2025-01-25T19:45:13.291Z"
   },
   {
    "duration": 243,
    "start_time": "2025-01-25T19:45:13.296Z"
   },
   {
    "duration": 225,
    "start_time": "2025-01-25T19:45:13.541Z"
   },
   {
    "duration": 7,
    "start_time": "2025-01-25T19:45:13.768Z"
   },
   {
    "duration": 153,
    "start_time": "2025-01-25T19:45:13.777Z"
   },
   {
    "duration": 6,
    "start_time": "2025-01-25T19:45:13.932Z"
   },
   {
    "duration": 41,
    "start_time": "2025-01-25T19:45:13.939Z"
   },
   {
    "duration": 3,
    "start_time": "2025-01-25T19:45:13.981Z"
   },
   {
    "duration": 6,
    "start_time": "2025-01-25T19:45:13.985Z"
   },
   {
    "duration": 519,
    "start_time": "2025-01-25T19:45:13.992Z"
   },
   {
    "duration": 319,
    "start_time": "2025-01-25T19:45:14.513Z"
   },
   {
    "duration": 4,
    "start_time": "2025-01-25T19:45:14.833Z"
   },
   {
    "duration": 27,
    "start_time": "2025-01-25T19:45:14.840Z"
   },
   {
    "duration": 9,
    "start_time": "2025-01-25T19:45:14.869Z"
   },
   {
    "duration": 1900,
    "start_time": "2025-01-25T19:50:05.249Z"
   },
   {
    "duration": 34,
    "start_time": "2025-01-25T19:50:07.153Z"
   },
   {
    "duration": 43,
    "start_time": "2025-01-25T19:50:07.189Z"
   },
   {
    "duration": 6,
    "start_time": "2025-01-25T19:50:07.234Z"
   },
   {
    "duration": 22,
    "start_time": "2025-01-25T19:50:07.242Z"
   },
   {
    "duration": 27,
    "start_time": "2025-01-25T19:50:07.270Z"
   },
   {
    "duration": 519,
    "start_time": "2025-01-25T19:50:07.299Z"
   },
   {
    "duration": 387,
    "start_time": "2025-01-25T19:50:07.819Z"
   },
   {
    "duration": 5,
    "start_time": "2025-01-25T19:50:08.208Z"
   },
   {
    "duration": 22,
    "start_time": "2025-01-25T19:50:08.214Z"
   },
   {
    "duration": 445,
    "start_time": "2025-01-25T19:50:08.237Z"
   },
   {
    "duration": 423,
    "start_time": "2025-01-25T19:50:08.683Z"
   },
   {
    "duration": 6,
    "start_time": "2025-01-25T19:50:09.108Z"
   },
   {
    "duration": 5,
    "start_time": "2025-01-25T19:50:09.116Z"
   },
   {
    "duration": 404,
    "start_time": "2025-01-25T19:50:09.122Z"
   },
   {
    "duration": 5,
    "start_time": "2025-01-25T19:50:09.527Z"
   },
   {
    "duration": 253,
    "start_time": "2025-01-25T19:50:09.533Z"
   },
   {
    "duration": 221,
    "start_time": "2025-01-25T19:50:09.788Z"
   },
   {
    "duration": 8,
    "start_time": "2025-01-25T19:50:10.010Z"
   },
   {
    "duration": 195,
    "start_time": "2025-01-25T19:50:10.019Z"
   },
   {
    "duration": 6,
    "start_time": "2025-01-25T19:50:10.215Z"
   },
   {
    "duration": 44,
    "start_time": "2025-01-25T19:50:10.223Z"
   },
   {
    "duration": 21,
    "start_time": "2025-01-25T19:50:10.268Z"
   },
   {
    "duration": 38,
    "start_time": "2025-01-25T19:50:10.290Z"
   },
   {
    "duration": 546,
    "start_time": "2025-01-25T19:50:10.330Z"
   },
   {
    "duration": 394,
    "start_time": "2025-01-25T19:50:10.878Z"
   },
   {
    "duration": 5,
    "start_time": "2025-01-25T19:50:11.274Z"
   },
   {
    "duration": 15,
    "start_time": "2025-01-25T19:50:11.281Z"
   },
   {
    "duration": 13,
    "start_time": "2025-01-25T19:50:11.298Z"
   },
   {
    "duration": 1920,
    "start_time": "2025-01-25T19:51:07.351Z"
   },
   {
    "duration": 32,
    "start_time": "2025-01-25T19:51:09.274Z"
   },
   {
    "duration": 34,
    "start_time": "2025-01-25T19:51:09.307Z"
   },
   {
    "duration": 29,
    "start_time": "2025-01-25T19:51:09.358Z"
   },
   {
    "duration": 12,
    "start_time": "2025-01-25T19:51:09.389Z"
   },
   {
    "duration": 18,
    "start_time": "2025-01-25T19:51:09.402Z"
   },
   {
    "duration": 427,
    "start_time": "2025-01-25T19:51:09.422Z"
   },
   {
    "duration": 433,
    "start_time": "2025-01-25T19:51:09.850Z"
   },
   {
    "duration": 5,
    "start_time": "2025-01-25T19:51:10.285Z"
   },
   {
    "duration": 3,
    "start_time": "2025-01-25T19:51:10.291Z"
   },
   {
    "duration": 400,
    "start_time": "2025-01-25T19:51:10.295Z"
   },
   {
    "duration": 406,
    "start_time": "2025-01-25T19:51:10.697Z"
   },
   {
    "duration": 5,
    "start_time": "2025-01-25T19:51:11.104Z"
   },
   {
    "duration": 3,
    "start_time": "2025-01-25T19:51:11.112Z"
   },
   {
    "duration": 398,
    "start_time": "2025-01-25T19:51:11.116Z"
   },
   {
    "duration": 4,
    "start_time": "2025-01-25T19:51:11.516Z"
   },
   {
    "duration": 276,
    "start_time": "2025-01-25T19:51:11.522Z"
   },
   {
    "duration": 229,
    "start_time": "2025-01-25T19:51:11.800Z"
   },
   {
    "duration": 7,
    "start_time": "2025-01-25T19:51:12.031Z"
   },
   {
    "duration": 170,
    "start_time": "2025-01-25T19:51:12.040Z"
   },
   {
    "duration": 5,
    "start_time": "2025-01-25T19:51:12.212Z"
   },
   {
    "duration": 53,
    "start_time": "2025-01-25T19:51:12.218Z"
   },
   {
    "duration": 6,
    "start_time": "2025-01-25T19:51:12.276Z"
   },
   {
    "duration": 9,
    "start_time": "2025-01-25T19:51:12.283Z"
   },
   {
    "duration": 519,
    "start_time": "2025-01-25T19:51:12.293Z"
   },
   {
    "duration": 322,
    "start_time": "2025-01-25T19:51:12.813Z"
   },
   {
    "duration": 5,
    "start_time": "2025-01-25T19:51:13.136Z"
   },
   {
    "duration": 10,
    "start_time": "2025-01-25T19:51:13.158Z"
   },
   {
    "duration": 10,
    "start_time": "2025-01-25T19:51:13.170Z"
   },
   {
    "duration": 54501,
    "start_time": "2025-01-25T19:51:13.182Z"
   },
   {
    "duration": 222,
    "start_time": "2025-01-25T19:52:07.689Z"
   },
   {
    "duration": 327,
    "start_time": "2025-01-25T19:54:50.719Z"
   },
   {
    "duration": 5,
    "start_time": "2025-01-25T20:02:10.806Z"
   },
   {
    "duration": 95,
    "start_time": "2025-01-25T20:02:24.381Z"
   },
   {
    "duration": 33,
    "start_time": "2025-01-25T20:02:30.802Z"
   },
   {
    "duration": 35,
    "start_time": "2025-01-25T20:02:42.457Z"
   },
   {
    "duration": 26,
    "start_time": "2025-01-25T20:03:12.692Z"
   },
   {
    "duration": 5,
    "start_time": "2025-01-25T20:03:35.081Z"
   },
   {
    "duration": 39,
    "start_time": "2025-01-25T20:03:39.439Z"
   },
   {
    "duration": 31,
    "start_time": "2025-01-25T20:03:40.041Z"
   },
   {
    "duration": 5,
    "start_time": "2025-01-25T20:16:54.710Z"
   },
   {
    "duration": 5,
    "start_time": "2025-01-25T20:16:59.166Z"
   },
   {
    "duration": 4,
    "start_time": "2025-01-25T20:20:12.596Z"
   },
   {
    "duration": 5,
    "start_time": "2025-01-25T20:20:13.309Z"
   },
   {
    "duration": 438,
    "start_time": "2025-01-25T20:20:14.071Z"
   },
   {
    "duration": 378,
    "start_time": "2025-01-25T20:20:22.151Z"
   },
   {
    "duration": 84,
    "start_time": "2025-01-25T20:21:39.095Z"
   },
   {
    "duration": 5,
    "start_time": "2025-01-25T20:22:29.502Z"
   },
   {
    "duration": 519,
    "start_time": "2025-01-25T20:25:15.673Z"
   },
   {
    "duration": 5,
    "start_time": "2025-01-25T20:25:16.194Z"
   },
   {
    "duration": 4,
    "start_time": "2025-01-25T20:25:19.412Z"
   },
   {
    "duration": 380,
    "start_time": "2025-01-25T20:25:20.346Z"
   },
   {
    "duration": 4,
    "start_time": "2025-01-25T20:26:35.678Z"
   },
   {
    "duration": 126,
    "start_time": "2025-01-25T20:26:38.516Z"
   },
   {
    "duration": 8,
    "start_time": "2025-01-25T20:33:04.715Z"
   },
   {
    "duration": 8,
    "start_time": "2025-01-25T20:33:42.615Z"
   },
   {
    "duration": 8,
    "start_time": "2025-01-25T20:34:16.430Z"
   },
   {
    "duration": 131,
    "start_time": "2025-01-25T20:34:59.072Z"
   },
   {
    "duration": 135,
    "start_time": "2025-01-25T20:35:38.539Z"
   },
   {
    "duration": 134,
    "start_time": "2025-01-25T20:36:12.543Z"
   },
   {
    "duration": 134,
    "start_time": "2025-01-25T20:37:26.139Z"
   },
   {
    "duration": 129,
    "start_time": "2025-01-25T20:38:01.282Z"
   },
   {
    "duration": 81,
    "start_time": "2025-01-25T20:38:21.816Z"
   },
   {
    "duration": 78,
    "start_time": "2025-01-25T20:38:25.894Z"
   },
   {
    "duration": 84,
    "start_time": "2025-01-25T20:38:28.917Z"
   },
   {
    "duration": 129,
    "start_time": "2025-01-25T20:38:32.676Z"
   },
   {
    "duration": 5,
    "start_time": "2025-01-25T20:53:57.346Z"
   },
   {
    "duration": 18,
    "start_time": "2025-01-25T20:54:01.149Z"
   },
   {
    "duration": 3,
    "start_time": "2025-01-25T20:54:01.374Z"
   },
   {
    "duration": 5,
    "start_time": "2025-01-25T20:54:01.923Z"
   },
   {
    "duration": 473,
    "start_time": "2025-01-25T20:58:40.261Z"
   },
   {
    "duration": 295,
    "start_time": "2025-01-25T20:58:46.947Z"
   },
   {
    "duration": 4,
    "start_time": "2025-01-25T20:58:53.387Z"
   },
   {
    "duration": 379,
    "start_time": "2025-01-25T20:59:27.142Z"
   },
   {
    "duration": 1983,
    "start_time": "2025-01-25T21:01:57.289Z"
   },
   {
    "duration": 30,
    "start_time": "2025-01-25T21:01:59.274Z"
   },
   {
    "duration": 27,
    "start_time": "2025-01-25T21:01:59.306Z"
   },
   {
    "duration": 4,
    "start_time": "2025-01-25T21:01:59.334Z"
   },
   {
    "duration": 15,
    "start_time": "2025-01-25T21:01:59.339Z"
   },
   {
    "duration": 6,
    "start_time": "2025-01-25T21:01:59.355Z"
   },
   {
    "duration": 442,
    "start_time": "2025-01-25T21:01:59.362Z"
   },
   {
    "duration": 373,
    "start_time": "2025-01-25T21:01:59.805Z"
   },
   {
    "duration": 402,
    "start_time": "2025-01-25T21:02:00.180Z"
   },
   {
    "duration": 5,
    "start_time": "2025-01-25T21:02:00.584Z"
   },
   {
    "duration": 47,
    "start_time": "2025-01-25T21:02:00.591Z"
   },
   {
    "duration": 379,
    "start_time": "2025-01-25T21:02:00.639Z"
   },
   {
    "duration": 4,
    "start_time": "2025-01-25T21:02:01.020Z"
   },
   {
    "duration": 144,
    "start_time": "2025-01-25T21:02:01.026Z"
   },
   {
    "duration": 197,
    "start_time": "2025-01-25T21:02:01.172Z"
   },
   {
    "duration": 9,
    "start_time": "2025-01-25T21:02:01.370Z"
   },
   {
    "duration": 262,
    "start_time": "2025-01-25T21:02:01.381Z"
   },
   {
    "duration": 23,
    "start_time": "2025-01-25T21:02:01.645Z"
   },
   {
    "duration": 65,
    "start_time": "2025-01-25T21:02:01.670Z"
   },
   {
    "duration": 46,
    "start_time": "2025-01-25T21:02:01.737Z"
   },
   {
    "duration": 487,
    "start_time": "2025-01-25T21:02:01.785Z"
   },
   {
    "duration": 299,
    "start_time": "2025-01-25T21:02:02.274Z"
   },
   {
    "duration": 5,
    "start_time": "2025-01-25T21:02:02.574Z"
   },
   {
    "duration": 25,
    "start_time": "2025-01-25T21:02:02.580Z"
   },
   {
    "duration": 28,
    "start_time": "2025-01-25T21:02:02.608Z"
   },
   {
    "duration": 234231,
    "start_time": "2025-01-25T21:02:02.637Z"
   },
   {
    "duration": 26785,
    "start_time": "2025-01-25T21:05:56.870Z"
   },
   {
    "duration": 309,
    "start_time": "2025-01-25T21:06:23.985Z"
   },
   {
    "duration": 2183,
    "start_time": "2025-01-26T19:29:45.251Z"
   },
   {
    "duration": 45,
    "start_time": "2025-01-26T19:29:47.436Z"
   },
   {
    "duration": 34,
    "start_time": "2025-01-26T19:29:47.482Z"
   },
   {
    "duration": 4,
    "start_time": "2025-01-26T19:29:47.518Z"
   },
   {
    "duration": 4,
    "start_time": "2025-01-26T19:29:47.530Z"
   },
   {
    "duration": 7,
    "start_time": "2025-01-26T19:29:47.536Z"
   },
   {
    "duration": 493,
    "start_time": "2025-01-26T19:29:47.544Z"
   },
   {
    "duration": 419,
    "start_time": "2025-01-26T19:29:48.038Z"
   },
   {
    "duration": 424,
    "start_time": "2025-01-26T19:29:48.459Z"
   },
   {
    "duration": 5,
    "start_time": "2025-01-26T19:29:48.885Z"
   },
   {
    "duration": 4,
    "start_time": "2025-01-26T19:29:48.892Z"
   },
   {
    "duration": 378,
    "start_time": "2025-01-26T19:29:48.897Z"
   },
   {
    "duration": 4,
    "start_time": "2025-01-26T19:29:49.277Z"
   },
   {
    "duration": 151,
    "start_time": "2025-01-26T19:29:49.284Z"
   },
   {
    "duration": 227,
    "start_time": "2025-01-26T19:29:49.437Z"
   },
   {
    "duration": 9,
    "start_time": "2025-01-26T19:29:49.666Z"
   },
   {
    "duration": 272,
    "start_time": "2025-01-26T19:29:49.677Z"
   },
   {
    "duration": 20,
    "start_time": "2025-01-26T19:29:49.951Z"
   },
   {
    "duration": 3,
    "start_time": "2025-01-26T19:29:49.973Z"
   },
   {
    "duration": 6,
    "start_time": "2025-01-26T19:29:49.978Z"
   },
   {
    "duration": 548,
    "start_time": "2025-01-26T19:29:49.986Z"
   },
   {
    "duration": 341,
    "start_time": "2025-01-26T19:29:50.536Z"
   },
   {
    "duration": 5,
    "start_time": "2025-01-26T19:29:50.879Z"
   },
   {
    "duration": 34,
    "start_time": "2025-01-26T19:29:50.886Z"
   },
   {
    "duration": 20,
    "start_time": "2025-01-26T19:29:50.922Z"
   },
   {
    "duration": 269408,
    "start_time": "2025-01-26T19:29:50.944Z"
   },
   {
    "duration": 29885,
    "start_time": "2025-01-26T19:34:20.354Z"
   },
   {
    "duration": 394,
    "start_time": "2025-01-26T19:34:50.241Z"
   },
   {
    "duration": 2009,
    "start_time": "2025-01-26T19:56:32.715Z"
   },
   {
    "duration": 33,
    "start_time": "2025-01-26T19:56:34.726Z"
   },
   {
    "duration": 66,
    "start_time": "2025-01-26T19:56:34.761Z"
   },
   {
    "duration": 4,
    "start_time": "2025-01-26T19:56:34.830Z"
   },
   {
    "duration": 98,
    "start_time": "2025-01-26T19:56:34.836Z"
   },
   {
    "duration": 20,
    "start_time": "2025-01-26T19:56:34.936Z"
   },
   {
    "duration": 445,
    "start_time": "2025-01-26T19:56:34.958Z"
   },
   {
    "duration": 415,
    "start_time": "2025-01-26T19:56:35.405Z"
   },
   {
    "duration": 471,
    "start_time": "2025-01-26T19:56:35.822Z"
   },
   {
    "duration": 5,
    "start_time": "2025-01-26T19:56:36.297Z"
   },
   {
    "duration": 40,
    "start_time": "2025-01-26T19:56:36.303Z"
   },
   {
    "duration": 413,
    "start_time": "2025-01-26T19:56:36.344Z"
   },
   {
    "duration": 4,
    "start_time": "2025-01-26T19:56:36.759Z"
   },
   {
    "duration": 218,
    "start_time": "2025-01-26T19:56:36.764Z"
   },
   {
    "duration": 222,
    "start_time": "2025-01-26T19:56:36.984Z"
   },
   {
    "duration": 23,
    "start_time": "2025-01-26T19:56:37.208Z"
   },
   {
    "duration": 270,
    "start_time": "2025-01-26T19:56:37.233Z"
   },
   {
    "duration": 31,
    "start_time": "2025-01-26T19:56:37.505Z"
   },
   {
    "duration": 13,
    "start_time": "2025-01-26T19:56:37.538Z"
   },
   {
    "duration": 7,
    "start_time": "2025-01-26T19:56:37.552Z"
   },
   {
    "duration": 376,
    "start_time": "2025-01-26T19:56:37.560Z"
   },
   {
    "duration": 346,
    "start_time": "2025-01-26T19:56:37.937Z"
   },
   {
    "duration": 6,
    "start_time": "2025-01-26T19:56:38.284Z"
   },
   {
    "duration": 7,
    "start_time": "2025-01-26T19:56:38.292Z"
   },
   {
    "duration": 17,
    "start_time": "2025-01-26T19:56:38.301Z"
   },
   {
    "duration": 262215,
    "start_time": "2025-01-26T19:56:38.319Z"
   },
   {
    "duration": 31612,
    "start_time": "2025-01-26T20:01:00.536Z"
   },
   {
    "duration": 400,
    "start_time": "2025-01-26T20:01:32.151Z"
   },
   {
    "duration": 1971,
    "start_time": "2025-01-26T20:03:32.148Z"
   },
   {
    "duration": 32,
    "start_time": "2025-01-26T20:03:34.121Z"
   },
   {
    "duration": 31,
    "start_time": "2025-01-26T20:03:34.155Z"
   },
   {
    "duration": 4,
    "start_time": "2025-01-26T20:03:34.188Z"
   },
   {
    "duration": 16,
    "start_time": "2025-01-26T20:03:34.194Z"
   },
   {
    "duration": 22,
    "start_time": "2025-01-26T20:03:34.211Z"
   },
   {
    "duration": 472,
    "start_time": "2025-01-26T20:03:34.235Z"
   },
   {
    "duration": 425,
    "start_time": "2025-01-26T20:03:34.709Z"
   },
   {
    "duration": 446,
    "start_time": "2025-01-26T20:03:35.136Z"
   },
   {
    "duration": 5,
    "start_time": "2025-01-26T20:03:35.585Z"
   },
   {
    "duration": 22,
    "start_time": "2025-01-26T20:03:35.591Z"
   },
   {
    "duration": 459,
    "start_time": "2025-01-26T20:03:35.615Z"
   },
   {
    "duration": 5,
    "start_time": "2025-01-26T20:03:36.075Z"
   },
   {
    "duration": 173,
    "start_time": "2025-01-26T20:03:36.082Z"
   },
   {
    "duration": 236,
    "start_time": "2025-01-26T20:03:36.257Z"
   },
   {
    "duration": 10,
    "start_time": "2025-01-26T20:03:36.495Z"
   },
   {
    "duration": 300,
    "start_time": "2025-01-26T20:03:36.506Z"
   },
   {
    "duration": 33,
    "start_time": "2025-01-26T20:03:36.808Z"
   },
   {
    "duration": 16,
    "start_time": "2025-01-26T20:03:36.842Z"
   },
   {
    "duration": 90,
    "start_time": "2025-01-26T20:03:36.859Z"
   },
   {
    "duration": 389,
    "start_time": "2025-01-26T20:03:36.951Z"
   },
   {
    "duration": 342,
    "start_time": "2025-01-26T20:03:37.341Z"
   },
   {
    "duration": 5,
    "start_time": "2025-01-26T20:03:37.684Z"
   },
   {
    "duration": 4,
    "start_time": "2025-01-26T20:03:37.690Z"
   },
   {
    "duration": 45,
    "start_time": "2025-01-26T20:03:37.695Z"
   },
   {
    "duration": 2000,
    "start_time": "2025-01-26T20:07:56.408Z"
   },
   {
    "duration": 33,
    "start_time": "2025-01-26T20:07:58.410Z"
   },
   {
    "duration": 33,
    "start_time": "2025-01-26T20:07:58.445Z"
   },
   {
    "duration": 4,
    "start_time": "2025-01-26T20:07:58.480Z"
   },
   {
    "duration": 34,
    "start_time": "2025-01-26T20:07:58.485Z"
   },
   {
    "duration": 23,
    "start_time": "2025-01-26T20:07:58.520Z"
   },
   {
    "duration": 446,
    "start_time": "2025-01-26T20:07:58.545Z"
   },
   {
    "duration": 408,
    "start_time": "2025-01-26T20:07:58.992Z"
   },
   {
    "duration": 431,
    "start_time": "2025-01-26T20:07:59.402Z"
   },
   {
    "duration": 6,
    "start_time": "2025-01-26T20:07:59.835Z"
   },
   {
    "duration": 4,
    "start_time": "2025-01-26T20:07:59.842Z"
   },
   {
    "duration": 429,
    "start_time": "2025-01-26T20:07:59.847Z"
   },
   {
    "duration": 4,
    "start_time": "2025-01-26T20:08:00.278Z"
   },
   {
    "duration": 218,
    "start_time": "2025-01-26T20:08:00.283Z"
   },
   {
    "duration": 231,
    "start_time": "2025-01-26T20:08:00.503Z"
   },
   {
    "duration": 9,
    "start_time": "2025-01-26T20:08:00.736Z"
   },
   {
    "duration": 388,
    "start_time": "2025-01-26T20:08:00.747Z"
   },
   {
    "duration": 22,
    "start_time": "2025-01-26T20:08:01.136Z"
   },
   {
    "duration": 12,
    "start_time": "2025-01-26T20:08:01.160Z"
   },
   {
    "duration": 20,
    "start_time": "2025-01-26T20:08:01.174Z"
   },
   {
    "duration": 387,
    "start_time": "2025-01-26T20:08:01.195Z"
   },
   {
    "duration": 349,
    "start_time": "2025-01-26T20:08:01.583Z"
   },
   {
    "duration": 5,
    "start_time": "2025-01-26T20:08:01.934Z"
   },
   {
    "duration": 9,
    "start_time": "2025-01-26T20:08:01.941Z"
   },
   {
    "duration": 265905,
    "start_time": "2025-01-26T20:08:01.951Z"
   },
   {
    "duration": 216,
    "start_time": "2025-01-26T20:12:27.857Z"
   },
   {
    "duration": 0,
    "start_time": "2025-01-26T20:12:28.074Z"
   },
   {
    "duration": 31097,
    "start_time": "2025-01-26T20:13:23.137Z"
   },
   {
    "duration": 267301,
    "start_time": "2025-01-26T20:15:01.039Z"
   },
   {
    "duration": 108,
    "start_time": "2025-01-26T20:19:28.342Z"
   },
   {
    "duration": 29658,
    "start_time": "2025-01-26T20:20:29.377Z"
   },
   {
    "duration": 369,
    "start_time": "2025-01-26T20:21:35.974Z"
   },
   {
    "duration": 1899,
    "start_time": "2025-01-26T20:30:52.075Z"
   },
   {
    "duration": 32,
    "start_time": "2025-01-26T20:30:53.976Z"
   },
   {
    "duration": 29,
    "start_time": "2025-01-26T20:30:54.009Z"
   },
   {
    "duration": 4,
    "start_time": "2025-01-26T20:30:54.040Z"
   },
   {
    "duration": 12,
    "start_time": "2025-01-26T20:30:54.046Z"
   },
   {
    "duration": 8,
    "start_time": "2025-01-26T20:30:54.060Z"
   },
   {
    "duration": 424,
    "start_time": "2025-01-26T20:30:54.069Z"
   },
   {
    "duration": 386,
    "start_time": "2025-01-26T20:30:54.495Z"
   },
   {
    "duration": 403,
    "start_time": "2025-01-26T20:30:54.882Z"
   },
   {
    "duration": 5,
    "start_time": "2025-01-26T20:30:55.287Z"
   },
   {
    "duration": 10,
    "start_time": "2025-01-26T20:30:55.294Z"
   },
   {
    "duration": 381,
    "start_time": "2025-01-26T20:30:55.306Z"
   },
   {
    "duration": 4,
    "start_time": "2025-01-26T20:30:55.689Z"
   },
   {
    "duration": 151,
    "start_time": "2025-01-26T20:30:55.695Z"
   },
   {
    "duration": 249,
    "start_time": "2025-01-26T20:30:55.848Z"
   },
   {
    "duration": 9,
    "start_time": "2025-01-26T20:30:56.099Z"
   },
   {
    "duration": 265,
    "start_time": "2025-01-26T20:30:56.110Z"
   },
   {
    "duration": 20,
    "start_time": "2025-01-26T20:30:56.377Z"
   },
   {
    "duration": 3,
    "start_time": "2025-01-26T20:30:56.399Z"
   },
   {
    "duration": 7,
    "start_time": "2025-01-26T20:30:56.404Z"
   },
   {
    "duration": 376,
    "start_time": "2025-01-26T20:30:56.412Z"
   },
   {
    "duration": 334,
    "start_time": "2025-01-26T20:30:56.790Z"
   },
   {
    "duration": 5,
    "start_time": "2025-01-26T20:30:57.129Z"
   },
   {
    "duration": 4,
    "start_time": "2025-01-26T20:30:57.135Z"
   },
   {
    "duration": 261807,
    "start_time": "2025-01-26T20:30:57.140Z"
   },
   {
    "duration": 30604,
    "start_time": "2025-01-26T20:35:18.949Z"
   },
   {
    "duration": 344,
    "start_time": "2025-01-26T20:35:49.629Z"
   },
   {
    "duration": 0,
    "start_time": "2025-01-26T20:50:44.644Z"
   },
   {
    "duration": 0,
    "start_time": "2025-01-26T20:50:44.645Z"
   },
   {
    "duration": 0,
    "start_time": "2025-01-26T20:50:44.647Z"
   },
   {
    "duration": 0,
    "start_time": "2025-01-26T20:50:44.648Z"
   },
   {
    "duration": 0,
    "start_time": "2025-01-26T20:50:44.650Z"
   },
   {
    "duration": 0,
    "start_time": "2025-01-26T20:50:44.651Z"
   },
   {
    "duration": 0,
    "start_time": "2025-01-26T20:50:44.653Z"
   },
   {
    "duration": 0,
    "start_time": "2025-01-26T20:50:44.654Z"
   },
   {
    "duration": 0,
    "start_time": "2025-01-26T20:50:44.655Z"
   },
   {
    "duration": 0,
    "start_time": "2025-01-26T20:50:44.657Z"
   },
   {
    "duration": 0,
    "start_time": "2025-01-26T20:50:44.658Z"
   },
   {
    "duration": 0,
    "start_time": "2025-01-26T20:50:44.660Z"
   },
   {
    "duration": 0,
    "start_time": "2025-01-26T20:50:44.661Z"
   },
   {
    "duration": 0,
    "start_time": "2025-01-26T20:50:44.662Z"
   },
   {
    "duration": 0,
    "start_time": "2025-01-26T20:50:44.663Z"
   },
   {
    "duration": 0,
    "start_time": "2025-01-26T20:50:44.664Z"
   },
   {
    "duration": 0,
    "start_time": "2025-01-26T20:50:44.665Z"
   },
   {
    "duration": 0,
    "start_time": "2025-01-26T20:50:44.666Z"
   },
   {
    "duration": 2017,
    "start_time": "2025-01-26T20:50:48.062Z"
   },
   {
    "duration": 33,
    "start_time": "2025-01-26T20:50:50.081Z"
   },
   {
    "duration": 37,
    "start_time": "2025-01-26T20:50:50.116Z"
   },
   {
    "duration": 5,
    "start_time": "2025-01-26T20:50:50.155Z"
   },
   {
    "duration": 40,
    "start_time": "2025-01-26T20:50:50.163Z"
   },
   {
    "duration": 6,
    "start_time": "2025-01-26T20:50:50.204Z"
   },
   {
    "duration": 467,
    "start_time": "2025-01-26T20:50:50.211Z"
   },
   {
    "duration": 411,
    "start_time": "2025-01-26T20:50:50.680Z"
   },
   {
    "duration": 425,
    "start_time": "2025-01-26T20:50:51.093Z"
   },
   {
    "duration": 6,
    "start_time": "2025-01-26T20:50:51.519Z"
   },
   {
    "duration": 9,
    "start_time": "2025-01-26T20:50:51.530Z"
   },
   {
    "duration": 433,
    "start_time": "2025-01-26T20:50:51.541Z"
   },
   {
    "duration": 5,
    "start_time": "2025-01-26T20:50:51.977Z"
   },
   {
    "duration": 196,
    "start_time": "2025-01-26T20:50:51.986Z"
   },
   {
    "duration": 238,
    "start_time": "2025-01-26T20:50:52.184Z"
   },
   {
    "duration": 15,
    "start_time": "2025-01-26T20:50:52.424Z"
   },
   {
    "duration": 276,
    "start_time": "2025-01-26T20:50:52.440Z"
   },
   {
    "duration": 27,
    "start_time": "2025-01-26T20:50:52.718Z"
   },
   {
    "duration": 4,
    "start_time": "2025-01-26T20:50:52.746Z"
   },
   {
    "duration": 14,
    "start_time": "2025-01-26T20:50:52.752Z"
   },
   {
    "duration": 386,
    "start_time": "2025-01-26T20:50:52.768Z"
   },
   {
    "duration": 342,
    "start_time": "2025-01-26T20:50:53.156Z"
   },
   {
    "duration": 5,
    "start_time": "2025-01-26T20:50:53.500Z"
   },
   {
    "duration": 4,
    "start_time": "2025-01-26T20:50:53.506Z"
   },
   {
    "duration": 261130,
    "start_time": "2025-01-26T20:50:53.511Z"
   },
   {
    "duration": 30390,
    "start_time": "2025-01-26T20:55:14.642Z"
   },
   {
    "duration": 350,
    "start_time": "2025-01-26T20:55:45.034Z"
   },
   {
    "duration": 29733,
    "start_time": "2025-01-26T20:56:19.797Z"
   },
   {
    "duration": 375,
    "start_time": "2025-01-26T20:56:49.532Z"
   },
   {
    "duration": 1971,
    "start_time": "2025-01-26T20:57:45.652Z"
   },
   {
    "duration": 32,
    "start_time": "2025-01-26T20:57:47.625Z"
   },
   {
    "duration": 32,
    "start_time": "2025-01-26T20:57:47.659Z"
   },
   {
    "duration": 4,
    "start_time": "2025-01-26T20:57:47.693Z"
   },
   {
    "duration": 6,
    "start_time": "2025-01-26T20:57:47.699Z"
   },
   {
    "duration": 29,
    "start_time": "2025-01-26T20:57:47.706Z"
   },
   {
    "duration": 451,
    "start_time": "2025-01-26T20:57:47.736Z"
   },
   {
    "duration": 375,
    "start_time": "2025-01-26T20:57:48.188Z"
   },
   {
    "duration": 424,
    "start_time": "2025-01-26T20:57:48.565Z"
   },
   {
    "duration": 5,
    "start_time": "2025-01-26T20:57:48.992Z"
   },
   {
    "duration": 31,
    "start_time": "2025-01-26T20:57:48.999Z"
   },
   {
    "duration": 436,
    "start_time": "2025-01-26T20:57:49.032Z"
   },
   {
    "duration": 4,
    "start_time": "2025-01-26T20:57:49.470Z"
   },
   {
    "duration": 143,
    "start_time": "2025-01-26T20:57:49.475Z"
   },
   {
    "duration": 232,
    "start_time": "2025-01-26T20:57:49.620Z"
   },
   {
    "duration": 10,
    "start_time": "2025-01-26T20:57:49.854Z"
   },
   {
    "duration": 150,
    "start_time": "2025-01-26T20:57:49.865Z"
   },
   {
    "duration": 0,
    "start_time": "2025-01-26T20:57:50.017Z"
   },
   {
    "duration": 0,
    "start_time": "2025-01-26T20:57:50.018Z"
   },
   {
    "duration": 0,
    "start_time": "2025-01-26T20:57:50.019Z"
   },
   {
    "duration": 0,
    "start_time": "2025-01-26T20:57:50.021Z"
   },
   {
    "duration": 0,
    "start_time": "2025-01-26T20:57:50.030Z"
   },
   {
    "duration": 0,
    "start_time": "2025-01-26T20:57:50.031Z"
   },
   {
    "duration": 0,
    "start_time": "2025-01-26T20:57:50.032Z"
   },
   {
    "duration": 0,
    "start_time": "2025-01-26T20:57:50.034Z"
   },
   {
    "duration": 0,
    "start_time": "2025-01-26T20:57:50.035Z"
   },
   {
    "duration": 0,
    "start_time": "2025-01-26T20:57:50.036Z"
   },
   {
    "duration": 2024,
    "start_time": "2025-01-26T21:01:50.832Z"
   },
   {
    "duration": 33,
    "start_time": "2025-01-26T21:01:52.858Z"
   },
   {
    "duration": 39,
    "start_time": "2025-01-26T21:01:52.892Z"
   },
   {
    "duration": 4,
    "start_time": "2025-01-26T21:01:52.933Z"
   },
   {
    "duration": 8,
    "start_time": "2025-01-26T21:01:52.938Z"
   },
   {
    "duration": 5,
    "start_time": "2025-01-26T21:01:52.948Z"
   },
   {
    "duration": 443,
    "start_time": "2025-01-26T21:01:52.955Z"
   },
   {
    "duration": 416,
    "start_time": "2025-01-26T21:01:53.400Z"
   },
   {
    "duration": 455,
    "start_time": "2025-01-26T21:01:53.818Z"
   },
   {
    "duration": 6,
    "start_time": "2025-01-26T21:01:54.275Z"
   },
   {
    "duration": 15,
    "start_time": "2025-01-26T21:01:54.282Z"
   },
   {
    "duration": 386,
    "start_time": "2025-01-26T21:01:54.299Z"
   },
   {
    "duration": 4,
    "start_time": "2025-01-26T21:01:54.686Z"
   },
   {
    "duration": 204,
    "start_time": "2025-01-26T21:01:54.692Z"
   },
   {
    "duration": 236,
    "start_time": "2025-01-26T21:01:54.898Z"
   },
   {
    "duration": 10,
    "start_time": "2025-01-26T21:01:55.135Z"
   },
   {
    "duration": 263,
    "start_time": "2025-01-26T21:01:55.146Z"
   },
   {
    "duration": 33,
    "start_time": "2025-01-26T21:01:55.410Z"
   },
   {
    "duration": 4,
    "start_time": "2025-01-26T21:01:55.445Z"
   },
   {
    "duration": 11,
    "start_time": "2025-01-26T21:01:55.450Z"
   },
   {
    "duration": 416,
    "start_time": "2025-01-26T21:01:55.462Z"
   },
   {
    "duration": 377,
    "start_time": "2025-01-26T21:01:55.880Z"
   },
   {
    "duration": 4,
    "start_time": "2025-01-26T21:01:56.259Z"
   },
   {
    "duration": 14,
    "start_time": "2025-01-26T21:01:56.265Z"
   },
   {
    "duration": 268662,
    "start_time": "2025-01-26T21:01:56.281Z"
   },
   {
    "duration": 29901,
    "start_time": "2025-01-26T21:06:24.944Z"
   },
   {
    "duration": 412,
    "start_time": "2025-01-26T21:06:54.847Z"
   },
   {
    "duration": 2141,
    "start_time": "2025-01-27T08:46:19.734Z"
   },
   {
    "duration": 37,
    "start_time": "2025-01-27T08:46:21.877Z"
   },
   {
    "duration": 33,
    "start_time": "2025-01-27T08:46:21.916Z"
   },
   {
    "duration": 5,
    "start_time": "2025-01-27T08:46:21.951Z"
   },
   {
    "duration": 5,
    "start_time": "2025-01-27T08:46:21.959Z"
   },
   {
    "duration": 12,
    "start_time": "2025-01-27T08:46:21.966Z"
   },
   {
    "duration": 527,
    "start_time": "2025-01-27T08:46:21.980Z"
   },
   {
    "duration": 422,
    "start_time": "2025-01-27T08:46:22.509Z"
   },
   {
    "duration": 427,
    "start_time": "2025-01-27T08:46:22.934Z"
   },
   {
    "duration": 5,
    "start_time": "2025-01-27T08:46:23.363Z"
   },
   {
    "duration": 98,
    "start_time": "2025-01-27T08:46:23.369Z"
   },
   {
    "duration": 382,
    "start_time": "2025-01-27T08:46:23.469Z"
   },
   {
    "duration": 4,
    "start_time": "2025-01-27T08:46:23.852Z"
   },
   {
    "duration": 151,
    "start_time": "2025-01-27T08:46:23.859Z"
   },
   {
    "duration": 221,
    "start_time": "2025-01-27T08:46:24.012Z"
   },
   {
    "duration": 9,
    "start_time": "2025-01-27T08:46:24.235Z"
   },
   {
    "duration": 261,
    "start_time": "2025-01-27T08:46:24.246Z"
   },
   {
    "duration": 20,
    "start_time": "2025-01-27T08:46:24.514Z"
   },
   {
    "duration": 3,
    "start_time": "2025-01-27T08:46:24.536Z"
   },
   {
    "duration": 5,
    "start_time": "2025-01-27T08:46:24.541Z"
   },
   {
    "duration": 385,
    "start_time": "2025-01-27T08:46:24.548Z"
   },
   {
    "duration": 362,
    "start_time": "2025-01-27T08:46:24.935Z"
   },
   {
    "duration": 5,
    "start_time": "2025-01-27T08:46:25.299Z"
   },
   {
    "duration": 4,
    "start_time": "2025-01-27T08:46:25.315Z"
   },
   {
    "duration": 258403,
    "start_time": "2025-01-27T08:46:25.321Z"
   },
   {
    "duration": 27597,
    "start_time": "2025-01-27T08:50:43.725Z"
   },
   {
    "duration": 352,
    "start_time": "2025-01-27T08:51:11.324Z"
   },
   {
    "duration": 92,
    "start_time": "2025-01-28T05:38:27.023Z"
   },
   {
    "duration": 2226,
    "start_time": "2025-01-28T05:42:41.008Z"
   },
   {
    "duration": 66,
    "start_time": "2025-01-28T05:42:43.236Z"
   },
   {
    "duration": 32,
    "start_time": "2025-01-28T05:42:43.304Z"
   },
   {
    "duration": 22,
    "start_time": "2025-01-28T05:42:43.338Z"
   },
   {
    "duration": 7,
    "start_time": "2025-01-28T05:42:43.362Z"
   },
   {
    "duration": 6,
    "start_time": "2025-01-28T05:42:43.370Z"
   },
   {
    "duration": 532,
    "start_time": "2025-01-28T05:42:43.377Z"
   },
   {
    "duration": 436,
    "start_time": "2025-01-28T05:42:43.911Z"
   },
   {
    "duration": 467,
    "start_time": "2025-01-28T05:42:44.349Z"
   },
   {
    "duration": 4,
    "start_time": "2025-01-28T05:42:44.819Z"
   },
   {
    "duration": 454,
    "start_time": "2025-01-28T05:42:44.830Z"
   },
   {
    "duration": 4,
    "start_time": "2025-01-28T05:42:45.286Z"
   },
   {
    "duration": 171,
    "start_time": "2025-01-28T05:42:45.292Z"
   },
   {
    "duration": 336,
    "start_time": "2025-01-28T05:42:45.464Z"
   },
   {
    "duration": 10,
    "start_time": "2025-01-28T05:42:45.802Z"
   },
   {
    "duration": 154,
    "start_time": "2025-01-28T05:42:45.831Z"
   },
   {
    "duration": 181,
    "start_time": "2025-01-28T05:42:45.987Z"
   },
   {
    "duration": 0,
    "start_time": "2025-01-28T05:42:46.170Z"
   },
   {
    "duration": 0,
    "start_time": "2025-01-28T05:42:46.172Z"
   },
   {
    "duration": 0,
    "start_time": "2025-01-28T05:42:46.173Z"
   },
   {
    "duration": 0,
    "start_time": "2025-01-28T05:42:46.174Z"
   },
   {
    "duration": 0,
    "start_time": "2025-01-28T05:42:46.175Z"
   },
   {
    "duration": 0,
    "start_time": "2025-01-28T05:42:46.176Z"
   },
   {
    "duration": 0,
    "start_time": "2025-01-28T05:42:46.177Z"
   },
   {
    "duration": 0,
    "start_time": "2025-01-28T05:42:46.178Z"
   },
   {
    "duration": 0,
    "start_time": "2025-01-28T05:42:46.179Z"
   },
   {
    "duration": 5,
    "start_time": "2025-01-28T05:44:01.574Z"
   },
   {
    "duration": 12081,
    "start_time": "2025-01-28T05:45:19.883Z"
   },
   {
    "duration": 34,
    "start_time": "2025-01-28T05:45:31.966Z"
   },
   {
    "duration": 37,
    "start_time": "2025-01-28T05:45:32.001Z"
   },
   {
    "duration": 1437,
    "start_time": "2025-01-28T05:45:32.040Z"
   },
   {
    "duration": 0,
    "start_time": "2025-01-28T05:45:33.479Z"
   },
   {
    "duration": 0,
    "start_time": "2025-01-28T05:45:33.480Z"
   },
   {
    "duration": 0,
    "start_time": "2025-01-28T05:45:33.481Z"
   },
   {
    "duration": 0,
    "start_time": "2025-01-28T05:45:33.483Z"
   },
   {
    "duration": 0,
    "start_time": "2025-01-28T05:45:33.484Z"
   },
   {
    "duration": 0,
    "start_time": "2025-01-28T05:45:33.485Z"
   },
   {
    "duration": 0,
    "start_time": "2025-01-28T05:45:33.487Z"
   },
   {
    "duration": 0,
    "start_time": "2025-01-28T05:45:33.488Z"
   },
   {
    "duration": 0,
    "start_time": "2025-01-28T05:45:33.489Z"
   },
   {
    "duration": 0,
    "start_time": "2025-01-28T05:45:33.490Z"
   },
   {
    "duration": 0,
    "start_time": "2025-01-28T05:45:33.491Z"
   },
   {
    "duration": 0,
    "start_time": "2025-01-28T05:45:33.492Z"
   },
   {
    "duration": 0,
    "start_time": "2025-01-28T05:45:33.493Z"
   },
   {
    "duration": 0,
    "start_time": "2025-01-28T05:45:33.494Z"
   },
   {
    "duration": 0,
    "start_time": "2025-01-28T05:45:33.495Z"
   },
   {
    "duration": 0,
    "start_time": "2025-01-28T05:45:33.496Z"
   },
   {
    "duration": 0,
    "start_time": "2025-01-28T05:45:33.497Z"
   },
   {
    "duration": 0,
    "start_time": "2025-01-28T05:45:33.498Z"
   },
   {
    "duration": 0,
    "start_time": "2025-01-28T05:45:33.499Z"
   },
   {
    "duration": 0,
    "start_time": "2025-01-28T05:45:33.500Z"
   },
   {
    "duration": 0,
    "start_time": "2025-01-28T05:45:33.501Z"
   },
   {
    "duration": 0,
    "start_time": "2025-01-28T05:45:33.502Z"
   },
   {
    "duration": 0,
    "start_time": "2025-01-28T05:45:33.503Z"
   },
   {
    "duration": 0,
    "start_time": "2025-01-28T05:45:33.504Z"
   },
   {
    "duration": 4667,
    "start_time": "2025-01-28T05:46:00.886Z"
   },
   {
    "duration": 49,
    "start_time": "2025-01-28T05:46:05.555Z"
   },
   {
    "duration": 33,
    "start_time": "2025-01-28T05:46:05.606Z"
   },
   {
    "duration": 9,
    "start_time": "2025-01-28T05:46:05.641Z"
   },
   {
    "duration": 48,
    "start_time": "2025-01-28T05:46:05.652Z"
   },
   {
    "duration": 36,
    "start_time": "2025-01-28T05:46:05.702Z"
   },
   {
    "duration": 35,
    "start_time": "2025-01-28T05:46:05.740Z"
   },
   {
    "duration": 498,
    "start_time": "2025-01-28T05:46:05.777Z"
   },
   {
    "duration": 405,
    "start_time": "2025-01-28T05:46:06.277Z"
   },
   {
    "duration": 426,
    "start_time": "2025-01-28T05:46:06.683Z"
   },
   {
    "duration": 4,
    "start_time": "2025-01-28T05:46:07.111Z"
   },
   {
    "duration": 462,
    "start_time": "2025-01-28T05:46:07.116Z"
   },
   {
    "duration": 4,
    "start_time": "2025-01-28T05:46:07.580Z"
   },
   {
    "duration": 171,
    "start_time": "2025-01-28T05:46:07.587Z"
   },
   {
    "duration": 5,
    "start_time": "2025-01-28T05:46:07.759Z"
   },
   {
    "duration": 249,
    "start_time": "2025-01-28T05:46:07.766Z"
   },
   {
    "duration": 15,
    "start_time": "2025-01-28T05:46:08.016Z"
   },
   {
    "duration": 267,
    "start_time": "2025-01-28T05:46:08.033Z"
   },
   {
    "duration": 36,
    "start_time": "2025-01-28T05:46:08.302Z"
   },
   {
    "duration": 16,
    "start_time": "2025-01-28T05:46:08.340Z"
   },
   {
    "duration": 6,
    "start_time": "2025-01-28T05:46:08.358Z"
   },
   {
    "duration": 393,
    "start_time": "2025-01-28T05:46:08.366Z"
   },
   {
    "duration": 347,
    "start_time": "2025-01-28T05:46:08.761Z"
   },
   {
    "duration": 5,
    "start_time": "2025-01-28T05:46:09.109Z"
   },
   {
    "duration": 14,
    "start_time": "2025-01-28T05:46:09.116Z"
   },
   {
    "duration": 4641,
    "start_time": "2025-01-28T05:46:30.662Z"
   },
   {
    "duration": 45,
    "start_time": "2025-01-28T05:46:35.305Z"
   },
   {
    "duration": 63,
    "start_time": "2025-01-28T05:46:35.352Z"
   },
   {
    "duration": 4,
    "start_time": "2025-01-28T05:46:35.417Z"
   },
   {
    "duration": 19,
    "start_time": "2025-01-28T05:46:35.423Z"
   },
   {
    "duration": 35,
    "start_time": "2025-01-28T05:46:35.443Z"
   },
   {
    "duration": 477,
    "start_time": "2025-01-28T05:46:35.480Z"
   },
   {
    "duration": 430,
    "start_time": "2025-01-28T05:46:35.959Z"
   },
   {
    "duration": 445,
    "start_time": "2025-01-28T05:46:36.391Z"
   },
   {
    "duration": 453,
    "start_time": "2025-01-28T05:46:36.840Z"
   },
   {
    "duration": 5,
    "start_time": "2025-01-28T05:46:37.295Z"
   },
   {
    "duration": 170,
    "start_time": "2025-01-28T05:46:37.303Z"
   },
   {
    "duration": 5,
    "start_time": "2025-01-28T05:46:37.475Z"
   },
   {
    "duration": 258,
    "start_time": "2025-01-28T05:46:37.482Z"
   },
   {
    "duration": 9,
    "start_time": "2025-01-28T05:46:37.741Z"
   },
   {
    "duration": 276,
    "start_time": "2025-01-28T05:46:37.751Z"
   },
   {
    "duration": 20,
    "start_time": "2025-01-28T05:46:38.030Z"
   },
   {
    "duration": 3,
    "start_time": "2025-01-28T05:46:38.052Z"
   },
   {
    "duration": 7,
    "start_time": "2025-01-28T05:46:38.057Z"
   },
   {
    "duration": 528,
    "start_time": "2025-01-28T05:46:38.065Z"
   },
   {
    "duration": 364,
    "start_time": "2025-01-28T05:46:38.595Z"
   },
   {
    "duration": 5,
    "start_time": "2025-01-28T05:46:38.960Z"
   },
   {
    "duration": 5,
    "start_time": "2025-01-28T05:46:38.966Z"
   },
   {
    "duration": 3970,
    "start_time": "2025-01-28T05:51:19.015Z"
   },
   {
    "duration": 0,
    "start_time": "2025-01-28T05:51:22.987Z"
   },
   {
    "duration": 0,
    "start_time": "2025-01-28T05:51:22.988Z"
   },
   {
    "duration": 0,
    "start_time": "2025-01-28T05:51:22.989Z"
   },
   {
    "duration": 0,
    "start_time": "2025-01-28T05:51:22.991Z"
   },
   {
    "duration": 0,
    "start_time": "2025-01-28T05:51:22.992Z"
   },
   {
    "duration": 0,
    "start_time": "2025-01-28T05:51:22.993Z"
   },
   {
    "duration": 0,
    "start_time": "2025-01-28T05:51:22.994Z"
   },
   {
    "duration": 0,
    "start_time": "2025-01-28T05:51:22.996Z"
   },
   {
    "duration": 0,
    "start_time": "2025-01-28T05:51:22.997Z"
   },
   {
    "duration": 0,
    "start_time": "2025-01-28T05:51:22.998Z"
   },
   {
    "duration": 0,
    "start_time": "2025-01-28T05:51:22.999Z"
   },
   {
    "duration": 0,
    "start_time": "2025-01-28T05:51:23.000Z"
   },
   {
    "duration": 0,
    "start_time": "2025-01-28T05:51:23.000Z"
   },
   {
    "duration": 0,
    "start_time": "2025-01-28T05:51:23.002Z"
   },
   {
    "duration": 0,
    "start_time": "2025-01-28T05:51:23.002Z"
   },
   {
    "duration": 0,
    "start_time": "2025-01-28T05:51:23.004Z"
   },
   {
    "duration": 0,
    "start_time": "2025-01-28T05:51:23.032Z"
   },
   {
    "duration": 0,
    "start_time": "2025-01-28T05:51:23.034Z"
   },
   {
    "duration": 0,
    "start_time": "2025-01-28T05:51:23.035Z"
   },
   {
    "duration": 0,
    "start_time": "2025-01-28T05:51:23.037Z"
   },
   {
    "duration": 0,
    "start_time": "2025-01-28T05:51:23.039Z"
   },
   {
    "duration": 0,
    "start_time": "2025-01-28T05:51:23.040Z"
   },
   {
    "duration": 0,
    "start_time": "2025-01-28T05:51:23.042Z"
   },
   {
    "duration": 0,
    "start_time": "2025-01-28T05:51:23.044Z"
   },
   {
    "duration": 0,
    "start_time": "2025-01-28T05:51:23.045Z"
   },
   {
    "duration": 0,
    "start_time": "2025-01-28T05:51:23.047Z"
   },
   {
    "duration": 6883,
    "start_time": "2025-01-28T05:51:44.502Z"
   },
   {
    "duration": 7418,
    "start_time": "2025-01-28T05:51:53.199Z"
   },
   {
    "duration": 33,
    "start_time": "2025-01-28T05:52:00.619Z"
   },
   {
    "duration": 34,
    "start_time": "2025-01-28T05:52:00.654Z"
   },
   {
    "duration": 44,
    "start_time": "2025-01-28T05:52:00.690Z"
   },
   {
    "duration": 14,
    "start_time": "2025-01-28T05:52:00.737Z"
   },
   {
    "duration": 26,
    "start_time": "2025-01-28T05:52:00.753Z"
   },
   {
    "duration": 517,
    "start_time": "2025-01-28T05:52:00.781Z"
   },
   {
    "duration": 422,
    "start_time": "2025-01-28T05:52:01.300Z"
   },
   {
    "duration": 469,
    "start_time": "2025-01-28T05:52:01.724Z"
   },
   {
    "duration": 436,
    "start_time": "2025-01-28T05:52:02.197Z"
   },
   {
    "duration": 5,
    "start_time": "2025-01-28T05:52:02.635Z"
   },
   {
    "duration": 201,
    "start_time": "2025-01-28T05:52:02.642Z"
   },
   {
    "duration": 5,
    "start_time": "2025-01-28T05:52:02.845Z"
   },
   {
    "duration": 416,
    "start_time": "2025-01-28T05:52:02.852Z"
   },
   {
    "duration": 11,
    "start_time": "2025-01-28T05:52:03.270Z"
   },
   {
    "duration": 212,
    "start_time": "2025-01-28T05:52:03.283Z"
   },
   {
    "duration": 1175,
    "start_time": "2025-01-28T05:52:03.497Z"
   },
   {
    "duration": 37,
    "start_time": "2025-01-28T05:52:04.674Z"
   },
   {
    "duration": 16,
    "start_time": "2025-01-28T05:52:04.714Z"
   },
   {
    "duration": 23,
    "start_time": "2025-01-28T05:52:04.732Z"
   },
   {
    "duration": 489,
    "start_time": "2025-01-28T05:52:04.758Z"
   },
   {
    "duration": 370,
    "start_time": "2025-01-28T05:52:05.248Z"
   },
   {
    "duration": 11,
    "start_time": "2025-01-28T05:52:05.620Z"
   },
   {
    "duration": 24,
    "start_time": "2025-01-28T05:52:05.633Z"
   },
   {
    "duration": 375774,
    "start_time": "2025-01-28T05:52:05.659Z"
   },
   {
    "duration": 41298,
    "start_time": "2025-01-28T05:58:21.435Z"
   },
   {
    "duration": 522,
    "start_time": "2025-01-28T05:59:02.736Z"
   },
   {
    "duration": 4,
    "start_time": "2025-01-28T05:59:55.119Z"
   },
   {
    "duration": 9,
    "start_time": "2025-01-28T06:00:11.492Z"
   },
   {
    "duration": 436,
    "start_time": "2025-01-28T06:00:25.120Z"
   },
   {
    "duration": 465,
    "start_time": "2025-01-28T06:00:41.091Z"
   },
   {
    "duration": 761,
    "start_time": "2025-01-28T06:01:10.115Z"
   },
   {
    "duration": 983,
    "start_time": "2025-01-28T06:01:41.927Z"
   },
   {
    "duration": 4832,
    "start_time": "2025-01-28T06:01:49.041Z"
   },
   {
    "duration": 708,
    "start_time": "2025-01-28T06:02:23.261Z"
   },
   {
    "duration": 4432,
    "start_time": "2025-01-28T06:19:29.131Z"
   },
   {
    "duration": 4497,
    "start_time": "2025-01-28T06:19:53.807Z"
   },
   {
    "duration": 4525,
    "start_time": "2025-01-28T06:20:25.649Z"
   },
   {
    "duration": 7435,
    "start_time": "2025-01-28T06:30:56.164Z"
   },
   {
    "duration": 34,
    "start_time": "2025-01-28T06:31:03.601Z"
   },
   {
    "duration": 35,
    "start_time": "2025-01-28T06:31:03.636Z"
   },
   {
    "duration": 12,
    "start_time": "2025-01-28T06:31:03.673Z"
   },
   {
    "duration": 29,
    "start_time": "2025-01-28T06:31:03.687Z"
   },
   {
    "duration": 48,
    "start_time": "2025-01-28T06:31:03.718Z"
   },
   {
    "duration": 467,
    "start_time": "2025-01-28T06:31:03.768Z"
   },
   {
    "duration": 443,
    "start_time": "2025-01-28T06:31:04.237Z"
   },
   {
    "duration": 488,
    "start_time": "2025-01-28T06:31:04.683Z"
   },
   {
    "duration": 425,
    "start_time": "2025-01-28T06:31:05.174Z"
   },
   {
    "duration": 4,
    "start_time": "2025-01-28T06:31:05.601Z"
   },
   {
    "duration": 169,
    "start_time": "2025-01-28T06:31:05.607Z"
   },
   {
    "duration": 374,
    "start_time": "2025-01-28T06:31:05.778Z"
   },
   {
    "duration": 10,
    "start_time": "2025-01-28T06:31:06.153Z"
   },
   {
    "duration": 183,
    "start_time": "2025-01-28T06:31:06.164Z"
   },
   {
    "duration": 720,
    "start_time": "2025-01-28T06:31:06.349Z"
   },
   {
    "duration": 4515,
    "start_time": "2025-01-28T06:31:07.071Z"
   },
   {
    "duration": 24,
    "start_time": "2025-01-28T06:31:11.588Z"
   },
   {
    "duration": 17,
    "start_time": "2025-01-28T06:31:11.614Z"
   },
   {
    "duration": 29,
    "start_time": "2025-01-28T06:31:11.633Z"
   },
   {
    "duration": 487,
    "start_time": "2025-01-28T06:31:11.663Z"
   },
   {
    "duration": 368,
    "start_time": "2025-01-28T06:31:12.152Z"
   },
   {
    "duration": 11,
    "start_time": "2025-01-28T06:31:12.521Z"
   },
   {
    "duration": 22,
    "start_time": "2025-01-28T06:31:12.534Z"
   },
   {
    "duration": 338674,
    "start_time": "2025-01-28T06:31:12.558Z"
   },
   {
    "duration": 37320,
    "start_time": "2025-01-28T06:36:51.233Z"
   },
   {
    "duration": 368,
    "start_time": "2025-01-28T06:37:28.630Z"
   },
   {
    "duration": 38841,
    "start_time": "2025-01-28T06:40:47.793Z"
   },
   {
    "duration": 4467,
    "start_time": "2025-01-28T06:58:35.400Z"
   },
   {
    "duration": 4567,
    "start_time": "2025-01-28T06:59:04.028Z"
   },
   {
    "duration": 4328,
    "start_time": "2025-01-28T06:59:42.185Z"
   },
   {
    "duration": 7371,
    "start_time": "2025-01-28T07:13:42.624Z"
   },
   {
    "duration": 44,
    "start_time": "2025-01-28T07:13:49.997Z"
   },
   {
    "duration": 35,
    "start_time": "2025-01-28T07:13:50.043Z"
   },
   {
    "duration": 5,
    "start_time": "2025-01-28T07:13:50.081Z"
   },
   {
    "duration": 38,
    "start_time": "2025-01-28T07:13:50.088Z"
   },
   {
    "duration": 28,
    "start_time": "2025-01-28T07:13:50.128Z"
   },
   {
    "duration": 485,
    "start_time": "2025-01-28T07:13:50.157Z"
   },
   {
    "duration": 429,
    "start_time": "2025-01-28T07:13:50.644Z"
   },
   {
    "duration": 425,
    "start_time": "2025-01-28T07:13:51.075Z"
   },
   {
    "duration": 438,
    "start_time": "2025-01-28T07:13:51.504Z"
   },
   {
    "duration": 5,
    "start_time": "2025-01-28T07:13:51.944Z"
   },
   {
    "duration": 168,
    "start_time": "2025-01-28T07:13:51.951Z"
   },
   {
    "duration": 358,
    "start_time": "2025-01-28T07:13:52.121Z"
   },
   {
    "duration": 8,
    "start_time": "2025-01-28T07:13:52.481Z"
   },
   {
    "duration": 160,
    "start_time": "2025-01-28T07:13:52.491Z"
   },
   {
    "duration": 700,
    "start_time": "2025-01-28T07:13:52.652Z"
   },
   {
    "duration": 4357,
    "start_time": "2025-01-28T07:13:53.354Z"
   },
   {
    "duration": 22,
    "start_time": "2025-01-28T07:13:57.713Z"
   },
   {
    "duration": 4,
    "start_time": "2025-01-28T07:13:57.737Z"
   },
   {
    "duration": 44,
    "start_time": "2025-01-28T07:13:57.742Z"
   },
   {
    "duration": 474,
    "start_time": "2025-01-28T07:13:57.788Z"
   },
   {
    "duration": 389,
    "start_time": "2025-01-28T07:13:58.263Z"
   },
   {
    "duration": 5,
    "start_time": "2025-01-28T07:13:58.654Z"
   },
   {
    "duration": 4,
    "start_time": "2025-01-28T07:13:58.660Z"
   },
   {
    "duration": 334277,
    "start_time": "2025-01-28T07:13:58.666Z"
   },
   {
    "duration": 38787,
    "start_time": "2025-01-28T07:19:32.945Z"
   },
   {
    "duration": 401,
    "start_time": "2025-01-28T07:20:11.734Z"
   },
   {
    "duration": 102573,
    "start_time": "2025-01-28T21:01:04.131Z"
   },
   {
    "duration": 41,
    "start_time": "2025-01-28T21:02:46.707Z"
   },
   {
    "duration": 31,
    "start_time": "2025-01-28T21:02:46.749Z"
   },
   {
    "duration": 3,
    "start_time": "2025-01-28T21:02:46.782Z"
   },
   {
    "duration": 16,
    "start_time": "2025-01-28T21:02:46.787Z"
   },
   {
    "duration": 7,
    "start_time": "2025-01-28T21:02:46.804Z"
   },
   {
    "duration": 473,
    "start_time": "2025-01-28T21:02:46.813Z"
   },
   {
    "duration": 415,
    "start_time": "2025-01-28T21:02:47.288Z"
   },
   {
    "duration": 429,
    "start_time": "2025-01-28T21:02:47.705Z"
   },
   {
    "duration": 426,
    "start_time": "2025-01-28T21:02:48.136Z"
   },
   {
    "duration": 5,
    "start_time": "2025-01-28T21:02:48.563Z"
   },
   {
    "duration": 156,
    "start_time": "2025-01-28T21:02:48.569Z"
   },
   {
    "duration": 333,
    "start_time": "2025-01-28T21:02:48.726Z"
   },
   {
    "duration": 8,
    "start_time": "2025-01-28T21:02:49.062Z"
   },
   {
    "duration": 152,
    "start_time": "2025-01-28T21:02:49.071Z"
   },
   {
    "duration": 697,
    "start_time": "2025-01-28T21:02:49.225Z"
   },
   {
    "duration": 4042,
    "start_time": "2025-01-28T21:02:49.923Z"
   },
   {
    "duration": 19,
    "start_time": "2025-01-28T21:02:53.967Z"
   },
   {
    "duration": 4,
    "start_time": "2025-01-28T21:02:53.988Z"
   },
   {
    "duration": 5,
    "start_time": "2025-01-28T21:02:53.993Z"
   },
   {
    "duration": 4362,
    "start_time": "2025-01-28T21:02:54.000Z"
   },
   {
    "duration": 355,
    "start_time": "2025-01-28T21:02:58.364Z"
   },
   {
    "duration": 12,
    "start_time": "2025-01-28T21:02:58.721Z"
   },
   {
    "duration": 16,
    "start_time": "2025-01-28T21:02:58.735Z"
   },
   {
    "duration": 321300,
    "start_time": "2025-01-28T21:02:58.752Z"
   },
   {
    "duration": 35583,
    "start_time": "2025-01-28T21:08:20.054Z"
   },
   {
    "duration": 370,
    "start_time": "2025-01-28T21:08:55.639Z"
   },
   {
    "duration": 6827,
    "start_time": "2025-01-28T21:28:19.236Z"
   },
   {
    "duration": 30,
    "start_time": "2025-01-28T21:28:26.064Z"
   },
   {
    "duration": 30,
    "start_time": "2025-01-28T21:28:26.096Z"
   },
   {
    "duration": 6,
    "start_time": "2025-01-28T21:28:26.127Z"
   },
   {
    "duration": 17,
    "start_time": "2025-01-28T21:28:26.136Z"
   },
   {
    "duration": 10,
    "start_time": "2025-01-28T21:28:26.154Z"
   },
   {
    "duration": 429,
    "start_time": "2025-01-28T21:28:26.166Z"
   },
   {
    "duration": 419,
    "start_time": "2025-01-28T21:28:26.597Z"
   },
   {
    "duration": 443,
    "start_time": "2025-01-28T21:28:27.018Z"
   },
   {
    "duration": 434,
    "start_time": "2025-01-28T21:28:27.463Z"
   },
   {
    "duration": 4,
    "start_time": "2025-01-28T21:28:27.899Z"
   },
   {
    "duration": 230,
    "start_time": "2025-01-28T21:28:27.904Z"
   },
   {
    "duration": 328,
    "start_time": "2025-01-28T21:28:28.136Z"
   },
   {
    "duration": 8,
    "start_time": "2025-01-28T21:28:28.467Z"
   },
   {
    "duration": 159,
    "start_time": "2025-01-28T21:28:28.476Z"
   },
   {
    "duration": 705,
    "start_time": "2025-01-28T21:28:28.636Z"
   },
   {
    "duration": 4044,
    "start_time": "2025-01-28T21:28:29.343Z"
   },
   {
    "duration": 21,
    "start_time": "2025-01-28T21:28:33.389Z"
   },
   {
    "duration": 20,
    "start_time": "2025-01-28T21:28:33.412Z"
   },
   {
    "duration": 12,
    "start_time": "2025-01-28T21:28:33.434Z"
   },
   {
    "duration": 2598,
    "start_time": "2025-01-28T21:28:33.447Z"
   },
   {
    "duration": 351,
    "start_time": "2025-01-28T21:28:36.047Z"
   },
   {
    "duration": 5,
    "start_time": "2025-01-28T21:28:36.400Z"
   },
   {
    "duration": 42,
    "start_time": "2025-01-28T21:28:36.406Z"
   },
   {
    "duration": 6853,
    "start_time": "2025-01-28T21:33:19.827Z"
   },
   {
    "duration": 31,
    "start_time": "2025-01-28T21:33:26.682Z"
   },
   {
    "duration": 33,
    "start_time": "2025-01-28T21:33:26.715Z"
   },
   {
    "duration": 4,
    "start_time": "2025-01-28T21:33:26.750Z"
   },
   {
    "duration": 6,
    "start_time": "2025-01-28T21:33:26.755Z"
   },
   {
    "duration": 5,
    "start_time": "2025-01-28T21:33:26.763Z"
   },
   {
    "duration": 435,
    "start_time": "2025-01-28T21:33:26.769Z"
   },
   {
    "duration": 429,
    "start_time": "2025-01-28T21:33:27.206Z"
   },
   {
    "duration": 443,
    "start_time": "2025-01-28T21:33:27.637Z"
   },
   {
    "duration": 410,
    "start_time": "2025-01-28T21:33:28.082Z"
   },
   {
    "duration": 4,
    "start_time": "2025-01-28T21:33:28.493Z"
   },
   {
    "duration": 153,
    "start_time": "2025-01-28T21:33:28.498Z"
   },
   {
    "duration": 325,
    "start_time": "2025-01-28T21:33:28.653Z"
   },
   {
    "duration": 8,
    "start_time": "2025-01-28T21:33:28.979Z"
   },
   {
    "duration": 163,
    "start_time": "2025-01-28T21:33:28.988Z"
   },
   {
    "duration": 687,
    "start_time": "2025-01-28T21:33:29.152Z"
   },
   {
    "duration": 4048,
    "start_time": "2025-01-28T21:33:29.841Z"
   },
   {
    "duration": 21,
    "start_time": "2025-01-28T21:33:33.890Z"
   },
   {
    "duration": 21,
    "start_time": "2025-01-28T21:33:33.913Z"
   },
   {
    "duration": 13,
    "start_time": "2025-01-28T21:33:33.935Z"
   },
   {
    "duration": 4354,
    "start_time": "2025-01-28T21:33:33.949Z"
   },
   {
    "duration": 330,
    "start_time": "2025-01-28T21:33:38.305Z"
   },
   {
    "duration": 4,
    "start_time": "2025-01-28T21:33:38.637Z"
   },
   {
    "duration": 34,
    "start_time": "2025-01-28T21:33:38.643Z"
   },
   {
    "duration": 392777,
    "start_time": "2025-01-28T21:33:38.679Z"
   },
   {
    "duration": 36519,
    "start_time": "2025-01-28T21:40:11.532Z"
   },
   {
    "duration": 423,
    "start_time": "2025-01-28T21:40:48.053Z"
   },
   {
    "duration": 3,
    "start_time": "2025-01-28T21:40:48.479Z"
   },
   {
    "duration": 813463,
    "start_time": "2025-01-28T21:40:48.484Z"
   },
   {
    "duration": 36799,
    "start_time": "2025-01-28T21:54:21.949Z"
   },
   {
    "duration": 6704,
    "start_time": "2025-01-28T23:11:19.014Z"
   },
   {
    "duration": 32,
    "start_time": "2025-01-28T23:11:25.720Z"
   },
   {
    "duration": 32,
    "start_time": "2025-01-28T23:11:25.753Z"
   },
   {
    "duration": 3,
    "start_time": "2025-01-28T23:11:25.788Z"
   },
   {
    "duration": 5,
    "start_time": "2025-01-28T23:11:25.793Z"
   },
   {
    "duration": 33,
    "start_time": "2025-01-28T23:11:25.800Z"
   },
   {
    "duration": 437,
    "start_time": "2025-01-28T23:11:25.835Z"
   },
   {
    "duration": 395,
    "start_time": "2025-01-28T23:11:26.274Z"
   },
   {
    "duration": 412,
    "start_time": "2025-01-28T23:11:26.671Z"
   },
   {
    "duration": 389,
    "start_time": "2025-01-28T23:11:27.085Z"
   },
   {
    "duration": 4,
    "start_time": "2025-01-28T23:11:27.476Z"
   },
   {
    "duration": 165,
    "start_time": "2025-01-28T23:11:27.481Z"
   },
   {
    "duration": 349,
    "start_time": "2025-01-28T23:11:27.648Z"
   },
   {
    "duration": 9,
    "start_time": "2025-01-28T23:11:27.999Z"
   },
   {
    "duration": 159,
    "start_time": "2025-01-28T23:11:28.010Z"
   },
   {
    "duration": 665,
    "start_time": "2025-01-28T23:11:28.170Z"
   },
   {
    "duration": 4086,
    "start_time": "2025-01-28T23:11:28.837Z"
   },
   {
    "duration": 25,
    "start_time": "2025-01-28T23:11:32.925Z"
   },
   {
    "duration": 13,
    "start_time": "2025-01-28T23:11:32.952Z"
   },
   {
    "duration": 38,
    "start_time": "2025-01-28T23:11:32.967Z"
   },
   {
    "duration": 4277,
    "start_time": "2025-01-28T23:11:33.006Z"
   },
   {
    "duration": 352,
    "start_time": "2025-01-28T23:11:37.284Z"
   },
   {
    "duration": 5,
    "start_time": "2025-01-28T23:11:37.638Z"
   },
   {
    "duration": 7,
    "start_time": "2025-01-28T23:11:37.644Z"
   },
   {
    "duration": 312784,
    "start_time": "2025-01-28T23:11:37.652Z"
   },
   {
    "duration": 35013,
    "start_time": "2025-01-28T23:16:50.437Z"
   },
   {
    "duration": 403,
    "start_time": "2025-01-28T23:17:25.452Z"
   }
  ],
  "kernelspec": {
   "display_name": "Python 3 (ipykernel)",
   "language": "python",
   "name": "python3"
  },
  "language_info": {
   "codemirror_mode": {
    "name": "ipython",
    "version": 3
   },
   "file_extension": ".py",
   "mimetype": "text/x-python",
   "name": "python",
   "nbconvert_exporter": "python",
   "pygments_lexer": "ipython3",
   "version": "3.11.7"
  },
  "toc": {
   "base_numbering": 1,
   "nav_menu": {},
   "number_sections": false,
   "sideBar": true,
   "skip_h1_title": false,
   "title_cell": "Table of Contents",
   "title_sidebar": "Contents",
   "toc_cell": false,
   "toc_position": {},
   "toc_section_display": true,
   "toc_window_display": false
  },
  "varInspector": {
   "cols": {
    "lenName": 16,
    "lenType": 16,
    "lenVar": 40
   },
   "kernels_config": {
    "python": {
     "delete_cmd_postfix": "",
     "delete_cmd_prefix": "del ",
     "library": "var_list.py",
     "varRefreshCmd": "print(var_dic_list())"
    },
    "r": {
     "delete_cmd_postfix": ") ",
     "delete_cmd_prefix": "rm(",
     "library": "var_list.r",
     "varRefreshCmd": "cat(var_dic_list()) "
    }
   },
   "types_to_exclude": [
    "module",
    "function",
    "builtin_function_or_method",
    "instance",
    "_Feature"
   ],
   "window_display": false
  }
 },
 "nbformat": 4,
 "nbformat_minor": 5
}
