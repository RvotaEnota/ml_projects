{
 "cells": [
  {
   "cell_type": "markdown",
   "metadata": {},
   "source": [
    "# Выбор локации для скважины"
   ]
  },
  {
   "cell_type": "markdown",
   "metadata": {},
   "source": [
    "**Условие:**\n",
    "\n",
    "Допустим, вы работаете в добывающей компании «ГлавРосГосНефть». Нужно решить, где бурить новую скважину.\n",
    "\n",
    "Вам предоставлены пробы нефти в трёх регионах: в каждом 10 000 месторождений, где измерили качество нефти и объём её запасов. Постройте модель машинного обучения, которая поможет определить регион, где добыча принесёт наибольшую прибыль. Проанализируйте возможную прибыль и риски техникой *Bootstrap.*\n",
    "___\n",
    "\n",
    "**Шаги для выбора локации:**\n",
    "\n",
    "- В избранном регионе ищут месторождения, для каждого определяют значения признаков;\n",
    "- Строят модель и оценивают объём запасов;\n",
    "- Выбирают месторождения с самым высокими оценками значений. Количество месторождений зависит от бюджета компании и стоимости разработки одной скважины;\n",
    "- Прибыль равна суммарной прибыли отобранных месторождений.\n",
    "___\n",
    "\n",
    "**Для работы нам предоставили 3 региона, в датасетах:**\n",
    " \n",
    "- geo_data_0.csv\n",
    "- geo_data_1.csv\n",
    "- geo_data_2.csv\n",
    "\n",
    "**Данные, которые в них присутствуют:**\n",
    "\n",
    "- id — уникальный идентификатор скважины;\n",
    "- f0, f1, f2 — три признака точек (неважно, что они означают, но сами признаки значимы);\n",
    "- product — объём запасов в скважине (тыс. баррелей).\n",
    "___\n",
    "\n",
    "**План работы:**\n",
    "\n",
    "- Загрузка и подготовка данных\n",
    "- Обучение и проверка модели\n",
    "- Подготовка к расчёту прибыли\n",
    "- Расчёт прибыли и рисков\n",
    "- Вывод по работе"
   ]
  },
  {
   "cell_type": "markdown",
   "metadata": {},
   "source": [
    "## Загрузка и подготовка данных"
   ]
  },
  {
   "cell_type": "code",
   "execution_count": 1,
   "metadata": {},
   "outputs": [],
   "source": [
    "import pandas as pd\n",
    "import numpy as np\n",
    "import matplotlib.pyplot as plt\n",
    "import seaborn as sns\n",
    "from sklearn.model_selection import train_test_split\n",
    "from sklearn.preprocessing import StandardScaler\n",
    "from sklearn.linear_model import LinearRegression\n",
    "from sklearn.metrics import mean_squared_error\n",
    "\n",
    "import warnings\n",
    "warnings.filterwarnings(\"ignore\")\n",
    "\n",
    "RANDOM_STATE = 42\n",
    "TEST_SIZE = .25"
   ]
  },
  {
   "cell_type": "code",
   "execution_count": 2,
   "metadata": {},
   "outputs": [],
   "source": [
    "zero = pd.read_csv('/datasets/geo_data_0.csv')\n",
    "first = pd.read_csv('/datasets/geo_data_1.csv')\n",
    "second = pd.read_csv('/datasets/geo_data_2.csv')"
   ]
  },
  {
   "cell_type": "code",
   "execution_count": 3,
   "metadata": {},
   "outputs": [],
   "source": [
    "#Создадим функцию для просмотра и визуализации датафрейма\n",
    "def df_info(df):\n",
    "    display(df.head())\n",
    "    print()\n",
    "    print(df.info())\n",
    "    print()\n",
    "    print(f\"Количество очевидных дубликатов = {df.duplicated().sum()}\")\n",
    "    print()\n",
    "    id_duplicates = df[df.duplicated(['id'], keep=False)]['id'].unique()\n",
    "    print(f\"Количество неуникальных значений в столбце 'id' = {len(id_duplicates)}\")\n",
    "    print()\n",
    "    print(f\"Количество пропусков = {df.isna().sum()}\")\n",
    "    print()\n",
    "    display(df.describe())\n",
    "    corr_matrix = df.corr()\n",
    "    print(\"Корреляционная матрица:\")\n",
    "    display(corr_matrix)\n",
    "\n",
    "    for col_name in df.columns:\n",
    "        if df[col_name].dtype in ['int64', 'float64']:\n",
    "            fig, (ax1, ax2) = plt.subplots(ncols=2, figsize=(16, 5))\n",
    "\n",
    "            sns.histplot(df[col_name], ax=ax1)\n",
    "            ax1.set_title(f\"Распределение значений признака {col_name}\")\n",
    "            ax1.set_xlabel(col_name)\n",
    "            ax1.set_ylabel('Количество')\n",
    "\n",
    "            sns.boxplot(y=df[col_name], ax=ax2)\n",
    "            ax2.set_title(f\"Боксплот признака {col_name}\")\n",
    "            ax2.set_xlabel(col_name)\n",
    "            ax2.set_ylabel('Значение')\n",
    "\n",
    "            plt.tight_layout()\n",
    "            plt.show()"
   ]
  },
  {
   "cell_type": "markdown",
   "metadata": {},
   "source": [
    "### Первый регион"
   ]
  },
  {
   "cell_type": "code",
   "execution_count": 4,
   "metadata": {},
   "outputs": [
    {
     "data": {
      "text/html": [
       "<div>\n",
       "<style scoped>\n",
       "    .dataframe tbody tr th:only-of-type {\n",
       "        vertical-align: middle;\n",
       "    }\n",
       "\n",
       "    .dataframe tbody tr th {\n",
       "        vertical-align: top;\n",
       "    }\n",
       "\n",
       "    .dataframe thead th {\n",
       "        text-align: right;\n",
       "    }\n",
       "</style>\n",
       "<table border=\"1\" class=\"dataframe\">\n",
       "  <thead>\n",
       "    <tr style=\"text-align: right;\">\n",
       "      <th></th>\n",
       "      <th>id</th>\n",
       "      <th>f0</th>\n",
       "      <th>f1</th>\n",
       "      <th>f2</th>\n",
       "      <th>product</th>\n",
       "    </tr>\n",
       "  </thead>\n",
       "  <tbody>\n",
       "    <tr>\n",
       "      <th>0</th>\n",
       "      <td>txEyH</td>\n",
       "      <td>0.705745</td>\n",
       "      <td>-0.497823</td>\n",
       "      <td>1.221170</td>\n",
       "      <td>105.280062</td>\n",
       "    </tr>\n",
       "    <tr>\n",
       "      <th>1</th>\n",
       "      <td>2acmU</td>\n",
       "      <td>1.334711</td>\n",
       "      <td>-0.340164</td>\n",
       "      <td>4.365080</td>\n",
       "      <td>73.037750</td>\n",
       "    </tr>\n",
       "    <tr>\n",
       "      <th>2</th>\n",
       "      <td>409Wp</td>\n",
       "      <td>1.022732</td>\n",
       "      <td>0.151990</td>\n",
       "      <td>1.419926</td>\n",
       "      <td>85.265647</td>\n",
       "    </tr>\n",
       "    <tr>\n",
       "      <th>3</th>\n",
       "      <td>iJLyR</td>\n",
       "      <td>-0.032172</td>\n",
       "      <td>0.139033</td>\n",
       "      <td>2.978566</td>\n",
       "      <td>168.620776</td>\n",
       "    </tr>\n",
       "    <tr>\n",
       "      <th>4</th>\n",
       "      <td>Xdl7t</td>\n",
       "      <td>1.988431</td>\n",
       "      <td>0.155413</td>\n",
       "      <td>4.751769</td>\n",
       "      <td>154.036647</td>\n",
       "    </tr>\n",
       "  </tbody>\n",
       "</table>\n",
       "</div>"
      ],
      "text/plain": [
       "      id        f0        f1        f2     product\n",
       "0  txEyH  0.705745 -0.497823  1.221170  105.280062\n",
       "1  2acmU  1.334711 -0.340164  4.365080   73.037750\n",
       "2  409Wp  1.022732  0.151990  1.419926   85.265647\n",
       "3  iJLyR -0.032172  0.139033  2.978566  168.620776\n",
       "4  Xdl7t  1.988431  0.155413  4.751769  154.036647"
      ]
     },
     "metadata": {},
     "output_type": "display_data"
    },
    {
     "name": "stdout",
     "output_type": "stream",
     "text": [
      "\n",
      "<class 'pandas.core.frame.DataFrame'>\n",
      "RangeIndex: 100000 entries, 0 to 99999\n",
      "Data columns (total 5 columns):\n",
      " #   Column   Non-Null Count   Dtype  \n",
      "---  ------   --------------   -----  \n",
      " 0   id       100000 non-null  object \n",
      " 1   f0       100000 non-null  float64\n",
      " 2   f1       100000 non-null  float64\n",
      " 3   f2       100000 non-null  float64\n",
      " 4   product  100000 non-null  float64\n",
      "dtypes: float64(4), object(1)\n",
      "memory usage: 3.8+ MB\n",
      "None\n",
      "\n",
      "Количество очевидных дубликатов = 0\n",
      "\n",
      "Количество неуникальных значений в столбце 'id' = 10\n",
      "\n",
      "Количество пропусков = id         0\n",
      "f0         0\n",
      "f1         0\n",
      "f2         0\n",
      "product    0\n",
      "dtype: int64\n",
      "\n"
     ]
    },
    {
     "data": {
      "text/html": [
       "<div>\n",
       "<style scoped>\n",
       "    .dataframe tbody tr th:only-of-type {\n",
       "        vertical-align: middle;\n",
       "    }\n",
       "\n",
       "    .dataframe tbody tr th {\n",
       "        vertical-align: top;\n",
       "    }\n",
       "\n",
       "    .dataframe thead th {\n",
       "        text-align: right;\n",
       "    }\n",
       "</style>\n",
       "<table border=\"1\" class=\"dataframe\">\n",
       "  <thead>\n",
       "    <tr style=\"text-align: right;\">\n",
       "      <th></th>\n",
       "      <th>f0</th>\n",
       "      <th>f1</th>\n",
       "      <th>f2</th>\n",
       "      <th>product</th>\n",
       "    </tr>\n",
       "  </thead>\n",
       "  <tbody>\n",
       "    <tr>\n",
       "      <th>count</th>\n",
       "      <td>100000.000000</td>\n",
       "      <td>100000.000000</td>\n",
       "      <td>100000.000000</td>\n",
       "      <td>100000.000000</td>\n",
       "    </tr>\n",
       "    <tr>\n",
       "      <th>mean</th>\n",
       "      <td>0.500419</td>\n",
       "      <td>0.250143</td>\n",
       "      <td>2.502647</td>\n",
       "      <td>92.500000</td>\n",
       "    </tr>\n",
       "    <tr>\n",
       "      <th>std</th>\n",
       "      <td>0.871832</td>\n",
       "      <td>0.504433</td>\n",
       "      <td>3.248248</td>\n",
       "      <td>44.288691</td>\n",
       "    </tr>\n",
       "    <tr>\n",
       "      <th>min</th>\n",
       "      <td>-1.408605</td>\n",
       "      <td>-0.848218</td>\n",
       "      <td>-12.088328</td>\n",
       "      <td>0.000000</td>\n",
       "    </tr>\n",
       "    <tr>\n",
       "      <th>25%</th>\n",
       "      <td>-0.072580</td>\n",
       "      <td>-0.200881</td>\n",
       "      <td>0.287748</td>\n",
       "      <td>56.497507</td>\n",
       "    </tr>\n",
       "    <tr>\n",
       "      <th>50%</th>\n",
       "      <td>0.502360</td>\n",
       "      <td>0.250252</td>\n",
       "      <td>2.515969</td>\n",
       "      <td>91.849972</td>\n",
       "    </tr>\n",
       "    <tr>\n",
       "      <th>75%</th>\n",
       "      <td>1.073581</td>\n",
       "      <td>0.700646</td>\n",
       "      <td>4.715088</td>\n",
       "      <td>128.564089</td>\n",
       "    </tr>\n",
       "    <tr>\n",
       "      <th>max</th>\n",
       "      <td>2.362331</td>\n",
       "      <td>1.343769</td>\n",
       "      <td>16.003790</td>\n",
       "      <td>185.364347</td>\n",
       "    </tr>\n",
       "  </tbody>\n",
       "</table>\n",
       "</div>"
      ],
      "text/plain": [
       "                  f0             f1             f2        product\n",
       "count  100000.000000  100000.000000  100000.000000  100000.000000\n",
       "mean        0.500419       0.250143       2.502647      92.500000\n",
       "std         0.871832       0.504433       3.248248      44.288691\n",
       "min        -1.408605      -0.848218     -12.088328       0.000000\n",
       "25%        -0.072580      -0.200881       0.287748      56.497507\n",
       "50%         0.502360       0.250252       2.515969      91.849972\n",
       "75%         1.073581       0.700646       4.715088     128.564089\n",
       "max         2.362331       1.343769      16.003790     185.364347"
      ]
     },
     "metadata": {},
     "output_type": "display_data"
    },
    {
     "name": "stdout",
     "output_type": "stream",
     "text": [
      "Корреляционная матрица:\n"
     ]
    },
    {
     "data": {
      "text/html": [
       "<div>\n",
       "<style scoped>\n",
       "    .dataframe tbody tr th:only-of-type {\n",
       "        vertical-align: middle;\n",
       "    }\n",
       "\n",
       "    .dataframe tbody tr th {\n",
       "        vertical-align: top;\n",
       "    }\n",
       "\n",
       "    .dataframe thead th {\n",
       "        text-align: right;\n",
       "    }\n",
       "</style>\n",
       "<table border=\"1\" class=\"dataframe\">\n",
       "  <thead>\n",
       "    <tr style=\"text-align: right;\">\n",
       "      <th></th>\n",
       "      <th>f0</th>\n",
       "      <th>f1</th>\n",
       "      <th>f2</th>\n",
       "      <th>product</th>\n",
       "    </tr>\n",
       "  </thead>\n",
       "  <tbody>\n",
       "    <tr>\n",
       "      <th>f0</th>\n",
       "      <td>1.000000</td>\n",
       "      <td>-0.440723</td>\n",
       "      <td>-0.003153</td>\n",
       "      <td>0.143536</td>\n",
       "    </tr>\n",
       "    <tr>\n",
       "      <th>f1</th>\n",
       "      <td>-0.440723</td>\n",
       "      <td>1.000000</td>\n",
       "      <td>0.001724</td>\n",
       "      <td>-0.192356</td>\n",
       "    </tr>\n",
       "    <tr>\n",
       "      <th>f2</th>\n",
       "      <td>-0.003153</td>\n",
       "      <td>0.001724</td>\n",
       "      <td>1.000000</td>\n",
       "      <td>0.483663</td>\n",
       "    </tr>\n",
       "    <tr>\n",
       "      <th>product</th>\n",
       "      <td>0.143536</td>\n",
       "      <td>-0.192356</td>\n",
       "      <td>0.483663</td>\n",
       "      <td>1.000000</td>\n",
       "    </tr>\n",
       "  </tbody>\n",
       "</table>\n",
       "</div>"
      ],
      "text/plain": [
       "               f0        f1        f2   product\n",
       "f0       1.000000 -0.440723 -0.003153  0.143536\n",
       "f1      -0.440723  1.000000  0.001724 -0.192356\n",
       "f2      -0.003153  0.001724  1.000000  0.483663\n",
       "product  0.143536 -0.192356  0.483663  1.000000"
      ]
     },
     "metadata": {},
     "output_type": "display_data"
    },
    {
     "data": {
      "image/png": "[encoded data removed]",
      "text/plain": [
       "<Figure size 1152x360 with 2 Axes>"
      ]
     },
     "metadata": {
      "needs_background": "light"
     },
     "output_type": "display_data"
    },
    {
     "data": {
      "image/png": "[encoded data removed]",
      "text/plain": [
       "<Figure size 1152x360 with 2 Axes>"
      ]
     },
     "metadata": {
      "needs_background": "light"
     },
     "output_type": "display_data"
    },
    {
     "data": {
      "image/png": "[encoded data removed]",
      "text/plain": [
       "<Figure size 1152x360 with 2 Axes>"
      ]
     },
     "metadata": {
      "needs_background": "light"
     },
     "output_type": "display_data"
    },
    {
     "data": {
      "image/png": "[encoded data removed]",
      "text/plain": [
       "<Figure size 1152x360 with 2 Axes>"
      ]
     },
     "metadata": {
      "needs_background": "light"
     },
     "output_type": "display_data"
    }
   ],
   "source": [
    "df_info(zero)"
   ]
  },
  {
   "cell_type": "code",
   "execution_count": 5,
   "metadata": {},
   "outputs": [
    {
     "name": "stdout",
     "output_type": "stream",
     "text": [
      "<class 'pandas.core.frame.DataFrame'>\n",
      "Int64Index: 99990 entries, 0 to 99999\n",
      "Data columns (total 5 columns):\n",
      " #   Column   Non-Null Count  Dtype  \n",
      "---  ------   --------------  -----  \n",
      " 0   id       99990 non-null  object \n",
      " 1   f0       99990 non-null  float64\n",
      " 2   f1       99990 non-null  float64\n",
      " 3   f2       99990 non-null  float64\n",
      " 4   product  99990 non-null  float64\n",
      "dtypes: float64(4), object(1)\n",
      "memory usage: 4.6+ MB\n"
     ]
    }
   ],
   "source": [
    "#удалим дубликаты по уникальному номеру\n",
    "zero = zero.drop_duplicates(subset=['id'], keep='first')\n",
    "zero.info()"
   ]
  },
  {
   "cell_type": "markdown",
   "metadata": {},
   "source": [
    "### Второй регион"
   ]
  },
  {
   "cell_type": "code",
   "execution_count": 6,
   "metadata": {},
   "outputs": [
    {
     "data": {
      "text/html": [
       "<div>\n",
       "<style scoped>\n",
       "    .dataframe tbody tr th:only-of-type {\n",
       "        vertical-align: middle;\n",
       "    }\n",
       "\n",
       "    .dataframe tbody tr th {\n",
       "        vertical-align: top;\n",
       "    }\n",
       "\n",
       "    .dataframe thead th {\n",
       "        text-align: right;\n",
       "    }\n",
       "</style>\n",
       "<table border=\"1\" class=\"dataframe\">\n",
       "  <thead>\n",
       "    <tr style=\"text-align: right;\">\n",
       "      <th></th>\n",
       "      <th>id</th>\n",
       "      <th>f0</th>\n",
       "      <th>f1</th>\n",
       "      <th>f2</th>\n",
       "      <th>product</th>\n",
       "    </tr>\n",
       "  </thead>\n",
       "  <tbody>\n",
       "    <tr>\n",
       "      <th>0</th>\n",
       "      <td>kBEdx</td>\n",
       "      <td>-15.001348</td>\n",
       "      <td>-8.276000</td>\n",
       "      <td>-0.005876</td>\n",
       "      <td>3.179103</td>\n",
       "    </tr>\n",
       "    <tr>\n",
       "      <th>1</th>\n",
       "      <td>62mP7</td>\n",
       "      <td>14.272088</td>\n",
       "      <td>-3.475083</td>\n",
       "      <td>0.999183</td>\n",
       "      <td>26.953261</td>\n",
       "    </tr>\n",
       "    <tr>\n",
       "      <th>2</th>\n",
       "      <td>vyE1P</td>\n",
       "      <td>6.263187</td>\n",
       "      <td>-5.948386</td>\n",
       "      <td>5.001160</td>\n",
       "      <td>134.766305</td>\n",
       "    </tr>\n",
       "    <tr>\n",
       "      <th>3</th>\n",
       "      <td>KcrkZ</td>\n",
       "      <td>-13.081196</td>\n",
       "      <td>-11.506057</td>\n",
       "      <td>4.999415</td>\n",
       "      <td>137.945408</td>\n",
       "    </tr>\n",
       "    <tr>\n",
       "      <th>4</th>\n",
       "      <td>AHL4O</td>\n",
       "      <td>12.702195</td>\n",
       "      <td>-8.147433</td>\n",
       "      <td>5.004363</td>\n",
       "      <td>134.766305</td>\n",
       "    </tr>\n",
       "  </tbody>\n",
       "</table>\n",
       "</div>"
      ],
      "text/plain": [
       "      id         f0         f1        f2     product\n",
       "0  kBEdx -15.001348  -8.276000 -0.005876    3.179103\n",
       "1  62mP7  14.272088  -3.475083  0.999183   26.953261\n",
       "2  vyE1P   6.263187  -5.948386  5.001160  134.766305\n",
       "3  KcrkZ -13.081196 -11.506057  4.999415  137.945408\n",
       "4  AHL4O  12.702195  -8.147433  5.004363  134.766305"
      ]
     },
     "metadata": {},
     "output_type": "display_data"
    },
    {
     "name": "stdout",
     "output_type": "stream",
     "text": [
      "\n",
      "<class 'pandas.core.frame.DataFrame'>\n",
      "RangeIndex: 100000 entries, 0 to 99999\n",
      "Data columns (total 5 columns):\n",
      " #   Column   Non-Null Count   Dtype  \n",
      "---  ------   --------------   -----  \n",
      " 0   id       100000 non-null  object \n",
      " 1   f0       100000 non-null  float64\n",
      " 2   f1       100000 non-null  float64\n",
      " 3   f2       100000 non-null  float64\n",
      " 4   product  100000 non-null  float64\n",
      "dtypes: float64(4), object(1)\n",
      "memory usage: 3.8+ MB\n",
      "None\n",
      "\n",
      "Количество очевидных дубликатов = 0\n",
      "\n",
      "Количество неуникальных значений в столбце 'id' = 4\n",
      "\n",
      "Количество пропусков = id         0\n",
      "f0         0\n",
      "f1         0\n",
      "f2         0\n",
      "product    0\n",
      "dtype: int64\n",
      "\n"
     ]
    },
    {
     "data": {
      "text/html": [
       "<div>\n",
       "<style scoped>\n",
       "    .dataframe tbody tr th:only-of-type {\n",
       "        vertical-align: middle;\n",
       "    }\n",
       "\n",
       "    .dataframe tbody tr th {\n",
       "        vertical-align: top;\n",
       "    }\n",
       "\n",
       "    .dataframe thead th {\n",
       "        text-align: right;\n",
       "    }\n",
       "</style>\n",
       "<table border=\"1\" class=\"dataframe\">\n",
       "  <thead>\n",
       "    <tr style=\"text-align: right;\">\n",
       "      <th></th>\n",
       "      <th>f0</th>\n",
       "      <th>f1</th>\n",
       "      <th>f2</th>\n",
       "      <th>product</th>\n",
       "    </tr>\n",
       "  </thead>\n",
       "  <tbody>\n",
       "    <tr>\n",
       "      <th>count</th>\n",
       "      <td>100000.000000</td>\n",
       "      <td>100000.000000</td>\n",
       "      <td>100000.000000</td>\n",
       "      <td>100000.000000</td>\n",
       "    </tr>\n",
       "    <tr>\n",
       "      <th>mean</th>\n",
       "      <td>1.141296</td>\n",
       "      <td>-4.796579</td>\n",
       "      <td>2.494541</td>\n",
       "      <td>68.825000</td>\n",
       "    </tr>\n",
       "    <tr>\n",
       "      <th>std</th>\n",
       "      <td>8.965932</td>\n",
       "      <td>5.119872</td>\n",
       "      <td>1.703572</td>\n",
       "      <td>45.944423</td>\n",
       "    </tr>\n",
       "    <tr>\n",
       "      <th>min</th>\n",
       "      <td>-31.609576</td>\n",
       "      <td>-26.358598</td>\n",
       "      <td>-0.018144</td>\n",
       "      <td>0.000000</td>\n",
       "    </tr>\n",
       "    <tr>\n",
       "      <th>25%</th>\n",
       "      <td>-6.298551</td>\n",
       "      <td>-8.267985</td>\n",
       "      <td>1.000021</td>\n",
       "      <td>26.953261</td>\n",
       "    </tr>\n",
       "    <tr>\n",
       "      <th>50%</th>\n",
       "      <td>1.153055</td>\n",
       "      <td>-4.813172</td>\n",
       "      <td>2.011479</td>\n",
       "      <td>57.085625</td>\n",
       "    </tr>\n",
       "    <tr>\n",
       "      <th>75%</th>\n",
       "      <td>8.621015</td>\n",
       "      <td>-1.332816</td>\n",
       "      <td>3.999904</td>\n",
       "      <td>107.813044</td>\n",
       "    </tr>\n",
       "    <tr>\n",
       "      <th>max</th>\n",
       "      <td>29.421755</td>\n",
       "      <td>18.734063</td>\n",
       "      <td>5.019721</td>\n",
       "      <td>137.945408</td>\n",
       "    </tr>\n",
       "  </tbody>\n",
       "</table>\n",
       "</div>"
      ],
      "text/plain": [
       "                  f0             f1             f2        product\n",
       "count  100000.000000  100000.000000  100000.000000  100000.000000\n",
       "mean        1.141296      -4.796579       2.494541      68.825000\n",
       "std         8.965932       5.119872       1.703572      45.944423\n",
       "min       -31.609576     -26.358598      -0.018144       0.000000\n",
       "25%        -6.298551      -8.267985       1.000021      26.953261\n",
       "50%         1.153055      -4.813172       2.011479      57.085625\n",
       "75%         8.621015      -1.332816       3.999904     107.813044\n",
       "max        29.421755      18.734063       5.019721     137.945408"
      ]
     },
     "metadata": {},
     "output_type": "display_data"
    },
    {
     "name": "stdout",
     "output_type": "stream",
     "text": [
      "Корреляционная матрица:\n"
     ]
    },
    {
     "data": {
      "text/html": [
       "<div>\n",
       "<style scoped>\n",
       "    .dataframe tbody tr th:only-of-type {\n",
       "        vertical-align: middle;\n",
       "    }\n",
       "\n",
       "    .dataframe tbody tr th {\n",
       "        vertical-align: top;\n",
       "    }\n",
       "\n",
       "    .dataframe thead th {\n",
       "        text-align: right;\n",
       "    }\n",
       "</style>\n",
       "<table border=\"1\" class=\"dataframe\">\n",
       "  <thead>\n",
       "    <tr style=\"text-align: right;\">\n",
       "      <th></th>\n",
       "      <th>f0</th>\n",
       "      <th>f1</th>\n",
       "      <th>f2</th>\n",
       "      <th>product</th>\n",
       "    </tr>\n",
       "  </thead>\n",
       "  <tbody>\n",
       "    <tr>\n",
       "      <th>f0</th>\n",
       "      <td>1.000000</td>\n",
       "      <td>0.182287</td>\n",
       "      <td>-0.001777</td>\n",
       "      <td>-0.030491</td>\n",
       "    </tr>\n",
       "    <tr>\n",
       "      <th>f1</th>\n",
       "      <td>0.182287</td>\n",
       "      <td>1.000000</td>\n",
       "      <td>-0.002595</td>\n",
       "      <td>-0.010155</td>\n",
       "    </tr>\n",
       "    <tr>\n",
       "      <th>f2</th>\n",
       "      <td>-0.001777</td>\n",
       "      <td>-0.002595</td>\n",
       "      <td>1.000000</td>\n",
       "      <td>0.999397</td>\n",
       "    </tr>\n",
       "    <tr>\n",
       "      <th>product</th>\n",
       "      <td>-0.030491</td>\n",
       "      <td>-0.010155</td>\n",
       "      <td>0.999397</td>\n",
       "      <td>1.000000</td>\n",
       "    </tr>\n",
       "  </tbody>\n",
       "</table>\n",
       "</div>"
      ],
      "text/plain": [
       "               f0        f1        f2   product\n",
       "f0       1.000000  0.182287 -0.001777 -0.030491\n",
       "f1       0.182287  1.000000 -0.002595 -0.010155\n",
       "f2      -0.001777 -0.002595  1.000000  0.999397\n",
       "product -0.030491 -0.010155  0.999397  1.000000"
      ]
     },
     "metadata": {},
     "output_type": "display_data"
    },
    {
     "data": {
      "image/png": "[encoded data removed]",
      "text/plain": [
       "<Figure size 1152x360 with 2 Axes>"
      ]
     },
     "metadata": {
      "needs_background": "light"
     },
     "output_type": "display_data"
    },
    {
     "data": {
      "image/png": "[encoded data removed]",
      "text/plain": [
       "<Figure size 1152x360 with 2 Axes>"
      ]
     },
     "metadata": {
      "needs_background": "light"
     },
     "output_type": "display_data"
    },
    {
     "data": {
      "image/png": "[encoded data removed]",
      "text/plain": [
       "<Figure size 1152x360 with 2 Axes>"
      ]
     },
     "metadata": {
      "needs_background": "light"
     },
     "output_type": "display_data"
    },
    {
     "data": {
      "image/png": "[encoded data removed]",
      "text/plain": [
       "<Figure size 1152x360 with 2 Axes>"
      ]
     },
     "metadata": {
      "needs_background": "light"
     },
     "output_type": "display_data"
    }
   ],
   "source": [
    "df_info(first)"
   ]
  },
  {
   "cell_type": "code",
   "execution_count": 7,
   "metadata": {},
   "outputs": [
    {
     "name": "stdout",
     "output_type": "stream",
     "text": [
      "<class 'pandas.core.frame.DataFrame'>\n",
      "Int64Index: 99996 entries, 0 to 99999\n",
      "Data columns (total 5 columns):\n",
      " #   Column   Non-Null Count  Dtype  \n",
      "---  ------   --------------  -----  \n",
      " 0   id       99996 non-null  object \n",
      " 1   f0       99996 non-null  float64\n",
      " 2   f1       99996 non-null  float64\n",
      " 3   f2       99996 non-null  float64\n",
      " 4   product  99996 non-null  float64\n",
      "dtypes: float64(4), object(1)\n",
      "memory usage: 4.6+ MB\n"
     ]
    }
   ],
   "source": [
    "#удалим дубликаты по уникальному номеру\n",
    "first = first.drop_duplicates(subset=['id'], keep='first')\n",
    "first.info()"
   ]
  },
  {
   "cell_type": "markdown",
   "metadata": {},
   "source": [
    "### Третий регион"
   ]
  },
  {
   "cell_type": "code",
   "execution_count": 8,
   "metadata": {},
   "outputs": [
    {
     "data": {
      "text/html": [
       "<div>\n",
       "<style scoped>\n",
       "    .dataframe tbody tr th:only-of-type {\n",
       "        vertical-align: middle;\n",
       "    }\n",
       "\n",
       "    .dataframe tbody tr th {\n",
       "        vertical-align: top;\n",
       "    }\n",
       "\n",
       "    .dataframe thead th {\n",
       "        text-align: right;\n",
       "    }\n",
       "</style>\n",
       "<table border=\"1\" class=\"dataframe\">\n",
       "  <thead>\n",
       "    <tr style=\"text-align: right;\">\n",
       "      <th></th>\n",
       "      <th>id</th>\n",
       "      <th>f0</th>\n",
       "      <th>f1</th>\n",
       "      <th>f2</th>\n",
       "      <th>product</th>\n",
       "    </tr>\n",
       "  </thead>\n",
       "  <tbody>\n",
       "    <tr>\n",
       "      <th>0</th>\n",
       "      <td>fwXo0</td>\n",
       "      <td>-1.146987</td>\n",
       "      <td>0.963328</td>\n",
       "      <td>-0.828965</td>\n",
       "      <td>27.758673</td>\n",
       "    </tr>\n",
       "    <tr>\n",
       "      <th>1</th>\n",
       "      <td>WJtFt</td>\n",
       "      <td>0.262778</td>\n",
       "      <td>0.269839</td>\n",
       "      <td>-2.530187</td>\n",
       "      <td>56.069697</td>\n",
       "    </tr>\n",
       "    <tr>\n",
       "      <th>2</th>\n",
       "      <td>ovLUW</td>\n",
       "      <td>0.194587</td>\n",
       "      <td>0.289035</td>\n",
       "      <td>-5.586433</td>\n",
       "      <td>62.871910</td>\n",
       "    </tr>\n",
       "    <tr>\n",
       "      <th>3</th>\n",
       "      <td>q6cA6</td>\n",
       "      <td>2.236060</td>\n",
       "      <td>-0.553760</td>\n",
       "      <td>0.930038</td>\n",
       "      <td>114.572842</td>\n",
       "    </tr>\n",
       "    <tr>\n",
       "      <th>4</th>\n",
       "      <td>WPMUX</td>\n",
       "      <td>-0.515993</td>\n",
       "      <td>1.716266</td>\n",
       "      <td>5.899011</td>\n",
       "      <td>149.600746</td>\n",
       "    </tr>\n",
       "  </tbody>\n",
       "</table>\n",
       "</div>"
      ],
      "text/plain": [
       "      id        f0        f1        f2     product\n",
       "0  fwXo0 -1.146987  0.963328 -0.828965   27.758673\n",
       "1  WJtFt  0.262778  0.269839 -2.530187   56.069697\n",
       "2  ovLUW  0.194587  0.289035 -5.586433   62.871910\n",
       "3  q6cA6  2.236060 -0.553760  0.930038  114.572842\n",
       "4  WPMUX -0.515993  1.716266  5.899011  149.600746"
      ]
     },
     "metadata": {},
     "output_type": "display_data"
    },
    {
     "name": "stdout",
     "output_type": "stream",
     "text": [
      "\n",
      "<class 'pandas.core.frame.DataFrame'>\n",
      "RangeIndex: 100000 entries, 0 to 99999\n",
      "Data columns (total 5 columns):\n",
      " #   Column   Non-Null Count   Dtype  \n",
      "---  ------   --------------   -----  \n",
      " 0   id       100000 non-null  object \n",
      " 1   f0       100000 non-null  float64\n",
      " 2   f1       100000 non-null  float64\n",
      " 3   f2       100000 non-null  float64\n",
      " 4   product  100000 non-null  float64\n",
      "dtypes: float64(4), object(1)\n",
      "memory usage: 3.8+ MB\n",
      "None\n",
      "\n",
      "Количество очевидных дубликатов = 0\n",
      "\n",
      "Количество неуникальных значений в столбце 'id' = 4\n",
      "\n",
      "Количество пропусков = id         0\n",
      "f0         0\n",
      "f1         0\n",
      "f2         0\n",
      "product    0\n",
      "dtype: int64\n",
      "\n"
     ]
    },
    {
     "data": {
      "text/html": [
       "<div>\n",
       "<style scoped>\n",
       "    .dataframe tbody tr th:only-of-type {\n",
       "        vertical-align: middle;\n",
       "    }\n",
       "\n",
       "    .dataframe tbody tr th {\n",
       "        vertical-align: top;\n",
       "    }\n",
       "\n",
       "    .dataframe thead th {\n",
       "        text-align: right;\n",
       "    }\n",
       "</style>\n",
       "<table border=\"1\" class=\"dataframe\">\n",
       "  <thead>\n",
       "    <tr style=\"text-align: right;\">\n",
       "      <th></th>\n",
       "      <th>f0</th>\n",
       "      <th>f1</th>\n",
       "      <th>f2</th>\n",
       "      <th>product</th>\n",
       "    </tr>\n",
       "  </thead>\n",
       "  <tbody>\n",
       "    <tr>\n",
       "      <th>count</th>\n",
       "      <td>100000.000000</td>\n",
       "      <td>100000.000000</td>\n",
       "      <td>100000.000000</td>\n",
       "      <td>100000.000000</td>\n",
       "    </tr>\n",
       "    <tr>\n",
       "      <th>mean</th>\n",
       "      <td>0.002023</td>\n",
       "      <td>-0.002081</td>\n",
       "      <td>2.495128</td>\n",
       "      <td>95.000000</td>\n",
       "    </tr>\n",
       "    <tr>\n",
       "      <th>std</th>\n",
       "      <td>1.732045</td>\n",
       "      <td>1.730417</td>\n",
       "      <td>3.473445</td>\n",
       "      <td>44.749921</td>\n",
       "    </tr>\n",
       "    <tr>\n",
       "      <th>min</th>\n",
       "      <td>-8.760004</td>\n",
       "      <td>-7.084020</td>\n",
       "      <td>-11.970335</td>\n",
       "      <td>0.000000</td>\n",
       "    </tr>\n",
       "    <tr>\n",
       "      <th>25%</th>\n",
       "      <td>-1.162288</td>\n",
       "      <td>-1.174820</td>\n",
       "      <td>0.130359</td>\n",
       "      <td>59.450441</td>\n",
       "    </tr>\n",
       "    <tr>\n",
       "      <th>50%</th>\n",
       "      <td>0.009424</td>\n",
       "      <td>-0.009482</td>\n",
       "      <td>2.484236</td>\n",
       "      <td>94.925613</td>\n",
       "    </tr>\n",
       "    <tr>\n",
       "      <th>75%</th>\n",
       "      <td>1.158535</td>\n",
       "      <td>1.163678</td>\n",
       "      <td>4.858794</td>\n",
       "      <td>130.595027</td>\n",
       "    </tr>\n",
       "    <tr>\n",
       "      <th>max</th>\n",
       "      <td>7.238262</td>\n",
       "      <td>7.844801</td>\n",
       "      <td>16.739402</td>\n",
       "      <td>190.029838</td>\n",
       "    </tr>\n",
       "  </tbody>\n",
       "</table>\n",
       "</div>"
      ],
      "text/plain": [
       "                  f0             f1             f2        product\n",
       "count  100000.000000  100000.000000  100000.000000  100000.000000\n",
       "mean        0.002023      -0.002081       2.495128      95.000000\n",
       "std         1.732045       1.730417       3.473445      44.749921\n",
       "min        -8.760004      -7.084020     -11.970335       0.000000\n",
       "25%        -1.162288      -1.174820       0.130359      59.450441\n",
       "50%         0.009424      -0.009482       2.484236      94.925613\n",
       "75%         1.158535       1.163678       4.858794     130.595027\n",
       "max         7.238262       7.844801      16.739402     190.029838"
      ]
     },
     "metadata": {},
     "output_type": "display_data"
    },
    {
     "name": "stdout",
     "output_type": "stream",
     "text": [
      "Корреляционная матрица:\n"
     ]
    },
    {
     "data": {
      "text/html": [
       "<div>\n",
       "<style scoped>\n",
       "    .dataframe tbody tr th:only-of-type {\n",
       "        vertical-align: middle;\n",
       "    }\n",
       "\n",
       "    .dataframe tbody tr th {\n",
       "        vertical-align: top;\n",
       "    }\n",
       "\n",
       "    .dataframe thead th {\n",
       "        text-align: right;\n",
       "    }\n",
       "</style>\n",
       "<table border=\"1\" class=\"dataframe\">\n",
       "  <thead>\n",
       "    <tr style=\"text-align: right;\">\n",
       "      <th></th>\n",
       "      <th>f0</th>\n",
       "      <th>f1</th>\n",
       "      <th>f2</th>\n",
       "      <th>product</th>\n",
       "    </tr>\n",
       "  </thead>\n",
       "  <tbody>\n",
       "    <tr>\n",
       "      <th>f0</th>\n",
       "      <td>1.000000</td>\n",
       "      <td>0.000528</td>\n",
       "      <td>-0.000448</td>\n",
       "      <td>-0.001987</td>\n",
       "    </tr>\n",
       "    <tr>\n",
       "      <th>f1</th>\n",
       "      <td>0.000528</td>\n",
       "      <td>1.000000</td>\n",
       "      <td>0.000779</td>\n",
       "      <td>-0.001012</td>\n",
       "    </tr>\n",
       "    <tr>\n",
       "      <th>f2</th>\n",
       "      <td>-0.000448</td>\n",
       "      <td>0.000779</td>\n",
       "      <td>1.000000</td>\n",
       "      <td>0.445871</td>\n",
       "    </tr>\n",
       "    <tr>\n",
       "      <th>product</th>\n",
       "      <td>-0.001987</td>\n",
       "      <td>-0.001012</td>\n",
       "      <td>0.445871</td>\n",
       "      <td>1.000000</td>\n",
       "    </tr>\n",
       "  </tbody>\n",
       "</table>\n",
       "</div>"
      ],
      "text/plain": [
       "               f0        f1        f2   product\n",
       "f0       1.000000  0.000528 -0.000448 -0.001987\n",
       "f1       0.000528  1.000000  0.000779 -0.001012\n",
       "f2      -0.000448  0.000779  1.000000  0.445871\n",
       "product -0.001987 -0.001012  0.445871  1.000000"
      ]
     },
     "metadata": {},
     "output_type": "display_data"
    },
    {
     "data": {
      "image/png": "[encoded data removed]",
      "text/plain": [
       "<Figure size 1152x360 with 2 Axes>"
      ]
     },
     "metadata": {
      "needs_background": "light"
     },
     "output_type": "display_data"
    },
    {
     "data": {
      "image/png": "[encoded data removed]",
      "text/plain": [
       "<Figure size 1152x360 with 2 Axes>"
      ]
     },
     "metadata": {
      "needs_background": "light"
     },
     "output_type": "display_data"
    },
    {
     "data": {
      "image/png": "[encoded data removed]",
      "text/plain": [
       "<Figure size 1152x360 with 2 Axes>"
      ]
     },
     "metadata": {
      "needs_background": "light"
     },
     "output_type": "display_data"
    },
    {
     "data": {
      "image/png": "[encoded data removed]",
      "text/plain": [
       "<Figure size 1152x360 with 2 Axes>"
      ]
     },
     "metadata": {
      "needs_background": "light"
     },
     "output_type": "display_data"
    }
   ],
   "source": [
    "df_info(second)"
   ]
  },
  {
   "cell_type": "code",
   "execution_count": 9,
   "metadata": {},
   "outputs": [
    {
     "name": "stdout",
     "output_type": "stream",
     "text": [
      "<class 'pandas.core.frame.DataFrame'>\n",
      "Int64Index: 99996 entries, 0 to 99999\n",
      "Data columns (total 5 columns):\n",
      " #   Column   Non-Null Count  Dtype  \n",
      "---  ------   --------------  -----  \n",
      " 0   id       99996 non-null  object \n",
      " 1   f0       99996 non-null  float64\n",
      " 2   f1       99996 non-null  float64\n",
      " 3   f2       99996 non-null  float64\n",
      " 4   product  99996 non-null  float64\n",
      "dtypes: float64(4), object(1)\n",
      "memory usage: 4.6+ MB\n"
     ]
    }
   ],
   "source": [
    "#удалим дубликаты по уникальному номеру\n",
    "second = second.drop_duplicates(subset=['id'], keep='first')\n",
    "second.info()"
   ]
  },
  {
   "cell_type": "markdown",
   "metadata": {},
   "source": [
    "Вывод по обзору и предобработке данных:\n",
    "\n",
    "- Загружены необходимые библиотеки и проведен анализ данных\n",
    "- Пропущенные значения отсутствуют\n",
    "- Явных дублей нет\n",
    "- Типы данных в корректном формате\n",
    "- Удалены неявные дубликаты по столбцу с уникальным номером (id):\n",
    "  - 10 строк из zero\n",
    "  - 4 строк из first\n",
    "  - 4 строки из second\n",
    "- В датасете first наблюдалась сильная корреляция между целевым признаком и f2. Для дальнейшей корректной работы модели, данный столбец удалили\n",
    "- В датасетах присутствуют выборсы, но аномалий не обнаружено и принято решение не удалять выбросы"
   ]
  },
  {
   "cell_type": "markdown",
   "metadata": {},
   "source": [
    "## Обучение и проверка модели"
   ]
  },
  {
   "cell_type": "code",
   "execution_count": 10,
   "metadata": {},
   "outputs": [
    {
     "name": "stdout",
     "output_type": "stream",
     "text": [
      "RMSE : 37.68508926201444\n",
      "Средний запас предсказанно сырья в zero: 92.60984027552017\n",
      "\n",
      "RMSE : 0.8928265978121422\n",
      "Средний запас предсказанно сырья в first: 68.57703454115173\n",
      "\n",
      "RMSE : 40.080822438088305\n",
      "Средний запас предсказанно сырья в second: 94.93478722287514\n",
      "\n"
     ]
    }
   ],
   "source": [
    "#Построим функцию для обучения модели, в которой уже проведем инедексацию и выделим признаки\n",
    "def ml_reg(data, target_column, region):\n",
    "    \n",
    "    data = data.set_index('id')\n",
    "    X = data.drop(target_column, axis=1)\n",
    "    y = data[target_column]\n",
    "    \n",
    "    X_train, X_valid, y_train, y_valid = train_test_split(\n",
    "        X,\n",
    "        y,\n",
    "        random_state=RANDOM_STATE,\n",
    "        test_size=TEST_SIZE,\n",
    "    )\n",
    "    \n",
    "    scaler = StandardScaler()\n",
    "    numeric_columns = ['f0', 'f1', 'f2']\n",
    "    X_train[numeric_columns] = scaler.fit_transform(X_train[numeric_columns])\n",
    "    X_valid[numeric_columns] = scaler.transform(X_valid[numeric_columns])\n",
    "    \n",
    "    model = LinearRegression()\n",
    "    model.fit(X_train, y_train)\n",
    "    y_pred = model.predict(X_valid)\n",
    "    \n",
    "    print('RMSE :', mean_squared_error(y_valid, y_pred, squared=False))\n",
    "    print(f'Средний запас предсказанно сырья в {region}:', y_pred.mean())\n",
    "    print('')\n",
    "    \n",
    "    df = pd.DataFrame({'real': y_valid, 'predict': y_pred})\n",
    "    \n",
    "    return pd.Series(y_pred), pd.Series(y_valid), df\n",
    "\n",
    "#Обучим и сохраним результаты\n",
    "predicted_zero, correct_zero, df_zero = ml_reg(zero, 'product', 'zero')\n",
    "predicted_first, correct_first, df_first = ml_reg(first, 'product', 'first')\n",
    "predicted_second, correct_second, df_second = ml_reg(second, 'product', 'second')\n",
    "\n",
    "#Сохраняем индексацию\n",
    "predicted_zero.index = correct_zero.index\n",
    "predicted_first.index = correct_first.index\n",
    "predicted_second.index = correct_second.index"
   ]
  },
  {
   "cell_type": "markdown",
   "metadata": {},
   "source": [
    "Вывод по обучению и проверки модели: \n",
    "\n",
    "- Создана функция, т.к. мы работаем с примерно одинаковыми датасетами\n",
    "- В функции использовали LinearRegression, т.к. она оптимальная и предсказуемая\n",
    "- В качестве метрики выбрали RMSE\n",
    "\n",
    "- Согласно метрике RMSE лучше всего модель предсказала на втором регионе **RMSE : 0.8928265978121422**\n",
    "- Больше всего сырья в третьем регионе **~95 единиц**"
   ]
  },
  {
   "cell_type": "markdown",
   "metadata": {},
   "source": [
    "## Подготовка к расчёту прибыли"
   ]
  },
  {
   "cell_type": "code",
   "execution_count": 11,
   "metadata": {},
   "outputs": [
    {
     "name": "stdout",
     "output_type": "stream",
     "text": [
      "Необходимое кол-во единиц продукта для безубыточности: 111.11111111111111\n"
     ]
    }
   ],
   "source": [
    "#Задаем данные по условию и считаем объем сырья для безубыточности\n",
    "#Количество скважен, которое используют для разведки\n",
    "POINTS = 500 \n",
    "#Нужное количество скважин \n",
    "BEST_POINTS = 200 \n",
    "#Бюджет на разработку скважин в регионе\n",
    "BUDGET = 10_000_000_000\n",
    "#Доход единицы продукта\n",
    "BARREL_PRICE = 450_000\n",
    "#Максимум убытков \n",
    "LIMIT = .025\n",
    "\n",
    "REQUIRED_AMOUNT = BUDGET / BEST_POINTS / BARREL_PRICE\n",
    "print(f'Необходимое кол-во единиц продукта для безубыточности: {REQUIRED_AMOUNT}')"
   ]
  },
  {
   "cell_type": "code",
   "execution_count": 12,
   "metadata": {},
   "outputs": [
    {
     "name": "stdout",
     "output_type": "stream",
     "text": [
      "В zero не хватает 18.50 единиц сырья для безубыточной разработки\n",
      "В first не хватает 42.53 единиц сырья для безубыточной разработки\n",
      "В second не хватает 16.18 единиц сырья для безубыточной разработки\n"
     ]
    }
   ],
   "source": [
    "#Создаем словарь с средними значениями для каждого региона\n",
    "regions = {\n",
    "    'zero': predicted_zero.mean(),\n",
    "    'first': predicted_first.mean(),\n",
    "    'second': predicted_second.mean()\n",
    "}\n",
    "\n",
    "#Проверяем баланс сырья в каждом регионе\n",
    "for region in regions:\n",
    "    mean_value = regions[region]\n",
    "    difference = mean_value - REQUIRED_AMOUNT\n",
    "    if difference >= 0:\n",
    "        print(f'В {region} есть излишек сырья в размере {difference:.2f} единиц')\n",
    "    else:\n",
    "        print(f'В {region} не хватает {abs(difference):.2f} единиц сырья для безубыточной разработки')"
   ]
  },
  {
   "cell_type": "markdown",
   "metadata": {},
   "source": [
    "Вывод по подготовке к расчету прибыли:\n",
    "\n",
    "- Заданы константы, согласно условиям\n",
    "- Необходимое кол-во единиц продукта для безубыточности **~111.11**\n",
    "- Ни один из регионов не достиг необходимого показателя для безубыточности, но лучше всех показал себя 3ий регион"
   ]
  },
  {
   "cell_type": "markdown",
   "metadata": {},
   "source": [
    "## Расчёт прибыли и рисков "
   ]
  },
  {
   "cell_type": "code",
   "execution_count": 13,
   "metadata": {},
   "outputs": [],
   "source": [
    "#Создаем функцию для прибыли\n",
    "def revenue(target_sample, probabilities_sample, BARREL_PRICE, BUDGET):\n",
    "    best_200 = probabilities_sample.sort_values(ascending=False).head(200)\n",
    "    selected = target_sample[best_200.index]\n",
    "    return selected.sum() * BARREL_PRICE - BUDGET"
   ]
  },
  {
   "cell_type": "code",
   "execution_count": 14,
   "metadata": {},
   "outputs": [],
   "source": [
    "#Используем бутстрап по заданным данным\n",
    "def bootstrap(target, probabilities, BARREL_PRICE, BUDGET, region):\n",
    "    state = np.random.RandomState(RANDOM_STATE)\n",
    "    values = []\n",
    "     \n",
    "    for i in range(1000):\n",
    "        target_subsample = target.sample(n=POINTS, replace=True, random_state=state)\n",
    "        \n",
    "        target_subsample = target_subsample[~target_subsample.index.duplicated()]\n",
    "    \n",
    "        probs_subsample = probabilities[target_subsample.index]\n",
    "        profit = revenue(target_subsample, probs_subsample, BARREL_PRICE, BUDGET)\n",
    "        values.append(profit)\n",
    "        \n",
    "    values = pd.Series(values)\n",
    "    mean_profit = values.mean()\n",
    "    lower = values.quantile(0.025)\n",
    "    upper = values.quantile(0.975)\n",
    "    \n",
    "    print(f'Регион {region.upper()}:')\n",
    "    print(f'Средняя прибыль:', mean_profit / 1000)\n",
    "    print(f'Нижний порог:', lower / 1000)\n",
    "    print(f'Верхний порог:', upper/ 1000)\n",
    "    print(f'Риск: {(len(values[values < 0]) / len(values)):.2%}')\n",
    "    print(' ')"
   ]
  },
  {
   "cell_type": "code",
   "execution_count": 15,
   "metadata": {},
   "outputs": [
    {
     "name": "stdout",
     "output_type": "stream",
     "text": [
      "Регион ZERO:\n",
      "Средняя прибыль: 389446.29622763285\n",
      "Нижний порог: -142401.66365612156\n",
      "Верхний порог: 890059.8378188629\n",
      "Риск: 6.30%\n",
      " \n",
      "Регион FIRST:\n",
      "Средняя прибыль: 399809.24143868027\n",
      "Нижний порог: 19592.297565990262\n",
      "Верхний порог: 793838.7156594277\n",
      "Риск: 2.00%\n",
      " \n",
      "Регион SECOND:\n",
      "Средняя прибыль: 369113.9641705574\n",
      "Нижний порог: -132526.99344621703\n",
      "Верхний порог: 895384.8201241276\n",
      "Риск: 8.50%\n",
      " \n"
     ]
    }
   ],
   "source": [
    "#Применяем и выводим результаты\n",
    "values_first_region = bootstrap(correct_zero, predicted_zero, BARREL_PRICE, BUDGET, 'zero')\n",
    "values_second_region = bootstrap(correct_first, predicted_first, BARREL_PRICE, BUDGET, 'first')\n",
    "values_third_region = bootstrap(correct_second, predicted_second, BARREL_PRICE, BUDGET, 'second')"
   ]
  },
  {
   "cell_type": "markdown",
   "metadata": {},
   "source": [
    "Вывод по рассчету прибыли и рисков:\n",
    "    \n",
    "По заданным показателям риска (<2.5%) подходит 1 регион -  первый:\n",
    "    - Уровень риска в котором 2%\n",
    "    - Регион предоставляет 399 миллионов средней прибыли"
   ]
  },
  {
   "cell_type": "markdown",
   "metadata": {},
   "source": [
    "## Общий вывод"
   ]
  },
  {
   "cell_type": "markdown",
   "metadata": {},
   "source": [
    "В результате работы была построена модель машинного обучения по определению региона для постройки скважин с наибольшей прибылью.\n",
    "___\n",
    "\n",
    "Исследование было разделено на несколько этапов:\n",
    "\n",
    "1. Загрузка и подготовка данных:\n",
    "\n",
    "- Изучение общей информации и импорт нужных библиотек\n",
    "- Загружены 3 датасета\n",
    "- Создана функция для предоставления общих данных по датасетам\n",
    "- Удалены неочевидные дубликаты по уникальному номеру (ID)\n",
    "- Прочие данные в хорошем состоянии и готовы к дальнейшей работе\n",
    "- Во втором датасете first обнарушена очень сильная корреляция с признаком f2, но, т.к. признак считается важным, принято решение не удалять критерий\n",
    "\n",
    "2. Обучение и проверка модели\n",
    "\n",
    "- Создали функцию для обучение модели LinearRegression:\n",
    "- Разделили выборки к воотношении 75 к 25\n",
    "- Стандартизировали выборки и применили модель:\n",
    " - Согласно метрике RMSE лучше всего модель предсказала на первом регионе **RMSE : 0.8928265978121422**\n",
    " - Больше всего сырья в третьем регионе**~95 единиц**\n",
    "\n",
    "\n",
    "3. Подготовка к расчету прибыли\n",
    "\n",
    "- Заданы основные показатели согласно переданным условиям\n",
    "- Необходимое кол-во единиц продукта для безубыточности **~ 111.11**\n",
    "- Ни один из регион не удовлетворяет требованию к минимальному показателю безубыточности\n",
    "\n",
    "4. Расчет прибыли и рисков\n",
    "\n",
    "- Создана функция для подсчета прибыли \n",
    "- Применен Bootstrap\n",
    "___\n",
    "\n",
    "Стоит дать рекомендацию проверить данные во втором регионе, особенно для показателя f2, в котором была найдена подозрительно высокая корреляция с целевым признаком, что могло повлиять на переобучение\n",
    "___\n",
    "\n",
    "\n",
    "Согласно проделанной работе, рекомендовать бурения скважин можно 1ый регион, т.к. он отвечает требованиям заказчика в пороговом проценте убытков:\n",
    "\n",
    "- В предсказанном регионе наименьший процент убытков (2%)\n",
    "- Регион приносит в среднем 399 миллионов прибыли\n"
   ]
  }
 ],
 "metadata": {
  "ExecuteTimeLog": [
   {
    "duration": 1482,
    "start_time": "2024-08-22T06:16:15.892Z"
   },
   {
    "duration": 1749,
    "start_time": "2024-08-22T06:16:17.376Z"
   },
   {
    "duration": 69,
    "start_time": "2024-08-22T06:29:29.834Z"
   },
   {
    "duration": 5,
    "start_time": "2024-08-22T06:30:29.565Z"
   },
   {
    "duration": 8,
    "start_time": "2024-08-22T06:31:17.873Z"
   },
   {
    "duration": 6,
    "start_time": "2024-08-22T06:31:24.105Z"
   },
   {
    "duration": 110,
    "start_time": "2024-08-22T06:33:00.079Z"
   },
   {
    "duration": 249,
    "start_time": "2024-08-22T06:33:55.828Z"
   },
   {
    "duration": 75,
    "start_time": "2024-08-22T06:34:10.239Z"
   },
   {
    "duration": 1493,
    "start_time": "2024-08-22T06:47:49.189Z"
   },
   {
    "duration": 423,
    "start_time": "2024-08-22T06:47:50.684Z"
   },
   {
    "duration": 5,
    "start_time": "2024-08-22T06:47:51.109Z"
   },
   {
    "duration": 132,
    "start_time": "2024-08-22T06:47:51.115Z"
   },
   {
    "duration": 4,
    "start_time": "2024-08-22T06:48:59.172Z"
   },
   {
    "duration": 115,
    "start_time": "2024-08-22T06:49:01.596Z"
   },
   {
    "duration": 3,
    "start_time": "2024-08-22T06:49:09.140Z"
   },
   {
    "duration": 114,
    "start_time": "2024-08-22T06:49:10.419Z"
   },
   {
    "duration": 119,
    "start_time": "2024-08-22T06:50:14.580Z"
   },
   {
    "duration": 22,
    "start_time": "2024-08-22T06:53:08.121Z"
   },
   {
    "duration": 159,
    "start_time": "2024-08-22T06:53:21.506Z"
   },
   {
    "duration": 37,
    "start_time": "2024-08-22T06:54:12.091Z"
   },
   {
    "duration": 124,
    "start_time": "2024-08-22T06:54:29.573Z"
   },
   {
    "duration": 45,
    "start_time": "2024-08-22T06:54:46.742Z"
   },
   {
    "duration": 123,
    "start_time": "2024-08-22T06:54:59.039Z"
   },
   {
    "duration": 1430,
    "start_time": "2024-08-22T06:55:22.910Z"
   },
   {
    "duration": 421,
    "start_time": "2024-08-22T06:55:24.342Z"
   },
   {
    "duration": 5,
    "start_time": "2024-08-22T06:55:24.764Z"
   },
   {
    "duration": 140,
    "start_time": "2024-08-22T06:55:24.771Z"
   },
   {
    "duration": 34,
    "start_time": "2024-08-22T06:55:24.912Z"
   },
   {
    "duration": 129,
    "start_time": "2024-08-22T06:55:24.947Z"
   },
   {
    "duration": 35,
    "start_time": "2024-08-22T06:55:25.078Z"
   },
   {
    "duration": 129,
    "start_time": "2024-08-22T06:55:25.115Z"
   },
   {
    "duration": 43,
    "start_time": "2024-08-22T06:55:25.246Z"
   },
   {
    "duration": 2209,
    "start_time": "2024-08-22T06:56:46.067Z"
   },
   {
    "duration": 429,
    "start_time": "2024-08-22T06:56:48.277Z"
   },
   {
    "duration": 5,
    "start_time": "2024-08-22T06:56:48.707Z"
   },
   {
    "duration": 145,
    "start_time": "2024-08-22T06:56:48.714Z"
   },
   {
    "duration": 48,
    "start_time": "2024-08-22T06:56:48.861Z"
   },
   {
    "duration": 131,
    "start_time": "2024-08-22T06:56:48.912Z"
   },
   {
    "duration": 33,
    "start_time": "2024-08-22T06:56:49.044Z"
   },
   {
    "duration": 138,
    "start_time": "2024-08-22T06:56:49.090Z"
   },
   {
    "duration": 31,
    "start_time": "2024-08-22T06:56:49.229Z"
   },
   {
    "duration": 4,
    "start_time": "2024-08-22T07:00:26.208Z"
   },
   {
    "duration": 124,
    "start_time": "2024-08-22T07:00:34.809Z"
   },
   {
    "duration": 1297,
    "start_time": "2024-08-22T07:03:19.140Z"
   },
   {
    "duration": 405,
    "start_time": "2024-08-22T07:03:20.439Z"
   },
   {
    "duration": 4,
    "start_time": "2024-08-22T07:03:20.846Z"
   },
   {
    "duration": 143,
    "start_time": "2024-08-22T07:03:20.851Z"
   },
   {
    "duration": 35,
    "start_time": "2024-08-22T07:03:20.996Z"
   },
   {
    "duration": 139,
    "start_time": "2024-08-22T07:03:21.033Z"
   },
   {
    "duration": 46,
    "start_time": "2024-08-22T07:03:21.174Z"
   },
   {
    "duration": 143,
    "start_time": "2024-08-22T07:03:21.221Z"
   },
   {
    "duration": 42,
    "start_time": "2024-08-22T07:03:21.366Z"
   },
   {
    "duration": 6,
    "start_time": "2024-08-22T07:07:15.443Z"
   },
   {
    "duration": 1312,
    "start_time": "2024-08-22T07:10:06.894Z"
   },
   {
    "duration": 396,
    "start_time": "2024-08-22T07:10:08.207Z"
   },
   {
    "duration": 4,
    "start_time": "2024-08-22T07:10:08.604Z"
   },
   {
    "duration": 151,
    "start_time": "2024-08-22T07:10:08.610Z"
   },
   {
    "duration": 44,
    "start_time": "2024-08-22T07:10:08.763Z"
   },
   {
    "duration": 136,
    "start_time": "2024-08-22T07:10:08.809Z"
   },
   {
    "duration": 43,
    "start_time": "2024-08-22T07:10:08.947Z"
   },
   {
    "duration": 136,
    "start_time": "2024-08-22T07:10:08.992Z"
   },
   {
    "duration": 31,
    "start_time": "2024-08-22T07:10:09.130Z"
   },
   {
    "duration": 23,
    "start_time": "2024-08-22T07:10:57.379Z"
   },
   {
    "duration": 106,
    "start_time": "2024-08-22T07:11:40.691Z"
   },
   {
    "duration": 1297,
    "start_time": "2024-08-22T07:11:46.416Z"
   },
   {
    "duration": 401,
    "start_time": "2024-08-22T07:11:47.715Z"
   },
   {
    "duration": 4,
    "start_time": "2024-08-22T07:11:48.118Z"
   },
   {
    "duration": 149,
    "start_time": "2024-08-22T07:11:48.124Z"
   },
   {
    "duration": 49,
    "start_time": "2024-08-22T07:11:48.274Z"
   },
   {
    "duration": 138,
    "start_time": "2024-08-22T07:11:48.325Z"
   },
   {
    "duration": 44,
    "start_time": "2024-08-22T07:11:48.465Z"
   },
   {
    "duration": 142,
    "start_time": "2024-08-22T07:11:48.510Z"
   },
   {
    "duration": 45,
    "start_time": "2024-08-22T07:11:48.655Z"
   },
   {
    "duration": 22,
    "start_time": "2024-08-22T07:11:48.702Z"
   },
   {
    "duration": 97,
    "start_time": "2024-08-22T07:13:21.427Z"
   },
   {
    "duration": 9,
    "start_time": "2024-08-22T07:13:46.832Z"
   },
   {
    "duration": 5,
    "start_time": "2024-08-22T07:19:54.280Z"
   },
   {
    "duration": 5,
    "start_time": "2024-08-22T07:20:18.838Z"
   },
   {
    "duration": 674,
    "start_time": "2024-08-22T07:20:29.822Z"
   },
   {
    "duration": 3,
    "start_time": "2024-08-22T07:21:23.282Z"
   },
   {
    "duration": 588,
    "start_time": "2024-08-22T07:21:27.409Z"
   },
   {
    "duration": 4,
    "start_time": "2024-08-22T07:22:22.926Z"
   },
   {
    "duration": 5,
    "start_time": "2024-08-22T07:22:23.735Z"
   },
   {
    "duration": 595,
    "start_time": "2024-08-22T07:22:26.098Z"
   },
   {
    "duration": 8,
    "start_time": "2024-08-22T07:23:06.240Z"
   },
   {
    "duration": 9,
    "start_time": "2024-08-22T07:23:15.260Z"
   },
   {
    "duration": 1365,
    "start_time": "2024-08-22T07:23:21.416Z"
   },
   {
    "duration": 433,
    "start_time": "2024-08-22T07:23:22.783Z"
   },
   {
    "duration": 6,
    "start_time": "2024-08-22T07:23:23.218Z"
   },
   {
    "duration": 179,
    "start_time": "2024-08-22T07:23:23.226Z"
   },
   {
    "duration": 32,
    "start_time": "2024-08-22T07:23:23.407Z"
   },
   {
    "duration": 153,
    "start_time": "2024-08-22T07:23:23.441Z"
   },
   {
    "duration": 39,
    "start_time": "2024-08-22T07:23:23.596Z"
   },
   {
    "duration": 139,
    "start_time": "2024-08-22T07:23:23.637Z"
   },
   {
    "duration": 37,
    "start_time": "2024-08-22T07:23:23.798Z"
   },
   {
    "duration": 21,
    "start_time": "2024-08-22T07:23:23.836Z"
   },
   {
    "duration": 5,
    "start_time": "2024-08-22T07:23:23.859Z"
   },
   {
    "duration": 6,
    "start_time": "2024-08-22T07:23:23.865Z"
   },
   {
    "duration": 542,
    "start_time": "2024-08-22T07:23:23.872Z"
   },
   {
    "duration": 14,
    "start_time": "2024-08-22T07:23:24.492Z"
   },
   {
    "duration": 1439,
    "start_time": "2024-08-22T07:25:13.039Z"
   },
   {
    "duration": 450,
    "start_time": "2024-08-22T07:25:14.480Z"
   },
   {
    "duration": 5,
    "start_time": "2024-08-22T07:25:14.932Z"
   },
   {
    "duration": 181,
    "start_time": "2024-08-22T07:25:14.939Z"
   },
   {
    "duration": 36,
    "start_time": "2024-08-22T07:25:15.123Z"
   },
   {
    "duration": 165,
    "start_time": "2024-08-22T07:25:15.161Z"
   },
   {
    "duration": 35,
    "start_time": "2024-08-22T07:25:15.328Z"
   },
   {
    "duration": 166,
    "start_time": "2024-08-22T07:25:15.365Z"
   },
   {
    "duration": 34,
    "start_time": "2024-08-22T07:25:15.533Z"
   },
   {
    "duration": 47,
    "start_time": "2024-08-22T07:25:15.568Z"
   },
   {
    "duration": 3,
    "start_time": "2024-08-22T07:25:15.616Z"
   },
   {
    "duration": 11,
    "start_time": "2024-08-22T07:25:15.620Z"
   },
   {
    "duration": 676,
    "start_time": "2024-08-22T07:25:15.632Z"
   },
   {
    "duration": 3,
    "start_time": "2024-08-22T07:29:25.187Z"
   },
   {
    "duration": 3,
    "start_time": "2024-08-22T07:29:47.539Z"
   },
   {
    "duration": 3,
    "start_time": "2024-08-22T07:29:51.747Z"
   },
   {
    "duration": 3,
    "start_time": "2024-08-22T07:40:10.895Z"
   },
   {
    "duration": 5,
    "start_time": "2024-08-22T07:40:30.593Z"
   },
   {
    "duration": 4682,
    "start_time": "2024-08-22T07:40:40.257Z"
   },
   {
    "duration": 1342,
    "start_time": "2024-08-22T07:41:25.890Z"
   },
   {
    "duration": 410,
    "start_time": "2024-08-22T07:41:27.234Z"
   },
   {
    "duration": 5,
    "start_time": "2024-08-22T07:41:27.645Z"
   },
   {
    "duration": 147,
    "start_time": "2024-08-22T07:41:27.651Z"
   },
   {
    "duration": 33,
    "start_time": "2024-08-22T07:41:27.800Z"
   },
   {
    "duration": 135,
    "start_time": "2024-08-22T07:41:27.834Z"
   },
   {
    "duration": 46,
    "start_time": "2024-08-22T07:41:27.971Z"
   },
   {
    "duration": 149,
    "start_time": "2024-08-22T07:41:28.019Z"
   },
   {
    "duration": 48,
    "start_time": "2024-08-22T07:41:28.170Z"
   },
   {
    "duration": 22,
    "start_time": "2024-08-22T07:41:28.220Z"
   },
   {
    "duration": 5,
    "start_time": "2024-08-22T07:41:28.244Z"
   },
   {
    "duration": 6,
    "start_time": "2024-08-22T07:41:28.251Z"
   },
   {
    "duration": 639,
    "start_time": "2024-08-22T07:41:28.258Z"
   },
   {
    "duration": 2,
    "start_time": "2024-08-22T07:41:28.901Z"
   },
   {
    "duration": 5,
    "start_time": "2024-08-22T07:41:28.905Z"
   },
   {
    "duration": 4,
    "start_time": "2024-08-22T07:41:28.911Z"
   },
   {
    "duration": 10,
    "start_time": "2024-08-22T07:41:28.916Z"
   },
   {
    "duration": 4735,
    "start_time": "2024-08-22T07:41:28.927Z"
   },
   {
    "duration": 1318,
    "start_time": "2024-08-22T07:42:49.528Z"
   },
   {
    "duration": 397,
    "start_time": "2024-08-22T07:42:50.848Z"
   },
   {
    "duration": 4,
    "start_time": "2024-08-22T07:42:51.246Z"
   },
   {
    "duration": 152,
    "start_time": "2024-08-22T07:42:51.252Z"
   },
   {
    "duration": 32,
    "start_time": "2024-08-22T07:42:51.406Z"
   },
   {
    "duration": 150,
    "start_time": "2024-08-22T07:42:51.440Z"
   },
   {
    "duration": 32,
    "start_time": "2024-08-22T07:42:51.592Z"
   },
   {
    "duration": 150,
    "start_time": "2024-08-22T07:42:51.626Z"
   },
   {
    "duration": 33,
    "start_time": "2024-08-22T07:42:51.790Z"
   },
   {
    "duration": 22,
    "start_time": "2024-08-22T07:42:51.825Z"
   },
   {
    "duration": 5,
    "start_time": "2024-08-22T07:42:51.848Z"
   },
   {
    "duration": 6,
    "start_time": "2024-08-22T07:42:51.855Z"
   },
   {
    "duration": 633,
    "start_time": "2024-08-22T07:42:51.862Z"
   },
   {
    "duration": 2,
    "start_time": "2024-08-22T07:42:52.498Z"
   },
   {
    "duration": 5,
    "start_time": "2024-08-22T07:42:52.502Z"
   },
   {
    "duration": 29,
    "start_time": "2024-08-22T07:42:52.509Z"
   },
   {
    "duration": 28,
    "start_time": "2024-08-22T07:42:52.539Z"
   },
   {
    "duration": 4477,
    "start_time": "2024-08-22T07:42:52.569Z"
   },
   {
    "duration": 106,
    "start_time": "2024-08-22T07:53:40.063Z"
   },
   {
    "duration": 1251,
    "start_time": "2024-08-22T07:53:45.546Z"
   },
   {
    "duration": 393,
    "start_time": "2024-08-22T07:53:46.799Z"
   },
   {
    "duration": 4,
    "start_time": "2024-08-22T07:53:47.194Z"
   },
   {
    "duration": 148,
    "start_time": "2024-08-22T07:53:47.200Z"
   },
   {
    "duration": 46,
    "start_time": "2024-08-22T07:53:47.350Z"
   },
   {
    "duration": 137,
    "start_time": "2024-08-22T07:53:47.398Z"
   },
   {
    "duration": 30,
    "start_time": "2024-08-22T07:53:47.537Z"
   },
   {
    "duration": 154,
    "start_time": "2024-08-22T07:53:47.569Z"
   },
   {
    "duration": 33,
    "start_time": "2024-08-22T07:53:47.724Z"
   },
   {
    "duration": 6,
    "start_time": "2024-08-22T07:53:47.759Z"
   },
   {
    "duration": 35,
    "start_time": "2024-08-22T07:53:47.767Z"
   },
   {
    "duration": 5,
    "start_time": "2024-08-22T07:53:47.804Z"
   },
   {
    "duration": 430,
    "start_time": "2024-08-22T07:53:47.810Z"
   },
   {
    "duration": 0,
    "start_time": "2024-08-22T07:53:48.242Z"
   },
   {
    "duration": 0,
    "start_time": "2024-08-22T07:53:48.243Z"
   },
   {
    "duration": 0,
    "start_time": "2024-08-22T07:53:48.244Z"
   },
   {
    "duration": 0,
    "start_time": "2024-08-22T07:53:48.245Z"
   },
   {
    "duration": 0,
    "start_time": "2024-08-22T07:53:48.246Z"
   },
   {
    "duration": 6,
    "start_time": "2024-08-22T08:05:37.630Z"
   },
   {
    "duration": 670,
    "start_time": "2024-08-22T08:05:39.824Z"
   },
   {
    "duration": 1281,
    "start_time": "2024-08-22T08:06:17.241Z"
   },
   {
    "duration": 418,
    "start_time": "2024-08-22T08:06:18.524Z"
   },
   {
    "duration": 4,
    "start_time": "2024-08-22T08:06:18.944Z"
   },
   {
    "duration": 153,
    "start_time": "2024-08-22T08:06:18.950Z"
   },
   {
    "duration": 35,
    "start_time": "2024-08-22T08:06:19.105Z"
   },
   {
    "duration": 162,
    "start_time": "2024-08-22T08:06:19.142Z"
   },
   {
    "duration": 37,
    "start_time": "2024-08-22T08:06:19.306Z"
   },
   {
    "duration": 156,
    "start_time": "2024-08-22T08:06:19.344Z"
   },
   {
    "duration": 35,
    "start_time": "2024-08-22T08:06:19.502Z"
   },
   {
    "duration": 6,
    "start_time": "2024-08-22T08:06:19.540Z"
   },
   {
    "duration": 51,
    "start_time": "2024-08-22T08:06:19.548Z"
   },
   {
    "duration": 6,
    "start_time": "2024-08-22T08:06:19.601Z"
   },
   {
    "duration": 690,
    "start_time": "2024-08-22T08:06:19.609Z"
   },
   {
    "duration": 2,
    "start_time": "2024-08-22T08:06:20.301Z"
   },
   {
    "duration": 18,
    "start_time": "2024-08-22T08:06:20.305Z"
   },
   {
    "duration": 23,
    "start_time": "2024-08-22T08:06:20.324Z"
   },
   {
    "duration": 5,
    "start_time": "2024-08-22T08:06:20.349Z"
   },
   {
    "duration": 4504,
    "start_time": "2024-08-22T08:06:20.355Z"
   },
   {
    "duration": 1392,
    "start_time": "2024-08-22T08:21:42.859Z"
   },
   {
    "duration": 400,
    "start_time": "2024-08-22T08:21:44.253Z"
   },
   {
    "duration": 5,
    "start_time": "2024-08-22T08:21:44.654Z"
   },
   {
    "duration": 139,
    "start_time": "2024-08-22T08:21:44.661Z"
   },
   {
    "duration": 34,
    "start_time": "2024-08-22T08:21:44.802Z"
   },
   {
    "duration": 142,
    "start_time": "2024-08-22T08:21:44.838Z"
   },
   {
    "duration": 33,
    "start_time": "2024-08-22T08:21:44.990Z"
   },
   {
    "duration": 138,
    "start_time": "2024-08-22T08:21:45.024Z"
   },
   {
    "duration": 45,
    "start_time": "2024-08-22T08:21:45.163Z"
   },
   {
    "duration": 21,
    "start_time": "2024-08-22T08:21:45.211Z"
   },
   {
    "duration": 33,
    "start_time": "2024-08-22T08:21:45.234Z"
   },
   {
    "duration": 5,
    "start_time": "2024-08-22T08:21:45.269Z"
   },
   {
    "duration": 619,
    "start_time": "2024-08-22T08:21:45.275Z"
   },
   {
    "duration": 3,
    "start_time": "2024-08-22T08:21:45.896Z"
   },
   {
    "duration": 22,
    "start_time": "2024-08-22T08:21:45.901Z"
   },
   {
    "duration": 14,
    "start_time": "2024-08-22T08:21:45.924Z"
   },
   {
    "duration": 6,
    "start_time": "2024-08-22T08:21:45.939Z"
   },
   {
    "duration": 4557,
    "start_time": "2024-08-22T08:21:45.946Z"
   },
   {
    "duration": 6,
    "start_time": "2024-08-22T08:29:22.244Z"
   },
   {
    "duration": 1337,
    "start_time": "2024-08-22T08:29:38.270Z"
   },
   {
    "duration": 403,
    "start_time": "2024-08-22T08:29:39.609Z"
   },
   {
    "duration": 5,
    "start_time": "2024-08-22T08:29:40.013Z"
   },
   {
    "duration": 143,
    "start_time": "2024-08-22T08:29:40.019Z"
   },
   {
    "duration": 58,
    "start_time": "2024-08-22T08:29:40.165Z"
   },
   {
    "duration": 165,
    "start_time": "2024-08-22T08:29:40.226Z"
   },
   {
    "duration": 31,
    "start_time": "2024-08-22T08:29:40.392Z"
   },
   {
    "duration": 146,
    "start_time": "2024-08-22T08:29:40.424Z"
   },
   {
    "duration": 49,
    "start_time": "2024-08-22T08:29:40.572Z"
   },
   {
    "duration": 6,
    "start_time": "2024-08-22T08:29:40.623Z"
   },
   {
    "duration": 20,
    "start_time": "2024-08-22T08:29:40.631Z"
   },
   {
    "duration": 6,
    "start_time": "2024-08-22T08:29:40.653Z"
   },
   {
    "duration": 124,
    "start_time": "2024-08-22T08:29:40.661Z"
   },
   {
    "duration": 0,
    "start_time": "2024-08-22T08:29:40.789Z"
   },
   {
    "duration": 0,
    "start_time": "2024-08-22T08:29:40.791Z"
   },
   {
    "duration": 0,
    "start_time": "2024-08-22T08:29:40.792Z"
   },
   {
    "duration": 0,
    "start_time": "2024-08-22T08:29:40.794Z"
   },
   {
    "duration": 0,
    "start_time": "2024-08-22T08:29:40.795Z"
   },
   {
    "duration": 604,
    "start_time": "2024-08-22T08:30:21.696Z"
   },
   {
    "duration": 5,
    "start_time": "2024-08-22T08:31:54.569Z"
   },
   {
    "duration": 595,
    "start_time": "2024-08-22T08:31:56.802Z"
   },
   {
    "duration": 3,
    "start_time": "2024-08-22T08:35:28.347Z"
   },
   {
    "duration": 3,
    "start_time": "2024-08-22T08:35:28.515Z"
   },
   {
    "duration": 3,
    "start_time": "2024-08-22T08:37:04.088Z"
   },
   {
    "duration": 4,
    "start_time": "2024-08-22T08:37:09.147Z"
   },
   {
    "duration": 3,
    "start_time": "2024-08-22T08:38:15.328Z"
   },
   {
    "duration": 1345,
    "start_time": "2024-08-22T08:41:09.462Z"
   },
   {
    "duration": 383,
    "start_time": "2024-08-22T08:41:10.809Z"
   },
   {
    "duration": 4,
    "start_time": "2024-08-22T08:41:11.193Z"
   },
   {
    "duration": 181,
    "start_time": "2024-08-22T08:41:11.198Z"
   },
   {
    "duration": 31,
    "start_time": "2024-08-22T08:41:11.389Z"
   },
   {
    "duration": 146,
    "start_time": "2024-08-22T08:41:11.422Z"
   },
   {
    "duration": 44,
    "start_time": "2024-08-22T08:41:11.569Z"
   },
   {
    "duration": 131,
    "start_time": "2024-08-22T08:41:11.614Z"
   },
   {
    "duration": 47,
    "start_time": "2024-08-22T08:41:11.746Z"
   },
   {
    "duration": 6,
    "start_time": "2024-08-22T08:41:11.794Z"
   },
   {
    "duration": 48,
    "start_time": "2024-08-22T08:41:11.801Z"
   },
   {
    "duration": 7,
    "start_time": "2024-08-22T08:41:11.851Z"
   },
   {
    "duration": 634,
    "start_time": "2024-08-22T08:41:11.859Z"
   },
   {
    "duration": 3,
    "start_time": "2024-08-22T08:41:12.495Z"
   },
   {
    "duration": 9,
    "start_time": "2024-08-22T08:41:12.499Z"
   },
   {
    "duration": 8,
    "start_time": "2024-08-22T08:41:12.510Z"
   },
   {
    "duration": 8,
    "start_time": "2024-08-22T08:41:12.519Z"
   },
   {
    "duration": 112,
    "start_time": "2024-08-22T08:41:12.529Z"
   },
   {
    "duration": 604,
    "start_time": "2024-08-22T08:45:13.695Z"
   },
   {
    "duration": 612,
    "start_time": "2024-08-22T08:45:25.681Z"
   },
   {
    "duration": 1341,
    "start_time": "2024-08-22T08:45:54.692Z"
   },
   {
    "duration": 405,
    "start_time": "2024-08-22T08:45:56.035Z"
   },
   {
    "duration": 5,
    "start_time": "2024-08-22T08:45:56.444Z"
   },
   {
    "duration": 171,
    "start_time": "2024-08-22T08:45:56.451Z"
   },
   {
    "duration": 34,
    "start_time": "2024-08-22T08:45:56.623Z"
   },
   {
    "duration": 172,
    "start_time": "2024-08-22T08:45:56.658Z"
   },
   {
    "duration": 31,
    "start_time": "2024-08-22T08:45:56.832Z"
   },
   {
    "duration": 145,
    "start_time": "2024-08-22T08:45:56.865Z"
   },
   {
    "duration": 31,
    "start_time": "2024-08-22T08:45:57.013Z"
   },
   {
    "duration": 6,
    "start_time": "2024-08-22T08:45:57.045Z"
   },
   {
    "duration": 43,
    "start_time": "2024-08-22T08:45:57.053Z"
   },
   {
    "duration": 6,
    "start_time": "2024-08-22T08:45:57.098Z"
   },
   {
    "duration": 692,
    "start_time": "2024-08-22T08:45:57.106Z"
   },
   {
    "duration": 2,
    "start_time": "2024-08-22T08:45:57.800Z"
   },
   {
    "duration": 5,
    "start_time": "2024-08-22T08:45:57.804Z"
   },
   {
    "duration": 4,
    "start_time": "2024-08-22T08:45:57.810Z"
   },
   {
    "duration": 6,
    "start_time": "2024-08-22T08:45:57.816Z"
   },
   {
    "duration": 125,
    "start_time": "2024-08-22T08:45:57.824Z"
   },
   {
    "duration": 3,
    "start_time": "2024-08-22T08:48:09.960Z"
   },
   {
    "duration": 3,
    "start_time": "2024-08-22T08:49:48.844Z"
   },
   {
    "duration": 4,
    "start_time": "2024-08-22T08:53:32.337Z"
   },
   {
    "duration": 1286,
    "start_time": "2024-08-22T08:54:58.823Z"
   },
   {
    "duration": 419,
    "start_time": "2024-08-22T08:55:00.111Z"
   },
   {
    "duration": 5,
    "start_time": "2024-08-22T08:55:00.531Z"
   },
   {
    "duration": 142,
    "start_time": "2024-08-22T08:55:00.538Z"
   },
   {
    "duration": 38,
    "start_time": "2024-08-22T08:55:00.681Z"
   },
   {
    "duration": 139,
    "start_time": "2024-08-22T08:55:00.720Z"
   },
   {
    "duration": 43,
    "start_time": "2024-08-22T08:55:00.860Z"
   },
   {
    "duration": 128,
    "start_time": "2024-08-22T08:55:00.905Z"
   },
   {
    "duration": 29,
    "start_time": "2024-08-22T08:55:01.035Z"
   },
   {
    "duration": 5,
    "start_time": "2024-08-22T08:55:01.066Z"
   },
   {
    "duration": 33,
    "start_time": "2024-08-22T08:55:01.072Z"
   },
   {
    "duration": 6,
    "start_time": "2024-08-22T08:55:01.107Z"
   },
   {
    "duration": 681,
    "start_time": "2024-08-22T08:55:01.114Z"
   },
   {
    "duration": 4,
    "start_time": "2024-08-22T08:55:01.796Z"
   },
   {
    "duration": 53,
    "start_time": "2024-08-22T08:55:01.802Z"
   },
   {
    "duration": 8,
    "start_time": "2024-08-22T08:55:01.857Z"
   },
   {
    "duration": 124,
    "start_time": "2024-08-22T08:55:01.866Z"
   },
   {
    "duration": 6,
    "start_time": "2024-08-22T09:23:14.104Z"
   },
   {
    "duration": 57,
    "start_time": "2024-08-22T09:23:14.263Z"
   },
   {
    "duration": 6,
    "start_time": "2024-08-22T09:23:33.275Z"
   },
   {
    "duration": 585,
    "start_time": "2024-08-22T09:23:33.409Z"
   },
   {
    "duration": 3,
    "start_time": "2024-08-22T09:27:37.379Z"
   },
   {
    "duration": 3,
    "start_time": "2024-08-22T09:27:37.522Z"
   },
   {
    "duration": 10,
    "start_time": "2024-08-22T09:41:31.493Z"
   },
   {
    "duration": 9,
    "start_time": "2024-08-22T09:42:24.663Z"
   },
   {
    "duration": 3,
    "start_time": "2024-08-22T09:48:18.442Z"
   },
   {
    "duration": 1521,
    "start_time": "2024-08-22T13:42:17.583Z"
   },
   {
    "duration": 978,
    "start_time": "2024-08-22T13:42:19.106Z"
   },
   {
    "duration": 4,
    "start_time": "2024-08-22T13:42:20.086Z"
   },
   {
    "duration": 208,
    "start_time": "2024-08-22T13:42:20.092Z"
   },
   {
    "duration": 52,
    "start_time": "2024-08-22T13:42:20.302Z"
   },
   {
    "duration": 182,
    "start_time": "2024-08-22T13:42:20.355Z"
   },
   {
    "duration": 40,
    "start_time": "2024-08-22T13:42:20.539Z"
   },
   {
    "duration": 143,
    "start_time": "2024-08-22T13:42:20.581Z"
   },
   {
    "duration": 74,
    "start_time": "2024-08-22T13:42:20.726Z"
   },
   {
    "duration": 7,
    "start_time": "2024-08-22T13:42:20.803Z"
   },
   {
    "duration": 35,
    "start_time": "2024-08-22T13:42:20.812Z"
   },
   {
    "duration": 6,
    "start_time": "2024-08-22T13:42:20.849Z"
   },
   {
    "duration": 134,
    "start_time": "2024-08-22T13:42:20.856Z"
   },
   {
    "duration": 0,
    "start_time": "2024-08-22T13:42:20.992Z"
   },
   {
    "duration": 0,
    "start_time": "2024-08-22T13:42:20.993Z"
   },
   {
    "duration": 0,
    "start_time": "2024-08-22T13:42:20.994Z"
   },
   {
    "duration": 0,
    "start_time": "2024-08-22T13:42:20.995Z"
   },
   {
    "duration": 6,
    "start_time": "2024-08-22T13:42:46.630Z"
   },
   {
    "duration": 11,
    "start_time": "2024-08-22T13:42:48.066Z"
   },
   {
    "duration": 10,
    "start_time": "2024-08-22T13:43:44.496Z"
   },
   {
    "duration": 12,
    "start_time": "2024-08-22T13:45:43.452Z"
   },
   {
    "duration": 6,
    "start_time": "2024-08-22T13:49:45.180Z"
   },
   {
    "duration": 10,
    "start_time": "2024-08-22T13:49:46.517Z"
   },
   {
    "duration": 622,
    "start_time": "2024-08-22T13:49:54.934Z"
   },
   {
    "duration": 677,
    "start_time": "2024-08-22T13:50:31.883Z"
   },
   {
    "duration": 5,
    "start_time": "2024-08-22T13:52:39.461Z"
   },
   {
    "duration": 643,
    "start_time": "2024-08-22T13:52:39.610Z"
   },
   {
    "duration": 10,
    "start_time": "2024-08-22T13:53:08.473Z"
   },
   {
    "duration": 4,
    "start_time": "2024-08-22T13:53:13.296Z"
   },
   {
    "duration": 11,
    "start_time": "2024-08-22T13:56:20.548Z"
   },
   {
    "duration": 3,
    "start_time": "2024-08-22T13:56:46.685Z"
   },
   {
    "duration": 3,
    "start_time": "2024-08-22T13:57:56.982Z"
   },
   {
    "duration": 3,
    "start_time": "2024-08-22T13:58:00.723Z"
   },
   {
    "duration": 3,
    "start_time": "2024-08-22T13:58:01.376Z"
   },
   {
    "duration": 5,
    "start_time": "2024-08-22T13:58:16.608Z"
   },
   {
    "duration": 24,
    "start_time": "2024-08-22T13:58:27.927Z"
   },
   {
    "duration": 1442,
    "start_time": "2024-08-22T14:01:13.511Z"
   },
   {
    "duration": 449,
    "start_time": "2024-08-22T14:01:14.955Z"
   },
   {
    "duration": 5,
    "start_time": "2024-08-22T14:01:15.406Z"
   },
   {
    "duration": 161,
    "start_time": "2024-08-22T14:01:15.413Z"
   },
   {
    "duration": 15,
    "start_time": "2024-08-22T14:01:15.577Z"
   },
   {
    "duration": 172,
    "start_time": "2024-08-22T14:01:15.594Z"
   },
   {
    "duration": 15,
    "start_time": "2024-08-22T14:01:15.767Z"
   },
   {
    "duration": 166,
    "start_time": "2024-08-22T14:01:15.784Z"
   },
   {
    "duration": 15,
    "start_time": "2024-08-22T14:01:15.952Z"
   },
   {
    "duration": 6,
    "start_time": "2024-08-22T14:01:15.969Z"
   },
   {
    "duration": 31,
    "start_time": "2024-08-22T14:01:15.977Z"
   },
   {
    "duration": 6,
    "start_time": "2024-08-22T14:01:16.010Z"
   },
   {
    "duration": 655,
    "start_time": "2024-08-22T14:01:16.018Z"
   },
   {
    "duration": 4,
    "start_time": "2024-08-22T14:01:16.750Z"
   },
   {
    "duration": 25,
    "start_time": "2024-08-22T14:01:16.755Z"
   },
   {
    "duration": 7,
    "start_time": "2024-08-22T14:01:16.782Z"
   },
   {
    "duration": 136,
    "start_time": "2024-08-22T14:01:16.791Z"
   },
   {
    "duration": 1445,
    "start_time": "2024-08-22T14:01:30.987Z"
   },
   {
    "duration": 417,
    "start_time": "2024-08-22T14:01:32.435Z"
   },
   {
    "duration": 4,
    "start_time": "2024-08-22T14:01:32.854Z"
   },
   {
    "duration": 152,
    "start_time": "2024-08-22T14:01:32.860Z"
   },
   {
    "duration": 14,
    "start_time": "2024-08-22T14:01:33.014Z"
   },
   {
    "duration": 133,
    "start_time": "2024-08-22T14:01:33.046Z"
   },
   {
    "duration": 13,
    "start_time": "2024-08-22T14:01:33.181Z"
   },
   {
    "duration": 201,
    "start_time": "2024-08-22T14:01:33.196Z"
   },
   {
    "duration": 12,
    "start_time": "2024-08-22T14:01:33.398Z"
   },
   {
    "duration": 23,
    "start_time": "2024-08-22T14:01:33.411Z"
   },
   {
    "duration": 26,
    "start_time": "2024-08-22T14:01:33.436Z"
   },
   {
    "duration": 7,
    "start_time": "2024-08-22T14:01:33.464Z"
   },
   {
    "duration": 674,
    "start_time": "2024-08-22T14:01:33.473Z"
   },
   {
    "duration": 4,
    "start_time": "2024-08-22T14:01:34.150Z"
   },
   {
    "duration": 73,
    "start_time": "2024-08-22T14:01:34.155Z"
   },
   {
    "duration": 7,
    "start_time": "2024-08-22T14:01:34.229Z"
   },
   {
    "duration": 143,
    "start_time": "2024-08-22T14:01:34.238Z"
   },
   {
    "duration": 6,
    "start_time": "2024-08-22T14:01:49.026Z"
   },
   {
    "duration": 35,
    "start_time": "2024-08-22T14:01:51.954Z"
   },
   {
    "duration": 1381,
    "start_time": "2024-08-22T14:03:50.220Z"
   },
   {
    "duration": 422,
    "start_time": "2024-08-22T14:03:51.602Z"
   },
   {
    "duration": 4,
    "start_time": "2024-08-22T14:03:52.026Z"
   },
   {
    "duration": 145,
    "start_time": "2024-08-22T14:03:52.031Z"
   },
   {
    "duration": 14,
    "start_time": "2024-08-22T14:03:52.179Z"
   },
   {
    "duration": 161,
    "start_time": "2024-08-22T14:03:52.194Z"
   },
   {
    "duration": 14,
    "start_time": "2024-08-22T14:03:52.356Z"
   },
   {
    "duration": 151,
    "start_time": "2024-08-22T14:03:52.372Z"
   },
   {
    "duration": 28,
    "start_time": "2024-08-22T14:03:52.524Z"
   },
   {
    "duration": 11,
    "start_time": "2024-08-22T14:03:52.553Z"
   },
   {
    "duration": 49,
    "start_time": "2024-08-22T14:03:52.566Z"
   },
   {
    "duration": 5,
    "start_time": "2024-08-22T14:03:52.617Z"
   },
   {
    "duration": 630,
    "start_time": "2024-08-22T14:03:52.624Z"
   },
   {
    "duration": 3,
    "start_time": "2024-08-22T14:03:53.257Z"
   },
   {
    "duration": 36,
    "start_time": "2024-08-22T14:03:53.262Z"
   },
   {
    "duration": 24,
    "start_time": "2024-08-22T14:03:53.300Z"
   },
   {
    "duration": 136,
    "start_time": "2024-08-22T14:03:53.325Z"
   },
   {
    "duration": 5,
    "start_time": "2024-08-22T14:04:31.152Z"
   },
   {
    "duration": 23,
    "start_time": "2024-08-22T14:04:49.686Z"
   },
   {
    "duration": 5,
    "start_time": "2024-08-22T14:05:20.244Z"
   },
   {
    "duration": 23,
    "start_time": "2024-08-22T14:05:20.862Z"
   },
   {
    "duration": 5,
    "start_time": "2024-08-22T14:19:40.488Z"
   },
   {
    "duration": 22,
    "start_time": "2024-08-22T14:19:47.665Z"
   },
   {
    "duration": 22,
    "start_time": "2024-08-22T14:20:15.357Z"
   },
   {
    "duration": 1443,
    "start_time": "2024-08-22T14:20:25.058Z"
   },
   {
    "duration": 418,
    "start_time": "2024-08-22T14:20:26.503Z"
   },
   {
    "duration": 4,
    "start_time": "2024-08-22T14:20:26.923Z"
   },
   {
    "duration": 167,
    "start_time": "2024-08-22T14:20:26.929Z"
   },
   {
    "duration": 14,
    "start_time": "2024-08-22T14:20:27.098Z"
   },
   {
    "duration": 178,
    "start_time": "2024-08-22T14:20:27.114Z"
   },
   {
    "duration": 13,
    "start_time": "2024-08-22T14:20:27.294Z"
   },
   {
    "duration": 196,
    "start_time": "2024-08-22T14:20:27.309Z"
   },
   {
    "duration": 15,
    "start_time": "2024-08-22T14:20:27.506Z"
   },
   {
    "duration": 29,
    "start_time": "2024-08-22T14:20:27.522Z"
   },
   {
    "duration": 22,
    "start_time": "2024-08-22T14:20:27.553Z"
   },
   {
    "duration": 7,
    "start_time": "2024-08-22T14:20:27.577Z"
   },
   {
    "duration": 662,
    "start_time": "2024-08-22T14:20:27.586Z"
   },
   {
    "duration": 3,
    "start_time": "2024-08-22T14:20:28.250Z"
   },
   {
    "duration": 50,
    "start_time": "2024-08-22T14:20:28.255Z"
   },
   {
    "duration": 7,
    "start_time": "2024-08-22T14:20:28.307Z"
   },
   {
    "duration": 128,
    "start_time": "2024-08-22T14:20:28.316Z"
   },
   {
    "duration": 4,
    "start_time": "2024-08-22T14:20:52.286Z"
   },
   {
    "duration": 4,
    "start_time": "2024-08-22T14:20:52.786Z"
   },
   {
    "duration": 5,
    "start_time": "2024-08-22T14:20:54.597Z"
   },
   {
    "duration": 23,
    "start_time": "2024-08-22T14:20:54.738Z"
   },
   {
    "duration": 6,
    "start_time": "2024-08-22T14:21:09.037Z"
   },
   {
    "duration": 14,
    "start_time": "2024-08-22T14:21:09.597Z"
   },
   {
    "duration": 12,
    "start_time": "2024-08-22T14:21:19.134Z"
   },
   {
    "duration": 1430,
    "start_time": "2024-08-22T14:21:23.548Z"
   },
   {
    "duration": 458,
    "start_time": "2024-08-22T14:21:24.980Z"
   },
   {
    "duration": 4,
    "start_time": "2024-08-22T14:21:25.440Z"
   },
   {
    "duration": 150,
    "start_time": "2024-08-22T14:21:25.446Z"
   },
   {
    "duration": 14,
    "start_time": "2024-08-22T14:21:25.597Z"
   },
   {
    "duration": 152,
    "start_time": "2024-08-22T14:21:25.612Z"
   },
   {
    "duration": 14,
    "start_time": "2024-08-22T14:21:25.766Z"
   },
   {
    "duration": 182,
    "start_time": "2024-08-22T14:21:25.782Z"
   },
   {
    "duration": 14,
    "start_time": "2024-08-22T14:21:25.965Z"
   },
   {
    "duration": 13,
    "start_time": "2024-08-22T14:21:25.981Z"
   },
   {
    "duration": 33,
    "start_time": "2024-08-22T14:21:25.995Z"
   },
   {
    "duration": 20,
    "start_time": "2024-08-22T14:21:26.030Z"
   },
   {
    "duration": 454,
    "start_time": "2024-08-22T14:21:26.052Z"
   },
   {
    "duration": 0,
    "start_time": "2024-08-22T14:21:26.508Z"
   },
   {
    "duration": 0,
    "start_time": "2024-08-22T14:21:26.509Z"
   },
   {
    "duration": 0,
    "start_time": "2024-08-22T14:21:26.510Z"
   },
   {
    "duration": 0,
    "start_time": "2024-08-22T14:21:26.511Z"
   },
   {
    "duration": 1380,
    "start_time": "2024-08-22T14:21:43.306Z"
   },
   {
    "duration": 430,
    "start_time": "2024-08-22T14:21:44.688Z"
   },
   {
    "duration": 5,
    "start_time": "2024-08-22T14:21:45.120Z"
   },
   {
    "duration": 205,
    "start_time": "2024-08-22T14:21:45.128Z"
   },
   {
    "duration": 28,
    "start_time": "2024-08-22T14:21:45.335Z"
   },
   {
    "duration": 151,
    "start_time": "2024-08-22T14:21:45.365Z"
   },
   {
    "duration": 13,
    "start_time": "2024-08-22T14:21:45.517Z"
   },
   {
    "duration": 150,
    "start_time": "2024-08-22T14:21:45.547Z"
   },
   {
    "duration": 13,
    "start_time": "2024-08-22T14:21:45.699Z"
   },
   {
    "duration": 14,
    "start_time": "2024-08-22T14:21:45.714Z"
   },
   {
    "duration": 43,
    "start_time": "2024-08-22T14:21:45.729Z"
   },
   {
    "duration": 7,
    "start_time": "2024-08-22T14:21:45.773Z"
   },
   {
    "duration": 673,
    "start_time": "2024-08-22T14:21:45.781Z"
   },
   {
    "duration": 4,
    "start_time": "2024-08-22T14:21:46.455Z"
   },
   {
    "duration": 31,
    "start_time": "2024-08-22T14:21:46.460Z"
   },
   {
    "duration": 5,
    "start_time": "2024-08-22T14:21:46.493Z"
   },
   {
    "duration": 6240,
    "start_time": "2024-08-22T14:21:46.500Z"
   },
   {
    "duration": 1419,
    "start_time": "2024-08-22T14:22:45.509Z"
   },
   {
    "duration": 453,
    "start_time": "2024-08-22T14:22:46.929Z"
   },
   {
    "duration": 5,
    "start_time": "2024-08-22T14:22:47.383Z"
   },
   {
    "duration": 167,
    "start_time": "2024-08-22T14:22:47.390Z"
   },
   {
    "duration": 20,
    "start_time": "2024-08-22T14:22:47.560Z"
   },
   {
    "duration": 174,
    "start_time": "2024-08-22T14:22:47.581Z"
   },
   {
    "duration": 20,
    "start_time": "2024-08-22T14:22:47.757Z"
   },
   {
    "duration": 154,
    "start_time": "2024-08-22T14:22:47.779Z"
   },
   {
    "duration": 15,
    "start_time": "2024-08-22T14:22:47.946Z"
   },
   {
    "duration": 7,
    "start_time": "2024-08-22T14:22:47.962Z"
   },
   {
    "duration": 44,
    "start_time": "2024-08-22T14:22:47.970Z"
   },
   {
    "duration": 6,
    "start_time": "2024-08-22T14:22:48.015Z"
   },
   {
    "duration": 161,
    "start_time": "2024-08-22T14:22:48.023Z"
   },
   {
    "duration": 0,
    "start_time": "2024-08-22T14:22:48.185Z"
   },
   {
    "duration": 0,
    "start_time": "2024-08-22T14:22:48.186Z"
   },
   {
    "duration": 0,
    "start_time": "2024-08-22T14:22:48.187Z"
   },
   {
    "duration": 0,
    "start_time": "2024-08-22T14:22:48.188Z"
   },
   {
    "duration": 1441,
    "start_time": "2024-08-22T14:23:02.212Z"
   },
   {
    "duration": 419,
    "start_time": "2024-08-22T14:23:03.655Z"
   },
   {
    "duration": 4,
    "start_time": "2024-08-22T14:23:04.075Z"
   },
   {
    "duration": 154,
    "start_time": "2024-08-22T14:23:04.081Z"
   },
   {
    "duration": 16,
    "start_time": "2024-08-22T14:23:04.248Z"
   },
   {
    "duration": 154,
    "start_time": "2024-08-22T14:23:04.265Z"
   },
   {
    "duration": 33,
    "start_time": "2024-08-22T14:23:04.421Z"
   },
   {
    "duration": 152,
    "start_time": "2024-08-22T14:23:04.456Z"
   },
   {
    "duration": 13,
    "start_time": "2024-08-22T14:23:04.610Z"
   },
   {
    "duration": 2,
    "start_time": "2024-08-22T14:23:04.625Z"
   },
   {
    "duration": 30,
    "start_time": "2024-08-22T14:23:04.647Z"
   },
   {
    "duration": 5,
    "start_time": "2024-08-22T14:23:04.679Z"
   },
   {
    "duration": 180,
    "start_time": "2024-08-22T14:23:04.686Z"
   },
   {
    "duration": 0,
    "start_time": "2024-08-22T14:23:04.868Z"
   },
   {
    "duration": 0,
    "start_time": "2024-08-22T14:23:04.870Z"
   },
   {
    "duration": 0,
    "start_time": "2024-08-22T14:23:04.872Z"
   },
   {
    "duration": 0,
    "start_time": "2024-08-22T14:23:04.873Z"
   },
   {
    "duration": 1403,
    "start_time": "2024-08-22T14:23:17.206Z"
   },
   {
    "duration": 421,
    "start_time": "2024-08-22T14:23:18.611Z"
   },
   {
    "duration": 5,
    "start_time": "2024-08-22T14:23:19.033Z"
   },
   {
    "duration": 171,
    "start_time": "2024-08-22T14:23:19.040Z"
   },
   {
    "duration": 32,
    "start_time": "2024-08-22T14:23:19.215Z"
   },
   {
    "duration": 140,
    "start_time": "2024-08-22T14:23:19.248Z"
   },
   {
    "duration": 14,
    "start_time": "2024-08-22T14:23:19.390Z"
   },
   {
    "duration": 164,
    "start_time": "2024-08-22T14:23:19.406Z"
   },
   {
    "duration": 14,
    "start_time": "2024-08-22T14:23:19.572Z"
   },
   {
    "duration": 3,
    "start_time": "2024-08-22T14:23:19.588Z"
   },
   {
    "duration": 57,
    "start_time": "2024-08-22T14:23:19.592Z"
   },
   {
    "duration": 6,
    "start_time": "2024-08-22T14:23:19.651Z"
   },
   {
    "duration": 696,
    "start_time": "2024-08-22T14:23:19.658Z"
   },
   {
    "duration": 4,
    "start_time": "2024-08-22T14:23:20.356Z"
   },
   {
    "duration": 10,
    "start_time": "2024-08-22T14:23:20.361Z"
   },
   {
    "duration": 21,
    "start_time": "2024-08-22T14:23:20.373Z"
   },
   {
    "duration": 6380,
    "start_time": "2024-08-22T14:23:20.396Z"
   },
   {
    "duration": 1421,
    "start_time": "2024-08-22T14:24:11.662Z"
   },
   {
    "duration": 413,
    "start_time": "2024-08-22T14:24:13.085Z"
   },
   {
    "duration": 4,
    "start_time": "2024-08-22T14:24:13.500Z"
   },
   {
    "duration": 196,
    "start_time": "2024-08-22T14:24:13.506Z"
   },
   {
    "duration": 13,
    "start_time": "2024-08-22T14:24:13.704Z"
   },
   {
    "duration": 153,
    "start_time": "2024-08-22T14:24:13.719Z"
   },
   {
    "duration": 13,
    "start_time": "2024-08-22T14:24:13.874Z"
   },
   {
    "duration": 161,
    "start_time": "2024-08-22T14:24:13.889Z"
   },
   {
    "duration": 13,
    "start_time": "2024-08-22T14:24:14.052Z"
   },
   {
    "duration": 7,
    "start_time": "2024-08-22T14:24:14.067Z"
   },
   {
    "duration": 33,
    "start_time": "2024-08-22T14:24:14.075Z"
   },
   {
    "duration": 5,
    "start_time": "2024-08-22T14:24:14.109Z"
   },
   {
    "duration": 178,
    "start_time": "2024-08-22T14:24:14.116Z"
   },
   {
    "duration": 0,
    "start_time": "2024-08-22T14:24:14.296Z"
   },
   {
    "duration": 0,
    "start_time": "2024-08-22T14:24:14.297Z"
   },
   {
    "duration": 0,
    "start_time": "2024-08-22T14:24:14.298Z"
   },
   {
    "duration": 0,
    "start_time": "2024-08-22T14:24:14.300Z"
   },
   {
    "duration": 1493,
    "start_time": "2024-08-22T14:24:53.623Z"
   },
   {
    "duration": 432,
    "start_time": "2024-08-22T14:24:55.119Z"
   },
   {
    "duration": 4,
    "start_time": "2024-08-22T14:24:55.553Z"
   },
   {
    "duration": 156,
    "start_time": "2024-08-22T14:24:55.558Z"
   },
   {
    "duration": 15,
    "start_time": "2024-08-22T14:24:55.717Z"
   },
   {
    "duration": 154,
    "start_time": "2024-08-22T14:24:55.734Z"
   },
   {
    "duration": 14,
    "start_time": "2024-08-22T14:24:55.890Z"
   },
   {
    "duration": 159,
    "start_time": "2024-08-22T14:24:55.905Z"
   },
   {
    "duration": 13,
    "start_time": "2024-08-22T14:24:56.065Z"
   },
   {
    "duration": 18,
    "start_time": "2024-08-22T14:24:56.080Z"
   },
   {
    "duration": 22,
    "start_time": "2024-08-22T14:24:56.099Z"
   },
   {
    "duration": 5,
    "start_time": "2024-08-22T14:24:56.123Z"
   },
   {
    "duration": 128,
    "start_time": "2024-08-22T14:24:56.130Z"
   },
   {
    "duration": 0,
    "start_time": "2024-08-22T14:24:56.260Z"
   },
   {
    "duration": 0,
    "start_time": "2024-08-22T14:24:56.262Z"
   },
   {
    "duration": 0,
    "start_time": "2024-08-22T14:24:56.263Z"
   },
   {
    "duration": 0,
    "start_time": "2024-08-22T14:24:56.264Z"
   },
   {
    "duration": 13,
    "start_time": "2024-08-22T14:25:18.812Z"
   },
   {
    "duration": 6,
    "start_time": "2024-08-22T14:25:18.986Z"
   },
   {
    "duration": 10,
    "start_time": "2024-08-22T14:25:19.154Z"
   },
   {
    "duration": 1393,
    "start_time": "2024-08-22T14:25:23.290Z"
   },
   {
    "duration": 435,
    "start_time": "2024-08-22T14:25:24.685Z"
   },
   {
    "duration": 5,
    "start_time": "2024-08-22T14:25:25.122Z"
   },
   {
    "duration": 163,
    "start_time": "2024-08-22T14:25:25.129Z"
   },
   {
    "duration": 13,
    "start_time": "2024-08-22T14:25:25.294Z"
   },
   {
    "duration": 161,
    "start_time": "2024-08-22T14:25:25.309Z"
   },
   {
    "duration": 13,
    "start_time": "2024-08-22T14:25:25.472Z"
   },
   {
    "duration": 162,
    "start_time": "2024-08-22T14:25:25.486Z"
   },
   {
    "duration": 14,
    "start_time": "2024-08-22T14:25:25.649Z"
   },
   {
    "duration": 6,
    "start_time": "2024-08-22T14:25:25.665Z"
   },
   {
    "duration": 75,
    "start_time": "2024-08-22T14:25:25.672Z"
   },
   {
    "duration": 113,
    "start_time": "2024-08-22T14:25:25.749Z"
   },
   {
    "duration": 0,
    "start_time": "2024-08-22T14:25:25.864Z"
   },
   {
    "duration": 0,
    "start_time": "2024-08-22T14:25:25.865Z"
   },
   {
    "duration": 0,
    "start_time": "2024-08-22T14:25:25.867Z"
   },
   {
    "duration": 0,
    "start_time": "2024-08-22T14:25:25.868Z"
   },
   {
    "duration": 0,
    "start_time": "2024-08-22T14:25:25.870Z"
   },
   {
    "duration": 0,
    "start_time": "2024-08-22T14:25:25.871Z"
   },
   {
    "duration": 1333,
    "start_time": "2024-08-22T14:25:39.497Z"
   },
   {
    "duration": 407,
    "start_time": "2024-08-22T14:25:40.832Z"
   },
   {
    "duration": 7,
    "start_time": "2024-08-22T14:25:41.240Z"
   },
   {
    "duration": 147,
    "start_time": "2024-08-22T14:25:41.249Z"
   },
   {
    "duration": 13,
    "start_time": "2024-08-22T14:25:41.398Z"
   },
   {
    "duration": 150,
    "start_time": "2024-08-22T14:25:41.413Z"
   },
   {
    "duration": 13,
    "start_time": "2024-08-22T14:25:41.565Z"
   },
   {
    "duration": 153,
    "start_time": "2024-08-22T14:25:41.579Z"
   },
   {
    "duration": 19,
    "start_time": "2024-08-22T14:25:41.734Z"
   },
   {
    "duration": 6,
    "start_time": "2024-08-22T14:25:41.756Z"
   },
   {
    "duration": 29,
    "start_time": "2024-08-22T14:25:41.763Z"
   },
   {
    "duration": 8,
    "start_time": "2024-08-22T14:25:41.794Z"
   },
   {
    "duration": 181,
    "start_time": "2024-08-22T14:25:41.804Z"
   },
   {
    "duration": 0,
    "start_time": "2024-08-22T14:25:41.986Z"
   },
   {
    "duration": 0,
    "start_time": "2024-08-22T14:25:41.988Z"
   },
   {
    "duration": 0,
    "start_time": "2024-08-22T14:25:41.989Z"
   },
   {
    "duration": 0,
    "start_time": "2024-08-22T14:25:41.990Z"
   },
   {
    "duration": 1484,
    "start_time": "2024-08-22T14:27:01.433Z"
   },
   {
    "duration": 429,
    "start_time": "2024-08-22T14:27:02.919Z"
   },
   {
    "duration": 5,
    "start_time": "2024-08-22T14:27:03.349Z"
   },
   {
    "duration": 200,
    "start_time": "2024-08-22T14:27:03.356Z"
   },
   {
    "duration": 36,
    "start_time": "2024-08-22T14:27:03.558Z"
   },
   {
    "duration": 156,
    "start_time": "2024-08-22T14:27:03.595Z"
   },
   {
    "duration": 35,
    "start_time": "2024-08-22T14:27:03.752Z"
   },
   {
    "duration": 165,
    "start_time": "2024-08-22T14:27:03.789Z"
   },
   {
    "duration": 35,
    "start_time": "2024-08-22T14:27:03.956Z"
   },
   {
    "duration": 2,
    "start_time": "2024-08-22T14:27:03.994Z"
   },
   {
    "duration": 40,
    "start_time": "2024-08-22T14:27:03.997Z"
   },
   {
    "duration": 6,
    "start_time": "2024-08-22T14:27:04.047Z"
   },
   {
    "duration": 161,
    "start_time": "2024-08-22T14:27:04.054Z"
   },
   {
    "duration": 0,
    "start_time": "2024-08-22T14:27:04.217Z"
   },
   {
    "duration": 0,
    "start_time": "2024-08-22T14:27:04.218Z"
   },
   {
    "duration": 0,
    "start_time": "2024-08-22T14:27:04.219Z"
   },
   {
    "duration": 0,
    "start_time": "2024-08-22T14:27:04.220Z"
   },
   {
    "duration": 4,
    "start_time": "2024-08-22T14:27:23.542Z"
   },
   {
    "duration": 1427,
    "start_time": "2024-08-22T14:27:27.459Z"
   },
   {
    "duration": 429,
    "start_time": "2024-08-22T14:27:28.888Z"
   },
   {
    "duration": 4,
    "start_time": "2024-08-22T14:27:29.318Z"
   },
   {
    "duration": 168,
    "start_time": "2024-08-22T14:27:29.324Z"
   },
   {
    "duration": 33,
    "start_time": "2024-08-22T14:27:29.494Z"
   },
   {
    "duration": 151,
    "start_time": "2024-08-22T14:27:29.528Z"
   },
   {
    "duration": 35,
    "start_time": "2024-08-22T14:27:29.681Z"
   },
   {
    "duration": 154,
    "start_time": "2024-08-22T14:27:29.718Z"
   },
   {
    "duration": 34,
    "start_time": "2024-08-22T14:27:29.873Z"
   },
   {
    "duration": 2,
    "start_time": "2024-08-22T14:27:29.909Z"
   },
   {
    "duration": 51,
    "start_time": "2024-08-22T14:27:29.913Z"
   },
   {
    "duration": 6,
    "start_time": "2024-08-22T14:27:29.965Z"
   },
   {
    "duration": 682,
    "start_time": "2024-08-22T14:27:29.973Z"
   },
   {
    "duration": 3,
    "start_time": "2024-08-22T14:27:30.658Z"
   },
   {
    "duration": 5,
    "start_time": "2024-08-22T14:27:30.663Z"
   },
   {
    "duration": 26,
    "start_time": "2024-08-22T14:27:30.669Z"
   },
   {
    "duration": 4998,
    "start_time": "2024-08-22T14:27:30.697Z"
   },
   {
    "duration": 1512,
    "start_time": "2024-08-22T14:30:28.771Z"
   },
   {
    "duration": 435,
    "start_time": "2024-08-22T14:30:30.285Z"
   },
   {
    "duration": 5,
    "start_time": "2024-08-22T14:30:30.722Z"
   },
   {
    "duration": 230,
    "start_time": "2024-08-22T14:30:30.729Z"
   },
   {
    "duration": 41,
    "start_time": "2024-08-22T14:30:30.961Z"
   },
   {
    "duration": 170,
    "start_time": "2024-08-22T14:30:31.004Z"
   },
   {
    "duration": 49,
    "start_time": "2024-08-22T14:30:31.176Z"
   },
   {
    "duration": 164,
    "start_time": "2024-08-22T14:30:31.227Z"
   },
   {
    "duration": 34,
    "start_time": "2024-08-22T14:30:31.393Z"
   },
   {
    "duration": 23,
    "start_time": "2024-08-22T14:30:31.428Z"
   },
   {
    "duration": 32,
    "start_time": "2024-08-22T14:30:31.452Z"
   },
   {
    "duration": 5,
    "start_time": "2024-08-22T14:30:31.486Z"
   },
   {
    "duration": 665,
    "start_time": "2024-08-22T14:30:31.492Z"
   },
   {
    "duration": 12,
    "start_time": "2024-08-22T14:30:32.160Z"
   },
   {
    "duration": 18,
    "start_time": "2024-08-22T14:30:32.175Z"
   },
   {
    "duration": 26,
    "start_time": "2024-08-22T14:30:32.196Z"
   },
   {
    "duration": 5077,
    "start_time": "2024-08-22T14:30:32.224Z"
   },
   {
    "duration": 1459,
    "start_time": "2024-08-22T14:49:46.965Z"
   },
   {
    "duration": 434,
    "start_time": "2024-08-22T14:49:48.426Z"
   },
   {
    "duration": 6,
    "start_time": "2024-08-22T14:49:48.873Z"
   },
   {
    "duration": 188,
    "start_time": "2024-08-22T14:49:48.881Z"
   },
   {
    "duration": 40,
    "start_time": "2024-08-22T14:49:49.071Z"
   },
   {
    "duration": 183,
    "start_time": "2024-08-22T14:49:49.113Z"
   },
   {
    "duration": 53,
    "start_time": "2024-08-22T14:49:49.298Z"
   },
   {
    "duration": 133,
    "start_time": "2024-08-22T14:49:49.353Z"
   },
   {
    "duration": 35,
    "start_time": "2024-08-22T14:49:49.487Z"
   },
   {
    "duration": 6,
    "start_time": "2024-08-22T14:49:49.524Z"
   },
   {
    "duration": 25,
    "start_time": "2024-08-22T14:49:49.546Z"
   },
   {
    "duration": 6,
    "start_time": "2024-08-22T14:49:49.572Z"
   },
   {
    "duration": 677,
    "start_time": "2024-08-22T14:49:49.579Z"
   },
   {
    "duration": 4,
    "start_time": "2024-08-22T14:49:50.260Z"
   },
   {
    "duration": 4,
    "start_time": "2024-08-22T14:49:50.266Z"
   },
   {
    "duration": 8,
    "start_time": "2024-08-22T14:49:50.272Z"
   },
   {
    "duration": 5253,
    "start_time": "2024-08-22T14:49:50.283Z"
   },
   {
    "duration": 6,
    "start_time": "2024-08-22T14:50:18.200Z"
   },
   {
    "duration": 1529,
    "start_time": "2024-08-22T14:50:45.330Z"
   },
   {
    "duration": 429,
    "start_time": "2024-08-22T14:50:46.861Z"
   },
   {
    "duration": 4,
    "start_time": "2024-08-22T14:50:47.292Z"
   },
   {
    "duration": 156,
    "start_time": "2024-08-22T14:50:47.298Z"
   },
   {
    "duration": 37,
    "start_time": "2024-08-22T14:50:47.456Z"
   },
   {
    "duration": 160,
    "start_time": "2024-08-22T14:50:47.495Z"
   },
   {
    "duration": 37,
    "start_time": "2024-08-22T14:50:47.656Z"
   },
   {
    "duration": 177,
    "start_time": "2024-08-22T14:50:47.695Z"
   },
   {
    "duration": 34,
    "start_time": "2024-08-22T14:50:47.873Z"
   },
   {
    "duration": 8,
    "start_time": "2024-08-22T14:50:47.908Z"
   },
   {
    "duration": 55,
    "start_time": "2024-08-22T14:50:47.917Z"
   },
   {
    "duration": 8,
    "start_time": "2024-08-22T14:50:47.973Z"
   },
   {
    "duration": 670,
    "start_time": "2024-08-22T14:50:47.982Z"
   },
   {
    "duration": 88,
    "start_time": "2024-08-22T14:50:48.660Z"
   },
   {
    "duration": 13,
    "start_time": "2024-08-22T14:50:48.749Z"
   },
   {
    "duration": 6,
    "start_time": "2024-08-22T14:50:48.763Z"
   },
   {
    "duration": 5302,
    "start_time": "2024-08-22T14:50:48.770Z"
   },
   {
    "duration": 6,
    "start_time": "2024-08-22T14:51:14.563Z"
   },
   {
    "duration": 4968,
    "start_time": "2024-08-22T14:51:16.982Z"
   },
   {
    "duration": 1375,
    "start_time": "2024-08-22T14:55:47.111Z"
   },
   {
    "duration": 404,
    "start_time": "2024-08-22T14:55:48.489Z"
   },
   {
    "duration": 4,
    "start_time": "2024-08-22T14:55:48.894Z"
   },
   {
    "duration": 152,
    "start_time": "2024-08-22T14:55:48.900Z"
   },
   {
    "duration": 34,
    "start_time": "2024-08-22T14:55:49.054Z"
   },
   {
    "duration": 141,
    "start_time": "2024-08-22T14:55:49.090Z"
   },
   {
    "duration": 33,
    "start_time": "2024-08-22T14:55:49.247Z"
   },
   {
    "duration": 165,
    "start_time": "2024-08-22T14:55:49.282Z"
   },
   {
    "duration": 33,
    "start_time": "2024-08-22T14:55:49.448Z"
   },
   {
    "duration": 6,
    "start_time": "2024-08-22T14:55:49.483Z"
   },
   {
    "duration": 22,
    "start_time": "2024-08-22T14:55:49.490Z"
   },
   {
    "duration": 12,
    "start_time": "2024-08-22T14:55:49.514Z"
   },
   {
    "duration": 129,
    "start_time": "2024-08-22T14:55:49.527Z"
   },
   {
    "duration": 0,
    "start_time": "2024-08-22T14:55:49.658Z"
   },
   {
    "duration": 0,
    "start_time": "2024-08-22T14:55:49.659Z"
   },
   {
    "duration": 0,
    "start_time": "2024-08-22T14:55:49.660Z"
   },
   {
    "duration": 0,
    "start_time": "2024-08-22T14:55:49.662Z"
   },
   {
    "duration": 650,
    "start_time": "2024-08-22T14:57:17.008Z"
   },
   {
    "duration": 1420,
    "start_time": "2024-08-22T14:58:29.374Z"
   },
   {
    "duration": 434,
    "start_time": "2024-08-22T14:58:30.796Z"
   },
   {
    "duration": 5,
    "start_time": "2024-08-22T14:58:31.232Z"
   },
   {
    "duration": 174,
    "start_time": "2024-08-22T14:58:31.239Z"
   },
   {
    "duration": 48,
    "start_time": "2024-08-22T14:58:31.415Z"
   },
   {
    "duration": 169,
    "start_time": "2024-08-22T14:58:31.465Z"
   },
   {
    "duration": 44,
    "start_time": "2024-08-22T14:58:31.636Z"
   },
   {
    "duration": 177,
    "start_time": "2024-08-22T14:58:31.682Z"
   },
   {
    "duration": 37,
    "start_time": "2024-08-22T14:58:31.861Z"
   },
   {
    "duration": 6,
    "start_time": "2024-08-22T14:58:31.901Z"
   },
   {
    "duration": 43,
    "start_time": "2024-08-22T14:58:31.909Z"
   },
   {
    "duration": 7,
    "start_time": "2024-08-22T14:58:31.954Z"
   },
   {
    "duration": 692,
    "start_time": "2024-08-22T14:58:31.963Z"
   },
   {
    "duration": 4,
    "start_time": "2024-08-22T14:58:32.657Z"
   },
   {
    "duration": 41,
    "start_time": "2024-08-22T14:58:32.663Z"
   },
   {
    "duration": 31,
    "start_time": "2024-08-22T14:58:32.706Z"
   },
   {
    "duration": 147,
    "start_time": "2024-08-22T14:58:32.739Z"
   },
   {
    "duration": 1381,
    "start_time": "2024-08-22T14:59:52.101Z"
   },
   {
    "duration": 400,
    "start_time": "2024-08-22T14:59:53.484Z"
   },
   {
    "duration": 5,
    "start_time": "2024-08-22T14:59:53.886Z"
   },
   {
    "duration": 191,
    "start_time": "2024-08-22T14:59:53.892Z"
   },
   {
    "duration": 33,
    "start_time": "2024-08-22T14:59:54.085Z"
   },
   {
    "duration": 149,
    "start_time": "2024-08-22T14:59:54.120Z"
   },
   {
    "duration": 46,
    "start_time": "2024-08-22T14:59:54.270Z"
   },
   {
    "duration": 151,
    "start_time": "2024-08-22T14:59:54.318Z"
   },
   {
    "duration": 33,
    "start_time": "2024-08-22T14:59:54.470Z"
   },
   {
    "duration": 5,
    "start_time": "2024-08-22T14:59:54.505Z"
   },
   {
    "duration": 16,
    "start_time": "2024-08-22T14:59:54.511Z"
   },
   {
    "duration": 626,
    "start_time": "2024-08-22T14:59:54.528Z"
   },
   {
    "duration": 4,
    "start_time": "2024-08-22T14:59:55.157Z"
   },
   {
    "duration": 5,
    "start_time": "2024-08-22T14:59:55.164Z"
   },
   {
    "duration": 11,
    "start_time": "2024-08-22T14:59:55.171Z"
   },
   {
    "duration": 136,
    "start_time": "2024-08-22T14:59:55.184Z"
   },
   {
    "duration": 1459,
    "start_time": "2024-08-22T15:00:18.717Z"
   },
   {
    "duration": 416,
    "start_time": "2024-08-22T15:00:20.177Z"
   },
   {
    "duration": 5,
    "start_time": "2024-08-22T15:00:20.595Z"
   },
   {
    "duration": 178,
    "start_time": "2024-08-22T15:00:20.602Z"
   },
   {
    "duration": 45,
    "start_time": "2024-08-22T15:00:20.785Z"
   },
   {
    "duration": 168,
    "start_time": "2024-08-22T15:00:20.832Z"
   },
   {
    "duration": 52,
    "start_time": "2024-08-22T15:00:21.001Z"
   },
   {
    "duration": 159,
    "start_time": "2024-08-22T15:00:21.054Z"
   },
   {
    "duration": 46,
    "start_time": "2024-08-22T15:00:21.214Z"
   },
   {
    "duration": 6,
    "start_time": "2024-08-22T15:00:21.263Z"
   },
   {
    "duration": 12,
    "start_time": "2024-08-22T15:00:21.271Z"
   },
   {
    "duration": 667,
    "start_time": "2024-08-22T15:00:21.285Z"
   },
   {
    "duration": 4,
    "start_time": "2024-08-22T15:00:21.954Z"
   },
   {
    "duration": 11,
    "start_time": "2024-08-22T15:00:21.959Z"
   },
   {
    "duration": 6,
    "start_time": "2024-08-22T15:00:21.971Z"
   },
   {
    "duration": 4990,
    "start_time": "2024-08-22T15:00:21.979Z"
   },
   {
    "duration": 7,
    "start_time": "2024-08-22T15:04:30.934Z"
   },
   {
    "duration": 6,
    "start_time": "2024-08-22T15:05:11.914Z"
   },
   {
    "duration": 6,
    "start_time": "2024-08-22T15:06:07.317Z"
   },
   {
    "duration": 6,
    "start_time": "2024-08-22T15:07:42.060Z"
   },
   {
    "duration": 3,
    "start_time": "2024-08-22T15:12:37.156Z"
   },
   {
    "duration": 4,
    "start_time": "2024-08-22T15:12:39.423Z"
   },
   {
    "duration": 4868,
    "start_time": "2024-08-22T15:12:39.913Z"
   },
   {
    "duration": 3,
    "start_time": "2024-08-22T15:13:51.282Z"
   },
   {
    "duration": 5,
    "start_time": "2024-08-22T15:13:51.603Z"
   },
   {
    "duration": 1375,
    "start_time": "2024-08-22T15:13:55.440Z"
   },
   {
    "duration": 426,
    "start_time": "2024-08-22T15:13:56.817Z"
   },
   {
    "duration": 5,
    "start_time": "2024-08-22T15:13:57.245Z"
   },
   {
    "duration": 148,
    "start_time": "2024-08-22T15:13:57.252Z"
   },
   {
    "duration": 57,
    "start_time": "2024-08-22T15:13:57.402Z"
   },
   {
    "duration": 139,
    "start_time": "2024-08-22T15:13:57.460Z"
   },
   {
    "duration": 46,
    "start_time": "2024-08-22T15:13:57.601Z"
   },
   {
    "duration": 136,
    "start_time": "2024-08-22T15:13:57.649Z"
   },
   {
    "duration": 33,
    "start_time": "2024-08-22T15:13:57.786Z"
   },
   {
    "duration": 29,
    "start_time": "2024-08-22T15:13:57.820Z"
   },
   {
    "duration": 6,
    "start_time": "2024-08-22T15:13:57.851Z"
   },
   {
    "duration": 698,
    "start_time": "2024-08-22T15:13:57.858Z"
   },
   {
    "duration": 4,
    "start_time": "2024-08-22T15:13:58.558Z"
   },
   {
    "duration": 11,
    "start_time": "2024-08-22T15:13:58.564Z"
   },
   {
    "duration": 4,
    "start_time": "2024-08-22T15:13:58.576Z"
   },
   {
    "duration": 6,
    "start_time": "2024-08-22T15:13:58.582Z"
   },
   {
    "duration": 19333,
    "start_time": "2024-08-22T15:13:58.589Z"
   },
   {
    "duration": 1528,
    "start_time": "2024-08-22T15:14:31.009Z"
   },
   {
    "duration": 413,
    "start_time": "2024-08-22T15:14:32.538Z"
   },
   {
    "duration": 4,
    "start_time": "2024-08-22T15:14:32.953Z"
   },
   {
    "duration": 192,
    "start_time": "2024-08-22T15:14:32.959Z"
   },
   {
    "duration": 35,
    "start_time": "2024-08-22T15:14:33.153Z"
   },
   {
    "duration": 157,
    "start_time": "2024-08-22T15:14:33.190Z"
   },
   {
    "duration": 36,
    "start_time": "2024-08-22T15:14:33.349Z"
   },
   {
    "duration": 152,
    "start_time": "2024-08-22T15:14:33.386Z"
   },
   {
    "duration": 37,
    "start_time": "2024-08-22T15:14:33.547Z"
   },
   {
    "duration": 7,
    "start_time": "2024-08-22T15:14:33.585Z"
   },
   {
    "duration": 12,
    "start_time": "2024-08-22T15:14:33.593Z"
   },
   {
    "duration": 645,
    "start_time": "2024-08-22T15:14:33.607Z"
   },
   {
    "duration": 4,
    "start_time": "2024-08-22T15:14:34.253Z"
   },
   {
    "duration": 9,
    "start_time": "2024-08-22T15:14:34.259Z"
   },
   {
    "duration": 9,
    "start_time": "2024-08-22T15:14:34.270Z"
   },
   {
    "duration": 13,
    "start_time": "2024-08-22T15:14:34.280Z"
   },
   {
    "duration": 5203,
    "start_time": "2024-08-22T15:14:34.295Z"
   },
   {
    "duration": 4,
    "start_time": "2024-08-22T15:15:07.945Z"
   },
   {
    "duration": 5,
    "start_time": "2024-08-22T15:15:08.277Z"
   },
   {
    "duration": 116,
    "start_time": "2024-08-22T15:15:08.674Z"
   },
   {
    "duration": 1494,
    "start_time": "2024-08-22T15:16:54.761Z"
   },
   {
    "duration": 400,
    "start_time": "2024-08-22T15:16:56.256Z"
   },
   {
    "duration": 4,
    "start_time": "2024-08-22T15:16:56.660Z"
   },
   {
    "duration": 150,
    "start_time": "2024-08-22T15:16:56.665Z"
   },
   {
    "duration": 49,
    "start_time": "2024-08-22T15:16:56.817Z"
   },
   {
    "duration": 142,
    "start_time": "2024-08-22T15:16:56.867Z"
   },
   {
    "duration": 58,
    "start_time": "2024-08-22T15:16:57.011Z"
   },
   {
    "duration": 151,
    "start_time": "2024-08-22T15:16:57.071Z"
   },
   {
    "duration": 44,
    "start_time": "2024-08-22T15:16:57.224Z"
   },
   {
    "duration": 6,
    "start_time": "2024-08-22T15:16:57.270Z"
   },
   {
    "duration": 6,
    "start_time": "2024-08-22T15:16:57.277Z"
   },
   {
    "duration": 666,
    "start_time": "2024-08-22T15:16:57.285Z"
   },
   {
    "duration": 3,
    "start_time": "2024-08-22T15:16:57.953Z"
   },
   {
    "duration": 28,
    "start_time": "2024-08-22T15:16:57.957Z"
   },
   {
    "duration": 6,
    "start_time": "2024-08-22T15:16:57.987Z"
   },
   {
    "duration": 8,
    "start_time": "2024-08-22T15:16:57.995Z"
   },
   {
    "duration": 19463,
    "start_time": "2024-08-22T15:16:58.005Z"
   },
   {
    "duration": 1377,
    "start_time": "2024-08-22T15:18:04.969Z"
   },
   {
    "duration": 394,
    "start_time": "2024-08-22T15:18:06.348Z"
   },
   {
    "duration": 5,
    "start_time": "2024-08-22T15:18:06.744Z"
   },
   {
    "duration": 139,
    "start_time": "2024-08-22T15:18:06.750Z"
   },
   {
    "duration": 31,
    "start_time": "2024-08-22T15:18:06.892Z"
   },
   {
    "duration": 172,
    "start_time": "2024-08-22T15:18:06.924Z"
   },
   {
    "duration": 50,
    "start_time": "2024-08-22T15:18:07.098Z"
   },
   {
    "duration": 137,
    "start_time": "2024-08-22T15:18:07.149Z"
   },
   {
    "duration": 32,
    "start_time": "2024-08-22T15:18:07.288Z"
   },
   {
    "duration": 6,
    "start_time": "2024-08-22T15:18:07.321Z"
   },
   {
    "duration": 7,
    "start_time": "2024-08-22T15:18:07.346Z"
   },
   {
    "duration": 696,
    "start_time": "2024-08-22T15:18:07.354Z"
   },
   {
    "duration": 94,
    "start_time": "2024-08-22T15:18:08.053Z"
   },
   {
    "duration": 39,
    "start_time": "2024-08-22T15:18:08.150Z"
   },
   {
    "duration": 23,
    "start_time": "2024-08-22T15:18:08.191Z"
   },
   {
    "duration": 7,
    "start_time": "2024-08-22T15:18:08.216Z"
   },
   {
    "duration": 4921,
    "start_time": "2024-08-22T15:18:08.225Z"
   },
   {
    "duration": 4936,
    "start_time": "2024-08-22T15:21:52.776Z"
   },
   {
    "duration": 62,
    "start_time": "2024-08-22T15:29:16.151Z"
   },
   {
    "duration": 7,
    "start_time": "2024-08-22T15:29:25.005Z"
   },
   {
    "duration": 1772,
    "start_time": "2024-08-22T15:29:36.204Z"
   },
   {
    "duration": 7,
    "start_time": "2024-08-22T15:31:12.890Z"
   },
   {
    "duration": 1807,
    "start_time": "2024-08-22T15:31:14.585Z"
   },
   {
    "duration": 5,
    "start_time": "2024-08-22T15:31:22.185Z"
   },
   {
    "duration": 4862,
    "start_time": "2024-08-22T15:31:38.021Z"
   },
   {
    "duration": 3,
    "start_time": "2024-08-22T15:34:11.072Z"
   },
   {
    "duration": 1338,
    "start_time": "2024-08-22T15:37:56.246Z"
   },
   {
    "duration": 415,
    "start_time": "2024-08-22T15:37:57.586Z"
   },
   {
    "duration": 4,
    "start_time": "2024-08-22T15:37:58.003Z"
   },
   {
    "duration": 142,
    "start_time": "2024-08-22T15:37:58.009Z"
   },
   {
    "duration": 31,
    "start_time": "2024-08-22T15:37:58.153Z"
   },
   {
    "duration": 143,
    "start_time": "2024-08-22T15:37:58.185Z"
   },
   {
    "duration": 44,
    "start_time": "2024-08-22T15:37:58.329Z"
   },
   {
    "duration": 135,
    "start_time": "2024-08-22T15:37:58.375Z"
   },
   {
    "duration": 47,
    "start_time": "2024-08-22T15:37:58.512Z"
   },
   {
    "duration": 20,
    "start_time": "2024-08-22T15:37:58.560Z"
   },
   {
    "duration": 8,
    "start_time": "2024-08-22T15:37:58.581Z"
   },
   {
    "duration": 766,
    "start_time": "2024-08-22T15:37:58.590Z"
   },
   {
    "duration": 4,
    "start_time": "2024-08-22T15:37:59.358Z"
   },
   {
    "duration": 6,
    "start_time": "2024-08-22T15:37:59.364Z"
   },
   {
    "duration": 4,
    "start_time": "2024-08-22T15:37:59.371Z"
   },
   {
    "duration": 6,
    "start_time": "2024-08-22T15:37:59.377Z"
   },
   {
    "duration": 4964,
    "start_time": "2024-08-22T15:37:59.385Z"
   },
   {
    "duration": 106,
    "start_time": "2024-08-22T15:39:22.858Z"
   },
   {
    "duration": 10,
    "start_time": "2024-08-22T15:39:49.187Z"
   },
   {
    "duration": 5001,
    "start_time": "2024-08-22T15:40:29.510Z"
   },
   {
    "duration": 5041,
    "start_time": "2024-08-22T15:40:41.305Z"
   },
   {
    "duration": 1479,
    "start_time": "2024-08-22T15:43:13.136Z"
   },
   {
    "duration": 412,
    "start_time": "2024-08-22T15:43:14.617Z"
   },
   {
    "duration": 5,
    "start_time": "2024-08-22T15:43:15.031Z"
   },
   {
    "duration": 190,
    "start_time": "2024-08-22T15:43:15.038Z"
   },
   {
    "duration": 44,
    "start_time": "2024-08-22T15:43:15.230Z"
   },
   {
    "duration": 146,
    "start_time": "2024-08-22T15:43:15.276Z"
   },
   {
    "duration": 52,
    "start_time": "2024-08-22T15:43:15.423Z"
   },
   {
    "duration": 142,
    "start_time": "2024-08-22T15:43:15.477Z"
   },
   {
    "duration": 52,
    "start_time": "2024-08-22T15:43:15.621Z"
   },
   {
    "duration": 24,
    "start_time": "2024-08-22T15:43:15.675Z"
   },
   {
    "duration": 29,
    "start_time": "2024-08-22T15:43:15.701Z"
   },
   {
    "duration": 621,
    "start_time": "2024-08-22T15:43:15.732Z"
   },
   {
    "duration": 5,
    "start_time": "2024-08-22T15:43:16.355Z"
   },
   {
    "duration": 121,
    "start_time": "2024-08-22T15:43:16.362Z"
   },
   {
    "duration": 0,
    "start_time": "2024-08-22T15:43:16.485Z"
   },
   {
    "duration": 0,
    "start_time": "2024-08-22T15:43:16.486Z"
   },
   {
    "duration": 0,
    "start_time": "2024-08-22T15:43:16.488Z"
   },
   {
    "duration": 10,
    "start_time": "2024-08-22T15:46:10.430Z"
   },
   {
    "duration": 1407,
    "start_time": "2024-08-22T15:46:24.752Z"
   },
   {
    "duration": 397,
    "start_time": "2024-08-22T15:46:26.161Z"
   },
   {
    "duration": 4,
    "start_time": "2024-08-22T15:46:26.560Z"
   },
   {
    "duration": 193,
    "start_time": "2024-08-22T15:46:26.566Z"
   },
   {
    "duration": 36,
    "start_time": "2024-08-22T15:46:26.761Z"
   },
   {
    "duration": 166,
    "start_time": "2024-08-22T15:46:26.799Z"
   },
   {
    "duration": 38,
    "start_time": "2024-08-22T15:46:26.967Z"
   },
   {
    "duration": 148,
    "start_time": "2024-08-22T15:46:27.006Z"
   },
   {
    "duration": 33,
    "start_time": "2024-08-22T15:46:27.156Z"
   },
   {
    "duration": 5,
    "start_time": "2024-08-22T15:46:27.192Z"
   },
   {
    "duration": 10,
    "start_time": "2024-08-22T15:46:27.199Z"
   },
   {
    "duration": 0,
    "start_time": "2024-08-22T15:46:27.211Z"
   },
   {
    "duration": 0,
    "start_time": "2024-08-22T15:46:27.212Z"
   },
   {
    "duration": 0,
    "start_time": "2024-08-22T15:46:27.213Z"
   },
   {
    "duration": 0,
    "start_time": "2024-08-22T15:46:27.214Z"
   },
   {
    "duration": 0,
    "start_time": "2024-08-22T15:46:27.215Z"
   },
   {
    "duration": 726,
    "start_time": "2024-08-22T15:46:47.324Z"
   },
   {
    "duration": 1460,
    "start_time": "2024-08-22T15:47:06.815Z"
   },
   {
    "duration": 399,
    "start_time": "2024-08-22T15:47:08.277Z"
   },
   {
    "duration": 4,
    "start_time": "2024-08-22T15:47:08.680Z"
   },
   {
    "duration": 150,
    "start_time": "2024-08-22T15:47:08.686Z"
   },
   {
    "duration": 34,
    "start_time": "2024-08-22T15:47:08.847Z"
   },
   {
    "duration": 151,
    "start_time": "2024-08-22T15:47:08.883Z"
   },
   {
    "duration": 46,
    "start_time": "2024-08-22T15:47:09.047Z"
   },
   {
    "duration": 161,
    "start_time": "2024-08-22T15:47:09.094Z"
   },
   {
    "duration": 34,
    "start_time": "2024-08-22T15:47:09.258Z"
   },
   {
    "duration": 6,
    "start_time": "2024-08-22T15:47:09.294Z"
   },
   {
    "duration": 646,
    "start_time": "2024-08-22T15:47:09.301Z"
   },
   {
    "duration": 4,
    "start_time": "2024-08-22T15:47:09.949Z"
   },
   {
    "duration": 31,
    "start_time": "2024-08-22T15:47:09.954Z"
   },
   {
    "duration": 22,
    "start_time": "2024-08-22T15:47:09.986Z"
   },
   {
    "duration": 37,
    "start_time": "2024-08-22T15:47:10.010Z"
   },
   {
    "duration": 126,
    "start_time": "2024-08-22T15:47:10.049Z"
   },
   {
    "duration": 6,
    "start_time": "2024-08-22T15:47:48.905Z"
   },
   {
    "duration": 5,
    "start_time": "2024-08-22T15:49:09.595Z"
   },
   {
    "duration": 621,
    "start_time": "2024-08-22T15:49:09.829Z"
   },
   {
    "duration": 4,
    "start_time": "2024-08-22T15:49:12.972Z"
   },
   {
    "duration": 5,
    "start_time": "2024-08-22T15:49:13.704Z"
   },
   {
    "duration": 1346,
    "start_time": "2024-08-22T15:49:17.977Z"
   },
   {
    "duration": 410,
    "start_time": "2024-08-22T15:49:19.325Z"
   },
   {
    "duration": 4,
    "start_time": "2024-08-22T15:49:19.738Z"
   },
   {
    "duration": 135,
    "start_time": "2024-08-22T15:49:19.744Z"
   },
   {
    "duration": 33,
    "start_time": "2024-08-22T15:49:19.881Z"
   },
   {
    "duration": 152,
    "start_time": "2024-08-22T15:49:19.915Z"
   },
   {
    "duration": 33,
    "start_time": "2024-08-22T15:49:20.069Z"
   },
   {
    "duration": 153,
    "start_time": "2024-08-22T15:49:20.104Z"
   },
   {
    "duration": 35,
    "start_time": "2024-08-22T15:49:20.259Z"
   },
   {
    "duration": 6,
    "start_time": "2024-08-22T15:49:20.297Z"
   },
   {
    "duration": 7,
    "start_time": "2024-08-22T15:49:20.305Z"
   },
   {
    "duration": 635,
    "start_time": "2024-08-22T15:49:20.313Z"
   },
   {
    "duration": 4,
    "start_time": "2024-08-22T15:49:20.950Z"
   },
   {
    "duration": 137,
    "start_time": "2024-08-22T15:49:20.955Z"
   },
   {
    "duration": 0,
    "start_time": "2024-08-22T15:49:21.094Z"
   },
   {
    "duration": 0,
    "start_time": "2024-08-22T15:49:21.095Z"
   },
   {
    "duration": 0,
    "start_time": "2024-08-22T15:49:21.096Z"
   },
   {
    "duration": 10,
    "start_time": "2024-08-22T15:49:36.053Z"
   },
   {
    "duration": 4,
    "start_time": "2024-08-22T15:52:03.187Z"
   },
   {
    "duration": 5,
    "start_time": "2024-08-22T15:52:06.576Z"
   },
   {
    "duration": 12,
    "start_time": "2024-08-22T15:52:06.746Z"
   },
   {
    "duration": 10,
    "start_time": "2024-08-22T15:53:43.232Z"
   },
   {
    "duration": 11,
    "start_time": "2024-08-22T15:54:00.773Z"
   },
   {
    "duration": 9,
    "start_time": "2024-08-22T15:54:24.058Z"
   },
   {
    "duration": 1337,
    "start_time": "2024-08-22T15:55:51.561Z"
   },
   {
    "duration": 394,
    "start_time": "2024-08-22T15:55:52.900Z"
   },
   {
    "duration": 4,
    "start_time": "2024-08-22T15:55:53.295Z"
   },
   {
    "duration": 147,
    "start_time": "2024-08-22T15:55:53.301Z"
   },
   {
    "duration": 33,
    "start_time": "2024-08-22T15:55:53.449Z"
   },
   {
    "duration": 149,
    "start_time": "2024-08-22T15:55:53.483Z"
   },
   {
    "duration": 34,
    "start_time": "2024-08-22T15:55:53.634Z"
   },
   {
    "duration": 206,
    "start_time": "2024-08-22T15:55:53.670Z"
   },
   {
    "duration": 32,
    "start_time": "2024-08-22T15:55:53.877Z"
   },
   {
    "duration": 6,
    "start_time": "2024-08-22T15:55:53.911Z"
   },
   {
    "duration": 50,
    "start_time": "2024-08-22T15:55:53.918Z"
   },
   {
    "duration": 678,
    "start_time": "2024-08-22T15:55:53.970Z"
   },
   {
    "duration": 4,
    "start_time": "2024-08-22T15:55:54.649Z"
   },
   {
    "duration": 122,
    "start_time": "2024-08-22T15:55:54.655Z"
   },
   {
    "duration": 0,
    "start_time": "2024-08-22T15:55:54.778Z"
   },
   {
    "duration": 0,
    "start_time": "2024-08-22T15:55:54.779Z"
   },
   {
    "duration": 0,
    "start_time": "2024-08-22T15:55:54.780Z"
   },
   {
    "duration": 14,
    "start_time": "2024-08-22T15:56:53.161Z"
   },
   {
    "duration": 613,
    "start_time": "2024-08-22T15:58:52.534Z"
   },
   {
    "duration": 671,
    "start_time": "2024-08-22T15:59:00.383Z"
   },
   {
    "duration": 5,
    "start_time": "2024-08-22T15:59:22.373Z"
   },
   {
    "duration": 513,
    "start_time": "2024-08-22T15:59:52.545Z"
   },
   {
    "duration": 205,
    "start_time": "2024-08-22T15:59:53.148Z"
   },
   {
    "duration": 614,
    "start_time": "2024-08-22T16:01:29.636Z"
   },
   {
    "duration": 598,
    "start_time": "2024-08-22T16:01:30.252Z"
   },
   {
    "duration": 4,
    "start_time": "2024-08-22T16:01:32.627Z"
   },
   {
    "duration": 6,
    "start_time": "2024-08-22T16:01:33.084Z"
   },
   {
    "duration": 1403,
    "start_time": "2024-08-22T16:01:40.876Z"
   },
   {
    "duration": 405,
    "start_time": "2024-08-22T16:01:42.280Z"
   },
   {
    "duration": 5,
    "start_time": "2024-08-22T16:01:42.686Z"
   },
   {
    "duration": 159,
    "start_time": "2024-08-22T16:01:42.692Z"
   },
   {
    "duration": 34,
    "start_time": "2024-08-22T16:01:42.853Z"
   },
   {
    "duration": 161,
    "start_time": "2024-08-22T16:01:42.888Z"
   },
   {
    "duration": 35,
    "start_time": "2024-08-22T16:01:43.050Z"
   },
   {
    "duration": 165,
    "start_time": "2024-08-22T16:01:43.087Z"
   },
   {
    "duration": 32,
    "start_time": "2024-08-22T16:01:43.254Z"
   },
   {
    "duration": 6,
    "start_time": "2024-08-22T16:01:43.288Z"
   },
   {
    "duration": 658,
    "start_time": "2024-08-22T16:01:43.296Z"
   },
   {
    "duration": 592,
    "start_time": "2024-08-22T16:01:43.956Z"
   },
   {
    "duration": 4,
    "start_time": "2024-08-22T16:01:44.550Z"
   },
   {
    "duration": 8,
    "start_time": "2024-08-22T16:01:44.556Z"
   },
   {
    "duration": 5,
    "start_time": "2024-08-22T16:01:44.565Z"
   },
   {
    "duration": 35,
    "start_time": "2024-08-22T16:01:44.572Z"
   },
   {
    "duration": 170,
    "start_time": "2024-08-22T16:01:44.609Z"
   },
   {
    "duration": 5,
    "start_time": "2024-08-22T16:04:00.137Z"
   },
   {
    "duration": 26,
    "start_time": "2024-08-22T16:04:01.710Z"
   },
   {
    "duration": 24,
    "start_time": "2024-08-22T16:04:28.194Z"
   },
   {
    "duration": 5,
    "start_time": "2024-08-22T16:04:38.428Z"
   },
   {
    "duration": 4174,
    "start_time": "2024-08-22T16:04:38.599Z"
   },
   {
    "duration": 5,
    "start_time": "2024-08-22T16:05:22.558Z"
   },
   {
    "duration": 17,
    "start_time": "2024-08-22T16:05:23.121Z"
   },
   {
    "duration": 6,
    "start_time": "2024-08-22T16:06:58.666Z"
   },
   {
    "duration": 7250,
    "start_time": "2024-08-22T16:06:59.204Z"
   },
   {
    "duration": 5,
    "start_time": "2024-08-22T16:08:37.744Z"
   },
   {
    "duration": 5,
    "start_time": "2024-08-22T16:08:44.357Z"
   },
   {
    "duration": 14,
    "start_time": "2024-08-22T16:08:51.683Z"
   },
   {
    "duration": 5,
    "start_time": "2024-08-22T16:08:53.137Z"
   },
   {
    "duration": 14,
    "start_time": "2024-08-22T16:08:53.288Z"
   },
   {
    "duration": 3,
    "start_time": "2024-08-22T16:08:55.710Z"
   },
   {
    "duration": 5,
    "start_time": "2024-08-22T16:08:55.871Z"
   },
   {
    "duration": 13,
    "start_time": "2024-08-22T16:08:56.021Z"
   },
   {
    "duration": 1476,
    "start_time": "2024-08-22T16:10:03.023Z"
   },
   {
    "duration": 406,
    "start_time": "2024-08-22T16:10:04.501Z"
   },
   {
    "duration": 4,
    "start_time": "2024-08-22T16:10:04.912Z"
   },
   {
    "duration": 194,
    "start_time": "2024-08-22T16:10:04.918Z"
   },
   {
    "duration": 64,
    "start_time": "2024-08-22T16:10:05.113Z"
   },
   {
    "duration": 146,
    "start_time": "2024-08-22T16:10:05.179Z"
   },
   {
    "duration": 49,
    "start_time": "2024-08-22T16:10:05.327Z"
   },
   {
    "duration": 171,
    "start_time": "2024-08-22T16:10:05.377Z"
   },
   {
    "duration": 35,
    "start_time": "2024-08-22T16:10:05.550Z"
   },
   {
    "duration": 6,
    "start_time": "2024-08-22T16:10:05.587Z"
   },
   {
    "duration": 652,
    "start_time": "2024-08-22T16:10:05.595Z"
   },
   {
    "duration": 602,
    "start_time": "2024-08-22T16:10:06.249Z"
   },
   {
    "duration": 3,
    "start_time": "2024-08-22T16:10:06.853Z"
   },
   {
    "duration": 19,
    "start_time": "2024-08-22T16:10:06.858Z"
   },
   {
    "duration": 10,
    "start_time": "2024-08-22T16:10:06.878Z"
   },
   {
    "duration": 5,
    "start_time": "2024-08-22T16:10:06.889Z"
   },
   {
    "duration": 146,
    "start_time": "2024-08-22T16:10:06.896Z"
   },
   {
    "duration": 0,
    "start_time": "2024-08-22T16:10:07.044Z"
   },
   {
    "duration": 0,
    "start_time": "2024-08-22T16:10:07.049Z"
   },
   {
    "duration": 0,
    "start_time": "2024-08-22T16:10:07.050Z"
   },
   {
    "duration": 3,
    "start_time": "2024-08-22T16:10:44.036Z"
   },
   {
    "duration": 5,
    "start_time": "2024-08-22T16:10:44.229Z"
   },
   {
    "duration": 6,
    "start_time": "2024-08-22T16:14:38.063Z"
   },
   {
    "duration": 11,
    "start_time": "2024-08-22T16:15:29.544Z"
   },
   {
    "duration": 15,
    "start_time": "2024-08-22T16:16:23.905Z"
   },
   {
    "duration": 20,
    "start_time": "2024-08-22T16:16:31.701Z"
   },
   {
    "duration": 1412,
    "start_time": "2024-08-22T16:17:00.988Z"
   },
   {
    "duration": 407,
    "start_time": "2024-08-22T16:17:02.402Z"
   },
   {
    "duration": 5,
    "start_time": "2024-08-22T16:17:02.810Z"
   },
   {
    "duration": 152,
    "start_time": "2024-08-22T16:17:02.817Z"
   },
   {
    "duration": 33,
    "start_time": "2024-08-22T16:17:02.971Z"
   },
   {
    "duration": 169,
    "start_time": "2024-08-22T16:17:03.006Z"
   },
   {
    "duration": 34,
    "start_time": "2024-08-22T16:17:03.176Z"
   },
   {
    "duration": 159,
    "start_time": "2024-08-22T16:17:03.212Z"
   },
   {
    "duration": 35,
    "start_time": "2024-08-22T16:17:03.372Z"
   },
   {
    "duration": 7,
    "start_time": "2024-08-22T16:17:03.408Z"
   },
   {
    "duration": 630,
    "start_time": "2024-08-22T16:17:03.417Z"
   },
   {
    "duration": 617,
    "start_time": "2024-08-22T16:17:04.049Z"
   },
   {
    "duration": 4,
    "start_time": "2024-08-22T16:17:04.667Z"
   },
   {
    "duration": 69,
    "start_time": "2024-08-22T16:17:04.674Z"
   },
   {
    "duration": 18,
    "start_time": "2024-08-22T16:17:04.745Z"
   },
   {
    "duration": 22,
    "start_time": "2024-08-22T16:17:04.765Z"
   },
   {
    "duration": 126,
    "start_time": "2024-08-22T16:17:04.789Z"
   },
   {
    "duration": 0,
    "start_time": "2024-08-22T16:17:04.917Z"
   },
   {
    "duration": 0,
    "start_time": "2024-08-22T16:17:04.919Z"
   },
   {
    "duration": 0,
    "start_time": "2024-08-22T16:17:04.920Z"
   },
   {
    "duration": 4,
    "start_time": "2024-08-22T16:19:19.095Z"
   },
   {
    "duration": 5,
    "start_time": "2024-08-22T16:19:19.518Z"
   },
   {
    "duration": 13,
    "start_time": "2024-08-22T16:19:20.390Z"
   },
   {
    "duration": 16,
    "start_time": "2024-08-22T16:20:17.907Z"
   },
   {
    "duration": 33,
    "start_time": "2024-08-22T16:20:51.527Z"
   },
   {
    "duration": 25,
    "start_time": "2024-08-22T16:21:31.795Z"
   },
   {
    "duration": 26,
    "start_time": "2024-08-22T16:21:56.833Z"
   },
   {
    "duration": 25,
    "start_time": "2024-08-22T16:22:18.617Z"
   },
   {
    "duration": 25,
    "start_time": "2024-08-22T16:22:20.950Z"
   },
   {
    "duration": 3,
    "start_time": "2024-08-22T16:24:10.113Z"
   },
   {
    "duration": 24,
    "start_time": "2024-08-22T16:24:50.366Z"
   },
   {
    "duration": 24,
    "start_time": "2024-08-22T16:25:31.763Z"
   },
   {
    "duration": 11,
    "start_time": "2024-08-22T16:25:58.109Z"
   },
   {
    "duration": 1068,
    "start_time": "2024-08-22T16:26:16.443Z"
   },
   {
    "duration": 21,
    "start_time": "2024-08-22T16:28:29.692Z"
   },
   {
    "duration": 7,
    "start_time": "2024-08-22T16:28:29.847Z"
   },
   {
    "duration": 1330,
    "start_time": "2024-08-22T16:28:52.841Z"
   },
   {
    "duration": 401,
    "start_time": "2024-08-22T16:28:54.173Z"
   },
   {
    "duration": 4,
    "start_time": "2024-08-22T16:28:54.576Z"
   },
   {
    "duration": 160,
    "start_time": "2024-08-22T16:28:54.582Z"
   },
   {
    "duration": 33,
    "start_time": "2024-08-22T16:28:54.744Z"
   },
   {
    "duration": 137,
    "start_time": "2024-08-22T16:28:54.779Z"
   },
   {
    "duration": 48,
    "start_time": "2024-08-22T16:28:54.917Z"
   },
   {
    "duration": 161,
    "start_time": "2024-08-22T16:28:54.968Z"
   },
   {
    "duration": 55,
    "start_time": "2024-08-22T16:28:55.131Z"
   },
   {
    "duration": 6,
    "start_time": "2024-08-22T16:28:55.189Z"
   },
   {
    "duration": 33,
    "start_time": "2024-08-22T16:28:55.196Z"
   },
   {
    "duration": 17,
    "start_time": "2024-08-22T16:28:55.230Z"
   },
   {
    "duration": 346,
    "start_time": "2024-08-22T16:28:55.249Z"
   },
   {
    "duration": 0,
    "start_time": "2024-08-22T16:28:55.598Z"
   },
   {
    "duration": 0,
    "start_time": "2024-08-22T16:28:55.599Z"
   },
   {
    "duration": 0,
    "start_time": "2024-08-22T16:28:55.600Z"
   },
   {
    "duration": 0,
    "start_time": "2024-08-22T16:28:55.602Z"
   },
   {
    "duration": 0,
    "start_time": "2024-08-22T16:28:55.603Z"
   },
   {
    "duration": 0,
    "start_time": "2024-08-22T16:28:55.605Z"
   },
   {
    "duration": 0,
    "start_time": "2024-08-22T16:28:55.606Z"
   },
   {
    "duration": 0,
    "start_time": "2024-08-22T16:28:55.608Z"
   },
   {
    "duration": 0,
    "start_time": "2024-08-22T16:28:55.609Z"
   },
   {
    "duration": 0,
    "start_time": "2024-08-22T16:28:55.610Z"
   },
   {
    "duration": 0,
    "start_time": "2024-08-22T16:28:55.612Z"
   },
   {
    "duration": 0,
    "start_time": "2024-08-22T16:28:55.614Z"
   },
   {
    "duration": 0,
    "start_time": "2024-08-22T16:28:55.615Z"
   },
   {
    "duration": 5,
    "start_time": "2024-08-22T16:29:20.356Z"
   },
   {
    "duration": 659,
    "start_time": "2024-08-22T16:29:20.892Z"
   },
   {
    "duration": 1368,
    "start_time": "2024-08-22T16:30:39.723Z"
   },
   {
    "duration": 425,
    "start_time": "2024-08-22T16:30:41.094Z"
   },
   {
    "duration": 4,
    "start_time": "2024-08-22T16:30:41.521Z"
   },
   {
    "duration": 152,
    "start_time": "2024-08-22T16:30:41.528Z"
   },
   {
    "duration": 35,
    "start_time": "2024-08-22T16:30:41.681Z"
   },
   {
    "duration": 159,
    "start_time": "2024-08-22T16:30:41.718Z"
   },
   {
    "duration": 36,
    "start_time": "2024-08-22T16:30:41.878Z"
   },
   {
    "duration": 154,
    "start_time": "2024-08-22T16:30:41.916Z"
   },
   {
    "duration": 35,
    "start_time": "2024-08-22T16:30:42.072Z"
   },
   {
    "duration": 6,
    "start_time": "2024-08-22T16:30:42.110Z"
   },
   {
    "duration": 37,
    "start_time": "2024-08-22T16:30:42.118Z"
   },
   {
    "duration": 106,
    "start_time": "2024-08-22T16:30:42.157Z"
   },
   {
    "duration": 0,
    "start_time": "2024-08-22T16:30:42.264Z"
   },
   {
    "duration": 0,
    "start_time": "2024-08-22T16:30:42.266Z"
   },
   {
    "duration": 0,
    "start_time": "2024-08-22T16:30:42.267Z"
   },
   {
    "duration": 0,
    "start_time": "2024-08-22T16:30:42.268Z"
   },
   {
    "duration": 0,
    "start_time": "2024-08-22T16:30:42.269Z"
   },
   {
    "duration": 0,
    "start_time": "2024-08-22T16:30:42.270Z"
   },
   {
    "duration": 0,
    "start_time": "2024-08-22T16:30:42.271Z"
   },
   {
    "duration": 0,
    "start_time": "2024-08-22T16:30:42.272Z"
   },
   {
    "duration": 0,
    "start_time": "2024-08-22T16:30:42.274Z"
   },
   {
    "duration": 0,
    "start_time": "2024-08-22T16:30:42.275Z"
   },
   {
    "duration": 0,
    "start_time": "2024-08-22T16:30:42.275Z"
   },
   {
    "duration": 0,
    "start_time": "2024-08-22T16:30:42.277Z"
   },
   {
    "duration": 0,
    "start_time": "2024-08-22T16:30:42.278Z"
   },
   {
    "duration": 22,
    "start_time": "2024-08-22T16:32:27.073Z"
   },
   {
    "duration": 5,
    "start_time": "2024-08-22T16:32:27.498Z"
   },
   {
    "duration": 643,
    "start_time": "2024-08-22T16:32:29.808Z"
   },
   {
    "duration": 1464,
    "start_time": "2024-08-22T16:34:00.082Z"
   },
   {
    "duration": 420,
    "start_time": "2024-08-22T16:34:01.548Z"
   },
   {
    "duration": 4,
    "start_time": "2024-08-22T16:34:01.970Z"
   },
   {
    "duration": 161,
    "start_time": "2024-08-22T16:34:01.976Z"
   },
   {
    "duration": 39,
    "start_time": "2024-08-22T16:34:02.147Z"
   },
   {
    "duration": 149,
    "start_time": "2024-08-22T16:34:02.188Z"
   },
   {
    "duration": 41,
    "start_time": "2024-08-22T16:34:02.338Z"
   },
   {
    "duration": 180,
    "start_time": "2024-08-22T16:34:02.381Z"
   },
   {
    "duration": 34,
    "start_time": "2024-08-22T16:34:02.562Z"
   },
   {
    "duration": 8,
    "start_time": "2024-08-22T16:34:02.599Z"
   },
   {
    "duration": 649,
    "start_time": "2024-08-22T16:34:02.609Z"
   },
   {
    "duration": 118,
    "start_time": "2024-08-22T16:34:03.260Z"
   },
   {
    "duration": 0,
    "start_time": "2024-08-22T16:34:03.379Z"
   },
   {
    "duration": 0,
    "start_time": "2024-08-22T16:34:03.380Z"
   },
   {
    "duration": 0,
    "start_time": "2024-08-22T16:34:03.381Z"
   },
   {
    "duration": 0,
    "start_time": "2024-08-22T16:34:03.382Z"
   },
   {
    "duration": 0,
    "start_time": "2024-08-22T16:34:03.383Z"
   },
   {
    "duration": 0,
    "start_time": "2024-08-22T16:34:03.385Z"
   },
   {
    "duration": 0,
    "start_time": "2024-08-22T16:34:03.385Z"
   },
   {
    "duration": 0,
    "start_time": "2024-08-22T16:34:03.386Z"
   },
   {
    "duration": 0,
    "start_time": "2024-08-22T16:34:03.388Z"
   },
   {
    "duration": 0,
    "start_time": "2024-08-22T16:34:03.388Z"
   },
   {
    "duration": 0,
    "start_time": "2024-08-22T16:34:03.389Z"
   },
   {
    "duration": 0,
    "start_time": "2024-08-22T16:34:03.390Z"
   },
   {
    "duration": 0,
    "start_time": "2024-08-22T16:34:03.392Z"
   },
   {
    "duration": 1402,
    "start_time": "2024-08-22T16:34:34.111Z"
   },
   {
    "duration": 419,
    "start_time": "2024-08-22T16:34:35.515Z"
   },
   {
    "duration": 4,
    "start_time": "2024-08-22T16:34:35.936Z"
   },
   {
    "duration": 183,
    "start_time": "2024-08-22T16:34:35.947Z"
   },
   {
    "duration": 37,
    "start_time": "2024-08-22T16:34:36.132Z"
   },
   {
    "duration": 133,
    "start_time": "2024-08-22T16:34:36.171Z"
   },
   {
    "duration": 34,
    "start_time": "2024-08-22T16:34:36.306Z"
   },
   {
    "duration": 165,
    "start_time": "2024-08-22T16:34:36.346Z"
   },
   {
    "duration": 61,
    "start_time": "2024-08-22T16:34:36.513Z"
   },
   {
    "duration": 6,
    "start_time": "2024-08-22T16:34:36.575Z"
   },
   {
    "duration": 676,
    "start_time": "2024-08-22T16:34:36.583Z"
   },
   {
    "duration": 586,
    "start_time": "2024-08-22T16:34:37.261Z"
   },
   {
    "duration": 600,
    "start_time": "2024-08-22T16:34:37.849Z"
   },
   {
    "duration": 4,
    "start_time": "2024-08-22T16:34:38.451Z"
   },
   {
    "duration": 5,
    "start_time": "2024-08-22T16:34:38.457Z"
   },
   {
    "duration": 3,
    "start_time": "2024-08-22T16:34:38.463Z"
   },
   {
    "duration": 1158,
    "start_time": "2024-08-22T16:34:38.468Z"
   },
   {
    "duration": 0,
    "start_time": "2024-08-22T16:34:39.628Z"
   },
   {
    "duration": 1,
    "start_time": "2024-08-22T16:34:39.629Z"
   },
   {
    "duration": 0,
    "start_time": "2024-08-22T16:34:39.631Z"
   },
   {
    "duration": 0,
    "start_time": "2024-08-22T16:34:39.633Z"
   },
   {
    "duration": 0,
    "start_time": "2024-08-22T16:34:39.634Z"
   },
   {
    "duration": 0,
    "start_time": "2024-08-22T16:34:39.636Z"
   },
   {
    "duration": 0,
    "start_time": "2024-08-22T16:34:39.637Z"
   },
   {
    "duration": 1393,
    "start_time": "2024-08-22T16:39:14.164Z"
   },
   {
    "duration": 416,
    "start_time": "2024-08-22T16:39:15.559Z"
   },
   {
    "duration": 4,
    "start_time": "2024-08-22T16:39:15.977Z"
   },
   {
    "duration": 150,
    "start_time": "2024-08-22T16:39:15.983Z"
   },
   {
    "duration": 46,
    "start_time": "2024-08-22T16:39:16.136Z"
   },
   {
    "duration": 151,
    "start_time": "2024-08-22T16:39:16.183Z"
   },
   {
    "duration": 44,
    "start_time": "2024-08-22T16:39:16.335Z"
   },
   {
    "duration": 145,
    "start_time": "2024-08-22T16:39:16.380Z"
   },
   {
    "duration": 47,
    "start_time": "2024-08-22T16:39:16.527Z"
   },
   {
    "duration": 7,
    "start_time": "2024-08-22T16:39:16.576Z"
   },
   {
    "duration": 665,
    "start_time": "2024-08-22T16:39:16.585Z"
   },
   {
    "duration": 2,
    "start_time": "2024-08-22T16:39:17.252Z"
   },
   {
    "duration": 5,
    "start_time": "2024-08-22T16:39:17.256Z"
   },
   {
    "duration": 4,
    "start_time": "2024-08-22T16:39:17.264Z"
   },
   {
    "duration": 9,
    "start_time": "2024-08-22T16:39:17.270Z"
   },
   {
    "duration": 4870,
    "start_time": "2024-08-22T16:39:17.281Z"
   },
   {
    "duration": 601,
    "start_time": "2024-08-22T16:39:22.153Z"
   },
   {
    "duration": 592,
    "start_time": "2024-08-22T16:39:22.756Z"
   },
   {
    "duration": 4,
    "start_time": "2024-08-22T16:39:23.349Z"
   },
   {
    "duration": 44,
    "start_time": "2024-08-22T16:39:23.355Z"
   },
   {
    "duration": 3,
    "start_time": "2024-08-22T16:39:23.401Z"
   },
   {
    "duration": 1226,
    "start_time": "2024-08-22T16:39:23.406Z"
   },
   {
    "duration": 0,
    "start_time": "2024-08-22T16:39:24.634Z"
   },
   {
    "duration": 0,
    "start_time": "2024-08-22T16:39:24.635Z"
   },
   {
    "duration": 0,
    "start_time": "2024-08-22T16:39:24.636Z"
   },
   {
    "duration": 0,
    "start_time": "2024-08-22T16:39:24.637Z"
   },
   {
    "duration": 0,
    "start_time": "2024-08-22T16:39:24.638Z"
   },
   {
    "duration": 0,
    "start_time": "2024-08-22T16:39:24.639Z"
   },
   {
    "duration": 0,
    "start_time": "2024-08-22T16:39:24.640Z"
   },
   {
    "duration": 5,
    "start_time": "2024-08-22T16:41:09.934Z"
   },
   {
    "duration": 1514,
    "start_time": "2024-08-22T16:41:16.436Z"
   },
   {
    "duration": 432,
    "start_time": "2024-08-22T16:41:17.952Z"
   },
   {
    "duration": 5,
    "start_time": "2024-08-22T16:41:18.385Z"
   },
   {
    "duration": 156,
    "start_time": "2024-08-22T16:41:18.394Z"
   },
   {
    "duration": 34,
    "start_time": "2024-08-22T16:41:18.551Z"
   },
   {
    "duration": 163,
    "start_time": "2024-08-22T16:41:18.587Z"
   },
   {
    "duration": 35,
    "start_time": "2024-08-22T16:41:18.752Z"
   },
   {
    "duration": 203,
    "start_time": "2024-08-22T16:41:18.789Z"
   },
   {
    "duration": 59,
    "start_time": "2024-08-22T16:41:18.994Z"
   },
   {
    "duration": 6,
    "start_time": "2024-08-22T16:41:19.056Z"
   },
   {
    "duration": 786,
    "start_time": "2024-08-22T16:41:19.064Z"
   },
   {
    "duration": 2,
    "start_time": "2024-08-22T16:41:19.852Z"
   },
   {
    "duration": 85,
    "start_time": "2024-08-22T16:41:19.856Z"
   },
   {
    "duration": 26,
    "start_time": "2024-08-22T16:41:19.942Z"
   },
   {
    "duration": 7,
    "start_time": "2024-08-22T16:41:19.970Z"
   },
   {
    "duration": 7,
    "start_time": "2024-08-22T16:41:19.979Z"
   },
   {
    "duration": 5054,
    "start_time": "2024-08-22T16:41:19.988Z"
   },
   {
    "duration": 700,
    "start_time": "2024-08-22T16:41:25.047Z"
   },
   {
    "duration": 599,
    "start_time": "2024-08-22T16:41:25.749Z"
   },
   {
    "duration": 3,
    "start_time": "2024-08-22T16:41:26.350Z"
   },
   {
    "duration": 8,
    "start_time": "2024-08-22T16:41:26.355Z"
   },
   {
    "duration": 5,
    "start_time": "2024-08-22T16:41:26.364Z"
   },
   {
    "duration": 1319,
    "start_time": "2024-08-22T16:41:26.370Z"
   },
   {
    "duration": 0,
    "start_time": "2024-08-22T16:41:27.691Z"
   },
   {
    "duration": 0,
    "start_time": "2024-08-22T16:41:27.693Z"
   },
   {
    "duration": 0,
    "start_time": "2024-08-22T16:41:27.694Z"
   },
   {
    "duration": 0,
    "start_time": "2024-08-22T16:41:27.696Z"
   },
   {
    "duration": 0,
    "start_time": "2024-08-22T16:41:27.697Z"
   },
   {
    "duration": 0,
    "start_time": "2024-08-22T16:41:27.698Z"
   },
   {
    "duration": 0,
    "start_time": "2024-08-22T16:41:27.698Z"
   },
   {
    "duration": 1411,
    "start_time": "2024-08-22T16:44:46.855Z"
   },
   {
    "duration": 428,
    "start_time": "2024-08-22T16:44:48.268Z"
   },
   {
    "duration": 4,
    "start_time": "2024-08-22T16:44:48.698Z"
   },
   {
    "duration": 161,
    "start_time": "2024-08-22T16:44:48.704Z"
   },
   {
    "duration": 47,
    "start_time": "2024-08-22T16:44:48.867Z"
   },
   {
    "duration": 167,
    "start_time": "2024-08-22T16:44:48.916Z"
   },
   {
    "duration": 37,
    "start_time": "2024-08-22T16:44:49.085Z"
   },
   {
    "duration": 154,
    "start_time": "2024-08-22T16:44:49.123Z"
   },
   {
    "duration": 31,
    "start_time": "2024-08-22T16:44:49.279Z"
   },
   {
    "duration": 6,
    "start_time": "2024-08-22T16:44:49.313Z"
   },
   {
    "duration": 628,
    "start_time": "2024-08-22T16:44:49.320Z"
   },
   {
    "duration": 3,
    "start_time": "2024-08-22T16:44:49.950Z"
   },
   {
    "duration": 7,
    "start_time": "2024-08-22T16:44:49.955Z"
   },
   {
    "duration": 3,
    "start_time": "2024-08-22T16:44:49.963Z"
   },
   {
    "duration": 7,
    "start_time": "2024-08-22T16:44:49.968Z"
   },
   {
    "duration": 4940,
    "start_time": "2024-08-22T16:44:49.976Z"
   },
   {
    "duration": 639,
    "start_time": "2024-08-22T16:44:54.917Z"
   },
   {
    "duration": 694,
    "start_time": "2024-08-22T16:44:55.558Z"
   },
   {
    "duration": 4,
    "start_time": "2024-08-22T16:44:56.253Z"
   },
   {
    "duration": 13,
    "start_time": "2024-08-22T16:44:56.258Z"
   },
   {
    "duration": 3,
    "start_time": "2024-08-22T16:44:56.273Z"
   },
   {
    "duration": 1203,
    "start_time": "2024-08-22T16:44:56.277Z"
   },
   {
    "duration": 0,
    "start_time": "2024-08-22T16:44:57.482Z"
   },
   {
    "duration": 0,
    "start_time": "2024-08-22T16:44:57.484Z"
   },
   {
    "duration": 0,
    "start_time": "2024-08-22T16:44:57.485Z"
   },
   {
    "duration": 0,
    "start_time": "2024-08-22T16:44:57.487Z"
   },
   {
    "duration": 0,
    "start_time": "2024-08-22T16:44:57.488Z"
   },
   {
    "duration": 1,
    "start_time": "2024-08-22T16:44:57.489Z"
   },
   {
    "duration": 0,
    "start_time": "2024-08-22T16:44:57.491Z"
   },
   {
    "duration": 5,
    "start_time": "2024-08-22T16:45:07.835Z"
   },
   {
    "duration": 5,
    "start_time": "2024-08-22T16:45:09.504Z"
   },
   {
    "duration": 14,
    "start_time": "2024-08-22T16:45:09.657Z"
   },
   {
    "duration": 5,
    "start_time": "2024-08-22T16:45:14.017Z"
   },
   {
    "duration": 14,
    "start_time": "2024-08-22T16:45:14.192Z"
   },
   {
    "duration": 1421,
    "start_time": "2024-08-22T16:45:27.962Z"
   },
   {
    "duration": 408,
    "start_time": "2024-08-22T16:45:29.385Z"
   },
   {
    "duration": 5,
    "start_time": "2024-08-22T16:45:29.795Z"
   },
   {
    "duration": 147,
    "start_time": "2024-08-22T16:45:29.801Z"
   },
   {
    "duration": 32,
    "start_time": "2024-08-22T16:45:29.950Z"
   },
   {
    "duration": 150,
    "start_time": "2024-08-22T16:45:29.983Z"
   },
   {
    "duration": 43,
    "start_time": "2024-08-22T16:45:30.135Z"
   },
   {
    "duration": 149,
    "start_time": "2024-08-22T16:45:30.179Z"
   },
   {
    "duration": 50,
    "start_time": "2024-08-22T16:45:30.330Z"
   },
   {
    "duration": 5,
    "start_time": "2024-08-22T16:45:30.383Z"
   },
   {
    "duration": 670,
    "start_time": "2024-08-22T16:45:30.390Z"
   },
   {
    "duration": 4,
    "start_time": "2024-08-22T16:45:31.062Z"
   },
   {
    "duration": 16,
    "start_time": "2024-08-22T16:45:31.068Z"
   },
   {
    "duration": 20,
    "start_time": "2024-08-22T16:45:31.086Z"
   },
   {
    "duration": 16,
    "start_time": "2024-08-22T16:45:31.108Z"
   },
   {
    "duration": 4946,
    "start_time": "2024-08-22T16:45:31.126Z"
   },
   {
    "duration": 674,
    "start_time": "2024-08-22T16:45:36.073Z"
   },
   {
    "duration": 599,
    "start_time": "2024-08-22T16:45:36.749Z"
   },
   {
    "duration": 3,
    "start_time": "2024-08-22T16:45:37.350Z"
   },
   {
    "duration": 5,
    "start_time": "2024-08-22T16:45:37.355Z"
   },
   {
    "duration": 3,
    "start_time": "2024-08-22T16:45:37.361Z"
   },
   {
    "duration": 1293,
    "start_time": "2024-08-22T16:45:37.366Z"
   },
   {
    "duration": 0,
    "start_time": "2024-08-22T16:45:38.661Z"
   },
   {
    "duration": 0,
    "start_time": "2024-08-22T16:45:38.662Z"
   },
   {
    "duration": 0,
    "start_time": "2024-08-22T16:45:38.663Z"
   },
   {
    "duration": 0,
    "start_time": "2024-08-22T16:45:38.664Z"
   },
   {
    "duration": 0,
    "start_time": "2024-08-22T16:45:38.665Z"
   },
   {
    "duration": 0,
    "start_time": "2024-08-22T16:45:38.666Z"
   },
   {
    "duration": 0,
    "start_time": "2024-08-22T16:45:38.667Z"
   },
   {
    "duration": 5,
    "start_time": "2024-08-22T16:50:46.440Z"
   },
   {
    "duration": 2146,
    "start_time": "2024-08-22T16:50:48.212Z"
   },
   {
    "duration": 37,
    "start_time": "2024-08-22T16:51:20.230Z"
   },
   {
    "duration": 1625,
    "start_time": "2024-08-22T16:51:20.454Z"
   },
   {
    "duration": 35,
    "start_time": "2024-08-22T16:51:22.081Z"
   },
   {
    "duration": 2472,
    "start_time": "2024-08-22T16:51:22.117Z"
   },
   {
    "duration": 1391,
    "start_time": "2024-08-22T16:51:46.654Z"
   },
   {
    "duration": 400,
    "start_time": "2024-08-22T16:51:48.047Z"
   },
   {
    "duration": 5,
    "start_time": "2024-08-22T16:51:48.449Z"
   },
   {
    "duration": 2223,
    "start_time": "2024-08-22T16:51:48.456Z"
   },
   {
    "duration": 35,
    "start_time": "2024-08-22T16:51:50.681Z"
   },
   {
    "duration": 2048,
    "start_time": "2024-08-22T16:51:50.717Z"
   },
   {
    "duration": 33,
    "start_time": "2024-08-22T16:51:52.767Z"
   },
   {
    "duration": 2516,
    "start_time": "2024-08-22T16:51:52.801Z"
   },
   {
    "duration": 42,
    "start_time": "2024-08-22T16:51:55.319Z"
   },
   {
    "duration": 5,
    "start_time": "2024-08-22T16:51:55.363Z"
   },
   {
    "duration": 684,
    "start_time": "2024-08-22T16:51:55.370Z"
   },
   {
    "duration": 3,
    "start_time": "2024-08-22T16:51:56.056Z"
   },
   {
    "duration": 8,
    "start_time": "2024-08-22T16:51:56.060Z"
   },
   {
    "duration": 3,
    "start_time": "2024-08-22T16:51:56.071Z"
   },
   {
    "duration": 5,
    "start_time": "2024-08-22T16:51:56.075Z"
   },
   {
    "duration": 4988,
    "start_time": "2024-08-22T16:51:56.081Z"
   },
   {
    "duration": 676,
    "start_time": "2024-08-22T16:52:01.071Z"
   },
   {
    "duration": 699,
    "start_time": "2024-08-22T16:52:01.749Z"
   },
   {
    "duration": 4,
    "start_time": "2024-08-22T16:52:02.450Z"
   },
   {
    "duration": 15,
    "start_time": "2024-08-22T16:52:02.456Z"
   },
   {
    "duration": 17,
    "start_time": "2024-08-22T16:52:02.473Z"
   },
   {
    "duration": 1231,
    "start_time": "2024-08-22T16:52:02.491Z"
   },
   {
    "duration": 0,
    "start_time": "2024-08-22T16:52:03.724Z"
   },
   {
    "duration": 0,
    "start_time": "2024-08-22T16:52:03.724Z"
   },
   {
    "duration": 0,
    "start_time": "2024-08-22T16:52:03.726Z"
   },
   {
    "duration": 0,
    "start_time": "2024-08-22T16:52:03.727Z"
   },
   {
    "duration": 0,
    "start_time": "2024-08-22T16:52:03.728Z"
   },
   {
    "duration": 1385,
    "start_time": "2024-08-22T16:53:49.814Z"
   },
   {
    "duration": 405,
    "start_time": "2024-08-22T16:53:51.201Z"
   },
   {
    "duration": 6,
    "start_time": "2024-08-22T16:53:51.608Z"
   },
   {
    "duration": 3033,
    "start_time": "2024-08-22T16:53:51.616Z"
   },
   {
    "duration": 47,
    "start_time": "2024-08-22T16:53:54.651Z"
   },
   {
    "duration": 2974,
    "start_time": "2024-08-22T16:53:54.700Z"
   },
   {
    "duration": 50,
    "start_time": "2024-08-22T16:53:57.675Z"
   },
   {
    "duration": 3425,
    "start_time": "2024-08-22T16:53:57.726Z"
   },
   {
    "duration": 53,
    "start_time": "2024-08-22T16:54:01.153Z"
   },
   {
    "duration": 7,
    "start_time": "2024-08-22T16:54:01.209Z"
   },
   {
    "duration": 731,
    "start_time": "2024-08-22T16:54:01.218Z"
   },
   {
    "duration": 10,
    "start_time": "2024-08-22T16:54:01.952Z"
   },
   {
    "duration": 9,
    "start_time": "2024-08-22T16:54:01.963Z"
   },
   {
    "duration": 4,
    "start_time": "2024-08-22T16:54:02.046Z"
   },
   {
    "duration": 40,
    "start_time": "2024-08-22T16:54:02.052Z"
   },
   {
    "duration": 5140,
    "start_time": "2024-08-22T16:54:02.093Z"
   },
   {
    "duration": 612,
    "start_time": "2024-08-22T16:54:07.235Z"
   },
   {
    "duration": 604,
    "start_time": "2024-08-22T16:54:07.849Z"
   },
   {
    "duration": 4,
    "start_time": "2024-08-22T16:54:08.455Z"
   },
   {
    "duration": 16,
    "start_time": "2024-08-22T16:54:08.461Z"
   },
   {
    "duration": 7,
    "start_time": "2024-08-22T16:54:08.479Z"
   },
   {
    "duration": 1185,
    "start_time": "2024-08-22T16:54:08.488Z"
   },
   {
    "duration": 0,
    "start_time": "2024-08-22T16:54:09.675Z"
   },
   {
    "duration": 0,
    "start_time": "2024-08-22T16:54:09.676Z"
   },
   {
    "duration": 0,
    "start_time": "2024-08-22T16:54:09.677Z"
   },
   {
    "duration": 0,
    "start_time": "2024-08-22T16:54:09.678Z"
   },
   {
    "duration": 0,
    "start_time": "2024-08-22T16:54:09.679Z"
   },
   {
    "duration": 1665,
    "start_time": "2024-08-22T16:54:47.580Z"
   },
   {
    "duration": 401,
    "start_time": "2024-08-22T16:54:49.247Z"
   },
   {
    "duration": 6,
    "start_time": "2024-08-22T16:54:49.650Z"
   },
   {
    "duration": 2539,
    "start_time": "2024-08-22T16:54:49.658Z"
   },
   {
    "duration": 35,
    "start_time": "2024-08-22T16:54:52.198Z"
   },
   {
    "duration": 2618,
    "start_time": "2024-08-22T16:54:52.235Z"
   },
   {
    "duration": 34,
    "start_time": "2024-08-22T16:54:54.854Z"
   },
   {
    "duration": 2918,
    "start_time": "2024-08-22T16:54:54.890Z"
   },
   {
    "duration": 41,
    "start_time": "2024-08-22T16:54:57.809Z"
   },
   {
    "duration": 6,
    "start_time": "2024-08-22T16:54:57.853Z"
   },
   {
    "duration": 687,
    "start_time": "2024-08-22T16:54:57.861Z"
   },
   {
    "duration": 4,
    "start_time": "2024-08-22T16:54:58.549Z"
   },
   {
    "duration": 17,
    "start_time": "2024-08-22T16:54:58.555Z"
   },
   {
    "duration": 6,
    "start_time": "2024-08-22T16:54:58.574Z"
   },
   {
    "duration": 11,
    "start_time": "2024-08-22T16:54:58.582Z"
   },
   {
    "duration": 5078,
    "start_time": "2024-08-22T16:54:58.595Z"
   },
   {
    "duration": 673,
    "start_time": "2024-08-22T16:55:03.674Z"
   },
   {
    "duration": 603,
    "start_time": "2024-08-22T16:55:04.349Z"
   },
   {
    "duration": 4,
    "start_time": "2024-08-22T16:55:04.954Z"
   },
   {
    "duration": 15,
    "start_time": "2024-08-22T16:55:04.959Z"
   },
   {
    "duration": 7,
    "start_time": "2024-08-22T16:55:04.976Z"
   },
   {
    "duration": 1231,
    "start_time": "2024-08-22T16:55:04.985Z"
   },
   {
    "duration": 0,
    "start_time": "2024-08-22T16:55:06.218Z"
   },
   {
    "duration": 0,
    "start_time": "2024-08-22T16:55:06.219Z"
   },
   {
    "duration": 0,
    "start_time": "2024-08-22T16:55:06.220Z"
   },
   {
    "duration": 0,
    "start_time": "2024-08-22T16:55:06.221Z"
   },
   {
    "duration": 0,
    "start_time": "2024-08-22T16:55:06.222Z"
   },
   {
    "duration": 1457,
    "start_time": "2024-08-22T17:03:07.435Z"
   },
   {
    "duration": 418,
    "start_time": "2024-08-22T17:03:08.894Z"
   },
   {
    "duration": 69,
    "start_time": "2024-08-22T17:03:09.314Z"
   },
   {
    "duration": 0,
    "start_time": "2024-08-22T17:03:09.385Z"
   },
   {
    "duration": 0,
    "start_time": "2024-08-22T17:03:09.386Z"
   },
   {
    "duration": 0,
    "start_time": "2024-08-22T17:03:09.387Z"
   },
   {
    "duration": 0,
    "start_time": "2024-08-22T17:03:09.389Z"
   },
   {
    "duration": 0,
    "start_time": "2024-08-22T17:03:09.390Z"
   },
   {
    "duration": 0,
    "start_time": "2024-08-22T17:03:09.391Z"
   },
   {
    "duration": 0,
    "start_time": "2024-08-22T17:03:09.391Z"
   },
   {
    "duration": 0,
    "start_time": "2024-08-22T17:03:09.393Z"
   },
   {
    "duration": 0,
    "start_time": "2024-08-22T17:03:09.394Z"
   },
   {
    "duration": 0,
    "start_time": "2024-08-22T17:03:09.395Z"
   },
   {
    "duration": 0,
    "start_time": "2024-08-22T17:03:09.396Z"
   },
   {
    "duration": 0,
    "start_time": "2024-08-22T17:03:09.397Z"
   },
   {
    "duration": 0,
    "start_time": "2024-08-22T17:03:09.398Z"
   },
   {
    "duration": 1352,
    "start_time": "2024-08-22T17:03:37.432Z"
   },
   {
    "duration": 406,
    "start_time": "2024-08-22T17:03:38.786Z"
   },
   {
    "duration": 6,
    "start_time": "2024-08-22T17:03:39.194Z"
   },
   {
    "duration": 3328,
    "start_time": "2024-08-22T17:04:24.067Z"
   },
   {
    "duration": 421,
    "start_time": "2024-08-22T17:04:27.397Z"
   },
   {
    "duration": 83,
    "start_time": "2024-08-22T17:04:27.819Z"
   },
   {
    "duration": 0,
    "start_time": "2024-08-22T17:04:27.904Z"
   },
   {
    "duration": 0,
    "start_time": "2024-08-22T17:04:27.905Z"
   },
   {
    "duration": 0,
    "start_time": "2024-08-22T17:04:27.906Z"
   },
   {
    "duration": 0,
    "start_time": "2024-08-22T17:04:27.907Z"
   },
   {
    "duration": 0,
    "start_time": "2024-08-22T17:04:27.908Z"
   },
   {
    "duration": 1,
    "start_time": "2024-08-22T17:04:27.909Z"
   },
   {
    "duration": 0,
    "start_time": "2024-08-22T17:04:27.911Z"
   },
   {
    "duration": 0,
    "start_time": "2024-08-22T17:04:27.912Z"
   },
   {
    "duration": 0,
    "start_time": "2024-08-22T17:04:27.913Z"
   },
   {
    "duration": 0,
    "start_time": "2024-08-22T17:04:27.914Z"
   },
   {
    "duration": 0,
    "start_time": "2024-08-22T17:04:27.915Z"
   },
   {
    "duration": 0,
    "start_time": "2024-08-22T17:04:27.916Z"
   },
   {
    "duration": 0,
    "start_time": "2024-08-22T17:04:27.917Z"
   },
   {
    "duration": 1354,
    "start_time": "2024-08-22T17:06:18.928Z"
   },
   {
    "duration": 398,
    "start_time": "2024-08-22T17:06:20.285Z"
   },
   {
    "duration": 7,
    "start_time": "2024-08-22T17:06:20.684Z"
   },
   {
    "duration": 2527,
    "start_time": "2024-08-22T17:06:20.693Z"
   },
   {
    "duration": 43,
    "start_time": "2024-08-22T17:06:23.222Z"
   },
   {
    "duration": 2563,
    "start_time": "2024-08-22T17:06:23.267Z"
   },
   {
    "duration": 39,
    "start_time": "2024-08-22T17:06:25.832Z"
   },
   {
    "duration": 2965,
    "start_time": "2024-08-22T17:06:25.873Z"
   },
   {
    "duration": 37,
    "start_time": "2024-08-22T17:06:28.839Z"
   },
   {
    "duration": 6,
    "start_time": "2024-08-22T17:06:28.879Z"
   },
   {
    "duration": 669,
    "start_time": "2024-08-22T17:06:28.887Z"
   },
   {
    "duration": 4,
    "start_time": "2024-08-22T17:06:29.558Z"
   },
   {
    "duration": 7,
    "start_time": "2024-08-22T17:06:29.564Z"
   },
   {
    "duration": 4,
    "start_time": "2024-08-22T17:06:29.572Z"
   },
   {
    "duration": 7,
    "start_time": "2024-08-22T17:06:29.578Z"
   },
   {
    "duration": 5209,
    "start_time": "2024-08-22T17:06:29.587Z"
   },
   {
    "duration": 1392,
    "start_time": "2024-08-22T17:07:54.323Z"
   },
   {
    "duration": 404,
    "start_time": "2024-08-22T17:07:55.717Z"
   },
   {
    "duration": 6,
    "start_time": "2024-08-22T17:07:56.123Z"
   },
   {
    "duration": 2591,
    "start_time": "2024-08-22T17:07:56.130Z"
   },
   {
    "duration": 43,
    "start_time": "2024-08-22T17:07:58.723Z"
   },
   {
    "duration": 2518,
    "start_time": "2024-08-22T17:07:58.767Z"
   },
   {
    "duration": 37,
    "start_time": "2024-08-22T17:08:01.287Z"
   },
   {
    "duration": 2898,
    "start_time": "2024-08-22T17:08:01.326Z"
   },
   {
    "duration": 41,
    "start_time": "2024-08-22T17:08:04.226Z"
   },
   {
    "duration": 5,
    "start_time": "2024-08-22T17:08:04.269Z"
   },
   {
    "duration": 679,
    "start_time": "2024-08-22T17:08:04.276Z"
   },
   {
    "duration": 4,
    "start_time": "2024-08-22T17:08:04.957Z"
   },
   {
    "duration": 37,
    "start_time": "2024-08-22T17:08:04.962Z"
   },
   {
    "duration": 11,
    "start_time": "2024-08-22T17:08:05.002Z"
   },
   {
    "duration": 6,
    "start_time": "2024-08-22T17:08:05.015Z"
   },
   {
    "duration": 5113,
    "start_time": "2024-08-22T17:08:05.023Z"
   },
   {
    "duration": 106,
    "start_time": "2024-08-22T17:08:48.851Z"
   },
   {
    "duration": 5016,
    "start_time": "2024-08-22T17:09:15.549Z"
   },
   {
    "duration": 124,
    "start_time": "2024-08-22T17:09:20.567Z"
   },
   {
    "duration": 4,
    "start_time": "2024-08-22T17:10:27.421Z"
   },
   {
    "duration": 8,
    "start_time": "2024-08-22T17:11:35.549Z"
   },
   {
    "duration": 1436,
    "start_time": "2024-08-22T17:12:06.530Z"
   },
   {
    "duration": 408,
    "start_time": "2024-08-22T17:12:07.968Z"
   },
   {
    "duration": 6,
    "start_time": "2024-08-22T17:12:08.378Z"
   },
   {
    "duration": 2549,
    "start_time": "2024-08-22T17:12:08.386Z"
   },
   {
    "duration": 50,
    "start_time": "2024-08-22T17:12:10.937Z"
   },
   {
    "duration": 2566,
    "start_time": "2024-08-22T17:12:10.988Z"
   },
   {
    "duration": 33,
    "start_time": "2024-08-22T17:12:13.556Z"
   },
   {
    "duration": 2980,
    "start_time": "2024-08-22T17:12:13.591Z"
   },
   {
    "duration": 34,
    "start_time": "2024-08-22T17:12:16.573Z"
   },
   {
    "duration": 6,
    "start_time": "2024-08-22T17:12:16.609Z"
   },
   {
    "duration": 637,
    "start_time": "2024-08-22T17:12:16.617Z"
   },
   {
    "duration": 4,
    "start_time": "2024-08-22T17:12:17.255Z"
   },
   {
    "duration": 14,
    "start_time": "2024-08-22T17:12:17.260Z"
   },
   {
    "duration": 3,
    "start_time": "2024-08-22T17:12:17.276Z"
   },
   {
    "duration": 12,
    "start_time": "2024-08-22T17:12:17.281Z"
   },
   {
    "duration": 5046,
    "start_time": "2024-08-22T17:12:17.295Z"
   },
   {
    "duration": 670,
    "start_time": "2024-08-22T17:28:12.285Z"
   },
   {
    "duration": 1412,
    "start_time": "2024-08-22T17:35:54.606Z"
   },
   {
    "duration": 400,
    "start_time": "2024-08-22T17:35:56.019Z"
   },
   {
    "duration": 6,
    "start_time": "2024-08-22T17:35:56.420Z"
   },
   {
    "duration": 2564,
    "start_time": "2024-08-22T17:35:56.428Z"
   },
   {
    "duration": 38,
    "start_time": "2024-08-22T17:35:58.995Z"
   },
   {
    "duration": 2614,
    "start_time": "2024-08-22T17:35:59.047Z"
   },
   {
    "duration": 37,
    "start_time": "2024-08-22T17:36:01.663Z"
   },
   {
    "duration": 2984,
    "start_time": "2024-08-22T17:36:01.701Z"
   },
   {
    "duration": 34,
    "start_time": "2024-08-22T17:36:04.687Z"
   },
   {
    "duration": 6,
    "start_time": "2024-08-22T17:36:04.722Z"
   },
   {
    "duration": 619,
    "start_time": "2024-08-22T17:36:04.729Z"
   },
   {
    "duration": 4,
    "start_time": "2024-08-22T17:36:05.349Z"
   },
   {
    "duration": 8,
    "start_time": "2024-08-22T17:36:05.355Z"
   },
   {
    "duration": 3,
    "start_time": "2024-08-22T17:36:05.365Z"
   },
   {
    "duration": 5,
    "start_time": "2024-08-22T17:36:05.370Z"
   },
   {
    "duration": 5077,
    "start_time": "2024-08-22T17:36:05.377Z"
   },
   {
    "duration": 4,
    "start_time": "2024-08-22T17:37:36.527Z"
   },
   {
    "duration": 5117,
    "start_time": "2024-08-22T17:38:31.814Z"
   },
   {
    "duration": 6,
    "start_time": "2024-08-22T17:53:52.842Z"
   },
   {
    "duration": 6,
    "start_time": "2024-08-22T17:54:03.659Z"
   },
   {
    "duration": 1452,
    "start_time": "2024-08-22T18:13:03.730Z"
   },
   {
    "duration": 412,
    "start_time": "2024-08-22T18:13:05.184Z"
   },
   {
    "duration": 7,
    "start_time": "2024-08-22T18:13:05.597Z"
   },
   {
    "duration": 2529,
    "start_time": "2024-08-22T18:13:05.605Z"
   },
   {
    "duration": 50,
    "start_time": "2024-08-22T18:13:08.135Z"
   },
   {
    "duration": 2663,
    "start_time": "2024-08-22T18:13:08.187Z"
   },
   {
    "duration": 36,
    "start_time": "2024-08-22T18:13:10.852Z"
   },
   {
    "duration": 2901,
    "start_time": "2024-08-22T18:13:10.890Z"
   },
   {
    "duration": 41,
    "start_time": "2024-08-22T18:13:13.793Z"
   },
   {
    "duration": 6,
    "start_time": "2024-08-22T18:13:13.846Z"
   },
   {
    "duration": 698,
    "start_time": "2024-08-22T18:13:13.853Z"
   },
   {
    "duration": 118,
    "start_time": "2024-08-22T18:13:14.553Z"
   },
   {
    "duration": 0,
    "start_time": "2024-08-22T18:13:14.672Z"
   },
   {
    "duration": 0,
    "start_time": "2024-08-22T18:13:14.675Z"
   },
   {
    "duration": 0,
    "start_time": "2024-08-22T18:13:14.677Z"
   },
   {
    "duration": 0,
    "start_time": "2024-08-22T18:13:14.678Z"
   },
   {
    "duration": 10,
    "start_time": "2024-08-22T18:13:29.528Z"
   },
   {
    "duration": 13,
    "start_time": "2024-08-22T18:13:30.168Z"
   },
   {
    "duration": 6,
    "start_time": "2024-08-22T18:13:38.303Z"
   },
   {
    "duration": 6,
    "start_time": "2024-08-22T18:13:38.949Z"
   },
   {
    "duration": 3,
    "start_time": "2024-08-22T18:13:40.854Z"
   },
   {
    "duration": 5,
    "start_time": "2024-08-22T18:13:41.015Z"
   },
   {
    "duration": 5159,
    "start_time": "2024-08-22T18:13:41.166Z"
   },
   {
    "duration": 1351,
    "start_time": "2024-08-22T18:16:53.613Z"
   },
   {
    "duration": 436,
    "start_time": "2024-08-22T18:16:54.966Z"
   },
   {
    "duration": 6,
    "start_time": "2024-08-22T18:16:55.404Z"
   },
   {
    "duration": 2590,
    "start_time": "2024-08-22T18:16:55.411Z"
   },
   {
    "duration": 36,
    "start_time": "2024-08-22T18:16:58.003Z"
   },
   {
    "duration": 2519,
    "start_time": "2024-08-22T18:16:58.047Z"
   },
   {
    "duration": 38,
    "start_time": "2024-08-22T18:17:00.567Z"
   },
   {
    "duration": 2930,
    "start_time": "2024-08-22T18:17:00.607Z"
   },
   {
    "duration": 38,
    "start_time": "2024-08-22T18:17:03.539Z"
   },
   {
    "duration": 6,
    "start_time": "2024-08-22T18:17:03.578Z"
   },
   {
    "duration": 763,
    "start_time": "2024-08-22T18:17:03.586Z"
   },
   {
    "duration": 3,
    "start_time": "2024-08-22T18:17:04.351Z"
   },
   {
    "duration": 6,
    "start_time": "2024-08-22T18:17:04.356Z"
   },
   {
    "duration": 3,
    "start_time": "2024-08-22T18:17:04.365Z"
   },
   {
    "duration": 8,
    "start_time": "2024-08-22T18:17:04.369Z"
   },
   {
    "duration": 1869,
    "start_time": "2024-08-22T18:17:04.378Z"
   },
   {
    "duration": 5004,
    "start_time": "2024-08-22T18:17:29.333Z"
   },
   {
    "duration": 1465,
    "start_time": "2024-08-22T18:21:30.232Z"
   },
   {
    "duration": 410,
    "start_time": "2024-08-22T18:21:31.698Z"
   },
   {
    "duration": 6,
    "start_time": "2024-08-22T18:21:32.110Z"
   },
   {
    "duration": 2593,
    "start_time": "2024-08-22T18:21:32.118Z"
   },
   {
    "duration": 44,
    "start_time": "2024-08-22T18:21:34.714Z"
   },
   {
    "duration": 2574,
    "start_time": "2024-08-22T18:21:34.760Z"
   },
   {
    "duration": 41,
    "start_time": "2024-08-22T18:21:37.336Z"
   },
   {
    "duration": 2845,
    "start_time": "2024-08-22T18:21:37.379Z"
   },
   {
    "duration": 40,
    "start_time": "2024-08-22T18:21:40.226Z"
   },
   {
    "duration": 7,
    "start_time": "2024-08-22T18:21:40.268Z"
   },
   {
    "duration": 581,
    "start_time": "2024-08-22T18:21:40.276Z"
   },
   {
    "duration": 4,
    "start_time": "2024-08-22T18:21:40.948Z"
   },
   {
    "duration": 9,
    "start_time": "2024-08-22T18:21:40.953Z"
   },
   {
    "duration": 3,
    "start_time": "2024-08-22T18:21:40.964Z"
   },
   {
    "duration": 10,
    "start_time": "2024-08-22T18:21:40.969Z"
   },
   {
    "duration": 5008,
    "start_time": "2024-08-22T18:21:40.980Z"
   },
   {
    "duration": 1441,
    "start_time": "2024-08-22T18:22:45.815Z"
   },
   {
    "duration": 411,
    "start_time": "2024-08-22T18:22:47.258Z"
   },
   {
    "duration": 6,
    "start_time": "2024-08-22T18:22:47.670Z"
   },
   {
    "duration": 2613,
    "start_time": "2024-08-22T18:22:47.678Z"
   },
   {
    "duration": 35,
    "start_time": "2024-08-22T18:22:50.292Z"
   },
   {
    "duration": 2613,
    "start_time": "2024-08-22T18:22:50.328Z"
   },
   {
    "duration": 38,
    "start_time": "2024-08-22T18:22:52.943Z"
   },
   {
    "duration": 2991,
    "start_time": "2024-08-22T18:22:52.983Z"
   },
   {
    "duration": 35,
    "start_time": "2024-08-22T18:22:55.976Z"
   },
   {
    "duration": 6,
    "start_time": "2024-08-22T18:22:56.014Z"
   },
   {
    "duration": 725,
    "start_time": "2024-08-22T18:22:56.022Z"
   },
   {
    "duration": 4,
    "start_time": "2024-08-22T18:22:56.749Z"
   },
   {
    "duration": 13,
    "start_time": "2024-08-22T18:22:56.755Z"
   },
   {
    "duration": 3,
    "start_time": "2024-08-22T18:22:56.770Z"
   },
   {
    "duration": 23,
    "start_time": "2024-08-22T18:22:56.774Z"
   },
   {
    "duration": 5192,
    "start_time": "2024-08-22T18:22:56.799Z"
   },
   {
    "duration": 626,
    "start_time": "2024-08-22T18:23:21.921Z"
   },
   {
    "duration": 683,
    "start_time": "2024-08-22T18:23:34.265Z"
   },
   {
    "duration": 579,
    "start_time": "2024-08-22T18:24:08.970Z"
   },
   {
    "duration": 538,
    "start_time": "2024-08-22T18:24:37.316Z"
   },
   {
    "duration": 1420,
    "start_time": "2024-08-22T18:25:42.034Z"
   },
   {
    "duration": 402,
    "start_time": "2024-08-22T18:25:43.456Z"
   },
   {
    "duration": 6,
    "start_time": "2024-08-22T18:25:43.860Z"
   },
   {
    "duration": 3332,
    "start_time": "2024-08-22T18:25:43.868Z"
   },
   {
    "duration": 46,
    "start_time": "2024-08-22T18:25:47.201Z"
   },
   {
    "duration": 2500,
    "start_time": "2024-08-22T18:25:47.249Z"
   },
   {
    "duration": 36,
    "start_time": "2024-08-22T18:25:49.751Z"
   },
   {
    "duration": 2936,
    "start_time": "2024-08-22T18:25:49.789Z"
   },
   {
    "duration": 40,
    "start_time": "2024-08-22T18:25:52.727Z"
   },
   {
    "duration": 6,
    "start_time": "2024-08-22T18:25:52.770Z"
   },
   {
    "duration": 576,
    "start_time": "2024-08-22T18:25:52.777Z"
   },
   {
    "duration": 219,
    "start_time": "2024-08-22T18:25:53.355Z"
   },
   {
    "duration": 0,
    "start_time": "2024-08-22T18:25:53.576Z"
   },
   {
    "duration": 0,
    "start_time": "2024-08-22T18:25:53.577Z"
   },
   {
    "duration": 0,
    "start_time": "2024-08-22T18:25:53.578Z"
   },
   {
    "duration": 0,
    "start_time": "2024-08-22T18:25:53.579Z"
   },
   {
    "duration": 5,
    "start_time": "2024-08-22T18:26:07.257Z"
   },
   {
    "duration": 5,
    "start_time": "2024-08-22T18:26:08.093Z"
   },
   {
    "duration": 1517,
    "start_time": "2024-08-22T18:28:24.552Z"
   },
   {
    "duration": 401,
    "start_time": "2024-08-22T18:28:26.071Z"
   },
   {
    "duration": 7,
    "start_time": "2024-08-22T18:28:26.474Z"
   },
   {
    "duration": 2556,
    "start_time": "2024-08-22T18:28:26.483Z"
   },
   {
    "duration": 37,
    "start_time": "2024-08-22T18:28:29.041Z"
   },
   {
    "duration": 2622,
    "start_time": "2024-08-22T18:28:29.080Z"
   },
   {
    "duration": 43,
    "start_time": "2024-08-22T18:28:31.704Z"
   },
   {
    "duration": 2846,
    "start_time": "2024-08-22T18:28:31.748Z"
   },
   {
    "duration": 43,
    "start_time": "2024-08-22T18:28:34.595Z"
   },
   {
    "duration": 7,
    "start_time": "2024-08-22T18:28:34.650Z"
   },
   {
    "duration": 789,
    "start_time": "2024-08-22T18:28:34.658Z"
   },
   {
    "duration": 3,
    "start_time": "2024-08-22T18:28:35.449Z"
   },
   {
    "duration": 36,
    "start_time": "2024-08-22T18:28:35.454Z"
   },
   {
    "duration": 3,
    "start_time": "2024-08-22T18:28:35.492Z"
   },
   {
    "duration": 15,
    "start_time": "2024-08-22T18:28:35.497Z"
   },
   {
    "duration": 5267,
    "start_time": "2024-08-22T18:28:35.514Z"
   },
   {
    "duration": 6,
    "start_time": "2024-08-22T18:29:44.407Z"
   },
   {
    "duration": 1436,
    "start_time": "2024-08-22T18:31:28.887Z"
   },
   {
    "duration": 438,
    "start_time": "2024-08-22T18:31:30.324Z"
   },
   {
    "duration": 7,
    "start_time": "2024-08-22T18:31:30.764Z"
   },
   {
    "duration": 2800,
    "start_time": "2024-08-22T18:31:30.773Z"
   },
   {
    "duration": 35,
    "start_time": "2024-08-22T18:31:33.574Z"
   },
   {
    "duration": 2642,
    "start_time": "2024-08-22T18:31:33.611Z"
   },
   {
    "duration": 34,
    "start_time": "2024-08-22T18:31:36.255Z"
   },
   {
    "duration": 2979,
    "start_time": "2024-08-22T18:31:36.291Z"
   },
   {
    "duration": 38,
    "start_time": "2024-08-22T18:31:39.272Z"
   },
   {
    "duration": 6,
    "start_time": "2024-08-22T18:31:39.313Z"
   },
   {
    "duration": 634,
    "start_time": "2024-08-22T18:31:39.321Z"
   },
   {
    "duration": 5,
    "start_time": "2024-08-22T18:31:39.957Z"
   },
   {
    "duration": 14,
    "start_time": "2024-08-22T18:31:40.048Z"
   },
   {
    "duration": 4,
    "start_time": "2024-08-22T18:31:40.064Z"
   },
   {
    "duration": 8,
    "start_time": "2024-08-22T18:31:40.070Z"
   },
   {
    "duration": 5335,
    "start_time": "2024-08-22T18:31:40.079Z"
   },
   {
    "duration": 1418,
    "start_time": "2024-08-22T18:32:06.853Z"
   },
   {
    "duration": 410,
    "start_time": "2024-08-22T18:32:08.273Z"
   },
   {
    "duration": 7,
    "start_time": "2024-08-22T18:32:08.687Z"
   },
   {
    "duration": 2631,
    "start_time": "2024-08-22T18:32:08.697Z"
   },
   {
    "duration": 45,
    "start_time": "2024-08-22T18:32:11.330Z"
   },
   {
    "duration": 2685,
    "start_time": "2024-08-22T18:32:11.378Z"
   },
   {
    "duration": 46,
    "start_time": "2024-08-22T18:32:14.065Z"
   },
   {
    "duration": 3054,
    "start_time": "2024-08-22T18:32:14.113Z"
   },
   {
    "duration": 38,
    "start_time": "2024-08-22T18:32:17.169Z"
   },
   {
    "duration": 7,
    "start_time": "2024-08-22T18:32:17.208Z"
   },
   {
    "duration": 533,
    "start_time": "2024-08-22T18:32:17.216Z"
   },
   {
    "duration": 6,
    "start_time": "2024-08-22T18:32:17.751Z"
   },
   {
    "duration": 90,
    "start_time": "2024-08-22T18:32:17.760Z"
   },
   {
    "duration": 4,
    "start_time": "2024-08-22T18:32:17.852Z"
   },
   {
    "duration": 18,
    "start_time": "2024-08-22T18:32:17.858Z"
   },
   {
    "duration": 157,
    "start_time": "2024-08-22T18:32:17.878Z"
   },
   {
    "duration": 8,
    "start_time": "2024-08-22T18:32:30.450Z"
   },
   {
    "duration": 5216,
    "start_time": "2024-08-22T18:32:31.139Z"
   },
   {
    "duration": 1446,
    "start_time": "2024-08-22T18:33:11.341Z"
   },
   {
    "duration": 413,
    "start_time": "2024-08-22T18:33:12.788Z"
   },
   {
    "duration": 9,
    "start_time": "2024-08-22T18:33:13.204Z"
   },
   {
    "duration": 2681,
    "start_time": "2024-08-22T18:33:13.216Z"
   },
   {
    "duration": 38,
    "start_time": "2024-08-22T18:33:15.899Z"
   },
   {
    "duration": 2638,
    "start_time": "2024-08-22T18:33:15.947Z"
   },
   {
    "duration": 36,
    "start_time": "2024-08-22T18:33:18.586Z"
   },
   {
    "duration": 3039,
    "start_time": "2024-08-22T18:33:18.624Z"
   },
   {
    "duration": 32,
    "start_time": "2024-08-22T18:33:21.665Z"
   },
   {
    "duration": 5,
    "start_time": "2024-08-22T18:33:21.700Z"
   },
   {
    "duration": 640,
    "start_time": "2024-08-22T18:33:21.707Z"
   },
   {
    "duration": 5,
    "start_time": "2024-08-22T18:33:22.350Z"
   },
   {
    "duration": 54,
    "start_time": "2024-08-22T18:33:22.356Z"
   },
   {
    "duration": 8,
    "start_time": "2024-08-22T18:33:22.411Z"
   },
   {
    "duration": 10,
    "start_time": "2024-08-22T18:33:22.421Z"
   },
   {
    "duration": 5086,
    "start_time": "2024-08-22T18:33:22.432Z"
   },
   {
    "duration": 5,
    "start_time": "2024-08-22T18:34:24.118Z"
   },
   {
    "duration": 5088,
    "start_time": "2024-08-22T18:34:26.452Z"
   },
   {
    "duration": 1575,
    "start_time": "2024-08-22T18:34:59.634Z"
   },
   {
    "duration": 426,
    "start_time": "2024-08-22T18:35:01.211Z"
   },
   {
    "duration": 9,
    "start_time": "2024-08-22T18:35:01.640Z"
   },
   {
    "duration": 2722,
    "start_time": "2024-08-22T18:35:01.652Z"
   },
   {
    "duration": 33,
    "start_time": "2024-08-22T18:35:04.376Z"
   },
   {
    "duration": 2648,
    "start_time": "2024-08-22T18:35:04.411Z"
   },
   {
    "duration": 38,
    "start_time": "2024-08-22T18:35:07.061Z"
   },
   {
    "duration": 2981,
    "start_time": "2024-08-22T18:35:07.101Z"
   },
   {
    "duration": 38,
    "start_time": "2024-08-22T18:35:10.084Z"
   },
   {
    "duration": 6,
    "start_time": "2024-08-22T18:35:10.123Z"
   },
   {
    "duration": 600,
    "start_time": "2024-08-22T18:35:10.148Z"
   },
   {
    "duration": 93,
    "start_time": "2024-08-22T18:35:10.753Z"
   },
   {
    "duration": 20,
    "start_time": "2024-08-22T18:35:10.850Z"
   },
   {
    "duration": 8,
    "start_time": "2024-08-22T18:35:10.872Z"
   },
   {
    "duration": 11,
    "start_time": "2024-08-22T18:35:10.882Z"
   },
   {
    "duration": 5228,
    "start_time": "2024-08-22T18:35:10.894Z"
   },
   {
    "duration": 1508,
    "start_time": "2024-08-22T18:36:44.736Z"
   },
   {
    "duration": 410,
    "start_time": "2024-08-22T18:36:46.246Z"
   },
   {
    "duration": 7,
    "start_time": "2024-08-22T18:36:46.657Z"
   },
   {
    "duration": 2598,
    "start_time": "2024-08-22T18:36:46.665Z"
   },
   {
    "duration": 38,
    "start_time": "2024-08-22T18:36:49.265Z"
   },
   {
    "duration": 2627,
    "start_time": "2024-08-22T18:36:49.305Z"
   },
   {
    "duration": 37,
    "start_time": "2024-08-22T18:36:51.933Z"
   },
   {
    "duration": 2967,
    "start_time": "2024-08-22T18:36:51.972Z"
   },
   {
    "duration": 41,
    "start_time": "2024-08-22T18:36:54.941Z"
   },
   {
    "duration": 6,
    "start_time": "2024-08-22T18:36:54.984Z"
   },
   {
    "duration": 560,
    "start_time": "2024-08-22T18:36:54.992Z"
   },
   {
    "duration": 95,
    "start_time": "2024-08-22T18:36:55.554Z"
   },
   {
    "duration": 21,
    "start_time": "2024-08-22T18:36:55.651Z"
   },
   {
    "duration": 4,
    "start_time": "2024-08-22T18:36:55.675Z"
   },
   {
    "duration": 5,
    "start_time": "2024-08-22T18:36:55.681Z"
   },
   {
    "duration": 5134,
    "start_time": "2024-08-22T18:36:55.688Z"
   },
   {
    "duration": 5051,
    "start_time": "2024-08-22T18:47:53.683Z"
   },
   {
    "duration": 1296,
    "start_time": "2024-08-22T18:54:25.473Z"
   },
   {
    "duration": 457,
    "start_time": "2024-08-22T18:54:26.771Z"
   },
   {
    "duration": 9,
    "start_time": "2024-08-22T18:54:27.230Z"
   },
   {
    "duration": 2525,
    "start_time": "2024-08-22T18:54:27.240Z"
   },
   {
    "duration": 35,
    "start_time": "2024-08-22T18:54:29.768Z"
   },
   {
    "duration": 2563,
    "start_time": "2024-08-22T18:54:29.805Z"
   },
   {
    "duration": 36,
    "start_time": "2024-08-22T18:54:32.370Z"
   },
   {
    "duration": 2910,
    "start_time": "2024-08-22T18:54:32.407Z"
   },
   {
    "duration": 41,
    "start_time": "2024-08-22T18:54:35.319Z"
   },
   {
    "duration": 56,
    "start_time": "2024-08-22T18:54:35.362Z"
   },
   {
    "duration": 632,
    "start_time": "2024-08-22T18:54:35.420Z"
   },
   {
    "duration": 5,
    "start_time": "2024-08-22T18:54:36.053Z"
   },
   {
    "duration": 32,
    "start_time": "2024-08-22T18:54:36.059Z"
   },
   {
    "duration": 22,
    "start_time": "2024-08-22T18:54:36.094Z"
   },
   {
    "duration": 29,
    "start_time": "2024-08-22T18:54:36.118Z"
   },
   {
    "duration": 5143,
    "start_time": "2024-08-22T18:54:36.148Z"
   },
   {
    "duration": 1432,
    "start_time": "2024-08-22T19:08:49.766Z"
   },
   {
    "duration": 402,
    "start_time": "2024-08-22T19:08:51.200Z"
   },
   {
    "duration": 7,
    "start_time": "2024-08-22T19:08:51.603Z"
   },
   {
    "duration": 2665,
    "start_time": "2024-08-22T19:08:51.612Z"
   },
   {
    "duration": 36,
    "start_time": "2024-08-22T19:08:54.279Z"
   },
   {
    "duration": 2608,
    "start_time": "2024-08-22T19:08:54.317Z"
   },
   {
    "duration": 42,
    "start_time": "2024-08-22T19:08:56.926Z"
   },
   {
    "duration": 2810,
    "start_time": "2024-08-22T19:08:56.969Z"
   },
   {
    "duration": 36,
    "start_time": "2024-08-22T19:08:59.781Z"
   },
   {
    "duration": 14,
    "start_time": "2024-08-22T19:08:59.820Z"
   },
   {
    "duration": 610,
    "start_time": "2024-08-22T19:08:59.836Z"
   },
   {
    "duration": 4,
    "start_time": "2024-08-22T19:09:00.448Z"
   },
   {
    "duration": 73,
    "start_time": "2024-08-22T19:09:00.454Z"
   },
   {
    "duration": 28,
    "start_time": "2024-08-22T19:09:00.529Z"
   },
   {
    "duration": 10,
    "start_time": "2024-08-22T19:09:00.558Z"
   },
   {
    "duration": 5130,
    "start_time": "2024-08-22T19:09:00.569Z"
   },
   {
    "duration": 1444,
    "start_time": "2024-08-22T19:10:14.701Z"
   },
   {
    "duration": 410,
    "start_time": "2024-08-22T19:10:16.147Z"
   },
   {
    "duration": 6,
    "start_time": "2024-08-22T19:10:16.558Z"
   },
   {
    "duration": 2648,
    "start_time": "2024-08-22T19:10:16.566Z"
   },
   {
    "duration": 42,
    "start_time": "2024-08-22T19:10:19.216Z"
   },
   {
    "duration": 2514,
    "start_time": "2024-08-22T19:10:19.259Z"
   },
   {
    "duration": 36,
    "start_time": "2024-08-22T19:10:21.775Z"
   },
   {
    "duration": 2860,
    "start_time": "2024-08-22T19:10:21.813Z"
   },
   {
    "duration": 36,
    "start_time": "2024-08-22T19:10:24.675Z"
   },
   {
    "duration": 6,
    "start_time": "2024-08-22T19:10:24.713Z"
   },
   {
    "duration": 633,
    "start_time": "2024-08-22T19:10:24.720Z"
   },
   {
    "duration": 3,
    "start_time": "2024-08-22T19:10:25.355Z"
   },
   {
    "duration": 8,
    "start_time": "2024-08-22T19:10:25.360Z"
   },
   {
    "duration": 4,
    "start_time": "2024-08-22T19:10:25.369Z"
   },
   {
    "duration": 11,
    "start_time": "2024-08-22T19:10:25.374Z"
   },
   {
    "duration": 4919,
    "start_time": "2024-08-22T19:10:25.387Z"
   },
   {
    "duration": 1416,
    "start_time": "2024-08-22T19:11:35.433Z"
   },
   {
    "duration": 411,
    "start_time": "2024-08-22T19:11:36.851Z"
   },
   {
    "duration": 6,
    "start_time": "2024-08-22T19:11:37.264Z"
   },
   {
    "duration": 2509,
    "start_time": "2024-08-22T19:11:37.272Z"
   },
   {
    "duration": 44,
    "start_time": "2024-08-22T19:11:39.783Z"
   },
   {
    "duration": 2603,
    "start_time": "2024-08-22T19:11:39.828Z"
   },
   {
    "duration": 44,
    "start_time": "2024-08-22T19:11:42.433Z"
   },
   {
    "duration": 2978,
    "start_time": "2024-08-22T19:11:42.478Z"
   },
   {
    "duration": 37,
    "start_time": "2024-08-22T19:11:45.458Z"
   },
   {
    "duration": 121,
    "start_time": "2024-08-22T19:11:45.498Z"
   },
   {
    "duration": 528,
    "start_time": "2024-08-22T19:11:45.621Z"
   },
   {
    "duration": 96,
    "start_time": "2024-08-22T19:11:46.151Z"
   },
   {
    "duration": 13,
    "start_time": "2024-08-22T19:11:46.249Z"
   },
   {
    "duration": 3,
    "start_time": "2024-08-22T19:11:46.264Z"
   },
   {
    "duration": 9,
    "start_time": "2024-08-22T19:11:46.269Z"
   },
   {
    "duration": 5005,
    "start_time": "2024-08-22T19:11:46.280Z"
   },
   {
    "duration": 4,
    "start_time": "2024-08-22T19:12:36.682Z"
   },
   {
    "duration": 5,
    "start_time": "2024-08-22T19:12:40.222Z"
   },
   {
    "duration": 3407,
    "start_time": "2024-08-22T19:12:40.389Z"
   },
   {
    "duration": 3,
    "start_time": "2024-08-22T19:17:59.587Z"
   },
   {
    "duration": 3,
    "start_time": "2024-08-22T19:18:47.658Z"
   },
   {
    "duration": 6,
    "start_time": "2024-08-22T19:18:47.842Z"
   },
   {
    "duration": 3259,
    "start_time": "2024-08-22T19:18:48.022Z"
   },
   {
    "duration": 1391,
    "start_time": "2024-08-22T19:19:30.921Z"
   },
   {
    "duration": 423,
    "start_time": "2024-08-22T19:19:32.314Z"
   },
   {
    "duration": 9,
    "start_time": "2024-08-22T19:19:32.741Z"
   },
   {
    "duration": 2620,
    "start_time": "2024-08-22T19:19:32.751Z"
   },
   {
    "duration": 38,
    "start_time": "2024-08-22T19:19:35.373Z"
   },
   {
    "duration": 2534,
    "start_time": "2024-08-22T19:19:35.413Z"
   },
   {
    "duration": 34,
    "start_time": "2024-08-22T19:19:37.949Z"
   },
   {
    "duration": 2883,
    "start_time": "2024-08-22T19:19:37.985Z"
   },
   {
    "duration": 34,
    "start_time": "2024-08-22T19:19:40.870Z"
   },
   {
    "duration": 6,
    "start_time": "2024-08-22T19:19:40.905Z"
   },
   {
    "duration": 635,
    "start_time": "2024-08-22T19:19:40.912Z"
   },
   {
    "duration": 4,
    "start_time": "2024-08-22T19:19:41.549Z"
   },
   {
    "duration": 35,
    "start_time": "2024-08-22T19:19:41.554Z"
   },
   {
    "duration": 15,
    "start_time": "2024-08-22T19:19:41.590Z"
   },
   {
    "duration": 5,
    "start_time": "2024-08-22T19:19:41.607Z"
   },
   {
    "duration": 4929,
    "start_time": "2024-08-22T19:19:41.614Z"
   },
   {
    "duration": 1359,
    "start_time": "2024-08-22T19:20:05.645Z"
   },
   {
    "duration": 421,
    "start_time": "2024-08-22T19:20:07.006Z"
   },
   {
    "duration": 6,
    "start_time": "2024-08-22T19:20:07.428Z"
   },
   {
    "duration": 2684,
    "start_time": "2024-08-22T19:20:07.436Z"
   },
   {
    "duration": 44,
    "start_time": "2024-08-22T19:20:10.122Z"
   },
   {
    "duration": 2479,
    "start_time": "2024-08-22T19:20:10.168Z"
   },
   {
    "duration": 34,
    "start_time": "2024-08-22T19:20:12.649Z"
   },
   {
    "duration": 2955,
    "start_time": "2024-08-22T19:20:12.684Z"
   },
   {
    "duration": 39,
    "start_time": "2024-08-22T19:20:15.640Z"
   },
   {
    "duration": 6,
    "start_time": "2024-08-22T19:20:15.681Z"
   },
   {
    "duration": 658,
    "start_time": "2024-08-22T19:20:15.689Z"
   },
   {
    "duration": 4,
    "start_time": "2024-08-22T19:20:16.349Z"
   },
   {
    "duration": 30,
    "start_time": "2024-08-22T19:20:16.354Z"
   },
   {
    "duration": 8,
    "start_time": "2024-08-22T19:20:16.386Z"
   },
   {
    "duration": 15,
    "start_time": "2024-08-22T19:20:16.395Z"
   },
   {
    "duration": 4926,
    "start_time": "2024-08-22T19:20:16.412Z"
   },
   {
    "duration": 3860,
    "start_time": "2024-08-22T19:57:32.346Z"
   },
   {
    "duration": 1767,
    "start_time": "2024-08-22T19:57:36.209Z"
   },
   {
    "duration": 6,
    "start_time": "2024-08-22T19:57:37.978Z"
   },
   {
    "duration": 2528,
    "start_time": "2024-08-22T19:57:37.987Z"
   },
   {
    "duration": 33,
    "start_time": "2024-08-22T19:57:40.517Z"
   },
   {
    "duration": 2459,
    "start_time": "2024-08-22T19:57:40.551Z"
   },
   {
    "duration": 35,
    "start_time": "2024-08-22T19:57:43.012Z"
   },
   {
    "duration": 2873,
    "start_time": "2024-08-22T19:57:43.049Z"
   },
   {
    "duration": 34,
    "start_time": "2024-08-22T19:57:45.924Z"
   },
   {
    "duration": 6,
    "start_time": "2024-08-22T19:57:45.961Z"
   },
   {
    "duration": 545,
    "start_time": "2024-08-22T19:57:45.969Z"
   },
   {
    "duration": 94,
    "start_time": "2024-08-22T19:57:46.517Z"
   },
   {
    "duration": 20,
    "start_time": "2024-08-22T19:57:46.612Z"
   },
   {
    "duration": 14,
    "start_time": "2024-08-22T19:57:46.634Z"
   },
   {
    "duration": 23,
    "start_time": "2024-08-22T19:57:46.649Z"
   },
   {
    "duration": 4572,
    "start_time": "2024-08-22T19:57:46.673Z"
   },
   {
    "duration": 3,
    "start_time": "2024-08-22T20:05:36.613Z"
   },
   {
    "duration": 5,
    "start_time": "2024-08-22T20:05:36.894Z"
   },
   {
    "duration": 4469,
    "start_time": "2024-08-22T20:05:37.739Z"
   },
   {
    "duration": 1658,
    "start_time": "2024-08-23T05:31:30.487Z"
   },
   {
    "duration": 959,
    "start_time": "2024-08-23T05:31:32.147Z"
   },
   {
    "duration": 6,
    "start_time": "2024-08-23T05:31:33.108Z"
   },
   {
    "duration": 2969,
    "start_time": "2024-08-23T05:31:33.116Z"
   },
   {
    "duration": 36,
    "start_time": "2024-08-23T05:31:36.087Z"
   },
   {
    "duration": 2768,
    "start_time": "2024-08-23T05:31:36.124Z"
   },
   {
    "duration": 37,
    "start_time": "2024-08-23T05:31:38.893Z"
   },
   {
    "duration": 3431,
    "start_time": "2024-08-23T05:31:38.932Z"
   },
   {
    "duration": 90,
    "start_time": "2024-08-23T05:31:42.365Z"
   },
   {
    "duration": 790,
    "start_time": "2024-08-23T05:31:42.457Z"
   },
   {
    "duration": 96,
    "start_time": "2024-08-23T05:31:43.250Z"
   },
   {
    "duration": 30,
    "start_time": "2024-08-23T05:31:43.348Z"
   },
   {
    "duration": 4,
    "start_time": "2024-08-23T05:31:43.380Z"
   },
   {
    "duration": 7,
    "start_time": "2024-08-23T05:31:43.385Z"
   },
   {
    "duration": 5340,
    "start_time": "2024-08-23T05:31:43.393Z"
   },
   {
    "duration": 1457,
    "start_time": "2024-08-23T05:37:09.968Z"
   },
   {
    "duration": 429,
    "start_time": "2024-08-23T05:37:11.428Z"
   },
   {
    "duration": 7,
    "start_time": "2024-08-23T05:37:11.859Z"
   },
   {
    "duration": 2751,
    "start_time": "2024-08-23T05:37:11.869Z"
   },
   {
    "duration": 47,
    "start_time": "2024-08-23T05:37:14.622Z"
   },
   {
    "duration": 2878,
    "start_time": "2024-08-23T05:37:14.670Z"
   },
   {
    "duration": 44,
    "start_time": "2024-08-23T05:37:17.550Z"
   },
   {
    "duration": 3354,
    "start_time": "2024-08-23T05:37:17.595Z"
   },
   {
    "duration": 52,
    "start_time": "2024-08-23T05:37:20.952Z"
   },
   {
    "duration": 557,
    "start_time": "2024-08-23T05:37:21.007Z"
   },
   {
    "duration": 82,
    "start_time": "2024-08-23T05:37:21.566Z"
   },
   {
    "duration": 25,
    "start_time": "2024-08-23T05:37:21.650Z"
   },
   {
    "duration": 13,
    "start_time": "2024-08-23T05:37:21.677Z"
   },
   {
    "duration": 21,
    "start_time": "2024-08-23T05:37:21.692Z"
   },
   {
    "duration": 5333,
    "start_time": "2024-08-23T05:37:21.715Z"
   },
   {
    "duration": 553,
    "start_time": "2024-08-23T05:41:55.800Z"
   },
   {
    "duration": 127,
    "start_time": "2024-08-23T06:05:59.424Z"
   },
   {
    "duration": 1455,
    "start_time": "2024-08-23T06:10:19.062Z"
   },
   {
    "duration": 448,
    "start_time": "2024-08-23T06:10:20.519Z"
   },
   {
    "duration": 6,
    "start_time": "2024-08-23T06:10:20.969Z"
   },
   {
    "duration": 2720,
    "start_time": "2024-08-23T06:10:20.977Z"
   },
   {
    "duration": 47,
    "start_time": "2024-08-23T06:10:23.699Z"
   },
   {
    "duration": 2678,
    "start_time": "2024-08-23T06:10:23.748Z"
   },
   {
    "duration": 41,
    "start_time": "2024-08-23T06:10:26.428Z"
   },
   {
    "duration": 3113,
    "start_time": "2024-08-23T06:10:26.470Z"
   },
   {
    "duration": 35,
    "start_time": "2024-08-23T06:10:29.585Z"
   },
   {
    "duration": 625,
    "start_time": "2024-08-23T06:10:29.623Z"
   },
   {
    "duration": 3,
    "start_time": "2024-08-23T06:10:30.250Z"
   },
   {
    "duration": 42,
    "start_time": "2024-08-23T06:10:30.255Z"
   },
   {
    "duration": 67,
    "start_time": "2024-08-23T06:10:30.298Z"
   },
   {
    "duration": 52,
    "start_time": "2024-08-23T06:10:30.367Z"
   },
   {
    "duration": 5339,
    "start_time": "2024-08-23T06:10:30.420Z"
   },
   {
    "duration": 130,
    "start_time": "2024-08-23T06:12:40.717Z"
   },
   {
    "duration": 3,
    "start_time": "2024-08-23T06:12:45.217Z"
   },
   {
    "duration": 7,
    "start_time": "2024-08-23T06:34:41.192Z"
   },
   {
    "duration": 1523,
    "start_time": "2024-08-23T06:34:44.710Z"
   },
   {
    "duration": 461,
    "start_time": "2024-08-23T06:34:46.235Z"
   },
   {
    "duration": 10,
    "start_time": "2024-08-23T06:34:46.699Z"
   },
   {
    "duration": 2918,
    "start_time": "2024-08-23T06:34:46.712Z"
   },
   {
    "duration": 46,
    "start_time": "2024-08-23T06:34:49.632Z"
   },
   {
    "duration": 2912,
    "start_time": "2024-08-23T06:34:49.680Z"
   },
   {
    "duration": 37,
    "start_time": "2024-08-23T06:34:52.595Z"
   },
   {
    "duration": 3267,
    "start_time": "2024-08-23T06:34:52.645Z"
   },
   {
    "duration": 55,
    "start_time": "2024-08-23T06:34:55.914Z"
   },
   {
    "duration": 676,
    "start_time": "2024-08-23T06:34:55.972Z"
   },
   {
    "duration": 10,
    "start_time": "2024-08-23T06:34:56.650Z"
   },
   {
    "duration": 89,
    "start_time": "2024-08-23T06:34:56.671Z"
   },
   {
    "duration": 15,
    "start_time": "2024-08-23T06:34:56.762Z"
   },
   {
    "duration": 6,
    "start_time": "2024-08-23T06:34:56.779Z"
   },
   {
    "duration": 5440,
    "start_time": "2024-08-23T06:34:56.787Z"
   },
   {
    "duration": 1603,
    "start_time": "2024-08-23T06:35:40.677Z"
   },
   {
    "duration": 467,
    "start_time": "2024-08-23T06:35:42.282Z"
   },
   {
    "duration": 10,
    "start_time": "2024-08-23T06:35:42.752Z"
   },
   {
    "duration": 2863,
    "start_time": "2024-08-23T06:35:42.764Z"
   },
   {
    "duration": 52,
    "start_time": "2024-08-23T06:35:45.629Z"
   },
   {
    "duration": 2946,
    "start_time": "2024-08-23T06:35:45.683Z"
   },
   {
    "duration": 64,
    "start_time": "2024-08-23T06:35:48.631Z"
   },
   {
    "duration": 3257,
    "start_time": "2024-08-23T06:35:48.697Z"
   },
   {
    "duration": 40,
    "start_time": "2024-08-23T06:35:51.956Z"
   },
   {
    "duration": 564,
    "start_time": "2024-08-23T06:35:51.999Z"
   },
   {
    "duration": 9,
    "start_time": "2024-08-23T06:35:52.645Z"
   },
   {
    "duration": 13,
    "start_time": "2024-08-23T06:35:52.658Z"
   },
   {
    "duration": 3,
    "start_time": "2024-08-23T06:35:52.673Z"
   },
   {
    "duration": 7,
    "start_time": "2024-08-23T06:35:52.678Z"
   },
   {
    "duration": 5785,
    "start_time": "2024-08-23T06:35:52.687Z"
   },
   {
    "duration": 1529,
    "start_time": "2024-08-23T06:37:58.833Z"
   },
   {
    "duration": 451,
    "start_time": "2024-08-23T06:38:00.364Z"
   },
   {
    "duration": 7,
    "start_time": "2024-08-23T06:38:00.816Z"
   },
   {
    "duration": 2997,
    "start_time": "2024-08-23T06:38:00.825Z"
   },
   {
    "duration": 57,
    "start_time": "2024-08-23T06:38:03.824Z"
   },
   {
    "duration": 2828,
    "start_time": "2024-08-23T06:38:03.883Z"
   },
   {
    "duration": 48,
    "start_time": "2024-08-23T06:38:06.713Z"
   },
   {
    "duration": 3361,
    "start_time": "2024-08-23T06:38:06.763Z"
   },
   {
    "duration": 55,
    "start_time": "2024-08-23T06:38:10.126Z"
   },
   {
    "duration": 573,
    "start_time": "2024-08-23T06:38:10.184Z"
   },
   {
    "duration": 5,
    "start_time": "2024-08-23T06:38:10.762Z"
   },
   {
    "duration": 89,
    "start_time": "2024-08-23T06:38:10.769Z"
   },
   {
    "duration": 6,
    "start_time": "2024-08-23T06:38:10.860Z"
   },
   {
    "duration": 11,
    "start_time": "2024-08-23T06:38:10.867Z"
   },
   {
    "duration": 5444,
    "start_time": "2024-08-23T06:38:10.879Z"
   },
   {
    "duration": 1479,
    "start_time": "2024-08-23T06:41:57.507Z"
   },
   {
    "duration": 423,
    "start_time": "2024-08-23T06:41:58.988Z"
   },
   {
    "duration": 6,
    "start_time": "2024-08-23T06:41:59.413Z"
   },
   {
    "duration": 2775,
    "start_time": "2024-08-23T06:41:59.421Z"
   },
   {
    "duration": 37,
    "start_time": "2024-08-23T06:42:02.198Z"
   },
   {
    "duration": 2840,
    "start_time": "2024-08-23T06:42:02.245Z"
   },
   {
    "duration": 34,
    "start_time": "2024-08-23T06:42:05.087Z"
   },
   {
    "duration": 3183,
    "start_time": "2024-08-23T06:42:05.123Z"
   },
   {
    "duration": 46,
    "start_time": "2024-08-23T06:42:08.308Z"
   },
   {
    "duration": 591,
    "start_time": "2024-08-23T06:42:08.356Z"
   },
   {
    "duration": 8,
    "start_time": "2024-08-23T06:42:08.949Z"
   },
   {
    "duration": 10,
    "start_time": "2024-08-23T06:42:09.046Z"
   },
   {
    "duration": 4,
    "start_time": "2024-08-23T06:42:09.058Z"
   },
   {
    "duration": 8,
    "start_time": "2024-08-23T06:42:09.063Z"
   },
   {
    "duration": 5349,
    "start_time": "2024-08-23T06:42:09.073Z"
   },
   {
    "duration": 1422,
    "start_time": "2024-08-23T06:49:04.108Z"
   },
   {
    "duration": 426,
    "start_time": "2024-08-23T06:49:05.532Z"
   },
   {
    "duration": 6,
    "start_time": "2024-08-23T06:49:05.960Z"
   },
   {
    "duration": 2853,
    "start_time": "2024-08-23T06:49:05.968Z"
   },
   {
    "duration": 43,
    "start_time": "2024-08-23T06:49:08.823Z"
   },
   {
    "duration": 2605,
    "start_time": "2024-08-23T06:49:08.868Z"
   },
   {
    "duration": 35,
    "start_time": "2024-08-23T06:49:11.475Z"
   },
   {
    "duration": 3089,
    "start_time": "2024-08-23T06:49:11.512Z"
   },
   {
    "duration": 44,
    "start_time": "2024-08-23T06:49:14.603Z"
   },
   {
    "duration": 597,
    "start_time": "2024-08-23T06:49:14.650Z"
   },
   {
    "duration": 7,
    "start_time": "2024-08-23T06:49:15.249Z"
   },
   {
    "duration": 107,
    "start_time": "2024-08-23T06:49:15.258Z"
   },
   {
    "duration": 113,
    "start_time": "2024-08-23T06:49:15.367Z"
   },
   {
    "duration": 17,
    "start_time": "2024-08-23T06:49:15.482Z"
   },
   {
    "duration": 5223,
    "start_time": "2024-08-23T06:49:15.500Z"
   },
   {
    "duration": 1433,
    "start_time": "2024-08-23T06:50:13.502Z"
   },
   {
    "duration": 448,
    "start_time": "2024-08-23T06:50:14.937Z"
   },
   {
    "duration": 7,
    "start_time": "2024-08-23T06:50:15.387Z"
   },
   {
    "duration": 2762,
    "start_time": "2024-08-23T06:50:15.396Z"
   },
   {
    "duration": 38,
    "start_time": "2024-08-23T06:50:18.160Z"
   },
   {
    "duration": 2967,
    "start_time": "2024-08-23T06:50:18.200Z"
   },
   {
    "duration": 37,
    "start_time": "2024-08-23T06:50:21.168Z"
   },
   {
    "duration": 3099,
    "start_time": "2024-08-23T06:50:21.207Z"
   },
   {
    "duration": 41,
    "start_time": "2024-08-23T06:50:24.307Z"
   },
   {
    "duration": 595,
    "start_time": "2024-08-23T06:50:24.351Z"
   },
   {
    "duration": 4,
    "start_time": "2024-08-23T06:50:24.948Z"
   },
   {
    "duration": 29,
    "start_time": "2024-08-23T06:50:24.953Z"
   },
   {
    "duration": 5,
    "start_time": "2024-08-23T06:50:24.984Z"
   },
   {
    "duration": 12,
    "start_time": "2024-08-23T06:50:24.991Z"
   },
   {
    "duration": 5232,
    "start_time": "2024-08-23T06:50:25.005Z"
   }
  ],
  "kernelspec": {
   "display_name": "Python 3 (ipykernel)",
   "language": "python",
   "name": "python3"
  },
  "language_info": {
   "codemirror_mode": {
    "name": "ipython",
    "version": 3
   },
   "file_extension": ".py",
   "mimetype": "text/x-python",
   "name": "python",
   "nbconvert_exporter": "python",
   "pygments_lexer": "ipython3",
   "version": "3.11.7"
  },
  "toc": {
   "base_numbering": 1,
   "nav_menu": {},
   "number_sections": true,
   "sideBar": true,
   "skip_h1_title": true,
   "title_cell": "Table of Contents",
   "title_sidebar": "Contents",
   "toc_cell": false,
   "toc_position": {
    "height": "calc(100% - 180px)",
    "left": "10px",
    "top": "150px",
    "width": "464.492px"
   },
   "toc_section_display": true,
   "toc_window_display": false
  }
 },
 "nbformat": 4,
 "nbformat_minor": 4
}
