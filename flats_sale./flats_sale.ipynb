{
 "cells": [
  {
   "cell_type": "markdown",
   "metadata": {
    "id": "-VFbjcb3Awb7"
   },
   "source": [
    "# Исследование объявлений о продаже квартир\n",
    "\n",
    "В вашем распоряжении данные сервиса Яндекс Недвижимость — архив объявлений о продаже квартир в Санкт-Петербурге и соседних населённых пунктах за несколько лет. Вам нужно научиться определять рыночную стоимость объектов недвижимости. Для этого проведите исследовательский анализ данных и установите параметры, влияющие на цену объектов. Это позволит построить автоматизированную систему: она отследит аномалии и мошенническую деятельность.\n",
    "\n",
    "По каждой квартире на продажу доступны два вида данных. Первые вписаны пользователем, вторые — получены автоматически на основе картографических данных. Например, расстояние до центра, аэропорта и других объектов — эти данные автоматически получены из геосервисов. Количество парков и водоёмов также заполняется без участия пользователя."
   ]
  },
  {
   "cell_type": "markdown",
   "metadata": {
    "id": "aeFLH07FAwb9"
   },
   "source": [
    "### Откройте файл с данными и изучите общую информацию"
   ]
  },
  {
   "cell_type": "code",
   "execution_count": 1,
   "metadata": {
    "id": "7MZxY65pAwb9",
    "scrolled": true
   },
   "outputs": [
    {
     "data": {
      "text/html": [
       "<div>\n",
       "<style scoped>\n",
       "    .dataframe tbody tr th:only-of-type {\n",
       "        vertical-align: middle;\n",
       "    }\n",
       "\n",
       "    .dataframe tbody tr th {\n",
       "        vertical-align: top;\n",
       "    }\n",
       "\n",
       "    .dataframe thead th {\n",
       "        text-align: right;\n",
       "    }\n",
       "</style>\n",
       "<table border=\"1\" class=\"dataframe\">\n",
       "  <thead>\n",
       "    <tr style=\"text-align: right;\">\n",
       "      <th></th>\n",
       "      <th>total_images</th>\n",
       "      <th>last_price</th>\n",
       "      <th>total_area</th>\n",
       "      <th>first_day_exposition</th>\n",
       "      <th>rooms</th>\n",
       "      <th>ceiling_height</th>\n",
       "      <th>floors_total</th>\n",
       "      <th>living_area</th>\n",
       "      <th>floor</th>\n",
       "      <th>is_apartment</th>\n",
       "      <th>...</th>\n",
       "      <th>kitchen_area</th>\n",
       "      <th>balcony</th>\n",
       "      <th>locality_name</th>\n",
       "      <th>airports_nearest</th>\n",
       "      <th>cityCenters_nearest</th>\n",
       "      <th>parks_around3000</th>\n",
       "      <th>parks_nearest</th>\n",
       "      <th>ponds_around3000</th>\n",
       "      <th>ponds_nearest</th>\n",
       "      <th>days_exposition</th>\n",
       "    </tr>\n",
       "  </thead>\n",
       "  <tbody>\n",
       "    <tr>\n",
       "      <th>0</th>\n",
       "      <td>20</td>\n",
       "      <td>13000000.0</td>\n",
       "      <td>108.0</td>\n",
       "      <td>2019-03-07T00:00:00</td>\n",
       "      <td>3</td>\n",
       "      <td>2.70</td>\n",
       "      <td>16.0</td>\n",
       "      <td>51.0</td>\n",
       "      <td>8</td>\n",
       "      <td>NaN</td>\n",
       "      <td>...</td>\n",
       "      <td>25.0</td>\n",
       "      <td>NaN</td>\n",
       "      <td>Санкт-Петербург</td>\n",
       "      <td>18863.0</td>\n",
       "      <td>16028.0</td>\n",
       "      <td>1.0</td>\n",
       "      <td>482.0</td>\n",
       "      <td>2.0</td>\n",
       "      <td>755.0</td>\n",
       "      <td>NaN</td>\n",
       "    </tr>\n",
       "    <tr>\n",
       "      <th>1</th>\n",
       "      <td>7</td>\n",
       "      <td>3350000.0</td>\n",
       "      <td>40.4</td>\n",
       "      <td>2018-12-04T00:00:00</td>\n",
       "      <td>1</td>\n",
       "      <td>NaN</td>\n",
       "      <td>11.0</td>\n",
       "      <td>18.6</td>\n",
       "      <td>1</td>\n",
       "      <td>NaN</td>\n",
       "      <td>...</td>\n",
       "      <td>11.0</td>\n",
       "      <td>2.0</td>\n",
       "      <td>посёлок Шушары</td>\n",
       "      <td>12817.0</td>\n",
       "      <td>18603.0</td>\n",
       "      <td>0.0</td>\n",
       "      <td>NaN</td>\n",
       "      <td>0.0</td>\n",
       "      <td>NaN</td>\n",
       "      <td>81.0</td>\n",
       "    </tr>\n",
       "    <tr>\n",
       "      <th>2</th>\n",
       "      <td>10</td>\n",
       "      <td>5196000.0</td>\n",
       "      <td>56.0</td>\n",
       "      <td>2015-08-20T00:00:00</td>\n",
       "      <td>2</td>\n",
       "      <td>NaN</td>\n",
       "      <td>5.0</td>\n",
       "      <td>34.3</td>\n",
       "      <td>4</td>\n",
       "      <td>NaN</td>\n",
       "      <td>...</td>\n",
       "      <td>8.3</td>\n",
       "      <td>0.0</td>\n",
       "      <td>Санкт-Петербург</td>\n",
       "      <td>21741.0</td>\n",
       "      <td>13933.0</td>\n",
       "      <td>1.0</td>\n",
       "      <td>90.0</td>\n",
       "      <td>2.0</td>\n",
       "      <td>574.0</td>\n",
       "      <td>558.0</td>\n",
       "    </tr>\n",
       "    <tr>\n",
       "      <th>3</th>\n",
       "      <td>0</td>\n",
       "      <td>64900000.0</td>\n",
       "      <td>159.0</td>\n",
       "      <td>2015-07-24T00:00:00</td>\n",
       "      <td>3</td>\n",
       "      <td>NaN</td>\n",
       "      <td>14.0</td>\n",
       "      <td>NaN</td>\n",
       "      <td>9</td>\n",
       "      <td>NaN</td>\n",
       "      <td>...</td>\n",
       "      <td>NaN</td>\n",
       "      <td>0.0</td>\n",
       "      <td>Санкт-Петербург</td>\n",
       "      <td>28098.0</td>\n",
       "      <td>6800.0</td>\n",
       "      <td>2.0</td>\n",
       "      <td>84.0</td>\n",
       "      <td>3.0</td>\n",
       "      <td>234.0</td>\n",
       "      <td>424.0</td>\n",
       "    </tr>\n",
       "    <tr>\n",
       "      <th>4</th>\n",
       "      <td>2</td>\n",
       "      <td>10000000.0</td>\n",
       "      <td>100.0</td>\n",
       "      <td>2018-06-19T00:00:00</td>\n",
       "      <td>2</td>\n",
       "      <td>3.03</td>\n",
       "      <td>14.0</td>\n",
       "      <td>32.0</td>\n",
       "      <td>13</td>\n",
       "      <td>NaN</td>\n",
       "      <td>...</td>\n",
       "      <td>41.0</td>\n",
       "      <td>NaN</td>\n",
       "      <td>Санкт-Петербург</td>\n",
       "      <td>31856.0</td>\n",
       "      <td>8098.0</td>\n",
       "      <td>2.0</td>\n",
       "      <td>112.0</td>\n",
       "      <td>1.0</td>\n",
       "      <td>48.0</td>\n",
       "      <td>121.0</td>\n",
       "    </tr>\n",
       "  </tbody>\n",
       "</table>\n",
       "<p>5 rows × 22 columns</p>\n",
       "</div>"
      ],
      "text/plain": [
       "   total_images  last_price  total_area first_day_exposition  rooms  \\\n",
       "0            20  13000000.0       108.0  2019-03-07T00:00:00      3   \n",
       "1             7   3350000.0        40.4  2018-12-04T00:00:00      1   \n",
       "2            10   5196000.0        56.0  2015-08-20T00:00:00      2   \n",
       "3             0  64900000.0       159.0  2015-07-24T00:00:00      3   \n",
       "4             2  10000000.0       100.0  2018-06-19T00:00:00      2   \n",
       "\n",
       "   ceiling_height  floors_total  living_area  floor is_apartment  ...  \\\n",
       "0            2.70          16.0         51.0      8          NaN  ...   \n",
       "1             NaN          11.0         18.6      1          NaN  ...   \n",
       "2             NaN           5.0         34.3      4          NaN  ...   \n",
       "3             NaN          14.0          NaN      9          NaN  ...   \n",
       "4            3.03          14.0         32.0     13          NaN  ...   \n",
       "\n",
       "   kitchen_area  balcony    locality_name  airports_nearest  \\\n",
       "0          25.0      NaN  Санкт-Петербург           18863.0   \n",
       "1          11.0      2.0   посёлок Шушары           12817.0   \n",
       "2           8.3      0.0  Санкт-Петербург           21741.0   \n",
       "3           NaN      0.0  Санкт-Петербург           28098.0   \n",
       "4          41.0      NaN  Санкт-Петербург           31856.0   \n",
       "\n",
       "  cityCenters_nearest  parks_around3000  parks_nearest  ponds_around3000  \\\n",
       "0             16028.0               1.0          482.0               2.0   \n",
       "1             18603.0               0.0            NaN               0.0   \n",
       "2             13933.0               1.0           90.0               2.0   \n",
       "3              6800.0               2.0           84.0               3.0   \n",
       "4              8098.0               2.0          112.0               1.0   \n",
       "\n",
       "   ponds_nearest  days_exposition  \n",
       "0          755.0              NaN  \n",
       "1            NaN             81.0  \n",
       "2          574.0            558.0  \n",
       "3          234.0            424.0  \n",
       "4           48.0            121.0  \n",
       "\n",
       "[5 rows x 22 columns]"
      ]
     },
     "execution_count": 1,
     "metadata": {},
     "output_type": "execute_result"
    }
   ],
   "source": [
    "import pandas as pd\n",
    "import matplotlib.pyplot as plt\n",
    "#Прочитаем файл и посмотрим как выглядит таблица\n",
    "df = pd.read_csv('/datasets/real_estate_data.csv', sep='\\t')\n",
    "df.head(5)"
   ]
  },
  {
   "cell_type": "code",
   "execution_count": 2,
   "metadata": {},
   "outputs": [
    {
     "name": "stdout",
     "output_type": "stream",
     "text": [
      "<class 'pandas.core.frame.DataFrame'>\n",
      "RangeIndex: 23699 entries, 0 to 23698\n",
      "Data columns (total 22 columns):\n",
      " #   Column                Non-Null Count  Dtype  \n",
      "---  ------                --------------  -----  \n",
      " 0   total_images          23699 non-null  int64  \n",
      " 1   last_price            23699 non-null  float64\n",
      " 2   total_area            23699 non-null  float64\n",
      " 3   first_day_exposition  23699 non-null  object \n",
      " 4   rooms                 23699 non-null  int64  \n",
      " 5   ceiling_height        14504 non-null  float64\n",
      " 6   floors_total          23613 non-null  float64\n",
      " 7   living_area           21796 non-null  float64\n",
      " 8   floor                 23699 non-null  int64  \n",
      " 9   is_apartment          2775 non-null   object \n",
      " 10  studio                23699 non-null  bool   \n",
      " 11  open_plan             23699 non-null  bool   \n",
      " 12  kitchen_area          21421 non-null  float64\n",
      " 13  balcony               12180 non-null  float64\n",
      " 14  locality_name         23650 non-null  object \n",
      " 15  airports_nearest      18157 non-null  float64\n",
      " 16  cityCenters_nearest   18180 non-null  float64\n",
      " 17  parks_around3000      18181 non-null  float64\n",
      " 18  parks_nearest         8079 non-null   float64\n",
      " 19  ponds_around3000      18181 non-null  float64\n",
      " 20  ponds_nearest         9110 non-null   float64\n",
      " 21  days_exposition       20518 non-null  float64\n",
      "dtypes: bool(2), float64(14), int64(3), object(3)\n",
      "memory usage: 3.7+ MB\n"
     ]
    }
   ],
   "source": [
    "#Просмотрим колонки более детально\n",
    "df.info()"
   ]
  },
  {
   "cell_type": "code",
   "execution_count": 3,
   "metadata": {},
   "outputs": [
    {
     "data": {
      "image/png": "[encoded data removed]",
      "text/plain": [
       "<Figure size 1080x1440 with 20 Axes>"
      ]
     },
     "metadata": {
      "needs_background": "light"
     },
     "output_type": "display_data"
    }
   ],
   "source": [
    "# Строим гистрограммы для каждой числовой колонки\n",
    "df.hist(figsize=(15,20))\n",
    "plt.show()"
   ]
  },
  {
   "cell_type": "markdown",
   "metadata": {},
   "source": [
    " Предварительный вывод из имеющейся информации:\n",
    " - Заметим, во многих столцах в графе \"Non-Null Count\" разные значения - свидетельство пропусков. Пропуски во многих графах могут быть связаны с человеческим фактором, либо с техническими ошибками. Присутствуют графы, которые заполнялись человеком и графы, которые заполнялись автоматически.\n",
    " - Не все столбцы имеют оптимальный для своего описания тип:\n",
    "   - first_day_exposition необходим формат даты\n",
    "   - floors_total, balcony, days_exposition необходим тип целых чисел\n",
    "   - is_apartment необходим булевый формат\n",
    " - Колонка cityCenters_nearest имеет нелучший стиль, но при этом читаемо, понятен смысл - менять не будем.\n",
    " - По гистограммам видим, к примеру, колонки kitchen_area и ceiling_height имеют редкие и аномальные данные: 100 площади кухни в квадратных метрах и 100 высоты потолка в метрах. Эти примеры заставляют задуматься о точности и качестве предоставленных данных."
   ]
  },
  {
   "cell_type": "markdown",
   "metadata": {
    "id": "-O5NtivEAwb9"
   },
   "source": [
    "### Выполните предобработку данных"
   ]
  },
  {
   "cell_type": "code",
   "execution_count": 4,
   "metadata": {
    "id": "7v3vAeTuAwb-"
   },
   "outputs": [
    {
     "data": {
      "text/plain": [
       "0"
      ]
     },
     "execution_count": 4,
     "metadata": {},
     "output_type": "execute_result"
    }
   ],
   "source": [
    "#Опеределим количество явных дубликатов\n",
    "df.duplicated().sum()"
   ]
  },
  {
   "cell_type": "code",
   "execution_count": 5,
   "metadata": {},
   "outputs": [
    {
     "data": {
      "text/plain": [
       "total_images                0\n",
       "last_price                  0\n",
       "total_area                  0\n",
       "first_day_exposition        0\n",
       "rooms                       0\n",
       "ceiling_height           9195\n",
       "floors_total               86\n",
       "living_area              1903\n",
       "floor                       0\n",
       "is_apartment            20924\n",
       "studio                      0\n",
       "open_plan                   0\n",
       "kitchen_area             2278\n",
       "balcony                 11519\n",
       "locality_name              49\n",
       "airports_nearest         5542\n",
       "cityCenters_nearest      5519\n",
       "parks_around3000         5518\n",
       "parks_nearest           15620\n",
       "ponds_around3000         5518\n",
       "ponds_nearest           14589\n",
       "days_exposition          3181\n",
       "dtype: int64"
      ]
     },
     "execution_count": 5,
     "metadata": {},
     "output_type": "execute_result"
    }
   ],
   "source": [
    "#Изучим количество пустых значениях по каждой колонке\n",
    "df.isna().sum()"
   ]
  },
  {
   "cell_type": "markdown",
   "metadata": {},
   "source": [
    "#### Высота потолков"
   ]
  },
  {
   "cell_type": "code",
   "execution_count": 6,
   "metadata": {},
   "outputs": [
    {
     "data": {
      "text/plain": [
       "count    14504.000000\n",
       "mean         2.771499\n",
       "std          1.261056\n",
       "min          1.000000\n",
       "25%          2.520000\n",
       "50%          2.650000\n",
       "75%          2.800000\n",
       "max        100.000000\n",
       "Name: ceiling_height, dtype: float64"
      ]
     },
     "execution_count": 6,
     "metadata": {},
     "output_type": "execute_result"
    }
   ],
   "source": [
    "df['ceiling_height'].describe()"
   ]
  },
  {
   "cell_type": "markdown",
   "metadata": {},
   "source": [
    "По описанию графы и ее гистрограмме, считаю лучшим вариантом замены пропущенных значений медианой."
   ]
  },
  {
   "cell_type": "code",
   "execution_count": 7,
   "metadata": {},
   "outputs": [],
   "source": [
    "df['ceiling_height'] = df['ceiling_height'].fillna(df['ceiling_height'].median())"
   ]
  },
  {
   "cell_type": "markdown",
   "metadata": {},
   "source": [
    "#### Количество этажей в доме"
   ]
  },
  {
   "cell_type": "markdown",
   "metadata": {},
   "source": [
    "Пропущенные значения в количестве этажей невозможно восстановить или заменить на какие-то значения, не зная, где находится дом. В таблице таких значений всего 86 - предлагаю удалить пропуски."
   ]
  },
  {
   "cell_type": "code",
   "execution_count": 8,
   "metadata": {},
   "outputs": [],
   "source": [
    "df = df.dropna(subset=['floors_total'])"
   ]
  },
  {
   "cell_type": "markdown",
   "metadata": {},
   "source": [
    "#### Апартаменты"
   ]
  },
  {
   "cell_type": "code",
   "execution_count": 9,
   "metadata": {},
   "outputs": [
    {
     "data": {
      "text/plain": [
       "array([nan, False, True], dtype=object)"
      ]
     },
     "execution_count": 9,
     "metadata": {},
     "output_type": "execute_result"
    }
   ],
   "source": [
    "#Убедимся, что в графе is_apartment могут быть только 2 значения\n",
    "df['is_apartment'].unique()"
   ]
  },
  {
   "cell_type": "markdown",
   "metadata": {},
   "source": [
    "Жилая площадь может быть апартаментами или ими не быть. Скорее всего, поле не являлось обязательным и для квартир, которые не являлись апартаментами игнорировалось данное поле. Заменим пропущенные значения на False."
   ]
  },
  {
   "cell_type": "code",
   "execution_count": 10,
   "metadata": {},
   "outputs": [],
   "source": [
    "df['is_apartment'] = df['is_apartment'].fillna(False)"
   ]
  },
  {
   "cell_type": "markdown",
   "metadata": {},
   "source": [
    "#### Балкон"
   ]
  },
  {
   "cell_type": "code",
   "execution_count": 11,
   "metadata": {},
   "outputs": [
    {
     "data": {
      "text/plain": [
       "array([nan,  2.,  0.,  1.,  5.,  4.,  3.])"
      ]
     },
     "execution_count": 11,
     "metadata": {},
     "output_type": "execute_result"
    }
   ],
   "source": [
    "#Определим, какие значения бывает в поле с балконом\n",
    "df['balcony'].unique()"
   ]
  },
  {
   "cell_type": "markdown",
   "metadata": {},
   "source": [
    "Похожая ситуация как с апартаментами. Если поле не указали, скорее всего, балкона в квартире нет. Заменим пропущенные значения на 0"
   ]
  },
  {
   "cell_type": "code",
   "execution_count": 12,
   "metadata": {},
   "outputs": [],
   "source": [
    "df['balcony'] = df['balcony'].fillna(0)"
   ]
  },
  {
   "cell_type": "markdown",
   "metadata": {},
   "source": [
    "#### Населенный пункт"
   ]
  },
  {
   "cell_type": "markdown",
   "metadata": {},
   "source": [
    "Пропущенные значения в графе с местоположением квартиры невозможно заменить, не зная адрес, таких значений 48 - удалим пропуски в этой графе и посмотрим какие присутствуют уникальные значения."
   ]
  },
  {
   "cell_type": "code",
   "execution_count": 13,
   "metadata": {
    "scrolled": true
   },
   "outputs": [
    {
     "data": {
      "text/plain": [
       "array(['Санкт-Петербург', 'посёлок Шушары', 'городской посёлок Янино-1',\n",
       "       'посёлок Парголово', 'посёлок Мурино', 'Ломоносов', 'Сертолово',\n",
       "       'Петергоф', 'Пушкин', 'деревня Кудрово', 'Коммунар', 'Колпино',\n",
       "       'поселок городского типа Красный Бор', 'Гатчина', 'поселок Мурино',\n",
       "       'деревня Фёдоровское', 'Выборг', 'Кронштадт', 'Кировск',\n",
       "       'деревня Новое Девяткино', 'посёлок Металлострой',\n",
       "       'посёлок городского типа Лебяжье',\n",
       "       'посёлок городского типа Сиверский', 'поселок Молодцово',\n",
       "       'поселок городского типа Кузьмоловский',\n",
       "       'садовое товарищество Новая Ропша', 'Павловск',\n",
       "       'деревня Пикколово', 'Всеволожск', 'Волхов', 'Кингисепп',\n",
       "       'Приозерск', 'Сестрорецк', 'деревня Куттузи', 'посёлок Аннино',\n",
       "       'поселок городского типа Ефимовский', 'посёлок Плодовое',\n",
       "       'деревня Заклинье', 'поселок Торковичи', 'поселок Первомайское',\n",
       "       'Красное Село', 'посёлок Понтонный', 'Сясьстрой', 'деревня Старая',\n",
       "       'деревня Лесколово', 'посёлок Новый Свет', 'Сланцы',\n",
       "       'село Путилово', 'Ивангород', 'Мурино', 'Шлиссельбург',\n",
       "       'Никольское', 'Зеленогорск', 'Сосновый Бор', 'поселок Новый Свет',\n",
       "       'деревня Оржицы', 'деревня Кальтино', 'Кудрово',\n",
       "       'поселок Романовка', 'посёлок Бугры', 'поселок Бугры',\n",
       "       'поселок городского типа Рощино', 'Кириши', 'Луга', 'Волосово',\n",
       "       'Отрадное', 'село Павлово', 'поселок Оредеж', 'село Копорье',\n",
       "       'посёлок городского типа Красный Бор', 'посёлок Молодёжное',\n",
       "       'Тихвин', 'посёлок Победа', 'деревня Нурма',\n",
       "       'поселок городского типа Синявино', 'Тосно',\n",
       "       'посёлок городского типа Кузьмоловский', 'посёлок Стрельна',\n",
       "       'Бокситогорск', 'посёлок Александровская', 'деревня Лопухинка',\n",
       "       'Пикалёво', 'поселок Терволово',\n",
       "       'поселок городского типа Советский', 'Подпорожье',\n",
       "       'посёлок Петровское', 'посёлок городского типа Токсово',\n",
       "       'поселок Сельцо', 'посёлок городского типа Вырица',\n",
       "       'деревня Кипень', 'деревня Келози', 'деревня Вартемяги',\n",
       "       'посёлок Тельмана', 'поселок Севастьяново',\n",
       "       'городской поселок Большая Ижора', 'городской посёлок Павлово',\n",
       "       'деревня Агалатово', 'посёлок Новогорелово',\n",
       "       'городской посёлок Лесогорский', 'деревня Лаголово',\n",
       "       'поселок Цвелодубово', 'поселок городского типа Рахья',\n",
       "       'поселок городского типа Вырица', 'деревня Белогорка',\n",
       "       'поселок Заводской', 'городской посёлок Новоселье',\n",
       "       'деревня Большие Колпаны', 'деревня Горбунки', 'деревня Батово',\n",
       "       'деревня Заневка', 'деревня Иссад', 'Приморск',\n",
       "       'городской посёлок Фёдоровское', 'деревня Мистолово',\n",
       "       'Новая Ладога', 'поселок Зимитицы', 'поселок Барышево',\n",
       "       'деревня Разметелево', 'поселок городского типа имени Свердлова',\n",
       "       'деревня Пеники', 'поселок Рябово', 'деревня Пудомяги',\n",
       "       'поселок станции Корнево', 'деревня Низино', 'деревня Бегуницы',\n",
       "       'посёлок Поляны', 'городской посёлок Мга', 'поселок Елизаветино',\n",
       "       'посёлок городского типа Кузнечное', 'деревня Колтуши',\n",
       "       'поселок Запорожское', 'посёлок городского типа Рощино',\n",
       "       'деревня Гостилицы', 'деревня Малое Карлино',\n",
       "       'посёлок Мичуринское', 'посёлок городского типа имени Морозова',\n",
       "       'посёлок Песочный', 'посёлок Сосново', 'деревня Аро',\n",
       "       'поселок Ильичёво', 'посёлок городского типа Тайцы',\n",
       "       'деревня Малое Верево', 'деревня Извара', 'поселок станции Вещево',\n",
       "       'село Паша', 'деревня Калитино',\n",
       "       'посёлок городского типа Ульяновка', 'деревня Чудской Бор',\n",
       "       'поселок городского типа Дубровка', 'деревня Мины',\n",
       "       'поселок Войсковицы', 'посёлок городского типа имени Свердлова',\n",
       "       'деревня Коркино', 'посёлок Ропша',\n",
       "       'поселок городского типа Приладожский', 'посёлок Щеглово',\n",
       "       'посёлок Гаврилово', 'Лодейное Поле', 'деревня Рабитицы',\n",
       "       'поселок городского типа Никольский', 'деревня Кузьмолово',\n",
       "       'деревня Малые Колпаны', 'поселок Тельмана',\n",
       "       'посёлок Петро-Славянка', 'городской посёлок Назия',\n",
       "       'посёлок Репино', 'посёлок Ильичёво', 'поселок Углово',\n",
       "       'поселок Старая Малукса', 'садовое товарищество Рахья',\n",
       "       'поселок Аннино', 'поселок Победа', 'деревня Меньково',\n",
       "       'деревня Старые Бегуницы', 'посёлок Сапёрный', 'поселок Семрино',\n",
       "       'поселок Гаврилово', 'поселок Глажево', 'поселок Кобринское',\n",
       "       'деревня Гарболово', 'деревня Юкки',\n",
       "       'поселок станции Приветнинское', 'деревня Мануйлово',\n",
       "       'деревня Пчева', 'поселок Поляны', 'поселок Цвылёво',\n",
       "       'поселок Мельниково', 'посёлок Пудость', 'посёлок Усть-Луга',\n",
       "       'Светогорск', 'Любань', 'поселок Селезнёво',\n",
       "       'поселок городского типа Рябово', 'Каменногорск', 'деревня Кривко',\n",
       "       'поселок Глебычево', 'деревня Парицы', 'поселок Жилпосёлок',\n",
       "       'посёлок городского типа Мга', 'городской поселок Янино-1',\n",
       "       'посёлок Войскорово', 'село Никольское', 'посёлок Терволово',\n",
       "       'поселок Стеклянный', 'посёлок городского типа Важины',\n",
       "       'посёлок Мыза-Ивановка', 'село Русско-Высоцкое',\n",
       "       'поселок городского типа Лебяжье',\n",
       "       'поселок городского типа Форносово', 'село Старая Ладога',\n",
       "       'поселок Житково', 'городской посёлок Виллози', 'деревня Лампово',\n",
       "       'деревня Шпаньково', 'деревня Лаврики', 'посёлок Сумино',\n",
       "       'посёлок Возрождение', 'деревня Старосиверская',\n",
       "       'посёлок Кикерино', 'поселок Возрождение',\n",
       "       'деревня Старое Хинколово', 'посёлок Пригородный',\n",
       "       'посёлок Торфяное', 'городской посёлок Будогощь',\n",
       "       'поселок Суходолье', 'поселок Красная Долина', 'деревня Хапо-Ое',\n",
       "       'поселок городского типа Дружная Горка', 'поселок Лисий Нос',\n",
       "       'деревня Яльгелево', 'посёлок Стеклянный', 'село Рождествено',\n",
       "       'деревня Старополье', 'посёлок Левашово', 'деревня Сяськелево',\n",
       "       'деревня Камышовка',\n",
       "       'садоводческое некоммерческое товарищество Лесная Поляна',\n",
       "       'деревня Хязельки', 'поселок Жилгородок',\n",
       "       'посёлок городского типа Павлово', 'деревня Ялгино',\n",
       "       'поселок Новый Учхоз', 'городской посёлок Рощино',\n",
       "       'поселок Гончарово', 'поселок Почап', 'посёлок Сапёрное',\n",
       "       'посёлок Платформа 69-й километр', 'поселок Каложицы',\n",
       "       'деревня Фалилеево', 'деревня Пельгора',\n",
       "       'поселок городского типа Лесогорский', 'деревня Торошковичи',\n",
       "       'посёлок Белоостров', 'посёлок Алексеевка', 'поселок Серебрянский',\n",
       "       'поселок Лукаши', 'поселок Петровское', 'деревня Щеглово',\n",
       "       'поселок Мичуринское', 'деревня Тарасово', 'поселок Кингисеппский',\n",
       "       'посёлок при железнодорожной станции Вещево', 'поселок Ушаки',\n",
       "       'деревня Котлы', 'деревня Сижно', 'деревня Торосово',\n",
       "       'посёлок Форт Красная Горка', 'деревня Новолисино',\n",
       "       'посёлок станции Громово', 'деревня Глинка', 'посёлок Мельниково',\n",
       "       'поселок городского типа Назия', 'деревня Старая Пустошь',\n",
       "       'поселок Коммунары', 'поселок Починок',\n",
       "       'посёлок городского типа Вознесенье', 'деревня Разбегаево',\n",
       "       'посёлок городского типа Рябово', 'поселок Гладкое',\n",
       "       'посёлок при железнодорожной станции Приветнинское',\n",
       "       'поселок Тёсово-4', 'посёлок Жилгородок', 'деревня Бор',\n",
       "       'посёлок Коробицыно', 'деревня Большая Вруда', 'деревня Курковицы',\n",
       "       'посёлок Лисий Нос', 'городской посёлок Советский',\n",
       "       'посёлок Кобралово', 'деревня Суоранда', 'поселок Кобралово',\n",
       "       'поселок городского типа Кондратьево',\n",
       "       'коттеджный поселок Счастье', 'поселок Любань', 'деревня Реброво',\n",
       "       'деревня Зимитицы', 'деревня Тойворово', 'поселок Семиозерье',\n",
       "       'поселок Лесное', 'поселок Совхозный', 'поселок Усть-Луга',\n",
       "       'посёлок Ленинское', 'посёлок Суйда',\n",
       "       'посёлок городского типа Форносово', 'деревня Нижние Осельки',\n",
       "       'посёлок станции Свирь', 'поселок Перово', 'Высоцк',\n",
       "       'поселок Гарболово', 'село Шум', 'поселок Котельский',\n",
       "       'поселок станции Лужайка', 'деревня Большая Пустомержа',\n",
       "       'поселок Красносельское', 'деревня Вахнова Кара', 'деревня Пижма',\n",
       "       'коттеджный поселок Кивеннапа Север', 'поселок Коробицыно',\n",
       "       'поселок Ромашки', 'посёлок Перово', 'деревня Каськово',\n",
       "       'деревня Куровицы', 'посёлок Плоское', 'поселок Сумино',\n",
       "       'поселок городского типа Большая Ижора', 'поселок Кирпичное',\n",
       "       'деревня Ям-Тесово', 'деревня Раздолье', 'деревня Терпилицы',\n",
       "       'поселок городского типа Токсово', 'посёлок Шугозеро',\n",
       "       'деревня Ваганово', 'поселок Пушное', 'садовое товарищество Садко',\n",
       "       'посёлок Усть-Ижора', 'деревня Выскатка',\n",
       "       'городской посёлок Свирьстрой', 'поселок Громово',\n",
       "       'деревня Кисельня', 'посёлок Старая Малукса',\n",
       "       'деревня Трубников Бор', 'поселок Калитино',\n",
       "       'посёлок Высокоключевой', 'садовое товарищество Приладожский',\n",
       "       'посёлок Пансионат Зелёный Бор', 'деревня Ненимяки',\n",
       "       'поселок Пансионат Зелёный Бор', 'деревня Снегирёвка',\n",
       "       'деревня Рапполово', 'деревня Пустынка', 'поселок Рабитицы',\n",
       "       'деревня Большой Сабск', 'деревня Русско', 'деревня Лупполово',\n",
       "       'деревня Большое Рейзино', 'деревня Малая Романовка',\n",
       "       'поселок Дружноселье', 'поселок Пчевжа', 'поселок Володарское',\n",
       "       'деревня Нижняя', 'коттеджный посёлок Лесное', 'деревня Тихковицы',\n",
       "       'деревня Борисова Грива', 'посёлок Дзержинского'], dtype=object)"
      ]
     },
     "execution_count": 13,
     "metadata": {},
     "output_type": "execute_result"
    }
   ],
   "source": [
    "df = df.dropna(subset=['locality_name'])\n",
    "\n",
    "#Посмотрим, какие населенные пункты представлены\n",
    "df['locality_name'].unique()"
   ]
  },
  {
   "cell_type": "markdown",
   "metadata": {},
   "source": [
    "В таблице присутствуют много похожих значений, которые мы можем подвести под единый формат без потери смысловой нагрузки.\n",
    " - Буквы 'е' и 'ё' в слове посёлок. Поменяем все на 'е' - так удобнее и более привычно\n",
    " - городской поселок и поселок гордского типа. Оставим полное наименование\n",
    " - садовое товарищество и садоводческое некоммерческое товарищество. Оставим полное наименование\n",
    " - посёлок станции и посёлок при железнодорожной станции. Оставим полное наименование"
   ]
  },
  {
   "cell_type": "code",
   "execution_count": 14,
   "metadata": {},
   "outputs": [],
   "source": [
    "#Приведем похожие значения под один формат\n",
    "df['locality_name'] = df['locality_name'].replace('посёлок','поселок',regex=True)\n",
    "df['locality_name'] = df['locality_name'].replace('городской поселок', 'поселок городского типа',regex=True)\n",
    "df['locality_name'] = df['locality_name'].replace('садовое товарищество', 'садоводческое некоммерческое товарищество',regex=True)\n",
    "df['locality_name'] = df['locality_name'].replace('посёлок станции', 'посёлок при железнодорожной станции', regex=True)"
   ]
  },
  {
   "cell_type": "markdown",
   "metadata": {},
   "source": [
    "**Меняем типы в столбцах, в которых сейчас можем произвести замену**"
   ]
  },
  {
   "cell_type": "code",
   "execution_count": 15,
   "metadata": {},
   "outputs": [],
   "source": [
    "df['balcony'] = df['balcony'].astype('int')\n",
    "df['floors_total'] = df['floors_total'].astype('int')"
   ]
  },
  {
   "cell_type": "code",
   "execution_count": 16,
   "metadata": {},
   "outputs": [
    {
     "name": "stdout",
     "output_type": "stream",
     "text": [
      "<class 'pandas.core.frame.DataFrame'>\n",
      "Int64Index: 23565 entries, 0 to 23698\n",
      "Data columns (total 22 columns):\n",
      " #   Column                Non-Null Count  Dtype  \n",
      "---  ------                --------------  -----  \n",
      " 0   total_images          23565 non-null  int64  \n",
      " 1   last_price            23565 non-null  float64\n",
      " 2   total_area            23565 non-null  float64\n",
      " 3   first_day_exposition  23565 non-null  object \n",
      " 4   rooms                 23565 non-null  int64  \n",
      " 5   ceiling_height        23565 non-null  float64\n",
      " 6   floors_total          23565 non-null  int64  \n",
      " 7   living_area           21700 non-null  float64\n",
      " 8   floor                 23565 non-null  int64  \n",
      " 9   is_apartment          23565 non-null  bool   \n",
      " 10  studio                23565 non-null  bool   \n",
      " 11  open_plan             23565 non-null  bool   \n",
      " 12  kitchen_area          21343 non-null  float64\n",
      " 13  balcony               23565 non-null  int64  \n",
      " 14  locality_name         23565 non-null  object \n",
      " 15  airports_nearest      18041 non-null  float64\n",
      " 16  cityCenters_nearest   18064 non-null  float64\n",
      " 17  parks_around3000      18065 non-null  float64\n",
      " 18  parks_nearest         8030 non-null   float64\n",
      " 19  ponds_around3000      18065 non-null  float64\n",
      " 20  ponds_nearest         9036 non-null   float64\n",
      " 21  days_exposition       20394 non-null  float64\n",
      "dtypes: bool(3), float64(12), int64(5), object(2)\n",
      "memory usage: 3.7+ MB\n"
     ]
    }
   ],
   "source": [
    "#Обратимся к описанию\n",
    "df.info()"
   ]
  },
  {
   "cell_type": "markdown",
   "metadata": {},
   "source": [
    "Итог:\n",
    "1. Много \"нечистых\" данных, которые невозможно восполонить без обращения к сторонним источникам. Можно порекомендовать коллегам, которые предоставили данные, ввести в некоторые строки фильтры/выпадающие списки для упрощенрия анализа.\n",
    "\n",
    "\n",
    "2. Комментарии по некоторым колонкам:\n",
    " - first_day_exposition заменим в следующем этапе и приведем в более корректный формат.\n",
    " - living_area, kitchen_area, airports_nearest, cityCenters_nearest,parks_around3000, parks_nearest, ponds_around3000, ponds_nearest,days_exposition - Эти поля не представляется возможным заменить без обращения за дополнительной информацией. Было принято решение не заменять пропуски вообще.\n",
    " - days_exposition, parks_around3000, ponds_around3000 - данные поля предпочительнее будут выглядеть в формате целых чисел, но за присутсвием пропусков, пока оставим без изменений."
   ]
  },
  {
   "cell_type": "markdown",
   "metadata": {
    "id": "QCcvyY6YAwb-"
   },
   "source": [
    "### Добавьте в таблицу новые столбцы"
   ]
  },
  {
   "cell_type": "markdown",
   "metadata": {
    "id": "Z8eJek3IAwb-"
   },
   "source": [
    "#### Стоимость одного квадратного метра"
   ]
  },
  {
   "cell_type": "code",
   "execution_count": 17,
   "metadata": {},
   "outputs": [],
   "source": [
    "#Добавляем столбец и округляем до 2х занков\n",
    "df['price_per_mtr'] = (df['last_price']/df['total_area']).round(2)"
   ]
  },
  {
   "cell_type": "markdown",
   "metadata": {},
   "source": [
    "Переведем формат времени в более корректный тип. Добавим 3 новых столбца:\n",
    "- день недели публикации объявления (0 — понедельник, 1 — вторник и так далее)\n",
    "- месяц публикации объявления\n",
    "- год публикации объявления"
   ]
  },
  {
   "cell_type": "code",
   "execution_count": 18,
   "metadata": {},
   "outputs": [],
   "source": [
    "df['first_day_exposition'] = pd.to_datetime(df['first_day_exposition'], format='%Y-%m-%dT%S:%M:%H')\n",
    "df['published_day'] = df['first_day_exposition'].dt.weekday\n",
    "df['published_month'] = df['first_day_exposition'].dt.month\n",
    "df['published_year'] = df['first_day_exposition'].dt.year"
   ]
  },
  {
   "cell_type": "markdown",
   "metadata": {},
   "source": [
    "#### Тип этажа"
   ]
  },
  {
   "cell_type": "markdown",
   "metadata": {},
   "source": [
    "Добавим дополнительный столбец в таблицу, в котором укажем тип этажа:\n",
    "- первый\n",
    "- последний\n",
    "- другой"
   ]
  },
  {
   "cell_type": "code",
   "execution_count": 19,
   "metadata": {},
   "outputs": [],
   "source": [
    "#Ресетнем индексы, чтобы избежать ошибок в работе цикле\n",
    "df = df.reset_index(drop=True)\n",
    "#Создаем цикл в котором будут перебираться данные и добавляться в таблицу по заданным значениям\n",
    "for i in range(len(df)):\n",
    "    if df.loc[i, 'floor'] == 1:\n",
    "        df.loc[i, 'floor_type'] = 'первый'\n",
    "    elif df.loc[i, 'floor'] == df.loc[i, 'floors_total']:\n",
    "        df.loc[i, 'floor_type'] = 'последний'\n",
    "    else:\n",
    "        df.loc[i, 'floor_type'] = 'другой'"
   ]
  },
  {
   "cell_type": "markdown",
   "metadata": {},
   "source": [
    "#### Расстояние до центра города в километрах"
   ]
  },
  {
   "cell_type": "code",
   "execution_count": 20,
   "metadata": {},
   "outputs": [],
   "source": [
    "df['city_centre_km'] = df['cityCenters_nearest'] / 1000\n",
    "df['city_centre_km'] = df['city_centre_km'].round()"
   ]
  },
  {
   "cell_type": "markdown",
   "metadata": {
    "id": "pPyxrKWTAwb-"
   },
   "source": [
    "### Проведите исследовательский анализ данных"
   ]
  },
  {
   "cell_type": "markdown",
   "metadata": {},
   "source": [
    "Для продолжения анализа детальнее рассмотрим ряд параметров."
   ]
  },
  {
   "cell_type": "markdown",
   "metadata": {
    "id": "V2f0D3kLAwb-"
   },
   "source": [
    "#### 1. Общая площадь"
   ]
  },
  {
   "cell_type": "code",
   "execution_count": 21,
   "metadata": {},
   "outputs": [
    {
     "data": {
      "text/plain": [
       "count    23565.000000\n",
       "mean        60.322824\n",
       "std         35.657060\n",
       "min         12.000000\n",
       "25%         40.000000\n",
       "50%         52.000000\n",
       "75%         69.700000\n",
       "max        900.000000\n",
       "Name: total_area, dtype: float64"
      ]
     },
     "execution_count": 21,
     "metadata": {},
     "output_type": "execute_result"
    }
   ],
   "source": [
    "df['total_area'].describe()"
   ]
  },
  {
   "cell_type": "markdown",
   "metadata": {},
   "source": [
    "Судя по описанию колонки и визуализации на гистограмме - значений после 200 мало, а есть и единичные выбросы аномально больших значений. Возьмем выборку до 200, сначала узнав сколько таких значений."
   ]
  },
  {
   "cell_type": "code",
   "execution_count": 22,
   "metadata": {},
   "outputs": [
    {
     "data": {
      "text/plain": [
       "230"
      ]
     },
     "execution_count": 22,
     "metadata": {},
     "output_type": "execute_result"
    }
   ],
   "source": [
    "#Проверяем количество значений\n",
    "len(df.query('total_area >= 200'))"
   ]
  },
  {
   "cell_type": "markdown",
   "metadata": {},
   "source": [
    "Значений 230, предлагаю их удалить и изучить параметр более детально. Предположительно, могут быть очень маленькие по метражу квартиры, оставим минимальные значения без изменений."
   ]
  },
  {
   "cell_type": "code",
   "execution_count": 23,
   "metadata": {},
   "outputs": [
    {
     "data": {
      "image/png": "[encoded data removed]",
      "text/plain": [
       "<Figure size 432x288 with 1 Axes>"
      ]
     },
     "metadata": {
      "needs_background": "light"
     },
     "output_type": "display_data"
    }
   ],
   "source": [
    "#Сортируем\n",
    "df = df.query('total_area <= 200')\n",
    "#Изучим новый график\n",
    "df['total_area'].hist(bins=100)\n",
    "plt.show()"
   ]
  },
  {
   "cell_type": "code",
   "execution_count": 24,
   "metadata": {},
   "outputs": [
    {
     "data": {
      "text/plain": [
       "0         (74.0, 200.0]\n",
       "1          (37.4, 45.7]\n",
       "2          (45.7, 57.8]\n",
       "3         (74.0, 200.0]\n",
       "4         (74.0, 200.0]\n",
       "              ...      \n",
       "23560     (74.0, 200.0]\n",
       "23561      (57.8, 74.0]\n",
       "23562      (45.7, 57.8]\n",
       "23563     (74.0, 200.0]\n",
       "23564    (11.999, 37.4]\n",
       "Name: total_area, Length: 23339, dtype: category\n",
       "Categories (5, interval[float64]): [(11.999, 37.4] < (37.4, 45.7] < (45.7, 57.8] < (57.8, 74.0] < (74.0, 200.0]]"
      ]
     },
     "execution_count": 24,
     "metadata": {},
     "output_type": "execute_result"
    }
   ],
   "source": [
    "#Разделим столбец на 5 равных интервалов\n",
    "pd.qcut(df['total_area'], 5)"
   ]
  },
  {
   "cell_type": "markdown",
   "metadata": {},
   "source": [
    "Вывод: больше всего квартир в зависимости от общей площади представлены в промежутке от 27 до 60 квадратных метров. Присутствуют и квартиры, которые можно назвать сегментом выше среднего и премиальным - в промежутке от 74 до 200 квадратных метров (составляет 20% из выборки)."
   ]
  },
  {
   "cell_type": "markdown",
   "metadata": {},
   "source": [
    "#### Жилая площадь"
   ]
  },
  {
   "cell_type": "code",
   "execution_count": 25,
   "metadata": {},
   "outputs": [
    {
     "data": {
      "text/plain": [
       "count    21502.000000\n",
       "mean        33.248079\n",
       "std         17.368396\n",
       "min          2.000000\n",
       "25%         18.600000\n",
       "50%         30.000000\n",
       "75%         42.000000\n",
       "max        164.700000\n",
       "Name: living_area, dtype: float64"
      ]
     },
     "execution_count": 25,
     "metadata": {},
     "output_type": "execute_result"
    }
   ],
   "source": [
    "df['living_area'].describe()"
   ]
  },
  {
   "cell_type": "markdown",
   "metadata": {},
   "source": [
    "Видны выбивающиеся значения по гистограмме. Выберем интервал от 10 до 100 квардратных метров."
   ]
  },
  {
   "cell_type": "code",
   "execution_count": 26,
   "metadata": {},
   "outputs": [
    {
     "data": {
      "text/plain": [
       "0"
      ]
     },
     "execution_count": 26,
     "metadata": {},
     "output_type": "execute_result"
    }
   ],
   "source": [
    "len(df.query('living_area >= 100 and living_area <= 10'))"
   ]
  },
  {
   "cell_type": "markdown",
   "metadata": {},
   "source": [
    "Значений мало - удаляем."
   ]
  },
  {
   "cell_type": "code",
   "execution_count": 27,
   "metadata": {},
   "outputs": [
    {
     "data": {
      "image/png": "[encoded data removed]",
      "text/plain": [
       "<Figure size 432x288 with 1 Axes>"
      ]
     },
     "metadata": {
      "needs_background": "light"
     },
     "output_type": "display_data"
    }
   ],
   "source": [
    "df = df[(df['living_area'].isna()) | ((df['living_area'] <= 100) & (df['living_area'] >=10))]\n",
    "df['living_area'].hist(bins=100)\n",
    "plt.show()"
   ]
  },
  {
   "cell_type": "markdown",
   "metadata": {},
   "source": [
    "Вывод: представлены квартиры в большинстве своем имеют площадь жилой зоны около 17 и 30 квадратных метров, также существует квартиры \"премиум\" сегмента с 60 до 100 метров. Пики обусловлены квартирами-студиями и однокомнатными квартирами."
   ]
  },
  {
   "cell_type": "markdown",
   "metadata": {},
   "source": [
    "#### Площадь кухни"
   ]
  },
  {
   "cell_type": "code",
   "execution_count": 28,
   "metadata": {
    "scrolled": true
   },
   "outputs": [
    {
     "data": {
      "text/plain": [
       "count    20956.000000\n",
       "mean        10.309088\n",
       "std          5.291097\n",
       "min          1.300000\n",
       "25%          7.000000\n",
       "50%          9.000000\n",
       "75%         11.800000\n",
       "max         93.200000\n",
       "Name: kitchen_area, dtype: float64"
      ]
     },
     "execution_count": 28,
     "metadata": {},
     "output_type": "execute_result"
    }
   ],
   "source": [
    "df['kitchen_area'].describe()"
   ]
  },
  {
   "cell_type": "markdown",
   "metadata": {},
   "source": [
    "Размер кухни в 1.3 и квадрата выглядит неправдоподобно, как и 93. Рассмотримм промежуток с 3 до 30, с учетом пропущенных значений."
   ]
  },
  {
   "cell_type": "code",
   "execution_count": 29,
   "metadata": {},
   "outputs": [
    {
     "data": {
      "image/png": "[encoded data removed]",
      "text/plain": [
       "<Figure size 432x288 with 1 Axes>"
      ]
     },
     "metadata": {
      "needs_background": "light"
     },
     "output_type": "display_data"
    }
   ],
   "source": [
    "df = df[(df['kitchen_area'].isna()) | ((df['kitchen_area'] <= 30) & (df['kitchen_area'] > 4))]\n",
    "df['kitchen_area'].hist(bins=100)\n",
    "plt.show()"
   ]
  },
  {
   "cell_type": "markdown",
   "metadata": {},
   "source": [
    "Судя по графику, размер кухни может быть абсолютно разный больше всего квартир имеют размеры 7-10 квадратов. Выделим, что существуют \"большие\" кухни (>15 квадратных метров), скорее всего это кухни-гостинные."
   ]
  },
  {
   "cell_type": "markdown",
   "metadata": {},
   "source": [
    "#### Цена"
   ]
  },
  {
   "cell_type": "code",
   "execution_count": 30,
   "metadata": {},
   "outputs": [
    {
     "data": {
      "text/plain": [
       "count    2.284500e+04\n",
       "mean     5.712200e+06\n",
       "std      4.752611e+06\n",
       "min      4.300000e+05\n",
       "25%      3.400000e+06\n",
       "50%      4.570000e+06\n",
       "75%      6.500000e+06\n",
       "max      1.240000e+08\n",
       "Name: last_price, dtype: float64"
      ]
     },
     "execution_count": 30,
     "metadata": {},
     "output_type": "execute_result"
    }
   ],
   "source": [
    "df['last_price'].describe()"
   ]
  },
  {
   "cell_type": "markdown",
   "metadata": {},
   "source": [
    "Так как цены имеют большие значения, для простоты и наглядности добавим столбец с сокращенной стоимостью."
   ]
  },
  {
   "cell_type": "code",
   "execution_count": 31,
   "metadata": {},
   "outputs": [],
   "source": [
    "df['last_price_new'] = df['last_price'] // 100000"
   ]
  },
  {
   "cell_type": "markdown",
   "metadata": {},
   "source": [
    "Уберем из таблицы сильно выбивающиейся значения, рассмотрим только диапазон до 20кк"
   ]
  },
  {
   "cell_type": "code",
   "execution_count": 32,
   "metadata": {},
   "outputs": [
    {
     "data": {
      "text/plain": [
       "368"
      ]
     },
     "execution_count": 32,
     "metadata": {},
     "output_type": "execute_result"
    }
   ],
   "source": [
    "len(df.query('last_price_new >= 200'))"
   ]
  },
  {
   "cell_type": "code",
   "execution_count": 33,
   "metadata": {
    "scrolled": true
   },
   "outputs": [
    {
     "data": {
      "image/png": "[encoded data removed]",
      "text/plain": [
       "<Figure size 432x288 with 1 Axes>"
      ]
     },
     "metadata": {
      "needs_background": "light"
     },
     "output_type": "display_data"
    }
   ],
   "source": [
    "df = df.query('last_price_new <= 200')\n",
    "df['last_price_new'].hist(bins=100)\n",
    "plt.show()"
   ]
  },
  {
   "cell_type": "markdown",
   "metadata": {},
   "source": [
    "Вывод: в среднем стоимость квартиры колеблется в диапозоне от 3кк до 5кк"
   ]
  },
  {
   "cell_type": "markdown",
   "metadata": {},
   "source": [
    "#### Количество комнат"
   ]
  },
  {
   "cell_type": "code",
   "execution_count": 34,
   "metadata": {},
   "outputs": [
    {
     "data": {
      "text/plain": [
       "count    22489.000000\n",
       "mean         1.985815\n",
       "std          0.943260\n",
       "min          0.000000\n",
       "25%          1.000000\n",
       "50%          2.000000\n",
       "75%          3.000000\n",
       "max          7.000000\n",
       "Name: rooms, dtype: float64"
      ]
     },
     "execution_count": 34,
     "metadata": {},
     "output_type": "execute_result"
    }
   ],
   "source": [
    "df['rooms'].describe()"
   ]
  },
  {
   "cell_type": "markdown",
   "metadata": {},
   "source": [
    "Отсортируем, удалим значения 0 и больше 5"
   ]
  },
  {
   "cell_type": "code",
   "execution_count": 35,
   "metadata": {},
   "outputs": [
    {
     "data": {
      "image/png": "[encoded data removed]",
      "text/plain": [
       "<Figure size 432x288 with 1 Axes>"
      ]
     },
     "metadata": {
      "needs_background": "light"
     },
     "output_type": "display_data"
    }
   ],
   "source": [
    "df = df.query('rooms < 6 and rooms > 0')\n",
    "df['rooms'].hist(bins=50)\n",
    "plt.show()"
   ]
  },
  {
   "cell_type": "markdown",
   "metadata": {},
   "source": [
    "Вывод: самое большое количество квартир имеют от 1 до 3 комнат. Квартиры с более чем 3 комнатами встречаются очень редко."
   ]
  },
  {
   "cell_type": "markdown",
   "metadata": {},
   "source": [
    "#### Высота потолка"
   ]
  },
  {
   "cell_type": "code",
   "execution_count": 36,
   "metadata": {},
   "outputs": [
    {
     "data": {
      "text/plain": [
       "count    22274.000000\n",
       "mean         2.710617\n",
       "std          0.999995\n",
       "min          1.000000\n",
       "25%          2.600000\n",
       "50%          2.650000\n",
       "75%          2.700000\n",
       "max        100.000000\n",
       "Name: ceiling_height, dtype: float64"
      ]
     },
     "execution_count": 36,
     "metadata": {},
     "output_type": "execute_result"
    }
   ],
   "source": [
    "df['ceiling_height'].describe()"
   ]
  },
  {
   "cell_type": "code",
   "execution_count": 37,
   "metadata": {},
   "outputs": [
    {
     "data": {
      "text/plain": [
       "22739    100.0\n",
       "22211     32.0\n",
       "3134      32.0\n",
       "21256     27.5\n",
       "5219      27.0\n",
       "21700     27.0\n",
       "20364     27.0\n",
       "22807     27.0\n",
       "17756     27.0\n",
       "5777      27.0\n",
       "10713     27.0\n",
       "5641      26.0\n",
       "18442     25.0\n",
       "4621      25.0\n",
       "11221     25.0\n",
       "14298     25.0\n",
       "353       25.0\n",
       "9334      25.0\n",
       "6213      25.0\n",
       "5051      24.0\n",
       "20393     22.6\n",
       "17399     20.0\n",
       "14975     14.0\n",
       "22184     10.3\n",
       "5833       8.3\n",
       "15656      8.0\n",
       "3459       8.0\n",
       "17345      8.0\n",
       "12557      5.3\n",
       "1049       5.0\n",
       "Name: ceiling_height, dtype: float64"
      ]
     },
     "execution_count": 37,
     "metadata": {},
     "output_type": "execute_result"
    }
   ],
   "source": [
    "#Проверим самые большие значения, так как можем скорректировать некоторые значения самостоятельно\n",
    "df['ceiling_height'].sort_values(ascending=False).head(30)"
   ]
  },
  {
   "cell_type": "markdown",
   "metadata": {},
   "source": [
    "Предположим, аномальные значения (2 значные числа) связаны с человеческой ошибкой. Передвинем дробную часть на 1 знак влево. Значение 100 единичное и не понятна его природа - удаляем."
   ]
  },
  {
   "cell_type": "code",
   "execution_count": 38,
   "metadata": {},
   "outputs": [],
   "source": [
    "df = df.reset_index(drop=True)\n",
    "for i in range(len(df)):\n",
    "    if df.loc[i, 'ceiling_height'] > 10:\n",
    "        df.loc[i, 'ceiling_height'] /= 10\n",
    "\n",
    "df = df.query('ceiling_height < 10')\n"
   ]
  },
  {
   "cell_type": "markdown",
   "metadata": {},
   "source": [
    "Для анализа выберем диапазон значений с 2 до 4 метров."
   ]
  },
  {
   "cell_type": "code",
   "execution_count": 39,
   "metadata": {},
   "outputs": [
    {
     "data": {
      "image/png": "[encoded data removed]",
      "text/plain": [
       "<Figure size 432x288 with 1 Axes>"
      ]
     },
     "metadata": {
      "needs_background": "light"
     },
     "output_type": "display_data"
    }
   ],
   "source": [
    "df = df.query('ceiling_height < 4 and ceiling_height > 2')\n",
    "df['ceiling_height'].hist(bins=50)\n",
    "plt.show()"
   ]
  },
  {
   "cell_type": "markdown",
   "metadata": {},
   "source": [
    "Вывод: больше всего представлено квартир с высотой потолка от 2.5 до 2,75 метров."
   ]
  },
  {
   "cell_type": "markdown",
   "metadata": {},
   "source": [
    "#### Тип этажа"
   ]
  },
  {
   "cell_type": "code",
   "execution_count": 40,
   "metadata": {},
   "outputs": [
    {
     "data": {
      "image/png": "[encoded data removed]",
      "text/plain": [
       "<Figure size 432x288 with 1 Axes>"
      ]
     },
     "metadata": {
      "needs_background": "light"
     },
     "output_type": "display_data"
    }
   ],
   "source": [
    "df['floor_type'].hist(bins=10)\n",
    "plt.show()"
   ]
  },
  {
   "cell_type": "markdown",
   "metadata": {},
   "source": [
    "Вывод: больше всего квартир представлены ни на первом, ни на последнем этаже."
   ]
  },
  {
   "cell_type": "markdown",
   "metadata": {},
   "source": [
    "#### Общее количество этажей"
   ]
  },
  {
   "cell_type": "code",
   "execution_count": 41,
   "metadata": {},
   "outputs": [
    {
     "data": {
      "text/plain": [
       "count    22198.000000\n",
       "mean        10.728084\n",
       "std          6.604474\n",
       "min          1.000000\n",
       "25%          5.000000\n",
       "50%          9.000000\n",
       "75%         16.000000\n",
       "max         60.000000\n",
       "Name: floors_total, dtype: float64"
      ]
     },
     "execution_count": 41,
     "metadata": {},
     "output_type": "execute_result"
    }
   ],
   "source": [
    "df['floors_total'].describe()"
   ]
  },
  {
   "cell_type": "markdown",
   "metadata": {},
   "source": [
    "Выделим и удалим аномальные значения, возьмем выборку домов, в которых до 30 этажей."
   ]
  },
  {
   "cell_type": "code",
   "execution_count": 42,
   "metadata": {},
   "outputs": [
    {
     "data": {
      "text/plain": [
       "29"
      ]
     },
     "execution_count": 42,
     "metadata": {},
     "output_type": "execute_result"
    }
   ],
   "source": [
    "len(df.query('floors_total > 30'))"
   ]
  },
  {
   "cell_type": "code",
   "execution_count": 43,
   "metadata": {},
   "outputs": [
    {
     "data": {
      "image/png": "[encoded data removed]",
      "text/plain": [
       "<Figure size 432x288 with 1 Axes>"
      ]
     },
     "metadata": {
      "needs_background": "light"
     },
     "output_type": "display_data"
    }
   ],
   "source": [
    "df = df.query('floors_total < 30')\n",
    "df['floors_total'].hist(bins=100)\n",
    "plt.show()"
   ]
  },
  {
   "cell_type": "markdown",
   "metadata": {},
   "source": [
    "Вывод: подавляющее количество домов, в которых продаются квартиры имеют по 5 и 9 этажей."
   ]
  },
  {
   "cell_type": "markdown",
   "metadata": {},
   "source": [
    "#### Расстояние от центра города"
   ]
  },
  {
   "cell_type": "code",
   "execution_count": 44,
   "metadata": {},
   "outputs": [
    {
     "data": {
      "text/plain": [
       "count    16805.000000\n",
       "mean        14.614162\n",
       "std          8.580223\n",
       "min          0.000000\n",
       "25%         10.000000\n",
       "50%         13.000000\n",
       "75%         16.000000\n",
       "max         66.000000\n",
       "Name: city_centre_km, dtype: float64"
      ]
     },
     "execution_count": 44,
     "metadata": {},
     "output_type": "execute_result"
    }
   ],
   "source": [
    "df['city_centre_km'].describe()"
   ]
  },
  {
   "cell_type": "markdown",
   "metadata": {},
   "source": [
    "Напомним, что данное поле было заполнено системой автоматически. Не все значения были даны изначально, много пропусков, которые невозможно восстановить самостоятельно. Чтобы не уменьшать еще сильнее выборку, оставим данные диапазоны."
   ]
  },
  {
   "cell_type": "code",
   "execution_count": 45,
   "metadata": {},
   "outputs": [
    {
     "data": {
      "image/png": "[encoded data removed]",
      "text/plain": [
       "<Figure size 432x288 with 1 Axes>"
      ]
     },
     "metadata": {
      "needs_background": "light"
     },
     "output_type": "display_data"
    }
   ],
   "source": [
    "df['city_centre_km'].hist(bins=200)\n",
    "plt.show()"
   ]
  },
  {
   "cell_type": "markdown",
   "metadata": {},
   "source": [
    "Вывод: невозможно точно сказать как система определила где находится центр, город неравномерный. Больше всего представлены квартиры, находяшиеся на расстоянии 12-16 киломентров от центра"
   ]
  },
  {
   "cell_type": "markdown",
   "metadata": {},
   "source": [
    "#### Расстояние до ближайшего парка"
   ]
  },
  {
   "cell_type": "code",
   "execution_count": 46,
   "metadata": {},
   "outputs": [
    {
     "data": {
      "text/plain": [
       "count    7251.000000\n",
       "mean      493.636326\n",
       "std       340.804577\n",
       "min         1.000000\n",
       "25%       289.000000\n",
       "50%       456.000000\n",
       "75%       616.500000\n",
       "max      3190.000000\n",
       "Name: parks_nearest, dtype: float64"
      ]
     },
     "execution_count": 46,
     "metadata": {},
     "output_type": "execute_result"
    }
   ],
   "source": [
    "df['parks_nearest'].describe()"
   ]
  },
  {
   "cell_type": "markdown",
   "metadata": {},
   "source": [
    "Поступим аналогично **расстоянию до центра города**."
   ]
  },
  {
   "cell_type": "code",
   "execution_count": 47,
   "metadata": {},
   "outputs": [
    {
     "data": {
      "image/png": "[encoded data removed]",
      "text/plain": [
       "<Figure size 432x288 with 1 Axes>"
      ]
     },
     "metadata": {
      "needs_background": "light"
     },
     "output_type": "display_data"
    }
   ],
   "source": [
    "df['parks_nearest'].hist(bins=200)\n",
    "plt.show()"
   ]
  },
  {
   "cell_type": "markdown",
   "metadata": {},
   "source": [
    "Вывод: существует минимальное значение (1 метр), предположим, что такое возможно, как и факт ближайшего парка в 3 километра. Больше всего квартир представлено в диапазоне от 250 до 600 на расстоянии до ближайшего парка."
   ]
  },
  {
   "cell_type": "code",
   "execution_count": 48,
   "metadata": {},
   "outputs": [
    {
     "name": "stdout",
     "output_type": "stream",
     "text": [
      "<class 'pandas.core.frame.DataFrame'>\n",
      "Int64Index: 22169 entries, 0 to 22273\n",
      "Data columns (total 29 columns):\n",
      " #   Column                Non-Null Count  Dtype         \n",
      "---  ------                --------------  -----         \n",
      " 0   total_images          22169 non-null  int64         \n",
      " 1   last_price            22169 non-null  float64       \n",
      " 2   total_area            22169 non-null  float64       \n",
      " 3   first_day_exposition  22169 non-null  datetime64[ns]\n",
      " 4   rooms                 22169 non-null  int64         \n",
      " 5   ceiling_height        22169 non-null  float64       \n",
      " 6   floors_total          22169 non-null  int64         \n",
      " 7   living_area           20432 non-null  float64       \n",
      " 8   floor                 22169 non-null  int64         \n",
      " 9   is_apartment          22169 non-null  bool          \n",
      " 10  studio                22169 non-null  bool          \n",
      " 11  open_plan             22169 non-null  bool          \n",
      " 12  kitchen_area          20245 non-null  float64       \n",
      " 13  balcony               22169 non-null  int64         \n",
      " 14  locality_name         22169 non-null  object        \n",
      " 15  airports_nearest      16788 non-null  float64       \n",
      " 16  cityCenters_nearest   16805 non-null  float64       \n",
      " 17  parks_around3000      16806 non-null  float64       \n",
      " 18  parks_nearest         7251 non-null   float64       \n",
      " 19  ponds_around3000      16806 non-null  float64       \n",
      " 20  ponds_nearest         8166 non-null   float64       \n",
      " 21  days_exposition       19324 non-null  float64       \n",
      " 22  price_per_mtr         22169 non-null  float64       \n",
      " 23  published_day         22169 non-null  int64         \n",
      " 24  published_month       22169 non-null  int64         \n",
      " 25  published_year        22169 non-null  int64         \n",
      " 26  floor_type            22169 non-null  object        \n",
      " 27  city_centre_km        16805 non-null  float64       \n",
      " 28  last_price_new        22169 non-null  float64       \n",
      "dtypes: bool(3), datetime64[ns](1), float64(15), int64(8), object(2)\n",
      "memory usage: 4.6+ MB\n"
     ]
    }
   ],
   "source": [
    "df.info()"
   ]
  },
  {
   "cell_type": "markdown",
   "metadata": {},
   "source": [
    "**Изучим насколько быстро продавались квартиры**"
   ]
  },
  {
   "cell_type": "code",
   "execution_count": 49,
   "metadata": {},
   "outputs": [
    {
     "data": {
      "text/plain": [
       "count    19324.000000\n",
       "mean       176.812202\n",
       "std        215.067393\n",
       "min          1.000000\n",
       "25%         44.000000\n",
       "50%         93.000000\n",
       "75%        225.000000\n",
       "max       1580.000000\n",
       "Name: days_exposition, dtype: float64"
      ]
     },
     "execution_count": 49,
     "metadata": {},
     "output_type": "execute_result"
    }
   ],
   "source": [
    "df['days_exposition'].describe()"
   ]
  },
  {
   "cell_type": "code",
   "execution_count": 50,
   "metadata": {},
   "outputs": [
    {
     "data": {
      "image/png": "[encoded data removed]",
      "text/plain": [
       "<Figure size 432x288 with 1 Axes>"
      ]
     },
     "metadata": {
      "needs_background": "light"
     },
     "output_type": "display_data"
    }
   ],
   "source": [
    "df['days_exposition'].hist(bins=200)\n",
    "plt.show()"
   ]
  },
  {
   "cell_type": "markdown",
   "metadata": {},
   "source": [
    "Разделим на 4 категорий, таким образом поделим на категории по скорости продажи."
   ]
  },
  {
   "cell_type": "code",
   "execution_count": 51,
   "metadata": {},
   "outputs": [
    {
     "data": {
      "text/plain": [
       "0                    NaN\n",
       "1           (44.0, 93.0]\n",
       "2        (225.0, 1580.0]\n",
       "3           (44.0, 93.0]\n",
       "4          (93.0, 225.0]\n",
       "              ...       \n",
       "22269                NaN\n",
       "22270       (44.0, 93.0]\n",
       "22271                NaN\n",
       "22272    (225.0, 1580.0]\n",
       "22273                NaN\n",
       "Name: days_exposition, Length: 22169, dtype: category\n",
       "Categories (4, interval[float64]): [(0.999, 44.0] < (44.0, 93.0] < (93.0, 225.0] < (225.0, 1580.0]]"
      ]
     },
     "execution_count": 51,
     "metadata": {},
     "output_type": "execute_result"
    }
   ],
   "source": [
    "pd.qcut(df['days_exposition'], 4)"
   ]
  },
  {
   "cell_type": "markdown",
   "metadata": {},
   "source": [
    "Вывод: большинство квартир продаются за первые полгода. Медиана скорости продажи - 100 дней, средняя скорость продажи - 182 дня. Разделим на 4 категории продаж:\n",
    "- очень быстрая продажа (до 44 дней)\n",
    "- быстрая продажа (от 45 до 99 дней)\n",
    "- средняя продажа (от 100 до 232 дней)\n",
    "- долгая продажа (дольше 233 дней)"
   ]
  },
  {
   "cell_type": "markdown",
   "metadata": {},
   "source": [
    "**Определение факторов, влияющих на общую стоимость квартиры**"
   ]
  },
  {
   "cell_type": "markdown",
   "metadata": {},
   "source": [
    "#### Общая площадь"
   ]
  },
  {
   "cell_type": "code",
   "execution_count": 52,
   "metadata": {},
   "outputs": [
    {
     "data": {
      "image/png": "[encoded data removed]",
      "text/plain": [
       "<Figure size 432x288 with 1 Axes>"
      ]
     },
     "metadata": {
      "needs_background": "light"
     },
     "output_type": "display_data"
    }
   ],
   "source": [
    "#Строим диаграмму расброса\n",
    "df.plot.scatter(x='total_area', y='last_price', grid=True)\n",
    "plt.show()"
   ]
  },
  {
   "cell_type": "code",
   "execution_count": 53,
   "metadata": {},
   "outputs": [
    {
     "data": {
      "text/plain": [
       "0.756406825512266"
      ]
     },
     "execution_count": 53,
     "metadata": {},
     "output_type": "execute_result"
    }
   ],
   "source": [
    "df['last_price'].corr(df['total_area'])"
   ]
  },
  {
   "cell_type": "markdown",
   "metadata": {},
   "source": [
    "Вывод: по графику понятно - от общей площади квартиры прямо зависит и ее стоимость. ПО корреляции видна сильная положительная связь."
   ]
  },
  {
   "cell_type": "markdown",
   "metadata": {},
   "source": [
    "#### Жилая площадь"
   ]
  },
  {
   "cell_type": "code",
   "execution_count": 54,
   "metadata": {},
   "outputs": [
    {
     "data": {
      "image/png": "[encoded data removed]",
      "text/plain": [
       "<Figure size 432x288 with 1 Axes>"
      ]
     },
     "metadata": {
      "needs_background": "light"
     },
     "output_type": "display_data"
    }
   ],
   "source": [
    "df.plot.scatter(x='living_area', y='last_price', grid=True)\n",
    "plt.show()"
   ]
  },
  {
   "cell_type": "code",
   "execution_count": 55,
   "metadata": {},
   "outputs": [
    {
     "data": {
      "text/plain": [
       "0.6445533642690999"
      ]
     },
     "execution_count": 55,
     "metadata": {},
     "output_type": "execute_result"
    }
   ],
   "source": [
    "df['last_price'].corr(df['living_area'])"
   ]
  },
  {
   "cell_type": "markdown",
   "metadata": {},
   "source": [
    "Вывод: ситуация такая же как и с общей площадью - чем выше жилая площадь, тем выше стоимость квартиры. Наблюдается умеренная положительная связь."
   ]
  },
  {
   "cell_type": "markdown",
   "metadata": {},
   "source": [
    "#### Площадь кухни"
   ]
  },
  {
   "cell_type": "code",
   "execution_count": 56,
   "metadata": {},
   "outputs": [
    {
     "data": {
      "image/png": "[encoded data removed]",
      "text/plain": [
       "<Figure size 432x288 with 1 Axes>"
      ]
     },
     "metadata": {
      "needs_background": "light"
     },
     "output_type": "display_data"
    }
   ],
   "source": [
    "df.plot.scatter(x='kitchen_area', y='last_price', grid=True)\n",
    "plt.show()"
   ]
  },
  {
   "cell_type": "code",
   "execution_count": 57,
   "metadata": {},
   "outputs": [
    {
     "data": {
      "text/plain": [
       "0.5563091054107341"
      ]
     },
     "execution_count": 57,
     "metadata": {},
     "output_type": "execute_result"
    }
   ],
   "source": [
    "df['last_price'].corr(df['kitchen_area'])"
   ]
  },
  {
   "cell_type": "markdown",
   "metadata": {},
   "source": [
    "Вывод: Прямая зависимость - чем выше площадь кухни, тем выше стоимость квартиры, но корреляция меньше, чем в случае с общей и жилой площадью."
   ]
  },
  {
   "cell_type": "markdown",
   "metadata": {},
   "source": [
    "#### Количество комнат"
   ]
  },
  {
   "cell_type": "code",
   "execution_count": 58,
   "metadata": {},
   "outputs": [
    {
     "data": {
      "image/png": "[encoded data removed]",
      "text/plain": [
       "<Figure size 432x288 with 1 Axes>"
      ]
     },
     "metadata": {
      "needs_background": "light"
     },
     "output_type": "display_data"
    }
   ],
   "source": [
    "price_rooms = df.pivot_table(index = 'rooms', values = 'last_price', aggfunc='median').sort_values(by='last_price').reset_index()\n",
    "price_rooms.plot.bar(x='rooms', y='last_price')\n",
    "plt.show()"
   ]
  },
  {
   "cell_type": "code",
   "execution_count": 59,
   "metadata": {},
   "outputs": [
    {
     "data": {
      "text/plain": [
       "0.4742243860751841"
      ]
     },
     "execution_count": 59,
     "metadata": {},
     "output_type": "execute_result"
    }
   ],
   "source": [
    "df['rooms'].corr(df['last_price'])"
   ]
  },
  {
   "cell_type": "markdown",
   "metadata": {},
   "source": [
    "Вывод: закономерно, чем выше количество комнат в квартире, тем выше будет ее стоимость."
   ]
  },
  {
   "cell_type": "markdown",
   "metadata": {},
   "source": [
    "#### Тип этажа"
   ]
  },
  {
   "cell_type": "code",
   "execution_count": 60,
   "metadata": {},
   "outputs": [
    {
     "data": {
      "image/png": "[encoded data removed]",
      "text/plain": [
       "<Figure size 432x288 with 1 Axes>"
      ]
     },
     "metadata": {
      "needs_background": "light"
     },
     "output_type": "display_data"
    }
   ],
   "source": [
    "price_rooms = df.pivot_table(index = 'floor_type', values = 'last_price',aggfunc='median').sort_values(by='last_price').reset_index()\n",
    "price_rooms.plot.bar(x='floor_type', y='last_price')\n",
    "plt.show()"
   ]
  },
  {
   "cell_type": "markdown",
   "metadata": {},
   "source": [
    "Вывод: склоняюсь, какая может быть причина пропости в значениях - маленький спроса на квартиры первого этажа(мало желающих жить на первом этаже), для удачнйо продажи прибегают к снижению стоимости. Примечательно, что на последнем этаже стоимость квартир тоже относительно невысокая в сравнении из категории \"другой\"."
   ]
  },
  {
   "cell_type": "markdown",
   "metadata": {},
   "source": [
    "#### День размещения"
   ]
  },
  {
   "cell_type": "code",
   "execution_count": 61,
   "metadata": {},
   "outputs": [
    {
     "data": {
      "image/png": "[encoded data removed]",
      "text/plain": [
       "<Figure size 432x288 with 1 Axes>"
      ]
     },
     "metadata": {
      "needs_background": "light"
     },
     "output_type": "display_data"
    }
   ],
   "source": [
    "price_day = df.pivot_table(index = 'published_day', values = 'last_price').sort_values(by='last_price').reset_index()\n",
    "price_day['published_day'] = price_day['published_day'].replace({0: 'Понедельник', 1: 'Вторник', 2: 'Среда', 3: 'Четверг', 4: 'Пятница', 5: 'Суббота', 6: 'Воскресенье'})\n",
    "price_day.plot.bar(x='published_day', y='last_price')\n",
    "plt.show()"
   ]
  },
  {
   "cell_type": "markdown",
   "metadata": {},
   "source": [
    "Расброс не очень высокий, связываю это с погрешностью, думаю, чем больше будет выборка, тем более значения будут выровняться. В целом, спрос на покупку квартиры больше по четвергам, когда в выходные люди проедпочитают отдыхать, а не думать о таких масштабных покупках."
   ]
  },
  {
   "cell_type": "markdown",
   "metadata": {},
   "source": [
    "#### Месяц размещения"
   ]
  },
  {
   "cell_type": "code",
   "execution_count": 62,
   "metadata": {},
   "outputs": [
    {
     "data": {
      "image/png": "[encoded data removed]",
      "text/plain": [
       "<Figure size 432x288 with 1 Axes>"
      ]
     },
     "metadata": {
      "needs_background": "light"
     },
     "output_type": "display_data"
    }
   ],
   "source": [
    "price_month = df.pivot_table(index = 'published_month', values = 'last_price').reset_index()\n",
    "price_month.plot.bar(x='published_month', y='last_price')\n",
    "plt.show()"
   ]
  },
  {
   "cell_type": "markdown",
   "metadata": {},
   "source": [
    "Вывод: Связываю такие колебания с сезонностью. Летом люди больше обеспокоены отпуском и качественным отдыхом, когда с сентября люди возвращаются и задумываются о покупке жилья, напрмиер, для детей которые приехали на обучение в Петербург из других городов."
   ]
  },
  {
   "cell_type": "markdown",
   "metadata": {},
   "source": [
    "#### Год размещения"
   ]
  },
  {
   "cell_type": "code",
   "execution_count": 63,
   "metadata": {},
   "outputs": [
    {
     "data": {
      "image/png": "[encoded data removed]",
      "text/plain": [
       "<Figure size 432x288 with 1 Axes>"
      ]
     },
     "metadata": {
      "needs_background": "light"
     },
     "output_type": "display_data"
    }
   ],
   "source": [
    "price_year = df.pivot_table(index = 'published_year', values = 'last_price').reset_index()\n",
    "price_year.plot.bar(x='published_year', y='last_price')\n",
    "plt.show()"
   ]
  },
  {
   "cell_type": "markdown",
   "metadata": {},
   "source": [
    "Вывод: в 2014 стоимость была высокая, потому что был высокий спрос (спрос/предложение). Позже доллар возрос в стоимости, у людей стало меньше денег, санкции и прочие полические веяния могли повлиять на покупательную способность, что повлияло на резкое снижение цены."
   ]
  },
  {
   "cell_type": "markdown",
   "metadata": {},
   "source": [
    "**Посчитаем среднюю стоимость за квадратный метр в 10 топовых по количеству объявлений локаций**"
   ]
  },
  {
   "cell_type": "code",
   "execution_count": 64,
   "metadata": {},
   "outputs": [
    {
     "data": {
      "text/plain": [
       "Санкт-Петербург      14434\n",
       "поселок Мурино         521\n",
       "поселок Шушары         432\n",
       "Всеволожск             387\n",
       "Пушкин                 352\n",
       "Колпино                337\n",
       "поселок Парголово      322\n",
       "Гатчина                304\n",
       "деревня Кудрово        282\n",
       "Выборг                 230\n",
       "Name: locality_name, dtype: int64"
      ]
     },
     "execution_count": 64,
     "metadata": {},
     "output_type": "execute_result"
    }
   ],
   "source": [
    "#Сортируем по количеству объявлений и выводим\n",
    "top_10 = df['locality_name'].value_counts().head(10)\n",
    "top_10"
   ]
  },
  {
   "cell_type": "markdown",
   "metadata": {},
   "source": [
    "Вывод: огромное количество объявлений в Санкт-Петербурге (в 30 раз больше объявлений в сравнении с вторым местом)."
   ]
  },
  {
   "cell_type": "markdown",
   "metadata": {},
   "source": [
    "Расчитаем среднюю стоимость за квадратный метр в этих 10 населенных пунктах с большим количеством объявлений"
   ]
  },
  {
   "cell_type": "code",
   "execution_count": 65,
   "metadata": {},
   "outputs": [
    {
     "data": {
      "text/html": [
       "<div>\n",
       "<style scoped>\n",
       "    .dataframe tbody tr th:only-of-type {\n",
       "        vertical-align: middle;\n",
       "    }\n",
       "\n",
       "    .dataframe tbody tr th {\n",
       "        vertical-align: top;\n",
       "    }\n",
       "\n",
       "    .dataframe thead th {\n",
       "        text-align: right;\n",
       "    }\n",
       "</style>\n",
       "<table border=\"1\" class=\"dataframe\">\n",
       "  <thead>\n",
       "    <tr style=\"text-align: right;\">\n",
       "      <th></th>\n",
       "      <th>Количество объявлений</th>\n",
       "      <th>Стоимость за метр</th>\n",
       "    </tr>\n",
       "    <tr>\n",
       "      <th>locality_name</th>\n",
       "      <th></th>\n",
       "      <th></th>\n",
       "    </tr>\n",
       "  </thead>\n",
       "  <tbody>\n",
       "    <tr>\n",
       "      <th>Санкт-Петербург</th>\n",
       "      <td>14434</td>\n",
       "      <td>108358.604178</td>\n",
       "    </tr>\n",
       "    <tr>\n",
       "      <th>поселок Мурино</th>\n",
       "      <td>521</td>\n",
       "      <td>84911.266449</td>\n",
       "    </tr>\n",
       "    <tr>\n",
       "      <th>поселок Шушары</th>\n",
       "      <td>432</td>\n",
       "      <td>78315.148866</td>\n",
       "    </tr>\n",
       "    <tr>\n",
       "      <th>Всеволожск</th>\n",
       "      <td>387</td>\n",
       "      <td>67060.675039</td>\n",
       "    </tr>\n",
       "    <tr>\n",
       "      <th>Пушкин</th>\n",
       "      <td>352</td>\n",
       "      <td>101809.736108</td>\n",
       "    </tr>\n",
       "    <tr>\n",
       "      <th>Колпино</th>\n",
       "      <td>337</td>\n",
       "      <td>75333.295816</td>\n",
       "    </tr>\n",
       "    <tr>\n",
       "      <th>поселок Парголово</th>\n",
       "      <td>322</td>\n",
       "      <td>90448.423416</td>\n",
       "    </tr>\n",
       "    <tr>\n",
       "      <th>Гатчина</th>\n",
       "      <td>304</td>\n",
       "      <td>68781.726579</td>\n",
       "    </tr>\n",
       "    <tr>\n",
       "      <th>деревня Кудрово</th>\n",
       "      <td>282</td>\n",
       "      <td>92369.194787</td>\n",
       "    </tr>\n",
       "    <tr>\n",
       "      <th>Выборг</th>\n",
       "      <td>230</td>\n",
       "      <td>57993.746478</td>\n",
       "    </tr>\n",
       "  </tbody>\n",
       "</table>\n",
       "</div>"
      ],
      "text/plain": [
       "                   Количество объявлений  Стоимость за метр\n",
       "locality_name                                              \n",
       "Санкт-Петербург                    14434      108358.604178\n",
       "поселок Мурино                       521       84911.266449\n",
       "поселок Шушары                       432       78315.148866\n",
       "Всеволожск                           387       67060.675039\n",
       "Пушкин                               352      101809.736108\n",
       "Колпино                              337       75333.295816\n",
       "поселок Парголово                    322       90448.423416\n",
       "Гатчина                              304       68781.726579\n",
       "деревня Кудрово                      282       92369.194787\n",
       "Выборг                               230       57993.746478"
      ]
     },
     "execution_count": 65,
     "metadata": {},
     "output_type": "execute_result"
    }
   ],
   "source": [
    "#Создаем сводную таблицу \n",
    "top10_price = df.groupby('locality_name')['price_per_mtr'].agg(['count', 'mean'])\n",
    "#Сортируем по количеству объявлений\n",
    "top10_price = top10_price.sort_values('count', ascending=False).head(10)\n",
    "#Меняем названия колонок для четкого понимания значений\n",
    "top10_price.columns = ['Количество объявлений', 'Стоимость за метр']\n",
    "top10_price"
   ]
  },
  {
   "cell_type": "markdown",
   "metadata": {},
   "source": [
    "Вывод: больше всего объявлений имеет Санкт-Петербург, не удивительно, крупный город и население в разы превосходит остальные населенные пункты.\n",
    "\n",
    "Самый дорогой квадратный метр у Санкт-Петербурга\n",
    "\n",
    "Самый дешевый квадратный метр у Выборга"
   ]
  },
  {
   "cell_type": "markdown",
   "metadata": {},
   "source": [
    "**Опишем как стоимость жилья в Санкт-Петербурге меняется в зависимости от расстояния до центра**"
   ]
  },
  {
   "cell_type": "code",
   "execution_count": 66,
   "metadata": {},
   "outputs": [
    {
     "data": {
      "image/png": "[encoded data removed]",
      "text/plain": [
       "<Figure size 432x288 with 1 Axes>"
      ]
     },
     "metadata": {
      "needs_background": "light"
     },
     "output_type": "display_data"
    }
   ],
   "source": [
    "spb_centre_dist_km = df.query('locality_name == \"Санкт-Петербург\"')\\\n",
    "                     .pivot_table(index='city_centre_km', values='last_price_new', aggfunc= 'mean')\\\n",
    "                     .reset_index()\n",
    "spb_centre_dist_km.plot.line(x='city_centre_km', y='last_price_new')\n",
    "plt.show()"
   ]
  },
  {
   "cell_type": "markdown",
   "metadata": {},
   "source": [
    "Вывод: видно по графику зависимость - чем дальше от центра, тем ниже стоимость. Опять же, неочевидно как определяли центр. Делаю предположение про резкий скачок в районе 27км - скорее всего это курортный район с элитным жильем."
   ]
  },
  {
   "cell_type": "markdown",
   "metadata": {
    "id": "h7VpzkIDAwb-"
   },
   "source": [
    "### Напишите общий вывод"
   ]
  },
  {
   "cell_type": "markdown",
   "metadata": {
    "id": "3H4lnp_KAwb-"
   },
   "source": [
    "Проведена работа с целью определения факторов, влияющих на стоимость жилья. Ожидаемый вывод, что на стоимость жилья будет влиять большое количество факторов: как описание самого помещения, так и сторонние, например, политическая ситуация, которая сказывается на покупательной способности. \n",
    "\n",
    "Назовем черты помещений, которые более всего влияют на стоимость:\n",
    "1. Площадь самого помещения (общая, жилая, кухня) - чем больше размер помещения, тем больше будет стоимость.\n",
    "2. Чем больше комнат, тем больше стоимость жилья.\n",
    "3. Квартиры, которые находятся между первым и последним этажом будут иметь выше стоимость.\n",
    "4. Важную роль играет местоположение квартиры. Стоимость за квадратный метр будет выше всего в Петербурге, так же чем дальше от центра, тем квадрат будет дешеветь.\n",
    "\n",
    "Типичная квартира для продажи будет иметь следующие характеристики:\n",
    "1. Общую площадь 27-60 квадратных метров\n",
    "2. Жилая зона иметь около 17 или около 30 квадратных метров, в зависимости от типа: однокомнатная квартира или студия\n",
    "3. Размер кухни может быть разным, зависит от отдельной квартиры. Самые распространенные квартиры имеют от 7 до 10 квадратов\n",
    "4. Стоимость квартиры будет колебаться в районе от 3 до 5 миллионов \n",
    "5. Количество комнат не больше 2х\n",
    "6. Высота потолков около 2.6 метров\n",
    "7. Квартира будет находится между первым и последним этажом\n",
    "8. Количество этажей в доме будет либо 5, либо 9 \n",
    "9. Отдаленность от центра ~16 километров \n",
    "10. Ближайший парк на расстоянии 400 метров"
   ]
  }
 ],
 "metadata": {
  "ExecuteTimeLog": [
   {
    "duration": 528,
    "start_time": "2024-04-04T19:43:11.966Z"
   },
   {
    "duration": 13,
    "start_time": "2024-04-04T19:43:40.560Z"
   },
   {
    "duration": 12,
    "start_time": "2024-04-04T19:43:47.728Z"
   },
   {
    "duration": 11,
    "start_time": "2024-04-04T19:44:17.542Z"
   },
   {
    "duration": 12,
    "start_time": "2024-04-04T19:44:52.392Z"
   },
   {
    "duration": 291,
    "start_time": "2024-04-04T19:45:46.024Z"
   },
   {
    "duration": 118,
    "start_time": "2024-04-04T19:45:55.782Z"
   },
   {
    "duration": 26,
    "start_time": "2024-04-04T19:46:26.118Z"
   },
   {
    "duration": 2258,
    "start_time": "2024-04-04T19:46:37.507Z"
   },
   {
    "duration": 9,
    "start_time": "2024-04-04T20:06:17.035Z"
   },
   {
    "duration": 13,
    "start_time": "2024-04-04T20:13:49.669Z"
   },
   {
    "duration": 499,
    "start_time": "2024-04-04T20:20:41.808Z"
   },
   {
    "duration": 14,
    "start_time": "2024-04-04T20:20:42.309Z"
   },
   {
    "duration": 2120,
    "start_time": "2024-04-04T20:20:42.325Z"
   },
   {
    "duration": 26,
    "start_time": "2024-04-04T20:20:44.447Z"
   },
   {
    "duration": 21,
    "start_time": "2024-04-04T20:20:44.474Z"
   },
   {
    "duration": 25,
    "start_time": "2024-04-04T20:20:44.496Z"
   },
   {
    "duration": 6,
    "start_time": "2024-04-04T20:20:44.522Z"
   },
   {
    "duration": 27,
    "start_time": "2024-04-04T20:20:44.529Z"
   },
   {
    "duration": 13,
    "start_time": "2024-04-04T20:20:44.557Z"
   },
   {
    "duration": 25,
    "start_time": "2024-04-04T20:20:44.573Z"
   },
   {
    "duration": 4,
    "start_time": "2024-04-04T20:20:44.600Z"
   },
   {
    "duration": 21,
    "start_time": "2024-04-04T20:20:44.606Z"
   },
   {
    "duration": 19,
    "start_time": "2024-04-04T20:20:44.628Z"
   },
   {
    "duration": 34,
    "start_time": "2024-04-04T20:20:44.648Z"
   },
   {
    "duration": 96,
    "start_time": "2024-04-04T20:20:44.684Z"
   },
   {
    "duration": 4,
    "start_time": "2024-04-04T20:20:44.782Z"
   },
   {
    "duration": 15,
    "start_time": "2024-04-04T20:20:44.788Z"
   },
   {
    "duration": 4,
    "start_time": "2024-04-04T20:20:44.805Z"
   },
   {
    "duration": 79,
    "start_time": "2024-04-04T20:20:44.810Z"
   },
   {
    "duration": 11,
    "start_time": "2024-04-04T20:20:44.891Z"
   },
   {
    "duration": 11122,
    "start_time": "2024-04-04T20:20:44.903Z"
   },
   {
    "duration": 4,
    "start_time": "2024-04-04T20:20:56.027Z"
   },
   {
    "duration": 19,
    "start_time": "2024-04-04T20:20:56.032Z"
   },
   {
    "duration": 18,
    "start_time": "2024-04-04T20:20:56.052Z"
   },
   {
    "duration": 248,
    "start_time": "2024-04-04T20:20:56.071Z"
   },
   {
    "duration": 12,
    "start_time": "2024-04-04T20:20:56.321Z"
   },
   {
    "duration": 78,
    "start_time": "2024-04-04T20:20:56.335Z"
   },
   {
    "duration": 0,
    "start_time": "2024-04-04T20:20:56.416Z"
   },
   {
    "duration": 0,
    "start_time": "2024-04-04T20:20:56.417Z"
   },
   {
    "duration": 0,
    "start_time": "2024-04-04T20:20:56.418Z"
   },
   {
    "duration": 0,
    "start_time": "2024-04-04T20:20:56.419Z"
   },
   {
    "duration": 0,
    "start_time": "2024-04-04T20:20:56.419Z"
   },
   {
    "duration": 0,
    "start_time": "2024-04-04T20:20:56.421Z"
   },
   {
    "duration": 0,
    "start_time": "2024-04-04T20:20:56.421Z"
   },
   {
    "duration": 0,
    "start_time": "2024-04-04T20:20:56.422Z"
   },
   {
    "duration": 0,
    "start_time": "2024-04-04T20:20:56.423Z"
   },
   {
    "duration": 0,
    "start_time": "2024-04-04T20:20:56.424Z"
   },
   {
    "duration": 0,
    "start_time": "2024-04-04T20:20:56.425Z"
   },
   {
    "duration": 0,
    "start_time": "2024-04-04T20:20:56.425Z"
   },
   {
    "duration": 0,
    "start_time": "2024-04-04T20:20:56.426Z"
   },
   {
    "duration": 0,
    "start_time": "2024-04-04T20:20:56.428Z"
   },
   {
    "duration": 0,
    "start_time": "2024-04-04T20:20:56.429Z"
   },
   {
    "duration": 0,
    "start_time": "2024-04-04T20:20:56.430Z"
   },
   {
    "duration": 0,
    "start_time": "2024-04-04T20:20:56.431Z"
   },
   {
    "duration": 0,
    "start_time": "2024-04-04T20:20:56.432Z"
   },
   {
    "duration": 0,
    "start_time": "2024-04-04T20:20:56.433Z"
   },
   {
    "duration": 0,
    "start_time": "2024-04-04T20:20:56.434Z"
   },
   {
    "duration": 0,
    "start_time": "2024-04-04T20:20:56.435Z"
   },
   {
    "duration": 0,
    "start_time": "2024-04-04T20:20:56.435Z"
   },
   {
    "duration": 0,
    "start_time": "2024-04-04T20:20:56.437Z"
   },
   {
    "duration": 0,
    "start_time": "2024-04-04T20:20:56.438Z"
   },
   {
    "duration": 0,
    "start_time": "2024-04-04T20:20:56.439Z"
   },
   {
    "duration": 0,
    "start_time": "2024-04-04T20:20:56.440Z"
   },
   {
    "duration": 0,
    "start_time": "2024-04-04T20:20:56.441Z"
   },
   {
    "duration": 0,
    "start_time": "2024-04-04T20:20:56.442Z"
   },
   {
    "duration": 0,
    "start_time": "2024-04-04T20:20:56.443Z"
   },
   {
    "duration": 0,
    "start_time": "2024-04-04T20:20:56.444Z"
   },
   {
    "duration": 0,
    "start_time": "2024-04-04T20:20:56.445Z"
   },
   {
    "duration": 0,
    "start_time": "2024-04-04T20:20:56.446Z"
   },
   {
    "duration": 0,
    "start_time": "2024-04-04T20:20:56.447Z"
   },
   {
    "duration": 0,
    "start_time": "2024-04-04T20:20:56.448Z"
   },
   {
    "duration": 0,
    "start_time": "2024-04-04T20:20:56.449Z"
   },
   {
    "duration": 0,
    "start_time": "2024-04-04T20:20:56.450Z"
   },
   {
    "duration": 0,
    "start_time": "2024-04-04T20:20:56.451Z"
   },
   {
    "duration": 0,
    "start_time": "2024-04-04T20:20:56.469Z"
   },
   {
    "duration": 0,
    "start_time": "2024-04-04T20:20:56.470Z"
   },
   {
    "duration": 0,
    "start_time": "2024-04-04T20:20:56.471Z"
   },
   {
    "duration": 0,
    "start_time": "2024-04-04T20:20:56.472Z"
   },
   {
    "duration": 0,
    "start_time": "2024-04-04T20:20:56.473Z"
   },
   {
    "duration": 0,
    "start_time": "2024-04-04T20:20:56.474Z"
   },
   {
    "duration": 0,
    "start_time": "2024-04-04T20:20:56.475Z"
   },
   {
    "duration": 0,
    "start_time": "2024-04-04T20:20:56.476Z"
   },
   {
    "duration": 510,
    "start_time": "2024-04-04T20:21:17.534Z"
   },
   {
    "duration": 14,
    "start_time": "2024-04-04T20:21:18.046Z"
   },
   {
    "duration": 2104,
    "start_time": "2024-04-04T20:21:18.061Z"
   },
   {
    "duration": 25,
    "start_time": "2024-04-04T20:21:20.167Z"
   },
   {
    "duration": 9,
    "start_time": "2024-04-04T20:21:20.193Z"
   },
   {
    "duration": 9,
    "start_time": "2024-04-04T20:21:20.203Z"
   },
   {
    "duration": 8,
    "start_time": "2024-04-04T20:21:20.214Z"
   },
   {
    "duration": 7,
    "start_time": "2024-04-04T20:21:20.223Z"
   },
   {
    "duration": 10,
    "start_time": "2024-04-04T20:21:20.231Z"
   },
   {
    "duration": 27,
    "start_time": "2024-04-04T20:21:20.243Z"
   },
   {
    "duration": 4,
    "start_time": "2024-04-04T20:21:20.272Z"
   },
   {
    "duration": 4,
    "start_time": "2024-04-04T20:21:20.277Z"
   },
   {
    "duration": 10,
    "start_time": "2024-04-04T20:21:20.283Z"
   },
   {
    "duration": 6,
    "start_time": "2024-04-04T20:21:20.295Z"
   },
   {
    "duration": 102,
    "start_time": "2024-04-04T20:21:20.302Z"
   },
   {
    "duration": 6,
    "start_time": "2024-04-04T20:21:20.405Z"
   },
   {
    "duration": 15,
    "start_time": "2024-04-04T20:21:20.412Z"
   },
   {
    "duration": 4,
    "start_time": "2024-04-04T20:21:20.428Z"
   },
   {
    "duration": 105,
    "start_time": "2024-04-04T20:21:20.434Z"
   },
   {
    "duration": 4,
    "start_time": "2024-04-04T20:21:20.541Z"
   },
   {
    "duration": 11443,
    "start_time": "2024-04-04T20:21:20.546Z"
   },
   {
    "duration": 4,
    "start_time": "2024-04-04T20:21:31.991Z"
   },
   {
    "duration": 52,
    "start_time": "2024-04-04T20:21:31.997Z"
   },
   {
    "duration": 52,
    "start_time": "2024-04-04T20:21:32.050Z"
   },
   {
    "duration": 265,
    "start_time": "2024-04-04T20:21:32.104Z"
   },
   {
    "duration": 13,
    "start_time": "2024-04-04T20:21:32.370Z"
   },
   {
    "duration": 18,
    "start_time": "2024-04-04T20:21:32.384Z"
   },
   {
    "duration": 21,
    "start_time": "2024-04-04T20:21:32.406Z"
   },
   {
    "duration": 253,
    "start_time": "2024-04-04T20:21:32.429Z"
   },
   {
    "duration": 9,
    "start_time": "2024-04-04T20:21:32.684Z"
   },
   {
    "duration": 20,
    "start_time": "2024-04-04T20:21:32.694Z"
   },
   {
    "duration": 243,
    "start_time": "2024-04-04T20:21:32.716Z"
   },
   {
    "duration": 10,
    "start_time": "2024-04-04T20:21:32.960Z"
   },
   {
    "duration": 4,
    "start_time": "2024-04-04T20:21:32.972Z"
   },
   {
    "duration": 8,
    "start_time": "2024-04-04T20:21:32.978Z"
   },
   {
    "duration": 324,
    "start_time": "2024-04-04T20:21:32.988Z"
   },
   {
    "duration": 9,
    "start_time": "2024-04-04T20:21:33.314Z"
   },
   {
    "duration": 8,
    "start_time": "2024-04-04T20:21:33.324Z"
   },
   {
    "duration": 205,
    "start_time": "2024-04-04T20:21:33.333Z"
   },
   {
    "duration": 10,
    "start_time": "2024-04-04T20:21:33.540Z"
   },
   {
    "duration": 22,
    "start_time": "2024-04-04T20:21:33.552Z"
   },
   {
    "duration": 159,
    "start_time": "2024-04-04T20:21:33.575Z"
   },
   {
    "duration": 7,
    "start_time": "2024-04-04T20:21:33.736Z"
   },
   {
    "duration": 192,
    "start_time": "2024-04-04T20:21:33.744Z"
   },
   {
    "duration": 123,
    "start_time": "2024-04-04T20:21:33.938Z"
   },
   {
    "duration": 7,
    "start_time": "2024-04-04T20:21:34.069Z"
   },
   {
    "duration": 7,
    "start_time": "2024-04-04T20:21:34.077Z"
   },
   {
    "duration": 247,
    "start_time": "2024-04-04T20:21:34.085Z"
   },
   {
    "duration": 10,
    "start_time": "2024-04-04T20:21:34.333Z"
   },
   {
    "duration": 461,
    "start_time": "2024-04-04T20:21:34.344Z"
   },
   {
    "duration": 9,
    "start_time": "2024-04-04T20:21:34.806Z"
   },
   {
    "duration": 370,
    "start_time": "2024-04-04T20:21:34.817Z"
   },
   {
    "duration": 10,
    "start_time": "2024-04-04T20:21:35.188Z"
   },
   {
    "duration": 356,
    "start_time": "2024-04-04T20:21:35.199Z"
   },
   {
    "duration": 17,
    "start_time": "2024-04-04T20:21:35.557Z"
   },
   {
    "duration": 85,
    "start_time": "2024-04-04T20:21:35.575Z"
   },
   {
    "duration": 0,
    "start_time": "2024-04-04T20:21:35.661Z"
   },
   {
    "duration": 0,
    "start_time": "2024-04-04T20:21:35.663Z"
   },
   {
    "duration": 0,
    "start_time": "2024-04-04T20:21:35.664Z"
   },
   {
    "duration": 0,
    "start_time": "2024-04-04T20:21:35.665Z"
   },
   {
    "duration": 0,
    "start_time": "2024-04-04T20:21:35.667Z"
   },
   {
    "duration": 0,
    "start_time": "2024-04-04T20:21:35.668Z"
   },
   {
    "duration": 0,
    "start_time": "2024-04-04T20:21:35.669Z"
   },
   {
    "duration": 0,
    "start_time": "2024-04-04T20:21:35.670Z"
   },
   {
    "duration": 0,
    "start_time": "2024-04-04T20:21:35.671Z"
   },
   {
    "duration": 1,
    "start_time": "2024-04-04T20:21:35.672Z"
   },
   {
    "duration": 0,
    "start_time": "2024-04-04T20:21:35.673Z"
   },
   {
    "duration": 0,
    "start_time": "2024-04-04T20:21:35.674Z"
   },
   {
    "duration": 0,
    "start_time": "2024-04-04T20:21:35.675Z"
   },
   {
    "duration": 0,
    "start_time": "2024-04-04T20:21:35.676Z"
   },
   {
    "duration": 0,
    "start_time": "2024-04-04T20:21:35.677Z"
   },
   {
    "duration": 541,
    "start_time": "2024-04-04T20:21:58.256Z"
   },
   {
    "duration": 14,
    "start_time": "2024-04-04T20:21:58.799Z"
   },
   {
    "duration": 2115,
    "start_time": "2024-04-04T20:21:58.814Z"
   },
   {
    "duration": 24,
    "start_time": "2024-04-04T20:22:00.931Z"
   },
   {
    "duration": 55,
    "start_time": "2024-04-04T20:22:00.957Z"
   },
   {
    "duration": 43,
    "start_time": "2024-04-04T20:22:01.013Z"
   },
   {
    "duration": 29,
    "start_time": "2024-04-04T20:22:01.057Z"
   },
   {
    "duration": 36,
    "start_time": "2024-04-04T20:22:01.088Z"
   },
   {
    "duration": 44,
    "start_time": "2024-04-04T20:22:01.125Z"
   },
   {
    "duration": 45,
    "start_time": "2024-04-04T20:22:01.171Z"
   },
   {
    "duration": 47,
    "start_time": "2024-04-04T20:22:01.218Z"
   },
   {
    "duration": 35,
    "start_time": "2024-04-04T20:22:01.267Z"
   },
   {
    "duration": 52,
    "start_time": "2024-04-04T20:22:01.304Z"
   },
   {
    "duration": 45,
    "start_time": "2024-04-04T20:22:01.357Z"
   },
   {
    "duration": 135,
    "start_time": "2024-04-04T20:22:01.404Z"
   },
   {
    "duration": 6,
    "start_time": "2024-04-04T20:22:01.541Z"
   },
   {
    "duration": 82,
    "start_time": "2024-04-04T20:22:01.549Z"
   },
   {
    "duration": 28,
    "start_time": "2024-04-04T20:22:01.633Z"
   },
   {
    "duration": 122,
    "start_time": "2024-04-04T20:22:01.662Z"
   },
   {
    "duration": 25,
    "start_time": "2024-04-04T20:22:01.785Z"
   },
   {
    "duration": 11344,
    "start_time": "2024-04-04T20:22:01.812Z"
   },
   {
    "duration": 4,
    "start_time": "2024-04-04T20:22:13.157Z"
   },
   {
    "duration": 7,
    "start_time": "2024-04-04T20:22:13.169Z"
   },
   {
    "duration": 12,
    "start_time": "2024-04-04T20:22:13.178Z"
   },
   {
    "duration": 250,
    "start_time": "2024-04-04T20:22:13.191Z"
   },
   {
    "duration": 12,
    "start_time": "2024-04-04T20:22:13.442Z"
   },
   {
    "duration": 20,
    "start_time": "2024-04-04T20:22:13.455Z"
   },
   {
    "duration": 7,
    "start_time": "2024-04-04T20:22:13.479Z"
   },
   {
    "duration": 247,
    "start_time": "2024-04-04T20:22:13.488Z"
   },
   {
    "duration": 8,
    "start_time": "2024-04-04T20:22:13.736Z"
   },
   {
    "duration": 23,
    "start_time": "2024-04-04T20:22:13.746Z"
   },
   {
    "duration": 234,
    "start_time": "2024-04-04T20:22:13.771Z"
   },
   {
    "duration": 10,
    "start_time": "2024-04-04T20:22:14.007Z"
   },
   {
    "duration": 5,
    "start_time": "2024-04-04T20:22:14.018Z"
   },
   {
    "duration": 9,
    "start_time": "2024-04-04T20:22:14.025Z"
   },
   {
    "duration": 343,
    "start_time": "2024-04-04T20:22:14.035Z"
   },
   {
    "duration": 9,
    "start_time": "2024-04-04T20:22:14.380Z"
   },
   {
    "duration": 8,
    "start_time": "2024-04-04T20:22:14.390Z"
   },
   {
    "duration": 218,
    "start_time": "2024-04-04T20:22:14.399Z"
   },
   {
    "duration": 10,
    "start_time": "2024-04-04T20:22:14.618Z"
   },
   {
    "duration": 8,
    "start_time": "2024-04-04T20:22:14.630Z"
   },
   {
    "duration": 166,
    "start_time": "2024-04-04T20:22:14.639Z"
   },
   {
    "duration": 7,
    "start_time": "2024-04-04T20:22:14.806Z"
   },
   {
    "duration": 197,
    "start_time": "2024-04-04T20:22:14.815Z"
   },
   {
    "duration": 131,
    "start_time": "2024-04-04T20:22:15.014Z"
   },
   {
    "duration": 9,
    "start_time": "2024-04-04T20:22:15.147Z"
   },
   {
    "duration": 29,
    "start_time": "2024-04-04T20:22:15.158Z"
   },
   {
    "duration": 252,
    "start_time": "2024-04-04T20:22:15.188Z"
   },
   {
    "duration": 10,
    "start_time": "2024-04-04T20:22:15.441Z"
   },
   {
    "duration": 470,
    "start_time": "2024-04-04T20:22:15.452Z"
   },
   {
    "duration": 8,
    "start_time": "2024-04-04T20:22:15.923Z"
   },
   {
    "duration": 360,
    "start_time": "2024-04-04T20:22:15.932Z"
   },
   {
    "duration": 9,
    "start_time": "2024-04-04T20:22:16.293Z"
   },
   {
    "duration": 356,
    "start_time": "2024-04-04T20:22:16.303Z"
   },
   {
    "duration": 12,
    "start_time": "2024-04-04T20:22:16.661Z"
   },
   {
    "duration": 200,
    "start_time": "2024-04-04T20:22:16.675Z"
   },
   {
    "duration": 5,
    "start_time": "2024-04-04T20:22:16.876Z"
   },
   {
    "duration": 177,
    "start_time": "2024-04-04T20:22:16.883Z"
   },
   {
    "duration": 11,
    "start_time": "2024-04-04T20:22:17.061Z"
   },
   {
    "duration": 185,
    "start_time": "2024-04-04T20:22:17.073Z"
   },
   {
    "duration": 11,
    "start_time": "2024-04-04T20:22:17.260Z"
   },
   {
    "duration": 141,
    "start_time": "2024-04-04T20:22:17.272Z"
   },
   {
    "duration": 5,
    "start_time": "2024-04-04T20:22:17.415Z"
   },
   {
    "duration": 228,
    "start_time": "2024-04-04T20:22:17.421Z"
   },
   {
    "duration": 135,
    "start_time": "2024-04-04T20:22:17.651Z"
   },
   {
    "duration": 131,
    "start_time": "2024-04-04T20:22:17.788Z"
   },
   {
    "duration": 128,
    "start_time": "2024-04-04T20:22:17.920Z"
   },
   {
    "duration": 7,
    "start_time": "2024-04-04T20:22:18.050Z"
   },
   {
    "duration": 22,
    "start_time": "2024-04-04T20:22:18.058Z"
   },
   {
    "duration": 145,
    "start_time": "2024-04-04T20:22:18.082Z"
   },
   {
    "duration": 25,
    "start_time": "2024-04-04T21:37:24.003Z"
   },
   {
    "duration": 10,
    "start_time": "2024-04-04T21:37:24.567Z"
   },
   {
    "duration": 12,
    "start_time": "2024-04-04T21:44:02.896Z"
   },
   {
    "duration": 4,
    "start_time": "2024-04-04T21:46:55.857Z"
   },
   {
    "duration": 17,
    "start_time": "2024-04-04T21:46:57.423Z"
   },
   {
    "duration": 2,
    "start_time": "2024-04-04T21:47:13.436Z"
   },
   {
    "duration": 15,
    "start_time": "2024-04-04T21:47:23.770Z"
   },
   {
    "duration": 3,
    "start_time": "2024-04-04T21:54:15.928Z"
   },
   {
    "duration": 78,
    "start_time": "2024-04-04T22:13:10.757Z"
   },
   {
    "duration": 558,
    "start_time": "2024-04-04T22:26:59.071Z"
   },
   {
    "duration": 14,
    "start_time": "2024-04-04T22:26:59.631Z"
   },
   {
    "duration": 2278,
    "start_time": "2024-04-04T22:26:59.647Z"
   },
   {
    "duration": 26,
    "start_time": "2024-04-04T22:27:01.927Z"
   },
   {
    "duration": 39,
    "start_time": "2024-04-04T22:27:01.955Z"
   },
   {
    "duration": 34,
    "start_time": "2024-04-04T22:27:01.996Z"
   },
   {
    "duration": 38,
    "start_time": "2024-04-04T22:27:02.031Z"
   },
   {
    "duration": 39,
    "start_time": "2024-04-04T22:27:02.071Z"
   },
   {
    "duration": 45,
    "start_time": "2024-04-04T22:27:02.112Z"
   },
   {
    "duration": 44,
    "start_time": "2024-04-04T22:27:02.160Z"
   },
   {
    "duration": 27,
    "start_time": "2024-04-04T22:27:02.205Z"
   },
   {
    "duration": 30,
    "start_time": "2024-04-04T22:27:02.234Z"
   },
   {
    "duration": 55,
    "start_time": "2024-04-04T22:27:02.265Z"
   },
   {
    "duration": 137,
    "start_time": "2024-04-04T22:27:02.321Z"
   },
   {
    "duration": 9,
    "start_time": "2024-04-04T22:27:02.460Z"
   },
   {
    "duration": 74,
    "start_time": "2024-04-04T22:27:02.471Z"
   },
   {
    "duration": 27,
    "start_time": "2024-04-04T22:27:02.547Z"
   },
   {
    "duration": 109,
    "start_time": "2024-04-04T22:27:02.575Z"
   },
   {
    "duration": 13,
    "start_time": "2024-04-04T22:27:02.686Z"
   },
   {
    "duration": 11495,
    "start_time": "2024-04-04T22:27:02.701Z"
   },
   {
    "duration": 4,
    "start_time": "2024-04-04T22:27:14.198Z"
   },
   {
    "duration": 25,
    "start_time": "2024-04-04T22:27:14.203Z"
   },
   {
    "duration": 15,
    "start_time": "2024-04-04T22:27:14.229Z"
   },
   {
    "duration": 267,
    "start_time": "2024-04-04T22:27:14.245Z"
   },
   {
    "duration": 13,
    "start_time": "2024-04-04T22:27:14.514Z"
   },
   {
    "duration": 21,
    "start_time": "2024-04-04T22:27:14.528Z"
   },
   {
    "duration": 16,
    "start_time": "2024-04-04T22:27:14.550Z"
   },
   {
    "duration": 119,
    "start_time": "2024-04-04T22:27:14.572Z"
   },
   {
    "duration": 0,
    "start_time": "2024-04-04T22:27:14.692Z"
   },
   {
    "duration": 0,
    "start_time": "2024-04-04T22:27:14.694Z"
   },
   {
    "duration": 0,
    "start_time": "2024-04-04T22:27:14.695Z"
   },
   {
    "duration": 0,
    "start_time": "2024-04-04T22:27:14.696Z"
   },
   {
    "duration": 0,
    "start_time": "2024-04-04T22:27:14.697Z"
   },
   {
    "duration": 0,
    "start_time": "2024-04-04T22:27:14.698Z"
   },
   {
    "duration": 0,
    "start_time": "2024-04-04T22:27:14.699Z"
   },
   {
    "duration": 0,
    "start_time": "2024-04-04T22:27:14.701Z"
   },
   {
    "duration": 0,
    "start_time": "2024-04-04T22:27:14.702Z"
   },
   {
    "duration": 0,
    "start_time": "2024-04-04T22:27:14.703Z"
   },
   {
    "duration": 0,
    "start_time": "2024-04-04T22:27:14.704Z"
   },
   {
    "duration": 0,
    "start_time": "2024-04-04T22:27:14.705Z"
   },
   {
    "duration": 0,
    "start_time": "2024-04-04T22:27:14.706Z"
   },
   {
    "duration": 0,
    "start_time": "2024-04-04T22:27:14.707Z"
   },
   {
    "duration": 0,
    "start_time": "2024-04-04T22:27:14.708Z"
   },
   {
    "duration": 0,
    "start_time": "2024-04-04T22:27:14.709Z"
   },
   {
    "duration": 0,
    "start_time": "2024-04-04T22:27:14.710Z"
   },
   {
    "duration": 0,
    "start_time": "2024-04-04T22:27:14.711Z"
   },
   {
    "duration": 0,
    "start_time": "2024-04-04T22:27:14.712Z"
   },
   {
    "duration": 0,
    "start_time": "2024-04-04T22:27:14.713Z"
   },
   {
    "duration": 0,
    "start_time": "2024-04-04T22:27:14.714Z"
   },
   {
    "duration": 0,
    "start_time": "2024-04-04T22:27:14.715Z"
   },
   {
    "duration": 0,
    "start_time": "2024-04-04T22:27:14.716Z"
   },
   {
    "duration": 0,
    "start_time": "2024-04-04T22:27:14.717Z"
   },
   {
    "duration": 0,
    "start_time": "2024-04-04T22:27:14.718Z"
   },
   {
    "duration": 0,
    "start_time": "2024-04-04T22:27:14.719Z"
   },
   {
    "duration": 1,
    "start_time": "2024-04-04T22:27:14.719Z"
   },
   {
    "duration": 0,
    "start_time": "2024-04-04T22:27:14.721Z"
   },
   {
    "duration": 0,
    "start_time": "2024-04-04T22:27:14.722Z"
   },
   {
    "duration": 0,
    "start_time": "2024-04-04T22:27:14.723Z"
   },
   {
    "duration": 0,
    "start_time": "2024-04-04T22:27:14.724Z"
   },
   {
    "duration": 0,
    "start_time": "2024-04-04T22:27:14.725Z"
   },
   {
    "duration": 0,
    "start_time": "2024-04-04T22:27:14.726Z"
   },
   {
    "duration": 0,
    "start_time": "2024-04-04T22:27:14.727Z"
   },
   {
    "duration": 0,
    "start_time": "2024-04-04T22:27:14.728Z"
   },
   {
    "duration": 0,
    "start_time": "2024-04-04T22:27:14.770Z"
   },
   {
    "duration": 0,
    "start_time": "2024-04-04T22:27:14.771Z"
   },
   {
    "duration": 0,
    "start_time": "2024-04-04T22:27:14.772Z"
   },
   {
    "duration": 0,
    "start_time": "2024-04-04T22:27:14.773Z"
   },
   {
    "duration": 0,
    "start_time": "2024-04-04T22:27:14.774Z"
   },
   {
    "duration": 0,
    "start_time": "2024-04-04T22:27:14.775Z"
   },
   {
    "duration": 0,
    "start_time": "2024-04-04T22:27:14.776Z"
   },
   {
    "duration": 531,
    "start_time": "2024-04-04T22:27:33.495Z"
   },
   {
    "duration": 14,
    "start_time": "2024-04-04T22:27:34.028Z"
   },
   {
    "duration": 2229,
    "start_time": "2024-04-04T22:27:34.044Z"
   },
   {
    "duration": 26,
    "start_time": "2024-04-04T22:27:36.275Z"
   },
   {
    "duration": 9,
    "start_time": "2024-04-04T22:27:36.303Z"
   },
   {
    "duration": 14,
    "start_time": "2024-04-04T22:27:36.313Z"
   },
   {
    "duration": 5,
    "start_time": "2024-04-04T22:27:36.329Z"
   },
   {
    "duration": 20,
    "start_time": "2024-04-04T22:27:36.335Z"
   },
   {
    "duration": 15,
    "start_time": "2024-04-04T22:27:36.356Z"
   },
   {
    "duration": 8,
    "start_time": "2024-04-04T22:27:36.373Z"
   },
   {
    "duration": 5,
    "start_time": "2024-04-04T22:27:36.382Z"
   },
   {
    "duration": 3,
    "start_time": "2024-04-04T22:27:36.389Z"
   },
   {
    "duration": 12,
    "start_time": "2024-04-04T22:27:36.394Z"
   },
   {
    "duration": 117,
    "start_time": "2024-04-04T22:27:36.408Z"
   },
   {
    "duration": 6,
    "start_time": "2024-04-04T22:27:36.527Z"
   },
   {
    "duration": 30,
    "start_time": "2024-04-04T22:27:36.534Z"
   },
   {
    "duration": 5,
    "start_time": "2024-04-04T22:27:36.566Z"
   },
   {
    "duration": 77,
    "start_time": "2024-04-04T22:27:36.573Z"
   },
   {
    "duration": 18,
    "start_time": "2024-04-04T22:27:36.652Z"
   },
   {
    "duration": 12073,
    "start_time": "2024-04-04T22:27:36.672Z"
   },
   {
    "duration": 4,
    "start_time": "2024-04-04T22:27:48.747Z"
   },
   {
    "duration": 18,
    "start_time": "2024-04-04T22:27:48.752Z"
   },
   {
    "duration": 12,
    "start_time": "2024-04-04T22:27:48.771Z"
   },
   {
    "duration": 254,
    "start_time": "2024-04-04T22:27:48.784Z"
   },
   {
    "duration": 11,
    "start_time": "2024-04-04T22:27:49.040Z"
   },
   {
    "duration": 20,
    "start_time": "2024-04-04T22:27:49.052Z"
   },
   {
    "duration": 7,
    "start_time": "2024-04-04T22:27:49.073Z"
   },
   {
    "duration": 246,
    "start_time": "2024-04-04T22:27:49.083Z"
   },
   {
    "duration": 8,
    "start_time": "2024-04-04T22:27:49.331Z"
   },
   {
    "duration": 7,
    "start_time": "2024-04-04T22:27:49.341Z"
   },
   {
    "duration": 267,
    "start_time": "2024-04-04T22:27:49.349Z"
   },
   {
    "duration": 9,
    "start_time": "2024-04-04T22:27:49.617Z"
   },
   {
    "duration": 10,
    "start_time": "2024-04-04T22:27:49.628Z"
   },
   {
    "duration": 9,
    "start_time": "2024-04-04T22:27:49.639Z"
   },
   {
    "duration": 342,
    "start_time": "2024-04-04T22:27:49.649Z"
   },
   {
    "duration": 8,
    "start_time": "2024-04-04T22:27:49.993Z"
   },
   {
    "duration": 59,
    "start_time": "2024-04-04T22:27:50.002Z"
   },
   {
    "duration": 0,
    "start_time": "2024-04-04T22:27:50.062Z"
   },
   {
    "duration": 0,
    "start_time": "2024-04-04T22:27:50.063Z"
   },
   {
    "duration": 0,
    "start_time": "2024-04-04T22:27:50.065Z"
   },
   {
    "duration": 0,
    "start_time": "2024-04-04T22:27:50.066Z"
   },
   {
    "duration": 0,
    "start_time": "2024-04-04T22:27:50.067Z"
   },
   {
    "duration": 0,
    "start_time": "2024-04-04T22:27:50.068Z"
   },
   {
    "duration": 0,
    "start_time": "2024-04-04T22:27:50.069Z"
   },
   {
    "duration": 0,
    "start_time": "2024-04-04T22:27:50.070Z"
   },
   {
    "duration": 0,
    "start_time": "2024-04-04T22:27:50.071Z"
   },
   {
    "duration": 0,
    "start_time": "2024-04-04T22:27:50.072Z"
   },
   {
    "duration": 0,
    "start_time": "2024-04-04T22:27:50.073Z"
   },
   {
    "duration": 0,
    "start_time": "2024-04-04T22:27:50.074Z"
   },
   {
    "duration": 0,
    "start_time": "2024-04-04T22:27:50.074Z"
   },
   {
    "duration": 0,
    "start_time": "2024-04-04T22:27:50.075Z"
   },
   {
    "duration": 0,
    "start_time": "2024-04-04T22:27:50.076Z"
   },
   {
    "duration": 0,
    "start_time": "2024-04-04T22:27:50.077Z"
   },
   {
    "duration": 0,
    "start_time": "2024-04-04T22:27:50.078Z"
   },
   {
    "duration": 0,
    "start_time": "2024-04-04T22:27:50.079Z"
   },
   {
    "duration": 0,
    "start_time": "2024-04-04T22:27:50.080Z"
   },
   {
    "duration": 0,
    "start_time": "2024-04-04T22:27:50.081Z"
   },
   {
    "duration": 0,
    "start_time": "2024-04-04T22:27:50.082Z"
   },
   {
    "duration": 0,
    "start_time": "2024-04-04T22:27:50.083Z"
   },
   {
    "duration": 0,
    "start_time": "2024-04-04T22:27:50.084Z"
   },
   {
    "duration": 0,
    "start_time": "2024-04-04T22:27:50.085Z"
   },
   {
    "duration": 0,
    "start_time": "2024-04-04T22:27:50.086Z"
   },
   {
    "duration": 0,
    "start_time": "2024-04-04T22:27:50.087Z"
   },
   {
    "duration": 0,
    "start_time": "2024-04-04T22:27:50.088Z"
   },
   {
    "duration": 0,
    "start_time": "2024-04-04T22:27:50.089Z"
   },
   {
    "duration": 0,
    "start_time": "2024-04-04T22:27:50.090Z"
   },
   {
    "duration": 0,
    "start_time": "2024-04-04T22:27:50.091Z"
   },
   {
    "duration": 0,
    "start_time": "2024-04-04T22:27:50.092Z"
   },
   {
    "duration": 0,
    "start_time": "2024-04-04T22:27:50.093Z"
   },
   {
    "duration": 7,
    "start_time": "2024-04-04T22:28:17.844Z"
   },
   {
    "duration": 8,
    "start_time": "2024-04-04T22:28:26.273Z"
   },
   {
    "duration": 245,
    "start_time": "2024-04-04T22:28:32.379Z"
   },
   {
    "duration": 9,
    "start_time": "2024-04-04T22:28:34.019Z"
   },
   {
    "duration": 8,
    "start_time": "2024-04-04T22:29:07.217Z"
   },
   {
    "duration": 187,
    "start_time": "2024-04-04T22:29:11.662Z"
   },
   {
    "duration": 528,
    "start_time": "2024-04-04T22:29:36.295Z"
   },
   {
    "duration": 15,
    "start_time": "2024-04-04T22:29:36.825Z"
   },
   {
    "duration": 2256,
    "start_time": "2024-04-04T22:29:36.841Z"
   },
   {
    "duration": 26,
    "start_time": "2024-04-04T22:29:39.099Z"
   },
   {
    "duration": 9,
    "start_time": "2024-04-04T22:29:39.126Z"
   },
   {
    "duration": 9,
    "start_time": "2024-04-04T22:29:39.136Z"
   },
   {
    "duration": 4,
    "start_time": "2024-04-04T22:29:39.146Z"
   },
   {
    "duration": 15,
    "start_time": "2024-04-04T22:29:39.151Z"
   },
   {
    "duration": 5,
    "start_time": "2024-04-04T22:29:39.168Z"
   },
   {
    "duration": 7,
    "start_time": "2024-04-04T22:29:39.176Z"
   },
   {
    "duration": 5,
    "start_time": "2024-04-04T22:29:39.184Z"
   },
   {
    "duration": 3,
    "start_time": "2024-04-04T22:29:39.191Z"
   },
   {
    "duration": 17,
    "start_time": "2024-04-04T22:29:39.195Z"
   },
   {
    "duration": 111,
    "start_time": "2024-04-04T22:29:39.213Z"
   },
   {
    "duration": 4,
    "start_time": "2024-04-04T22:29:39.326Z"
   },
   {
    "duration": 16,
    "start_time": "2024-04-04T22:29:39.332Z"
   },
   {
    "duration": 4,
    "start_time": "2024-04-04T22:29:39.349Z"
   },
   {
    "duration": 94,
    "start_time": "2024-04-04T22:29:39.354Z"
   },
   {
    "duration": 3,
    "start_time": "2024-04-04T22:29:39.450Z"
   },
   {
    "duration": 11944,
    "start_time": "2024-04-04T22:29:39.455Z"
   },
   {
    "duration": 5,
    "start_time": "2024-04-04T22:29:51.400Z"
   },
   {
    "duration": 12,
    "start_time": "2024-04-04T22:29:51.406Z"
   },
   {
    "duration": 13,
    "start_time": "2024-04-04T22:29:51.420Z"
   },
   {
    "duration": 270,
    "start_time": "2024-04-04T22:29:51.434Z"
   },
   {
    "duration": 12,
    "start_time": "2024-04-04T22:29:51.705Z"
   },
   {
    "duration": 7,
    "start_time": "2024-04-04T22:29:51.719Z"
   },
   {
    "duration": 10,
    "start_time": "2024-04-04T22:29:51.728Z"
   },
   {
    "duration": 256,
    "start_time": "2024-04-04T22:29:51.742Z"
   },
   {
    "duration": 8,
    "start_time": "2024-04-04T22:29:51.999Z"
   },
   {
    "duration": 6,
    "start_time": "2024-04-04T22:29:52.009Z"
   },
   {
    "duration": 272,
    "start_time": "2024-04-04T22:29:52.016Z"
   },
   {
    "duration": 9,
    "start_time": "2024-04-04T22:29:52.289Z"
   },
   {
    "duration": 4,
    "start_time": "2024-04-04T22:29:52.299Z"
   },
   {
    "duration": 16,
    "start_time": "2024-04-04T22:29:52.304Z"
   },
   {
    "duration": 333,
    "start_time": "2024-04-04T22:29:52.321Z"
   },
   {
    "duration": 13,
    "start_time": "2024-04-04T22:29:52.656Z"
   },
   {
    "duration": 7,
    "start_time": "2024-04-04T22:29:52.671Z"
   },
   {
    "duration": 211,
    "start_time": "2024-04-04T22:29:52.680Z"
   },
   {
    "duration": 9,
    "start_time": "2024-04-04T22:29:52.893Z"
   },
   {
    "duration": 16,
    "start_time": "2024-04-04T22:29:52.903Z"
   },
   {
    "duration": 165,
    "start_time": "2024-04-04T22:29:52.920Z"
   },
   {
    "duration": 8,
    "start_time": "2024-04-04T22:29:53.087Z"
   },
   {
    "duration": 210,
    "start_time": "2024-04-04T22:29:53.096Z"
   },
   {
    "duration": 150,
    "start_time": "2024-04-04T22:29:53.308Z"
   },
   {
    "duration": 14,
    "start_time": "2024-04-04T22:29:53.459Z"
   },
   {
    "duration": 12,
    "start_time": "2024-04-04T22:29:53.474Z"
   },
   {
    "duration": 259,
    "start_time": "2024-04-04T22:29:53.487Z"
   },
   {
    "duration": 9,
    "start_time": "2024-04-04T22:29:53.748Z"
   },
   {
    "duration": 456,
    "start_time": "2024-04-04T22:29:53.758Z"
   },
   {
    "duration": 9,
    "start_time": "2024-04-04T22:29:54.215Z"
   },
   {
    "duration": 371,
    "start_time": "2024-04-04T22:29:54.226Z"
   },
   {
    "duration": 9,
    "start_time": "2024-04-04T22:29:54.599Z"
   },
   {
    "duration": 380,
    "start_time": "2024-04-04T22:29:54.610Z"
   },
   {
    "duration": 11,
    "start_time": "2024-04-04T22:29:54.992Z"
   },
   {
    "duration": 218,
    "start_time": "2024-04-04T22:29:55.005Z"
   },
   {
    "duration": 5,
    "start_time": "2024-04-04T22:29:55.225Z"
   },
   {
    "duration": 201,
    "start_time": "2024-04-04T22:29:55.231Z"
   },
   {
    "duration": 7,
    "start_time": "2024-04-04T22:29:55.434Z"
   },
   {
    "duration": 211,
    "start_time": "2024-04-04T22:29:55.442Z"
   },
   {
    "duration": 6,
    "start_time": "2024-04-04T22:29:55.655Z"
   },
   {
    "duration": 160,
    "start_time": "2024-04-04T22:29:55.670Z"
   },
   {
    "duration": 6,
    "start_time": "2024-04-04T22:29:55.831Z"
   },
   {
    "duration": 226,
    "start_time": "2024-04-04T22:29:55.839Z"
   },
   {
    "duration": 141,
    "start_time": "2024-04-04T22:29:56.069Z"
   },
   {
    "duration": 136,
    "start_time": "2024-04-04T22:29:56.212Z"
   },
   {
    "duration": 133,
    "start_time": "2024-04-04T22:29:56.350Z"
   },
   {
    "duration": 7,
    "start_time": "2024-04-04T22:29:56.485Z"
   },
   {
    "duration": 20,
    "start_time": "2024-04-04T22:29:56.493Z"
   },
   {
    "duration": 162,
    "start_time": "2024-04-04T22:29:56.514Z"
   },
   {
    "duration": 76,
    "start_time": "2024-04-04T23:00:48.339Z"
   },
   {
    "duration": 142,
    "start_time": "2024-04-04T23:10:19.683Z"
   },
   {
    "duration": 602,
    "start_time": "2024-04-04T23:10:55.662Z"
   },
   {
    "duration": 19,
    "start_time": "2024-04-04T23:10:56.266Z"
   },
   {
    "duration": 2290,
    "start_time": "2024-04-04T23:10:56.287Z"
   },
   {
    "duration": 28,
    "start_time": "2024-04-04T23:10:58.579Z"
   },
   {
    "duration": 9,
    "start_time": "2024-04-04T23:10:58.609Z"
   },
   {
    "duration": 28,
    "start_time": "2024-04-04T23:10:58.620Z"
   },
   {
    "duration": 4,
    "start_time": "2024-04-04T23:10:58.650Z"
   },
   {
    "duration": 19,
    "start_time": "2024-04-04T23:10:58.655Z"
   },
   {
    "duration": 9,
    "start_time": "2024-04-04T23:10:58.676Z"
   },
   {
    "duration": 12,
    "start_time": "2024-04-04T23:10:58.687Z"
   },
   {
    "duration": 6,
    "start_time": "2024-04-04T23:10:58.701Z"
   },
   {
    "duration": 3,
    "start_time": "2024-04-04T23:10:58.709Z"
   },
   {
    "duration": 14,
    "start_time": "2024-04-04T23:10:58.714Z"
   },
   {
    "duration": 119,
    "start_time": "2024-04-04T23:10:58.730Z"
   },
   {
    "duration": 7,
    "start_time": "2024-04-04T23:10:58.851Z"
   },
   {
    "duration": 16,
    "start_time": "2024-04-04T23:10:58.869Z"
   },
   {
    "duration": 4,
    "start_time": "2024-04-04T23:10:58.887Z"
   },
   {
    "duration": 90,
    "start_time": "2024-04-04T23:10:58.892Z"
   },
   {
    "duration": 11574,
    "start_time": "2024-04-04T23:10:58.984Z"
   },
   {
    "duration": 5,
    "start_time": "2024-04-04T23:11:10.559Z"
   },
   {
    "duration": 9,
    "start_time": "2024-04-04T23:11:10.569Z"
   },
   {
    "duration": 13,
    "start_time": "2024-04-04T23:11:10.580Z"
   },
   {
    "duration": 277,
    "start_time": "2024-04-04T23:11:10.594Z"
   },
   {
    "duration": 12,
    "start_time": "2024-04-04T23:11:10.873Z"
   },
   {
    "duration": 8,
    "start_time": "2024-04-04T23:11:10.886Z"
   },
   {
    "duration": 8,
    "start_time": "2024-04-04T23:11:10.896Z"
   },
   {
    "duration": 306,
    "start_time": "2024-04-04T23:11:10.906Z"
   },
   {
    "duration": 9,
    "start_time": "2024-04-04T23:11:11.215Z"
   },
   {
    "duration": 7,
    "start_time": "2024-04-04T23:11:11.226Z"
   },
   {
    "duration": 262,
    "start_time": "2024-04-04T23:11:11.234Z"
   },
   {
    "duration": 8,
    "start_time": "2024-04-04T23:11:11.498Z"
   },
   {
    "duration": 4,
    "start_time": "2024-04-04T23:11:11.508Z"
   },
   {
    "duration": 10,
    "start_time": "2024-04-04T23:11:11.513Z"
   },
   {
    "duration": 337,
    "start_time": "2024-04-04T23:11:11.524Z"
   },
   {
    "duration": 12,
    "start_time": "2024-04-04T23:11:11.863Z"
   },
   {
    "duration": 13,
    "start_time": "2024-04-04T23:11:11.876Z"
   },
   {
    "duration": 207,
    "start_time": "2024-04-04T23:11:11.891Z"
   },
   {
    "duration": 8,
    "start_time": "2024-04-04T23:11:12.099Z"
   },
   {
    "duration": 7,
    "start_time": "2024-04-04T23:11:12.108Z"
   },
   {
    "duration": 161,
    "start_time": "2024-04-04T23:11:12.116Z"
   },
   {
    "duration": 8,
    "start_time": "2024-04-04T23:11:12.279Z"
   },
   {
    "duration": 224,
    "start_time": "2024-04-04T23:11:12.288Z"
   },
   {
    "duration": 131,
    "start_time": "2024-04-04T23:11:12.514Z"
   },
   {
    "duration": 8,
    "start_time": "2024-04-04T23:11:12.647Z"
   },
   {
    "duration": 18,
    "start_time": "2024-04-04T23:11:12.657Z"
   },
   {
    "duration": 252,
    "start_time": "2024-04-04T23:11:12.677Z"
   },
   {
    "duration": 10,
    "start_time": "2024-04-04T23:11:12.931Z"
   },
   {
    "duration": 479,
    "start_time": "2024-04-04T23:11:12.942Z"
   },
   {
    "duration": 9,
    "start_time": "2024-04-04T23:11:13.423Z"
   },
   {
    "duration": 384,
    "start_time": "2024-04-04T23:11:13.433Z"
   },
   {
    "duration": 10,
    "start_time": "2024-04-04T23:11:13.818Z"
   },
   {
    "duration": 376,
    "start_time": "2024-04-04T23:11:13.829Z"
   },
   {
    "duration": 12,
    "start_time": "2024-04-04T23:11:14.206Z"
   },
   {
    "duration": 220,
    "start_time": "2024-04-04T23:11:14.219Z"
   },
   {
    "duration": 6,
    "start_time": "2024-04-04T23:11:14.441Z"
   },
   {
    "duration": 214,
    "start_time": "2024-04-04T23:11:14.448Z"
   },
   {
    "duration": 6,
    "start_time": "2024-04-04T23:11:14.668Z"
   },
   {
    "duration": 208,
    "start_time": "2024-04-04T23:11:14.675Z"
   },
   {
    "duration": 5,
    "start_time": "2024-04-04T23:11:14.885Z"
   },
   {
    "duration": 162,
    "start_time": "2024-04-04T23:11:14.891Z"
   },
   {
    "duration": 5,
    "start_time": "2024-04-04T23:11:15.055Z"
   },
   {
    "duration": 269,
    "start_time": "2024-04-04T23:11:15.061Z"
   },
   {
    "duration": 155,
    "start_time": "2024-04-04T23:11:15.331Z"
   },
   {
    "duration": 142,
    "start_time": "2024-04-04T23:11:15.488Z"
   },
   {
    "duration": 152,
    "start_time": "2024-04-04T23:11:15.632Z"
   },
   {
    "duration": 8,
    "start_time": "2024-04-04T23:11:15.786Z"
   },
   {
    "duration": 14,
    "start_time": "2024-04-04T23:11:15.796Z"
   },
   {
    "duration": 169,
    "start_time": "2024-04-04T23:11:15.812Z"
   },
   {
    "duration": 547,
    "start_time": "2024-04-04T23:12:24.016Z"
   },
   {
    "duration": 15,
    "start_time": "2024-04-04T23:12:24.565Z"
   },
   {
    "duration": 2223,
    "start_time": "2024-04-04T23:12:24.582Z"
   },
   {
    "duration": 25,
    "start_time": "2024-04-04T23:12:26.807Z"
   },
   {
    "duration": 9,
    "start_time": "2024-04-04T23:12:26.834Z"
   },
   {
    "duration": 28,
    "start_time": "2024-04-04T23:12:26.844Z"
   },
   {
    "duration": 4,
    "start_time": "2024-04-04T23:12:26.873Z"
   },
   {
    "duration": 9,
    "start_time": "2024-04-04T23:12:26.878Z"
   },
   {
    "duration": 5,
    "start_time": "2024-04-04T23:12:26.888Z"
   },
   {
    "duration": 6,
    "start_time": "2024-04-04T23:12:26.896Z"
   },
   {
    "duration": 17,
    "start_time": "2024-04-04T23:12:26.903Z"
   },
   {
    "duration": 5,
    "start_time": "2024-04-04T23:12:26.921Z"
   },
   {
    "duration": 23,
    "start_time": "2024-04-04T23:12:26.927Z"
   },
   {
    "duration": 106,
    "start_time": "2024-04-04T23:12:26.952Z"
   },
   {
    "duration": 11,
    "start_time": "2024-04-04T23:12:27.059Z"
   },
   {
    "duration": 14,
    "start_time": "2024-04-04T23:12:27.072Z"
   },
   {
    "duration": 3,
    "start_time": "2024-04-04T23:12:27.088Z"
   },
   {
    "duration": 97,
    "start_time": "2024-04-04T23:12:27.092Z"
   },
   {
    "duration": 12059,
    "start_time": "2024-04-04T23:12:27.190Z"
   },
   {
    "duration": 5,
    "start_time": "2024-04-04T23:12:39.250Z"
   },
   {
    "duration": 19,
    "start_time": "2024-04-04T23:12:39.257Z"
   },
   {
    "duration": 13,
    "start_time": "2024-04-04T23:12:39.277Z"
   },
   {
    "duration": 274,
    "start_time": "2024-04-04T23:12:39.292Z"
   },
   {
    "duration": 13,
    "start_time": "2024-04-04T23:12:39.569Z"
   },
   {
    "duration": 9,
    "start_time": "2024-04-04T23:12:39.583Z"
   },
   {
    "duration": 7,
    "start_time": "2024-04-04T23:12:39.594Z"
   },
   {
    "duration": 268,
    "start_time": "2024-04-04T23:12:39.603Z"
   },
   {
    "duration": 11,
    "start_time": "2024-04-04T23:12:39.876Z"
   },
   {
    "duration": 8,
    "start_time": "2024-04-04T23:12:39.889Z"
   },
   {
    "duration": 271,
    "start_time": "2024-04-04T23:12:39.898Z"
   },
   {
    "duration": 9,
    "start_time": "2024-04-04T23:12:40.171Z"
   },
   {
    "duration": 4,
    "start_time": "2024-04-04T23:12:40.183Z"
   },
   {
    "duration": 14,
    "start_time": "2024-04-04T23:12:40.189Z"
   },
   {
    "duration": 366,
    "start_time": "2024-04-04T23:12:40.205Z"
   },
   {
    "duration": 8,
    "start_time": "2024-04-04T23:12:40.572Z"
   },
   {
    "duration": 7,
    "start_time": "2024-04-04T23:12:40.582Z"
   },
   {
    "duration": 216,
    "start_time": "2024-04-04T23:12:40.591Z"
   },
   {
    "duration": 9,
    "start_time": "2024-04-04T23:12:40.809Z"
   },
   {
    "duration": 7,
    "start_time": "2024-04-04T23:12:40.820Z"
   },
   {
    "duration": 172,
    "start_time": "2024-04-04T23:12:40.829Z"
   },
   {
    "duration": 9,
    "start_time": "2024-04-04T23:12:41.003Z"
   },
   {
    "duration": 210,
    "start_time": "2024-04-04T23:12:41.014Z"
   },
   {
    "duration": 128,
    "start_time": "2024-04-04T23:12:41.226Z"
   },
   {
    "duration": 20,
    "start_time": "2024-04-04T23:12:41.356Z"
   },
   {
    "duration": 8,
    "start_time": "2024-04-04T23:12:41.377Z"
   },
   {
    "duration": 261,
    "start_time": "2024-04-04T23:12:41.386Z"
   },
   {
    "duration": 9,
    "start_time": "2024-04-04T23:12:41.648Z"
   },
   {
    "duration": 470,
    "start_time": "2024-04-04T23:12:41.669Z"
   },
   {
    "duration": 9,
    "start_time": "2024-04-04T23:12:42.141Z"
   },
   {
    "duration": 380,
    "start_time": "2024-04-04T23:12:42.152Z"
   },
   {
    "duration": 8,
    "start_time": "2024-04-04T23:12:42.534Z"
   },
   {
    "duration": 405,
    "start_time": "2024-04-04T23:12:42.544Z"
   },
   {
    "duration": 19,
    "start_time": "2024-04-04T23:12:42.951Z"
   },
   {
    "duration": 217,
    "start_time": "2024-04-04T23:12:42.972Z"
   },
   {
    "duration": 5,
    "start_time": "2024-04-04T23:12:43.191Z"
   },
   {
    "duration": 206,
    "start_time": "2024-04-04T23:12:43.197Z"
   },
   {
    "duration": 5,
    "start_time": "2024-04-04T23:12:43.405Z"
   },
   {
    "duration": 205,
    "start_time": "2024-04-04T23:12:43.412Z"
   },
   {
    "duration": 5,
    "start_time": "2024-04-04T23:12:43.618Z"
   },
   {
    "duration": 167,
    "start_time": "2024-04-04T23:12:43.625Z"
   },
   {
    "duration": 5,
    "start_time": "2024-04-04T23:12:43.794Z"
   },
   {
    "duration": 251,
    "start_time": "2024-04-04T23:12:43.800Z"
   },
   {
    "duration": 161,
    "start_time": "2024-04-04T23:12:44.053Z"
   },
   {
    "duration": 138,
    "start_time": "2024-04-04T23:12:44.216Z"
   },
   {
    "duration": 141,
    "start_time": "2024-04-04T23:12:44.356Z"
   },
   {
    "duration": 8,
    "start_time": "2024-04-04T23:12:44.498Z"
   },
   {
    "duration": 15,
    "start_time": "2024-04-04T23:12:44.508Z"
   },
   {
    "duration": 170,
    "start_time": "2024-04-04T23:12:44.525Z"
   },
   {
    "duration": 621,
    "start_time": "2024-04-05T06:07:52.860Z"
   },
   {
    "duration": 13,
    "start_time": "2024-04-05T06:07:53.483Z"
   },
   {
    "duration": 2162,
    "start_time": "2024-04-05T06:07:53.497Z"
   },
   {
    "duration": 25,
    "start_time": "2024-04-05T06:07:55.661Z"
   },
   {
    "duration": 10,
    "start_time": "2024-04-05T06:07:55.687Z"
   },
   {
    "duration": 15,
    "start_time": "2024-04-05T06:07:55.699Z"
   },
   {
    "duration": 4,
    "start_time": "2024-04-05T06:07:55.716Z"
   },
   {
    "duration": 19,
    "start_time": "2024-04-05T06:07:55.721Z"
   },
   {
    "duration": 7,
    "start_time": "2024-04-05T06:07:55.741Z"
   },
   {
    "duration": 15,
    "start_time": "2024-04-05T06:07:55.751Z"
   },
   {
    "duration": 6,
    "start_time": "2024-04-05T06:07:55.768Z"
   },
   {
    "duration": 4,
    "start_time": "2024-04-05T06:07:55.776Z"
   },
   {
    "duration": 14,
    "start_time": "2024-04-05T06:07:55.781Z"
   },
   {
    "duration": 108,
    "start_time": "2024-04-05T06:07:55.796Z"
   },
   {
    "duration": 5,
    "start_time": "2024-04-05T06:07:55.915Z"
   },
   {
    "duration": 13,
    "start_time": "2024-04-05T06:07:55.922Z"
   },
   {
    "duration": 4,
    "start_time": "2024-04-05T06:07:55.937Z"
   },
   {
    "duration": 101,
    "start_time": "2024-04-05T06:07:55.943Z"
   },
   {
    "duration": 11204,
    "start_time": "2024-04-05T06:07:56.045Z"
   },
   {
    "duration": 4,
    "start_time": "2024-04-05T06:08:07.251Z"
   },
   {
    "duration": 49,
    "start_time": "2024-04-05T06:08:07.256Z"
   },
   {
    "duration": 12,
    "start_time": "2024-04-05T06:08:07.306Z"
   },
   {
    "duration": 263,
    "start_time": "2024-04-05T06:08:07.320Z"
   },
   {
    "duration": 13,
    "start_time": "2024-04-05T06:08:07.585Z"
   },
   {
    "duration": 20,
    "start_time": "2024-04-05T06:08:07.600Z"
   },
   {
    "duration": 15,
    "start_time": "2024-04-05T06:08:07.622Z"
   },
   {
    "duration": 247,
    "start_time": "2024-04-05T06:08:07.638Z"
   },
   {
    "duration": 9,
    "start_time": "2024-04-05T06:08:07.890Z"
   },
   {
    "duration": 21,
    "start_time": "2024-04-05T06:08:07.900Z"
   },
   {
    "duration": 251,
    "start_time": "2024-04-05T06:08:07.923Z"
   },
   {
    "duration": 9,
    "start_time": "2024-04-05T06:08:08.176Z"
   },
   {
    "duration": 4,
    "start_time": "2024-04-05T06:08:08.186Z"
   },
   {
    "duration": 27,
    "start_time": "2024-04-05T06:08:08.192Z"
   },
   {
    "duration": 311,
    "start_time": "2024-04-05T06:08:08.221Z"
   },
   {
    "duration": 8,
    "start_time": "2024-04-05T06:08:08.534Z"
   },
   {
    "duration": 8,
    "start_time": "2024-04-05T06:08:08.544Z"
   },
   {
    "duration": 216,
    "start_time": "2024-04-05T06:08:08.553Z"
   },
   {
    "duration": 10,
    "start_time": "2024-04-05T06:08:08.771Z"
   },
   {
    "duration": 7,
    "start_time": "2024-04-05T06:08:08.782Z"
   },
   {
    "duration": 183,
    "start_time": "2024-04-05T06:08:08.790Z"
   },
   {
    "duration": 209,
    "start_time": "2024-04-05T06:08:08.975Z"
   },
   {
    "duration": 134,
    "start_time": "2024-04-05T06:08:09.185Z"
   },
   {
    "duration": 8,
    "start_time": "2024-04-05T06:08:09.320Z"
   },
   {
    "duration": 9,
    "start_time": "2024-04-05T06:08:09.329Z"
   },
   {
    "duration": 246,
    "start_time": "2024-04-05T06:08:09.340Z"
   },
   {
    "duration": 9,
    "start_time": "2024-04-05T06:08:09.588Z"
   },
   {
    "duration": 454,
    "start_time": "2024-04-05T06:08:09.599Z"
   },
   {
    "duration": 21,
    "start_time": "2024-04-05T06:08:10.055Z"
   },
   {
    "duration": 401,
    "start_time": "2024-04-05T06:08:10.078Z"
   },
   {
    "duration": 9,
    "start_time": "2024-04-05T06:08:10.480Z"
   },
   {
    "duration": 371,
    "start_time": "2024-04-05T06:08:10.490Z"
   },
   {
    "duration": 12,
    "start_time": "2024-04-05T06:08:10.862Z"
   },
   {
    "duration": 213,
    "start_time": "2024-04-05T06:08:10.876Z"
   },
   {
    "duration": 4,
    "start_time": "2024-04-05T06:08:11.091Z"
   },
   {
    "duration": 199,
    "start_time": "2024-04-05T06:08:11.096Z"
   },
   {
    "duration": 7,
    "start_time": "2024-04-05T06:08:11.296Z"
   },
   {
    "duration": 196,
    "start_time": "2024-04-05T06:08:11.315Z"
   },
   {
    "duration": 6,
    "start_time": "2024-04-05T06:08:11.513Z"
   },
   {
    "duration": 156,
    "start_time": "2024-04-05T06:08:11.521Z"
   },
   {
    "duration": 5,
    "start_time": "2024-04-05T06:08:11.679Z"
   },
   {
    "duration": 240,
    "start_time": "2024-04-05T06:08:11.686Z"
   },
   {
    "duration": 136,
    "start_time": "2024-04-05T06:08:11.928Z"
   },
   {
    "duration": 127,
    "start_time": "2024-04-05T06:08:12.065Z"
   },
   {
    "duration": 142,
    "start_time": "2024-04-05T06:08:12.193Z"
   },
   {
    "duration": 7,
    "start_time": "2024-04-05T06:08:12.337Z"
   },
   {
    "duration": 13,
    "start_time": "2024-04-05T06:08:12.346Z"
   },
   {
    "duration": 158,
    "start_time": "2024-04-05T06:08:12.361Z"
   },
   {
    "duration": 542,
    "start_time": "2024-04-05T06:15:18.264Z"
   },
   {
    "duration": 16,
    "start_time": "2024-04-05T06:15:18.808Z"
   },
   {
    "duration": 2189,
    "start_time": "2024-04-05T06:15:18.826Z"
   },
   {
    "duration": 26,
    "start_time": "2024-04-05T06:15:21.017Z"
   },
   {
    "duration": 19,
    "start_time": "2024-04-05T06:15:21.045Z"
   },
   {
    "duration": 31,
    "start_time": "2024-04-05T06:15:21.065Z"
   },
   {
    "duration": 4,
    "start_time": "2024-04-05T06:15:21.097Z"
   },
   {
    "duration": 13,
    "start_time": "2024-04-05T06:15:21.103Z"
   },
   {
    "duration": 18,
    "start_time": "2024-04-05T06:15:21.118Z"
   },
   {
    "duration": 10,
    "start_time": "2024-04-05T06:15:21.138Z"
   },
   {
    "duration": 15,
    "start_time": "2024-04-05T06:15:21.150Z"
   },
   {
    "duration": 14,
    "start_time": "2024-04-05T06:15:21.167Z"
   },
   {
    "duration": 18,
    "start_time": "2024-04-05T06:15:21.182Z"
   },
   {
    "duration": 98,
    "start_time": "2024-04-05T06:15:21.203Z"
   },
   {
    "duration": 6,
    "start_time": "2024-04-05T06:15:21.303Z"
   },
   {
    "duration": 21,
    "start_time": "2024-04-05T06:15:21.315Z"
   },
   {
    "duration": 4,
    "start_time": "2024-04-05T06:15:21.339Z"
   },
   {
    "duration": 86,
    "start_time": "2024-04-05T06:15:21.344Z"
   },
   {
    "duration": 11484,
    "start_time": "2024-04-05T06:15:21.432Z"
   },
   {
    "duration": 5,
    "start_time": "2024-04-05T06:15:32.918Z"
   },
   {
    "duration": 9,
    "start_time": "2024-04-05T06:15:32.924Z"
   },
   {
    "duration": 13,
    "start_time": "2024-04-05T06:15:32.935Z"
   },
   {
    "duration": 259,
    "start_time": "2024-04-05T06:15:32.949Z"
   },
   {
    "duration": 12,
    "start_time": "2024-04-05T06:15:33.214Z"
   },
   {
    "duration": 8,
    "start_time": "2024-04-05T06:15:33.227Z"
   },
   {
    "duration": 7,
    "start_time": "2024-04-05T06:15:33.236Z"
   },
   {
    "duration": 250,
    "start_time": "2024-04-05T06:15:33.245Z"
   },
   {
    "duration": 17,
    "start_time": "2024-04-05T06:15:33.498Z"
   },
   {
    "duration": 7,
    "start_time": "2024-04-05T06:15:33.517Z"
   },
   {
    "duration": 239,
    "start_time": "2024-04-05T06:15:33.526Z"
   },
   {
    "duration": 8,
    "start_time": "2024-04-05T06:15:33.767Z"
   },
   {
    "duration": 3,
    "start_time": "2024-04-05T06:15:33.777Z"
   },
   {
    "duration": 12,
    "start_time": "2024-04-05T06:15:33.782Z"
   },
   {
    "duration": 308,
    "start_time": "2024-04-05T06:15:33.796Z"
   },
   {
    "duration": 9,
    "start_time": "2024-04-05T06:15:34.106Z"
   },
   {
    "duration": 19,
    "start_time": "2024-04-05T06:15:34.117Z"
   },
   {
    "duration": 191,
    "start_time": "2024-04-05T06:15:34.138Z"
   },
   {
    "duration": 9,
    "start_time": "2024-04-05T06:15:34.330Z"
   },
   {
    "duration": 7,
    "start_time": "2024-04-05T06:15:34.340Z"
   },
   {
    "duration": 154,
    "start_time": "2024-04-05T06:15:34.348Z"
   },
   {
    "duration": 196,
    "start_time": "2024-04-05T06:15:34.506Z"
   },
   {
    "duration": 125,
    "start_time": "2024-04-05T06:15:34.704Z"
   },
   {
    "duration": 8,
    "start_time": "2024-04-05T06:15:34.831Z"
   },
   {
    "duration": 7,
    "start_time": "2024-04-05T06:15:34.841Z"
   },
   {
    "duration": 247,
    "start_time": "2024-04-05T06:15:34.850Z"
   },
   {
    "duration": 21,
    "start_time": "2024-04-05T06:15:35.099Z"
   },
   {
    "duration": 425,
    "start_time": "2024-04-05T06:15:35.122Z"
   },
   {
    "duration": 7,
    "start_time": "2024-04-05T06:15:35.549Z"
   },
   {
    "duration": 367,
    "start_time": "2024-04-05T06:15:35.558Z"
   },
   {
    "duration": 8,
    "start_time": "2024-04-05T06:15:35.926Z"
   },
   {
    "duration": 361,
    "start_time": "2024-04-05T06:15:35.936Z"
   },
   {
    "duration": 16,
    "start_time": "2024-04-05T06:15:36.299Z"
   },
   {
    "duration": 193,
    "start_time": "2024-04-05T06:15:36.316Z"
   },
   {
    "duration": 7,
    "start_time": "2024-04-05T06:15:36.510Z"
   },
   {
    "duration": 180,
    "start_time": "2024-04-05T06:15:36.519Z"
   },
   {
    "duration": 4,
    "start_time": "2024-04-05T06:15:36.701Z"
   },
   {
    "duration": 195,
    "start_time": "2024-04-05T06:15:36.715Z"
   },
   {
    "duration": 5,
    "start_time": "2024-04-05T06:15:36.914Z"
   },
   {
    "duration": 149,
    "start_time": "2024-04-05T06:15:36.920Z"
   },
   {
    "duration": 5,
    "start_time": "2024-04-05T06:15:37.071Z"
   },
   {
    "duration": 217,
    "start_time": "2024-04-05T06:15:37.077Z"
   },
   {
    "duration": 135,
    "start_time": "2024-04-05T06:15:37.295Z"
   },
   {
    "duration": 139,
    "start_time": "2024-04-05T06:15:37.432Z"
   },
   {
    "duration": 138,
    "start_time": "2024-04-05T06:15:37.572Z"
   },
   {
    "duration": 8,
    "start_time": "2024-04-05T06:15:37.711Z"
   },
   {
    "duration": 14,
    "start_time": "2024-04-05T06:15:37.721Z"
   },
   {
    "duration": 166,
    "start_time": "2024-04-05T06:15:37.736Z"
   },
   {
    "duration": 9,
    "start_time": "2024-04-05T07:57:01.762Z"
   },
   {
    "duration": 7,
    "start_time": "2024-04-05T07:57:04.603Z"
   },
   {
    "duration": 11,
    "start_time": "2024-04-05T08:14:22.271Z"
   },
   {
    "duration": 40,
    "start_time": "2024-04-05T08:14:33.302Z"
   },
   {
    "duration": 545,
    "start_time": "2024-04-05T08:15:11.343Z"
   },
   {
    "duration": 14,
    "start_time": "2024-04-05T08:15:11.890Z"
   },
   {
    "duration": 2260,
    "start_time": "2024-04-05T08:15:11.906Z"
   },
   {
    "duration": 25,
    "start_time": "2024-04-05T08:15:14.167Z"
   },
   {
    "duration": 30,
    "start_time": "2024-04-05T08:15:14.194Z"
   },
   {
    "duration": 14,
    "start_time": "2024-04-05T08:15:14.226Z"
   },
   {
    "duration": 3,
    "start_time": "2024-04-05T08:15:14.242Z"
   },
   {
    "duration": 7,
    "start_time": "2024-04-05T08:15:14.247Z"
   },
   {
    "duration": 8,
    "start_time": "2024-04-05T08:15:14.256Z"
   },
   {
    "duration": 18,
    "start_time": "2024-04-05T08:15:14.266Z"
   },
   {
    "duration": 9,
    "start_time": "2024-04-05T08:15:14.285Z"
   },
   {
    "duration": 8,
    "start_time": "2024-04-05T08:15:14.295Z"
   },
   {
    "duration": 13,
    "start_time": "2024-04-05T08:15:14.316Z"
   },
   {
    "duration": 126,
    "start_time": "2024-04-05T08:15:14.332Z"
   },
   {
    "duration": 5,
    "start_time": "2024-04-05T08:15:14.460Z"
   },
   {
    "duration": 14,
    "start_time": "2024-04-05T08:15:14.466Z"
   },
   {
    "duration": 3,
    "start_time": "2024-04-05T08:15:14.481Z"
   },
   {
    "duration": 83,
    "start_time": "2024-04-05T08:15:14.486Z"
   },
   {
    "duration": 12239,
    "start_time": "2024-04-05T08:15:14.571Z"
   },
   {
    "duration": 9,
    "start_time": "2024-04-05T08:15:26.811Z"
   },
   {
    "duration": 24,
    "start_time": "2024-04-05T08:15:26.822Z"
   },
   {
    "duration": 14,
    "start_time": "2024-04-05T08:15:26.848Z"
   },
   {
    "duration": 278,
    "start_time": "2024-04-05T08:15:26.864Z"
   },
   {
    "duration": 12,
    "start_time": "2024-04-05T08:15:27.144Z"
   },
   {
    "duration": 8,
    "start_time": "2024-04-05T08:15:27.157Z"
   },
   {
    "duration": 10,
    "start_time": "2024-04-05T08:15:27.166Z"
   },
   {
    "duration": 288,
    "start_time": "2024-04-05T08:15:27.177Z"
   },
   {
    "duration": 38,
    "start_time": "2024-04-05T08:15:27.467Z"
   },
   {
    "duration": 10,
    "start_time": "2024-04-05T08:15:27.516Z"
   },
   {
    "duration": 10,
    "start_time": "2024-04-05T08:15:27.527Z"
   },
   {
    "duration": 278,
    "start_time": "2024-04-05T08:15:27.541Z"
   },
   {
    "duration": 42,
    "start_time": "2024-04-05T08:15:27.821Z"
   },
   {
    "duration": 8,
    "start_time": "2024-04-05T08:15:27.865Z"
   },
   {
    "duration": 4,
    "start_time": "2024-04-05T08:15:27.874Z"
   },
   {
    "duration": 107,
    "start_time": "2024-04-05T08:15:27.880Z"
   },
   {
    "duration": 283,
    "start_time": "2024-04-05T08:15:27.988Z"
   },
   {
    "duration": 9,
    "start_time": "2024-04-05T08:15:28.273Z"
   },
   {
    "duration": 7,
    "start_time": "2024-04-05T08:15:28.283Z"
   },
   {
    "duration": 231,
    "start_time": "2024-04-05T08:15:28.291Z"
   },
   {
    "duration": 12,
    "start_time": "2024-04-05T08:15:28.524Z"
   },
   {
    "duration": 7,
    "start_time": "2024-04-05T08:15:28.540Z"
   },
   {
    "duration": 171,
    "start_time": "2024-04-05T08:15:28.548Z"
   },
   {
    "duration": 244,
    "start_time": "2024-04-05T08:15:28.721Z"
   },
   {
    "duration": 122,
    "start_time": "2024-04-05T08:15:28.966Z"
   },
   {
    "duration": 8,
    "start_time": "2024-04-05T08:15:29.089Z"
   },
   {
    "duration": 25,
    "start_time": "2024-04-05T08:15:29.099Z"
   },
   {
    "duration": 263,
    "start_time": "2024-04-05T08:15:29.126Z"
   },
   {
    "duration": 9,
    "start_time": "2024-04-05T08:15:29.391Z"
   },
   {
    "duration": 503,
    "start_time": "2024-04-05T08:15:29.402Z"
   },
   {
    "duration": 17,
    "start_time": "2024-04-05T08:15:29.907Z"
   },
   {
    "duration": 415,
    "start_time": "2024-04-05T08:15:29.927Z"
   },
   {
    "duration": 11,
    "start_time": "2024-04-05T08:15:30.343Z"
   },
   {
    "duration": 453,
    "start_time": "2024-04-05T08:15:30.356Z"
   },
   {
    "duration": 17,
    "start_time": "2024-04-05T08:15:30.811Z"
   },
   {
    "duration": 273,
    "start_time": "2024-04-05T08:15:30.830Z"
   },
   {
    "duration": 13,
    "start_time": "2024-04-05T08:15:31.105Z"
   },
   {
    "duration": 272,
    "start_time": "2024-04-05T08:15:31.120Z"
   },
   {
    "duration": 5,
    "start_time": "2024-04-05T08:15:31.394Z"
   },
   {
    "duration": 224,
    "start_time": "2024-04-05T08:15:31.400Z"
   },
   {
    "duration": 9,
    "start_time": "2024-04-05T08:15:31.626Z"
   },
   {
    "duration": 178,
    "start_time": "2024-04-05T08:15:31.636Z"
   },
   {
    "duration": 9,
    "start_time": "2024-04-05T08:15:31.817Z"
   },
   {
    "duration": 229,
    "start_time": "2024-04-05T08:15:31.829Z"
   },
   {
    "duration": 137,
    "start_time": "2024-04-05T08:15:32.059Z"
   },
   {
    "duration": 133,
    "start_time": "2024-04-05T08:15:32.197Z"
   },
   {
    "duration": 147,
    "start_time": "2024-04-05T08:15:32.332Z"
   },
   {
    "duration": 9,
    "start_time": "2024-04-05T08:15:32.481Z"
   },
   {
    "duration": 30,
    "start_time": "2024-04-05T08:15:32.491Z"
   },
   {
    "duration": 150,
    "start_time": "2024-04-05T08:15:32.523Z"
   },
   {
    "duration": 571,
    "start_time": "2024-04-05T08:45:07.751Z"
   },
   {
    "duration": 21,
    "start_time": "2024-04-05T08:45:08.325Z"
   },
   {
    "duration": 2402,
    "start_time": "2024-04-05T08:45:08.348Z"
   },
   {
    "duration": 26,
    "start_time": "2024-04-05T08:45:10.752Z"
   },
   {
    "duration": 9,
    "start_time": "2024-04-05T08:45:10.782Z"
   },
   {
    "duration": 35,
    "start_time": "2024-04-05T08:45:10.792Z"
   },
   {
    "duration": 5,
    "start_time": "2024-04-05T08:45:10.829Z"
   },
   {
    "duration": 12,
    "start_time": "2024-04-05T08:45:10.836Z"
   },
   {
    "duration": 21,
    "start_time": "2024-04-05T08:45:10.849Z"
   },
   {
    "duration": 22,
    "start_time": "2024-04-05T08:45:10.871Z"
   },
   {
    "duration": 13,
    "start_time": "2024-04-05T08:45:10.894Z"
   },
   {
    "duration": 8,
    "start_time": "2024-04-05T08:45:10.908Z"
   },
   {
    "duration": 20,
    "start_time": "2024-04-05T08:45:10.919Z"
   },
   {
    "duration": 115,
    "start_time": "2024-04-05T08:45:10.942Z"
   },
   {
    "duration": 5,
    "start_time": "2024-04-05T08:45:11.058Z"
   },
   {
    "duration": 15,
    "start_time": "2024-04-05T08:45:11.065Z"
   },
   {
    "duration": 3,
    "start_time": "2024-04-05T08:45:11.082Z"
   },
   {
    "duration": 100,
    "start_time": "2024-04-05T08:45:11.087Z"
   },
   {
    "duration": 12570,
    "start_time": "2024-04-05T08:45:11.189Z"
   },
   {
    "duration": 5,
    "start_time": "2024-04-05T08:45:23.760Z"
   },
   {
    "duration": 11,
    "start_time": "2024-04-05T08:45:23.766Z"
   },
   {
    "duration": 11,
    "start_time": "2024-04-05T08:45:23.778Z"
   },
   {
    "duration": 296,
    "start_time": "2024-04-05T08:45:23.791Z"
   },
   {
    "duration": 28,
    "start_time": "2024-04-05T08:45:24.088Z"
   },
   {
    "duration": 11,
    "start_time": "2024-04-05T08:45:24.118Z"
   },
   {
    "duration": 9,
    "start_time": "2024-04-05T08:45:24.131Z"
   },
   {
    "duration": 302,
    "start_time": "2024-04-05T08:45:24.142Z"
   },
   {
    "duration": 10,
    "start_time": "2024-04-05T08:45:24.446Z"
   },
   {
    "duration": 17,
    "start_time": "2024-04-05T08:45:24.457Z"
   },
   {
    "duration": 278,
    "start_time": "2024-04-05T08:45:24.476Z"
   },
   {
    "duration": 9,
    "start_time": "2024-04-05T08:45:24.755Z"
   },
   {
    "duration": 4,
    "start_time": "2024-04-05T08:45:24.765Z"
   },
   {
    "duration": 9,
    "start_time": "2024-04-05T08:45:24.771Z"
   },
   {
    "duration": 363,
    "start_time": "2024-04-05T08:45:24.782Z"
   },
   {
    "duration": 8,
    "start_time": "2024-04-05T08:45:25.147Z"
   },
   {
    "duration": 12,
    "start_time": "2024-04-05T08:45:25.157Z"
   },
   {
    "duration": 213,
    "start_time": "2024-04-05T08:45:25.171Z"
   },
   {
    "duration": 8,
    "start_time": "2024-04-05T08:45:25.386Z"
   },
   {
    "duration": 21,
    "start_time": "2024-04-05T08:45:25.396Z"
   },
   {
    "duration": 190,
    "start_time": "2024-04-05T08:45:25.419Z"
   },
   {
    "duration": 250,
    "start_time": "2024-04-05T08:45:25.613Z"
   },
   {
    "duration": 133,
    "start_time": "2024-04-05T08:45:25.864Z"
   },
   {
    "duration": 19,
    "start_time": "2024-04-05T08:45:25.998Z"
   },
   {
    "duration": 12,
    "start_time": "2024-04-05T08:45:26.019Z"
   },
   {
    "duration": 255,
    "start_time": "2024-04-05T08:45:26.033Z"
   },
   {
    "duration": 9,
    "start_time": "2024-04-05T08:45:26.290Z"
   },
   {
    "duration": 450,
    "start_time": "2024-04-05T08:45:26.300Z"
   },
   {
    "duration": 9,
    "start_time": "2024-04-05T08:45:26.751Z"
   },
   {
    "duration": 437,
    "start_time": "2024-04-05T08:45:26.762Z"
   },
   {
    "duration": 18,
    "start_time": "2024-04-05T08:45:27.201Z"
   },
   {
    "duration": 380,
    "start_time": "2024-04-05T08:45:27.221Z"
   },
   {
    "duration": 17,
    "start_time": "2024-04-05T08:45:27.602Z"
   },
   {
    "duration": 237,
    "start_time": "2024-04-05T08:45:27.621Z"
   },
   {
    "duration": 5,
    "start_time": "2024-04-05T08:45:27.860Z"
   },
   {
    "duration": 217,
    "start_time": "2024-04-05T08:45:27.866Z"
   },
   {
    "duration": 6,
    "start_time": "2024-04-05T08:45:28.085Z"
   },
   {
    "duration": 255,
    "start_time": "2024-04-05T08:45:28.092Z"
   },
   {
    "duration": 6,
    "start_time": "2024-04-05T08:45:28.349Z"
   },
   {
    "duration": 197,
    "start_time": "2024-04-05T08:45:28.358Z"
   },
   {
    "duration": 5,
    "start_time": "2024-04-05T08:45:28.557Z"
   },
   {
    "duration": 237,
    "start_time": "2024-04-05T08:45:28.564Z"
   },
   {
    "duration": 163,
    "start_time": "2024-04-05T08:45:28.803Z"
   },
   {
    "duration": 138,
    "start_time": "2024-04-05T08:45:28.968Z"
   },
   {
    "duration": 153,
    "start_time": "2024-04-05T08:45:29.108Z"
   },
   {
    "duration": 7,
    "start_time": "2024-04-05T08:45:29.263Z"
   },
   {
    "duration": 17,
    "start_time": "2024-04-05T08:45:29.272Z"
   },
   {
    "duration": 173,
    "start_time": "2024-04-05T08:45:29.290Z"
   },
   {
    "duration": 54,
    "start_time": "2024-04-05T09:42:37.677Z"
   },
   {
    "duration": 827,
    "start_time": "2024-04-05T09:42:47.861Z"
   },
   {
    "duration": 30,
    "start_time": "2024-04-05T09:43:15.527Z"
   },
   {
    "duration": 5,
    "start_time": "2024-04-05T09:43:55.295Z"
   },
   {
    "duration": 10,
    "start_time": "2024-04-05T09:44:10.427Z"
   },
   {
    "duration": 695,
    "start_time": "2024-04-05T10:03:32.594Z"
   },
   {
    "duration": 152,
    "start_time": "2024-04-05T10:03:56.564Z"
   },
   {
    "duration": 667,
    "start_time": "2024-04-05T10:04:09.255Z"
   },
   {
    "duration": 17,
    "start_time": "2024-04-05T10:04:09.924Z"
   },
   {
    "duration": 2442,
    "start_time": "2024-04-05T10:04:09.943Z"
   },
   {
    "duration": 37,
    "start_time": "2024-04-05T10:04:12.388Z"
   },
   {
    "duration": 40,
    "start_time": "2024-04-05T10:04:12.426Z"
   },
   {
    "duration": 44,
    "start_time": "2024-04-05T10:04:12.468Z"
   },
   {
    "duration": 31,
    "start_time": "2024-04-05T10:04:12.514Z"
   },
   {
    "duration": 32,
    "start_time": "2024-04-05T10:04:12.547Z"
   },
   {
    "duration": 34,
    "start_time": "2024-04-05T10:04:12.580Z"
   },
   {
    "duration": 25,
    "start_time": "2024-04-05T10:04:12.617Z"
   },
   {
    "duration": 31,
    "start_time": "2024-04-05T10:04:12.644Z"
   },
   {
    "duration": 27,
    "start_time": "2024-04-05T10:04:12.677Z"
   },
   {
    "duration": 47,
    "start_time": "2024-04-05T10:04:12.706Z"
   },
   {
    "duration": 122,
    "start_time": "2024-04-05T10:04:12.755Z"
   },
   {
    "duration": 5,
    "start_time": "2024-04-05T10:04:12.879Z"
   },
   {
    "duration": 53,
    "start_time": "2024-04-05T10:04:12.885Z"
   },
   {
    "duration": 30,
    "start_time": "2024-04-05T10:04:12.940Z"
   },
   {
    "duration": 117,
    "start_time": "2024-04-05T10:04:12.972Z"
   },
   {
    "duration": 12880,
    "start_time": "2024-04-05T10:04:13.091Z"
   },
   {
    "duration": 6,
    "start_time": "2024-04-05T10:04:25.973Z"
   },
   {
    "duration": 27,
    "start_time": "2024-04-05T10:04:25.981Z"
   },
   {
    "duration": 24,
    "start_time": "2024-04-05T10:04:26.009Z"
   },
   {
    "duration": 276,
    "start_time": "2024-04-05T10:04:26.034Z"
   },
   {
    "duration": 14,
    "start_time": "2024-04-05T10:04:26.312Z"
   },
   {
    "duration": 30,
    "start_time": "2024-04-05T10:04:26.328Z"
   },
   {
    "duration": 22,
    "start_time": "2024-04-05T10:04:26.360Z"
   },
   {
    "duration": 315,
    "start_time": "2024-04-05T10:04:26.384Z"
   },
   {
    "duration": 11,
    "start_time": "2024-04-05T10:04:26.703Z"
   },
   {
    "duration": 44,
    "start_time": "2024-04-05T10:04:26.716Z"
   },
   {
    "duration": 310,
    "start_time": "2024-04-05T10:04:26.762Z"
   },
   {
    "duration": 11,
    "start_time": "2024-04-05T10:04:27.074Z"
   },
   {
    "duration": 22,
    "start_time": "2024-04-05T10:04:27.087Z"
   },
   {
    "duration": 28,
    "start_time": "2024-04-05T10:04:27.110Z"
   },
   {
    "duration": 351,
    "start_time": "2024-04-05T10:04:27.141Z"
   },
   {
    "duration": 11,
    "start_time": "2024-04-05T10:04:27.494Z"
   },
   {
    "duration": 29,
    "start_time": "2024-04-05T10:04:27.506Z"
   },
   {
    "duration": 230,
    "start_time": "2024-04-05T10:04:27.537Z"
   },
   {
    "duration": 9,
    "start_time": "2024-04-05T10:04:27.772Z"
   },
   {
    "duration": 7,
    "start_time": "2024-04-05T10:04:27.782Z"
   },
   {
    "duration": 171,
    "start_time": "2024-04-05T10:04:27.791Z"
   },
   {
    "duration": 239,
    "start_time": "2024-04-05T10:04:27.964Z"
   },
   {
    "duration": 146,
    "start_time": "2024-04-05T10:04:28.206Z"
   },
   {
    "duration": 9,
    "start_time": "2024-04-05T10:04:28.353Z"
   },
   {
    "duration": 8,
    "start_time": "2024-04-05T10:04:28.373Z"
   },
   {
    "duration": 260,
    "start_time": "2024-04-05T10:04:28.383Z"
   },
   {
    "duration": 10,
    "start_time": "2024-04-05T10:04:28.645Z"
   },
   {
    "duration": 496,
    "start_time": "2024-04-05T10:04:28.657Z"
   },
   {
    "duration": 23,
    "start_time": "2024-04-05T10:04:29.155Z"
   },
   {
    "duration": 402,
    "start_time": "2024-04-05T10:04:29.179Z"
   },
   {
    "duration": 10,
    "start_time": "2024-04-05T10:04:29.583Z"
   },
   {
    "duration": 400,
    "start_time": "2024-04-05T10:04:29.595Z"
   },
   {
    "duration": 27,
    "start_time": "2024-04-05T10:04:29.997Z"
   },
   {
    "duration": 340,
    "start_time": "2024-04-05T10:04:30.026Z"
   },
   {
    "duration": 6,
    "start_time": "2024-04-05T10:04:30.373Z"
   },
   {
    "duration": 293,
    "start_time": "2024-04-05T10:04:30.381Z"
   },
   {
    "duration": 7,
    "start_time": "2024-04-05T10:04:30.676Z"
   },
   {
    "duration": 305,
    "start_time": "2024-04-05T10:04:30.684Z"
   },
   {
    "duration": 6,
    "start_time": "2024-04-05T10:04:30.991Z"
   },
   {
    "duration": 222,
    "start_time": "2024-04-05T10:04:30.999Z"
   },
   {
    "duration": 6,
    "start_time": "2024-04-05T10:04:31.223Z"
   },
   {
    "duration": 324,
    "start_time": "2024-04-05T10:04:31.231Z"
   },
   {
    "duration": 170,
    "start_time": "2024-04-05T10:04:31.557Z"
   },
   {
    "duration": 145,
    "start_time": "2024-04-05T10:04:31.729Z"
   },
   {
    "duration": 150,
    "start_time": "2024-04-05T10:04:31.876Z"
   },
   {
    "duration": 8,
    "start_time": "2024-04-05T10:04:32.027Z"
   },
   {
    "duration": 27,
    "start_time": "2024-04-05T10:04:32.037Z"
   },
   {
    "duration": 162,
    "start_time": "2024-04-05T10:04:32.065Z"
   },
   {
    "duration": 139,
    "start_time": "2024-04-05T10:04:54.157Z"
   },
   {
    "duration": 218,
    "start_time": "2024-04-05T10:05:56.084Z"
   },
   {
    "duration": 140,
    "start_time": "2024-04-05T10:06:01.798Z"
   },
   {
    "duration": 130,
    "start_time": "2024-04-05T10:06:08.123Z"
   },
   {
    "duration": 125,
    "start_time": "2024-04-05T10:06:26.607Z"
   },
   {
    "duration": 148,
    "start_time": "2024-04-05T10:06:41.984Z"
   },
   {
    "duration": 1118,
    "start_time": "2024-04-05T10:07:26.578Z"
   },
   {
    "duration": 141,
    "start_time": "2024-04-05T10:07:41.588Z"
   },
   {
    "duration": 1096,
    "start_time": "2024-04-05T10:07:58.076Z"
   },
   {
    "duration": 145,
    "start_time": "2024-04-05T10:08:13.997Z"
   },
   {
    "duration": 131,
    "start_time": "2024-04-05T10:08:53.697Z"
   },
   {
    "duration": 1150,
    "start_time": "2024-04-05T10:09:16.466Z"
   },
   {
    "duration": 130,
    "start_time": "2024-04-05T10:09:41.475Z"
   },
   {
    "duration": 163,
    "start_time": "2024-04-05T10:10:24.004Z"
   },
   {
    "duration": 158,
    "start_time": "2024-04-05T10:10:38.505Z"
   },
   {
    "duration": 152,
    "start_time": "2024-04-05T10:11:22.873Z"
   },
   {
    "duration": 182,
    "start_time": "2024-04-05T10:11:59.255Z"
   },
   {
    "duration": 159,
    "start_time": "2024-04-05T10:12:31.152Z"
   },
   {
    "duration": 26,
    "start_time": "2024-04-05T10:15:11.227Z"
   },
   {
    "duration": 152,
    "start_time": "2024-04-05T10:15:20.119Z"
   },
   {
    "duration": 154,
    "start_time": "2024-04-05T10:15:38.721Z"
   },
   {
    "duration": 154,
    "start_time": "2024-04-05T10:15:42.735Z"
   },
   {
    "duration": 167,
    "start_time": "2024-04-05T10:16:45.944Z"
   },
   {
    "duration": 81,
    "start_time": "2024-04-05T10:18:07.331Z"
   },
   {
    "duration": 163,
    "start_time": "2024-04-05T10:18:19.480Z"
   },
   {
    "duration": 326,
    "start_time": "2024-04-05T10:20:21.195Z"
   },
   {
    "duration": 170,
    "start_time": "2024-04-05T10:20:54.735Z"
   },
   {
    "duration": 161,
    "start_time": "2024-04-05T10:22:13.541Z"
   },
   {
    "duration": 179,
    "start_time": "2024-04-05T10:22:33.481Z"
   },
   {
    "duration": 160,
    "start_time": "2024-04-05T10:22:36.090Z"
   },
   {
    "duration": 161,
    "start_time": "2024-04-05T10:22:45.097Z"
   },
   {
    "duration": 569,
    "start_time": "2024-04-05T10:24:44.621Z"
   },
   {
    "duration": 16,
    "start_time": "2024-04-05T10:24:45.192Z"
   },
   {
    "duration": 2535,
    "start_time": "2024-04-05T10:24:45.210Z"
   },
   {
    "duration": 37,
    "start_time": "2024-04-05T10:24:47.748Z"
   },
   {
    "duration": 11,
    "start_time": "2024-04-05T10:24:47.787Z"
   },
   {
    "duration": 20,
    "start_time": "2024-04-05T10:24:47.800Z"
   },
   {
    "duration": 5,
    "start_time": "2024-04-05T10:24:47.821Z"
   },
   {
    "duration": 7,
    "start_time": "2024-04-05T10:24:47.827Z"
   },
   {
    "duration": 20,
    "start_time": "2024-04-05T10:24:47.836Z"
   },
   {
    "duration": 43,
    "start_time": "2024-04-05T10:24:47.859Z"
   },
   {
    "duration": 32,
    "start_time": "2024-04-05T10:24:47.904Z"
   },
   {
    "duration": 10,
    "start_time": "2024-04-05T10:24:47.938Z"
   },
   {
    "duration": 16,
    "start_time": "2024-04-05T10:24:47.949Z"
   },
   {
    "duration": 139,
    "start_time": "2024-04-05T10:24:47.967Z"
   },
   {
    "duration": 6,
    "start_time": "2024-04-05T10:24:48.108Z"
   },
   {
    "duration": 22,
    "start_time": "2024-04-05T10:24:48.116Z"
   },
   {
    "duration": 4,
    "start_time": "2024-04-05T10:24:48.140Z"
   },
   {
    "duration": 109,
    "start_time": "2024-04-05T10:24:48.145Z"
   },
   {
    "duration": 13226,
    "start_time": "2024-04-05T10:24:48.256Z"
   },
   {
    "duration": 6,
    "start_time": "2024-04-05T10:25:01.490Z"
   },
   {
    "duration": 97,
    "start_time": "2024-04-05T10:25:01.498Z"
   },
   {
    "duration": 70,
    "start_time": "2024-04-05T10:25:01.597Z"
   },
   {
    "duration": 328,
    "start_time": "2024-04-05T10:25:01.669Z"
   },
   {
    "duration": 14,
    "start_time": "2024-04-05T10:25:01.998Z"
   },
   {
    "duration": 57,
    "start_time": "2024-04-05T10:25:02.014Z"
   },
   {
    "duration": 62,
    "start_time": "2024-04-05T10:25:02.074Z"
   },
   {
    "duration": 330,
    "start_time": "2024-04-05T10:25:02.137Z"
   },
   {
    "duration": 11,
    "start_time": "2024-04-05T10:25:02.472Z"
   },
   {
    "duration": 29,
    "start_time": "2024-04-05T10:25:02.486Z"
   },
   {
    "duration": 306,
    "start_time": "2024-04-05T10:25:02.517Z"
   },
   {
    "duration": 10,
    "start_time": "2024-04-05T10:25:02.825Z"
   },
   {
    "duration": 6,
    "start_time": "2024-04-05T10:25:02.837Z"
   },
   {
    "duration": 43,
    "start_time": "2024-04-05T10:25:02.846Z"
   },
   {
    "duration": 376,
    "start_time": "2024-04-05T10:25:02.891Z"
   },
   {
    "duration": 15,
    "start_time": "2024-04-05T10:25:03.272Z"
   },
   {
    "duration": 11,
    "start_time": "2024-04-05T10:25:03.289Z"
   },
   {
    "duration": 237,
    "start_time": "2024-04-05T10:25:03.302Z"
   },
   {
    "duration": 10,
    "start_time": "2024-04-05T10:25:03.541Z"
   },
   {
    "duration": 31,
    "start_time": "2024-04-05T10:25:03.552Z"
   },
   {
    "duration": 167,
    "start_time": "2024-04-05T10:25:03.585Z"
   },
   {
    "duration": 236,
    "start_time": "2024-04-05T10:25:03.754Z"
   },
   {
    "duration": 151,
    "start_time": "2024-04-05T10:25:03.992Z"
   },
   {
    "duration": 10,
    "start_time": "2024-04-05T10:25:04.144Z"
   },
   {
    "duration": 33,
    "start_time": "2024-04-05T10:25:04.155Z"
   },
   {
    "duration": 273,
    "start_time": "2024-04-05T10:25:04.191Z"
   },
   {
    "duration": 36,
    "start_time": "2024-04-05T10:25:04.465Z"
   },
   {
    "duration": 526,
    "start_time": "2024-04-05T10:25:04.503Z"
   },
   {
    "duration": 11,
    "start_time": "2024-04-05T10:25:05.031Z"
   },
   {
    "duration": 425,
    "start_time": "2024-04-05T10:25:05.044Z"
   },
   {
    "duration": 18,
    "start_time": "2024-04-05T10:25:05.472Z"
   },
   {
    "duration": 499,
    "start_time": "2024-04-05T10:25:05.492Z"
   },
   {
    "duration": 12,
    "start_time": "2024-04-05T10:25:05.993Z"
   },
   {
    "duration": 243,
    "start_time": "2024-04-05T10:25:06.007Z"
   },
   {
    "duration": 6,
    "start_time": "2024-04-05T10:25:06.251Z"
   },
   {
    "duration": 221,
    "start_time": "2024-04-05T10:25:06.258Z"
   },
   {
    "duration": 9,
    "start_time": "2024-04-05T10:25:06.480Z"
   },
   {
    "duration": 233,
    "start_time": "2024-04-05T10:25:06.491Z"
   },
   {
    "duration": 5,
    "start_time": "2024-04-05T10:25:06.726Z"
   },
   {
    "duration": 168,
    "start_time": "2024-04-05T10:25:06.733Z"
   },
   {
    "duration": 5,
    "start_time": "2024-04-05T10:25:06.903Z"
   },
   {
    "duration": 298,
    "start_time": "2024-04-05T10:25:06.909Z"
   },
   {
    "duration": 206,
    "start_time": "2024-04-05T10:25:07.209Z"
   },
   {
    "duration": 211,
    "start_time": "2024-04-05T10:25:07.416Z"
   },
   {
    "duration": 178,
    "start_time": "2024-04-05T10:25:07.630Z"
   },
   {
    "duration": 8,
    "start_time": "2024-04-05T10:25:07.810Z"
   },
   {
    "duration": 15,
    "start_time": "2024-04-05T10:25:07.820Z"
   },
   {
    "duration": 195,
    "start_time": "2024-04-05T10:25:07.837Z"
   },
   {
    "duration": 3486,
    "start_time": "2024-04-05T10:29:05.765Z"
   },
   {
    "duration": 3021,
    "start_time": "2024-04-05T10:29:14.198Z"
   },
   {
    "duration": 570,
    "start_time": "2024-04-05T10:29:32.818Z"
   },
   {
    "duration": 17,
    "start_time": "2024-04-05T10:29:33.389Z"
   },
   {
    "duration": 2476,
    "start_time": "2024-04-05T10:29:33.408Z"
   },
   {
    "duration": 29,
    "start_time": "2024-04-05T10:29:35.886Z"
   },
   {
    "duration": 9,
    "start_time": "2024-04-05T10:29:35.917Z"
   },
   {
    "duration": 9,
    "start_time": "2024-04-05T10:29:35.928Z"
   },
   {
    "duration": 5,
    "start_time": "2024-04-05T10:29:35.938Z"
   },
   {
    "duration": 40,
    "start_time": "2024-04-05T10:29:35.944Z"
   },
   {
    "duration": 5,
    "start_time": "2024-04-05T10:29:35.986Z"
   },
   {
    "duration": 7,
    "start_time": "2024-04-05T10:29:35.994Z"
   },
   {
    "duration": 12,
    "start_time": "2024-04-05T10:29:36.002Z"
   },
   {
    "duration": 3,
    "start_time": "2024-04-05T10:29:36.015Z"
   },
   {
    "duration": 16,
    "start_time": "2024-04-05T10:29:36.020Z"
   },
   {
    "duration": 165,
    "start_time": "2024-04-05T10:29:36.038Z"
   },
   {
    "duration": 5,
    "start_time": "2024-04-05T10:29:36.205Z"
   },
   {
    "duration": 22,
    "start_time": "2024-04-05T10:29:36.212Z"
   },
   {
    "duration": 5,
    "start_time": "2024-04-05T10:29:36.236Z"
   },
   {
    "duration": 108,
    "start_time": "2024-04-05T10:29:36.242Z"
   },
   {
    "duration": 12944,
    "start_time": "2024-04-05T10:29:36.352Z"
   },
   {
    "duration": 6,
    "start_time": "2024-04-05T10:29:49.297Z"
   },
   {
    "duration": 34,
    "start_time": "2024-04-05T10:29:49.305Z"
   },
   {
    "duration": 14,
    "start_time": "2024-04-05T10:29:49.341Z"
   },
   {
    "duration": 271,
    "start_time": "2024-04-05T10:29:49.357Z"
   },
   {
    "duration": 16,
    "start_time": "2024-04-05T10:29:49.630Z"
   },
   {
    "duration": 28,
    "start_time": "2024-04-05T10:29:49.648Z"
   },
   {
    "duration": 18,
    "start_time": "2024-04-05T10:29:49.680Z"
   },
   {
    "duration": 269,
    "start_time": "2024-04-05T10:29:49.700Z"
   },
   {
    "duration": 20,
    "start_time": "2024-04-05T10:29:49.974Z"
   },
   {
    "duration": 33,
    "start_time": "2024-04-05T10:29:49.995Z"
   },
   {
    "duration": 277,
    "start_time": "2024-04-05T10:29:50.030Z"
   },
   {
    "duration": 9,
    "start_time": "2024-04-05T10:29:50.309Z"
   },
   {
    "duration": 5,
    "start_time": "2024-04-05T10:29:50.319Z"
   },
   {
    "duration": 10,
    "start_time": "2024-04-05T10:29:50.326Z"
   },
   {
    "duration": 354,
    "start_time": "2024-04-05T10:29:50.338Z"
   },
   {
    "duration": 8,
    "start_time": "2024-04-05T10:29:50.694Z"
   },
   {
    "duration": 11,
    "start_time": "2024-04-05T10:29:50.703Z"
   },
   {
    "duration": 233,
    "start_time": "2024-04-05T10:29:50.716Z"
   },
   {
    "duration": 8,
    "start_time": "2024-04-05T10:29:50.950Z"
   },
   {
    "duration": 28,
    "start_time": "2024-04-05T10:29:50.960Z"
   },
   {
    "duration": 168,
    "start_time": "2024-04-05T10:29:50.990Z"
   },
   {
    "duration": 242,
    "start_time": "2024-04-05T10:29:51.160Z"
   },
   {
    "duration": 134,
    "start_time": "2024-04-05T10:29:51.404Z"
   },
   {
    "duration": 9,
    "start_time": "2024-04-05T10:29:51.539Z"
   },
   {
    "duration": 35,
    "start_time": "2024-04-05T10:29:51.549Z"
   },
   {
    "duration": 254,
    "start_time": "2024-04-05T10:29:51.586Z"
   },
   {
    "duration": 9,
    "start_time": "2024-04-05T10:29:51.842Z"
   },
   {
    "duration": 567,
    "start_time": "2024-04-05T10:29:51.853Z"
   },
   {
    "duration": 9,
    "start_time": "2024-04-05T10:29:52.421Z"
   },
   {
    "duration": 468,
    "start_time": "2024-04-05T10:29:52.431Z"
   },
   {
    "duration": 12,
    "start_time": "2024-04-05T10:29:52.902Z"
   },
   {
    "duration": 414,
    "start_time": "2024-04-05T10:29:52.916Z"
   },
   {
    "duration": 11,
    "start_time": "2024-04-05T10:29:53.332Z"
   },
   {
    "duration": 262,
    "start_time": "2024-04-05T10:29:53.345Z"
   },
   {
    "duration": 5,
    "start_time": "2024-04-05T10:29:53.609Z"
   },
   {
    "duration": 232,
    "start_time": "2024-04-05T10:29:53.615Z"
   },
   {
    "duration": 7,
    "start_time": "2024-04-05T10:29:53.849Z"
   },
   {
    "duration": 272,
    "start_time": "2024-04-05T10:29:53.857Z"
   },
   {
    "duration": 6,
    "start_time": "2024-04-05T10:29:54.131Z"
   },
   {
    "duration": 160,
    "start_time": "2024-04-05T10:29:54.139Z"
   },
   {
    "duration": 5,
    "start_time": "2024-04-05T10:29:54.301Z"
   },
   {
    "duration": 284,
    "start_time": "2024-04-05T10:29:54.308Z"
   },
   {
    "duration": 190,
    "start_time": "2024-04-05T10:29:54.594Z"
   },
   {
    "duration": 201,
    "start_time": "2024-04-05T10:29:54.786Z"
   },
   {
    "duration": 178,
    "start_time": "2024-04-05T10:29:54.989Z"
   },
   {
    "duration": 22,
    "start_time": "2024-04-05T10:29:55.168Z"
   },
   {
    "duration": 28,
    "start_time": "2024-04-05T10:29:55.193Z"
   },
   {
    "duration": 184,
    "start_time": "2024-04-05T10:29:55.223Z"
   },
   {
    "duration": 5661,
    "start_time": "2024-04-05T10:56:52.262Z"
   },
   {
    "duration": 10,
    "start_time": "2024-04-05T10:59:18.832Z"
   },
   {
    "duration": 258,
    "start_time": "2024-04-05T11:01:07.612Z"
   },
   {
    "duration": 252,
    "start_time": "2024-04-05T11:03:27.764Z"
   },
   {
    "duration": 257,
    "start_time": "2024-04-05T11:05:02.190Z"
   },
   {
    "duration": 257,
    "start_time": "2024-04-05T11:05:31.001Z"
   },
   {
    "duration": 547,
    "start_time": "2024-04-05T11:05:51.123Z"
   },
   {
    "duration": 15,
    "start_time": "2024-04-05T11:05:51.672Z"
   },
   {
    "duration": 2365,
    "start_time": "2024-04-05T11:05:51.688Z"
   },
   {
    "duration": 27,
    "start_time": "2024-04-05T11:05:54.056Z"
   },
   {
    "duration": 10,
    "start_time": "2024-04-05T11:05:54.084Z"
   },
   {
    "duration": 11,
    "start_time": "2024-04-05T11:05:54.095Z"
   },
   {
    "duration": 5,
    "start_time": "2024-04-05T11:05:54.107Z"
   },
   {
    "duration": 7,
    "start_time": "2024-04-05T11:05:54.113Z"
   },
   {
    "duration": 6,
    "start_time": "2024-04-05T11:05:54.122Z"
   },
   {
    "duration": 43,
    "start_time": "2024-04-05T11:05:54.130Z"
   },
   {
    "duration": 7,
    "start_time": "2024-04-05T11:05:54.175Z"
   },
   {
    "duration": 10,
    "start_time": "2024-04-05T11:05:54.183Z"
   },
   {
    "duration": 16,
    "start_time": "2024-04-05T11:05:54.195Z"
   },
   {
    "duration": 117,
    "start_time": "2024-04-05T11:05:54.212Z"
   },
   {
    "duration": 5,
    "start_time": "2024-04-05T11:05:54.331Z"
   },
   {
    "duration": 21,
    "start_time": "2024-04-05T11:05:54.338Z"
   },
   {
    "duration": 13,
    "start_time": "2024-04-05T11:05:54.360Z"
   },
   {
    "duration": 83,
    "start_time": "2024-04-05T11:05:54.374Z"
   },
   {
    "duration": 12251,
    "start_time": "2024-04-05T11:05:54.459Z"
   },
   {
    "duration": 5,
    "start_time": "2024-04-05T11:06:06.711Z"
   },
   {
    "duration": 14,
    "start_time": "2024-04-05T11:06:06.718Z"
   },
   {
    "duration": 13,
    "start_time": "2024-04-05T11:06:06.733Z"
   },
   {
    "duration": 292,
    "start_time": "2024-04-05T11:06:06.748Z"
   },
   {
    "duration": 15,
    "start_time": "2024-04-05T11:06:07.042Z"
   },
   {
    "duration": 23,
    "start_time": "2024-04-05T11:06:07.058Z"
   },
   {
    "duration": 10,
    "start_time": "2024-04-05T11:06:07.082Z"
   },
   {
    "duration": 279,
    "start_time": "2024-04-05T11:06:07.093Z"
   },
   {
    "duration": 9,
    "start_time": "2024-04-05T11:06:07.376Z"
   },
   {
    "duration": 8,
    "start_time": "2024-04-05T11:06:07.387Z"
   },
   {
    "duration": 268,
    "start_time": "2024-04-05T11:06:07.396Z"
   },
   {
    "duration": 336,
    "start_time": "2024-04-05T11:06:07.666Z"
   },
   {
    "duration": 9,
    "start_time": "2024-04-05T11:06:08.004Z"
   },
   {
    "duration": 18,
    "start_time": "2024-04-05T11:06:08.015Z"
   },
   {
    "duration": 18,
    "start_time": "2024-04-05T11:06:08.035Z"
   },
   {
    "duration": 286,
    "start_time": "2024-04-05T11:06:08.055Z"
   },
   {
    "duration": 10,
    "start_time": "2024-04-05T11:06:08.343Z"
   },
   {
    "duration": 25,
    "start_time": "2024-04-05T11:06:08.355Z"
   },
   {
    "duration": 221,
    "start_time": "2024-04-05T11:06:08.382Z"
   },
   {
    "duration": 9,
    "start_time": "2024-04-05T11:06:08.605Z"
   },
   {
    "duration": 17,
    "start_time": "2024-04-05T11:06:08.616Z"
   },
   {
    "duration": 163,
    "start_time": "2024-04-05T11:06:08.635Z"
   },
   {
    "duration": 211,
    "start_time": "2024-04-05T11:06:08.800Z"
   },
   {
    "duration": 135,
    "start_time": "2024-04-05T11:06:09.013Z"
   },
   {
    "duration": 23,
    "start_time": "2024-04-05T11:06:09.151Z"
   },
   {
    "duration": 8,
    "start_time": "2024-04-05T11:06:09.175Z"
   },
   {
    "duration": 253,
    "start_time": "2024-04-05T11:06:09.184Z"
   },
   {
    "duration": 9,
    "start_time": "2024-04-05T11:06:09.439Z"
   },
   {
    "duration": 491,
    "start_time": "2024-04-05T11:06:09.449Z"
   },
   {
    "duration": 9,
    "start_time": "2024-04-05T11:06:09.941Z"
   },
   {
    "duration": 401,
    "start_time": "2024-04-05T11:06:09.952Z"
   },
   {
    "duration": 9,
    "start_time": "2024-04-05T11:06:10.354Z"
   },
   {
    "duration": 382,
    "start_time": "2024-04-05T11:06:10.373Z"
   },
   {
    "duration": 24,
    "start_time": "2024-04-05T11:06:10.756Z"
   },
   {
    "duration": 221,
    "start_time": "2024-04-05T11:06:10.782Z"
   },
   {
    "duration": 6,
    "start_time": "2024-04-05T11:06:11.005Z"
   },
   {
    "duration": 224,
    "start_time": "2024-04-05T11:06:11.012Z"
   },
   {
    "duration": 6,
    "start_time": "2024-04-05T11:06:11.238Z"
   },
   {
    "duration": 335,
    "start_time": "2024-04-05T11:06:11.245Z"
   },
   {
    "duration": 6,
    "start_time": "2024-04-05T11:06:11.581Z"
   },
   {
    "duration": 154,
    "start_time": "2024-04-05T11:06:11.588Z"
   },
   {
    "duration": 5,
    "start_time": "2024-04-05T11:06:11.744Z"
   },
   {
    "duration": 142,
    "start_time": "2024-04-05T11:06:11.751Z"
   },
   {
    "duration": 181,
    "start_time": "2024-04-05T11:06:11.895Z"
   },
   {
    "duration": 198,
    "start_time": "2024-04-05T11:06:12.078Z"
   },
   {
    "duration": 176,
    "start_time": "2024-04-05T11:06:12.277Z"
   },
   {
    "duration": 9,
    "start_time": "2024-04-05T11:06:12.455Z"
   },
   {
    "duration": 15,
    "start_time": "2024-04-05T11:06:12.472Z"
   },
   {
    "duration": 172,
    "start_time": "2024-04-05T11:06:12.489Z"
   },
   {
    "duration": 273,
    "start_time": "2024-04-05T11:06:51.973Z"
   },
   {
    "duration": 249,
    "start_time": "2024-04-05T11:07:04.558Z"
   },
   {
    "duration": 10,
    "start_time": "2024-04-05T11:07:45.692Z"
   },
   {
    "duration": 571,
    "start_time": "2024-04-05T11:08:15.115Z"
   },
   {
    "duration": 16,
    "start_time": "2024-04-05T11:08:15.687Z"
   },
   {
    "duration": 2313,
    "start_time": "2024-04-05T11:08:15.704Z"
   },
   {
    "duration": 26,
    "start_time": "2024-04-05T11:08:18.019Z"
   },
   {
    "duration": 9,
    "start_time": "2024-04-05T11:08:18.047Z"
   },
   {
    "duration": 16,
    "start_time": "2024-04-05T11:08:18.057Z"
   },
   {
    "duration": 7,
    "start_time": "2024-04-05T11:08:18.089Z"
   },
   {
    "duration": 12,
    "start_time": "2024-04-05T11:08:18.098Z"
   },
   {
    "duration": 11,
    "start_time": "2024-04-05T11:08:18.113Z"
   },
   {
    "duration": 15,
    "start_time": "2024-04-05T11:08:18.127Z"
   },
   {
    "duration": 24,
    "start_time": "2024-04-05T11:08:18.144Z"
   },
   {
    "duration": 5,
    "start_time": "2024-04-05T11:08:18.170Z"
   },
   {
    "duration": 14,
    "start_time": "2024-04-05T11:08:18.176Z"
   },
   {
    "duration": 110,
    "start_time": "2024-04-05T11:08:18.192Z"
   },
   {
    "duration": 5,
    "start_time": "2024-04-05T11:08:18.304Z"
   },
   {
    "duration": 33,
    "start_time": "2024-04-05T11:08:18.311Z"
   },
   {
    "duration": 4,
    "start_time": "2024-04-05T11:08:18.346Z"
   },
   {
    "duration": 93,
    "start_time": "2024-04-05T11:08:18.351Z"
   },
   {
    "duration": 12463,
    "start_time": "2024-04-05T11:08:18.445Z"
   },
   {
    "duration": 5,
    "start_time": "2024-04-05T11:08:30.910Z"
   },
   {
    "duration": 104,
    "start_time": "2024-04-05T11:08:30.917Z"
   },
   {
    "duration": 143,
    "start_time": "2024-04-05T11:08:31.023Z"
   },
   {
    "duration": 316,
    "start_time": "2024-04-05T11:08:31.168Z"
   },
   {
    "duration": 14,
    "start_time": "2024-04-05T11:08:31.485Z"
   },
   {
    "duration": 71,
    "start_time": "2024-04-05T11:08:31.500Z"
   },
   {
    "duration": 73,
    "start_time": "2024-04-05T11:08:31.573Z"
   },
   {
    "duration": 290,
    "start_time": "2024-04-05T11:08:31.647Z"
   },
   {
    "duration": 9,
    "start_time": "2024-04-05T11:08:31.942Z"
   },
   {
    "duration": 54,
    "start_time": "2024-04-05T11:08:31.953Z"
   },
   {
    "duration": 283,
    "start_time": "2024-04-05T11:08:32.008Z"
   },
   {
    "duration": 2,
    "start_time": "2024-04-05T11:08:32.293Z"
   },
   {
    "duration": 15,
    "start_time": "2024-04-05T11:08:32.297Z"
   },
   {
    "duration": 6,
    "start_time": "2024-04-05T11:08:32.313Z"
   },
   {
    "duration": 10,
    "start_time": "2024-04-05T11:08:32.320Z"
   },
   {
    "duration": 368,
    "start_time": "2024-04-05T11:08:32.332Z"
   },
   {
    "duration": 11,
    "start_time": "2024-04-05T11:08:32.702Z"
   },
   {
    "duration": 8,
    "start_time": "2024-04-05T11:08:32.715Z"
   },
   {
    "duration": 210,
    "start_time": "2024-04-05T11:08:32.724Z"
   },
   {
    "duration": 9,
    "start_time": "2024-04-05T11:08:32.936Z"
   },
   {
    "duration": 7,
    "start_time": "2024-04-05T11:08:32.946Z"
   },
   {
    "duration": 180,
    "start_time": "2024-04-05T11:08:32.954Z"
   },
   {
    "duration": 215,
    "start_time": "2024-04-05T11:08:33.136Z"
   },
   {
    "duration": 172,
    "start_time": "2024-04-05T11:08:33.354Z"
   },
   {
    "duration": 9,
    "start_time": "2024-04-05T11:08:33.527Z"
   },
   {
    "duration": 16,
    "start_time": "2024-04-05T11:08:33.538Z"
   },
   {
    "duration": 261,
    "start_time": "2024-04-05T11:08:33.556Z"
   },
   {
    "duration": 9,
    "start_time": "2024-04-05T11:08:33.819Z"
   },
   {
    "duration": 421,
    "start_time": "2024-04-05T11:08:33.830Z"
   },
   {
    "duration": 9,
    "start_time": "2024-04-05T11:08:34.252Z"
   },
   {
    "duration": 478,
    "start_time": "2024-04-05T11:08:34.262Z"
   },
   {
    "duration": 9,
    "start_time": "2024-04-05T11:08:34.742Z"
   },
   {
    "duration": 407,
    "start_time": "2024-04-05T11:08:34.752Z"
   },
   {
    "duration": 19,
    "start_time": "2024-04-05T11:08:35.161Z"
   },
   {
    "duration": 226,
    "start_time": "2024-04-05T11:08:35.182Z"
   },
   {
    "duration": 6,
    "start_time": "2024-04-05T11:08:35.410Z"
   },
   {
    "duration": 216,
    "start_time": "2024-04-05T11:08:35.418Z"
   },
   {
    "duration": 5,
    "start_time": "2024-04-05T11:08:35.636Z"
   },
   {
    "duration": 213,
    "start_time": "2024-04-05T11:08:35.642Z"
   },
   {
    "duration": 5,
    "start_time": "2024-04-05T11:08:35.857Z"
   },
   {
    "duration": 155,
    "start_time": "2024-04-05T11:08:35.863Z"
   },
   {
    "duration": 6,
    "start_time": "2024-04-05T11:08:36.020Z"
   },
   {
    "duration": 169,
    "start_time": "2024-04-05T11:08:36.027Z"
   },
   {
    "duration": 176,
    "start_time": "2024-04-05T11:08:36.198Z"
   },
   {
    "duration": 307,
    "start_time": "2024-04-05T11:08:36.376Z"
   },
   {
    "duration": 170,
    "start_time": "2024-04-05T11:08:36.684Z"
   },
   {
    "duration": 8,
    "start_time": "2024-04-05T11:08:36.855Z"
   },
   {
    "duration": 13,
    "start_time": "2024-04-05T11:08:36.873Z"
   },
   {
    "duration": 182,
    "start_time": "2024-04-05T11:08:36.888Z"
   },
   {
    "duration": 10,
    "start_time": "2024-04-05T11:09:09.994Z"
   },
   {
    "duration": 192,
    "start_time": "2024-04-05T11:14:15.139Z"
   },
   {
    "duration": 271,
    "start_time": "2024-04-05T11:15:27.994Z"
   },
   {
    "duration": 9,
    "start_time": "2024-04-05T11:16:48.244Z"
   },
   {
    "duration": 214,
    "start_time": "2024-04-05T11:16:52.229Z"
   },
   {
    "duration": 251,
    "start_time": "2024-04-05T11:24:21.655Z"
   },
   {
    "duration": 9,
    "start_time": "2024-04-05T11:35:23.354Z"
   },
   {
    "duration": 587,
    "start_time": "2024-04-05T11:35:29.464Z"
   },
   {
    "duration": 15,
    "start_time": "2024-04-05T11:35:30.053Z"
   },
   {
    "duration": 2440,
    "start_time": "2024-04-05T11:35:30.073Z"
   },
   {
    "duration": 27,
    "start_time": "2024-04-05T11:35:32.516Z"
   },
   {
    "duration": 10,
    "start_time": "2024-04-05T11:35:32.544Z"
   },
   {
    "duration": 30,
    "start_time": "2024-04-05T11:35:32.555Z"
   },
   {
    "duration": 12,
    "start_time": "2024-04-05T11:35:32.587Z"
   },
   {
    "duration": 29,
    "start_time": "2024-04-05T11:35:32.600Z"
   },
   {
    "duration": 7,
    "start_time": "2024-04-05T11:35:32.631Z"
   },
   {
    "duration": 12,
    "start_time": "2024-04-05T11:35:32.640Z"
   },
   {
    "duration": 10,
    "start_time": "2024-04-05T11:35:32.653Z"
   },
   {
    "duration": 11,
    "start_time": "2024-04-05T11:35:32.664Z"
   },
   {
    "duration": 32,
    "start_time": "2024-04-05T11:35:32.676Z"
   },
   {
    "duration": 101,
    "start_time": "2024-04-05T11:35:32.710Z"
   },
   {
    "duration": 5,
    "start_time": "2024-04-05T11:35:32.813Z"
   },
   {
    "duration": 21,
    "start_time": "2024-04-05T11:35:32.819Z"
   },
   {
    "duration": 12,
    "start_time": "2024-04-05T11:35:32.842Z"
   },
   {
    "duration": 84,
    "start_time": "2024-04-05T11:35:32.855Z"
   },
   {
    "duration": 12284,
    "start_time": "2024-04-05T11:35:32.941Z"
   },
   {
    "duration": 4,
    "start_time": "2024-04-05T11:35:45.227Z"
   },
   {
    "duration": 47,
    "start_time": "2024-04-05T11:35:45.233Z"
   },
   {
    "duration": 31,
    "start_time": "2024-04-05T11:35:45.281Z"
   },
   {
    "duration": 293,
    "start_time": "2024-04-05T11:35:45.314Z"
   },
   {
    "duration": 14,
    "start_time": "2024-04-05T11:35:45.609Z"
   },
   {
    "duration": 8,
    "start_time": "2024-04-05T11:35:45.625Z"
   },
   {
    "duration": 20,
    "start_time": "2024-04-05T11:35:45.635Z"
   },
   {
    "duration": 310,
    "start_time": "2024-04-05T11:35:45.656Z"
   },
   {
    "duration": 10,
    "start_time": "2024-04-05T11:35:45.972Z"
   },
   {
    "duration": 6,
    "start_time": "2024-04-05T11:35:45.984Z"
   },
   {
    "duration": 301,
    "start_time": "2024-04-05T11:35:45.991Z"
   },
   {
    "duration": 10,
    "start_time": "2024-04-05T11:35:46.294Z"
   },
   {
    "duration": 8,
    "start_time": "2024-04-05T11:35:46.305Z"
   },
   {
    "duration": 5,
    "start_time": "2024-04-05T11:35:46.315Z"
   },
   {
    "duration": 10,
    "start_time": "2024-04-05T11:35:46.322Z"
   },
   {
    "duration": 364,
    "start_time": "2024-04-05T11:35:46.334Z"
   },
   {
    "duration": 8,
    "start_time": "2024-04-05T11:35:46.700Z"
   },
   {
    "duration": 26,
    "start_time": "2024-04-05T11:35:46.709Z"
   },
   {
    "duration": 205,
    "start_time": "2024-04-05T11:35:46.737Z"
   },
   {
    "duration": 10,
    "start_time": "2024-04-05T11:35:46.944Z"
   },
   {
    "duration": 22,
    "start_time": "2024-04-05T11:35:46.955Z"
   },
   {
    "duration": 198,
    "start_time": "2024-04-05T11:35:46.979Z"
   },
   {
    "duration": 218,
    "start_time": "2024-04-05T11:35:47.179Z"
   },
   {
    "duration": 152,
    "start_time": "2024-04-05T11:35:47.399Z"
   },
   {
    "duration": 19,
    "start_time": "2024-04-05T11:35:47.553Z"
   },
   {
    "duration": 9,
    "start_time": "2024-04-05T11:35:47.574Z"
   },
   {
    "duration": 264,
    "start_time": "2024-04-05T11:35:47.585Z"
   },
   {
    "duration": 11,
    "start_time": "2024-04-05T11:35:47.851Z"
   },
   {
    "duration": 418,
    "start_time": "2024-04-05T11:35:47.874Z"
   },
   {
    "duration": 10,
    "start_time": "2024-04-05T11:35:48.294Z"
   },
   {
    "duration": 511,
    "start_time": "2024-04-05T11:35:48.306Z"
   },
   {
    "duration": 9,
    "start_time": "2024-04-05T11:35:48.819Z"
   },
   {
    "duration": 393,
    "start_time": "2024-04-05T11:35:48.830Z"
   },
   {
    "duration": 11,
    "start_time": "2024-04-05T11:35:49.225Z"
   },
   {
    "duration": 226,
    "start_time": "2024-04-05T11:35:49.238Z"
   },
   {
    "duration": 8,
    "start_time": "2024-04-05T11:35:49.465Z"
   },
   {
    "duration": 208,
    "start_time": "2024-04-05T11:35:49.475Z"
   },
   {
    "duration": 6,
    "start_time": "2024-04-05T11:35:49.685Z"
   },
   {
    "duration": 223,
    "start_time": "2024-04-05T11:35:49.693Z"
   },
   {
    "duration": 5,
    "start_time": "2024-04-05T11:35:49.918Z"
   },
   {
    "duration": 174,
    "start_time": "2024-04-05T11:35:49.924Z"
   },
   {
    "duration": 7,
    "start_time": "2024-04-05T11:35:50.099Z"
   },
   {
    "duration": 154,
    "start_time": "2024-04-05T11:35:50.108Z"
   },
   {
    "duration": 175,
    "start_time": "2024-04-05T11:35:50.264Z"
   },
   {
    "duration": 300,
    "start_time": "2024-04-05T11:35:50.441Z"
   },
   {
    "duration": 165,
    "start_time": "2024-04-05T11:35:50.742Z"
   },
   {
    "duration": 8,
    "start_time": "2024-04-05T11:35:50.909Z"
   },
   {
    "duration": 25,
    "start_time": "2024-04-05T11:35:50.918Z"
   },
   {
    "duration": 174,
    "start_time": "2024-04-05T11:35:50.945Z"
   },
   {
    "duration": 16,
    "start_time": "2024-04-05T11:36:06.067Z"
   },
   {
    "duration": 9,
    "start_time": "2024-04-05T11:36:11.608Z"
   },
   {
    "duration": 14,
    "start_time": "2024-04-05T11:36:50.976Z"
   },
   {
    "duration": 549,
    "start_time": "2024-04-05T11:36:55.824Z"
   },
   {
    "duration": 17,
    "start_time": "2024-04-05T11:36:56.375Z"
   },
   {
    "duration": 2371,
    "start_time": "2024-04-05T11:36:56.394Z"
   },
   {
    "duration": 27,
    "start_time": "2024-04-05T11:36:58.767Z"
   },
   {
    "duration": 10,
    "start_time": "2024-04-05T11:36:58.796Z"
   },
   {
    "duration": 9,
    "start_time": "2024-04-05T11:36:58.807Z"
   },
   {
    "duration": 5,
    "start_time": "2024-04-05T11:36:58.818Z"
   },
   {
    "duration": 14,
    "start_time": "2024-04-05T11:36:58.824Z"
   },
   {
    "duration": 11,
    "start_time": "2024-04-05T11:36:58.839Z"
   },
   {
    "duration": 23,
    "start_time": "2024-04-05T11:36:58.851Z"
   },
   {
    "duration": 11,
    "start_time": "2024-04-05T11:36:58.876Z"
   },
   {
    "duration": 15,
    "start_time": "2024-04-05T11:36:58.888Z"
   },
   {
    "duration": 19,
    "start_time": "2024-04-05T11:36:58.904Z"
   },
   {
    "duration": 101,
    "start_time": "2024-04-05T11:36:58.927Z"
   },
   {
    "duration": 5,
    "start_time": "2024-04-05T11:36:59.030Z"
   },
   {
    "duration": 20,
    "start_time": "2024-04-05T11:36:59.036Z"
   },
   {
    "duration": 4,
    "start_time": "2024-04-05T11:36:59.057Z"
   },
   {
    "duration": 79,
    "start_time": "2024-04-05T11:36:59.072Z"
   },
   {
    "duration": 12451,
    "start_time": "2024-04-05T11:36:59.153Z"
   },
   {
    "duration": 5,
    "start_time": "2024-04-05T11:37:11.605Z"
   },
   {
    "duration": 33,
    "start_time": "2024-04-05T11:37:11.612Z"
   },
   {
    "duration": 13,
    "start_time": "2024-04-05T11:37:11.646Z"
   },
   {
    "duration": 268,
    "start_time": "2024-04-05T11:37:11.661Z"
   },
   {
    "duration": 13,
    "start_time": "2024-04-05T11:37:11.930Z"
   },
   {
    "duration": 9,
    "start_time": "2024-04-05T11:37:11.944Z"
   },
   {
    "duration": 25,
    "start_time": "2024-04-05T11:37:11.954Z"
   },
   {
    "duration": 269,
    "start_time": "2024-04-05T11:37:11.981Z"
   },
   {
    "duration": 10,
    "start_time": "2024-04-05T11:37:12.252Z"
   },
   {
    "duration": 257,
    "start_time": "2024-04-05T11:37:12.273Z"
   },
   {
    "duration": 9,
    "start_time": "2024-04-05T11:37:12.532Z"
   },
   {
    "duration": 10,
    "start_time": "2024-04-05T11:37:12.543Z"
   },
   {
    "duration": 20,
    "start_time": "2024-04-05T11:37:12.555Z"
   },
   {
    "duration": 18,
    "start_time": "2024-04-05T11:37:12.577Z"
   },
   {
    "duration": 362,
    "start_time": "2024-04-05T11:37:12.597Z"
   },
   {
    "duration": 16,
    "start_time": "2024-04-05T11:37:12.960Z"
   },
   {
    "duration": 7,
    "start_time": "2024-04-05T11:37:12.978Z"
   },
   {
    "duration": 206,
    "start_time": "2024-04-05T11:37:12.987Z"
   },
   {
    "duration": 9,
    "start_time": "2024-04-05T11:37:13.195Z"
   },
   {
    "duration": 10,
    "start_time": "2024-04-05T11:37:13.206Z"
   },
   {
    "duration": 170,
    "start_time": "2024-04-05T11:37:13.217Z"
   },
   {
    "duration": 227,
    "start_time": "2024-04-05T11:37:13.391Z"
   },
   {
    "duration": 134,
    "start_time": "2024-04-05T11:37:13.620Z"
   },
   {
    "duration": 8,
    "start_time": "2024-04-05T11:37:13.755Z"
   },
   {
    "duration": 7,
    "start_time": "2024-04-05T11:37:13.773Z"
   },
   {
    "duration": 282,
    "start_time": "2024-04-05T11:37:13.781Z"
   },
   {
    "duration": 15,
    "start_time": "2024-04-05T11:37:14.065Z"
   },
   {
    "duration": 417,
    "start_time": "2024-04-05T11:37:14.082Z"
   },
   {
    "duration": 9,
    "start_time": "2024-04-05T11:37:14.501Z"
   },
   {
    "duration": 497,
    "start_time": "2024-04-05T11:37:14.511Z"
   },
   {
    "duration": 10,
    "start_time": "2024-04-05T11:37:15.009Z"
   },
   {
    "duration": 440,
    "start_time": "2024-04-05T11:37:15.021Z"
   },
   {
    "duration": 16,
    "start_time": "2024-04-05T11:37:15.463Z"
   },
   {
    "duration": 246,
    "start_time": "2024-04-05T11:37:15.481Z"
   },
   {
    "duration": 5,
    "start_time": "2024-04-05T11:37:15.729Z"
   },
   {
    "duration": 228,
    "start_time": "2024-04-05T11:37:15.735Z"
   },
   {
    "duration": 10,
    "start_time": "2024-04-05T11:37:15.964Z"
   },
   {
    "duration": 214,
    "start_time": "2024-04-05T11:37:15.975Z"
   },
   {
    "duration": 5,
    "start_time": "2024-04-05T11:37:16.191Z"
   },
   {
    "duration": 156,
    "start_time": "2024-04-05T11:37:16.198Z"
   },
   {
    "duration": 19,
    "start_time": "2024-04-05T11:37:16.356Z"
   },
   {
    "duration": 154,
    "start_time": "2024-04-05T11:37:16.377Z"
   },
   {
    "duration": 178,
    "start_time": "2024-04-05T11:37:16.533Z"
   },
   {
    "duration": 324,
    "start_time": "2024-04-05T11:37:16.713Z"
   },
   {
    "duration": 171,
    "start_time": "2024-04-05T11:37:17.039Z"
   },
   {
    "duration": 8,
    "start_time": "2024-04-05T11:37:17.212Z"
   },
   {
    "duration": 15,
    "start_time": "2024-04-05T11:37:17.222Z"
   },
   {
    "duration": 171,
    "start_time": "2024-04-05T11:37:17.239Z"
   },
   {
    "duration": 207,
    "start_time": "2024-04-05T11:38:58.529Z"
   },
   {
    "duration": 12,
    "start_time": "2024-04-05T11:39:17.086Z"
   },
   {
    "duration": 560,
    "start_time": "2024-04-05T11:40:44.895Z"
   },
   {
    "duration": 16,
    "start_time": "2024-04-05T11:40:45.457Z"
   },
   {
    "duration": 2371,
    "start_time": "2024-04-05T11:40:45.474Z"
   },
   {
    "duration": 26,
    "start_time": "2024-04-05T11:40:47.848Z"
   },
   {
    "duration": 9,
    "start_time": "2024-04-05T11:40:47.876Z"
   },
   {
    "duration": 11,
    "start_time": "2024-04-05T11:40:47.886Z"
   },
   {
    "duration": 9,
    "start_time": "2024-04-05T11:40:47.898Z"
   },
   {
    "duration": 35,
    "start_time": "2024-04-05T11:40:47.909Z"
   },
   {
    "duration": 8,
    "start_time": "2024-04-05T11:40:47.945Z"
   },
   {
    "duration": 22,
    "start_time": "2024-04-05T11:40:47.955Z"
   },
   {
    "duration": 18,
    "start_time": "2024-04-05T11:40:47.978Z"
   },
   {
    "duration": 12,
    "start_time": "2024-04-05T11:40:47.997Z"
   },
   {
    "duration": 47,
    "start_time": "2024-04-05T11:40:48.010Z"
   },
   {
    "duration": 105,
    "start_time": "2024-04-05T11:40:48.059Z"
   },
   {
    "duration": 6,
    "start_time": "2024-04-05T11:40:48.166Z"
   },
   {
    "duration": 14,
    "start_time": "2024-04-05T11:40:48.173Z"
   },
   {
    "duration": 4,
    "start_time": "2024-04-05T11:40:48.189Z"
   },
   {
    "duration": 93,
    "start_time": "2024-04-05T11:40:48.194Z"
   },
   {
    "duration": 12290,
    "start_time": "2024-04-05T11:40:48.289Z"
   },
   {
    "duration": 5,
    "start_time": "2024-04-05T11:41:00.581Z"
   },
   {
    "duration": 161,
    "start_time": "2024-04-05T11:41:00.587Z"
   },
   {
    "duration": 65,
    "start_time": "2024-04-05T11:41:00.750Z"
   },
   {
    "duration": 296,
    "start_time": "2024-04-05T11:41:00.816Z"
   },
   {
    "duration": 12,
    "start_time": "2024-04-05T11:41:01.114Z"
   },
   {
    "duration": 47,
    "start_time": "2024-04-05T11:41:01.127Z"
   },
   {
    "duration": 41,
    "start_time": "2024-04-05T11:41:01.175Z"
   },
   {
    "duration": 314,
    "start_time": "2024-04-05T11:41:01.217Z"
   },
   {
    "duration": 9,
    "start_time": "2024-04-05T11:41:01.534Z"
   },
   {
    "duration": 284,
    "start_time": "2024-04-05T11:41:01.545Z"
   },
   {
    "duration": 9,
    "start_time": "2024-04-05T11:41:01.831Z"
   },
   {
    "duration": 92,
    "start_time": "2024-04-05T11:41:01.842Z"
   },
   {
    "duration": 42,
    "start_time": "2024-04-05T11:41:01.935Z"
   },
   {
    "duration": 387,
    "start_time": "2024-04-05T11:41:01.979Z"
   },
   {
    "duration": 11,
    "start_time": "2024-04-05T11:41:02.368Z"
   },
   {
    "duration": 10,
    "start_time": "2024-04-05T11:41:02.380Z"
   },
   {
    "duration": 244,
    "start_time": "2024-04-05T11:41:02.392Z"
   },
   {
    "duration": 10,
    "start_time": "2024-04-05T11:41:02.638Z"
   },
   {
    "duration": 138,
    "start_time": "2024-04-05T11:41:02.650Z"
   },
   {
    "duration": 210,
    "start_time": "2024-04-05T11:41:02.790Z"
   },
   {
    "duration": 203,
    "start_time": "2024-04-05T11:41:03.001Z"
   },
   {
    "duration": 138,
    "start_time": "2024-04-05T11:41:03.205Z"
   },
   {
    "duration": 9,
    "start_time": "2024-04-05T11:41:03.344Z"
   },
   {
    "duration": 20,
    "start_time": "2024-04-05T11:41:03.355Z"
   },
   {
    "duration": 282,
    "start_time": "2024-04-05T11:41:03.377Z"
   },
   {
    "duration": 19,
    "start_time": "2024-04-05T11:41:03.661Z"
   },
   {
    "duration": 515,
    "start_time": "2024-04-05T11:41:03.682Z"
   },
   {
    "duration": 10,
    "start_time": "2024-04-05T11:41:04.200Z"
   },
   {
    "duration": 393,
    "start_time": "2024-04-05T11:41:04.212Z"
   },
   {
    "duration": 9,
    "start_time": "2024-04-05T11:41:04.607Z"
   },
   {
    "duration": 394,
    "start_time": "2024-04-05T11:41:04.617Z"
   },
   {
    "duration": 12,
    "start_time": "2024-04-05T11:41:05.013Z"
   },
   {
    "duration": 249,
    "start_time": "2024-04-05T11:41:05.026Z"
   },
   {
    "duration": 6,
    "start_time": "2024-04-05T11:41:05.277Z"
   },
   {
    "duration": 214,
    "start_time": "2024-04-05T11:41:05.285Z"
   },
   {
    "duration": 5,
    "start_time": "2024-04-05T11:41:05.501Z"
   },
   {
    "duration": 217,
    "start_time": "2024-04-05T11:41:05.508Z"
   },
   {
    "duration": 5,
    "start_time": "2024-04-05T11:41:05.727Z"
   },
   {
    "duration": 156,
    "start_time": "2024-04-05T11:41:05.734Z"
   },
   {
    "duration": 5,
    "start_time": "2024-04-05T11:41:05.892Z"
   },
   {
    "duration": 259,
    "start_time": "2024-04-05T11:41:05.899Z"
   },
   {
    "duration": 174,
    "start_time": "2024-04-05T11:41:06.159Z"
   },
   {
    "duration": 187,
    "start_time": "2024-04-05T11:41:06.335Z"
   },
   {
    "duration": 159,
    "start_time": "2024-04-05T11:41:06.524Z"
   },
   {
    "duration": 8,
    "start_time": "2024-04-05T11:41:06.684Z"
   },
   {
    "duration": 21,
    "start_time": "2024-04-05T11:41:06.693Z"
   },
   {
    "duration": 184,
    "start_time": "2024-04-05T11:41:06.715Z"
   },
   {
    "duration": 231,
    "start_time": "2024-04-05T11:43:39.192Z"
   },
   {
    "duration": 242,
    "start_time": "2024-04-05T11:43:57.316Z"
   },
   {
    "duration": 193,
    "start_time": "2024-04-05T11:44:37.293Z"
   },
   {
    "duration": 597,
    "start_time": "2024-04-05T11:44:47.741Z"
   },
   {
    "duration": 15,
    "start_time": "2024-04-05T11:44:48.339Z"
   },
   {
    "duration": 2305,
    "start_time": "2024-04-05T11:44:48.356Z"
   },
   {
    "duration": 28,
    "start_time": "2024-04-05T11:44:50.664Z"
   },
   {
    "duration": 10,
    "start_time": "2024-04-05T11:44:50.693Z"
   },
   {
    "duration": 11,
    "start_time": "2024-04-05T11:44:50.705Z"
   },
   {
    "duration": 6,
    "start_time": "2024-04-05T11:44:50.718Z"
   },
   {
    "duration": 8,
    "start_time": "2024-04-05T11:44:50.725Z"
   },
   {
    "duration": 17,
    "start_time": "2024-04-05T11:44:50.734Z"
   },
   {
    "duration": 7,
    "start_time": "2024-04-05T11:44:50.772Z"
   },
   {
    "duration": 7,
    "start_time": "2024-04-05T11:44:50.780Z"
   },
   {
    "duration": 3,
    "start_time": "2024-04-05T11:44:50.789Z"
   },
   {
    "duration": 15,
    "start_time": "2024-04-05T11:44:50.794Z"
   },
   {
    "duration": 122,
    "start_time": "2024-04-05T11:44:50.811Z"
   },
   {
    "duration": 6,
    "start_time": "2024-04-05T11:44:50.935Z"
   },
   {
    "duration": 14,
    "start_time": "2024-04-05T11:44:50.942Z"
   },
   {
    "duration": 5,
    "start_time": "2024-04-05T11:44:50.973Z"
   },
   {
    "duration": 109,
    "start_time": "2024-04-05T11:44:50.980Z"
   },
   {
    "duration": 12436,
    "start_time": "2024-04-05T11:44:51.090Z"
   },
   {
    "duration": 5,
    "start_time": "2024-04-05T11:45:03.529Z"
   },
   {
    "duration": 21,
    "start_time": "2024-04-05T11:45:03.535Z"
   },
   {
    "duration": 25,
    "start_time": "2024-04-05T11:45:03.559Z"
   },
   {
    "duration": 290,
    "start_time": "2024-04-05T11:45:03.587Z"
   },
   {
    "duration": 12,
    "start_time": "2024-04-05T11:45:03.879Z"
   },
   {
    "duration": 15,
    "start_time": "2024-04-05T11:45:03.893Z"
   },
   {
    "duration": 9,
    "start_time": "2024-04-05T11:45:03.909Z"
   },
   {
    "duration": 282,
    "start_time": "2024-04-05T11:45:03.920Z"
   },
   {
    "duration": 9,
    "start_time": "2024-04-05T11:45:04.206Z"
   },
   {
    "duration": 263,
    "start_time": "2024-04-05T11:45:04.217Z"
   },
   {
    "duration": 9,
    "start_time": "2024-04-05T11:45:04.481Z"
   },
   {
    "duration": 7,
    "start_time": "2024-04-05T11:45:04.492Z"
   },
   {
    "duration": 17,
    "start_time": "2024-04-05T11:45:04.500Z"
   },
   {
    "duration": 357,
    "start_time": "2024-04-05T11:45:04.518Z"
   },
   {
    "duration": 9,
    "start_time": "2024-04-05T11:45:04.876Z"
   },
   {
    "duration": 32,
    "start_time": "2024-04-05T11:45:04.887Z"
   },
   {
    "duration": 222,
    "start_time": "2024-04-05T11:45:04.920Z"
   },
   {
    "duration": 9,
    "start_time": "2024-04-05T11:45:05.144Z"
   },
   {
    "duration": 26,
    "start_time": "2024-04-05T11:45:05.155Z"
   },
   {
    "duration": 177,
    "start_time": "2024-04-05T11:45:05.183Z"
   },
   {
    "duration": 205,
    "start_time": "2024-04-05T11:45:05.362Z"
   },
   {
    "duration": 138,
    "start_time": "2024-04-05T11:45:05.572Z"
   },
   {
    "duration": 8,
    "start_time": "2024-04-05T11:45:05.712Z"
   },
   {
    "duration": 8,
    "start_time": "2024-04-05T11:45:05.722Z"
   },
   {
    "duration": 271,
    "start_time": "2024-04-05T11:45:05.731Z"
   },
   {
    "duration": 9,
    "start_time": "2024-04-05T11:45:06.004Z"
   },
   {
    "duration": 401,
    "start_time": "2024-04-05T11:45:06.015Z"
   },
   {
    "duration": 9,
    "start_time": "2024-04-05T11:45:06.418Z"
   },
   {
    "duration": 485,
    "start_time": "2024-04-05T11:45:06.429Z"
   },
   {
    "duration": 9,
    "start_time": "2024-04-05T11:45:06.916Z"
   },
   {
    "duration": 433,
    "start_time": "2024-04-05T11:45:06.926Z"
   },
   {
    "duration": 20,
    "start_time": "2024-04-05T11:45:07.361Z"
   },
   {
    "duration": 230,
    "start_time": "2024-04-05T11:45:07.382Z"
   },
   {
    "duration": 7,
    "start_time": "2024-04-05T11:45:07.613Z"
   },
   {
    "duration": 219,
    "start_time": "2024-04-05T11:45:07.621Z"
   },
   {
    "duration": 7,
    "start_time": "2024-04-05T11:45:07.842Z"
   },
   {
    "duration": 227,
    "start_time": "2024-04-05T11:45:07.851Z"
   },
   {
    "duration": 5,
    "start_time": "2024-04-05T11:45:08.080Z"
   },
   {
    "duration": 174,
    "start_time": "2024-04-05T11:45:08.087Z"
   },
   {
    "duration": 12,
    "start_time": "2024-04-05T11:45:08.262Z"
   },
   {
    "duration": 139,
    "start_time": "2024-04-05T11:45:08.275Z"
   },
   {
    "duration": 187,
    "start_time": "2024-04-05T11:45:08.416Z"
   },
   {
    "duration": 294,
    "start_time": "2024-04-05T11:45:08.605Z"
   },
   {
    "duration": 165,
    "start_time": "2024-04-05T11:45:08.901Z"
   },
   {
    "duration": 9,
    "start_time": "2024-04-05T11:45:09.068Z"
   },
   {
    "duration": 17,
    "start_time": "2024-04-05T11:45:09.078Z"
   },
   {
    "duration": 198,
    "start_time": "2024-04-05T11:45:09.097Z"
   },
   {
    "duration": 10,
    "start_time": "2024-04-05T11:45:43.809Z"
   },
   {
    "duration": 7,
    "start_time": "2024-04-05T11:49:14.753Z"
   },
   {
    "duration": 543,
    "start_time": "2024-04-05T11:49:24.199Z"
   },
   {
    "duration": 15,
    "start_time": "2024-04-05T11:49:24.744Z"
   },
   {
    "duration": 2361,
    "start_time": "2024-04-05T11:49:24.760Z"
   },
   {
    "duration": 27,
    "start_time": "2024-04-05T11:49:27.123Z"
   },
   {
    "duration": 10,
    "start_time": "2024-04-05T11:49:27.151Z"
   },
   {
    "duration": 15,
    "start_time": "2024-04-05T11:49:27.163Z"
   },
   {
    "duration": 17,
    "start_time": "2024-04-05T11:49:27.180Z"
   },
   {
    "duration": 18,
    "start_time": "2024-04-05T11:49:27.199Z"
   },
   {
    "duration": 22,
    "start_time": "2024-04-05T11:49:27.218Z"
   },
   {
    "duration": 20,
    "start_time": "2024-04-05T11:49:27.243Z"
   },
   {
    "duration": 27,
    "start_time": "2024-04-05T11:49:27.265Z"
   },
   {
    "duration": 24,
    "start_time": "2024-04-05T11:49:27.294Z"
   },
   {
    "duration": 23,
    "start_time": "2024-04-05T11:49:27.320Z"
   },
   {
    "duration": 103,
    "start_time": "2024-04-05T11:49:27.345Z"
   },
   {
    "duration": 5,
    "start_time": "2024-04-05T11:49:27.450Z"
   },
   {
    "duration": 31,
    "start_time": "2024-04-05T11:49:27.457Z"
   },
   {
    "duration": 12,
    "start_time": "2024-04-05T11:49:27.489Z"
   },
   {
    "duration": 92,
    "start_time": "2024-04-05T11:49:27.502Z"
   },
   {
    "duration": 12272,
    "start_time": "2024-04-05T11:49:27.596Z"
   },
   {
    "duration": 5,
    "start_time": "2024-04-05T11:49:39.869Z"
   },
   {
    "duration": 27,
    "start_time": "2024-04-05T11:49:39.875Z"
   },
   {
    "duration": 14,
    "start_time": "2024-04-05T11:49:39.904Z"
   },
   {
    "duration": 290,
    "start_time": "2024-04-05T11:49:39.919Z"
   },
   {
    "duration": 13,
    "start_time": "2024-04-05T11:49:40.211Z"
   },
   {
    "duration": 9,
    "start_time": "2024-04-05T11:49:40.226Z"
   },
   {
    "duration": 9,
    "start_time": "2024-04-05T11:49:40.236Z"
   },
   {
    "duration": 271,
    "start_time": "2024-04-05T11:49:40.246Z"
   },
   {
    "duration": 9,
    "start_time": "2024-04-05T11:49:40.523Z"
   },
   {
    "duration": 283,
    "start_time": "2024-04-05T11:49:40.534Z"
   },
   {
    "duration": 10,
    "start_time": "2024-04-05T11:49:40.819Z"
   },
   {
    "duration": 8,
    "start_time": "2024-04-05T11:49:40.831Z"
   },
   {
    "duration": 40,
    "start_time": "2024-04-05T11:49:40.841Z"
   },
   {
    "duration": 336,
    "start_time": "2024-04-05T11:49:40.884Z"
   },
   {
    "duration": 10,
    "start_time": "2024-04-05T11:49:41.222Z"
   },
   {
    "duration": 9,
    "start_time": "2024-04-05T11:49:41.233Z"
   },
   {
    "duration": 220,
    "start_time": "2024-04-05T11:49:41.244Z"
   },
   {
    "duration": 80,
    "start_time": "2024-04-05T11:49:41.465Z"
   },
   {
    "duration": 0,
    "start_time": "2024-04-05T11:49:41.547Z"
   },
   {
    "duration": 0,
    "start_time": "2024-04-05T11:49:41.548Z"
   },
   {
    "duration": 0,
    "start_time": "2024-04-05T11:49:41.550Z"
   },
   {
    "duration": 0,
    "start_time": "2024-04-05T11:49:41.551Z"
   },
   {
    "duration": 0,
    "start_time": "2024-04-05T11:49:41.553Z"
   },
   {
    "duration": 0,
    "start_time": "2024-04-05T11:49:41.554Z"
   },
   {
    "duration": 0,
    "start_time": "2024-04-05T11:49:41.555Z"
   },
   {
    "duration": 0,
    "start_time": "2024-04-05T11:49:41.557Z"
   },
   {
    "duration": 0,
    "start_time": "2024-04-05T11:49:41.558Z"
   },
   {
    "duration": 0,
    "start_time": "2024-04-05T11:49:41.559Z"
   },
   {
    "duration": 0,
    "start_time": "2024-04-05T11:49:41.561Z"
   },
   {
    "duration": 0,
    "start_time": "2024-04-05T11:49:41.562Z"
   },
   {
    "duration": 0,
    "start_time": "2024-04-05T11:49:41.563Z"
   },
   {
    "duration": 0,
    "start_time": "2024-04-05T11:49:41.565Z"
   },
   {
    "duration": 0,
    "start_time": "2024-04-05T11:49:41.566Z"
   },
   {
    "duration": 0,
    "start_time": "2024-04-05T11:49:41.567Z"
   },
   {
    "duration": 0,
    "start_time": "2024-04-05T11:49:41.569Z"
   },
   {
    "duration": 0,
    "start_time": "2024-04-05T11:49:41.570Z"
   },
   {
    "duration": 0,
    "start_time": "2024-04-05T11:49:41.572Z"
   },
   {
    "duration": 0,
    "start_time": "2024-04-05T11:49:41.573Z"
   },
   {
    "duration": 0,
    "start_time": "2024-04-05T11:49:41.574Z"
   },
   {
    "duration": 0,
    "start_time": "2024-04-05T11:49:41.575Z"
   },
   {
    "duration": 0,
    "start_time": "2024-04-05T11:49:41.576Z"
   },
   {
    "duration": 0,
    "start_time": "2024-04-05T11:49:41.577Z"
   },
   {
    "duration": 0,
    "start_time": "2024-04-05T11:49:41.579Z"
   },
   {
    "duration": 0,
    "start_time": "2024-04-05T11:49:41.581Z"
   },
   {
    "duration": 0,
    "start_time": "2024-04-05T11:49:41.582Z"
   },
   {
    "duration": 0,
    "start_time": "2024-04-05T11:49:41.583Z"
   },
   {
    "duration": 0,
    "start_time": "2024-04-05T11:49:41.584Z"
   },
   {
    "duration": 0,
    "start_time": "2024-04-05T11:49:41.585Z"
   },
   {
    "duration": 191,
    "start_time": "2024-04-05T11:50:05.050Z"
   },
   {
    "duration": 209,
    "start_time": "2024-04-05T11:51:13.552Z"
   },
   {
    "duration": 614,
    "start_time": "2024-04-05T11:51:51.839Z"
   },
   {
    "duration": 24,
    "start_time": "2024-04-05T11:51:52.455Z"
   },
   {
    "duration": 2421,
    "start_time": "2024-04-05T11:51:52.481Z"
   },
   {
    "duration": 29,
    "start_time": "2024-04-05T11:51:54.904Z"
   },
   {
    "duration": 14,
    "start_time": "2024-04-05T11:51:54.935Z"
   },
   {
    "duration": 13,
    "start_time": "2024-04-05T11:51:54.951Z"
   },
   {
    "duration": 6,
    "start_time": "2024-04-05T11:51:54.973Z"
   },
   {
    "duration": 11,
    "start_time": "2024-04-05T11:51:54.981Z"
   },
   {
    "duration": 21,
    "start_time": "2024-04-05T11:51:54.993Z"
   },
   {
    "duration": 13,
    "start_time": "2024-04-05T11:51:55.017Z"
   },
   {
    "duration": 20,
    "start_time": "2024-04-05T11:51:55.032Z"
   },
   {
    "duration": 3,
    "start_time": "2024-04-05T11:51:55.054Z"
   },
   {
    "duration": 24,
    "start_time": "2024-04-05T11:51:55.059Z"
   },
   {
    "duration": 102,
    "start_time": "2024-04-05T11:51:55.085Z"
   },
   {
    "duration": 5,
    "start_time": "2024-04-05T11:51:55.189Z"
   },
   {
    "duration": 17,
    "start_time": "2024-04-05T11:51:55.196Z"
   },
   {
    "duration": 11,
    "start_time": "2024-04-05T11:51:55.215Z"
   },
   {
    "duration": 96,
    "start_time": "2024-04-05T11:51:55.228Z"
   },
   {
    "duration": 12720,
    "start_time": "2024-04-05T11:51:55.326Z"
   },
   {
    "duration": 4,
    "start_time": "2024-04-05T11:52:08.048Z"
   },
   {
    "duration": 12,
    "start_time": "2024-04-05T11:52:08.054Z"
   },
   {
    "duration": 13,
    "start_time": "2024-04-05T11:52:08.073Z"
   },
   {
    "duration": 284,
    "start_time": "2024-04-05T11:52:08.088Z"
   },
   {
    "duration": 12,
    "start_time": "2024-04-05T11:52:08.374Z"
   },
   {
    "duration": 9,
    "start_time": "2024-04-05T11:52:08.388Z"
   },
   {
    "duration": 21,
    "start_time": "2024-04-05T11:52:08.399Z"
   },
   {
    "duration": 274,
    "start_time": "2024-04-05T11:52:08.422Z"
   },
   {
    "duration": 10,
    "start_time": "2024-04-05T11:52:08.701Z"
   },
   {
    "duration": 268,
    "start_time": "2024-04-05T11:52:08.712Z"
   },
   {
    "duration": 11,
    "start_time": "2024-04-05T11:52:08.982Z"
   },
   {
    "duration": 13,
    "start_time": "2024-04-05T11:52:08.995Z"
   },
   {
    "duration": 14,
    "start_time": "2024-04-05T11:52:09.010Z"
   },
   {
    "duration": 349,
    "start_time": "2024-04-05T11:52:09.025Z"
   },
   {
    "duration": 8,
    "start_time": "2024-04-05T11:52:09.376Z"
   },
   {
    "duration": 221,
    "start_time": "2024-04-05T11:52:09.385Z"
   },
   {
    "duration": 8,
    "start_time": "2024-04-05T11:52:09.608Z"
   },
   {
    "duration": 26,
    "start_time": "2024-04-05T11:52:09.618Z"
   },
   {
    "duration": 173,
    "start_time": "2024-04-05T11:52:09.646Z"
   },
   {
    "duration": 193,
    "start_time": "2024-04-05T11:52:09.821Z"
   },
   {
    "duration": 170,
    "start_time": "2024-04-05T11:52:10.016Z"
   },
   {
    "duration": 8,
    "start_time": "2024-04-05T11:52:10.188Z"
   },
   {
    "duration": 19,
    "start_time": "2024-04-05T11:52:10.198Z"
   },
   {
    "duration": 248,
    "start_time": "2024-04-05T11:52:10.219Z"
   },
   {
    "duration": 11,
    "start_time": "2024-04-05T11:52:10.469Z"
   },
   {
    "duration": 488,
    "start_time": "2024-04-05T11:52:10.481Z"
   },
   {
    "duration": 10,
    "start_time": "2024-04-05T11:52:10.970Z"
   },
   {
    "duration": 396,
    "start_time": "2024-04-05T11:52:10.981Z"
   },
   {
    "duration": 10,
    "start_time": "2024-04-05T11:52:11.379Z"
   },
   {
    "duration": 401,
    "start_time": "2024-04-05T11:52:11.391Z"
   },
   {
    "duration": 12,
    "start_time": "2024-04-05T11:52:11.793Z"
   },
   {
    "duration": 231,
    "start_time": "2024-04-05T11:52:11.807Z"
   },
   {
    "duration": 5,
    "start_time": "2024-04-05T11:52:12.040Z"
   },
   {
    "duration": 224,
    "start_time": "2024-04-05T11:52:12.046Z"
   },
   {
    "duration": 6,
    "start_time": "2024-04-05T11:52:12.272Z"
   },
   {
    "duration": 227,
    "start_time": "2024-04-05T11:52:12.279Z"
   },
   {
    "duration": 6,
    "start_time": "2024-04-05T11:52:12.507Z"
   },
   {
    "duration": 159,
    "start_time": "2024-04-05T11:52:12.514Z"
   },
   {
    "duration": 6,
    "start_time": "2024-04-05T11:52:12.674Z"
   },
   {
    "duration": 264,
    "start_time": "2024-04-05T11:52:12.682Z"
   },
   {
    "duration": 175,
    "start_time": "2024-04-05T11:52:12.947Z"
   },
   {
    "duration": 187,
    "start_time": "2024-04-05T11:52:13.124Z"
   },
   {
    "duration": 166,
    "start_time": "2024-04-05T11:52:13.312Z"
   },
   {
    "duration": 9,
    "start_time": "2024-04-05T11:52:13.480Z"
   },
   {
    "duration": 16,
    "start_time": "2024-04-05T11:52:13.491Z"
   },
   {
    "duration": 180,
    "start_time": "2024-04-05T11:52:13.509Z"
   },
   {
    "duration": 23,
    "start_time": "2024-04-05T11:52:13.705Z"
   },
   {
    "duration": 132,
    "start_time": "2024-04-05T11:57:31.337Z"
   },
   {
    "duration": 172,
    "start_time": "2024-04-05T12:01:34.881Z"
   },
   {
    "duration": 9,
    "start_time": "2024-04-05T12:02:32.368Z"
   },
   {
    "duration": 14,
    "start_time": "2024-04-05T12:03:09.648Z"
   },
   {
    "duration": 568,
    "start_time": "2024-04-05T12:21:03.898Z"
   },
   {
    "duration": 17,
    "start_time": "2024-04-05T12:21:04.468Z"
   },
   {
    "duration": 2330,
    "start_time": "2024-04-05T12:21:04.487Z"
   },
   {
    "duration": 28,
    "start_time": "2024-04-05T12:21:06.820Z"
   },
   {
    "duration": 10,
    "start_time": "2024-04-05T12:21:06.850Z"
   },
   {
    "duration": 17,
    "start_time": "2024-04-05T12:21:06.862Z"
   },
   {
    "duration": 5,
    "start_time": "2024-04-05T12:21:06.881Z"
   },
   {
    "duration": 8,
    "start_time": "2024-04-05T12:21:06.887Z"
   },
   {
    "duration": 6,
    "start_time": "2024-04-05T12:21:06.897Z"
   },
   {
    "duration": 6,
    "start_time": "2024-04-05T12:21:06.905Z"
   },
   {
    "duration": 7,
    "start_time": "2024-04-05T12:21:06.913Z"
   },
   {
    "duration": 14,
    "start_time": "2024-04-05T12:21:06.921Z"
   },
   {
    "duration": 14,
    "start_time": "2024-04-05T12:21:06.937Z"
   },
   {
    "duration": 146,
    "start_time": "2024-04-05T12:21:06.972Z"
   },
   {
    "duration": 5,
    "start_time": "2024-04-05T12:21:07.120Z"
   },
   {
    "duration": 17,
    "start_time": "2024-04-05T12:21:07.127Z"
   },
   {
    "duration": 10,
    "start_time": "2024-04-05T12:21:07.146Z"
   },
   {
    "duration": 91,
    "start_time": "2024-04-05T12:21:07.158Z"
   },
   {
    "duration": 13255,
    "start_time": "2024-04-05T12:21:07.251Z"
   },
   {
    "duration": 5,
    "start_time": "2024-04-05T12:21:20.508Z"
   },
   {
    "duration": 48,
    "start_time": "2024-04-05T12:21:20.514Z"
   },
   {
    "duration": 16,
    "start_time": "2024-04-05T12:21:20.564Z"
   },
   {
    "duration": 449,
    "start_time": "2024-04-05T12:21:20.581Z"
   },
   {
    "duration": 42,
    "start_time": "2024-04-05T12:21:21.032Z"
   },
   {
    "duration": 13,
    "start_time": "2024-04-05T12:21:21.076Z"
   },
   {
    "duration": 9,
    "start_time": "2024-04-05T12:21:21.091Z"
   },
   {
    "duration": 290,
    "start_time": "2024-04-05T12:21:21.102Z"
   },
   {
    "duration": 10,
    "start_time": "2024-04-05T12:21:21.396Z"
   },
   {
    "duration": 273,
    "start_time": "2024-04-05T12:21:21.407Z"
   },
   {
    "duration": 10,
    "start_time": "2024-04-05T12:21:21.681Z"
   },
   {
    "duration": 17,
    "start_time": "2024-04-05T12:21:21.692Z"
   },
   {
    "duration": 22,
    "start_time": "2024-04-05T12:21:21.711Z"
   },
   {
    "duration": 355,
    "start_time": "2024-04-05T12:21:21.734Z"
   },
   {
    "duration": 8,
    "start_time": "2024-04-05T12:21:22.091Z"
   },
   {
    "duration": 244,
    "start_time": "2024-04-05T12:21:22.101Z"
   },
   {
    "duration": 9,
    "start_time": "2024-04-05T12:21:22.347Z"
   },
   {
    "duration": 18,
    "start_time": "2024-04-05T12:21:22.357Z"
   },
   {
    "duration": 257,
    "start_time": "2024-04-05T12:21:22.377Z"
   },
   {
    "duration": 195,
    "start_time": "2024-04-05T12:21:22.636Z"
   },
   {
    "duration": 143,
    "start_time": "2024-04-05T12:21:22.833Z"
   },
   {
    "duration": 10,
    "start_time": "2024-04-05T12:21:22.977Z"
   },
   {
    "duration": 8,
    "start_time": "2024-04-05T12:21:22.988Z"
   },
   {
    "duration": 271,
    "start_time": "2024-04-05T12:21:22.998Z"
   },
   {
    "duration": 9,
    "start_time": "2024-04-05T12:21:23.272Z"
   },
   {
    "duration": 495,
    "start_time": "2024-04-05T12:21:23.283Z"
   },
   {
    "duration": 14,
    "start_time": "2024-04-05T12:21:23.781Z"
   },
   {
    "duration": 390,
    "start_time": "2024-04-05T12:21:23.797Z"
   },
   {
    "duration": 15,
    "start_time": "2024-04-05T12:21:24.189Z"
   },
   {
    "duration": 9,
    "start_time": "2024-04-05T12:21:24.206Z"
   },
   {
    "duration": 416,
    "start_time": "2024-04-05T12:21:24.217Z"
   },
   {
    "duration": 13,
    "start_time": "2024-04-05T12:21:24.635Z"
   },
   {
    "duration": 235,
    "start_time": "2024-04-05T12:21:24.649Z"
   },
   {
    "duration": 5,
    "start_time": "2024-04-05T12:21:24.886Z"
   },
   {
    "duration": 218,
    "start_time": "2024-04-05T12:21:24.892Z"
   },
   {
    "duration": 5,
    "start_time": "2024-04-05T12:21:25.112Z"
   },
   {
    "duration": 248,
    "start_time": "2024-04-05T12:21:25.119Z"
   },
   {
    "duration": 6,
    "start_time": "2024-04-05T12:21:25.369Z"
   },
   {
    "duration": 151,
    "start_time": "2024-04-05T12:21:25.377Z"
   },
   {
    "duration": 6,
    "start_time": "2024-04-05T12:21:25.529Z"
   },
   {
    "duration": 262,
    "start_time": "2024-04-05T12:21:25.536Z"
   },
   {
    "duration": 183,
    "start_time": "2024-04-05T12:21:25.799Z"
   },
   {
    "duration": 194,
    "start_time": "2024-04-05T12:21:25.983Z"
   },
   {
    "duration": 160,
    "start_time": "2024-04-05T12:21:26.179Z"
   },
   {
    "duration": 8,
    "start_time": "2024-04-05T12:21:26.341Z"
   },
   {
    "duration": 30,
    "start_time": "2024-04-05T12:21:26.351Z"
   },
   {
    "duration": 170,
    "start_time": "2024-04-05T12:21:26.383Z"
   },
   {
    "duration": 605,
    "start_time": "2024-04-05T12:22:55.538Z"
   },
   {
    "duration": 17,
    "start_time": "2024-04-05T12:22:56.146Z"
   },
   {
    "duration": 2357,
    "start_time": "2024-04-05T12:22:56.173Z"
   },
   {
    "duration": 29,
    "start_time": "2024-04-05T12:22:58.532Z"
   },
   {
    "duration": 11,
    "start_time": "2024-04-05T12:22:58.563Z"
   },
   {
    "duration": 11,
    "start_time": "2024-04-05T12:22:58.575Z"
   },
   {
    "duration": 5,
    "start_time": "2024-04-05T12:22:58.588Z"
   },
   {
    "duration": 7,
    "start_time": "2024-04-05T12:22:58.595Z"
   },
   {
    "duration": 12,
    "start_time": "2024-04-05T12:22:58.603Z"
   },
   {
    "duration": 8,
    "start_time": "2024-04-05T12:22:58.618Z"
   },
   {
    "duration": 10,
    "start_time": "2024-04-05T12:22:58.627Z"
   },
   {
    "duration": 20,
    "start_time": "2024-04-05T12:22:58.638Z"
   },
   {
    "duration": 22,
    "start_time": "2024-04-05T12:22:58.659Z"
   },
   {
    "duration": 116,
    "start_time": "2024-04-05T12:22:58.683Z"
   },
   {
    "duration": 6,
    "start_time": "2024-04-05T12:22:58.800Z"
   },
   {
    "duration": 23,
    "start_time": "2024-04-05T12:22:58.808Z"
   },
   {
    "duration": 4,
    "start_time": "2024-04-05T12:22:58.833Z"
   },
   {
    "duration": 108,
    "start_time": "2024-04-05T12:22:58.838Z"
   },
   {
    "duration": 12198,
    "start_time": "2024-04-05T12:22:58.947Z"
   },
   {
    "duration": 5,
    "start_time": "2024-04-05T12:23:11.147Z"
   },
   {
    "duration": 21,
    "start_time": "2024-04-05T12:23:11.154Z"
   },
   {
    "duration": 13,
    "start_time": "2024-04-05T12:23:11.177Z"
   },
   {
    "duration": 284,
    "start_time": "2024-04-05T12:23:11.191Z"
   },
   {
    "duration": 13,
    "start_time": "2024-04-05T12:23:11.476Z"
   },
   {
    "duration": 10,
    "start_time": "2024-04-05T12:23:11.490Z"
   },
   {
    "duration": 9,
    "start_time": "2024-04-05T12:23:11.502Z"
   },
   {
    "duration": 296,
    "start_time": "2024-04-05T12:23:11.513Z"
   },
   {
    "duration": 9,
    "start_time": "2024-04-05T12:23:11.813Z"
   },
   {
    "duration": 264,
    "start_time": "2024-04-05T12:23:11.823Z"
   },
   {
    "duration": 9,
    "start_time": "2024-04-05T12:23:12.088Z"
   },
   {
    "duration": 5,
    "start_time": "2024-04-05T12:23:12.099Z"
   },
   {
    "duration": 12,
    "start_time": "2024-04-05T12:23:12.105Z"
   },
   {
    "duration": 361,
    "start_time": "2024-04-05T12:23:12.119Z"
   },
   {
    "duration": 9,
    "start_time": "2024-04-05T12:23:12.482Z"
   },
   {
    "duration": 259,
    "start_time": "2024-04-05T12:23:12.493Z"
   },
   {
    "duration": 9,
    "start_time": "2024-04-05T12:23:12.754Z"
   },
   {
    "duration": 16,
    "start_time": "2024-04-05T12:23:12.773Z"
   },
   {
    "duration": 175,
    "start_time": "2024-04-05T12:23:12.790Z"
   },
   {
    "duration": 197,
    "start_time": "2024-04-05T12:23:12.967Z"
   },
   {
    "duration": 140,
    "start_time": "2024-04-05T12:23:13.165Z"
   },
   {
    "duration": 8,
    "start_time": "2024-04-05T12:23:13.306Z"
   },
   {
    "duration": 7,
    "start_time": "2024-04-05T12:23:13.316Z"
   },
   {
    "duration": 294,
    "start_time": "2024-04-05T12:23:13.325Z"
   },
   {
    "duration": 9,
    "start_time": "2024-04-05T12:23:13.621Z"
   },
   {
    "duration": 529,
    "start_time": "2024-04-05T12:23:13.631Z"
   },
   {
    "duration": 13,
    "start_time": "2024-04-05T12:23:14.161Z"
   },
   {
    "duration": 375,
    "start_time": "2024-04-05T12:23:14.176Z"
   },
   {
    "duration": 23,
    "start_time": "2024-04-05T12:23:14.553Z"
   },
   {
    "duration": 8,
    "start_time": "2024-04-05T12:23:14.578Z"
   },
   {
    "duration": 402,
    "start_time": "2024-04-05T12:23:14.588Z"
   },
   {
    "duration": 12,
    "start_time": "2024-04-05T12:23:14.992Z"
   },
   {
    "duration": 247,
    "start_time": "2024-04-05T12:23:15.005Z"
   },
   {
    "duration": 5,
    "start_time": "2024-04-05T12:23:15.254Z"
   },
   {
    "duration": 244,
    "start_time": "2024-04-05T12:23:15.261Z"
   },
   {
    "duration": 5,
    "start_time": "2024-04-05T12:23:15.507Z"
   },
   {
    "duration": 225,
    "start_time": "2024-04-05T12:23:15.514Z"
   },
   {
    "duration": 6,
    "start_time": "2024-04-05T12:23:15.741Z"
   },
   {
    "duration": 146,
    "start_time": "2024-04-05T12:23:15.749Z"
   },
   {
    "duration": 5,
    "start_time": "2024-04-05T12:23:15.897Z"
   },
   {
    "duration": 261,
    "start_time": "2024-04-05T12:23:15.903Z"
   },
   {
    "duration": 169,
    "start_time": "2024-04-05T12:23:16.172Z"
   },
   {
    "duration": 187,
    "start_time": "2024-04-05T12:23:16.342Z"
   },
   {
    "duration": 174,
    "start_time": "2024-04-05T12:23:16.531Z"
   },
   {
    "duration": 8,
    "start_time": "2024-04-05T12:23:16.707Z"
   },
   {
    "duration": 17,
    "start_time": "2024-04-05T12:23:16.717Z"
   },
   {
    "duration": 182,
    "start_time": "2024-04-05T12:23:16.736Z"
   },
   {
    "duration": 611,
    "start_time": "2024-04-05T12:37:51.940Z"
   },
   {
    "duration": 29,
    "start_time": "2024-04-05T12:37:52.554Z"
   },
   {
    "duration": 2372,
    "start_time": "2024-04-05T12:37:52.586Z"
   },
   {
    "duration": 30,
    "start_time": "2024-04-05T12:37:54.960Z"
   },
   {
    "duration": 12,
    "start_time": "2024-04-05T12:37:54.993Z"
   },
   {
    "duration": 19,
    "start_time": "2024-04-05T12:37:55.007Z"
   },
   {
    "duration": 30,
    "start_time": "2024-04-05T12:37:55.027Z"
   },
   {
    "duration": 37,
    "start_time": "2024-04-05T12:37:55.059Z"
   },
   {
    "duration": 32,
    "start_time": "2024-04-05T12:37:55.098Z"
   },
   {
    "duration": 31,
    "start_time": "2024-04-05T12:37:55.132Z"
   },
   {
    "duration": 39,
    "start_time": "2024-04-05T12:37:55.165Z"
   },
   {
    "duration": 42,
    "start_time": "2024-04-05T12:37:55.206Z"
   },
   {
    "duration": 37,
    "start_time": "2024-04-05T12:37:55.249Z"
   },
   {
    "duration": 119,
    "start_time": "2024-04-05T12:37:55.289Z"
   },
   {
    "duration": 6,
    "start_time": "2024-04-05T12:37:55.409Z"
   },
   {
    "duration": 36,
    "start_time": "2024-04-05T12:37:55.416Z"
   },
   {
    "duration": 18,
    "start_time": "2024-04-05T12:37:55.453Z"
   },
   {
    "duration": 100,
    "start_time": "2024-04-05T12:37:55.472Z"
   },
   {
    "duration": 12415,
    "start_time": "2024-04-05T12:37:55.573Z"
   },
   {
    "duration": 4,
    "start_time": "2024-04-05T12:38:07.990Z"
   },
   {
    "duration": 13,
    "start_time": "2024-04-05T12:38:07.996Z"
   },
   {
    "duration": 32,
    "start_time": "2024-04-05T12:38:08.010Z"
   },
   {
    "duration": 283,
    "start_time": "2024-04-05T12:38:08.044Z"
   },
   {
    "duration": 12,
    "start_time": "2024-04-05T12:38:08.329Z"
   },
   {
    "duration": 18,
    "start_time": "2024-04-05T12:38:08.343Z"
   },
   {
    "duration": 10,
    "start_time": "2024-04-05T12:38:08.373Z"
   },
   {
    "duration": 269,
    "start_time": "2024-04-05T12:38:08.385Z"
   },
   {
    "duration": 18,
    "start_time": "2024-04-05T12:38:08.655Z"
   },
   {
    "duration": 249,
    "start_time": "2024-04-05T12:38:08.674Z"
   },
   {
    "duration": 8,
    "start_time": "2024-04-05T12:38:08.925Z"
   },
   {
    "duration": 4,
    "start_time": "2024-04-05T12:38:08.935Z"
   },
   {
    "duration": 35,
    "start_time": "2024-04-05T12:38:08.940Z"
   },
   {
    "duration": 332,
    "start_time": "2024-04-05T12:38:08.977Z"
   },
   {
    "duration": 10,
    "start_time": "2024-04-05T12:38:09.310Z"
   },
   {
    "duration": 239,
    "start_time": "2024-04-05T12:38:09.322Z"
   },
   {
    "duration": 16,
    "start_time": "2024-04-05T12:38:09.562Z"
   },
   {
    "duration": 8,
    "start_time": "2024-04-05T12:38:09.580Z"
   },
   {
    "duration": 204,
    "start_time": "2024-04-05T12:38:09.590Z"
   },
   {
    "duration": 197,
    "start_time": "2024-04-05T12:38:09.796Z"
   },
   {
    "duration": 153,
    "start_time": "2024-04-05T12:38:09.995Z"
   },
   {
    "duration": 21,
    "start_time": "2024-04-05T12:38:10.153Z"
   },
   {
    "duration": 7,
    "start_time": "2024-04-05T12:38:10.176Z"
   },
   {
    "duration": 260,
    "start_time": "2024-04-05T12:38:10.185Z"
   },
   {
    "duration": 9,
    "start_time": "2024-04-05T12:38:10.446Z"
   },
   {
    "duration": 488,
    "start_time": "2024-04-05T12:38:10.457Z"
   },
   {
    "duration": 9,
    "start_time": "2024-04-05T12:38:10.947Z"
   },
   {
    "duration": 416,
    "start_time": "2024-04-05T12:38:10.957Z"
   },
   {
    "duration": 15,
    "start_time": "2024-04-05T12:38:11.374Z"
   },
   {
    "duration": 8,
    "start_time": "2024-04-05T12:38:11.391Z"
   },
   {
    "duration": 408,
    "start_time": "2024-04-05T12:38:11.401Z"
   },
   {
    "duration": 11,
    "start_time": "2024-04-05T12:38:11.811Z"
   },
   {
    "duration": 230,
    "start_time": "2024-04-05T12:38:11.824Z"
   },
   {
    "duration": 5,
    "start_time": "2024-04-05T12:38:12.056Z"
   },
   {
    "duration": 213,
    "start_time": "2024-04-05T12:38:12.072Z"
   },
   {
    "duration": 6,
    "start_time": "2024-04-05T12:38:12.286Z"
   },
   {
    "duration": 243,
    "start_time": "2024-04-05T12:38:12.293Z"
   },
   {
    "duration": 6,
    "start_time": "2024-04-05T12:38:12.538Z"
   },
   {
    "duration": 179,
    "start_time": "2024-04-05T12:38:12.546Z"
   },
   {
    "duration": 5,
    "start_time": "2024-04-05T12:38:12.726Z"
   },
   {
    "duration": 275,
    "start_time": "2024-04-05T12:38:12.733Z"
   },
   {
    "duration": 173,
    "start_time": "2024-04-05T12:38:13.009Z"
   },
   {
    "duration": 191,
    "start_time": "2024-04-05T12:38:13.183Z"
   },
   {
    "duration": 184,
    "start_time": "2024-04-05T12:38:13.376Z"
   },
   {
    "duration": 12,
    "start_time": "2024-04-05T12:38:13.562Z"
   },
   {
    "duration": 15,
    "start_time": "2024-04-05T12:38:13.576Z"
   },
   {
    "duration": 180,
    "start_time": "2024-04-05T12:38:13.593Z"
   },
   {
    "duration": 14,
    "start_time": "2024-04-05T12:39:47.223Z"
   },
   {
    "duration": 538,
    "start_time": "2024-04-05T12:42:06.204Z"
   },
   {
    "duration": 33,
    "start_time": "2024-04-05T12:42:06.743Z"
   },
   {
    "duration": 2385,
    "start_time": "2024-04-05T12:42:06.777Z"
   },
   {
    "duration": 28,
    "start_time": "2024-04-05T12:42:09.164Z"
   },
   {
    "duration": 10,
    "start_time": "2024-04-05T12:42:09.193Z"
   },
   {
    "duration": 13,
    "start_time": "2024-04-05T12:42:09.205Z"
   },
   {
    "duration": 5,
    "start_time": "2024-04-05T12:42:09.219Z"
   },
   {
    "duration": 10,
    "start_time": "2024-04-05T12:42:09.226Z"
   },
   {
    "duration": 36,
    "start_time": "2024-04-05T12:42:09.238Z"
   },
   {
    "duration": 6,
    "start_time": "2024-04-05T12:42:09.277Z"
   },
   {
    "duration": 8,
    "start_time": "2024-04-05T12:42:09.285Z"
   },
   {
    "duration": 11,
    "start_time": "2024-04-05T12:42:09.295Z"
   },
   {
    "duration": 18,
    "start_time": "2024-04-05T12:42:09.307Z"
   },
   {
    "duration": 126,
    "start_time": "2024-04-05T12:42:09.327Z"
   },
   {
    "duration": 6,
    "start_time": "2024-04-05T12:42:09.454Z"
   },
   {
    "duration": 24,
    "start_time": "2024-04-05T12:42:09.461Z"
   },
   {
    "duration": 4,
    "start_time": "2024-04-05T12:42:09.486Z"
   },
   {
    "duration": 98,
    "start_time": "2024-04-05T12:42:09.492Z"
   },
   {
    "duration": 12482,
    "start_time": "2024-04-05T12:42:09.591Z"
   },
   {
    "duration": 4,
    "start_time": "2024-04-05T12:42:22.075Z"
   },
   {
    "duration": 41,
    "start_time": "2024-04-05T12:42:22.081Z"
   },
   {
    "duration": 27,
    "start_time": "2024-04-05T12:42:22.124Z"
   },
   {
    "duration": 297,
    "start_time": "2024-04-05T12:42:22.153Z"
   },
   {
    "duration": 26,
    "start_time": "2024-04-05T12:42:22.452Z"
   },
   {
    "duration": 30,
    "start_time": "2024-04-05T12:42:22.479Z"
   },
   {
    "duration": 11,
    "start_time": "2024-04-05T12:42:22.511Z"
   },
   {
    "duration": 277,
    "start_time": "2024-04-05T12:42:22.524Z"
   },
   {
    "duration": 10,
    "start_time": "2024-04-05T12:42:22.805Z"
   },
   {
    "duration": 271,
    "start_time": "2024-04-05T12:42:22.816Z"
   },
   {
    "duration": 9,
    "start_time": "2024-04-05T12:42:23.089Z"
   },
   {
    "duration": 9,
    "start_time": "2024-04-05T12:42:23.100Z"
   },
   {
    "duration": 14,
    "start_time": "2024-04-05T12:42:23.111Z"
   },
   {
    "duration": 373,
    "start_time": "2024-04-05T12:42:23.126Z"
   },
   {
    "duration": 10,
    "start_time": "2024-04-05T12:42:23.501Z"
   },
   {
    "duration": 240,
    "start_time": "2024-04-05T12:42:23.513Z"
   },
   {
    "duration": 21,
    "start_time": "2024-04-05T12:42:23.755Z"
   },
   {
    "duration": 7,
    "start_time": "2024-04-05T12:42:23.777Z"
   },
   {
    "duration": 184,
    "start_time": "2024-04-05T12:42:23.786Z"
   },
   {
    "duration": 213,
    "start_time": "2024-04-05T12:42:23.971Z"
   },
   {
    "duration": 158,
    "start_time": "2024-04-05T12:42:24.186Z"
   },
   {
    "duration": 8,
    "start_time": "2024-04-05T12:42:24.345Z"
   },
   {
    "duration": 28,
    "start_time": "2024-04-05T12:42:24.355Z"
   },
   {
    "duration": 259,
    "start_time": "2024-04-05T12:42:24.384Z"
   },
   {
    "duration": 9,
    "start_time": "2024-04-05T12:42:24.644Z"
   },
   {
    "duration": 534,
    "start_time": "2024-04-05T12:42:24.655Z"
   },
   {
    "duration": 11,
    "start_time": "2024-04-05T12:42:25.191Z"
   },
   {
    "duration": 392,
    "start_time": "2024-04-05T12:42:25.204Z"
   },
   {
    "duration": 17,
    "start_time": "2024-04-05T12:42:25.598Z"
   },
   {
    "duration": 10,
    "start_time": "2024-04-05T12:42:25.617Z"
   },
   {
    "duration": 427,
    "start_time": "2024-04-05T12:42:25.629Z"
   },
   {
    "duration": 22,
    "start_time": "2024-04-05T12:42:26.059Z"
   },
   {
    "duration": 247,
    "start_time": "2024-04-05T12:42:26.083Z"
   },
   {
    "duration": 7,
    "start_time": "2024-04-05T12:42:26.332Z"
   },
   {
    "duration": 230,
    "start_time": "2024-04-05T12:42:26.341Z"
   },
   {
    "duration": 5,
    "start_time": "2024-04-05T12:42:26.573Z"
   },
   {
    "duration": 226,
    "start_time": "2024-04-05T12:42:26.580Z"
   },
   {
    "duration": 6,
    "start_time": "2024-04-05T12:42:26.807Z"
   },
   {
    "duration": 161,
    "start_time": "2024-04-05T12:42:26.815Z"
   },
   {
    "duration": 6,
    "start_time": "2024-04-05T12:42:26.978Z"
   },
   {
    "duration": 279,
    "start_time": "2024-04-05T12:42:26.985Z"
   },
   {
    "duration": 175,
    "start_time": "2024-04-05T12:42:27.266Z"
   },
   {
    "duration": 195,
    "start_time": "2024-04-05T12:42:27.442Z"
   },
   {
    "duration": 175,
    "start_time": "2024-04-05T12:42:27.639Z"
   },
   {
    "duration": 9,
    "start_time": "2024-04-05T12:42:27.816Z"
   },
   {
    "duration": 24,
    "start_time": "2024-04-05T12:42:27.826Z"
   },
   {
    "duration": 177,
    "start_time": "2024-04-05T12:42:27.852Z"
   },
   {
    "duration": 559,
    "start_time": "2024-04-05T12:45:42.106Z"
   },
   {
    "duration": 16,
    "start_time": "2024-04-05T12:45:42.667Z"
   },
   {
    "duration": 2509,
    "start_time": "2024-04-05T12:45:42.685Z"
   },
   {
    "duration": 28,
    "start_time": "2024-04-05T12:45:45.197Z"
   },
   {
    "duration": 33,
    "start_time": "2024-04-05T12:45:45.227Z"
   },
   {
    "duration": 23,
    "start_time": "2024-04-05T12:45:45.262Z"
   },
   {
    "duration": 19,
    "start_time": "2024-04-05T12:45:45.287Z"
   },
   {
    "duration": 38,
    "start_time": "2024-04-05T12:45:45.308Z"
   },
   {
    "duration": 29,
    "start_time": "2024-04-05T12:45:45.348Z"
   },
   {
    "duration": 14,
    "start_time": "2024-04-05T12:45:45.380Z"
   },
   {
    "duration": 42,
    "start_time": "2024-04-05T12:45:45.396Z"
   },
   {
    "duration": 33,
    "start_time": "2024-04-05T12:45:45.439Z"
   },
   {
    "duration": 39,
    "start_time": "2024-04-05T12:45:45.475Z"
   },
   {
    "duration": 194,
    "start_time": "2024-04-05T12:45:45.516Z"
   },
   {
    "duration": 6,
    "start_time": "2024-04-05T12:45:45.712Z"
   },
   {
    "duration": 37,
    "start_time": "2024-04-05T12:45:45.719Z"
   },
   {
    "duration": 13,
    "start_time": "2024-04-05T12:45:45.758Z"
   },
   {
    "duration": 129,
    "start_time": "2024-04-05T12:45:45.774Z"
   },
   {
    "duration": 12742,
    "start_time": "2024-04-05T12:45:45.906Z"
   },
   {
    "duration": 5,
    "start_time": "2024-04-05T12:45:58.650Z"
   },
   {
    "duration": 22,
    "start_time": "2024-04-05T12:45:58.656Z"
   },
   {
    "duration": 13,
    "start_time": "2024-04-05T12:45:58.679Z"
   },
   {
    "duration": 279,
    "start_time": "2024-04-05T12:45:58.694Z"
   },
   {
    "duration": 13,
    "start_time": "2024-04-05T12:45:58.974Z"
   },
   {
    "duration": 8,
    "start_time": "2024-04-05T12:45:58.989Z"
   },
   {
    "duration": 8,
    "start_time": "2024-04-05T12:45:58.999Z"
   },
   {
    "duration": 285,
    "start_time": "2024-04-05T12:45:59.008Z"
   },
   {
    "duration": 9,
    "start_time": "2024-04-05T12:45:59.297Z"
   },
   {
    "duration": 269,
    "start_time": "2024-04-05T12:45:59.308Z"
   },
   {
    "duration": 9,
    "start_time": "2024-04-05T12:45:59.578Z"
   },
   {
    "duration": 18,
    "start_time": "2024-04-05T12:45:59.588Z"
   },
   {
    "duration": 19,
    "start_time": "2024-04-05T12:45:59.607Z"
   },
   {
    "duration": 369,
    "start_time": "2024-04-05T12:45:59.627Z"
   },
   {
    "duration": 10,
    "start_time": "2024-04-05T12:45:59.998Z"
   },
   {
    "duration": 232,
    "start_time": "2024-04-05T12:46:00.010Z"
   },
   {
    "duration": 8,
    "start_time": "2024-04-05T12:46:00.244Z"
   },
   {
    "duration": 79,
    "start_time": "2024-04-05T12:46:00.254Z"
   },
   {
    "duration": 214,
    "start_time": "2024-04-05T12:46:00.335Z"
   },
   {
    "duration": 192,
    "start_time": "2024-04-05T12:46:00.551Z"
   },
   {
    "duration": 145,
    "start_time": "2024-04-05T12:46:00.745Z"
   },
   {
    "duration": 9,
    "start_time": "2024-04-05T12:46:00.891Z"
   },
   {
    "duration": 76,
    "start_time": "2024-04-05T12:46:00.901Z"
   },
   {
    "duration": 296,
    "start_time": "2024-04-05T12:46:00.979Z"
   },
   {
    "duration": 10,
    "start_time": "2024-04-05T12:46:01.276Z"
   },
   {
    "duration": 512,
    "start_time": "2024-04-05T12:46:01.288Z"
   },
   {
    "duration": 10,
    "start_time": "2024-04-05T12:46:01.802Z"
   },
   {
    "duration": 423,
    "start_time": "2024-04-05T12:46:01.813Z"
   },
   {
    "duration": 15,
    "start_time": "2024-04-05T12:46:02.237Z"
   },
   {
    "duration": 30,
    "start_time": "2024-04-05T12:46:02.253Z"
   },
   {
    "duration": 479,
    "start_time": "2024-04-05T12:46:02.285Z"
   },
   {
    "duration": 12,
    "start_time": "2024-04-05T12:46:02.766Z"
   },
   {
    "duration": 248,
    "start_time": "2024-04-05T12:46:02.779Z"
   },
   {
    "duration": 7,
    "start_time": "2024-04-05T12:46:03.029Z"
   },
   {
    "duration": 241,
    "start_time": "2024-04-05T12:46:03.038Z"
   },
   {
    "duration": 7,
    "start_time": "2024-04-05T12:46:03.281Z"
   },
   {
    "duration": 259,
    "start_time": "2024-04-05T12:46:03.290Z"
   },
   {
    "duration": 7,
    "start_time": "2024-04-05T12:46:03.551Z"
   },
   {
    "duration": 160,
    "start_time": "2024-04-05T12:46:03.572Z"
   },
   {
    "duration": 6,
    "start_time": "2024-04-05T12:46:03.734Z"
   },
   {
    "duration": 277,
    "start_time": "2024-04-05T12:46:03.741Z"
   },
   {
    "duration": 194,
    "start_time": "2024-04-05T12:46:04.019Z"
   },
   {
    "duration": 194,
    "start_time": "2024-04-05T12:46:04.215Z"
   },
   {
    "duration": 164,
    "start_time": "2024-04-05T12:46:04.411Z"
   },
   {
    "duration": 8,
    "start_time": "2024-04-05T12:46:04.576Z"
   },
   {
    "duration": 15,
    "start_time": "2024-04-05T12:46:04.586Z"
   },
   {
    "duration": 187,
    "start_time": "2024-04-05T12:46:04.603Z"
   },
   {
    "duration": 10,
    "start_time": "2024-04-05T12:47:39.927Z"
   },
   {
    "duration": 14,
    "start_time": "2024-04-05T12:48:56.863Z"
   },
   {
    "duration": 481,
    "start_time": "2024-04-06T06:37:53.217Z"
   },
   {
    "duration": 13,
    "start_time": "2024-04-06T06:37:53.700Z"
   },
   {
    "duration": 2032,
    "start_time": "2024-04-06T06:37:53.715Z"
   },
   {
    "duration": 38,
    "start_time": "2024-04-06T06:37:55.749Z"
   },
   {
    "duration": 10,
    "start_time": "2024-04-06T06:37:55.790Z"
   },
   {
    "duration": 9,
    "start_time": "2024-04-06T06:37:55.801Z"
   },
   {
    "duration": 5,
    "start_time": "2024-04-06T06:37:55.811Z"
   },
   {
    "duration": 17,
    "start_time": "2024-04-06T06:37:55.817Z"
   },
   {
    "duration": 10,
    "start_time": "2024-04-06T06:37:55.835Z"
   },
   {
    "duration": 23,
    "start_time": "2024-04-06T06:37:55.846Z"
   },
   {
    "duration": 6,
    "start_time": "2024-04-06T06:37:55.870Z"
   },
   {
    "duration": 7,
    "start_time": "2024-04-06T06:37:55.877Z"
   },
   {
    "duration": 12,
    "start_time": "2024-04-06T06:37:55.885Z"
   },
   {
    "duration": 120,
    "start_time": "2024-04-06T06:37:55.900Z"
   },
   {
    "duration": 5,
    "start_time": "2024-04-06T06:37:56.022Z"
   },
   {
    "duration": 13,
    "start_time": "2024-04-06T06:37:56.029Z"
   },
   {
    "duration": 4,
    "start_time": "2024-04-06T06:37:56.044Z"
   },
   {
    "duration": 73,
    "start_time": "2024-04-06T06:37:56.064Z"
   },
   {
    "duration": 11257,
    "start_time": "2024-04-06T06:37:56.139Z"
   },
   {
    "duration": 4,
    "start_time": "2024-04-06T06:38:07.398Z"
   },
   {
    "duration": 11,
    "start_time": "2024-04-06T06:38:07.404Z"
   },
   {
    "duration": 12,
    "start_time": "2024-04-06T06:38:07.416Z"
   },
   {
    "duration": 258,
    "start_time": "2024-04-06T06:38:07.429Z"
   },
   {
    "duration": 13,
    "start_time": "2024-04-06T06:38:07.688Z"
   },
   {
    "duration": 8,
    "start_time": "2024-04-06T06:38:07.702Z"
   },
   {
    "duration": 8,
    "start_time": "2024-04-06T06:38:07.711Z"
   },
   {
    "duration": 256,
    "start_time": "2024-04-06T06:38:07.720Z"
   },
   {
    "duration": 9,
    "start_time": "2024-04-06T06:38:07.977Z"
   },
   {
    "duration": 250,
    "start_time": "2024-04-06T06:38:07.987Z"
   },
   {
    "duration": 8,
    "start_time": "2024-04-06T06:38:08.239Z"
   },
   {
    "duration": 17,
    "start_time": "2024-04-06T06:38:08.248Z"
   },
   {
    "duration": 17,
    "start_time": "2024-04-06T06:38:08.267Z"
   },
   {
    "duration": 317,
    "start_time": "2024-04-06T06:38:08.285Z"
   },
   {
    "duration": 7,
    "start_time": "2024-04-06T06:38:08.603Z"
   },
   {
    "duration": 203,
    "start_time": "2024-04-06T06:38:08.612Z"
   },
   {
    "duration": 8,
    "start_time": "2024-04-06T06:38:08.817Z"
   },
   {
    "duration": 7,
    "start_time": "2024-04-06T06:38:08.826Z"
   },
   {
    "duration": 196,
    "start_time": "2024-04-06T06:38:08.834Z"
   },
   {
    "duration": 172,
    "start_time": "2024-04-06T06:38:09.031Z"
   },
   {
    "duration": 125,
    "start_time": "2024-04-06T06:38:09.205Z"
   },
   {
    "duration": 8,
    "start_time": "2024-04-06T06:38:09.335Z"
   },
   {
    "duration": 25,
    "start_time": "2024-04-06T06:38:09.344Z"
   },
   {
    "duration": 263,
    "start_time": "2024-04-06T06:38:09.371Z"
   },
   {
    "duration": 9,
    "start_time": "2024-04-06T06:38:09.636Z"
   },
   {
    "duration": 452,
    "start_time": "2024-04-06T06:38:09.647Z"
   },
   {
    "duration": 9,
    "start_time": "2024-04-06T06:38:10.101Z"
   },
   {
    "duration": 340,
    "start_time": "2024-04-06T06:38:10.111Z"
   },
   {
    "duration": 19,
    "start_time": "2024-04-06T06:38:10.452Z"
   },
   {
    "duration": 8,
    "start_time": "2024-04-06T06:38:10.473Z"
   },
   {
    "duration": 373,
    "start_time": "2024-04-06T06:38:10.483Z"
   },
   {
    "duration": 15,
    "start_time": "2024-04-06T06:38:10.858Z"
   },
   {
    "duration": 208,
    "start_time": "2024-04-06T06:38:10.875Z"
   },
   {
    "duration": 5,
    "start_time": "2024-04-06T06:38:11.085Z"
   },
   {
    "duration": 213,
    "start_time": "2024-04-06T06:38:11.091Z"
   },
   {
    "duration": 6,
    "start_time": "2024-04-06T06:38:11.305Z"
   },
   {
    "duration": 197,
    "start_time": "2024-04-06T06:38:11.312Z"
   },
   {
    "duration": 6,
    "start_time": "2024-04-06T06:38:11.510Z"
   },
   {
    "duration": 136,
    "start_time": "2024-04-06T06:38:11.517Z"
   },
   {
    "duration": 13,
    "start_time": "2024-04-06T06:38:11.655Z"
   },
   {
    "duration": 242,
    "start_time": "2024-04-06T06:38:11.670Z"
   },
   {
    "duration": 156,
    "start_time": "2024-04-06T06:38:11.913Z"
   },
   {
    "duration": 153,
    "start_time": "2024-04-06T06:38:12.071Z"
   },
   {
    "duration": 157,
    "start_time": "2024-04-06T06:38:12.226Z"
   },
   {
    "duration": 10,
    "start_time": "2024-04-06T06:38:12.385Z"
   },
   {
    "duration": 14,
    "start_time": "2024-04-06T06:38:12.397Z"
   },
   {
    "duration": 165,
    "start_time": "2024-04-06T06:38:12.413Z"
   },
   {
    "duration": 14,
    "start_time": "2024-04-06T06:55:49.488Z"
   },
   {
    "duration": 548,
    "start_time": "2024-04-06T07:06:33.003Z"
   },
   {
    "duration": 15,
    "start_time": "2024-04-06T07:06:33.553Z"
   },
   {
    "duration": 2090,
    "start_time": "2024-04-06T07:06:33.569Z"
   },
   {
    "duration": 23,
    "start_time": "2024-04-06T07:06:35.666Z"
   },
   {
    "duration": 9,
    "start_time": "2024-04-06T07:06:35.690Z"
   },
   {
    "duration": 8,
    "start_time": "2024-04-06T07:06:35.700Z"
   },
   {
    "duration": 4,
    "start_time": "2024-04-06T07:06:35.709Z"
   },
   {
    "duration": 15,
    "start_time": "2024-04-06T07:06:35.714Z"
   },
   {
    "duration": 9,
    "start_time": "2024-04-06T07:06:35.730Z"
   },
   {
    "duration": 31,
    "start_time": "2024-04-06T07:06:35.741Z"
   },
   {
    "duration": 6,
    "start_time": "2024-04-06T07:06:35.774Z"
   },
   {
    "duration": 15,
    "start_time": "2024-04-06T07:06:35.781Z"
   },
   {
    "duration": 25,
    "start_time": "2024-04-06T07:06:35.798Z"
   },
   {
    "duration": 91,
    "start_time": "2024-04-06T07:06:35.824Z"
   },
   {
    "duration": 6,
    "start_time": "2024-04-06T07:06:35.917Z"
   },
   {
    "duration": 25,
    "start_time": "2024-04-06T07:06:35.925Z"
   },
   {
    "duration": 5,
    "start_time": "2024-04-06T07:06:35.951Z"
   },
   {
    "duration": 86,
    "start_time": "2024-04-06T07:06:35.965Z"
   },
   {
    "duration": 11361,
    "start_time": "2024-04-06T07:06:36.053Z"
   },
   {
    "duration": 4,
    "start_time": "2024-04-06T07:06:47.416Z"
   },
   {
    "duration": 25,
    "start_time": "2024-04-06T07:06:47.422Z"
   },
   {
    "duration": 18,
    "start_time": "2024-04-06T07:06:47.449Z"
   },
   {
    "duration": 249,
    "start_time": "2024-04-06T07:06:47.469Z"
   },
   {
    "duration": 11,
    "start_time": "2024-04-06T07:06:47.720Z"
   },
   {
    "duration": 8,
    "start_time": "2024-04-06T07:06:47.733Z"
   },
   {
    "duration": 26,
    "start_time": "2024-04-06T07:06:47.743Z"
   },
   {
    "duration": 252,
    "start_time": "2024-04-06T07:06:47.771Z"
   },
   {
    "duration": 8,
    "start_time": "2024-04-06T07:06:48.027Z"
   },
   {
    "duration": 232,
    "start_time": "2024-04-06T07:06:48.036Z"
   },
   {
    "duration": 8,
    "start_time": "2024-04-06T07:06:48.270Z"
   },
   {
    "duration": 5,
    "start_time": "2024-04-06T07:06:48.280Z"
   },
   {
    "duration": 13,
    "start_time": "2024-04-06T07:06:48.287Z"
   },
   {
    "duration": 317,
    "start_time": "2024-04-06T07:06:48.301Z"
   },
   {
    "duration": 8,
    "start_time": "2024-04-06T07:06:48.620Z"
   },
   {
    "duration": 197,
    "start_time": "2024-04-06T07:06:48.640Z"
   },
   {
    "duration": 9,
    "start_time": "2024-04-06T07:06:48.839Z"
   },
   {
    "duration": 22,
    "start_time": "2024-04-06T07:06:48.850Z"
   },
   {
    "duration": 201,
    "start_time": "2024-04-06T07:06:48.874Z"
   },
   {
    "duration": 179,
    "start_time": "2024-04-06T07:06:49.077Z"
   },
   {
    "duration": 125,
    "start_time": "2024-04-06T07:06:49.258Z"
   },
   {
    "duration": 8,
    "start_time": "2024-04-06T07:06:49.384Z"
   },
   {
    "duration": 6,
    "start_time": "2024-04-06T07:06:49.393Z"
   },
   {
    "duration": 237,
    "start_time": "2024-04-06T07:06:49.401Z"
   },
   {
    "duration": 9,
    "start_time": "2024-04-06T07:06:49.639Z"
   },
   {
    "duration": 449,
    "start_time": "2024-04-06T07:06:49.650Z"
   },
   {
    "duration": 10,
    "start_time": "2024-04-06T07:06:50.100Z"
   },
   {
    "duration": 359,
    "start_time": "2024-04-06T07:06:50.111Z"
   },
   {
    "duration": 15,
    "start_time": "2024-04-06T07:06:50.472Z"
   },
   {
    "duration": 8,
    "start_time": "2024-04-06T07:06:50.489Z"
   },
   {
    "duration": 367,
    "start_time": "2024-04-06T07:06:50.498Z"
   },
   {
    "duration": 11,
    "start_time": "2024-04-06T07:06:50.866Z"
   },
   {
    "duration": 204,
    "start_time": "2024-04-06T07:06:50.879Z"
   },
   {
    "duration": 5,
    "start_time": "2024-04-06T07:06:51.085Z"
   },
   {
    "duration": 193,
    "start_time": "2024-04-06T07:06:51.091Z"
   },
   {
    "duration": 5,
    "start_time": "2024-04-06T07:06:51.285Z"
   },
   {
    "duration": 193,
    "start_time": "2024-04-06T07:06:51.292Z"
   },
   {
    "duration": 5,
    "start_time": "2024-04-06T07:06:51.487Z"
   },
   {
    "duration": 132,
    "start_time": "2024-04-06T07:06:51.493Z"
   },
   {
    "duration": 5,
    "start_time": "2024-04-06T07:06:51.629Z"
   },
   {
    "duration": 271,
    "start_time": "2024-04-06T07:06:51.635Z"
   },
   {
    "duration": 164,
    "start_time": "2024-04-06T07:06:51.907Z"
   },
   {
    "duration": 169,
    "start_time": "2024-04-06T07:06:52.072Z"
   },
   {
    "duration": 152,
    "start_time": "2024-04-06T07:06:52.242Z"
   },
   {
    "duration": 8,
    "start_time": "2024-04-06T07:06:52.395Z"
   },
   {
    "duration": 14,
    "start_time": "2024-04-06T07:06:52.404Z"
   },
   {
    "duration": 170,
    "start_time": "2024-04-06T07:06:52.419Z"
   },
   {
    "duration": 53,
    "start_time": "2024-04-07T11:15:54.032Z"
   },
   {
    "duration": 1094,
    "start_time": "2024-04-07T11:15:58.814Z"
   },
   {
    "duration": 2020,
    "start_time": "2024-04-07T11:16:02.632Z"
   },
   {
    "duration": 265,
    "start_time": "2024-04-07T11:16:27.551Z"
   },
   {
    "duration": 58,
    "start_time": "2024-04-07T11:16:41.561Z"
   },
   {
    "duration": 837,
    "start_time": "2024-04-07T11:17:45.333Z"
   },
   {
    "duration": 14,
    "start_time": "2024-04-07T11:17:46.172Z"
   },
   {
    "duration": 2069,
    "start_time": "2024-04-07T11:17:46.187Z"
   },
   {
    "duration": 24,
    "start_time": "2024-04-07T11:17:48.258Z"
   },
   {
    "duration": 14,
    "start_time": "2024-04-07T11:17:48.284Z"
   },
   {
    "duration": 9,
    "start_time": "2024-04-07T11:17:48.299Z"
   },
   {
    "duration": 8,
    "start_time": "2024-04-07T11:17:48.310Z"
   },
   {
    "duration": 11,
    "start_time": "2024-04-07T11:17:48.320Z"
   },
   {
    "duration": 25,
    "start_time": "2024-04-07T11:17:48.332Z"
   },
   {
    "duration": 9,
    "start_time": "2024-04-07T11:17:48.360Z"
   },
   {
    "duration": 12,
    "start_time": "2024-04-07T11:17:48.370Z"
   },
   {
    "duration": 4,
    "start_time": "2024-04-07T11:17:48.383Z"
   },
   {
    "duration": 13,
    "start_time": "2024-04-07T11:17:48.388Z"
   },
   {
    "duration": 115,
    "start_time": "2024-04-07T11:17:48.402Z"
   },
   {
    "duration": 5,
    "start_time": "2024-04-07T11:17:48.519Z"
   },
   {
    "duration": 14,
    "start_time": "2024-04-07T11:17:48.525Z"
   },
   {
    "duration": 4,
    "start_time": "2024-04-07T11:17:48.555Z"
   },
   {
    "duration": 76,
    "start_time": "2024-04-07T11:17:48.561Z"
   },
   {
    "duration": 11925,
    "start_time": "2024-04-07T11:17:48.639Z"
   },
   {
    "duration": 4,
    "start_time": "2024-04-07T11:18:00.566Z"
   },
   {
    "duration": 99,
    "start_time": "2024-04-07T11:18:00.571Z"
   },
   {
    "duration": 30,
    "start_time": "2024-04-07T11:18:00.672Z"
   },
   {
    "duration": 281,
    "start_time": "2024-04-07T11:18:00.703Z"
   },
   {
    "duration": 13,
    "start_time": "2024-04-07T11:18:00.985Z"
   },
   {
    "duration": 58,
    "start_time": "2024-04-07T11:18:01.000Z"
   },
   {
    "duration": 110,
    "start_time": "2024-04-07T11:18:01.059Z"
   },
   {
    "duration": 283,
    "start_time": "2024-04-07T11:18:01.171Z"
   },
   {
    "duration": 9,
    "start_time": "2024-04-07T11:18:01.458Z"
   },
   {
    "duration": 267,
    "start_time": "2024-04-07T11:18:01.469Z"
   },
   {
    "duration": 9,
    "start_time": "2024-04-07T11:18:01.737Z"
   },
   {
    "duration": 43,
    "start_time": "2024-04-07T11:18:01.755Z"
   },
   {
    "duration": 48,
    "start_time": "2024-04-07T11:18:01.800Z"
   },
   {
    "duration": 379,
    "start_time": "2024-04-07T11:18:01.849Z"
   },
   {
    "duration": 9,
    "start_time": "2024-04-07T11:18:02.230Z"
   },
   {
    "duration": 287,
    "start_time": "2024-04-07T11:18:02.240Z"
   },
   {
    "duration": 10,
    "start_time": "2024-04-07T11:18:02.529Z"
   },
   {
    "duration": 26,
    "start_time": "2024-04-07T11:18:02.540Z"
   },
   {
    "duration": 213,
    "start_time": "2024-04-07T11:18:02.567Z"
   },
   {
    "duration": 182,
    "start_time": "2024-04-07T11:18:02.781Z"
   },
   {
    "duration": 134,
    "start_time": "2024-04-07T11:18:02.965Z"
   },
   {
    "duration": 9,
    "start_time": "2024-04-07T11:18:03.101Z"
   },
   {
    "duration": 15,
    "start_time": "2024-04-07T11:18:03.112Z"
   },
   {
    "duration": 243,
    "start_time": "2024-04-07T11:18:03.129Z"
   },
   {
    "duration": 11,
    "start_time": "2024-04-07T11:18:03.374Z"
   },
   {
    "duration": 454,
    "start_time": "2024-04-07T11:18:03.386Z"
   },
   {
    "duration": 14,
    "start_time": "2024-04-07T11:18:03.842Z"
   },
   {
    "duration": 360,
    "start_time": "2024-04-07T11:18:03.858Z"
   },
   {
    "duration": 16,
    "start_time": "2024-04-07T11:18:04.220Z"
   },
   {
    "duration": 24,
    "start_time": "2024-04-07T11:18:04.238Z"
   },
   {
    "duration": 395,
    "start_time": "2024-04-07T11:18:04.263Z"
   },
   {
    "duration": 12,
    "start_time": "2024-04-07T11:18:04.660Z"
   },
   {
    "duration": 225,
    "start_time": "2024-04-07T11:18:04.674Z"
   },
   {
    "duration": 5,
    "start_time": "2024-04-07T11:18:04.901Z"
   },
   {
    "duration": 217,
    "start_time": "2024-04-07T11:18:04.908Z"
   },
   {
    "duration": 5,
    "start_time": "2024-04-07T11:18:05.127Z"
   },
   {
    "duration": 227,
    "start_time": "2024-04-07T11:18:05.134Z"
   },
   {
    "duration": 6,
    "start_time": "2024-04-07T11:18:05.362Z"
   },
   {
    "duration": 135,
    "start_time": "2024-04-07T11:18:05.369Z"
   },
   {
    "duration": 5,
    "start_time": "2024-04-07T11:18:05.505Z"
   },
   {
    "duration": 205,
    "start_time": "2024-04-07T11:18:05.512Z"
   },
   {
    "duration": 163,
    "start_time": "2024-04-07T11:18:05.719Z"
   },
   {
    "duration": 178,
    "start_time": "2024-04-07T11:18:05.883Z"
   },
   {
    "duration": 158,
    "start_time": "2024-04-07T11:18:06.063Z"
   },
   {
    "duration": 8,
    "start_time": "2024-04-07T11:18:06.223Z"
   },
   {
    "duration": 47,
    "start_time": "2024-04-07T11:18:06.232Z"
   },
   {
    "duration": 143,
    "start_time": "2024-04-07T11:18:06.281Z"
   },
   {
    "duration": 44,
    "start_time": "2024-04-12T20:43:05.789Z"
   },
   {
    "duration": 1114,
    "start_time": "2024-04-12T20:43:15.421Z"
   },
   {
    "duration": 16,
    "start_time": "2024-04-12T20:43:20.735Z"
   },
   {
    "duration": 9,
    "start_time": "2024-04-12T20:43:46.955Z"
   },
   {
    "duration": 41,
    "start_time": "2024-04-13T08:23:05.751Z"
   },
   {
    "duration": 987,
    "start_time": "2024-04-13T08:23:14.685Z"
   },
   {
    "duration": 12,
    "start_time": "2024-04-13T08:23:15.674Z"
   },
   {
    "duration": 1569,
    "start_time": "2024-04-13T08:23:15.687Z"
   },
   {
    "duration": 21,
    "start_time": "2024-04-13T08:23:17.258Z"
   },
   {
    "duration": 7,
    "start_time": "2024-04-13T08:23:17.281Z"
   },
   {
    "duration": 9,
    "start_time": "2024-04-13T08:23:17.289Z"
   },
   {
    "duration": 4,
    "start_time": "2024-04-13T08:23:17.299Z"
   },
   {
    "duration": 9,
    "start_time": "2024-04-13T08:23:17.304Z"
   },
   {
    "duration": 8,
    "start_time": "2024-04-13T08:23:17.314Z"
   },
   {
    "duration": 20,
    "start_time": "2024-04-13T08:23:17.324Z"
   },
   {
    "duration": 7,
    "start_time": "2024-04-13T08:23:17.345Z"
   },
   {
    "duration": 5,
    "start_time": "2024-04-13T08:23:17.353Z"
   },
   {
    "duration": 12,
    "start_time": "2024-04-13T08:23:17.360Z"
   },
   {
    "duration": 83,
    "start_time": "2024-04-13T08:23:17.374Z"
   },
   {
    "duration": 5,
    "start_time": "2024-04-13T08:23:17.458Z"
   },
   {
    "duration": 34,
    "start_time": "2024-04-13T08:23:17.464Z"
   },
   {
    "duration": 14,
    "start_time": "2024-04-13T08:23:17.500Z"
   },
   {
    "duration": 67,
    "start_time": "2024-04-13T08:23:17.516Z"
   },
   {
    "duration": 10123,
    "start_time": "2024-04-13T08:23:17.584Z"
   },
   {
    "duration": 4,
    "start_time": "2024-04-13T08:23:27.708Z"
   },
   {
    "duration": 10,
    "start_time": "2024-04-13T08:23:27.713Z"
   },
   {
    "duration": 11,
    "start_time": "2024-04-13T08:23:27.724Z"
   },
   {
    "duration": 197,
    "start_time": "2024-04-13T08:23:27.736Z"
   },
   {
    "duration": 10,
    "start_time": "2024-04-13T08:23:27.935Z"
   },
   {
    "duration": 15,
    "start_time": "2024-04-13T08:23:27.946Z"
   },
   {
    "duration": 6,
    "start_time": "2024-04-13T08:23:27.962Z"
   },
   {
    "duration": 187,
    "start_time": "2024-04-13T08:23:27.969Z"
   },
   {
    "duration": 7,
    "start_time": "2024-04-13T08:23:28.160Z"
   },
   {
    "duration": 264,
    "start_time": "2024-04-13T08:23:28.169Z"
   },
   {
    "duration": 7,
    "start_time": "2024-04-13T08:23:28.434Z"
   },
   {
    "duration": 13,
    "start_time": "2024-04-13T08:23:28.442Z"
   },
   {
    "duration": 20,
    "start_time": "2024-04-13T08:23:28.457Z"
   },
   {
    "duration": 181,
    "start_time": "2024-04-13T08:23:28.478Z"
   },
   {
    "duration": 7,
    "start_time": "2024-04-13T08:23:28.660Z"
   },
   {
    "duration": 156,
    "start_time": "2024-04-13T08:23:28.668Z"
   },
   {
    "duration": 7,
    "start_time": "2024-04-13T08:23:28.826Z"
   },
   {
    "duration": 9,
    "start_time": "2024-04-13T08:23:28.834Z"
   },
   {
    "duration": 155,
    "start_time": "2024-04-13T08:23:28.844Z"
   },
   {
    "duration": 141,
    "start_time": "2024-04-13T08:23:29.000Z"
   },
   {
    "duration": 108,
    "start_time": "2024-04-13T08:23:29.142Z"
   },
   {
    "duration": 6,
    "start_time": "2024-04-13T08:23:29.251Z"
   },
   {
    "duration": 33,
    "start_time": "2024-04-13T08:23:29.258Z"
   },
   {
    "duration": 189,
    "start_time": "2024-04-13T08:23:29.292Z"
   },
   {
    "duration": 8,
    "start_time": "2024-04-13T08:23:29.482Z"
   },
   {
    "duration": 341,
    "start_time": "2024-04-13T08:23:29.491Z"
   },
   {
    "duration": 10,
    "start_time": "2024-04-13T08:23:29.833Z"
   },
   {
    "duration": 273,
    "start_time": "2024-04-13T08:23:29.846Z"
   },
   {
    "duration": 13,
    "start_time": "2024-04-13T08:23:30.120Z"
   },
   {
    "duration": 34,
    "start_time": "2024-04-13T08:23:30.135Z"
   },
   {
    "duration": 339,
    "start_time": "2024-04-13T08:23:30.170Z"
   },
   {
    "duration": 10,
    "start_time": "2024-04-13T08:23:30.510Z"
   },
   {
    "duration": 194,
    "start_time": "2024-04-13T08:23:30.521Z"
   },
   {
    "duration": 4,
    "start_time": "2024-04-13T08:23:30.716Z"
   },
   {
    "duration": 186,
    "start_time": "2024-04-13T08:23:30.721Z"
   },
   {
    "duration": 4,
    "start_time": "2024-04-13T08:23:30.909Z"
   },
   {
    "duration": 229,
    "start_time": "2024-04-13T08:23:30.914Z"
   },
   {
    "duration": 4,
    "start_time": "2024-04-13T08:23:31.144Z"
   },
   {
    "duration": 218,
    "start_time": "2024-04-13T08:23:31.149Z"
   },
   {
    "duration": 4,
    "start_time": "2024-04-13T08:23:31.368Z"
   },
   {
    "duration": 149,
    "start_time": "2024-04-13T08:23:31.373Z"
   },
   {
    "duration": 118,
    "start_time": "2024-04-13T08:23:31.523Z"
   },
   {
    "duration": 129,
    "start_time": "2024-04-13T08:23:31.642Z"
   },
   {
    "duration": 124,
    "start_time": "2024-04-13T08:23:31.772Z"
   },
   {
    "duration": 6,
    "start_time": "2024-04-13T08:23:31.898Z"
   },
   {
    "duration": 35,
    "start_time": "2024-04-13T08:23:31.905Z"
   },
   {
    "duration": 146,
    "start_time": "2024-04-13T08:23:31.941Z"
   },
   {
    "duration": 14,
    "start_time": "2024-04-13T08:23:32.088Z"
   }
  ],
  "colab": {
   "provenance": []
  },
  "kernelspec": {
   "display_name": "Python 3 (ipykernel)",
   "language": "python",
   "name": "python3"
  },
  "language_info": {
   "codemirror_mode": {
    "name": "ipython",
    "version": 3
   },
   "file_extension": ".py",
   "mimetype": "text/x-python",
   "name": "python",
   "nbconvert_exporter": "python",
   "pygments_lexer": "ipython3",
   "version": "3.11.7"
  },
  "toc": {
   "base_numbering": 1,
   "nav_menu": {},
   "number_sections": true,
   "sideBar": true,
   "skip_h1_title": true,
   "title_cell": "Table of Contents",
   "title_sidebar": "Contents",
   "toc_cell": false,
   "toc_position": {
    "height": "calc(100% - 180px)",
    "left": "10px",
    "top": "150px",
    "width": "403.368px"
   },
   "toc_section_display": true,
   "toc_window_display": false
  }
 },
 "nbformat": 4,
 "nbformat_minor": 4
}
